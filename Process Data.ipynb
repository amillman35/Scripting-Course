{
 "cells": [
  {
   "cell_type": "code",
   "execution_count": 94,
   "metadata": {
    "collapsed": true
   },
   "outputs": [],
   "source": [
    "import glob\n",
    "import nbconvert\n",
    "import os\n",
    "import pandas as pd"
   ]
  },
  {
   "cell_type": "code",
   "execution_count": 175,
   "metadata": {},
   "outputs": [],
   "source": [
    "htmlpath = \"http://www.porganized.com/Scripting-Course/slides/%s\"\n",
    "labloc = \"https://github.com/organisciak/Scripting-Course/blob/master/labs/%s\""
   ]
  },
  {
   "cell_type": "code",
   "execution_count": 176,
   "metadata": {},
   "outputs": [],
   "source": [
    "# Process Slides\n",
    "slides = glob.glob('slides/*.ipynb')\n",
    "\n",
    "slides_exporter = nbconvert.SlidesExporter()\n",
    "md_exporter = nbconvert.MarkdownExporter()\n",
    "slides_exporter.reveal_url_prefix = '../reveal.js/'\n",
    "\n",
    "for slide in slides:\n",
    "    path, filename = os.path.split(slide)\n",
    "    name, ext = os.path.splitext(filename)\n",
    "    \n",
    "    # Export Reveal.js slides\n",
    "    slidepath = os.path.join('slides', name + '.html')\n",
    "    (html, resources) = slides_exporter.from_filename(slide)\n",
    "    with open(slidepath, mode='w') as f:\n",
    "        f.write(html)\n",
    "        \n",
    "    # Save Markdown of slides, with a link to the Reveal.js version\n",
    "    mdpath = os.path.join('slides', name + '.md')\n",
    "    htmlslidepath = htmlpath % (name + '.html')\n",
    "    (md, resources) = md_exporter.from_filename(slide)\n",
    "    newmd = (\"_[Link to Slides](%s)_\\n\\n\" % htmlslidepath) + md\n",
    "    \n",
    "    with open(mdpath, mode='w') as f:\n",
    "        f.write(newmd)"
   ]
  },
  {
   "cell_type": "code",
   "execution_count": 177,
   "metadata": {},
   "outputs": [],
   "source": [
    "# Export Markdown for all labs\n",
    "labs = glob.glob('labs/*.ipynb')\n",
    "\n",
    "for lab in labs:\n",
    "    path, filename = os.path.split(lab)\n",
    "    name, ext = os.path.splitext(filename)\n",
    "    mdpath = os.path.join('labs', name + '.md').replace(' ', '_')\n",
    "    (md, resources) = md_exporter.from_filename(lab)\n",
    "    labpath = labloc % (name.replace(\" \", \"%20\") + '.ipynb')\n",
    "    newmd = (\"_[Link to Notebook Version of Lab](%s)_\\n\\n\" % labpath) + md\n",
    "    with open(mdpath, mode='w') as f:\n",
    "        f.write(newmd)"
   ]
  },
  {
   "cell_type": "code",
   "execution_count": 181,
   "metadata": {},
   "outputs": [
    {
     "name": "stdout",
     "output_type": "stream",
     "text": [
      "* Week 1\n",
      "   * [Slides: Introduction](slides/01-introduction.md)\n",
      "   * [Lab:  Getting Started](labs/01_-_Getting_Started.md)\n"
     ]
    }
   ],
   "source": [
    "allfiles = []\n",
    "slidemds = glob.glob('slides/*.md')\n",
    "labmds = glob.glob('labs/*.md')\n",
    "\n",
    "def get_week(filepath):\n",
    "    path, filename = os.path.split(filepath)\n",
    "    weekstr = filename.split('-')[0].split('_')[0]\n",
    "    return int(weekstr)\n",
    "\n",
    "def pretty_name(filepath):\n",
    "    path, filename = os.path.split(filepath)\n",
    "    name, ext = os.path.splitext(filename)\n",
    "    name = (name.split('-')[1]\n",
    "                .strip()\n",
    "                .replace('_', ' ')\n",
    "                .replace('-',' ')\n",
    "                .title()\n",
    "           )\n",
    "    return name\n",
    "\n",
    "def format_filename(filepath):\n",
    "    return filepath.replace(' ','%20').replace('\\\\', '/')\n",
    "\n",
    "allfiles += [(get_week(md), 1, pretty_name(md), 'slides', format_filename(md)) for md in slidemds]\n",
    "allfiles += [(get_week(md), 2, pretty_name(md), 'lab', format_filename(md)) for md in labmds]\n",
    "\n",
    "bookfiles = (pd.DataFrame(allfiles, columns=['week', 'priority', 'pretty_name', 'type', 'filename'])\n",
    "               .sort_values(['week', 'priority'])\n",
    "            )\n",
    "bookfiles['link'] = '[' + bookfiles.type.str.title() + ': ' + bookfiles.pretty_name + '](' + bookfiles.filename + ')'\n",
    "\n",
    "for week, row in bookfiles.groupby('week').link:\n",
    "    print(\"* Week %d\" % week)\n",
    "    links = (\"   * \" + row).tolist()\n",
    "    print(\"\\n\".join(links))"
   ]
  }
 ],
 "metadata": {
  "kernelspec": {
   "display_name": "Python 3",
   "language": "python",
   "name": "python3"
  },
  "language_info": {
   "codemirror_mode": {
    "name": "ipython",
    "version": 3
   },
   "file_extension": ".py",
   "mimetype": "text/x-python",
   "name": "python",
   "nbconvert_exporter": "python",
   "pygments_lexer": "ipython3",
   "version": "3.6.1"
  }
 },
 "nbformat": 4,
 "nbformat_minor": 2
}
