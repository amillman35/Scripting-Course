{
 "cells": [
  {
   "cell_type": "markdown",
   "metadata": {
    "slideshow": {
     "slide_type": "slide"
    }
   },
   "source": [
    "# Regular Expressions"
   ]
  },
  {
   "cell_type": "markdown",
   "metadata": {
    "slideshow": {
     "slide_type": "subslide"
    }
   },
   "source": [
    "## Announcements"
   ]
  },
  {
   "cell_type": "markdown",
   "metadata": {
    "slideshow": {
     "slide_type": "subslide"
    }
   },
   "source": [
    "## Review"
   ]
  },
  {
   "cell_type": "markdown",
   "metadata": {
    "slideshow": {
     "slide_type": "subslide"
    }
   },
   "source": [
    "## Looking Back\n",
    "\n",
    "*You're killing it!*"
   ]
  },
  {
   "cell_type": "markdown",
   "metadata": {
    "slideshow": {
     "slide_type": "fragment"
    }
   },
   "source": [
    "- SQL, Relational Databases\n",
    "   - Selecting, sorting, limiting, joins\n",
    "   - Using SQLite in Jupyter with `%sql`"
   ]
  },
  {
   "cell_type": "markdown",
   "metadata": {
    "slideshow": {
     "slide_type": "fragment"
    }
   },
   "source": [
    "- Data manipulation with Pandas\n",
    "   - DataFrames and Series's\n",
    "   - Import/Exporting to SQL\n",
    "   - Pulling tables from web\n",
    "   - Selection, sorting, counting"
   ]
  },
  {
   "cell_type": "markdown",
   "metadata": {
    "slideshow": {
     "slide_type": "fragment"
    }
   },
   "source": [
    "- Split-Apply-Combine\n",
    "   - Groupby in Pandas"
   ]
  },
  {
   "cell_type": "markdown",
   "metadata": {
    "slideshow": {
     "slide_type": "subslide"
    }
   },
   "source": [
    "- Visualization"
   ]
  },
  {
   "cell_type": "markdown",
   "metadata": {
    "slideshow": {
     "slide_type": "fragment"
    }
   },
   "source": [
    "- Semi-Structured data in MongoDB\n",
    "    - JSON\n",
    "    - selection, sorting\n",
    "    - Aggregations\n",
    "    - MapReduce concepts"
   ]
  },
  {
   "cell_type": "markdown",
   "metadata": {
    "slideshow": {
     "slide_type": "fragment"
    }
   },
   "source": [
    "- String pattern matching and extraction with regular expressions"
   ]
  },
  {
   "cell_type": "markdown",
   "metadata": {},
   "source": [
    "- Next week\n",
    "    - Advanced Pandas (rolling, dates)\n",
    "    - Web scraping"
   ]
  },
  {
   "cell_type": "markdown",
   "metadata": {
    "slideshow": {
     "slide_type": "subslide"
    }
   },
   "source": [
    "## Final Project Updates"
   ]
  },
  {
   "cell_type": "markdown",
   "metadata": {
    "slideshow": {
     "slide_type": "slide"
    }
   },
   "source": [
    "## <center>Regular Expressions</center>\n",
    "### <center>aka *regex*</center>"
   ]
  },
  {
   "cell_type": "markdown",
   "metadata": {
    "slideshow": {
     "slide_type": "subslide"
    }
   },
   "source": [
    "### Overview\n",
    "\n",
    "Regular Expressions help you work with strings"
   ]
  },
  {
   "cell_type": "markdown",
   "metadata": {
    "slideshow": {
     "slide_type": "fragment"
    }
   },
   "source": [
    "*Pattern Matching*\n",
    "\n",
    "e.g. Find all phone numbers on a web page"
   ]
  },
  {
   "cell_type": "markdown",
   "metadata": {
    "slideshow": {
     "slide_type": "fragment"
    }
   },
   "source": [
    "*Manipulation*\n",
    "\n",
    "e.g. Match \"{Lastname}, {Firstname}\" in a set of records and rewrite it as \"{Firstname} {Lastname}\""
   ]
  },
  {
   "cell_type": "markdown",
   "metadata": {
    "slideshow": {
     "slide_type": "subslide"
    }
   },
   "source": [
    "## Why?\n",
    "\n",
    "- Checking whether an input is valid (i.e. password, phone number, email, etc.)\n",
    "- Cleaning data\n",
    "- More complex data subsetting\n",
    "- Working with user inputs or other unstructured data"
   ]
  },
  {
   "cell_type": "markdown",
   "metadata": {
    "slideshow": {
     "slide_type": "subslide"
    }
   },
   "source": [
    "### Q: Where can you use regular expressions?"
   ]
  },
  {
   "cell_type": "markdown",
   "metadata": {
    "slideshow": {
     "slide_type": "fragment"
    }
   },
   "source": [
    "### A: Many, many places!"
   ]
  },
  {
   "cell_type": "markdown",
   "metadata": {
    "slideshow": {
     "slide_type": "subslide"
    }
   },
   "source": [
    "## In Python"
   ]
  },
  {
   "cell_type": "code",
   "execution_count": 1,
   "metadata": {},
   "outputs": [],
   "source": [
    "import re\n",
    "comment = \"It was a dark and stormy night.\""
   ]
  },
  {
   "cell_type": "markdown",
   "metadata": {
    "slideshow": {
     "slide_type": "fragment"
    }
   },
   "source": [
    "Find a simple string:"
   ]
  },
  {
   "cell_type": "code",
   "execution_count": 2,
   "metadata": {},
   "outputs": [
    {
     "data": {
      "text/plain": [
       "['dark']"
      ]
     },
     "execution_count": 2,
     "metadata": {},
     "output_type": "execute_result"
    }
   ],
   "source": [
    "re.findall('dark', comment)"
   ]
  },
  {
   "cell_type": "markdown",
   "metadata": {
    "slideshow": {
     "slide_type": "fragment"
    }
   },
   "source": [
    "Find all sequences of one or more word characters:"
   ]
  },
  {
   "cell_type": "code",
   "execution_count": 3,
   "metadata": {},
   "outputs": [
    {
     "data": {
      "text/plain": [
       "['It', 'was', 'a', 'dark', 'and', 'stormy', 'night']"
      ]
     },
     "execution_count": 3,
     "metadata": {},
     "output_type": "execute_result"
    }
   ],
   "source": [
    "re.findall('\\w+', comment)"
   ]
  },
  {
   "cell_type": "markdown",
   "metadata": {
    "slideshow": {
     "slide_type": "subslide"
    }
   },
   "source": [
    "## In SQL\n",
    "\n",
    "SQLite doesn't support it, but..."
   ]
  },
  {
   "cell_type": "markdown",
   "metadata": {
    "slideshow": {
     "slide_type": "fragment"
    }
   },
   "source": [
    "**MySQL**\n",
    "\n",
    "Select columns that match alphanumeric characters only:\n",
    "\n",
    "```\n",
    "SELECT * FROM table WHERE column REGEXP '^[A-Za-z0-9]+$';\n",
    "```\n",
    "\n",
    "**Postgresql**\n",
    "\n",
    "Match strings that include foo, bar, or baz:\n",
    "\n",
    "```\n",
    "SELECT * FROM table WHERE value ~ 'foo|bar|baz';\n",
    "```"
   ]
  },
  {
   "cell_type": "markdown",
   "metadata": {
    "slideshow": {
     "slide_type": "subslide"
    }
   },
   "source": [
    "## In Pandas"
   ]
  },
  {
   "cell_type": "code",
   "execution_count": 4,
   "metadata": {},
   "outputs": [
    {
     "data": {
      "text/html": [
       "<div>\n",
       "<style scoped>\n",
       "    .dataframe tbody tr th:only-of-type {\n",
       "        vertical-align: middle;\n",
       "    }\n",
       "\n",
       "    .dataframe tbody tr th {\n",
       "        vertical-align: top;\n",
       "    }\n",
       "\n",
       "    .dataframe thead th {\n",
       "        text-align: right;\n",
       "    }\n",
       "</style>\n",
       "<table border=\"1\" class=\"dataframe\">\n",
       "  <thead>\n",
       "    <tr style=\"text-align: right;\">\n",
       "      <th></th>\n",
       "      <th>userId</th>\n",
       "      <th>rating</th>\n",
       "      <th>title</th>\n",
       "      <th>genres</th>\n",
       "      <th>timestamp</th>\n",
       "      <th>year</th>\n",
       "    </tr>\n",
       "  </thead>\n",
       "  <tbody>\n",
       "    <tr>\n",
       "      <th>52455</th>\n",
       "      <td>150</td>\n",
       "      <td>2.5</td>\n",
       "      <td>Deep Blue Sea</td>\n",
       "      <td>Action</td>\n",
       "      <td>1114308289</td>\n",
       "      <td>1999</td>\n",
       "    </tr>\n",
       "  </tbody>\n",
       "</table>\n",
       "</div>"
      ],
      "text/plain": [
       "       userId  rating          title  genres   timestamp  year\n",
       "52455     150     2.5  Deep Blue Sea  Action  1114308289  1999"
      ]
     },
     "execution_count": 4,
     "metadata": {},
     "output_type": "execute_result"
    }
   ],
   "source": [
    "import pandas as pd\n",
    "movies = pd.read_csv('https://raw.githubusercontent.com/organisciak/Scripting-Course/master/data/movielens_small.csv')\n",
    "movies.sample()"
   ]
  },
  {
   "cell_type": "markdown",
   "metadata": {
    "slideshow": {
     "slide_type": "subslide"
    }
   },
   "source": [
    "Find movies where there is a digit (`\\d`) right before the end of the string (`$`):"
   ]
  },
  {
   "cell_type": "code",
   "execution_count": 64,
   "metadata": {
    "slideshow": {
     "slide_type": "fragment"
    }
   },
   "outputs": [
    {
     "data": {
      "text/html": [
       "<div>\n",
       "<style scoped>\n",
       "    .dataframe tbody tr th:only-of-type {\n",
       "        vertical-align: middle;\n",
       "    }\n",
       "\n",
       "    .dataframe tbody tr th {\n",
       "        vertical-align: top;\n",
       "    }\n",
       "\n",
       "    .dataframe thead th {\n",
       "        text-align: right;\n",
       "    }\n",
       "</style>\n",
       "<table border=\"1\" class=\"dataframe\">\n",
       "  <thead>\n",
       "    <tr style=\"text-align: right;\">\n",
       "      <th></th>\n",
       "      <th>userId</th>\n",
       "      <th>rating</th>\n",
       "      <th>title</th>\n",
       "      <th>genres</th>\n",
       "      <th>timestamp</th>\n",
       "      <th>year</th>\n",
       "    </tr>\n",
       "  </thead>\n",
       "  <tbody>\n",
       "    <tr>\n",
       "      <th>73693</th>\n",
       "      <td>654</td>\n",
       "      <td>4.0</td>\n",
       "      <td>Predator 2</td>\n",
       "      <td>Action</td>\n",
       "      <td>1145393723</td>\n",
       "      <td>1990</td>\n",
       "    </tr>\n",
       "    <tr>\n",
       "      <th>97753</th>\n",
       "      <td>452</td>\n",
       "      <td>1.0</td>\n",
       "      <td>Smokey and the Bandit III</td>\n",
       "      <td>Action</td>\n",
       "      <td>1016590031</td>\n",
       "      <td>1983</td>\n",
       "    </tr>\n",
       "    <tr>\n",
       "      <th>47841</th>\n",
       "      <td>339</td>\n",
       "      <td>3.5</td>\n",
       "      <td>Die Hard 2</td>\n",
       "      <td>Action</td>\n",
       "      <td>1446663933</td>\n",
       "      <td>1990</td>\n",
       "    </tr>\n",
       "    <tr>\n",
       "      <th>77626</th>\n",
       "      <td>467</td>\n",
       "      <td>3.0</td>\n",
       "      <td>54</td>\n",
       "      <td>Drama</td>\n",
       "      <td>939063634</td>\n",
       "      <td>1998</td>\n",
       "    </tr>\n",
       "    <tr>\n",
       "      <th>91148</th>\n",
       "      <td>468</td>\n",
       "      <td>2.5</td>\n",
       "      <td>$9.99</td>\n",
       "      <td>Animation</td>\n",
       "      <td>1296189776</td>\n",
       "      <td>2008</td>\n",
       "    </tr>\n",
       "    <tr>\n",
       "      <th>41665</th>\n",
       "      <td>165</td>\n",
       "      <td>0.5</td>\n",
       "      <td>Mission: Impossible II</td>\n",
       "      <td>Action</td>\n",
       "      <td>1111479113</td>\n",
       "      <td>2000</td>\n",
       "    </tr>\n",
       "    <tr>\n",
       "      <th>2108</th>\n",
       "      <td>282</td>\n",
       "      <td>4.5</td>\n",
       "      <td>Apollo 13</td>\n",
       "      <td>Adventure</td>\n",
       "      <td>1111493750</td>\n",
       "      <td>1995</td>\n",
       "    </tr>\n",
       "    <tr>\n",
       "      <th>41352</th>\n",
       "      <td>481</td>\n",
       "      <td>3.0</td>\n",
       "      <td>Harry Potter and the Deathly Hallows: Part 1</td>\n",
       "      <td>Action</td>\n",
       "      <td>1437003549</td>\n",
       "      <td>2010</td>\n",
       "    </tr>\n",
       "    <tr>\n",
       "      <th>20206</th>\n",
       "      <td>550</td>\n",
       "      <td>2.0</td>\n",
       "      <td>Lethal Weapon 4</td>\n",
       "      <td>Action</td>\n",
       "      <td>943373045</td>\n",
       "      <td>1998</td>\n",
       "    </tr>\n",
       "    <tr>\n",
       "      <th>84657</th>\n",
       "      <td>457</td>\n",
       "      <td>2.5</td>\n",
       "      <td>Friday the 13th Part 2</td>\n",
       "      <td>Horror</td>\n",
       "      <td>1471385314</td>\n",
       "      <td>1981</td>\n",
       "    </tr>\n",
       "  </tbody>\n",
       "</table>\n",
       "</div>"
      ],
      "text/plain": [
       "       userId  rating                                         title  \\\n",
       "73693     654     4.0                                    Predator 2   \n",
       "97753     452     1.0                     Smokey and the Bandit III   \n",
       "47841     339     3.5                                    Die Hard 2   \n",
       "77626     467     3.0                                            54   \n",
       "91148     468     2.5                                         $9.99   \n",
       "41665     165     0.5                        Mission: Impossible II   \n",
       "2108      282     4.5                                     Apollo 13   \n",
       "41352     481     3.0  Harry Potter and the Deathly Hallows: Part 1   \n",
       "20206     550     2.0                               Lethal Weapon 4   \n",
       "84657     457     2.5                        Friday the 13th Part 2   \n",
       "\n",
       "          genres   timestamp  year  \n",
       "73693     Action  1145393723  1990  \n",
       "97753     Action  1016590031  1983  \n",
       "47841     Action  1446663933  1990  \n",
       "77626      Drama   939063634  1998  \n",
       "91148  Animation  1296189776  2008  \n",
       "41665     Action  1111479113  2000  \n",
       "2108   Adventure  1111493750  1995  \n",
       "41352     Action  1437003549  2010  \n",
       "20206     Action   943373045  1998  \n",
       "84657     Horror  1471385314  1981  "
      ]
     },
     "execution_count": 64,
     "metadata": {},
     "output_type": "execute_result"
    }
   ],
   "source": [
    "matches = movies.title.str.contains('\\d$')\n",
    "movies[matches].sample(10)"
   ]
  },
  {
   "cell_type": "markdown",
   "metadata": {
    "slideshow": {
     "slide_type": "subslide"
    }
   },
   "source": [
    "Find movies where the substring ' Part ' exists:"
   ]
  },
  {
   "cell_type": "code",
   "execution_count": 6,
   "metadata": {
    "slideshow": {
     "slide_type": "fragment"
    }
   },
   "outputs": [
    {
     "data": {
      "text/html": [
       "<div>\n",
       "<style scoped>\n",
       "    .dataframe tbody tr th:only-of-type {\n",
       "        vertical-align: middle;\n",
       "    }\n",
       "\n",
       "    .dataframe tbody tr th {\n",
       "        vertical-align: top;\n",
       "    }\n",
       "\n",
       "    .dataframe thead th {\n",
       "        text-align: right;\n",
       "    }\n",
       "</style>\n",
       "<table border=\"1\" class=\"dataframe\">\n",
       "  <thead>\n",
       "    <tr style=\"text-align: right;\">\n",
       "      <th></th>\n",
       "      <th>userId</th>\n",
       "      <th>rating</th>\n",
       "      <th>title</th>\n",
       "      <th>genres</th>\n",
       "      <th>timestamp</th>\n",
       "      <th>year</th>\n",
       "    </tr>\n",
       "  </thead>\n",
       "  <tbody>\n",
       "    <tr>\n",
       "      <th>41898</th>\n",
       "      <td>150</td>\n",
       "      <td>2.5</td>\n",
       "      <td>Father of the Bride Part II</td>\n",
       "      <td>Comedy</td>\n",
       "      <td>1114308628</td>\n",
       "      <td>1995</td>\n",
       "    </tr>\n",
       "    <tr>\n",
       "      <th>41356</th>\n",
       "      <td>570</td>\n",
       "      <td>4.5</td>\n",
       "      <td>Harry Potter and the Deathly Hallows: Part 1</td>\n",
       "      <td>Action</td>\n",
       "      <td>1475783785</td>\n",
       "      <td>2010</td>\n",
       "    </tr>\n",
       "    <tr>\n",
       "      <th>73544</th>\n",
       "      <td>654</td>\n",
       "      <td>5.0</td>\n",
       "      <td>History of the World: Part I</td>\n",
       "      <td>Comedy</td>\n",
       "      <td>1145394077</td>\n",
       "      <td>1981</td>\n",
       "    </tr>\n",
       "    <tr>\n",
       "      <th>41937</th>\n",
       "      <td>650</td>\n",
       "      <td>3.0</td>\n",
       "      <td>Father of the Bride Part II</td>\n",
       "      <td>Comedy</td>\n",
       "      <td>844883711</td>\n",
       "      <td>1995</td>\n",
       "    </tr>\n",
       "    <tr>\n",
       "      <th>25179</th>\n",
       "      <td>494</td>\n",
       "      <td>5.0</td>\n",
       "      <td>Godfather: Part II, The</td>\n",
       "      <td>Crime</td>\n",
       "      <td>1342747453</td>\n",
       "      <td>1974</td>\n",
       "    </tr>\n",
       "    <tr>\n",
       "      <th>25123</th>\n",
       "      <td>215</td>\n",
       "      <td>4.0</td>\n",
       "      <td>Godfather: Part II, The</td>\n",
       "      <td>Crime</td>\n",
       "      <td>860561181</td>\n",
       "      <td>1974</td>\n",
       "    </tr>\n",
       "    <tr>\n",
       "      <th>84670</th>\n",
       "      <td>260</td>\n",
       "      <td>3.0</td>\n",
       "      <td>Friday the 13th Part VI: Jason Lives</td>\n",
       "      <td>Horror</td>\n",
       "      <td>1207886252</td>\n",
       "      <td>1986</td>\n",
       "    </tr>\n",
       "    <tr>\n",
       "      <th>50272</th>\n",
       "      <td>232</td>\n",
       "      <td>3.0</td>\n",
       "      <td>Back to the Future Part III</td>\n",
       "      <td>Adventure</td>\n",
       "      <td>955086621</td>\n",
       "      <td>1990</td>\n",
       "    </tr>\n",
       "    <tr>\n",
       "      <th>50314</th>\n",
       "      <td>518</td>\n",
       "      <td>3.0</td>\n",
       "      <td>Back to the Future Part III</td>\n",
       "      <td>Adventure</td>\n",
       "      <td>945364886</td>\n",
       "      <td>1990</td>\n",
       "    </tr>\n",
       "    <tr>\n",
       "      <th>71101</th>\n",
       "      <td>564</td>\n",
       "      <td>5.0</td>\n",
       "      <td>Wes Craven's New Nightmare (Nightmare on Elm S...</td>\n",
       "      <td>Drama</td>\n",
       "      <td>974716031</td>\n",
       "      <td>1994</td>\n",
       "    </tr>\n",
       "  </tbody>\n",
       "</table>\n",
       "</div>"
      ],
      "text/plain": [
       "       userId  rating                                              title  \\\n",
       "41898     150     2.5                        Father of the Bride Part II   \n",
       "41356     570     4.5       Harry Potter and the Deathly Hallows: Part 1   \n",
       "73544     654     5.0                       History of the World: Part I   \n",
       "41937     650     3.0                        Father of the Bride Part II   \n",
       "25179     494     5.0                            Godfather: Part II, The   \n",
       "25123     215     4.0                            Godfather: Part II, The   \n",
       "84670     260     3.0               Friday the 13th Part VI: Jason Lives   \n",
       "50272     232     3.0                        Back to the Future Part III   \n",
       "50314     518     3.0                        Back to the Future Part III   \n",
       "71101     564     5.0  Wes Craven's New Nightmare (Nightmare on Elm S...   \n",
       "\n",
       "          genres   timestamp  year  \n",
       "41898     Comedy  1114308628  1995  \n",
       "41356     Action  1475783785  2010  \n",
       "73544     Comedy  1145394077  1981  \n",
       "41937     Comedy   844883711  1995  \n",
       "25179      Crime  1342747453  1974  \n",
       "25123      Crime   860561181  1974  \n",
       "84670     Horror  1207886252  1986  \n",
       "50272  Adventure   955086621  1990  \n",
       "50314  Adventure   945364886  1990  \n",
       "71101      Drama   974716031  1994  "
      ]
     },
     "execution_count": 6,
     "metadata": {},
     "output_type": "execute_result"
    }
   ],
   "source": [
    "matches = movies.title.str.contains(' Part ')\n",
    "movies[matches].sample(10)"
   ]
  },
  {
   "cell_type": "markdown",
   "metadata": {
    "slideshow": {
     "slide_type": "subslide"
    }
   },
   "source": [
    "Find movies that are named \"The ... of ...\""
   ]
  },
  {
   "cell_type": "code",
   "execution_count": 65,
   "metadata": {
    "scrolled": true,
    "slideshow": {
     "slide_type": "fragment"
    }
   },
   "outputs": [
    {
     "data": {
      "text/html": [
       "<div>\n",
       "<style scoped>\n",
       "    .dataframe tbody tr th:only-of-type {\n",
       "        vertical-align: middle;\n",
       "    }\n",
       "\n",
       "    .dataframe tbody tr th {\n",
       "        vertical-align: top;\n",
       "    }\n",
       "\n",
       "    .dataframe thead th {\n",
       "        text-align: right;\n",
       "    }\n",
       "</style>\n",
       "<table border=\"1\" class=\"dataframe\">\n",
       "  <thead>\n",
       "    <tr style=\"text-align: right;\">\n",
       "      <th></th>\n",
       "      <th>userId</th>\n",
       "      <th>rating</th>\n",
       "      <th>title</th>\n",
       "      <th>genres</th>\n",
       "      <th>timestamp</th>\n",
       "      <th>year</th>\n",
       "    </tr>\n",
       "  </thead>\n",
       "  <tbody>\n",
       "    <tr>\n",
       "      <th>95699</th>\n",
       "      <td>299</td>\n",
       "      <td>4.5</td>\n",
       "      <td>The Lair of the White Worm</td>\n",
       "      <td>Comedy</td>\n",
       "      <td>1344178630</td>\n",
       "      <td>1988</td>\n",
       "    </tr>\n",
       "    <tr>\n",
       "      <th>36099</th>\n",
       "      <td>212</td>\n",
       "      <td>4.0</td>\n",
       "      <td>The Count of Monte Cristo</td>\n",
       "      <td>Action</td>\n",
       "      <td>1228789284</td>\n",
       "      <td>2002</td>\n",
       "    </tr>\n",
       "    <tr>\n",
       "      <th>68258</th>\n",
       "      <td>624</td>\n",
       "      <td>3.5</td>\n",
       "      <td>The Theory of Everything</td>\n",
       "      <td>Drama</td>\n",
       "      <td>1449334366</td>\n",
       "      <td>2014</td>\n",
       "    </tr>\n",
       "    <tr>\n",
       "      <th>36111</th>\n",
       "      <td>580</td>\n",
       "      <td>2.5</td>\n",
       "      <td>The Count of Monte Cristo</td>\n",
       "      <td>Action</td>\n",
       "      <td>1167160889</td>\n",
       "      <td>2002</td>\n",
       "    </tr>\n",
       "    <tr>\n",
       "      <th>36105</th>\n",
       "      <td>386</td>\n",
       "      <td>3.0</td>\n",
       "      <td>The Count of Monte Cristo</td>\n",
       "      <td>Action</td>\n",
       "      <td>1047028511</td>\n",
       "      <td>2002</td>\n",
       "    </tr>\n",
       "    <tr>\n",
       "      <th>68254</th>\n",
       "      <td>333</td>\n",
       "      <td>4.0</td>\n",
       "      <td>The Theory of Everything</td>\n",
       "      <td>Drama</td>\n",
       "      <td>1441197950</td>\n",
       "      <td>2014</td>\n",
       "    </tr>\n",
       "    <tr>\n",
       "      <th>36114</th>\n",
       "      <td>607</td>\n",
       "      <td>4.0</td>\n",
       "      <td>The Count of Monte Cristo</td>\n",
       "      <td>Action</td>\n",
       "      <td>1151425776</td>\n",
       "      <td>2002</td>\n",
       "    </tr>\n",
       "    <tr>\n",
       "      <th>68256</th>\n",
       "      <td>378</td>\n",
       "      <td>3.5</td>\n",
       "      <td>The Theory of Everything</td>\n",
       "      <td>Drama</td>\n",
       "      <td>1443292443</td>\n",
       "      <td>2014</td>\n",
       "    </tr>\n",
       "    <tr>\n",
       "      <th>68249</th>\n",
       "      <td>73</td>\n",
       "      <td>4.0</td>\n",
       "      <td>The Theory of Everything</td>\n",
       "      <td>Drama</td>\n",
       "      <td>1457597352</td>\n",
       "      <td>2014</td>\n",
       "    </tr>\n",
       "    <tr>\n",
       "      <th>36104</th>\n",
       "      <td>382</td>\n",
       "      <td>2.5</td>\n",
       "      <td>The Count of Monte Cristo</td>\n",
       "      <td>Action</td>\n",
       "      <td>1371825566</td>\n",
       "      <td>2002</td>\n",
       "    </tr>\n",
       "  </tbody>\n",
       "</table>\n",
       "</div>"
      ],
      "text/plain": [
       "       userId  rating                       title  genres   timestamp  year\n",
       "95699     299     4.5  The Lair of the White Worm  Comedy  1344178630  1988\n",
       "36099     212     4.0   The Count of Monte Cristo  Action  1228789284  2002\n",
       "68258     624     3.5    The Theory of Everything   Drama  1449334366  2014\n",
       "36111     580     2.5   The Count of Monte Cristo  Action  1167160889  2002\n",
       "36105     386     3.0   The Count of Monte Cristo  Action  1047028511  2002\n",
       "68254     333     4.0    The Theory of Everything   Drama  1441197950  2014\n",
       "36114     607     4.0   The Count of Monte Cristo  Action  1151425776  2002\n",
       "68256     378     3.5    The Theory of Everything   Drama  1443292443  2014\n",
       "68249      73     4.0    The Theory of Everything   Drama  1457597352  2014\n",
       "36104     382     2.5   The Count of Monte Cristo  Action  1371825566  2002"
      ]
     },
     "execution_count": 65,
     "metadata": {},
     "output_type": "execute_result"
    }
   ],
   "source": [
    "matches = movies.title.str.contains('^The .+ of ')\n",
    "movies[matches].sample(10)"
   ]
  },
  {
   "cell_type": "markdown",
   "metadata": {
    "slideshow": {
     "slide_type": "subslide"
    }
   },
   "source": [
    "## In MongoDB"
   ]
  },
  {
   "cell_type": "code",
   "execution_count": 50,
   "metadata": {},
   "outputs": [],
   "source": [
    "from pymongo import MongoClient\n",
    "client = MongoClient()\n",
    "db = client.week7\n",
    "collection = db.cooking"
   ]
  },
  {
   "cell_type": "markdown",
   "metadata": {
    "slideshow": {
     "slide_type": "subslide"
    }
   },
   "source": [
    "Find an recipe with an ingredient called \"yellow ...\""
   ]
  },
  {
   "cell_type": "code",
   "execution_count": 55,
   "metadata": {
    "slideshow": {
     "slide_type": "fragment"
    }
   },
   "outputs": [
    {
     "data": {
      "text/plain": [
       "{'_id': ObjectId('5af1b7634b6d022f8c977dd0'),\n",
       " 'cuisine': 'southern_us',\n",
       " 'id': 25693,\n",
       " 'ingredients': ['plain flour',\n",
       "  'ground pepper',\n",
       "  'salt',\n",
       "  'tomatoes',\n",
       "  'ground black pepper',\n",
       "  'thyme',\n",
       "  'eggs',\n",
       "  'green tomatoes',\n",
       "  'yellow corn meal',\n",
       "  'milk',\n",
       "  'vegetable oil']}"
      ]
     },
     "execution_count": 55,
     "metadata": {},
     "output_type": "execute_result"
    }
   ],
   "source": [
    "collection.find_one({\n",
    "    \"ingredients\": {\"$regex\": \"yellow .*\"}\n",
    "})"
   ]
  },
  {
   "cell_type": "markdown",
   "metadata": {
    "slideshow": {
     "slide_type": "subslide"
    }
   },
   "source": [
    "After unwinding the recipes to one doc per ingredient, find ingredients with a qualified salt:"
   ]
  },
  {
   "cell_type": "code",
   "execution_count": 63,
   "metadata": {
    "slideshow": {
     "slide_type": "fragment"
    }
   },
   "outputs": [
    {
     "data": {
      "text/plain": [
       "[{'ingredients': 'sea salt'},\n",
       " {'ingredients': 'kosher salt'},\n",
       " {'ingredients': 'fine sea salt'},\n",
       " {'ingredients': 'kosher salt'},\n",
       " {'ingredients': 'kosher salt'}]"
      ]
     },
     "execution_count": 63,
     "metadata": {},
     "output_type": "execute_result"
    }
   ],
   "source": [
    "pipeline = [\n",
    "    { \"$unwind\": \"$ingredients\" },\n",
    "    { \"$project\": {\"ingredients\": 1, \"_id\":0} },\n",
    "    { \"$match\":{\n",
    "        \"ingredients\": {\"$regex\": \"^.+ salt\" }\n",
    "        }\n",
    "    },\n",
    "    { \"$limit\": 5 }\n",
    "]\n",
    "results = collection.aggregate(pipeline)\n",
    "list(results)"
   ]
  },
  {
   "cell_type": "markdown",
   "metadata": {
    "slideshow": {
     "slide_type": "subslide"
    }
   },
   "source": [
    "Count the qualified salt types:"
   ]
  },
  {
   "cell_type": "code",
   "execution_count": 73,
   "metadata": {
    "slideshow": {
     "slide_type": "fragment"
    }
   },
   "outputs": [
    {
     "data": {
      "text/plain": [
       "[{'_id': 'kosher salt', 'count': 3113},\n",
       " {'_id': 'sea salt', 'count': 940},\n",
       " {'_id': 'coarse salt', 'count': 578},\n",
       " {'_id': 'fine sea salt', 'count': 285},\n",
       " {'_id': 'garlic salt', 'count': 240},\n",
       " {'_id': 'seasoning salt', 'count': 131},\n",
       " {'_id': 'table salt', 'count': 79},\n",
       " {'_id': 'coarse sea salt', 'count': 68},\n",
       " {'_id': 'coarse kosher salt', 'count': 64},\n",
       " {'_id': 'celery salt', 'count': 52},\n",
       " {'_id': 'fine salt', 'count': 24},\n",
       " {'_id': 'onion salt', 'count': 15},\n",
       " {'_id': 'rock salt', 'count': 14},\n",
       " {'_id': 'pickling salt', 'count': 12},\n",
       " {'_id': 'black salt', 'count': 12},\n",
       " {'_id': 'Himalayan salt', 'count': 11},\n",
       " {'_id': 'celtic salt', 'count': 9},\n",
       " {'_id': 'maldon sea salt', 'count': 8},\n",
       " {'_id': 'smoked sea salt', 'count': 6},\n",
       " {'_id': 'iodized salt', 'count': 4}]"
      ]
     },
     "execution_count": 73,
     "metadata": {},
     "output_type": "execute_result"
    }
   ],
   "source": [
    "pipeline = [\n",
    "    { \"$unwind\": \"$ingredients\" },\n",
    "    { \"$project\": {\"ingredients\": 1, \"_id\":0} },\n",
    "    { \"$match\":{ \"ingredients\": {\"$regex\": \"^.+ salt$\" } } },\n",
    "    { \"$group\":{\n",
    "        \"_id\": \"$ingredients\", \"count\": {\"$sum\": 1} } \n",
    "    },\n",
    "    { \"$sort\": { \"count\": -1} },\n",
    "    { \"$limit\": 20 }\n",
    "]\n",
    "results = collection.aggregate(pipeline)\n",
    "list(results)"
   ]
  },
  {
   "cell_type": "markdown",
   "metadata": {
    "slideshow": {
     "slide_type": "subslide"
    }
   },
   "source": [
    "### Note on variation\n",
    "\n",
    "- Regular Expressions are *close* to standard, but different implementations are slightly different."
   ]
  },
  {
   "cell_type": "markdown",
   "metadata": {},
   "source": [
    "## Basics of Regular Expressions"
   ]
  },
  {
   "cell_type": "markdown",
   "metadata": {
    "slideshow": {
     "slide_type": "subslide"
    }
   },
   "source": [
    "In this class: we'll cover the basics, practiced in Python and Pandas."
   ]
  },
  {
   "cell_type": "markdown",
   "metadata": {
    "slideshow": {
     "slide_type": "fragment"
    }
   },
   "source": [
    "To follow along:"
   ]
  },
  {
   "cell_type": "code",
   "execution_count": 75,
   "metadata": {
    "slideshow": {
     "slide_type": "-"
    }
   },
   "outputs": [],
   "source": [
    "import re"
   ]
  },
  {
   "cell_type": "markdown",
   "metadata": {
    "slideshow": {
     "slide_type": "subslide"
    }
   },
   "source": [
    "## Wild Cards"
   ]
  },
  {
   "cell_type": "markdown",
   "metadata": {
    "slideshow": {
     "slide_type": "subslide"
    }
   },
   "source": [
    "`a` - Match the letter 'a'. Same for most other characters"
   ]
  },
  {
   "cell_type": "code",
   "execution_count": 66,
   "metadata": {
    "slideshow": {
     "slide_type": "fragment"
    }
   },
   "outputs": [
    {
     "data": {
      "text/plain": [
       "['Colorado']"
      ]
     },
     "execution_count": 66,
     "metadata": {},
     "output_type": "execute_result"
    }
   ],
   "source": [
    "text = \"Colorado\"\n",
    "re.findall('o', text)"
   ]
  },
  {
   "cell_type": "code",
   "execution_count": 77,
   "metadata": {
    "scrolled": false,
    "slideshow": {
     "slide_type": "fragment"
    }
   },
   "outputs": [
    {
     "data": {
      "text/plain": [
       "['Buffalo buffalo', 'Buffalo buffalo', 'Buffalo buffalo']"
      ]
     },
     "execution_count": 77,
     "metadata": {},
     "output_type": "execute_result"
    }
   ],
   "source": [
    "text = \"Buffalo buffalo Buffalo buffalo buffalo buffalo Buffalo buffalo\"\n",
    "re.findall('Buffalo buffalo', text)"
   ]
  },
  {
   "cell_type": "markdown",
   "metadata": {
    "slideshow": {
     "slide_type": "subslide"
    }
   },
   "source": [
    "`.` - Match any single character"
   ]
  },
  {
   "cell_type": "code",
   "execution_count": 69,
   "metadata": {
    "slideshow": {
     "slide_type": "fragment"
    }
   },
   "outputs": [
    {
     "data": {
      "text/plain": [
       "['what']"
      ]
     },
     "execution_count": 69,
     "metadata": {},
     "output_type": "execute_result"
    }
   ],
   "source": [
    "text = \"who, what, where, why, and how\"\n",
    "re.findall('wh.', text)"
   ]
  },
  {
   "cell_type": "code",
   "execution_count": 83,
   "metadata": {
    "slideshow": {
     "slide_type": "fragment"
    }
   },
   "outputs": [
    {
     "data": {
      "text/plain": [
       "['who,', 'why,']"
      ]
     },
     "execution_count": 83,
     "metadata": {},
     "output_type": "execute_result"
    }
   ],
   "source": [
    "text = \"who, what, where, why, and how\"\n",
    "re.findall('wh.,', text)"
   ]
  },
  {
   "cell_type": "markdown",
   "metadata": {
    "slideshow": {
     "slide_type": "subslide"
    }
   },
   "source": [
    "- `\\w` - Match any word character (letters, number... support for non-English characters varies)\n",
    "- `\\W` - Match any non-word characters"
   ]
  },
  {
   "cell_type": "code",
   "execution_count": 73,
   "metadata": {
    "slideshow": {
     "slide_type": "fragment"
    }
   },
   "outputs": [
    {
     "data": {
      "text/plain": [
       "['Wh0,', 'hat,', 'ere,', 'why,']"
      ]
     },
     "execution_count": 73,
     "metadata": {},
     "output_type": "execute_result"
    }
   ],
   "source": [
    "text = \"Who, what, where, why, and how\"\n",
    "re.findall('\\w\\w\\w,', text)"
   ]
  },
  {
   "cell_type": "code",
   "execution_count": 88,
   "metadata": {
    "slideshow": {
     "slide_type": "fragment"
    }
   },
   "outputs": [
    {
     "data": {
      "text/plain": [
       "['W',\n",
       " 'h',\n",
       " 'o',\n",
       " 'w',\n",
       " 'h',\n",
       " 'a',\n",
       " 't',\n",
       " 'w',\n",
       " 'h',\n",
       " 'e',\n",
       " 'r',\n",
       " 'e',\n",
       " 'w',\n",
       " 'h',\n",
       " 'y',\n",
       " 'a',\n",
       " 'n',\n",
       " 'd',\n",
       " 'h',\n",
       " 'o',\n",
       " 'w']"
      ]
     },
     "execution_count": 88,
     "metadata": {},
     "output_type": "execute_result"
    }
   ],
   "source": [
    "text = \"Who, what, where, why, and how\"\n",
    "re.findall('\\w', text)"
   ]
  },
  {
   "cell_type": "markdown",
   "metadata": {
    "slideshow": {
     "slide_type": "subslide"
    }
   },
   "source": [
    "`\\d` - Match any digit"
   ]
  },
  {
   "cell_type": "code",
   "execution_count": 89,
   "metadata": {
    "slideshow": {
     "slide_type": "fragment"
    }
   },
   "outputs": [
    {
     "data": {
      "text/plain": [
       "['1', '9', '9', '9']"
      ]
     },
     "execution_count": 89,
     "metadata": {},
     "output_type": "execute_result"
    }
   ],
   "source": [
    "text = \"Party like it's 1999\"\n",
    "re.findall('\\d', text)"
   ]
  },
  {
   "cell_type": "code",
   "execution_count": 90,
   "metadata": {
    "scrolled": true,
    "slideshow": {
     "slide_type": "fragment"
    }
   },
   "outputs": [
    {
     "data": {
      "text/plain": [
       "['1999']"
      ]
     },
     "execution_count": 90,
     "metadata": {},
     "output_type": "execute_result"
    }
   ],
   "source": [
    "text = \"Party like it's 1999\"\n",
    "re.findall('\\d\\d\\d\\d', text)"
   ]
  },
  {
   "cell_type": "markdown",
   "metadata": {
    "slideshow": {
     "slide_type": "subslide"
    }
   },
   "source": [
    "`\\s` - Match any whitespace character (space, tabs, line breaks sometimes)"
   ]
  },
  {
   "cell_type": "markdown",
   "metadata": {
    "slideshow": {
     "slide_type": "fragment"
    }
   },
   "source": [
    "*What will this return?*"
   ]
  },
  {
   "cell_type": "code",
   "execution_count": 76,
   "metadata": {
    "slideshow": {
     "slide_type": "fragment"
    }
   },
   "outputs": [
    {
     "data": {
      "text/plain": [
       "[' over ', ' lazy ']"
      ]
     },
     "execution_count": 76,
     "metadata": {},
     "output_type": "execute_result"
    }
   ],
   "source": [
    "text = \"The quick brown fox jumped over the lazy yellow dog\"\n",
    "re.findall('\\s....\\s', text)"
   ]
  },
  {
   "cell_type": "markdown",
   "metadata": {
    "slideshow": {
     "slide_type": "subslide"
    }
   },
   "source": [
    "`[ab]` - Group of multiple possible characters - in this case 'a' or 'b'"
   ]
  },
  {
   "cell_type": "code",
   "execution_count": 78,
   "metadata": {
    "slideshow": {
     "slide_type": "fragment"
    }
   },
   "outputs": [
    {
     "data": {
      "text/plain": [
       "['The', 'the']"
      ]
     },
     "execution_count": 78,
     "metadata": {},
     "output_type": "execute_result"
    }
   ],
   "source": [
    "text = \"The quick brown fox jumped over the lazy yellow dog\"\n",
    "re.findall('[Tt]he', text)"
   ]
  },
  {
   "cell_type": "markdown",
   "metadata": {
    "slideshow": {
     "slide_type": "subslide"
    }
   },
   "source": [
    "### *What if I want to match an actual backslash or period?*"
   ]
  },
  {
   "cell_type": "markdown",
   "metadata": {
    "slideshow": {
     "slide_type": "-"
    }
   },
   "source": [
    "This is a problem:"
   ]
  },
  {
   "cell_type": "code",
   "execution_count": 114,
   "metadata": {
    "slideshow": {
     "slide_type": "-"
    }
   },
   "outputs": [
    {
     "data": {
      "text/plain": [
       "['Dr.', 'Dri']"
      ]
     },
     "execution_count": 114,
     "metadata": {},
     "output_type": "execute_result"
    }
   ],
   "source": [
    "text = \"Dr. Jones Drinks Too Much\"\n",
    "re.findall('Dr.', text)"
   ]
  },
  {
   "cell_type": "markdown",
   "metadata": {
    "slideshow": {
     "slide_type": "fragment"
    }
   },
   "source": [
    "Precede the character with a backslash\n",
    "\n",
    "E.g.\n",
    "\n",
    "- `.` - Matches *any* character\n",
    "- `\\.` - Matches a period"
   ]
  },
  {
   "cell_type": "code",
   "execution_count": 115,
   "metadata": {
    "slideshow": {
     "slide_type": "-"
    }
   },
   "outputs": [
    {
     "data": {
      "text/plain": [
       "['Dr.']"
      ]
     },
     "execution_count": 115,
     "metadata": {},
     "output_type": "execute_result"
    }
   ],
   "source": [
    "re.findall('Dr\\.', text)"
   ]
  },
  {
   "cell_type": "markdown",
   "metadata": {
    "slideshow": {
     "slide_type": "subslide"
    }
   },
   "source": [
    "- `[a-z]` matches any character from a to z\n",
    "- `[A-Z]` matches any character from A to Z"
   ]
  },
  {
   "cell_type": "code",
   "execution_count": 144,
   "metadata": {
    "slideshow": {
     "slide_type": "fragment"
    }
   },
   "outputs": [
    {
     "data": {
      "text/plain": [
       "['SPAM']"
      ]
     },
     "execution_count": 144,
     "metadata": {},
     "output_type": "execute_result"
    }
   ],
   "source": [
    "text = \"text 1-800-SPAM for more information\"\n",
    "re.findall('[A-Z]+', text)"
   ]
  },
  {
   "cell_type": "markdown",
   "metadata": {
    "slideshow": {
     "slide_type": "fragment"
    }
   },
   "source": [
    "Those square brackets are same as before, so you can group A-Z with other matches.\n",
    "\n",
    "e.g. Match capital letters, digits, or hyphens:"
   ]
  },
  {
   "cell_type": "code",
   "execution_count": 145,
   "metadata": {},
   "outputs": [
    {
     "data": {
      "text/plain": [
       "['1-800-SPAM']"
      ]
     },
     "execution_count": 145,
     "metadata": {},
     "output_type": "execute_result"
    }
   ],
   "source": [
    "text = \"text 1-800-SPAM for more information\"\n",
    "re.findall('[\\d\\-A-Z]+', text)"
   ]
  },
  {
   "cell_type": "markdown",
   "metadata": {
    "slideshow": {
     "slide_type": "fragment"
    }
   },
   "source": [
    "*Note above that a hyphen is another special character, so matching for a literal `-` is done with `\\-`.*"
   ]
  },
  {
   "cell_type": "markdown",
   "metadata": {
    "slideshow": {
     "slide_type": "subslide"
    }
   },
   "source": [
    "Returning to the earlier data."
   ]
  },
  {
   "cell_type": "code",
   "execution_count": 92,
   "metadata": {},
   "outputs": [],
   "source": [
    "titles = movies.title.drop_duplicates()"
   ]
  },
  {
   "cell_type": "markdown",
   "metadata": {
    "slideshow": {
     "slide_type": "fragment"
    }
   },
   "source": [
    "\"The (single word) of ...\""
   ]
  },
  {
   "cell_type": "code",
   "execution_count": 15,
   "metadata": {
    "slideshow": {
     "slide_type": "-"
    }
   },
   "outputs": [
    {
     "data": {
      "text/plain": [
       "99139                The End of the Tour\n",
       "94735          The Plague of the Zombies\n",
       "97198                     The Best of Me\n",
       "99821               The Face of an Angel\n",
       "88980       The Earrings of Madame de...\n",
       "68702               The Legend of Tarzan\n",
       "75357    The Importance of Being Earnest\n",
       "93216            The Diary of Anne Frank\n",
       "97199                   The Book of Life\n",
       "68479                 The Age of Adaline\n",
       "Name: title, dtype: object"
      ]
     },
     "execution_count": 15,
     "metadata": {},
     "output_type": "execute_result"
    }
   ],
   "source": [
    "matches = titles.str.contains('^The \\w+ of ')\n",
    "titles[matches].sample(10)"
   ]
  },
  {
   "cell_type": "code",
   "execution_count": 16,
   "metadata": {
    "slideshow": {
     "slide_type": "subslide"
    }
   },
   "outputs": [
    {
     "data": {
      "text/plain": [
       "67847                  Captain America: The Winter Soldier\n",
       "29299    Léon: The Professional (a.k.a. The Professiona...\n",
       "96755    Will Ferrell: You're Welcome America - A Final...\n",
       "88694         Nightmare on Elm Street 3: Dream Warriors, A\n",
       "82307                   Police Academy 6: City Under Siege\n",
       "92984                             Exorcist II: The Heretic\n",
       "75368                      Tabu: A Story of the South Seas\n",
       "94572                       Sherlock: The Abominable Bride\n",
       "93522       Librarian, The: The Curse of the Judas Chalice\n",
       "76784         City Slickers II: The Legend of Curly's Gold\n",
       "Name: title, dtype: object"
      ]
     },
     "execution_count": 16,
     "metadata": {},
     "output_type": "execute_result"
    }
   ],
   "source": [
    "matches = titles.str.contains(':')\n",
    "titles[matches].sample(10)"
   ]
  },
  {
   "cell_type": "code",
   "execution_count": 93,
   "metadata": {
    "slideshow": {
     "slide_type": "subslide"
    }
   },
   "outputs": [
    {
     "data": {
      "text/plain": [
       "259                  Ben-Hur\n",
       "12000             Spider-Man\n",
       "40269                  X-Men\n",
       "55032                  U-571\n",
       "58796             Scooby-Doo\n",
       "61252              Fail-Safe\n",
       "65729                G-Force\n",
       "66092               Kick-Ass\n",
       "68396                Ant-Man\n",
       "69332            Re-Animator\n",
       "69765    Slaughterhouse-Five\n",
       "81831                  K-PAX\n",
       "83228                 BURN-E\n",
       "83394               Non-Stop\n",
       "83908               Bio-Dome\n",
       "89557            Topsy-Turvy\n",
       "93256               Cry-Baby\n",
       "94106              She-Devil\n",
       "95079               Kon-Tiki\n",
       "96155              De-Lovely\n",
       "96602               Catch-22\n",
       "96617                Ben-hur\n",
       "96717               Semi-Pro\n",
       "98638                  T-Men\n",
       "99056     Shakespeare-Wallah\n",
       "99971        Straight-Jacket\n",
       "Name: title, dtype: object"
      ]
     },
     "execution_count": 93,
     "metadata": {},
     "output_type": "execute_result"
    }
   ],
   "source": [
    "matches = titles.str.contains(\"^\\w+\\-\\w+$\")\n",
    "titles[matches]"
   ]
  },
  {
   "cell_type": "markdown",
   "metadata": {
    "slideshow": {
     "slide_type": "subslide"
    }
   },
   "source": [
    "## Exercises\n",
    "\n",
    "Reference: \n",
    "    \n",
    "- `a` - Match the letter 'a'. Same for most other characters\n",
    "- `.` - Match any single character\n",
    "- `\\.` - Match a period. Same for other 'special' characters\n",
    "- `\\w` - Match any word character\n",
    "- `\\d` - Match any digit\n",
    "- `\\s` - Match any whitespace character\n",
    "- `[ab]` - Group of multiple possible characters\n",
    "- `[a-z]` matches any character from a to z\n",
    "- `[A-Z]` matches any character from A to Z"
   ]
  },
  {
   "cell_type": "markdown",
   "metadata": {
    "slideshow": {
     "slide_type": "slide"
    }
   },
   "source": [
    "## Repetition"
   ]
  },
  {
   "cell_type": "markdown",
   "metadata": {
    "slideshow": {
     "slide_type": "subslide"
    }
   },
   "source": [
    "`?` - One or zero of the preceding match"
   ]
  },
  {
   "cell_type": "code",
   "execution_count": 81,
   "metadata": {
    "slideshow": {
     "slide_type": "fragment"
    }
   },
   "outputs": [
    {
     "data": {
      "text/plain": [
       "['colour']"
      ]
     },
     "execution_count": 81,
     "metadata": {},
     "output_type": "execute_result"
    }
   ],
   "source": [
    "text = \"color colour\"\n",
    "re.findall('colour', text)"
   ]
  },
  {
   "cell_type": "markdown",
   "metadata": {
    "slideshow": {
     "slide_type": "subslide"
    }
   },
   "source": [
    "- `+` - One or more of the preceding match\n",
    "- `*` - Zero or more of the preceding match"
   ]
  },
  {
   "cell_type": "code",
   "execution_count": 135,
   "metadata": {},
   "outputs": [
    {
     "data": {
      "text/plain": [
       "['GOAL', 'GOOOOOOOOOAAAAAAL']"
      ]
     },
     "execution_count": 135,
     "metadata": {},
     "output_type": "execute_result"
    }
   ],
   "source": [
    "text = \"GOAL GOOOOOOOOOAAAAAAL\"\n",
    "re.findall('GO+A+L', text)"
   ]
  },
  {
   "cell_type": "code",
   "execution_count": 136,
   "metadata": {},
   "outputs": [
    {
     "data": {
      "text/plain": [
       "['GOAL']"
      ]
     },
     "execution_count": 136,
     "metadata": {},
     "output_type": "execute_result"
    }
   ],
   "source": [
    "text = \"GOAL\"\n",
    "re.findall('GO+A+L', text)"
   ]
  },
  {
   "cell_type": "markdown",
   "metadata": {
    "slideshow": {
     "slide_type": "subslide"
    }
   },
   "source": [
    "`*` and `+` are *greedy* in Python. They will grab as much as possible. "
   ]
  },
  {
   "cell_type": "code",
   "execution_count": 82,
   "metadata": {},
   "outputs": [
    {
     "data": {
      "text/plain": [
       "['<p>Something or other</p><p>Yet more junk.</p>']"
      ]
     },
     "execution_count": 82,
     "metadata": {},
     "output_type": "execute_result"
    }
   ],
   "source": [
    "text = \"<p>Something or other</p><p>Yet more junk.</p>\" \n",
    "re.findall('<p>.*</p>', text)"
   ]
  },
  {
   "cell_type": "code",
   "execution_count": 124,
   "metadata": {},
   "outputs": [
    {
     "data": {
      "text/plain": [
       "['foo1@gmail.com;b-a-r@gmail.com;baz@gmail.com']"
      ]
     },
     "execution_count": 124,
     "metadata": {},
     "output_type": "execute_result"
    }
   ],
   "source": [
    "text = \"foo1@gmail.com;b-a-r@gmail.com;baz@gmail.com\" \n",
    "re.findall('\\w.*@gmail.com', text)"
   ]
  },
  {
   "cell_type": "markdown",
   "metadata": {
    "slideshow": {
     "slide_type": "fragment"
    }
   },
   "source": [
    "`*?` is the *lazy* alternative, it will grab as little as possible."
   ]
  },
  {
   "cell_type": "code",
   "execution_count": 91,
   "metadata": {},
   "outputs": [
    {
     "data": {
      "text/plain": [
       "['foo1@gmail.com', 'b-a-r@gmail.com', 'baz@gmail.com']"
      ]
     },
     "execution_count": 91,
     "metadata": {},
     "output_type": "execute_result"
    }
   ],
   "source": []
  },
  {
   "cell_type": "code",
   "execution_count": 123,
   "metadata": {
    "slideshow": {
     "slide_type": "fragment"
    }
   },
   "outputs": [
    {
     "data": {
      "text/plain": [
       "['foo1@gmail.com', 'b-a-r@gmail.com', 'baz@gmail.com']"
      ]
     },
     "execution_count": 123,
     "metadata": {},
     "output_type": "execute_result"
    }
   ],
   "source": [
    "re.findall('\\w.*?@gmail.com', text)"
   ]
  },
  {
   "cell_type": "markdown",
   "metadata": {
    "slideshow": {
     "slide_type": "slide"
    }
   },
   "source": [
    "## Start and End of Line"
   ]
  },
  {
   "cell_type": "markdown",
   "metadata": {
    "slideshow": {
     "slide_type": "subslide"
    }
   },
   "source": [
    "`^` - Start of line"
   ]
  },
  {
   "cell_type": "code",
   "execution_count": 100,
   "metadata": {
    "slideshow": {
     "slide_type": "fragment"
    }
   },
   "outputs": [
    {
     "data": {
      "text/plain": [
       "[]"
      ]
     },
     "execution_count": 100,
     "metadata": {},
     "output_type": "execute_result"
    }
   ],
   "source": [
    "text = \"The quick brown fox jumped over the lazy yellow dog\"\n",
    "re.findall('^quick', text)"
   ]
  },
  {
   "cell_type": "code",
   "execution_count": 105,
   "metadata": {
    "slideshow": {
     "slide_type": "fragment"
    }
   },
   "outputs": [
    {
     "data": {
      "text/plain": [
       "['The']"
      ]
     },
     "execution_count": 105,
     "metadata": {},
     "output_type": "execute_result"
    }
   ],
   "source": [
    "re.findall('^The', text)"
   ]
  },
  {
   "cell_type": "code",
   "execution_count": 109,
   "metadata": {
    "slideshow": {
     "slide_type": "fragment"
    }
   },
   "outputs": [
    {
     "data": {
      "text/plain": [
       "['The quick brown fox']"
      ]
     },
     "execution_count": 109,
     "metadata": {},
     "output_type": "execute_result"
    }
   ],
   "source": [
    "re.findall('^.*fox', text)"
   ]
  },
  {
   "cell_type": "markdown",
   "metadata": {
    "slideshow": {
     "slide_type": "subslide"
    }
   },
   "source": [
    "`$` - End of line"
   ]
  },
  {
   "cell_type": "code",
   "execution_count": 104,
   "metadata": {
    "scrolled": true,
    "slideshow": {
     "slide_type": "fragment"
    }
   },
   "outputs": [
    {
     "data": {
      "text/plain": [
       "['low dog']"
      ]
     },
     "execution_count": 104,
     "metadata": {},
     "output_type": "execute_result"
    }
   ],
   "source": [
    "text = \"The quick brown fox jumped over the lazy yellow dog\"\n",
    "re.findall('.......$', text)"
   ]
  },
  {
   "cell_type": "code",
   "execution_count": 94,
   "metadata": {
    "slideshow": {
     "slide_type": "subslide"
    }
   },
   "outputs": [
    {
     "data": {
      "text/plain": [
       "['The quick brown fox jumped over the lazy yellow dog']"
      ]
     },
     "execution_count": 94,
     "metadata": {},
     "output_type": "execute_result"
    }
   ],
   "source": [
    "text = \"The quick brown fox jumped over the lazy yellow dog\"\n",
    "re.findall(\"^.*$\", text)"
   ]
  },
  {
   "cell_type": "markdown",
   "metadata": {
    "slideshow": {
     "slide_type": "subslide"
    }
   },
   "source": [
    "## Reference\n",
    "\n",
    "- `a` - Match the letter 'a'. Same for most other characters\n",
    "- `.` - Match any single character\n",
    "- `\\.` - Match a period. Same for other 'special' characters\n",
    "- `\\w` - Match any word character\n",
    "- `\\d` - Match any digit\n",
    "- `\\s` - Match any whitespace character\n",
    "- `[ab]` - Group of multiple possible characters\n",
    "- `[a-z]` matches any character from a to z\n",
    "- `[A-Z]` matches any character from A to Z\n",
    "- `?` - One or zero of the preceding match\n",
    "- `+` - One or more of the preceding match (greedy)\n",
    "- `*` - Zero or more of the preceding match (greedy)\n",
    "- `+?` - One or more of the preceding match (lazy)\n",
    "- `*?` - Zero or more of the preceding match (lazy)\n",
    "- `^` - Start of line\n",
    "- `$` - End of line"
   ]
  },
  {
   "cell_type": "markdown",
   "metadata": {
    "slideshow": {
     "slide_type": "slide"
    }
   },
   "source": [
    "# Additional tips\n",
    "\n",
    "Choose a range for repetition with `{min,max}`. e.g."
   ]
  },
  {
   "cell_type": "code",
   "execution_count": 49,
   "metadata": {},
   "outputs": [
    {
     "data": {
      "text/plain": [
       "<_sre.SRE_Match object; span=(0, 4), match='YOLO'>"
      ]
     },
     "execution_count": 49,
     "metadata": {},
     "output_type": "execute_result"
    }
   ],
   "source": [
    "text = \"YOLO\"\n",
    "re.search('YOLO{1,3}$', text) "
   ]
  },
  {
   "cell_type": "code",
   "execution_count": 50,
   "metadata": {},
   "outputs": [
    {
     "data": {
      "text/plain": [
       "<_sre.SRE_Match object; span=(0, 6), match='YOLOOO'>"
      ]
     },
     "execution_count": 50,
     "metadata": {},
     "output_type": "execute_result"
    }
   ],
   "source": [
    "text = \"YOLOOO\"\n",
    "re.search('YOLO{1,3}$', text)"
   ]
  },
  {
   "cell_type": "code",
   "execution_count": 51,
   "metadata": {},
   "outputs": [],
   "source": [
    "text = \"YOLOOOOOO\"\n",
    "re.search('YOLO{1,3}$', text)"
   ]
  },
  {
   "cell_type": "markdown",
   "metadata": {
    "slideshow": {
     "slide_type": "subslide"
    }
   },
   "source": [
    "*Negation*\n",
    "    \n",
    "Use the caret in square brackets: `[^aeiou]` means *not* a, e, t, o, or u"
   ]
  },
  {
   "cell_type": "markdown",
   "metadata": {
    "slideshow": {
     "slide_type": "fragment"
    }
   },
   "source": [
    "*Groups*\n",
    "    \n",
    "Use parentheses. e.g:"
   ]
  },
  {
   "cell_type": "code",
   "execution_count": 53,
   "metadata": {},
   "outputs": [
    {
     "data": {
      "text/plain": [
       "<_sre.SRE_Match object; span=(0, 6), match='banana'>"
      ]
     },
     "execution_count": 53,
     "metadata": {},
     "output_type": "execute_result"
    }
   ],
   "source": [
    "text = \"banana\"\n",
    "re.search('^ba(na)+$', text)"
   ]
  },
  {
   "cell_type": "code",
   "execution_count": 54,
   "metadata": {},
   "outputs": [
    {
     "data": {
      "text/plain": [
       "<_sre.SRE_Match object; span=(0, 23), match='lololololololololololol'>"
      ]
     },
     "execution_count": 54,
     "metadata": {},
     "output_type": "execute_result"
    }
   ],
   "source": [
    "text = \"lololololololololololol\"\n",
    "re.search('^l(ol)+$', text)"
   ]
  },
  {
   "cell_type": "markdown",
   "metadata": {
    "slideshow": {
     "slide_type": "subslide"
    }
   },
   "source": [
    "Capturing groups:"
   ]
  },
  {
   "cell_type": "code",
   "execution_count": 61,
   "metadata": {},
   "outputs": [
    {
     "data": {
      "text/plain": [
       "['Ketch', 'Cats']"
      ]
     },
     "execution_count": 61,
     "metadata": {},
     "output_type": "execute_result"
    }
   ],
   "source": [
    "text = \"Ketchup Catsup\"\n",
    "re.findall('(Ketch|Cats)up', text)"
   ]
  }
 ],
 "metadata": {
  "celltoolbar": "Slideshow",
  "kernelspec": {
   "display_name": "Python 3",
   "language": "python",
   "name": "python3"
  },
  "language_info": {
   "codemirror_mode": {
    "name": "ipython",
    "version": 3
   },
   "file_extension": ".py",
   "mimetype": "text/x-python",
   "name": "python",
   "nbconvert_exporter": "python",
   "pygments_lexer": "ipython3",
   "version": "3.6.4"
  }
 },
 "nbformat": 4,
 "nbformat_minor": 2
}
