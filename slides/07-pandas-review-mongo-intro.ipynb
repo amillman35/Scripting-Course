{
 "cells": [
  {
   "cell_type": "markdown",
   "metadata": {
    "slideshow": {
     "slide_type": "slide"
    }
   },
   "source": [
    "# Scripting Week 7: Pandas Wrap-up\n",
    "\n",
    "Skip to videos to watch *before* our in-person class session: [#Advanced-Skills](#Advanced-Skills)"
   ]
  },
  {
   "cell_type": "code",
   "execution_count": 50,
   "metadata": {
    "slideshow": {
     "slide_type": "subslide"
    }
   },
   "outputs": [],
   "source": [
    "import pandas as pd"
   ]
  },
  {
   "cell_type": "markdown",
   "metadata": {
    "slideshow": {
     "slide_type": "subslide"
    }
   },
   "source": [
    "## Announcements"
   ]
  },
  {
   "cell_type": "markdown",
   "metadata": {
    "slideshow": {
     "slide_type": "subslide"
    }
   },
   "source": [
    "## For next week...\n",
    "\n",
    "* Bring you final project questions to class next - I can help during the lab time!\n",
    "\n",
    "* Have your data collected and figured out! You don't want to get to the deadline only to realize that you can't get the data the way you want!"
   ]
  },
  {
   "cell_type": "markdown",
   "metadata": {
    "slideshow": {
     "slide_type": "slide"
    }
   },
   "source": [
    "## Review"
   ]
  },
  {
   "cell_type": "markdown",
   "metadata": {
    "slideshow": {
     "slide_type": "subslide"
    }
   },
   "source": [
    "Load sample data:"
   ]
  },
  {
   "cell_type": "code",
   "execution_count": 53,
   "metadata": {},
   "outputs": [
    {
     "data": {
      "text/html": [
       "<div>\n",
       "<style scoped>\n",
       "    .dataframe tbody tr th:only-of-type {\n",
       "        vertical-align: middle;\n",
       "    }\n",
       "\n",
       "    .dataframe tbody tr th {\n",
       "        vertical-align: top;\n",
       "    }\n",
       "\n",
       "    .dataframe thead th {\n",
       "        text-align: right;\n",
       "    }\n",
       "</style>\n",
       "<table border=\"1\" class=\"dataframe\">\n",
       "  <thead>\n",
       "    <tr style=\"text-align: right;\">\n",
       "      <th></th>\n",
       "      <th>userId</th>\n",
       "      <th>rating</th>\n",
       "      <th>genres</th>\n",
       "      <th>timestamp</th>\n",
       "      <th>year</th>\n",
       "    </tr>\n",
       "    <tr>\n",
       "      <th>title</th>\n",
       "      <th></th>\n",
       "      <th></th>\n",
       "      <th></th>\n",
       "      <th></th>\n",
       "      <th></th>\n",
       "    </tr>\n",
       "  </thead>\n",
       "  <tbody>\n",
       "    <tr>\n",
       "      <th>Bringing Up Baby</th>\n",
       "      <td>481</td>\n",
       "      <td>4.0</td>\n",
       "      <td>Comedy</td>\n",
       "      <td>1437001472</td>\n",
       "      <td>1938</td>\n",
       "    </tr>\n",
       "    <tr>\n",
       "      <th>Long, Hot Summer, The</th>\n",
       "      <td>311</td>\n",
       "      <td>3.5</td>\n",
       "      <td>Drama</td>\n",
       "      <td>1061927755</td>\n",
       "      <td>1958</td>\n",
       "    </tr>\n",
       "    <tr>\n",
       "      <th>Net, The</th>\n",
       "      <td>191</td>\n",
       "      <td>3.0</td>\n",
       "      <td>Action</td>\n",
       "      <td>839925608</td>\n",
       "      <td>1995</td>\n",
       "    </tr>\n",
       "    <tr>\n",
       "      <th>City Lights</th>\n",
       "      <td>648</td>\n",
       "      <td>4.5</td>\n",
       "      <td>Comedy</td>\n",
       "      <td>1176754888</td>\n",
       "      <td>1931</td>\n",
       "    </tr>\n",
       "    <tr>\n",
       "      <th>Eagle vs Shark</th>\n",
       "      <td>132</td>\n",
       "      <td>4.0</td>\n",
       "      <td>Comedy</td>\n",
       "      <td>1284496709</td>\n",
       "      <td>2007</td>\n",
       "    </tr>\n",
       "  </tbody>\n",
       "</table>\n",
       "</div>"
      ],
      "text/plain": [
       "                       userId  rating  genres   timestamp  year\n",
       "title                                                          \n",
       "Bringing Up Baby          481     4.0  Comedy  1437001472  1938\n",
       "Long, Hot Summer, The     311     3.5   Drama  1061927755  1958\n",
       "Net, The                  191     3.0  Action   839925608  1995\n",
       "City Lights               648     4.5  Comedy  1176754888  1931\n",
       "Eagle vs Shark            132     4.0  Comedy  1284496709  2007"
      ]
     },
     "execution_count": 53,
     "metadata": {},
     "output_type": "execute_result"
    }
   ],
   "source": [
    "movies = pd.read_csv('https://raw.githubusercontent.com/organisciak/Scripting-Course/master/data/movielens_small.csv')\n",
    "df = movies.sample(n=5, random_state=12345).set_index('title')\n",
    "df "
   ]
  },
  {
   "cell_type": "code",
   "execution_count": null,
   "metadata": {
    "scrolled": true,
    "slideshow": {
     "slide_type": "subslide"
    }
   },
   "outputs": [],
   "source": []
  },
  {
   "cell_type": "markdown",
   "metadata": {},
   "source": [
    "How would you select:\n",
    "    \n",
    "- Rows 2:4\n",
    "- The row titled \"City Lights\"\n",
    "- The first, second, and fifth rows\n",
    "- The columns `genres` and `year`\n",
    "- The column `genres` as a Series\n",
    "- The column `genres` as a DataFrame\n",
    "- The rows where the year is `> 1990`\n",
    "- The rows where the `genres` value is `Action` or `Drama`"
   ]
  },
  {
   "cell_type": "markdown",
   "metadata": {
    "slideshow": {
     "slide_type": "subslide"
    }
   },
   "source": [
    "### Selecting DataFrames\n",
    "\n",
    "Everything follows the pattern:\n",
    "\n",
    "`df[ ... ]`\n",
    "\n",
    "Except selecting rows by index name, which uses:\n",
    "\n",
    "`df.loc[ ... ]`"
   ]
  },
  {
   "cell_type": "markdown",
   "metadata": {
    "slideshow": {
     "slide_type": "subslide"
    }
   },
   "source": [
    "**Selecting rows by numeric index**\n",
    "\n",
    "Provide `x:y` notation in : `df[10:14]`\n",
    "\n",
    "**Selecting rows by index name**\n",
    "\n",
    "Provide the name to `.loc[]`: `df.loc['Sherlock Holmes']`\n",
    "\n",
    "**Selecting rows by inclusion criteria**\n",
    "\n",
    "Provide any collection (e.g. a list or Series) of True/False values:\n",
    "\n",
    "```\n",
    "df[[True, False, False, True, True]]\n",
    "```\n",
    "\n",
    "```\n",
    "df[df.year > 1996]\n",
    "```"
   ]
  },
  {
   "cell_type": "markdown",
   "metadata": {
    "slideshow": {
     "slide_type": "subslide"
    }
   },
   "source": [
    "**Selecting multiple columns**\n",
    "\n",
    "Provide a collection of strings, referencing the column names:\n",
    "\n",
    "```\n",
    "df[['genres', 'year']]\n",
    "```\n",
    "    \n",
    "**Selecting single column (as Series)**\n",
    "\n",
    "```\n",
    "df['year']\n",
    "```\n",
    "\n",
    "Or:\n",
    "\n",
    "```\n",
    "df.year\n",
    "```\n",
    "\n",
    "Consider the latter as the shortcut, not the main way.\n",
    "\n",
    "The output is a Series. To select a single column as a DataFrame, use list with only one value."
   ]
  },
  {
   "cell_type": "markdown",
   "metadata": {
    "slideshow": {
     "slide_type": "subslide"
    }
   },
   "source": [
    "## Selecting by Index\n",
    "    \n",
    "In addition to passing a string to `.loc[]`:"
   ]
  },
  {
   "cell_type": "code",
   "execution_count": 96,
   "metadata": {},
   "outputs": [
    {
     "data": {
      "text/plain": [
       "userId              648\n",
       "rating              4.5\n",
       "genres           Comedy\n",
       "timestamp    1176754888\n",
       "year               1931\n",
       "Name: City Lights, dtype: object"
      ]
     },
     "execution_count": 96,
     "metadata": {},
     "output_type": "execute_result"
    }
   ],
   "source": [
    "df.loc['City Lights']"
   ]
  },
  {
   "cell_type": "markdown",
   "metadata": {
    "slideshow": {
     "slide_type": "subslide"
    }
   },
   "source": [
    "You can pass a list of index names:"
   ]
  },
  {
   "cell_type": "code",
   "execution_count": 97,
   "metadata": {},
   "outputs": [
    {
     "data": {
      "text/html": [
       "<div>\n",
       "<style scoped>\n",
       "    .dataframe tbody tr th:only-of-type {\n",
       "        vertical-align: middle;\n",
       "    }\n",
       "\n",
       "    .dataframe tbody tr th {\n",
       "        vertical-align: top;\n",
       "    }\n",
       "\n",
       "    .dataframe thead th {\n",
       "        text-align: right;\n",
       "    }\n",
       "</style>\n",
       "<table border=\"1\" class=\"dataframe\">\n",
       "  <thead>\n",
       "    <tr style=\"text-align: right;\">\n",
       "      <th></th>\n",
       "      <th>userId</th>\n",
       "      <th>rating</th>\n",
       "      <th>genres</th>\n",
       "      <th>timestamp</th>\n",
       "      <th>year</th>\n",
       "    </tr>\n",
       "    <tr>\n",
       "      <th>title</th>\n",
       "      <th></th>\n",
       "      <th></th>\n",
       "      <th></th>\n",
       "      <th></th>\n",
       "      <th></th>\n",
       "    </tr>\n",
       "  </thead>\n",
       "  <tbody>\n",
       "    <tr>\n",
       "      <th>City Lights</th>\n",
       "      <td>648</td>\n",
       "      <td>4.5</td>\n",
       "      <td>Comedy</td>\n",
       "      <td>1176754888</td>\n",
       "      <td>1931</td>\n",
       "    </tr>\n",
       "    <tr>\n",
       "      <th>Bringing Up Baby</th>\n",
       "      <td>481</td>\n",
       "      <td>4.0</td>\n",
       "      <td>Comedy</td>\n",
       "      <td>1437001472</td>\n",
       "      <td>1938</td>\n",
       "    </tr>\n",
       "  </tbody>\n",
       "</table>\n",
       "</div>"
      ],
      "text/plain": [
       "                  userId  rating  genres   timestamp  year\n",
       "title                                                     \n",
       "City Lights          648     4.5  Comedy  1176754888  1931\n",
       "Bringing Up Baby     481     4.0  Comedy  1437001472  1938"
      ]
     },
     "execution_count": 97,
     "metadata": {},
     "output_type": "execute_result"
    }
   ],
   "source": [
    "df.loc[['City Lights', 'Bringing Up Baby']]"
   ]
  },
  {
   "cell_type": "markdown",
   "metadata": {
    "slideshow": {
     "slide_type": "subslide"
    }
   },
   "source": [
    "### Setting and resetting an index:"
   ]
  },
  {
   "cell_type": "code",
   "execution_count": 98,
   "metadata": {},
   "outputs": [
    {
     "data": {
      "text/html": [
       "<div>\n",
       "<style scoped>\n",
       "    .dataframe tbody tr th:only-of-type {\n",
       "        vertical-align: middle;\n",
       "    }\n",
       "\n",
       "    .dataframe tbody tr th {\n",
       "        vertical-align: top;\n",
       "    }\n",
       "\n",
       "    .dataframe thead th {\n",
       "        text-align: right;\n",
       "    }\n",
       "</style>\n",
       "<table border=\"1\" class=\"dataframe\">\n",
       "  <thead>\n",
       "    <tr style=\"text-align: right;\">\n",
       "      <th></th>\n",
       "      <th>title</th>\n",
       "      <th>userId</th>\n",
       "      <th>rating</th>\n",
       "      <th>genres</th>\n",
       "      <th>timestamp</th>\n",
       "      <th>year</th>\n",
       "    </tr>\n",
       "  </thead>\n",
       "  <tbody>\n",
       "    <tr>\n",
       "      <th>0</th>\n",
       "      <td>Bringing Up Baby</td>\n",
       "      <td>481</td>\n",
       "      <td>4.0</td>\n",
       "      <td>Comedy</td>\n",
       "      <td>1437001472</td>\n",
       "      <td>1938</td>\n",
       "    </tr>\n",
       "    <tr>\n",
       "      <th>1</th>\n",
       "      <td>Long, Hot Summer, The</td>\n",
       "      <td>311</td>\n",
       "      <td>3.5</td>\n",
       "      <td>Drama</td>\n",
       "      <td>1061927755</td>\n",
       "      <td>1958</td>\n",
       "    </tr>\n",
       "    <tr>\n",
       "      <th>2</th>\n",
       "      <td>Net, The</td>\n",
       "      <td>191</td>\n",
       "      <td>3.0</td>\n",
       "      <td>Action</td>\n",
       "      <td>839925608</td>\n",
       "      <td>1995</td>\n",
       "    </tr>\n",
       "    <tr>\n",
       "      <th>3</th>\n",
       "      <td>City Lights</td>\n",
       "      <td>648</td>\n",
       "      <td>4.5</td>\n",
       "      <td>Comedy</td>\n",
       "      <td>1176754888</td>\n",
       "      <td>1931</td>\n",
       "    </tr>\n",
       "    <tr>\n",
       "      <th>4</th>\n",
       "      <td>Eagle vs Shark</td>\n",
       "      <td>132</td>\n",
       "      <td>4.0</td>\n",
       "      <td>Comedy</td>\n",
       "      <td>1284496709</td>\n",
       "      <td>2007</td>\n",
       "    </tr>\n",
       "  </tbody>\n",
       "</table>\n",
       "</div>"
      ],
      "text/plain": [
       "                   title  userId  rating  genres   timestamp  year\n",
       "0       Bringing Up Baby     481     4.0  Comedy  1437001472  1938\n",
       "1  Long, Hot Summer, The     311     3.5   Drama  1061927755  1958\n",
       "2               Net, The     191     3.0  Action   839925608  1995\n",
       "3            City Lights     648     4.5  Comedy  1176754888  1931\n",
       "4         Eagle vs Shark     132     4.0  Comedy  1284496709  2007"
      ]
     },
     "execution_count": 98,
     "metadata": {},
     "output_type": "execute_result"
    }
   ],
   "source": [
    "df2 = df.reset_index()\n",
    "df2"
   ]
  },
  {
   "cell_type": "code",
   "execution_count": 112,
   "metadata": {},
   "outputs": [
    {
     "data": {
      "text/html": [
       "<div>\n",
       "<style scoped>\n",
       "    .dataframe tbody tr th:only-of-type {\n",
       "        vertical-align: middle;\n",
       "    }\n",
       "\n",
       "    .dataframe tbody tr th {\n",
       "        vertical-align: top;\n",
       "    }\n",
       "\n",
       "    .dataframe thead th {\n",
       "        text-align: right;\n",
       "    }\n",
       "</style>\n",
       "<table border=\"1\" class=\"dataframe\">\n",
       "  <thead>\n",
       "    <tr style=\"text-align: right;\">\n",
       "      <th></th>\n",
       "      <th>title</th>\n",
       "      <th>userId</th>\n",
       "      <th>rating</th>\n",
       "      <th>timestamp</th>\n",
       "      <th>year</th>\n",
       "    </tr>\n",
       "    <tr>\n",
       "      <th>genres</th>\n",
       "      <th></th>\n",
       "      <th></th>\n",
       "      <th></th>\n",
       "      <th></th>\n",
       "      <th></th>\n",
       "    </tr>\n",
       "  </thead>\n",
       "  <tbody>\n",
       "    <tr>\n",
       "      <th>Comedy</th>\n",
       "      <td>Bringing Up Baby</td>\n",
       "      <td>481</td>\n",
       "      <td>4.0</td>\n",
       "      <td>1437001472</td>\n",
       "      <td>1938</td>\n",
       "    </tr>\n",
       "    <tr>\n",
       "      <th>Drama</th>\n",
       "      <td>Long, Hot Summer, The</td>\n",
       "      <td>311</td>\n",
       "      <td>3.5</td>\n",
       "      <td>1061927755</td>\n",
       "      <td>1958</td>\n",
       "    </tr>\n",
       "    <tr>\n",
       "      <th>Action</th>\n",
       "      <td>Net, The</td>\n",
       "      <td>191</td>\n",
       "      <td>3.0</td>\n",
       "      <td>839925608</td>\n",
       "      <td>1995</td>\n",
       "    </tr>\n",
       "    <tr>\n",
       "      <th>Comedy</th>\n",
       "      <td>City Lights</td>\n",
       "      <td>648</td>\n",
       "      <td>4.5</td>\n",
       "      <td>1176754888</td>\n",
       "      <td>1931</td>\n",
       "    </tr>\n",
       "    <tr>\n",
       "      <th>Comedy</th>\n",
       "      <td>Eagle vs Shark</td>\n",
       "      <td>132</td>\n",
       "      <td>4.0</td>\n",
       "      <td>1284496709</td>\n",
       "      <td>2007</td>\n",
       "    </tr>\n",
       "  </tbody>\n",
       "</table>\n",
       "</div>"
      ],
      "text/plain": [
       "                        title  userId  rating   timestamp  year\n",
       "genres                                                         \n",
       "Comedy       Bringing Up Baby     481     4.0  1437001472  1938\n",
       "Drama   Long, Hot Summer, The     311     3.5  1061927755  1958\n",
       "Action               Net, The     191     3.0   839925608  1995\n",
       "Comedy            City Lights     648     4.5  1176754888  1931\n",
       "Comedy         Eagle vs Shark     132     4.0  1284496709  2007"
      ]
     },
     "execution_count": 112,
     "metadata": {},
     "output_type": "execute_result"
    }
   ],
   "source": [
    "df2.set_index('genres')"
   ]
  },
  {
   "cell_type": "code",
   "execution_count": 100,
   "metadata": {
    "scrolled": true,
    "slideshow": {
     "slide_type": "subslide"
    }
   },
   "outputs": [
    {
     "data": {
      "text/html": [
       "<div>\n",
       "<style scoped>\n",
       "    .dataframe tbody tr th:only-of-type {\n",
       "        vertical-align: middle;\n",
       "    }\n",
       "\n",
       "    .dataframe tbody tr th {\n",
       "        vertical-align: top;\n",
       "    }\n",
       "\n",
       "    .dataframe thead th {\n",
       "        text-align: right;\n",
       "    }\n",
       "</style>\n",
       "<table border=\"1\" class=\"dataframe\">\n",
       "  <thead>\n",
       "    <tr style=\"text-align: right;\">\n",
       "      <th></th>\n",
       "      <th></th>\n",
       "      <th>userId</th>\n",
       "      <th>rating</th>\n",
       "      <th>timestamp</th>\n",
       "      <th>year</th>\n",
       "    </tr>\n",
       "    <tr>\n",
       "      <th>genres</th>\n",
       "      <th>title</th>\n",
       "      <th></th>\n",
       "      <th></th>\n",
       "      <th></th>\n",
       "      <th></th>\n",
       "    </tr>\n",
       "  </thead>\n",
       "  <tbody>\n",
       "    <tr>\n",
       "      <th>Action</th>\n",
       "      <th>Net, The</th>\n",
       "      <td>191</td>\n",
       "      <td>3.0</td>\n",
       "      <td>839925608</td>\n",
       "      <td>1995</td>\n",
       "    </tr>\n",
       "    <tr>\n",
       "      <th rowspan=\"3\" valign=\"top\">Comedy</th>\n",
       "      <th>Bringing Up Baby</th>\n",
       "      <td>481</td>\n",
       "      <td>4.0</td>\n",
       "      <td>1437001472</td>\n",
       "      <td>1938</td>\n",
       "    </tr>\n",
       "    <tr>\n",
       "      <th>City Lights</th>\n",
       "      <td>648</td>\n",
       "      <td>4.5</td>\n",
       "      <td>1176754888</td>\n",
       "      <td>1931</td>\n",
       "    </tr>\n",
       "    <tr>\n",
       "      <th>Eagle vs Shark</th>\n",
       "      <td>132</td>\n",
       "      <td>4.0</td>\n",
       "      <td>1284496709</td>\n",
       "      <td>2007</td>\n",
       "    </tr>\n",
       "    <tr>\n",
       "      <th>Drama</th>\n",
       "      <th>Long, Hot Summer, The</th>\n",
       "      <td>311</td>\n",
       "      <td>3.5</td>\n",
       "      <td>1061927755</td>\n",
       "      <td>1958</td>\n",
       "    </tr>\n",
       "  </tbody>\n",
       "</table>\n",
       "</div>"
      ],
      "text/plain": [
       "                              userId  rating   timestamp  year\n",
       "genres title                                                  \n",
       "Action Net, The                  191     3.0   839925608  1995\n",
       "Comedy Bringing Up Baby          481     4.0  1437001472  1938\n",
       "       City Lights               648     4.5  1176754888  1931\n",
       "       Eagle vs Shark            132     4.0  1284496709  2007\n",
       "Drama  Long, Hot Summer, The     311     3.5  1061927755  1958"
      ]
     },
     "execution_count": 100,
     "metadata": {},
     "output_type": "execute_result"
    }
   ],
   "source": [
    "df3 = df2.set_index(['genres', 'title']).sort_index()\n",
    "df3"
   ]
  },
  {
   "cell_type": "code",
   "execution_count": null,
   "metadata": {},
   "outputs": [],
   "source": []
  },
  {
   "cell_type": "code",
   "execution_count": 33,
   "metadata": {
    "slideshow": {
     "slide_type": "subslide"
    }
   },
   "outputs": [
    {
     "data": {
      "text/html": [
       "<div>\n",
       "<style scoped>\n",
       "    .dataframe tbody tr th:only-of-type {\n",
       "        vertical-align: middle;\n",
       "    }\n",
       "\n",
       "    .dataframe tbody tr th {\n",
       "        vertical-align: top;\n",
       "    }\n",
       "\n",
       "    .dataframe thead th {\n",
       "        text-align: right;\n",
       "    }\n",
       "</style>\n",
       "<table border=\"1\" class=\"dataframe\">\n",
       "  <thead>\n",
       "    <tr style=\"text-align: right;\">\n",
       "      <th></th>\n",
       "      <th>userId</th>\n",
       "      <th>rating</th>\n",
       "      <th>timestamp</th>\n",
       "      <th>year</th>\n",
       "    </tr>\n",
       "    <tr>\n",
       "      <th>title</th>\n",
       "      <th></th>\n",
       "      <th></th>\n",
       "      <th></th>\n",
       "      <th></th>\n",
       "    </tr>\n",
       "  </thead>\n",
       "  <tbody>\n",
       "    <tr>\n",
       "      <th>Bringing Up Baby</th>\n",
       "      <td>481</td>\n",
       "      <td>4.0</td>\n",
       "      <td>1437001472</td>\n",
       "      <td>1938</td>\n",
       "    </tr>\n",
       "    <tr>\n",
       "      <th>City Lights</th>\n",
       "      <td>648</td>\n",
       "      <td>4.5</td>\n",
       "      <td>1176754888</td>\n",
       "      <td>1931</td>\n",
       "    </tr>\n",
       "    <tr>\n",
       "      <th>Eagle vs Shark</th>\n",
       "      <td>132</td>\n",
       "      <td>4.0</td>\n",
       "      <td>1284496709</td>\n",
       "      <td>2007</td>\n",
       "    </tr>\n",
       "  </tbody>\n",
       "</table>\n",
       "</div>"
      ],
      "text/plain": [
       "                  userId  rating   timestamp  year\n",
       "title                                             \n",
       "Bringing Up Baby     481     4.0  1437001472  1938\n",
       "City Lights          648     4.5  1176754888  1931\n",
       "Eagle vs Shark       132     4.0  1284496709  2007"
      ]
     },
     "execution_count": 33,
     "metadata": {},
     "output_type": "execute_result"
    }
   ],
   "source": [
    "df3.loc[('Comedy')]"
   ]
  },
  {
   "cell_type": "code",
   "execution_count": 12,
   "metadata": {
    "slideshow": {
     "slide_type": "fragment"
    }
   },
   "outputs": [
    {
     "data": {
      "text/plain": [
       "userId       6.480000e+02\n",
       "rating       4.500000e+00\n",
       "timestamp    1.176755e+09\n",
       "year         1.931000e+03\n",
       "Name: (Comedy, City Lights), dtype: float64"
      ]
     },
     "execution_count": 12,
     "metadata": {},
     "output_type": "execute_result"
    }
   ],
   "source": [
    "df3.loc[('Comedy', 'City Lights')]"
   ]
  },
  {
   "cell_type": "markdown",
   "metadata": {
    "slideshow": {
     "slide_type": "slide"
    }
   },
   "source": [
    "# Advanced Skills\n",
    "\n",
    "\n",
    "## Python - Running Scripts"
   ]
  },
  {
   "cell_type": "code",
   "execution_count": 14,
   "metadata": {
    "scrolled": false
   },
   "outputs": [
    {
     "data": {
      "text/html": [
       "<div style=\"max-width:790px\"><div style=\"position:relative;padding-bottom:60%\"><iframe id=\"kaltura_player\" src=\"https://cdnapisec.kaltura.com/p/2357732/sp/235773200/embedIframeJs/uiconf_id/41433732/partner_id/2357732?iframeembed=true&playerId=kaltura_player&entry_id=0_rlqy33v3&flashvars[streamerType]=auto&amp;flashvars[localizationCode]=en&amp;flashvars[leadWithHTML5]=true&amp;flashvars[sideBarContainer.plugin]=true&amp;flashvars[sideBarContainer.position]=left&amp;flashvars[sideBarContainer.clickToClose]=true&amp;flashvars[chapters.plugin]=true&amp;flashvars[chapters.layout]=vertical&amp;flashvars[chapters.thumbnailRotator]=false&amp;flashvars[streamSelector.plugin]=true&amp;flashvars[EmbedPlayer.SpinnerTarget]=videoHolder&amp;flashvars[dualScreen.plugin]=true&amp;flashvars[hotspots.plugin]=1&amp;flashvars[Kaltura.addCrossoriginToIframe]=true&amp;&wid=0_743dflzu\" width=\"790\" height=\"474\" allowfullscreen webkitallowfullscreen mozAllowFullScreen allow=\"autoplay *; fullscreen *; encrypted-media *\" sandbox=\"allow-forms allow-same-origin allow-scripts allow-top-navigation allow-pointer-lock allow-popups allow-modals allow-orientation-lock allow-popups-to-escape-sandbox allow-presentation allow-top-navigation-by-user-activation\" frameborder=\"0\" title=\"Kaltura Player\" style=\"position:absolute;top:0;left:0;width:100%;height:100%\"></iframe></div></div>"
      ],
      "text/plain": [
       "<IPython.core.display.HTML object>"
      ]
     },
     "execution_count": 14,
     "metadata": {},
     "output_type": "execute_result"
    }
   ],
   "source": [
    "from IPython.display import HTML\n",
    "HTML('<div style=\"max-width:790px\"><div style=\"position:relative;padding-bottom:60%\"><iframe id=\"kaltura_player\" src=\"https://cdnapisec.kaltura.com/p/2357732/sp/235773200/embedIframeJs/uiconf_id/41433732/partner_id/2357732?iframeembed=true&playerId=kaltura_player&entry_id=0_rlqy33v3&flashvars[streamerType]=auto&amp;flashvars[localizationCode]=en&amp;flashvars[leadWithHTML5]=true&amp;flashvars[sideBarContainer.plugin]=true&amp;flashvars[sideBarContainer.position]=left&amp;flashvars[sideBarContainer.clickToClose]=true&amp;flashvars[chapters.plugin]=true&amp;flashvars[chapters.layout]=vertical&amp;flashvars[chapters.thumbnailRotator]=false&amp;flashvars[streamSelector.plugin]=true&amp;flashvars[EmbedPlayer.SpinnerTarget]=videoHolder&amp;flashvars[dualScreen.plugin]=true&amp;flashvars[hotspots.plugin]=1&amp;flashvars[Kaltura.addCrossoriginToIframe]=true&amp;&wid=0_743dflzu\" width=\"790\" height=\"474\" allowfullscreen webkitallowfullscreen mozAllowFullScreen allow=\"autoplay *; fullscreen *; encrypted-media *\" sandbox=\"allow-forms allow-same-origin allow-scripts allow-top-navigation allow-pointer-lock allow-popups allow-modals allow-orientation-lock allow-popups-to-escape-sandbox allow-presentation allow-top-navigation-by-user-activation\" frameborder=\"0\" title=\"Kaltura Player\" style=\"position:absolute;top:0;left:0;width:100%;height:100%\"></iframe></div></div>')"
   ]
  },
  {
   "cell_type": "markdown",
   "metadata": {
    "slideshow": {
     "slide_type": "subslide"
    }
   },
   "source": [
    "1. Save a notebook as a script:\n",
    "    ![](../images/save-as.png)\n",
    "2. On the command line: `python name_of_script.py`\n",
    "    - You may need to navigate to the correct folder with `cd /path/to/folder/name`\n",
    "    - You may need to activate the Anaconda environment, with either `activate` or `source activate`\n",
    "    \n",
    "*Notebooks are good for interaction, `.py` script files are good for repetition*"
   ]
  },
  {
   "cell_type": "markdown",
   "metadata": {
    "slideshow": {
     "slide_type": "slide"
    }
   },
   "source": [
    "## Pandas <-> SQL Skills Transfer\n",
    "\n",
    "[Pandas Documentation: Comparison with SQL](http://pandas.pydata.org/pandas-docs/stable/comparison_with_sql.html)\n",
    "\n",
    "![](../images/sql-skills.png)"
   ]
  },
  {
   "cell_type": "code",
   "execution_count": 48,
   "metadata": {},
   "outputs": [
    {
     "data": {
      "text/html": [
       "<div style=\"max-width:790px\"><div style=\"position:relative;padding-bottom:60%\"><iframe id=\"kaltura_player\" src=\"https://cdnapisec.kaltura.com/p/2357732/sp/235773200/embedIframeJs/uiconf_id/41433732/partner_id/2357732?iframeembed=true&playerId=kaltura_player&entry_id=0_y1kh60p3&flashvars[streamerType]=auto&amp;flashvars[localizationCode]=en&amp;flashvars[leadWithHTML5]=true&amp;flashvars[sideBarContainer.plugin]=true&amp;flashvars[sideBarContainer.position]=left&amp;flashvars[sideBarContainer.clickToClose]=true&amp;flashvars[chapters.plugin]=true&amp;flashvars[chapters.layout]=vertical&amp;flashvars[chapters.thumbnailRotator]=false&amp;flashvars[streamSelector.plugin]=true&amp;flashvars[EmbedPlayer.SpinnerTarget]=videoHolder&amp;flashvars[dualScreen.plugin]=true&amp;flashvars[hotspots.plugin]=1&amp;flashvars[Kaltura.addCrossoriginToIframe]=true&amp;&wid=0_a274h3c3\" width=\"790\" height=\"474\" allowfullscreen webkitallowfullscreen mozAllowFullScreen allow=\"autoplay *; fullscreen *; encrypted-media *\" sandbox=\"allow-forms allow-same-origin allow-scripts allow-top-navigation allow-pointer-lock allow-popups allow-modals allow-orientation-lock allow-popups-to-escape-sandbox allow-presentation allow-top-navigation-by-user-activation\" frameborder=\"0\" title=\"Kaltura Player\" style=\"position:absolute;top:0;left:0;width:100%;height:100%\"></iframe></div></div>"
      ],
      "text/plain": [
       "<IPython.core.display.HTML object>"
      ]
     },
     "execution_count": 48,
     "metadata": {},
     "output_type": "execute_result"
    }
   ],
   "source": [
    "HTML('<div style=\"max-width:790px\"><div style=\"position:relative;padding-bottom:60%\"><iframe id=\"kaltura_player\" src=\"https://cdnapisec.kaltura.com/p/2357732/sp/235773200/embedIframeJs/uiconf_id/41433732/partner_id/2357732?iframeembed=true&playerId=kaltura_player&entry_id=0_y1kh60p3&flashvars[streamerType]=auto&amp;flashvars[localizationCode]=en&amp;flashvars[leadWithHTML5]=true&amp;flashvars[sideBarContainer.plugin]=true&amp;flashvars[sideBarContainer.position]=left&amp;flashvars[sideBarContainer.clickToClose]=true&amp;flashvars[chapters.plugin]=true&amp;flashvars[chapters.layout]=vertical&amp;flashvars[chapters.thumbnailRotator]=false&amp;flashvars[streamSelector.plugin]=true&amp;flashvars[EmbedPlayer.SpinnerTarget]=videoHolder&amp;flashvars[dualScreen.plugin]=true&amp;flashvars[hotspots.plugin]=1&amp;flashvars[Kaltura.addCrossoriginToIframe]=true&amp;&wid=0_a274h3c3\" width=\"790\" height=\"474\" allowfullscreen webkitallowfullscreen mozAllowFullScreen allow=\"autoplay *; fullscreen *; encrypted-media *\" sandbox=\"allow-forms allow-same-origin allow-scripts allow-top-navigation allow-pointer-lock allow-popups allow-modals allow-orientation-lock allow-popups-to-escape-sandbox allow-presentation allow-top-navigation-by-user-activation\" frameborder=\"0\" title=\"Kaltura Player\" style=\"position:absolute;top:0;left:0;width:100%;height:100%\"></iframe></div></div>')"
   ]
  },
  {
   "cell_type": "markdown",
   "metadata": {
    "slideshow": {
     "slide_type": "slide"
    }
   },
   "source": [
    "# Pandas Skills - Rolling Means and Working with Data Types"
   ]
  },
  {
   "cell_type": "code",
   "execution_count": 47,
   "metadata": {},
   "outputs": [],
   "source": [
    "%matplotlib inline\n",
    "# Ignore this line - it's only for Jupyter, you don't need it in Colab"
   ]
  },
  {
   "cell_type": "code",
   "execution_count": 45,
   "metadata": {},
   "outputs": [
    {
     "data": {
      "text/html": [
       "<div style=\"max-width:790px\"><div style=\"position:relative;padding-bottom:60%\"><iframe id=\"kaltura_player\" src=\"https://cdnapisec.kaltura.com/p/2357732/sp/235773200/embedIframeJs/uiconf_id/41433732/partner_id/2357732?iframeembed=true&playerId=kaltura_player&entry_id=0_tgob2hxo&flashvars[streamerType]=auto&amp;flashvars[localizationCode]=en&amp;flashvars[leadWithHTML5]=true&amp;flashvars[sideBarContainer.plugin]=true&amp;flashvars[sideBarContainer.position]=left&amp;flashvars[sideBarContainer.clickToClose]=true&amp;flashvars[chapters.plugin]=true&amp;flashvars[chapters.layout]=vertical&amp;flashvars[chapters.thumbnailRotator]=false&amp;flashvars[streamSelector.plugin]=true&amp;flashvars[EmbedPlayer.SpinnerTarget]=videoHolder&amp;flashvars[dualScreen.plugin]=true&amp;flashvars[hotspots.plugin]=1&amp;flashvars[Kaltura.addCrossoriginToIframe]=true&amp;&wid=0_2s97f23y\" width=\"790\" height=\"474\" allowfullscreen webkitallowfullscreen mozAllowFullScreen allow=\"autoplay *; fullscreen *; encrypted-media *\" sandbox=\"allow-forms allow-same-origin allow-scripts allow-top-navigation allow-pointer-lock allow-popups allow-modals allow-orientation-lock allow-popups-to-escape-sandbox allow-presentation allow-top-navigation-by-user-activation\" frameborder=\"0\" title=\"Kaltura Player\" style=\"position:absolute;top:0;left:0;width:100%;height:100%\"></iframe></div></div>"
      ],
      "text/plain": [
       "<IPython.core.display.HTML object>"
      ]
     },
     "execution_count": 45,
     "metadata": {},
     "output_type": "execute_result"
    }
   ],
   "source": [
    "HTML('<div style=\"max-width:790px\"><div style=\"position:relative;padding-bottom:60%\"><iframe id=\"kaltura_player\" src=\"https://cdnapisec.kaltura.com/p/2357732/sp/235773200/embedIframeJs/uiconf_id/41433732/partner_id/2357732?iframeembed=true&playerId=kaltura_player&entry_id=0_tgob2hxo&flashvars[streamerType]=auto&amp;flashvars[localizationCode]=en&amp;flashvars[leadWithHTML5]=true&amp;flashvars[sideBarContainer.plugin]=true&amp;flashvars[sideBarContainer.position]=left&amp;flashvars[sideBarContainer.clickToClose]=true&amp;flashvars[chapters.plugin]=true&amp;flashvars[chapters.layout]=vertical&amp;flashvars[chapters.thumbnailRotator]=false&amp;flashvars[streamSelector.plugin]=true&amp;flashvars[EmbedPlayer.SpinnerTarget]=videoHolder&amp;flashvars[dualScreen.plugin]=true&amp;flashvars[hotspots.plugin]=1&amp;flashvars[Kaltura.addCrossoriginToIframe]=true&amp;&wid=0_2s97f23y\" width=\"790\" height=\"474\" allowfullscreen webkitallowfullscreen mozAllowFullScreen allow=\"autoplay *; fullscreen *; encrypted-media *\" sandbox=\"allow-forms allow-same-origin allow-scripts allow-top-navigation allow-pointer-lock allow-popups allow-modals allow-orientation-lock allow-popups-to-escape-sandbox allow-presentation allow-top-navigation-by-user-activation\" frameborder=\"0\" title=\"Kaltura Player\" style=\"position:absolute;top:0;left:0;width:100%;height:100%\"></iframe></div></div>')"
   ]
  },
  {
   "cell_type": "code",
   "execution_count": 113,
   "metadata": {
    "slideshow": {
     "slide_type": "subslide"
    }
   },
   "outputs": [
    {
     "data": {
      "text/plain": [
       "<matplotlib.axes._subplots.AxesSubplot at 0x24752caa198>"
      ]
     },
     "execution_count": 113,
     "metadata": {},
     "output_type": "execute_result"
    },
    {
     "data": {
      "image/png": "[encoded data removed]",
      "text/plain": [
       "<Figure size 432x288 with 1 Axes>"
      ]
     },
     "metadata": {},
     "output_type": "display_data"
    }
   ],
   "source": [
    "import pandas as pd\n",
    "df = pd.read_csv('https://raw.githubusercontent.com/organisciak/Scripting-Course/master/data/weather-example.csv')\n",
    "df.plot(x='DATE', y='TMAX')"
   ]
  },
  {
   "cell_type": "markdown",
   "metadata": {
    "slideshow": {
     "slide_type": "subslide"
    }
   },
   "source": [
    "## Rolling means\n",
    "\n",
    "Column:\n",
    "\n",
    "```\n",
    "df.columnName.rolling(window, min_periods=None, on=None, axis=0, closed=None).mean()\n",
    "```"
   ]
  },
  {
   "cell_type": "code",
   "execution_count": 26,
   "metadata": {
    "scrolled": true,
    "slideshow": {
     "slide_type": "fragment"
    }
   },
   "outputs": [
    {
     "data": {
      "text/plain": [
       "0            NaN\n",
       "1            NaN\n",
       "2            NaN\n",
       "3            NaN\n",
       "4            NaN\n",
       "5            NaN\n",
       "6      70.142857\n",
       "7      70.428571\n",
       "8      72.285714\n",
       "9      72.142857\n",
       "10     72.857143\n",
       "11     73.714286\n",
       "12     76.142857\n",
       "13     77.714286\n",
       "14     79.571429\n",
       "15     79.714286\n",
       "16     80.285714\n",
       "17     82.000000\n",
       "18     84.571429\n",
       "19     86.714286\n",
       "20     86.285714\n",
       "21     86.857143\n",
       "22     88.428571\n",
       "23     89.428571\n",
       "24     88.285714\n",
       "25     86.857143\n",
       "26     86.285714\n",
       "27     88.857143\n",
       "28     90.285714\n",
       "29     90.571429\n",
       "         ...    \n",
       "153    59.000000\n",
       "154    56.428571\n",
       "155    56.285714\n",
       "156    54.000000\n",
       "157    50.571429\n",
       "158    51.428571\n",
       "159    51.714286\n",
       "160    50.142857\n",
       "161    53.000000\n",
       "162    57.000000\n",
       "163    59.571429\n",
       "164    64.142857\n",
       "165    65.142857\n",
       "166    63.714286\n",
       "167    64.428571\n",
       "168    63.714286\n",
       "169    62.000000\n",
       "170    64.285714\n",
       "171    63.428571\n",
       "172    64.428571\n",
       "173    66.285714\n",
       "174    67.857143\n",
       "175    69.285714\n",
       "176    68.000000\n",
       "177    67.571429\n",
       "178    65.285714\n",
       "179    64.142857\n",
       "180    64.714286\n",
       "181    64.000000\n",
       "182    59.857143\n",
       "Name: TMAX, Length: 183, dtype: float64"
      ]
     },
     "execution_count": 26,
     "metadata": {},
     "output_type": "execute_result"
    }
   ],
   "source": [
    "df['TMAX'].rolling(window=7).mean()"
   ]
  },
  {
   "cell_type": "markdown",
   "metadata": {
    "slideshow": {
     "slide_type": "subslide"
    }
   },
   "source": [
    "Easier to compare as a new column of the DataFrame:"
   ]
  },
  {
   "cell_type": "code",
   "execution_count": 29,
   "metadata": {
    "slideshow": {
     "slide_type": "fragment"
    }
   },
   "outputs": [
    {
     "data": {
      "text/html": [
       "<div>\n",
       "<style scoped>\n",
       "    .dataframe tbody tr th:only-of-type {\n",
       "        vertical-align: middle;\n",
       "    }\n",
       "\n",
       "    .dataframe tbody tr th {\n",
       "        vertical-align: top;\n",
       "    }\n",
       "\n",
       "    .dataframe thead th {\n",
       "        text-align: right;\n",
       "    }\n",
       "</style>\n",
       "<table border=\"1\" class=\"dataframe\">\n",
       "  <thead>\n",
       "    <tr style=\"text-align: right;\">\n",
       "      <th></th>\n",
       "      <th>STATION</th>\n",
       "      <th>NAME</th>\n",
       "      <th>DATE</th>\n",
       "      <th>PRCP</th>\n",
       "      <th>SNOW</th>\n",
       "      <th>SNWD</th>\n",
       "      <th>TMAX</th>\n",
       "      <th>TMIN</th>\n",
       "      <th>TOBS</th>\n",
       "      <th>rolling_mean</th>\n",
       "    </tr>\n",
       "  </thead>\n",
       "  <tbody>\n",
       "    <tr>\n",
       "      <th>0</th>\n",
       "      <td>USC00052228</td>\n",
       "      <td>DENVER MUSEUM, CO US</td>\n",
       "      <td>5/22/2017</td>\n",
       "      <td>0.08</td>\n",
       "      <td>0.0</td>\n",
       "      <td>0.0</td>\n",
       "      <td>67</td>\n",
       "      <td>42</td>\n",
       "      <td>42</td>\n",
       "      <td>NaN</td>\n",
       "    </tr>\n",
       "    <tr>\n",
       "      <th>1</th>\n",
       "      <td>USC00052228</td>\n",
       "      <td>DENVER MUSEUM, CO US</td>\n",
       "      <td>5/23/2017</td>\n",
       "      <td>0.00</td>\n",
       "      <td>0.0</td>\n",
       "      <td>0.0</td>\n",
       "      <td>63</td>\n",
       "      <td>39</td>\n",
       "      <td>48</td>\n",
       "      <td>NaN</td>\n",
       "    </tr>\n",
       "    <tr>\n",
       "      <th>2</th>\n",
       "      <td>USC00052228</td>\n",
       "      <td>DENVER MUSEUM, CO US</td>\n",
       "      <td>5/24/2017</td>\n",
       "      <td>0.00</td>\n",
       "      <td>0.0</td>\n",
       "      <td>0.0</td>\n",
       "      <td>83</td>\n",
       "      <td>40</td>\n",
       "      <td>62</td>\n",
       "      <td>NaN</td>\n",
       "    </tr>\n",
       "    <tr>\n",
       "      <th>3</th>\n",
       "      <td>USC00052228</td>\n",
       "      <td>DENVER MUSEUM, CO US</td>\n",
       "      <td>5/25/2017</td>\n",
       "      <td>0.03</td>\n",
       "      <td>0.0</td>\n",
       "      <td>0.0</td>\n",
       "      <td>76</td>\n",
       "      <td>51</td>\n",
       "      <td>52</td>\n",
       "      <td>NaN</td>\n",
       "    </tr>\n",
       "    <tr>\n",
       "      <th>4</th>\n",
       "      <td>USC00052228</td>\n",
       "      <td>DENVER MUSEUM, CO US</td>\n",
       "      <td>5/26/2017</td>\n",
       "      <td>0.37</td>\n",
       "      <td>0.0</td>\n",
       "      <td>0.0</td>\n",
       "      <td>71</td>\n",
       "      <td>42</td>\n",
       "      <td>51</td>\n",
       "      <td>NaN</td>\n",
       "    </tr>\n",
       "    <tr>\n",
       "      <th>5</th>\n",
       "      <td>USC00052228</td>\n",
       "      <td>DENVER MUSEUM, CO US</td>\n",
       "      <td>5/27/2017</td>\n",
       "      <td>0.17</td>\n",
       "      <td>0.0</td>\n",
       "      <td>0.0</td>\n",
       "      <td>59</td>\n",
       "      <td>46</td>\n",
       "      <td>47</td>\n",
       "      <td>NaN</td>\n",
       "    </tr>\n",
       "    <tr>\n",
       "      <th>6</th>\n",
       "      <td>USC00052228</td>\n",
       "      <td>DENVER MUSEUM, CO US</td>\n",
       "      <td>5/28/2017</td>\n",
       "      <td>0.00</td>\n",
       "      <td>0.0</td>\n",
       "      <td>0.0</td>\n",
       "      <td>72</td>\n",
       "      <td>43</td>\n",
       "      <td>53</td>\n",
       "      <td>70.142857</td>\n",
       "    </tr>\n",
       "    <tr>\n",
       "      <th>7</th>\n",
       "      <td>USC00052228</td>\n",
       "      <td>DENVER MUSEUM, CO US</td>\n",
       "      <td>5/29/2017</td>\n",
       "      <td>0.00</td>\n",
       "      <td>0.0</td>\n",
       "      <td>0.0</td>\n",
       "      <td>69</td>\n",
       "      <td>47</td>\n",
       "      <td>53</td>\n",
       "      <td>70.428571</td>\n",
       "    </tr>\n",
       "    <tr>\n",
       "      <th>8</th>\n",
       "      <td>USC00052228</td>\n",
       "      <td>DENVER MUSEUM, CO US</td>\n",
       "      <td>5/30/2017</td>\n",
       "      <td>0.03</td>\n",
       "      <td>0.0</td>\n",
       "      <td>0.0</td>\n",
       "      <td>76</td>\n",
       "      <td>47</td>\n",
       "      <td>56</td>\n",
       "      <td>72.285714</td>\n",
       "    </tr>\n",
       "    <tr>\n",
       "      <th>9</th>\n",
       "      <td>USC00052228</td>\n",
       "      <td>DENVER MUSEUM, CO US</td>\n",
       "      <td>5/31/2017</td>\n",
       "      <td>0.00</td>\n",
       "      <td>0.0</td>\n",
       "      <td>0.0</td>\n",
       "      <td>82</td>\n",
       "      <td>48</td>\n",
       "      <td>61</td>\n",
       "      <td>72.142857</td>\n",
       "    </tr>\n",
       "  </tbody>\n",
       "</table>\n",
       "</div>"
      ],
      "text/plain": [
       "       STATION                  NAME       DATE  PRCP  SNOW  SNWD  TMAX  TMIN  \\\n",
       "0  USC00052228  DENVER MUSEUM, CO US  5/22/2017  0.08   0.0   0.0    67    42   \n",
       "1  USC00052228  DENVER MUSEUM, CO US  5/23/2017  0.00   0.0   0.0    63    39   \n",
       "2  USC00052228  DENVER MUSEUM, CO US  5/24/2017  0.00   0.0   0.0    83    40   \n",
       "3  USC00052228  DENVER MUSEUM, CO US  5/25/2017  0.03   0.0   0.0    76    51   \n",
       "4  USC00052228  DENVER MUSEUM, CO US  5/26/2017  0.37   0.0   0.0    71    42   \n",
       "5  USC00052228  DENVER MUSEUM, CO US  5/27/2017  0.17   0.0   0.0    59    46   \n",
       "6  USC00052228  DENVER MUSEUM, CO US  5/28/2017  0.00   0.0   0.0    72    43   \n",
       "7  USC00052228  DENVER MUSEUM, CO US  5/29/2017  0.00   0.0   0.0    69    47   \n",
       "8  USC00052228  DENVER MUSEUM, CO US  5/30/2017  0.03   0.0   0.0    76    47   \n",
       "9  USC00052228  DENVER MUSEUM, CO US  5/31/2017  0.00   0.0   0.0    82    48   \n",
       "\n",
       "   TOBS  rolling_mean  \n",
       "0    42           NaN  \n",
       "1    48           NaN  \n",
       "2    62           NaN  \n",
       "3    52           NaN  \n",
       "4    51           NaN  \n",
       "5    47           NaN  \n",
       "6    53     70.142857  \n",
       "7    53     70.428571  \n",
       "8    56     72.285714  \n",
       "9    61     72.142857  "
      ]
     },
     "execution_count": 29,
     "metadata": {},
     "output_type": "execute_result"
    }
   ],
   "source": [
    "df['rolling_max'] = df.TMAX.rolling(window=7).mean()\n",
    "df.head(10)"
   ]
  },
  {
   "cell_type": "code",
   "execution_count": 32,
   "metadata": {
    "slideshow": {
     "slide_type": "subslide"
    }
   },
   "outputs": [
    {
     "data": {
      "text/html": [
       "<div>\n",
       "<style scoped>\n",
       "    .dataframe tbody tr th:only-of-type {\n",
       "        vertical-align: middle;\n",
       "    }\n",
       "\n",
       "    .dataframe tbody tr th {\n",
       "        vertical-align: top;\n",
       "    }\n",
       "\n",
       "    .dataframe thead th {\n",
       "        text-align: right;\n",
       "    }\n",
       "</style>\n",
       "<table border=\"1\" class=\"dataframe\">\n",
       "  <thead>\n",
       "    <tr style=\"text-align: right;\">\n",
       "      <th></th>\n",
       "      <th>STATION</th>\n",
       "      <th>NAME</th>\n",
       "      <th>DATE</th>\n",
       "      <th>PRCP</th>\n",
       "      <th>SNOW</th>\n",
       "      <th>SNWD</th>\n",
       "      <th>TMAX</th>\n",
       "      <th>TMIN</th>\n",
       "      <th>TOBS</th>\n",
       "      <th>rolling_mean</th>\n",
       "      <th>rolling_max</th>\n",
       "    </tr>\n",
       "  </thead>\n",
       "  <tbody>\n",
       "    <tr>\n",
       "      <th>0</th>\n",
       "      <td>USC00052228</td>\n",
       "      <td>DENVER MUSEUM, CO US</td>\n",
       "      <td>5/22/2017</td>\n",
       "      <td>0.08</td>\n",
       "      <td>0.0</td>\n",
       "      <td>0.0</td>\n",
       "      <td>67</td>\n",
       "      <td>42</td>\n",
       "      <td>42</td>\n",
       "      <td>NaN</td>\n",
       "      <td>67.000000</td>\n",
       "    </tr>\n",
       "    <tr>\n",
       "      <th>1</th>\n",
       "      <td>USC00052228</td>\n",
       "      <td>DENVER MUSEUM, CO US</td>\n",
       "      <td>5/23/2017</td>\n",
       "      <td>0.00</td>\n",
       "      <td>0.0</td>\n",
       "      <td>0.0</td>\n",
       "      <td>63</td>\n",
       "      <td>39</td>\n",
       "      <td>48</td>\n",
       "      <td>NaN</td>\n",
       "      <td>65.000000</td>\n",
       "    </tr>\n",
       "    <tr>\n",
       "      <th>2</th>\n",
       "      <td>USC00052228</td>\n",
       "      <td>DENVER MUSEUM, CO US</td>\n",
       "      <td>5/24/2017</td>\n",
       "      <td>0.00</td>\n",
       "      <td>0.0</td>\n",
       "      <td>0.0</td>\n",
       "      <td>83</td>\n",
       "      <td>40</td>\n",
       "      <td>62</td>\n",
       "      <td>NaN</td>\n",
       "      <td>71.000000</td>\n",
       "    </tr>\n",
       "    <tr>\n",
       "      <th>3</th>\n",
       "      <td>USC00052228</td>\n",
       "      <td>DENVER MUSEUM, CO US</td>\n",
       "      <td>5/25/2017</td>\n",
       "      <td>0.03</td>\n",
       "      <td>0.0</td>\n",
       "      <td>0.0</td>\n",
       "      <td>76</td>\n",
       "      <td>51</td>\n",
       "      <td>52</td>\n",
       "      <td>NaN</td>\n",
       "      <td>72.250000</td>\n",
       "    </tr>\n",
       "    <tr>\n",
       "      <th>4</th>\n",
       "      <td>USC00052228</td>\n",
       "      <td>DENVER MUSEUM, CO US</td>\n",
       "      <td>5/26/2017</td>\n",
       "      <td>0.37</td>\n",
       "      <td>0.0</td>\n",
       "      <td>0.0</td>\n",
       "      <td>71</td>\n",
       "      <td>42</td>\n",
       "      <td>51</td>\n",
       "      <td>NaN</td>\n",
       "      <td>72.000000</td>\n",
       "    </tr>\n",
       "    <tr>\n",
       "      <th>5</th>\n",
       "      <td>USC00052228</td>\n",
       "      <td>DENVER MUSEUM, CO US</td>\n",
       "      <td>5/27/2017</td>\n",
       "      <td>0.17</td>\n",
       "      <td>0.0</td>\n",
       "      <td>0.0</td>\n",
       "      <td>59</td>\n",
       "      <td>46</td>\n",
       "      <td>47</td>\n",
       "      <td>NaN</td>\n",
       "      <td>69.833333</td>\n",
       "    </tr>\n",
       "    <tr>\n",
       "      <th>6</th>\n",
       "      <td>USC00052228</td>\n",
       "      <td>DENVER MUSEUM, CO US</td>\n",
       "      <td>5/28/2017</td>\n",
       "      <td>0.00</td>\n",
       "      <td>0.0</td>\n",
       "      <td>0.0</td>\n",
       "      <td>72</td>\n",
       "      <td>43</td>\n",
       "      <td>53</td>\n",
       "      <td>70.142857</td>\n",
       "      <td>70.142857</td>\n",
       "    </tr>\n",
       "    <tr>\n",
       "      <th>7</th>\n",
       "      <td>USC00052228</td>\n",
       "      <td>DENVER MUSEUM, CO US</td>\n",
       "      <td>5/29/2017</td>\n",
       "      <td>0.00</td>\n",
       "      <td>0.0</td>\n",
       "      <td>0.0</td>\n",
       "      <td>69</td>\n",
       "      <td>47</td>\n",
       "      <td>53</td>\n",
       "      <td>70.428571</td>\n",
       "      <td>70.428571</td>\n",
       "    </tr>\n",
       "    <tr>\n",
       "      <th>8</th>\n",
       "      <td>USC00052228</td>\n",
       "      <td>DENVER MUSEUM, CO US</td>\n",
       "      <td>5/30/2017</td>\n",
       "      <td>0.03</td>\n",
       "      <td>0.0</td>\n",
       "      <td>0.0</td>\n",
       "      <td>76</td>\n",
       "      <td>47</td>\n",
       "      <td>56</td>\n",
       "      <td>72.285714</td>\n",
       "      <td>72.285714</td>\n",
       "    </tr>\n",
       "    <tr>\n",
       "      <th>9</th>\n",
       "      <td>USC00052228</td>\n",
       "      <td>DENVER MUSEUM, CO US</td>\n",
       "      <td>5/31/2017</td>\n",
       "      <td>0.00</td>\n",
       "      <td>0.0</td>\n",
       "      <td>0.0</td>\n",
       "      <td>82</td>\n",
       "      <td>48</td>\n",
       "      <td>61</td>\n",
       "      <td>72.142857</td>\n",
       "      <td>72.142857</td>\n",
       "    </tr>\n",
       "    <tr>\n",
       "      <th>10</th>\n",
       "      <td>USC00052228</td>\n",
       "      <td>DENVER MUSEUM, CO US</td>\n",
       "      <td>6/1/2017</td>\n",
       "      <td>0.00</td>\n",
       "      <td>0.0</td>\n",
       "      <td>0.0</td>\n",
       "      <td>81</td>\n",
       "      <td>52</td>\n",
       "      <td>62</td>\n",
       "      <td>72.857143</td>\n",
       "      <td>72.857143</td>\n",
       "    </tr>\n",
       "    <tr>\n",
       "      <th>11</th>\n",
       "      <td>USC00052228</td>\n",
       "      <td>DENVER MUSEUM, CO US</td>\n",
       "      <td>6/2/2017</td>\n",
       "      <td>0.19</td>\n",
       "      <td>0.0</td>\n",
       "      <td>0.0</td>\n",
       "      <td>77</td>\n",
       "      <td>55</td>\n",
       "      <td>58</td>\n",
       "      <td>73.714286</td>\n",
       "      <td>73.714286</td>\n",
       "    </tr>\n",
       "    <tr>\n",
       "      <th>12</th>\n",
       "      <td>USC00052228</td>\n",
       "      <td>DENVER MUSEUM, CO US</td>\n",
       "      <td>6/3/2017</td>\n",
       "      <td>0.00</td>\n",
       "      <td>0.0</td>\n",
       "      <td>0.0</td>\n",
       "      <td>76</td>\n",
       "      <td>52</td>\n",
       "      <td>61</td>\n",
       "      <td>76.142857</td>\n",
       "      <td>76.142857</td>\n",
       "    </tr>\n",
       "    <tr>\n",
       "      <th>13</th>\n",
       "      <td>USC00052228</td>\n",
       "      <td>DENVER MUSEUM, CO US</td>\n",
       "      <td>6/4/2017</td>\n",
       "      <td>0.00</td>\n",
       "      <td>0.0</td>\n",
       "      <td>0.0</td>\n",
       "      <td>83</td>\n",
       "      <td>53</td>\n",
       "      <td>65</td>\n",
       "      <td>77.714286</td>\n",
       "      <td>77.714286</td>\n",
       "    </tr>\n",
       "    <tr>\n",
       "      <th>14</th>\n",
       "      <td>USC00052228</td>\n",
       "      <td>DENVER MUSEUM, CO US</td>\n",
       "      <td>6/5/2017</td>\n",
       "      <td>0.00</td>\n",
       "      <td>0.0</td>\n",
       "      <td>0.0</td>\n",
       "      <td>82</td>\n",
       "      <td>57</td>\n",
       "      <td>60</td>\n",
       "      <td>79.571429</td>\n",
       "      <td>79.571429</td>\n",
       "    </tr>\n",
       "  </tbody>\n",
       "</table>\n",
       "</div>"
      ],
      "text/plain": [
       "        STATION                  NAME       DATE  PRCP  SNOW  SNWD  TMAX  \\\n",
       "0   USC00052228  DENVER MUSEUM, CO US  5/22/2017  0.08   0.0   0.0    67   \n",
       "1   USC00052228  DENVER MUSEUM, CO US  5/23/2017  0.00   0.0   0.0    63   \n",
       "2   USC00052228  DENVER MUSEUM, CO US  5/24/2017  0.00   0.0   0.0    83   \n",
       "3   USC00052228  DENVER MUSEUM, CO US  5/25/2017  0.03   0.0   0.0    76   \n",
       "4   USC00052228  DENVER MUSEUM, CO US  5/26/2017  0.37   0.0   0.0    71   \n",
       "5   USC00052228  DENVER MUSEUM, CO US  5/27/2017  0.17   0.0   0.0    59   \n",
       "6   USC00052228  DENVER MUSEUM, CO US  5/28/2017  0.00   0.0   0.0    72   \n",
       "7   USC00052228  DENVER MUSEUM, CO US  5/29/2017  0.00   0.0   0.0    69   \n",
       "8   USC00052228  DENVER MUSEUM, CO US  5/30/2017  0.03   0.0   0.0    76   \n",
       "9   USC00052228  DENVER MUSEUM, CO US  5/31/2017  0.00   0.0   0.0    82   \n",
       "10  USC00052228  DENVER MUSEUM, CO US   6/1/2017  0.00   0.0   0.0    81   \n",
       "11  USC00052228  DENVER MUSEUM, CO US   6/2/2017  0.19   0.0   0.0    77   \n",
       "12  USC00052228  DENVER MUSEUM, CO US   6/3/2017  0.00   0.0   0.0    76   \n",
       "13  USC00052228  DENVER MUSEUM, CO US   6/4/2017  0.00   0.0   0.0    83   \n",
       "14  USC00052228  DENVER MUSEUM, CO US   6/5/2017  0.00   0.0   0.0    82   \n",
       "\n",
       "    TMIN  TOBS  rolling_mean  rolling_max  \n",
       "0     42    42           NaN    67.000000  \n",
       "1     39    48           NaN    65.000000  \n",
       "2     40    62           NaN    71.000000  \n",
       "3     51    52           NaN    72.250000  \n",
       "4     42    51           NaN    72.000000  \n",
       "5     46    47           NaN    69.833333  \n",
       "6     43    53     70.142857    70.142857  \n",
       "7     47    53     70.428571    70.428571  \n",
       "8     47    56     72.285714    72.285714  \n",
       "9     48    61     72.142857    72.142857  \n",
       "10    52    62     72.857143    72.857143  \n",
       "11    55    58     73.714286    73.714286  \n",
       "12    52    61     76.142857    76.142857  \n",
       "13    53    65     77.714286    77.714286  \n",
       "14    57    60     79.571429    79.571429  "
      ]
     },
     "execution_count": 32,
     "metadata": {},
     "output_type": "execute_result"
    }
   ],
   "source": [
    "df['rolling_max'] = df.TMAX.rolling(window=7, min_periods=1).mean()\n",
    "df.head(15)"
   ]
  },
  {
   "cell_type": "code",
   "execution_count": 33,
   "metadata": {
    "scrolled": false,
    "slideshow": {
     "slide_type": "subslide"
    }
   },
   "outputs": [
    {
     "data": {
      "text/plain": [
       "<matplotlib.axes._subplots.AxesSubplot at 0x24752b73208>"
      ]
     },
     "execution_count": 33,
     "metadata": {},
     "output_type": "execute_result"
    },
    {
     "data": {
      "image/png": "[encoded data removed]",
      "text/plain": [
       "<Figure size 432x288 with 1 Axes>"
      ]
     },
     "metadata": {},
     "output_type": "display_data"
    },
    {
     "data": {
      "image/png": "[encoded data removed]",
      "text/plain": [
       "<Figure size 432x288 with 1 Axes>"
      ]
     },
     "metadata": {},
     "output_type": "display_data"
    }
   ],
   "source": [
    "df.plot(x='DATE', y='TMAX')\n",
    "df.plot(x='DATE', y='rolling_max')"
   ]
  },
  {
   "cell_type": "code",
   "execution_count": 34,
   "metadata": {
    "slideshow": {
     "slide_type": "subslide"
    }
   },
   "outputs": [
    {
     "data": {
      "text/plain": [
       "<matplotlib.axes._subplots.AxesSubplot at 0x24752b51630>"
      ]
     },
     "execution_count": 34,
     "metadata": {},
     "output_type": "execute_result"
    },
    {
     "data": {
      "image/png": "[encoded data removed]",
      "text/plain": [
       "<Figure size 432x288 with 1 Axes>"
      ]
     },
     "metadata": {},
     "output_type": "display_data"
    }
   ],
   "source": [
    "df['2week-avgmax'] = df.TMAX.rolling(window=7*2, min_periods=1).mean()\n",
    "df.plot(x='DATE', y='2week-avgmax')"
   ]
  },
  {
   "cell_type": "markdown",
   "metadata": {
    "slideshow": {
     "slide_type": "subslide"
    }
   },
   "source": [
    "## Data types\n",
    "\n",
    "Pandas tries to figure out the datatype automatically: integer, float, string, object (i.e. mix of various), boolean."
   ]
  },
  {
   "cell_type": "code",
   "execution_count": 35,
   "metadata": {},
   "outputs": [
    {
     "data": {
      "text/plain": [
       "STATION          object\n",
       "NAME             object\n",
       "DATE             object\n",
       "PRCP            float64\n",
       "SNOW            float64\n",
       "SNWD            float64\n",
       "TMAX              int64\n",
       "TMIN              int64\n",
       "TOBS              int64\n",
       "rolling_mean    float64\n",
       "rolling_max     float64\n",
       "2week-avgmax    float64\n",
       "dtype: object"
      ]
     },
     "execution_count": 35,
     "metadata": {},
     "output_type": "execute_result"
    }
   ],
   "source": [
    "df.dtypes"
   ]
  },
  {
   "cell_type": "markdown",
   "metadata": {
    "slideshow": {
     "slide_type": "subslide"
    }
   },
   "source": [
    "## Working with dates and time\n",
    "\n",
    "The 'Date' column is not recognized as dates. Convert it with `pd.to_datetime(column)` -- Then Pandas can work more smartly."
   ]
  },
  {
   "cell_type": "markdown",
   "metadata": {
    "slideshow": {
     "slide_type": "subslide"
    }
   },
   "source": [
    "Here's some fake data, with 5 data points from May and 5 from July:"
   ]
  },
  {
   "cell_type": "code",
   "execution_count": 114,
   "metadata": {},
   "outputs": [
    {
     "name": "stdout",
     "output_type": "stream",
     "text": [
      "         DATE  TMAX\n",
      "3   5/25/2017    76\n",
      "4   5/26/2017    71\n",
      "40   7/4/2017    92\n",
      "41   7/5/2017    98\n"
     ]
    },
    {
     "data": {
      "text/plain": [
       "<matplotlib.axes._subplots.AxesSubplot at 0x2475374e4e0>"
      ]
     },
     "execution_count": 114,
     "metadata": {},
     "output_type": "execute_result"
    },
    {
     "data": {
      "image/png": "[encoded data removed]",
      "text/plain": [
       "<Figure size 432x288 with 1 Axes>"
      ]
     },
     "metadata": {},
     "output_type": "display_data"
    }
   ],
   "source": [
    "fake_data = pd.concat([df[0:5], df[40:45]])\n",
    "print(fake_data[['DATE', 'TMAX']][3:7])\n",
    "fake_data.plot(x='DATE', y='TMAX')"
   ]
  },
  {
   "cell_type": "markdown",
   "metadata": {
    "slideshow": {
     "slide_type": "subslide"
    }
   },
   "source": [
    "#### Problem: *Since Pandas doesn't realize that 'DATE' is a date column, it doesn't show the proper spacing between 5/26 and 7/4*"
   ]
  },
  {
   "cell_type": "code",
   "execution_count": 115,
   "metadata": {
    "scrolled": true,
    "slideshow": {
     "slide_type": "subslide"
    }
   },
   "outputs": [
    {
     "data": {
      "text/plain": [
       "0     2017-05-22\n",
       "1     2017-05-23\n",
       "2     2017-05-24\n",
       "3     2017-05-25\n",
       "4     2017-05-26\n",
       "5     2017-05-27\n",
       "6     2017-05-28\n",
       "7     2017-05-29\n",
       "8     2017-05-30\n",
       "9     2017-05-31\n",
       "10    2017-06-01\n",
       "11    2017-06-02\n",
       "12    2017-06-03\n",
       "13    2017-06-04\n",
       "14    2017-06-05\n",
       "15    2017-06-06\n",
       "16    2017-06-08\n",
       "17    2017-06-09\n",
       "18    2017-06-10\n",
       "19    2017-06-12\n",
       "20    2017-06-13\n",
       "21    2017-06-14\n",
       "22    2017-06-15\n",
       "23    2017-06-16\n",
       "24    2017-06-17\n",
       "25    2017-06-18\n",
       "26    2017-06-19\n",
       "27    2017-06-20\n",
       "28    2017-06-21\n",
       "29    2017-06-22\n",
       "         ...    \n",
       "153   2017-11-05\n",
       "154   2017-11-06\n",
       "155   2017-11-07\n",
       "156   2017-11-08\n",
       "157   2017-11-10\n",
       "158   2017-11-11\n",
       "159   2017-11-12\n",
       "160   2017-11-13\n",
       "161   2017-11-14\n",
       "162   2017-11-15\n",
       "163   2017-11-16\n",
       "164   2017-11-17\n",
       "165   2017-11-18\n",
       "166   2017-11-19\n",
       "167   2017-11-20\n",
       "168   2017-11-21\n",
       "169   2017-11-22\n",
       "170   2017-11-23\n",
       "171   2017-11-24\n",
       "172   2017-11-25\n",
       "173   2017-11-26\n",
       "174   2017-11-27\n",
       "175   2017-11-28\n",
       "176   2017-11-29\n",
       "177   2017-11-30\n",
       "178   2017-12-01\n",
       "179   2017-12-02\n",
       "180   2017-12-03\n",
       "181   2017-12-04\n",
       "182   2017-12-05\n",
       "Name: DATE, Length: 183, dtype: datetime64[ns]"
      ]
     },
     "execution_count": 115,
     "metadata": {},
     "output_type": "execute_result"
    }
   ],
   "source": [
    "pd.to_datetime(df['DATE'])"
   ]
  },
  {
   "cell_type": "markdown",
   "metadata": {
    "slideshow": {
     "slide_type": "subslide"
    }
   },
   "source": [
    "Set it to a new column, or overwrite the existing column. Here, I'm setting to 'new_date' for clarity."
   ]
  },
  {
   "cell_type": "code",
   "execution_count": 118,
   "metadata": {},
   "outputs": [
    {
     "data": {
      "text/html": [
       "<div>\n",
       "<style scoped>\n",
       "    .dataframe tbody tr th:only-of-type {\n",
       "        vertical-align: middle;\n",
       "    }\n",
       "\n",
       "    .dataframe tbody tr th {\n",
       "        vertical-align: top;\n",
       "    }\n",
       "\n",
       "    .dataframe thead th {\n",
       "        text-align: right;\n",
       "    }\n",
       "</style>\n",
       "<table border=\"1\" class=\"dataframe\">\n",
       "  <thead>\n",
       "    <tr style=\"text-align: right;\">\n",
       "      <th></th>\n",
       "      <th>STATION</th>\n",
       "      <th>NAME</th>\n",
       "      <th>DATE</th>\n",
       "      <th>PRCP</th>\n",
       "      <th>SNOW</th>\n",
       "      <th>SNWD</th>\n",
       "      <th>TMAX</th>\n",
       "      <th>TMIN</th>\n",
       "      <th>TOBS</th>\n",
       "      <th>new_date</th>\n",
       "    </tr>\n",
       "  </thead>\n",
       "  <tbody>\n",
       "    <tr>\n",
       "      <th>0</th>\n",
       "      <td>USC00052228</td>\n",
       "      <td>DENVER MUSEUM, CO US</td>\n",
       "      <td>5/22/2017</td>\n",
       "      <td>0.08</td>\n",
       "      <td>0.0</td>\n",
       "      <td>0.0</td>\n",
       "      <td>67</td>\n",
       "      <td>42</td>\n",
       "      <td>42</td>\n",
       "      <td>2017-05-22</td>\n",
       "    </tr>\n",
       "    <tr>\n",
       "      <th>1</th>\n",
       "      <td>USC00052228</td>\n",
       "      <td>DENVER MUSEUM, CO US</td>\n",
       "      <td>5/23/2017</td>\n",
       "      <td>0.00</td>\n",
       "      <td>0.0</td>\n",
       "      <td>0.0</td>\n",
       "      <td>63</td>\n",
       "      <td>39</td>\n",
       "      <td>48</td>\n",
       "      <td>2017-05-23</td>\n",
       "    </tr>\n",
       "  </tbody>\n",
       "</table>\n",
       "</div>"
      ],
      "text/plain": [
       "       STATION                  NAME       DATE  PRCP  SNOW  SNWD  TMAX  TMIN  \\\n",
       "0  USC00052228  DENVER MUSEUM, CO US  5/22/2017  0.08   0.0   0.0    67    42   \n",
       "1  USC00052228  DENVER MUSEUM, CO US  5/23/2017  0.00   0.0   0.0    63    39   \n",
       "\n",
       "   TOBS   new_date  \n",
       "0    42 2017-05-22  \n",
       "1    48 2017-05-23  "
      ]
     },
     "execution_count": 118,
     "metadata": {},
     "output_type": "execute_result"
    }
   ],
   "source": [
    "df['new_date'] = pd.to_datetime(df.DATE)\n",
    "df.head(2)"
   ]
  },
  {
   "cell_type": "code",
   "execution_count": 116,
   "metadata": {
    "slideshow": {
     "slide_type": "fragment"
    }
   },
   "outputs": [
    {
     "data": {
      "text/plain": [
       "STATION     object\n",
       "NAME        object\n",
       "DATE        object\n",
       "PRCP       float64\n",
       "SNOW       float64\n",
       "SNWD       float64\n",
       "TMAX         int64\n",
       "TMIN         int64\n",
       "TOBS         int64\n",
       "dtype: object"
      ]
     },
     "execution_count": 116,
     "metadata": {},
     "output_type": "execute_result"
    }
   ],
   "source": [
    "df.dtypes"
   ]
  },
  {
   "cell_type": "code",
   "execution_count": 120,
   "metadata": {
    "scrolled": true,
    "slideshow": {
     "slide_type": "subslide"
    }
   },
   "outputs": [
    {
     "name": "stdout",
     "output_type": "stream",
     "text": [
      "         DATE   new_date  TMAX\n",
      "3   5/25/2017 2017-05-25    76\n",
      "4   5/26/2017 2017-05-26    71\n",
      "40   7/4/2017 2017-07-04    92\n",
      "41   7/5/2017 2017-07-05    98\n"
     ]
    },
    {
     "data": {
      "text/plain": [
       "<matplotlib.axes._subplots.AxesSubplot at 0x24752cabf28>"
      ]
     },
     "execution_count": 120,
     "metadata": {},
     "output_type": "execute_result"
    },
    {
     "data": {
      "image/png": "[encoded data removed]",
      "text/plain": [
       "<Figure size 432x288 with 1 Axes>"
      ]
     },
     "metadata": {},
     "output_type": "display_data"
    }
   ],
   "source": [
    "fake_data = pd.concat([df[0:5], df[40:45]])\n",
    "print(fake_data[['DATE', 'new_date', 'TMAX']][3:7])\n",
    "fake_data.plot(x='new_date', y='TMAX')"
   ]
  },
  {
   "cell_type": "markdown",
   "metadata": {
    "slideshow": {
     "slide_type": "fragment"
    }
   },
   "source": [
    "## Better!"
   ]
  },
  {
   "cell_type": "markdown",
   "metadata": {
    "slideshow": {
     "slide_type": "subslide"
    }
   },
   "source": [
    "With a proper date column:\n",
    "    \n",
    "- `rolling` will be more accurate, especially with less neat intervals than our weather data\n",
    "  - e.g. `df.col1.rolling('2w')`, `df.col1.rolling('20m')`\n",
    "- Can select substrings by date\n",
    "  - e.g. return June 2017 - Sept 2017\n",
    "- Proper intervals in plots\n",
    "- Easy conversion of timezones\n",
    "- Easy convert from datetime field to custom strings; by month, or year, or minute, etc.\n",
    "\n",
    "Documentation: [Time Series / Date functionality](http://pandas.pydata.org/pandas-docs/stable/timeseries.html)"
   ]
  }
 ],
 "metadata": {
  "celltoolbar": "Slideshow",
  "kernelspec": {
   "display_name": "Python 3",
   "language": "python",
   "name": "python3"
  },
  "language_info": {
   "codemirror_mode": {
    "name": "ipython",
    "version": 3
   },
   "file_extension": ".py",
   "mimetype": "text/x-python",
   "name": "python",
   "nbconvert_exporter": "python",
   "pygments_lexer": "ipython3",
   "version": "3.6.8"
  }
 },
 "nbformat": 4,
 "nbformat_minor": 2
}
