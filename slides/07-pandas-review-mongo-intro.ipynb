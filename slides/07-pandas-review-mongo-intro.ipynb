{
 "cells": [
  {
   "cell_type": "markdown",
   "metadata": {
    "slideshow": {
     "slide_type": "slide"
    }
   },
   "source": [
    "# Scripting Week 7: MongoDB and Semi-Structured Data"
   ]
  },
  {
   "cell_type": "code",
   "execution_count": 18,
   "metadata": {
    "slideshow": {
     "slide_type": "skip"
    }
   },
   "outputs": [],
   "source": [
    "import pandas as pd"
   ]
  },
  {
   "cell_type": "markdown",
   "metadata": {
    "slideshow": {
     "slide_type": "subslide"
    }
   },
   "source": [
    "## Announcements"
   ]
  },
  {
   "cell_type": "markdown",
   "metadata": {
    "slideshow": {
     "slide_type": "slide"
    }
   },
   "source": [
    "## Review"
   ]
  },
  {
   "cell_type": "markdown",
   "metadata": {
    "slideshow": {
     "slide_type": "subslide"
    }
   },
   "source": [
    "Load sample data:"
   ]
  },
  {
   "cell_type": "code",
   "execution_count": 164,
   "metadata": {},
   "outputs": [
    {
     "data": {
      "text/html": [
       "<div>\n",
       "<style scoped>\n",
       "    .dataframe tbody tr th:only-of-type {\n",
       "        vertical-align: middle;\n",
       "    }\n",
       "\n",
       "    .dataframe tbody tr th {\n",
       "        vertical-align: top;\n",
       "    }\n",
       "\n",
       "    .dataframe thead th {\n",
       "        text-align: right;\n",
       "    }\n",
       "</style>\n",
       "<table border=\"1\" class=\"dataframe\">\n",
       "  <thead>\n",
       "    <tr style=\"text-align: right;\">\n",
       "      <th></th>\n",
       "      <th>userId</th>\n",
       "      <th>rating</th>\n",
       "      <th>genres</th>\n",
       "      <th>timestamp</th>\n",
       "      <th>year</th>\n",
       "    </tr>\n",
       "    <tr>\n",
       "      <th>title</th>\n",
       "      <th></th>\n",
       "      <th></th>\n",
       "      <th></th>\n",
       "      <th></th>\n",
       "      <th></th>\n",
       "    </tr>\n",
       "  </thead>\n",
       "  <tbody>\n",
       "    <tr>\n",
       "      <th>Bringing Up Baby</th>\n",
       "      <td>481</td>\n",
       "      <td>4.0</td>\n",
       "      <td>Comedy</td>\n",
       "      <td>1437001472</td>\n",
       "      <td>1938</td>\n",
       "    </tr>\n",
       "    <tr>\n",
       "      <th>Long, Hot Summer, The</th>\n",
       "      <td>311</td>\n",
       "      <td>3.5</td>\n",
       "      <td>Drama</td>\n",
       "      <td>1061927755</td>\n",
       "      <td>1958</td>\n",
       "    </tr>\n",
       "    <tr>\n",
       "      <th>Net, The</th>\n",
       "      <td>191</td>\n",
       "      <td>3.0</td>\n",
       "      <td>Action</td>\n",
       "      <td>839925608</td>\n",
       "      <td>1995</td>\n",
       "    </tr>\n",
       "    <tr>\n",
       "      <th>City Lights</th>\n",
       "      <td>648</td>\n",
       "      <td>4.5</td>\n",
       "      <td>Comedy</td>\n",
       "      <td>1176754888</td>\n",
       "      <td>1931</td>\n",
       "    </tr>\n",
       "    <tr>\n",
       "      <th>Eagle vs Shark</th>\n",
       "      <td>132</td>\n",
       "      <td>4.0</td>\n",
       "      <td>Comedy</td>\n",
       "      <td>1284496709</td>\n",
       "      <td>2007</td>\n",
       "    </tr>\n",
       "  </tbody>\n",
       "</table>\n",
       "</div>"
      ],
      "text/plain": [
       "                       userId  rating  genres   timestamp  year\n",
       "title                                                          \n",
       "Bringing Up Baby          481     4.0  Comedy  1437001472  1938\n",
       "Long, Hot Summer, The     311     3.5   Drama  1061927755  1958\n",
       "Net, The                  191     3.0  Action   839925608  1995\n",
       "City Lights               648     4.5  Comedy  1176754888  1931\n",
       "Eagle vs Shark            132     4.0  Comedy  1284496709  2007"
      ]
     },
     "execution_count": 164,
     "metadata": {},
     "output_type": "execute_result"
    }
   ],
   "source": [
    "movies = pd.read_csv('../data/movielens_small.csv')\n",
    "df = movies.sample(n=5, random_state=12345).set_index('title')\n",
    "df"
   ]
  },
  {
   "cell_type": "code",
   "execution_count": 178,
   "metadata": {
    "slideshow": {
     "slide_type": "subslide"
    }
   },
   "outputs": [
    {
     "data": {
      "text/html": [
       "<div>\n",
       "<style scoped>\n",
       "    .dataframe tbody tr th:only-of-type {\n",
       "        vertical-align: middle;\n",
       "    }\n",
       "\n",
       "    .dataframe tbody tr th {\n",
       "        vertical-align: top;\n",
       "    }\n",
       "\n",
       "    .dataframe thead th {\n",
       "        text-align: right;\n",
       "    }\n",
       "</style>\n",
       "<table border=\"1\" class=\"dataframe\">\n",
       "  <thead>\n",
       "    <tr style=\"text-align: right;\">\n",
       "      <th></th>\n",
       "      <th>userId</th>\n",
       "      <th>rating</th>\n",
       "      <th>genres</th>\n",
       "      <th>timestamp</th>\n",
       "      <th>year</th>\n",
       "    </tr>\n",
       "    <tr>\n",
       "      <th>title</th>\n",
       "      <th></th>\n",
       "      <th></th>\n",
       "      <th></th>\n",
       "      <th></th>\n",
       "      <th></th>\n",
       "    </tr>\n",
       "  </thead>\n",
       "  <tbody>\n",
       "    <tr>\n",
       "      <th>Bringing Up Baby</th>\n",
       "      <td>481</td>\n",
       "      <td>4.0</td>\n",
       "      <td>Comedy</td>\n",
       "      <td>1437001472</td>\n",
       "      <td>1938</td>\n",
       "    </tr>\n",
       "    <tr>\n",
       "      <th>Long, Hot Summer, The</th>\n",
       "      <td>311</td>\n",
       "      <td>3.5</td>\n",
       "      <td>Drama</td>\n",
       "      <td>1061927755</td>\n",
       "      <td>1958</td>\n",
       "    </tr>\n",
       "    <tr>\n",
       "      <th>Net, The</th>\n",
       "      <td>191</td>\n",
       "      <td>3.0</td>\n",
       "      <td>Action</td>\n",
       "      <td>839925608</td>\n",
       "      <td>1995</td>\n",
       "    </tr>\n",
       "    <tr>\n",
       "      <th>City Lights</th>\n",
       "      <td>648</td>\n",
       "      <td>4.5</td>\n",
       "      <td>Comedy</td>\n",
       "      <td>1176754888</td>\n",
       "      <td>1931</td>\n",
       "    </tr>\n",
       "    <tr>\n",
       "      <th>Eagle vs Shark</th>\n",
       "      <td>132</td>\n",
       "      <td>4.0</td>\n",
       "      <td>Comedy</td>\n",
       "      <td>1284496709</td>\n",
       "      <td>2007</td>\n",
       "    </tr>\n",
       "  </tbody>\n",
       "</table>\n",
       "</div>"
      ],
      "text/plain": [
       "                       userId  rating  genres   timestamp  year\n",
       "title                                                          \n",
       "Bringing Up Baby          481     4.0  Comedy  1437001472  1938\n",
       "Long, Hot Summer, The     311     3.5   Drama  1061927755  1958\n",
       "Net, The                  191     3.0  Action   839925608  1995\n",
       "City Lights               648     4.5  Comedy  1176754888  1931\n",
       "Eagle vs Shark            132     4.0  Comedy  1284496709  2007"
      ]
     },
     "execution_count": 178,
     "metadata": {},
     "output_type": "execute_result"
    }
   ],
   "source": [
    "df"
   ]
  },
  {
   "cell_type": "markdown",
   "metadata": {},
   "source": [
    "How would you select:\n",
    "    \n",
    "- Rows 2:4\n",
    "- The row titled \"City Lights\"\n",
    "- The first, second, and fifth rows\n",
    "- The columns `genres` and `year`\n",
    "- The column `genres` as a Series\n",
    "- The column `genres` as a DataFrame\n",
    "- The rows where the year is `> 1990`\n",
    "- The rows where the `genres` value is `Action` or `Drama`"
   ]
  },
  {
   "cell_type": "markdown",
   "metadata": {
    "slideshow": {
     "slide_type": "subslide"
    }
   },
   "source": [
    "### Selecting DataFrames\n",
    "\n",
    "Everything follows the pattern:\n",
    "\n",
    "`df[ ... ]`\n",
    "\n",
    "Except selecting rows by index name, which uses:\n",
    "\n",
    "`df.loc[ ... ]`"
   ]
  },
  {
   "cell_type": "markdown",
   "metadata": {
    "slideshow": {
     "slide_type": "subslide"
    }
   },
   "source": [
    "**Selecting rows by numeric index**\n",
    "\n",
    "Provide `x:y` notation in : `df[10:14]`\n",
    "\n",
    "**Selecting rows by index name**\n",
    "\n",
    "Provide the name to `.loc[]`: `df.loc['Sherlock Holmes']`\n",
    "\n",
    "**Selecting rows by inclusion criteria**\n",
    "\n",
    "Provide any collection (e.g. a list or Series) of True/False values:\n",
    "\n",
    "```\n",
    "df[[True, False, False, True, True]]\n",
    "```\n",
    "\n",
    "```\n",
    "df[df.year > 1996]\n",
    "```"
   ]
  },
  {
   "cell_type": "markdown",
   "metadata": {
    "slideshow": {
     "slide_type": "subslide"
    }
   },
   "source": [
    "**Selecting multiple columns**\n",
    "\n",
    "Provide a collection of strings, referencing the column names:\n",
    "\n",
    "```\n",
    "df[['genres', 'year']]\n",
    "```\n",
    "    \n",
    "**Selecting single column (as Series)**\n",
    "\n",
    "```\n",
    "df['year']\n",
    "```\n",
    "\n",
    "Or:\n",
    "\n",
    "```\n",
    "df.year\n",
    "```\n",
    "\n",
    "Consider the latter as the shortcut, not the main way.\n",
    "\n",
    "The output is a Series. To select a single column as a DataFrame, use list with only one value."
   ]
  },
  {
   "cell_type": "markdown",
   "metadata": {
    "slideshow": {
     "slide_type": "subslide"
    }
   },
   "source": [
    "## Selecting by Index\n",
    "    \n",
    "In addition to passing a string to `.loc[]`:"
   ]
  },
  {
   "cell_type": "code",
   "execution_count": 47,
   "metadata": {},
   "outputs": [
    {
     "data": {
      "text/plain": [
       "userId              648\n",
       "rating              4.5\n",
       "genres           Comedy\n",
       "timestamp    1176754888\n",
       "year               1931\n",
       "Name: City Lights, dtype: object"
      ]
     },
     "execution_count": 47,
     "metadata": {},
     "output_type": "execute_result"
    }
   ],
   "source": [
    "df.loc['City Lights']"
   ]
  },
  {
   "cell_type": "markdown",
   "metadata": {
    "slideshow": {
     "slide_type": "subslide"
    }
   },
   "source": [
    "You can pass a list of index names:"
   ]
  },
  {
   "cell_type": "code",
   "execution_count": 48,
   "metadata": {},
   "outputs": [
    {
     "data": {
      "text/html": [
       "<div>\n",
       "<style scoped>\n",
       "    .dataframe tbody tr th:only-of-type {\n",
       "        vertical-align: middle;\n",
       "    }\n",
       "\n",
       "    .dataframe tbody tr th {\n",
       "        vertical-align: top;\n",
       "    }\n",
       "\n",
       "    .dataframe thead th {\n",
       "        text-align: right;\n",
       "    }\n",
       "</style>\n",
       "<table border=\"1\" class=\"dataframe\">\n",
       "  <thead>\n",
       "    <tr style=\"text-align: right;\">\n",
       "      <th></th>\n",
       "      <th>userId</th>\n",
       "      <th>rating</th>\n",
       "      <th>genres</th>\n",
       "      <th>timestamp</th>\n",
       "      <th>year</th>\n",
       "    </tr>\n",
       "    <tr>\n",
       "      <th>title</th>\n",
       "      <th></th>\n",
       "      <th></th>\n",
       "      <th></th>\n",
       "      <th></th>\n",
       "      <th></th>\n",
       "    </tr>\n",
       "  </thead>\n",
       "  <tbody>\n",
       "    <tr>\n",
       "      <th>City Lights</th>\n",
       "      <td>648</td>\n",
       "      <td>4.5</td>\n",
       "      <td>Comedy</td>\n",
       "      <td>1176754888</td>\n",
       "      <td>1931</td>\n",
       "    </tr>\n",
       "    <tr>\n",
       "      <th>Bringing Up Baby</th>\n",
       "      <td>481</td>\n",
       "      <td>4.0</td>\n",
       "      <td>Comedy</td>\n",
       "      <td>1437001472</td>\n",
       "      <td>1938</td>\n",
       "    </tr>\n",
       "  </tbody>\n",
       "</table>\n",
       "</div>"
      ],
      "text/plain": [
       "                  userId  rating  genres   timestamp  year\n",
       "title                                                     \n",
       "City Lights          648     4.5  Comedy  1176754888  1931\n",
       "Bringing Up Baby     481     4.0  Comedy  1437001472  1938"
      ]
     },
     "execution_count": 48,
     "metadata": {},
     "output_type": "execute_result"
    }
   ],
   "source": [
    "df.loc[['City Lights', 'Bringing Up Baby']]"
   ]
  },
  {
   "cell_type": "markdown",
   "metadata": {
    "slideshow": {
     "slide_type": "subslide"
    }
   },
   "source": [
    "### Setting and reseting an index:"
   ]
  },
  {
   "cell_type": "code",
   "execution_count": 51,
   "metadata": {},
   "outputs": [
    {
     "data": {
      "text/html": [
       "<div>\n",
       "<style scoped>\n",
       "    .dataframe tbody tr th:only-of-type {\n",
       "        vertical-align: middle;\n",
       "    }\n",
       "\n",
       "    .dataframe tbody tr th {\n",
       "        vertical-align: top;\n",
       "    }\n",
       "\n",
       "    .dataframe thead th {\n",
       "        text-align: right;\n",
       "    }\n",
       "</style>\n",
       "<table border=\"1\" class=\"dataframe\">\n",
       "  <thead>\n",
       "    <tr style=\"text-align: right;\">\n",
       "      <th></th>\n",
       "      <th>title</th>\n",
       "      <th>userId</th>\n",
       "      <th>rating</th>\n",
       "      <th>genres</th>\n",
       "      <th>timestamp</th>\n",
       "      <th>year</th>\n",
       "    </tr>\n",
       "  </thead>\n",
       "  <tbody>\n",
       "    <tr>\n",
       "      <th>0</th>\n",
       "      <td>Bringing Up Baby</td>\n",
       "      <td>481</td>\n",
       "      <td>4.0</td>\n",
       "      <td>Comedy</td>\n",
       "      <td>1437001472</td>\n",
       "      <td>1938</td>\n",
       "    </tr>\n",
       "    <tr>\n",
       "      <th>1</th>\n",
       "      <td>Long, Hot Summer, The</td>\n",
       "      <td>311</td>\n",
       "      <td>3.5</td>\n",
       "      <td>Drama</td>\n",
       "      <td>1061927755</td>\n",
       "      <td>1958</td>\n",
       "    </tr>\n",
       "    <tr>\n",
       "      <th>2</th>\n",
       "      <td>Net, The</td>\n",
       "      <td>191</td>\n",
       "      <td>3.0</td>\n",
       "      <td>Action</td>\n",
       "      <td>839925608</td>\n",
       "      <td>1995</td>\n",
       "    </tr>\n",
       "    <tr>\n",
       "      <th>3</th>\n",
       "      <td>City Lights</td>\n",
       "      <td>648</td>\n",
       "      <td>4.5</td>\n",
       "      <td>Comedy</td>\n",
       "      <td>1176754888</td>\n",
       "      <td>1931</td>\n",
       "    </tr>\n",
       "    <tr>\n",
       "      <th>4</th>\n",
       "      <td>Eagle vs Shark</td>\n",
       "      <td>132</td>\n",
       "      <td>4.0</td>\n",
       "      <td>Comedy</td>\n",
       "      <td>1284496709</td>\n",
       "      <td>2007</td>\n",
       "    </tr>\n",
       "  </tbody>\n",
       "</table>\n",
       "</div>"
      ],
      "text/plain": [
       "                   title  userId  rating  genres   timestamp  year\n",
       "0       Bringing Up Baby     481     4.0  Comedy  1437001472  1938\n",
       "1  Long, Hot Summer, The     311     3.5   Drama  1061927755  1958\n",
       "2               Net, The     191     3.0  Action   839925608  1995\n",
       "3            City Lights     648     4.5  Comedy  1176754888  1931\n",
       "4         Eagle vs Shark     132     4.0  Comedy  1284496709  2007"
      ]
     },
     "execution_count": 51,
     "metadata": {},
     "output_type": "execute_result"
    }
   ],
   "source": [
    "df2 = df.reset_index()\n",
    "df2"
   ]
  },
  {
   "cell_type": "code",
   "execution_count": 52,
   "metadata": {},
   "outputs": [
    {
     "data": {
      "text/html": [
       "<div>\n",
       "<style scoped>\n",
       "    .dataframe tbody tr th:only-of-type {\n",
       "        vertical-align: middle;\n",
       "    }\n",
       "\n",
       "    .dataframe tbody tr th {\n",
       "        vertical-align: top;\n",
       "    }\n",
       "\n",
       "    .dataframe thead th {\n",
       "        text-align: right;\n",
       "    }\n",
       "</style>\n",
       "<table border=\"1\" class=\"dataframe\">\n",
       "  <thead>\n",
       "    <tr style=\"text-align: right;\">\n",
       "      <th></th>\n",
       "      <th>title</th>\n",
       "      <th>userId</th>\n",
       "      <th>rating</th>\n",
       "      <th>timestamp</th>\n",
       "      <th>year</th>\n",
       "    </tr>\n",
       "    <tr>\n",
       "      <th>genres</th>\n",
       "      <th></th>\n",
       "      <th></th>\n",
       "      <th></th>\n",
       "      <th></th>\n",
       "      <th></th>\n",
       "    </tr>\n",
       "  </thead>\n",
       "  <tbody>\n",
       "    <tr>\n",
       "      <th>Comedy</th>\n",
       "      <td>Bringing Up Baby</td>\n",
       "      <td>481</td>\n",
       "      <td>4.0</td>\n",
       "      <td>1437001472</td>\n",
       "      <td>1938</td>\n",
       "    </tr>\n",
       "    <tr>\n",
       "      <th>Drama</th>\n",
       "      <td>Long, Hot Summer, The</td>\n",
       "      <td>311</td>\n",
       "      <td>3.5</td>\n",
       "      <td>1061927755</td>\n",
       "      <td>1958</td>\n",
       "    </tr>\n",
       "    <tr>\n",
       "      <th>Action</th>\n",
       "      <td>Net, The</td>\n",
       "      <td>191</td>\n",
       "      <td>3.0</td>\n",
       "      <td>839925608</td>\n",
       "      <td>1995</td>\n",
       "    </tr>\n",
       "    <tr>\n",
       "      <th>Comedy</th>\n",
       "      <td>City Lights</td>\n",
       "      <td>648</td>\n",
       "      <td>4.5</td>\n",
       "      <td>1176754888</td>\n",
       "      <td>1931</td>\n",
       "    </tr>\n",
       "    <tr>\n",
       "      <th>Comedy</th>\n",
       "      <td>Eagle vs Shark</td>\n",
       "      <td>132</td>\n",
       "      <td>4.0</td>\n",
       "      <td>1284496709</td>\n",
       "      <td>2007</td>\n",
       "    </tr>\n",
       "  </tbody>\n",
       "</table>\n",
       "</div>"
      ],
      "text/plain": [
       "                        title  userId  rating   timestamp  year\n",
       "genres                                                         \n",
       "Comedy       Bringing Up Baby     481     4.0  1437001472  1938\n",
       "Drama   Long, Hot Summer, The     311     3.5  1061927755  1958\n",
       "Action               Net, The     191     3.0   839925608  1995\n",
       "Comedy            City Lights     648     4.5  1176754888  1931\n",
       "Comedy         Eagle vs Shark     132     4.0  1284496709  2007"
      ]
     },
     "execution_count": 52,
     "metadata": {},
     "output_type": "execute_result"
    }
   ],
   "source": [
    "df2.set_index('genres')"
   ]
  },
  {
   "cell_type": "code",
   "execution_count": 55,
   "metadata": {
    "slideshow": {
     "slide_type": "subslide"
    }
   },
   "outputs": [
    {
     "data": {
      "text/html": [
       "<div>\n",
       "<style scoped>\n",
       "    .dataframe tbody tr th:only-of-type {\n",
       "        vertical-align: middle;\n",
       "    }\n",
       "\n",
       "    .dataframe tbody tr th {\n",
       "        vertical-align: top;\n",
       "    }\n",
       "\n",
       "    .dataframe thead th {\n",
       "        text-align: right;\n",
       "    }\n",
       "</style>\n",
       "<table border=\"1\" class=\"dataframe\">\n",
       "  <thead>\n",
       "    <tr style=\"text-align: right;\">\n",
       "      <th></th>\n",
       "      <th></th>\n",
       "      <th>userId</th>\n",
       "      <th>rating</th>\n",
       "      <th>timestamp</th>\n",
       "      <th>year</th>\n",
       "    </tr>\n",
       "    <tr>\n",
       "      <th>genres</th>\n",
       "      <th>title</th>\n",
       "      <th></th>\n",
       "      <th></th>\n",
       "      <th></th>\n",
       "      <th></th>\n",
       "    </tr>\n",
       "  </thead>\n",
       "  <tbody>\n",
       "    <tr>\n",
       "      <th>Action</th>\n",
       "      <th>Net, The</th>\n",
       "      <td>191</td>\n",
       "      <td>3.0</td>\n",
       "      <td>839925608</td>\n",
       "      <td>1995</td>\n",
       "    </tr>\n",
       "    <tr>\n",
       "      <th rowspan=\"3\" valign=\"top\">Comedy</th>\n",
       "      <th>Bringing Up Baby</th>\n",
       "      <td>481</td>\n",
       "      <td>4.0</td>\n",
       "      <td>1437001472</td>\n",
       "      <td>1938</td>\n",
       "    </tr>\n",
       "    <tr>\n",
       "      <th>City Lights</th>\n",
       "      <td>648</td>\n",
       "      <td>4.5</td>\n",
       "      <td>1176754888</td>\n",
       "      <td>1931</td>\n",
       "    </tr>\n",
       "    <tr>\n",
       "      <th>Eagle vs Shark</th>\n",
       "      <td>132</td>\n",
       "      <td>4.0</td>\n",
       "      <td>1284496709</td>\n",
       "      <td>2007</td>\n",
       "    </tr>\n",
       "    <tr>\n",
       "      <th>Drama</th>\n",
       "      <th>Long, Hot Summer, The</th>\n",
       "      <td>311</td>\n",
       "      <td>3.5</td>\n",
       "      <td>1061927755</td>\n",
       "      <td>1958</td>\n",
       "    </tr>\n",
       "  </tbody>\n",
       "</table>\n",
       "</div>"
      ],
      "text/plain": [
       "                              userId  rating   timestamp  year\n",
       "genres title                                                  \n",
       "Action Net, The                  191     3.0   839925608  1995\n",
       "Comedy Bringing Up Baby          481     4.0  1437001472  1938\n",
       "       City Lights               648     4.5  1176754888  1931\n",
       "       Eagle vs Shark            132     4.0  1284496709  2007\n",
       "Drama  Long, Hot Summer, The     311     3.5  1061927755  1958"
      ]
     },
     "execution_count": 55,
     "metadata": {},
     "output_type": "execute_result"
    }
   ],
   "source": [
    "df3 = df2.set_index(['genres', 'title']).sort_index()\n",
    "df3"
   ]
  },
  {
   "cell_type": "code",
   "execution_count": 62,
   "metadata": {
    "slideshow": {
     "slide_type": "subslide"
    }
   },
   "outputs": [
    {
     "data": {
      "text/html": [
       "<div>\n",
       "<style scoped>\n",
       "    .dataframe tbody tr th:only-of-type {\n",
       "        vertical-align: middle;\n",
       "    }\n",
       "\n",
       "    .dataframe tbody tr th {\n",
       "        vertical-align: top;\n",
       "    }\n",
       "\n",
       "    .dataframe thead th {\n",
       "        text-align: right;\n",
       "    }\n",
       "</style>\n",
       "<table border=\"1\" class=\"dataframe\">\n",
       "  <thead>\n",
       "    <tr style=\"text-align: right;\">\n",
       "      <th></th>\n",
       "      <th>userId</th>\n",
       "      <th>rating</th>\n",
       "      <th>timestamp</th>\n",
       "      <th>year</th>\n",
       "    </tr>\n",
       "    <tr>\n",
       "      <th>title</th>\n",
       "      <th></th>\n",
       "      <th></th>\n",
       "      <th></th>\n",
       "      <th></th>\n",
       "    </tr>\n",
       "  </thead>\n",
       "  <tbody>\n",
       "    <tr>\n",
       "      <th>Bringing Up Baby</th>\n",
       "      <td>481</td>\n",
       "      <td>4.0</td>\n",
       "      <td>1437001472</td>\n",
       "      <td>1938</td>\n",
       "    </tr>\n",
       "    <tr>\n",
       "      <th>City Lights</th>\n",
       "      <td>648</td>\n",
       "      <td>4.5</td>\n",
       "      <td>1176754888</td>\n",
       "      <td>1931</td>\n",
       "    </tr>\n",
       "    <tr>\n",
       "      <th>Eagle vs Shark</th>\n",
       "      <td>132</td>\n",
       "      <td>4.0</td>\n",
       "      <td>1284496709</td>\n",
       "      <td>2007</td>\n",
       "    </tr>\n",
       "  </tbody>\n",
       "</table>\n",
       "</div>"
      ],
      "text/plain": [
       "                  userId  rating   timestamp  year\n",
       "title                                             \n",
       "Bringing Up Baby     481     4.0  1437001472  1938\n",
       "City Lights          648     4.5  1176754888  1931\n",
       "Eagle vs Shark       132     4.0  1284496709  2007"
      ]
     },
     "execution_count": 62,
     "metadata": {},
     "output_type": "execute_result"
    }
   ],
   "source": [
    "df3.loc[('Comedy')]"
   ]
  },
  {
   "cell_type": "code",
   "execution_count": 61,
   "metadata": {
    "slideshow": {
     "slide_type": "fragment"
    }
   },
   "outputs": [
    {
     "data": {
      "text/plain": [
       "userId       6.480000e+02\n",
       "rating       4.500000e+00\n",
       "timestamp    1.176755e+09\n",
       "year         1.931000e+03\n",
       "Name: (Comedy, City Lights), dtype: float64"
      ]
     },
     "execution_count": 61,
     "metadata": {},
     "output_type": "execute_result"
    }
   ],
   "source": [
    "df3.loc[('Comedy', 'City Lights')]"
   ]
  },
  {
   "cell_type": "markdown",
   "metadata": {
    "slideshow": {
     "slide_type": "slide"
    }
   },
   "source": [
    "# Semi-structured data"
   ]
  },
  {
   "cell_type": "markdown",
   "metadata": {
    "slideshow": {
     "slide_type": "fragment"
    }
   },
   "source": [
    "Semi-structured data has a structure, but it is specific to the needs of the data.\n",
    "\n",
    "Tabular data always has two-dimensions - rows and columns (aka 'fields' and 'records') - semi-structured data is less predicatable."
   ]
  },
  {
   "cell_type": "markdown",
   "metadata": {
    "slideshow": {
     "slide_type": "subslide"
    }
   },
   "source": [
    "### Common Semi-Structured Formats\n",
    "\n",
    "JSON\n",
    "- Hierarchical\n",
    "- Organized around key/value pairs and lists of values\n",
    "\n",
    "XML\n",
    "- Hierarchical, enclosed\n",
    "- Organized with tags, properties, and values"
   ]
  },
  {
   "cell_type": "markdown",
   "metadata": {
    "slideshow": {
     "slide_type": "subslide"
    }
   },
   "source": [
    "### XML, briefly\n",
    "\n",
    "XML has tags and attributes, representing elements, and content\n",
    "\n",
    "![Example XML](../images/xml1.png)"
   ]
  },
  {
   "cell_type": "markdown",
   "metadata": {
    "slideshow": {
     "slide_type": "subslide"
    }
   },
   "source": [
    "TAGS\n",
    "\n",
    "- `<catalog>`\n",
    "- `<book>`\n",
    "- `<author>`\n",
    "\n",
    "ELEMENTS\n",
    "- Everything from `<book>` to `</book>`"
   ]
  },
  {
   "cell_type": "markdown",
   "metadata": {
    "slideshow": {
     "slide_type": "subslide"
    }
   },
   "source": [
    "ATTRIBUTES\n",
    "- The ‘id’ of `<book>`\n",
    "\n",
    "CONTENT\n",
    "- “Gambardella, Matthew”\n",
    "- “XML Developer’s Guide”"
   ]
  },
  {
   "cell_type": "markdown",
   "metadata": {
    "slideshow": {
     "slide_type": "subslide"
    }
   },
   "source": [
    "## JSON\n",
    "\n",
    "JSON is made up a few data value types:\n",
    "\n",
    "- string\n",
    "- number (like a float in Python)\n",
    "- object (named collection, like a dictionary in Python)\n",
    "- array  (unnamed collection, like a list in Python)\n",
    "- boolean\n",
    "- null"
   ]
  },
  {
   "cell_type": "markdown",
   "metadata": {
    "slideshow": {
     "slide_type": "subslide"
    }
   },
   "source": [
    "Our 'containers' are objects and arrays. They can hold any of the other data types, *including other arrays and objects*.\n",
    "\n",
    "\n",
    "### Object\n",
    "\n",
    "Key value pairs, surrounded by curly braces.\n",
    "\n",
    "- `:` separates key and value, `,` separates the item pairs.\n",
    "- Keys have to be strings, values can be anything."
   ]
  },
  {
   "cell_type": "markdown",
   "metadata": {
    "slideshow": {
     "slide_type": "subslide"
    }
   },
   "source": [
    "### Arrays\n",
    "\n",
    "Nearly identical to lists in Python. Values, surrounded by square brackets.\n",
    "\n",
    "- `,` separates items.\n",
    "- Values can be any data type."
   ]
  },
  {
   "cell_type": "markdown",
   "metadata": {
    "slideshow": {
     "slide_type": "subslide"
    }
   },
   "source": [
    "### Objects \n",
    "\n",
    "basic form:\n",
    "\n",
    "```json\n",
    "{\n",
    "  \"name\": \"Jill\"\n",
    "}\n",
    "```"
   ]
  },
  {
   "cell_type": "markdown",
   "metadata": {
    "slideshow": {
     "slide_type": "subslide"
    }
   },
   "source": [
    "Adding key-value pairs:\n",
    "    \n",
    "```json\n",
    "{\n",
    "  \"name\": \"Jill\",\n",
    "  \"profession\": \"Juggler\"\n",
    "}\n",
    "```"
   ]
  },
  {
   "cell_type": "markdown",
   "metadata": {
    "slideshow": {
     "slide_type": "subslide"
    }
   },
   "source": [
    "Values can be other types:\n",
    "    \n",
    "```json\n",
    "{\n",
    "  \"name\": \"Jill\",\n",
    "  \"profession\": \"Juggler\",\n",
    "  \"age\": 51\n",
    "}\n",
    "```"
   ]
  },
  {
   "cell_type": "markdown",
   "metadata": {
    "slideshow": {
     "slide_type": "subslide"
    }
   },
   "source": [
    "JSON is language-agnostic, so some things are different than in Python. e.g. *true / false* (lowercase) rather than Python's *True / False*:\n",
    "\n",
    "```json\n",
    "{\n",
    "  \"name\": \"Jill\",\n",
    "  \"profession\": \"Juggler\",\n",
    "  \"age\": 51,\n",
    "  \"active\": true\n",
    "}\n",
    "```"
   ]
  },
  {
   "cell_type": "markdown",
   "metadata": {
    "slideshow": {
     "slide_type": "subslide"
    }
   },
   "source": [
    "The values can be arrays and objects - that's how things start to get deep:\n",
    "\n",
    "```json\n",
    "{\n",
    "  \"name\": \"Jill\",\n",
    "  \"profession\": \"Juggler\",\n",
    "  \"age\": 51,\n",
    "  \"active\": true,\n",
    "  \"tools\": [\"ball\", \"handkerchief\", \"flaming motorcycle\"]\n",
    "}\n",
    "```"
   ]
  },
  {
   "cell_type": "markdown",
   "metadata": {
    "slideshow": {
     "slide_type": "subslide"
    }
   },
   "source": [
    "Nested Object:\n",
    "\n",
    "```json\n",
    "{\n",
    "  \"name\": \"Jill\",\n",
    "  \"profession\": \"Juggler\",\n",
    "  \"age\": 51,\n",
    "  \"active\": true,\n",
    "  \"tools\": [\"ball\", \"handkerchief\", \"flaming motorcycle\"],\n",
    "  \"awards\": {\n",
    "      \"Tri-City Juggling Symposium 2010\": \"Technical Program, Silver\",\n",
    "      \"Ballympics 2009\": \"Best Overall, Runner-up\"\n",
    "  }\n",
    "}\n",
    "```"
   ]
  },
  {
   "cell_type": "markdown",
   "metadata": {
    "slideshow": {
     "slide_type": "subslide"
    }
   },
   "source": [
    "List of objects, why not?\n",
    "\n",
    "```json\n",
    "{\n",
    "  \"name\": \"Jill\",\n",
    "  \"profession\": \"Juggler\",\n",
    "  \"age\": 51,\n",
    "  \"active\": true,\n",
    "  \"tools\": [\"ball\", \"handkerchief\", \"flaming motorcycle\"],\n",
    "  \"awards\": [\n",
    "        {\n",
    "            \"event\": \"Tri-City Juggling Symposium\",\n",
    "             \"year\": 2010,\n",
    "             \"awards\": [\"Technical Program, Silver\"]\n",
    "        },\n",
    "        {\n",
    "            \"event\": \"Ballympics\",\n",
    "             \"year\": 2009,\n",
    "             \"awards\": [\"Best Overall, Runner-up\"]\n",
    "        }\n",
    "    ]\n",
    "}\n",
    "```"
   ]
  },
  {
   "cell_type": "markdown",
   "metadata": {
    "slideshow": {
     "slide_type": "subslide"
    }
   },
   "source": [
    "Whitespace doesn't matter:\n",
    "\n",
    "```json\n",
    "{\"name\": \"Jill\", \"profession\": \"Juggler\", \"age\": 51, \"active\": true, \"tools\": [\"ball\", \"handkerchief\", \"flaming motorcycle\"], \"awards\": [{\"event\": \"Tri-City Juggling Symposium\", \"year\": 2010, \"awards\": [\"Technical Program, Silver\"]}, {\"event\": \"Ballympics\", \"year\": 2009, \"awards\": [\"Best Overall, Runner-up\"]}]}\n",
    "```"
   ]
  },
  {
   "cell_type": "markdown",
   "metadata": {
    "slideshow": {
     "slide_type": "subslide"
    }
   },
   "source": [
    "### Exercises\n",
    "\n",
    "Develop a JSON structure for representing the following:\n",
    "\n",
    "- a directory of current mayors, organized by cities and subdivided by state\n",
    "    - Try with 3 cities from 2 states\n",
    "- a collection of movies, each with basic metadata (e.g. title, director, year) and with viewer opinion information (ratings or reviews)\n",
    "   - Try with *Black Panther* and *Avengers: Infinity War*"
   ]
  },
  {
   "cell_type": "markdown",
   "metadata": {
    "slideshow": {
     "slide_type": "slide"
    }
   },
   "source": [
    "# MongoDB\n",
    "\n",
    "A semi-structured non-relational (No-SQL) database, which uses a JSON-like format for storing information."
   ]
  },
  {
   "cell_type": "markdown",
   "metadata": {
    "slideshow": {
     "slide_type": "subslide"
    }
   },
   "source": [
    "### Terminology\n",
    "\n",
    "<center>**Database Management System (MongoDB)**</center>\n",
    "<center>*can have one or more*</center>\n",
    "\n",
    "<center>**Databases**</center>\n",
    "\n",
    "<center>*can have one or more*</center>\n",
    "<center>**Collections**</center>\n",
    "\n",
    "<center>*can have one or more*</center>\n",
    "<center>**Documents**</center>"
   ]
  },
  {
   "cell_type": "markdown",
   "metadata": {
    "slideshow": {
     "slide_type": "fragment"
    }
   },
   "source": [
    "Compare to relational databases - How do the terms align?"
   ]
  },
  {
   "cell_type": "markdown",
   "metadata": {
    "slideshow": {
     "slide_type": "subslide"
    }
   },
   "source": [
    "*Documents* are JSON-like objects, *Collections* are lists of those objects."
   ]
  },
  {
   "cell_type": "markdown",
   "metadata": {
    "slideshow": {
     "slide_type": "fragment"
    }
   },
   "source": [
    "```\n",
    "[\n",
    "    {\n",
    "      \"name\": \"Jill\",\n",
    "      \"profession\": \"Juggler\"\n",
    "    },\n",
    "    { \"name\": \"Jack\",\n",
    "      \"profession\": \"Unemployed\"\n",
    "    }\n",
    "]\n",
    "```"
   ]
  },
  {
   "cell_type": "markdown",
   "metadata": {
    "slideshow": {
     "slide_type": "subslide"
    }
   },
   "source": [
    "Before we learn about MongoDB, let's get it ready on our systems so we can be hands on!\n",
    "\n",
    "- Turn to Lab and do the small JSON primer\n",
    "- Install and connect to Mongo according to lab instructions."
   ]
  },
  {
   "cell_type": "markdown",
   "metadata": {
    "slideshow": {
     "slide_type": "subslide"
    }
   },
   "source": [
    "Connecting to a database called 'week7'. I'll put all my collections there this week."
   ]
  },
  {
   "cell_type": "code",
   "execution_count": 64,
   "metadata": {
    "slideshow": {
     "slide_type": "-"
    }
   },
   "outputs": [
    {
     "data": {
      "text/plain": [
       "Database(MongoClient(host=['localhost:27017'], document_class=dict, tz_aware=False, connect=True), 'week7')"
      ]
     },
     "execution_count": 64,
     "metadata": {},
     "output_type": "execute_result"
    }
   ],
   "source": [
    "from pymongo import MongoClient\n",
    "client = MongoClient('localhost', 27017)\n",
    "db = client.week7\n",
    "db"
   ]
  },
  {
   "cell_type": "markdown",
   "metadata": {
    "slideshow": {
     "slide_type": "subslide"
    }
   },
   "source": [
    "New `example` collection:"
   ]
  },
  {
   "cell_type": "code",
   "execution_count": 65,
   "metadata": {},
   "outputs": [],
   "source": [
    "collection = db.example"
   ]
  },
  {
   "cell_type": "markdown",
   "metadata": {
    "slideshow": {
     "slide_type": "subslide"
    }
   },
   "source": [
    "## Insert One"
   ]
  },
  {
   "cell_type": "code",
   "execution_count": 89,
   "metadata": {},
   "outputs": [
    {
     "data": {
      "text/plain": [
       "<pymongo.results.InsertOneResult at 0x111e1d1eb40>"
      ]
     },
     "execution_count": 89,
     "metadata": {},
     "output_type": "execute_result"
    }
   ],
   "source": [
    "doc = {\n",
    "  \"name\": \"Jill\",\n",
    "  \"age\": 51,\n",
    "  \"profession\": \"Juggler\"\n",
    "}\n",
    "collection.insert_one(doc)"
   ]
  },
  {
   "cell_type": "markdown",
   "metadata": {
    "slideshow": {
     "slide_type": "subslide"
    }
   },
   "source": [
    "## Retrieving Documents\n",
    "\n",
    "MongoDB does retrieval with `find` or `find_one`, using a JSON-query.\n",
    "\n",
    "`find_one` gives a JSON object back:"
   ]
  },
  {
   "cell_type": "code",
   "execution_count": 91,
   "metadata": {
    "slideshow": {
     "slide_type": "-"
    }
   },
   "outputs": [
    {
     "data": {
      "text/plain": [
       "{'_id': ObjectId('5af1c28e4b6d021e1098fa59'),\n",
       " 'age': 51,\n",
       " 'name': 'Jill',\n",
       " 'profession': 'Juggler'}"
      ]
     },
     "execution_count": 91,
     "metadata": {},
     "output_type": "execute_result"
    }
   ],
   "source": [
    "collection.find_one({'name': 'Jill'})"
   ]
  },
  {
   "cell_type": "markdown",
   "metadata": {
    "slideshow": {
     "slide_type": "subslide"
    }
   },
   "source": [
    "`find` returns an instance of an object that can be iterated over:"
   ]
  },
  {
   "cell_type": "code",
   "execution_count": 92,
   "metadata": {},
   "outputs": [
    {
     "data": {
      "text/plain": [
       "<pymongo.cursor.Cursor at 0x111e1e046d8>"
      ]
     },
     "execution_count": 92,
     "metadata": {},
     "output_type": "execute_result"
    }
   ],
   "source": [
    "collection.find({'name': 'Jill'})"
   ]
  },
  {
   "cell_type": "code",
   "execution_count": 179,
   "metadata": {
    "slideshow": {
     "slide_type": "fragment"
    }
   },
   "outputs": [
    {
     "name": "stdout",
     "output_type": "stream",
     "text": [
      "{'_id': ObjectId('5af1ca774b6d021e1098fa64'), 'name': 'Jill', 'profile': {'age': 51, 'hobbies': ['jogging', 'juggling']}}\n"
     ]
    }
   ],
   "source": [
    "results = collection.find({'name': 'Jill'})\n",
    "for result in results:\n",
    "    print(result)"
   ]
  },
  {
   "cell_type": "markdown",
   "metadata": {
    "slideshow": {
     "slide_type": "subslide"
    }
   },
   "source": [
    "*Try iterating over the `results` variable again without doing another search. What happens?*"
   ]
  },
  {
   "cell_type": "code",
   "execution_count": 191,
   "metadata": {},
   "outputs": [],
   "source": [
    "for result in results:\n",
    "    print(result)"
   ]
  },
  {
   "cell_type": "markdown",
   "metadata": {
    "slideshow": {
     "slide_type": "subslide"
    }
   },
   "source": [
    "The `cursor` is a pointer to the databases, so you're not holding all the data in memory. Good for really large datasets!"
   ]
  },
  {
   "cell_type": "markdown",
   "metadata": {
    "slideshow": {
     "slide_type": "fragment"
    }
   },
   "source": [
    "Alternately, you can convert everything to a list, but don't do this if you have a lot of data!"
   ]
  },
  {
   "cell_type": "code",
   "execution_count": 95,
   "metadata": {},
   "outputs": [
    {
     "data": {
      "text/plain": [
       "[{'_id': ObjectId('5af1c28e4b6d021e1098fa59'),\n",
       "  'age': 51,\n",
       "  'name': 'Jill',\n",
       "  'profession': 'Juggler'}]"
      ]
     },
     "execution_count": 95,
     "metadata": {},
     "output_type": "execute_result"
    }
   ],
   "source": [
    "results = collection.find({'name': 'Jill'})\n",
    "list_of_results = list(results)\n",
    "list_of_results"
   ]
  },
  {
   "cell_type": "markdown",
   "metadata": {
    "slideshow": {
     "slide_type": "subslide"
    }
   },
   "source": [
    "## Insert Many"
   ]
  },
  {
   "cell_type": "code",
   "execution_count": 96,
   "metadata": {},
   "outputs": [
    {
     "data": {
      "text/plain": [
       "<pymongo.results.InsertManyResult at 0x111e1d21a20>"
      ]
     },
     "execution_count": 96,
     "metadata": {},
     "output_type": "execute_result"
    }
   ],
   "source": [
    "docs = [{ \"name\": \"Jack\", \"age\": 50, \"profession\": \"Unemployed\" },\n",
    "        { \"name\": \"Jun Ho\", \"age\": 34, \"profession\": \"Juggler\" }\n",
    "       ]\n",
    "collection.insert_many(docs)"
   ]
  },
  {
   "cell_type": "code",
   "execution_count": 97,
   "metadata": {
    "slideshow": {
     "slide_type": "subslide"
    }
   },
   "outputs": [
    {
     "data": {
      "text/plain": [
       "[{'_id': ObjectId('5af1c28e4b6d021e1098fa59'),\n",
       "  'age': 51,\n",
       "  'name': 'Jill',\n",
       "  'profession': 'Juggler'},\n",
       " {'_id': ObjectId('5af1c2bb4b6d021e1098fa5b'),\n",
       "  'age': 34,\n",
       "  'name': 'Jun Ho',\n",
       "  'profession': 'Juggler'}]"
      ]
     },
     "execution_count": 97,
     "metadata": {},
     "output_type": "execute_result"
    }
   ],
   "source": [
    "results = collection.find({\"profession\": \"Juggler\"})\n",
    "list(results)"
   ]
  },
  {
   "cell_type": "markdown",
   "metadata": {
    "slideshow": {
     "slide_type": "subslide"
    }
   },
   "source": [
    "### Count"
   ]
  },
  {
   "cell_type": "code",
   "execution_count": 125,
   "metadata": {
    "scrolled": true
   },
   "outputs": [
    {
     "data": {
      "text/plain": [
       "3"
      ]
     },
     "execution_count": 125,
     "metadata": {},
     "output_type": "execute_result"
    }
   ],
   "source": [
    "collection.count()"
   ]
  },
  {
   "cell_type": "markdown",
   "metadata": {
    "slideshow": {
     "slide_type": "subslide"
    }
   },
   "source": [
    "## Retrieving Everything\n",
    "\n",
    "*What would our search be to get everything?*"
   ]
  },
  {
   "cell_type": "code",
   "execution_count": null,
   "metadata": {},
   "outputs": [],
   "source": []
  },
  {
   "cell_type": "code",
   "execution_count": 98,
   "metadata": {
    "slideshow": {
     "slide_type": "fragment"
    }
   },
   "outputs": [
    {
     "data": {
      "text/plain": [
       "[{'_id': ObjectId('5af1c28e4b6d021e1098fa59'),\n",
       "  'age': 51,\n",
       "  'name': 'Jill',\n",
       "  'profession': 'Juggler'},\n",
       " {'_id': ObjectId('5af1c2bb4b6d021e1098fa5a'),\n",
       "  'age': 50,\n",
       "  'name': 'Jack',\n",
       "  'profession': 'Unemployed'},\n",
       " {'_id': ObjectId('5af1c2bb4b6d021e1098fa5b'),\n",
       "  'age': 34,\n",
       "  'name': 'Jun Ho',\n",
       "  'profession': 'Juggler'}]"
      ]
     },
     "execution_count": 98,
     "metadata": {},
     "output_type": "execute_result"
    }
   ],
   "source": [
    "results = collection.find({})\n",
    "list(results)"
   ]
  },
  {
   "cell_type": "markdown",
   "metadata": {
    "slideshow": {
     "slide_type": "subslide"
    }
   },
   "source": [
    "## `Find` by Example"
   ]
  },
  {
   "cell_type": "markdown",
   "metadata": {
    "slideshow": {
     "slide_type": "subslide"
    }
   },
   "source": [
    "Exact match:"
   ]
  },
  {
   "cell_type": "code",
   "execution_count": 105,
   "metadata": {},
   "outputs": [
    {
     "data": {
      "text/plain": [
       "[{'_id': ObjectId('5af1c2bb4b6d021e1098fa5a'),\n",
       "  'age': 50,\n",
       "  'name': 'Jack',\n",
       "  'profession': 'Unemployed'}]"
      ]
     },
     "execution_count": 105,
     "metadata": {},
     "output_type": "execute_result"
    }
   ],
   "source": [
    "results = collection.find({\n",
    "            \"age\": 50\n",
    "        })\n",
    "list(results)"
   ]
  },
  {
   "cell_type": "markdown",
   "metadata": {
    "slideshow": {
     "slide_type": "subslide"
    }
   },
   "source": [
    "Multiple conditions:"
   ]
  },
  {
   "cell_type": "code",
   "execution_count": 110,
   "metadata": {},
   "outputs": [
    {
     "data": {
      "text/plain": [
       "[{'_id': ObjectId('5af1c2bb4b6d021e1098fa5a'),\n",
       "  'age': 50,\n",
       "  'name': 'Jack',\n",
       "  'profession': 'Unemployed'}]"
      ]
     },
     "execution_count": 110,
     "metadata": {},
     "output_type": "execute_result"
    }
   ],
   "source": [
    "results = collection.find({\n",
    "            \"age\": 50,\n",
    "            \"profession\": \"Unemployed\"\n",
    "        })\n",
    "list(results)"
   ]
  },
  {
   "cell_type": "markdown",
   "metadata": {
    "slideshow": {
     "slide_type": "subslide"
    }
   },
   "source": [
    "Greater than, Less than, Greater than or equal to, Less than or equal to:"
   ]
  },
  {
   "cell_type": "code",
   "execution_count": 104,
   "metadata": {},
   "outputs": [
    {
     "data": {
      "text/plain": [
       "[{'_id': ObjectId('5af1c28e4b6d021e1098fa59'),\n",
       "  'age': 51,\n",
       "  'name': 'Jill',\n",
       "  'profession': 'Juggler'}]"
      ]
     },
     "execution_count": 104,
     "metadata": {},
     "output_type": "execute_result"
    }
   ],
   "source": [
    "results = collection.find({\n",
    "            \"age\": { \"$gt\": 50 }\n",
    "        })\n",
    "list(results)"
   ]
  },
  {
   "cell_type": "code",
   "execution_count": 106,
   "metadata": {},
   "outputs": [
    {
     "data": {
      "text/plain": [
       "[{'_id': ObjectId('5af1c28e4b6d021e1098fa59'),\n",
       "  'age': 51,\n",
       "  'name': 'Jill',\n",
       "  'profession': 'Juggler'},\n",
       " {'_id': ObjectId('5af1c2bb4b6d021e1098fa5a'),\n",
       "  'age': 50,\n",
       "  'name': 'Jack',\n",
       "  'profession': 'Unemployed'}]"
      ]
     },
     "execution_count": 106,
     "metadata": {},
     "output_type": "execute_result"
    }
   ],
   "source": [
    "results = collection.find({\n",
    "            \"age\": { \"$gte\": 50 }\n",
    "        })\n",
    "list(results)"
   ]
  },
  {
   "cell_type": "markdown",
   "metadata": {
    "slideshow": {
     "slide_type": "subslide"
    }
   },
   "source": [
    "```json\n",
    "{ \"$gt\": 50 }\n",
    "```\n",
    "\n",
    "The `$` tells mongo that this is a special function, not simply a value named `gt`"
   ]
  },
  {
   "cell_type": "code",
   "execution_count": 197,
   "metadata": {
    "slideshow": {
     "slide_type": "subslide"
    }
   },
   "outputs": [
    {
     "data": {
      "text/plain": [
       "[]"
      ]
     },
     "execution_count": 197,
     "metadata": {},
     "output_type": "execute_result"
    }
   ],
   "source": [
    "results = collection.find({\n",
    "            \"age\": { \"$gte\": 50 }\n",
    "        })\n",
    "list(results)"
   ]
  },
  {
   "cell_type": "markdown",
   "metadata": {
    "slideshow": {
     "slide_type": "subslide"
    }
   },
   "source": [
    "And more:\n",
    "    \n",
    "- Combine expressions with `$or`, `$and`\n",
    "- Match against multiple values with `$in`, `$all`\n",
    "    \n",
    "*What do these do? Can we figure out how to use them?*"
   ]
  },
  {
   "cell_type": "markdown",
   "metadata": {
    "slideshow": {
     "slide_type": "subslide"
    }
   },
   "source": [
    "### Specifying the return fields\n",
    "\n",
    "The 2nd argument to `find` or `find_one` specifies which fields to include:"
   ]
  },
  {
   "cell_type": "code",
   "execution_count": 114,
   "metadata": {
    "slideshow": {
     "slide_type": "fragment"
    }
   },
   "outputs": [
    {
     "data": {
      "text/plain": [
       "[{'_id': ObjectId('5af1c28e4b6d021e1098fa59'), 'name': 'Jill'},\n",
       " {'_id': ObjectId('5af1c2bb4b6d021e1098fa5a'), 'name': 'Jack'},\n",
       " {'_id': ObjectId('5af1c2bb4b6d021e1098fa5b'), 'name': 'Jun Ho'}]"
      ]
     },
     "execution_count": 114,
     "metadata": {},
     "output_type": "execute_result"
    }
   ],
   "source": [
    "results = collection.find({}, { \"name\": 1})\n",
    "list(results)"
   ]
  },
  {
   "cell_type": "code",
   "execution_count": 115,
   "metadata": {
    "slideshow": {
     "slide_type": "subslide"
    }
   },
   "outputs": [
    {
     "data": {
      "text/plain": [
       "[{'_id': ObjectId('5af1c28e4b6d021e1098fa59'), 'age': 51, 'name': 'Jill'},\n",
       " {'_id': ObjectId('5af1c2bb4b6d021e1098fa5a'), 'age': 50, 'name': 'Jack'},\n",
       " {'_id': ObjectId('5af1c2bb4b6d021e1098fa5b'), 'age': 34, 'name': 'Jun Ho'}]"
      ]
     },
     "execution_count": 115,
     "metadata": {},
     "output_type": "execute_result"
    }
   ],
   "source": [
    "results = collection.find({}, { \"name\": 1, \"age\": 1})\n",
    "list(results)"
   ]
  },
  {
   "cell_type": "markdown",
   "metadata": {},
   "source": [
    "Or by exclusion:"
   ]
  },
  {
   "cell_type": "code",
   "execution_count": 116,
   "metadata": {},
   "outputs": [
    {
     "data": {
      "text/plain": [
       "[{'_id': ObjectId('5af1c28e4b6d021e1098fa59'),\n",
       "  'age': 51,\n",
       "  'profession': 'Juggler'},\n",
       " {'_id': ObjectId('5af1c2bb4b6d021e1098fa5a'),\n",
       "  'age': 50,\n",
       "  'profession': 'Unemployed'},\n",
       " {'_id': ObjectId('5af1c2bb4b6d021e1098fa5b'),\n",
       "  'age': 34,\n",
       "  'profession': 'Juggler'}]"
      ]
     },
     "execution_count": 116,
     "metadata": {},
     "output_type": "execute_result"
    }
   ],
   "source": [
    "results = collection.find({}, { \"name\": 0 })\n",
    "list(results)"
   ]
  },
  {
   "cell_type": "markdown",
   "metadata": {
    "slideshow": {
     "slide_type": "slide"
    }
   },
   "source": [
    "*Why use Mongo rather than an SQL DB?*"
   ]
  },
  {
   "cell_type": "markdown",
   "metadata": {
    "slideshow": {
     "slide_type": "fragment"
    }
   },
   "source": [
    "# <center>Nested Fields and Arrays</center>"
   ]
  },
  {
   "cell_type": "markdown",
   "metadata": {
    "slideshow": {
     "slide_type": "subslide"
    }
   },
   "source": [
    "New collection:"
   ]
  },
  {
   "cell_type": "code",
   "execution_count": 198,
   "metadata": {},
   "outputs": [],
   "source": [
    "collection = db.example2"
   ]
  },
  {
   "cell_type": "code",
   "execution_count": 134,
   "metadata": {
    "slideshow": {
     "slide_type": "subslide"
    }
   },
   "outputs": [
    {
     "data": {
      "text/plain": [
       "<pymongo.results.InsertOneResult at 0x111e1e1f798>"
      ]
     },
     "execution_count": 134,
     "metadata": {},
     "output_type": "execute_result"
    }
   ],
   "source": [
    "doc = {\n",
    "  \"name\": \"Jill\",\n",
    "  \"profile\": {\n",
    "      \"age\": 51,\n",
    "      \"hobbies\": [\"jogging\", \"juggling\"]\n",
    "  }\n",
    "}\n",
    "collection.insert_one(doc)"
   ]
  },
  {
   "cell_type": "code",
   "execution_count": 135,
   "metadata": {},
   "outputs": [
    {
     "data": {
      "text/plain": [
       "<pymongo.results.InsertOneResult at 0x111e1d3f2d0>"
      ]
     },
     "execution_count": 135,
     "metadata": {},
     "output_type": "execute_result"
    }
   ],
   "source": [
    "doc = {\n",
    "  \"name\": \"Jack\",\n",
    "  \"profile\": {\n",
    "      \"age\": 50,\n",
    "      \"hobbies\": [\"internet commenting\"]\n",
    "  }\n",
    "}\n",
    "collection.insert_one(doc)"
   ]
  },
  {
   "cell_type": "code",
   "execution_count": 136,
   "metadata": {
    "slideshow": {
     "slide_type": "subslide"
    }
   },
   "outputs": [
    {
     "data": {
      "text/plain": [
       "<pymongo.results.InsertOneResult at 0x111e1e1f2d0>"
      ]
     },
     "execution_count": 136,
     "metadata": {},
     "output_type": "execute_result"
    }
   ],
   "source": [
    "doc = {\n",
    "  \"name\": \"Ju Ho\",\n",
    "  \"profile\": {\n",
    "      \"age\": 34,\n",
    "      \"hobbies\": [\"petting dogs\", \"juggling\"]\n",
    "  }\n",
    "}\n",
    "collection.insert_one(doc)"
   ]
  },
  {
   "cell_type": "code",
   "execution_count": 199,
   "metadata": {},
   "outputs": [
    {
     "data": {
      "text/plain": [
       "3"
      ]
     },
     "execution_count": 199,
     "metadata": {},
     "output_type": "execute_result"
    }
   ],
   "source": [
    "collection.count()"
   ]
  },
  {
   "cell_type": "markdown",
   "metadata": {
    "slideshow": {
     "slide_type": "subslide"
    }
   },
   "source": [
    "'dot' notation: separate nested field with a field. e.g. `profile.age`"
   ]
  },
  {
   "cell_type": "code",
   "execution_count": 147,
   "metadata": {
    "slideshow": {
     "slide_type": "fragment"
    }
   },
   "outputs": [
    {
     "data": {
      "text/plain": [
       "[{'_id': ObjectId('5af1ca774b6d021e1098fa64'),\n",
       "  'name': 'Jill',\n",
       "  'profile': {'age': 51, 'hobbies': ['jogging', 'juggling']}}]"
      ]
     },
     "execution_count": 147,
     "metadata": {},
     "output_type": "execute_result"
    }
   ],
   "source": [
    "results = collection.find( { \"profile.age\": 51} )\n",
    "list(results)"
   ]
  },
  {
   "cell_type": "code",
   "execution_count": 146,
   "metadata": {
    "slideshow": {
     "slide_type": "fragment"
    }
   },
   "outputs": [
    {
     "data": {
      "text/plain": [
       "[{'_id': ObjectId('5af1ca774b6d021e1098fa64'),\n",
       "  'name': 'Jill',\n",
       "  'profile': {'age': 51, 'hobbies': ['jogging', 'juggling']}},\n",
       " {'_id': ObjectId('5af1ca794b6d021e1098fa66'),\n",
       "  'name': 'Ju Ho',\n",
       "  'profile': {'age': 34, 'hobbies': ['petting dogs', 'juggling']}}]"
      ]
     },
     "execution_count": 146,
     "metadata": {},
     "output_type": "execute_result"
    }
   ],
   "source": [
    "results = collection.find( { \"profile.hobbies\": \"juggling\"} )\n",
    "list(results)"
   ]
  }
 ],
 "metadata": {
  "celltoolbar": "Slideshow",
  "kernelspec": {
   "display_name": "Python 3",
   "language": "python",
   "name": "python3"
  },
  "language_info": {
   "codemirror_mode": {
    "name": "ipython",
    "version": 3
   },
   "file_extension": ".py",
   "mimetype": "text/x-python",
   "name": "python",
   "nbconvert_exporter": "python",
   "pygments_lexer": "ipython3",
   "version": "3.6.7"
  }
 },
 "nbformat": 4,
 "nbformat_minor": 2
}
