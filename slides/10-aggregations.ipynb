{
 "cells": [
  {
   "cell_type": "markdown",
   "metadata": {
    "slideshow": {
     "slide_type": "slide"
    }
   },
   "source": [
    "# Week 8: Aggregations and MapReduce"
   ]
  },
  {
   "cell_type": "markdown",
   "metadata": {
    "slideshow": {
     "slide_type": "subslide"
    }
   },
   "source": [
    "# Today\n",
    "\n",
    "- Small useful skills\n",
    "- MapReduce\n",
    "- Aggregations in MongoDB"
   ]
  },
  {
   "cell_type": "markdown",
   "metadata": {
    "slideshow": {
     "slide_type": "subslide"
    }
   },
   "source": [
    "# Announcements, Updates\n"
   ]
  },
  {
   "cell_type": "markdown",
   "metadata": {
    "slideshow": {
     "slide_type": "subslide"
    }
   },
   "source": [
    "## Review"
   ]
  },
  {
   "cell_type": "markdown",
   "metadata": {
    "slideshow": {
     "slide_type": "slide"
    }
   },
   "source": [
    "# Toy Box of Useful Skills"
   ]
  },
  {
   "cell_type": "markdown",
   "metadata": {
    "slideshow": {
     "slide_type": "subslide"
    }
   },
   "source": [
    "## File Paths"
   ]
  },
  {
   "cell_type": "markdown",
   "metadata": {},
   "source": [
    "`.` - Current folder\n",
    "\n",
    "`..` - Parent folder\n",
    "\n",
    "`folder1/folder2` - Directory named `folder2`, within a `folder1` directory, within the current directory\n",
    "\n",
    "`../data` - Go up one directory, then into the 'data' folder"
   ]
  },
  {
   "cell_type": "markdown",
   "metadata": {
    "slideshow": {
     "slide_type": "subslide"
    }
   },
   "source": [
    "## `groupby(...).apply()`"
   ]
  },
  {
   "cell_type": "code",
   "execution_count": 1,
   "metadata": {},
   "outputs": [
    {
     "data": {
      "text/html": [
       "<div>\n",
       "<style scoped>\n",
       "    .dataframe tbody tr th:only-of-type {\n",
       "        vertical-align: middle;\n",
       "    }\n",
       "\n",
       "    .dataframe tbody tr th {\n",
       "        vertical-align: top;\n",
       "    }\n",
       "\n",
       "    .dataframe thead th {\n",
       "        text-align: right;\n",
       "    }\n",
       "</style>\n",
       "<table border=\"1\" class=\"dataframe\">\n",
       "  <thead>\n",
       "    <tr style=\"text-align: right;\">\n",
       "      <th></th>\n",
       "      <th>A</th>\n",
       "      <th>B</th>\n",
       "      <th>C</th>\n",
       "    </tr>\n",
       "  </thead>\n",
       "  <tbody>\n",
       "    <tr>\n",
       "      <th>0</th>\n",
       "      <td>a</td>\n",
       "      <td>1</td>\n",
       "      <td>4</td>\n",
       "    </tr>\n",
       "    <tr>\n",
       "      <th>1</th>\n",
       "      <td>a</td>\n",
       "      <td>2</td>\n",
       "      <td>6</td>\n",
       "    </tr>\n",
       "    <tr>\n",
       "      <th>2</th>\n",
       "      <td>b</td>\n",
       "      <td>3</td>\n",
       "      <td>5</td>\n",
       "    </tr>\n",
       "  </tbody>\n",
       "</table>\n",
       "</div>"
      ],
      "text/plain": [
       "   A  B  C\n",
       "0  a  1  4\n",
       "1  a  2  6\n",
       "2  b  3  5"
      ]
     },
     "execution_count": 1,
     "metadata": {},
     "output_type": "execute_result"
    }
   ],
   "source": [
    "import pandas as pd\n",
    "example = pd.DataFrame({'A': 'a a b'.split(), 'B': [1,2,3], 'C': [4,6, 5]})\n",
    "example"
   ]
  },
  {
   "cell_type": "code",
   "execution_count": 2,
   "metadata": {
    "slideshow": {
     "slide_type": "-"
    }
   },
   "outputs": [
    {
     "data": {
      "text/plain": [
       "A\n",
       "a    5\n",
       "b    2\n",
       "dtype: int64"
      ]
     },
     "execution_count": 2,
     "metadata": {},
     "output_type": "execute_result"
    }
   ],
   "source": [
    "example.groupby('A').apply(lambda x: x.C.max() - x.B.min())"
   ]
  },
  {
   "cell_type": "markdown",
   "metadata": {
    "slideshow": {
     "slide_type": "subslide"
    }
   },
   "source": [
    "## JSON Auto-indent in Jupyter / Colab\n",
    "\n",
    "Add a line break:\n",
    "    - after open braces\n",
    "    - after commas\n",
    "    - before and after close braces"
   ]
  },
  {
   "cell_type": "code",
   "execution_count": 3,
   "metadata": {},
   "outputs": [
    {
     "data": {
      "text/plain": [
       "{'test': {'key1': 'value', 'key2': 'value'}}"
      ]
     },
     "execution_count": 3,
     "metadata": {},
     "output_type": "execute_result"
    }
   ],
   "source": [
    "{ \"test\": { \n",
    "    \"key1\": \"value\", \n",
    "    \"key2\": \"value\" }\n",
    "}"
   ]
  },
  {
   "cell_type": "markdown",
   "metadata": {
    "slideshow": {
     "slide_type": "slide"
    }
   },
   "source": [
    "## Geographic Queries in MongoDB"
   ]
  },
  {
   "cell_type": "code",
   "execution_count": 1,
   "metadata": {
    "slideshow": {
     "slide_type": "subslide"
    }
   },
   "outputs": [],
   "source": [
    "from pymongo import MongoClient\n",
    "\n",
    "# Loading my credentials from a file\n",
    "with open('credentials.txt', mode='r') as f:\n",
    "    user, mongopw, cluster_url = [l.strip() for l in f.readlines()]\n",
    "\n",
    "client = MongoClient(\"mongodb+srv://{}:{}@{}/test?retryWrites=true&w=majority\".format(user, mongopw, cluster_url))\n",
    "db = client.week10"
   ]
  },
  {
   "cell_type": "markdown",
   "metadata": {
    "slideshow": {
     "slide_type": "-"
    }
   },
   "source": [
    "Create a collection called 'fastfood', and tell Mongo that the 'geometry' key of each document is geographic:"
   ]
  },
  {
   "cell_type": "code",
   "execution_count": 2,
   "metadata": {
    "scrolled": true,
    "slideshow": {
     "slide_type": "-"
    }
   },
   "outputs": [
    {
     "data": {
      "text/plain": [
       "'geometry_2dsphere'"
      ]
     },
     "execution_count": 2,
     "metadata": {},
     "output_type": "execute_result"
    }
   ],
   "source": [
    "db.fastfood.create_index([('geometry', '2dsphere')])"
   ]
  },
  {
   "cell_type": "markdown",
   "metadata": {
    "slideshow": {
     "slide_type": "subslide"
    }
   },
   "source": [
    "Import data of fast food restaurants. (Data not posted publicly - you can download from files section of Canvas)\n",
    "\n",
    "*Thanks Jennings Anderson, PhD student in the EPIC lab, CU Boulder*"
   ]
  },
  {
   "cell_type": "code",
   "execution_count": 3,
   "metadata": {
    "slideshow": {
     "slide_type": "-"
    }
   },
   "outputs": [
    {
     "data": {
      "text/plain": [
       "<pymongo.results.InsertManyResult at 0x1cdf5306d48>"
      ]
     },
     "execution_count": 3,
     "metadata": {},
     "output_type": "execute_result"
    }
   ],
   "source": [
    "import json\n",
    "with open('../data/fastfood.geojson', encoding='utf-8') as f:\n",
    "    jsondata = json.load(f)\n",
    "db.fastfood.insert_many(jsondata)"
   ]
  },
  {
   "cell_type": "code",
   "execution_count": null,
   "metadata": {
    "scrolled": true,
    "slideshow": {
     "slide_type": "skip"
    }
   },
   "outputs": [],
   "source": [
    "# Delete all documents if needed\n",
    "db.fastfood.delete_many({})"
   ]
  },
  {
   "cell_type": "code",
   "execution_count": 4,
   "metadata": {
    "slideshow": {
     "slide_type": "-"
    }
   },
   "outputs": [
    {
     "data": {
      "text/plain": [
       "42073"
      ]
     },
     "execution_count": 4,
     "metadata": {},
     "output_type": "execute_result"
    }
   ],
   "source": [
    "db.fastfood.estimated_document_count()"
   ]
  },
  {
   "cell_type": "markdown",
   "metadata": {
    "slideshow": {
     "slide_type": "subslide"
    }
   },
   "source": [
    "Here's what the data looks like:"
   ]
  },
  {
   "cell_type": "code",
   "execution_count": 10,
   "metadata": {},
   "outputs": [
    {
     "data": {
      "text/plain": [
       "{'_id': ObjectId('5ce1aaa15138fc0461a457f5'),\n",
       " 'type': 'Feature',\n",
       " 'properties': {'@id': 'relation/1059567',\n",
       "  'amenity': 'fast_food',\n",
       "  'building': 'yes',\n",
       "  'cuisine': 'american',\n",
       "  'name': 'Sonic Drive-In',\n",
       "  'type': 'multipolygon'},\n",
       " 'geometry': {'type': 'Polygon',\n",
       "  'coordinates': [[[-96.1059697, 35.9987409],\n",
       "    [-96.1059488, 35.9982857],\n",
       "    [-96.1059014, 35.9982873],\n",
       "    [-96.1059078, 35.9984123],\n",
       "    [-96.1058381, 35.9984147],\n",
       "    [-96.1058317, 35.9982896],\n",
       "    [-96.1057768, 35.9982915],\n",
       "    [-96.1057978, 35.9987468],\n",
       "    [-96.1058574, 35.9987447],\n",
       "    [-96.1058517, 35.9986359],\n",
       "    [-96.1059198, 35.9986336],\n",
       "    [-96.1059255, 35.9987424],\n",
       "    [-96.1059697, 35.9987409]]]},\n",
       " 'id': 'relation/1059567'}"
      ]
     },
     "execution_count": 10,
     "metadata": {},
     "output_type": "execute_result"
    }
   ],
   "source": [
    "db.fastfood.find_one({})"
   ]
  },
  {
   "cell_type": "markdown",
   "metadata": {
    "slideshow": {
     "slide_type": "subslide"
    }
   },
   "source": [
    "To find restaurants near me, create a point according to the GeoJSON schema:"
   ]
  },
  {
   "cell_type": "code",
   "execution_count": 11,
   "metadata": {},
   "outputs": [],
   "source": [
    "my_location =  { 'type' : \"Point\" ,\n",
    "                 'coordinates' : [-104.961896, 39.676617] \n",
    "                }"
   ]
  },
  {
   "cell_type": "code",
   "execution_count": 13,
   "metadata": {
    "scrolled": true
   },
   "outputs": [
    {
     "data": {
      "text/plain": [
       "[{'_id': ObjectId('5ce1aaa15138fc0461a4b090'),\n",
       "  'type': 'Feature',\n",
       "  'properties': {'@id': 'node/631845194',\n",
       "   'amenity': 'fast_food',\n",
       "   'name': \"Ben and Jerry's Ice Cream\"},\n",
       "  'geometry': {'type': 'Point', 'coordinates': [-104.9597847, 39.6785848]},\n",
       "  'id': 'node/631845194'},\n",
       " {'_id': ObjectId('5ce1aaa15138fc0461a4b0ac'),\n",
       "  'type': 'Feature',\n",
       "  'properties': {'@id': 'node/638620276',\n",
       "   'addr:housenumber': '2081',\n",
       "   'addr:street': 'South University Boulevard',\n",
       "   'amenity': 'fast_food',\n",
       "   'name': \"Mustard's Last Stand\"},\n",
       "  'geometry': {'type': 'Point', 'coordinates': [-104.9596249, 39.6789283]},\n",
       "  'id': 'node/638620276'},\n",
       " {'_id': ObjectId('5ce1aaa15138fc0461a4b5a7'),\n",
       "  'type': 'Feature',\n",
       "  'properties': {'@id': 'node/976518442',\n",
       "   'amenity': 'fast_food',\n",
       "   'description': 'sandwich shop',\n",
       "   'name': \"Jimmy John's\"},\n",
       "  'geometry': {'type': 'Point', 'coordinates': [-104.959803, 39.6790585]},\n",
       "  'id': 'node/976518442'},\n",
       " {'_id': ObjectId('5ce1aaa15138fc0461a4af5f'),\n",
       "  'type': 'Feature',\n",
       "  'properties': {'@id': 'node/582084431',\n",
       "   'amenity': 'fast_food',\n",
       "   'cuisine': 'mexican',\n",
       "   'name': 'Twisters'},\n",
       "  'geometry': {'type': 'Point', 'coordinates': [-104.9689833, 39.6787337]},\n",
       "  'id': 'node/582084431'},\n",
       " {'_id': ObjectId('5ce1aaa15138fc0461a4af60'),\n",
       "  'type': 'Feature',\n",
       "  'properties': {'@id': 'node/582087071',\n",
       "   'amenity': 'fast_food',\n",
       "   'cuisine': 'pizza',\n",
       "   'name': \"Papa John's\"},\n",
       "  'geometry': {'type': 'Point', 'coordinates': [-104.9697091, 39.6787174]},\n",
       "  'id': 'node/582087071'},\n",
       " {'_id': ObjectId('5ce1aaa25138fc0461a4d009'),\n",
       "  'type': 'Feature',\n",
       "  'properties': {'@id': 'node/2698634674',\n",
       "   'addr:housenumber': '2101',\n",
       "   'addr:postcode': '80210',\n",
       "   'addr:street': 'South Downing Street',\n",
       "   'amenity': 'fast_food',\n",
       "   'cuisine': 'pizza',\n",
       "   'name': \"Domino's Pizza\",\n",
       "   'phone': '303-777-6655',\n",
       "   'website': 'http://dominos.com'},\n",
       "  'geometry': {'type': 'Point', 'coordinates': [-104.9738656, 39.6783054]},\n",
       "  'id': 'node/2698634674'},\n",
       " {'_id': ObjectId('5ce1aaa25138fc0461a4cbd9'),\n",
       "  'type': 'Feature',\n",
       "  'properties': {'@id': 'node/2425138773',\n",
       "   'addr:city': 'Denver',\n",
       "   'addr:postcode': '80222',\n",
       "   'addr:street': 'South Colorado Boulevard',\n",
       "   'amenity': 'fast_food',\n",
       "   'cuisine': 'burger',\n",
       "   'name': \"McDonald's\",\n",
       "   'website': 'http://www.mcdonalds.com/'},\n",
       "  'geometry': {'type': 'Point', 'coordinates': [-104.9412762, 39.677781]},\n",
       "  'id': 'node/2425138773'},\n",
       " {'_id': ObjectId('5ce1aaa25138fc0461a4cbd8'),\n",
       "  'type': 'Feature',\n",
       "  'properties': {'@id': 'node/2425138757',\n",
       "   'addr:city': 'Denver',\n",
       "   'addr:housenumber': '2096',\n",
       "   'addr:postcode': '80222',\n",
       "   'addr:street': 'South Colorado Boulevard',\n",
       "   'alt_name': 'Kentucky Fried Chicken',\n",
       "   'amenity': 'fast_food',\n",
       "   'cuisine': 'chicken',\n",
       "   'name': 'KFC/A&W',\n",
       "   'opening_hours': 'Su-Sa 1030-2200',\n",
       "   'phone': '303-756-8251',\n",
       "   'phone:catering': '303-379-5100',\n",
       "   'website': 'http://www.kfc.com'},\n",
       "  'geometry': {'type': 'Point', 'coordinates': [-104.9403896, 39.6787555]},\n",
       "  'id': 'node/2425138757'},\n",
       " {'_id': ObjectId('5ce1aaa15138fc0461a4bf2a'),\n",
       "  'type': 'Feature',\n",
       "  'properties': {'@id': 'node/1666706345',\n",
       "   'addr:city': 'Denver',\n",
       "   'addr:housenumber': '2432',\n",
       "   'addr:postcode': '80222',\n",
       "   'addr:state': 'CO',\n",
       "   'addr:street': 'South Colorado Boulevard',\n",
       "   'amenity': 'fast_food',\n",
       "   'cuisine': 'sandwich',\n",
       "   'name': 'Taste of Philly',\n",
       "   'website': 'http://www.tasteofphilly.biz/'},\n",
       "  'geometry': {'type': 'Point', 'coordinates': [-104.9401598, 39.6726109]},\n",
       "  'id': 'node/1666706345'},\n",
       " {'_id': ObjectId('5ce1aaa25138fc0461a4d9fa'),\n",
       "  'type': 'Feature',\n",
       "  'properties': {'@id': 'node/3394758568',\n",
       "   'addr:city': 'Denver',\n",
       "   'addr:housename': 'University Hills',\n",
       "   'addr:housenumber': '2720',\n",
       "   'addr:postcode': '80222',\n",
       "   'addr:state': 'CO',\n",
       "   'addr:street': 'South Colorado Boulevard',\n",
       "   'addr:unit': '706',\n",
       "   'alt_name': \"Papa Murphy's Take 'N' Bake Pizza\",\n",
       "   'amenity': 'fast_food',\n",
       "   'cuisine': 'pizza',\n",
       "   'name': \"Papa Murphy's\",\n",
       "   'opening_hours': 'Su-Th 11:00-20:00; Fr-Sa 11:00-21:00',\n",
       "   'phone': '+1 303 758 9735',\n",
       "   'source': 'knowledge',\n",
       "   'website': 'https://www.papamurphys.com/store-finder/co/denver/CO074'},\n",
       "  'geometry': {'type': 'Point', 'coordinates': [-104.9397026, 39.6675713]},\n",
       "  'id': 'node/3394758568'}]"
      ]
     },
     "execution_count": 13,
     "metadata": {},
     "output_type": "execute_result"
    }
   ],
   "source": [
    "query = {\n",
    "    'geometry': {\n",
    "        '$near': {\n",
    "            '$geometry' : my_location\n",
    "        }\n",
    "    }\n",
    "}\n",
    "results = db.fastfood.find(query).limit(10)\n",
    "list(results)"
   ]
  },
  {
   "cell_type": "markdown",
   "metadata": {
    "slideshow": {
     "slide_type": "subslide"
    }
   },
   "source": [
    "See Jennings Anderson's website for [examples of web tools built with Mongo and Geospatial data](https://www.townsendjennings.com/maps/)\n",
    "\n",
    "![Screenshot of map tools](../images/jennings-maps.png)"
   ]
  },
  {
   "cell_type": "markdown",
   "metadata": {
    "slideshow": {
     "slide_type": "subslide"
    }
   },
   "source": [
    "## Geographic data in Pandas\n",
    "\n",
    "There's a spin-off from Pandas called `GeoPandas`.\n",
    "\n",
    "[Tutorial: Getting Started on Geospatial Analysis with Python, GeoJSON and GeoPandas](https://www.twilio.com/blog/2017/08/geospatial-analysis-python-geojson-geopandas.html)"
   ]
  },
  {
   "cell_type": "markdown",
   "metadata": {
    "slideshow": {
     "slide_type": "slide"
    }
   },
   "source": [
    "# MapReduce"
   ]
  },
  {
   "cell_type": "markdown",
   "metadata": {},
   "source": [
    "MapReduce is a framework from processing really large datasets, distributed across multiple threads, processes, or machines."
   ]
  },
  {
   "cell_type": "markdown",
   "metadata": {
    "slideshow": {
     "slide_type": "fragment"
    }
   },
   "source": [
    "Two parts:"
   ]
  },
  {
   "cell_type": "markdown",
   "metadata": {
    "slideshow": {
     "slide_type": "fragment"
    }
   },
   "source": [
    "*Map*: Split the input into segments, to do something on it."
   ]
  },
  {
   "cell_type": "markdown",
   "metadata": {
    "slideshow": {
     "slide_type": "fragment"
    }
   },
   "source": [
    "*Reduce*: Simplify the individually processed segments into one output."
   ]
  },
  {
   "cell_type": "markdown",
   "metadata": {
    "slideshow": {
     "slide_type": "fragment"
    }
   },
   "source": [
    "(reduce is not simply 'combine' as we saw with SAC)"
   ]
  },
  {
   "cell_type": "markdown",
   "metadata": {
    "slideshow": {
     "slide_type": "subslide"
    }
   },
   "source": [
    "### Archetypal Example: Counting Words\n",
    "\n",
    "![MapReduce Example](../images/mapreduce_example2.png)\n",
    "\n",
    "*via http://hci.stanford.edu/courses/cs448g/a2/files/map_reduce_tutorial.pdf*"
   ]
  },
  {
   "cell_type": "markdown",
   "metadata": {
    "slideshow": {
     "slide_type": "fragment"
    }
   },
   "source": [
    "Some examples to consider:\n",
    "    \n",
    "- *Sorting*: How would we sort a *reeaaally* big list? e.g. Sort everything on Amazon by price.\n",
    "- *Searching*: How do we determine how much a word shows up in 1 billion web pages?"
   ]
  },
  {
   "cell_type": "markdown",
   "metadata": {
    "slideshow": {
     "slide_type": "subslide"
    }
   },
   "source": [
    "MapReduce generally works by simplifying the problem to key-value pairs. "
   ]
  },
  {
   "cell_type": "markdown",
   "metadata": {
    "slideshow": {
     "slide_type": "fragment"
    }
   },
   "source": [
    "MongoDB Example, via https://docs.mongodb.com/manual/tutorial/map-reduce-examples/: **Return the Total Price Per Customer**\n",
    "\n",
    "Data structure:\n",
    "```\n",
    "{\n",
    "     cust_id: \"abc123\",\n",
    "     ord_date: new Date(\"Oct 04, 2012\"),\n",
    "     status: 'A',\n",
    "     price: 25,\n",
    "     items: [ { sku: \"mmm\", qty: 5, price: 2.5 },\n",
    "              { sku: \"nnn\", qty: 5, price: 2.5 } ]\n",
    "}\n",
    "```\n",
    "\n",
    "- Map step: return key-value pair of `cust_id: price`\n",
    "- Reduce step: sum all the values for alike keys"
   ]
  },
  {
   "cell_type": "markdown",
   "metadata": {
    "slideshow": {
     "slide_type": "subslide"
    }
   },
   "source": [
    "**Calculate Average Quantity Per Item**\n",
    "\n",
    "Data structure:\n",
    "```\n",
    "{\n",
    "     cust_id: \"abc123\",\n",
    "     ord_date: new Date(\"Oct 04, 2012\"),\n",
    "     status: 'A',\n",
    "     price: 25,\n",
    "     items: [ { sku: \"mmm\", qty: 5, price: 2.5 },\n",
    "              { sku: \"nnn\", qty: 5, price: 2.5 } ]\n",
    "}\n",
    "```\n",
    "\n",
    "- Map step: return key value pairs where the key is the 'sku' of each item, and the value is an object of `{count:1, quantity:  X}`\n",
    "- Reduce step: Sum count and quantity for each key\n",
    "- Finalize: Divide quantity/count for an everage"
   ]
  },
  {
   "cell_type": "markdown",
   "metadata": {
    "slideshow": {
     "slide_type": "subslide"
    }
   },
   "source": [
    "![](../images/mapreduce_example.jpg)\n",
    "\n",
    "*https://www.tutorialspoint.com/map_reduce/map_reduce_introduction.htm*"
   ]
  },
  {
   "cell_type": "markdown",
   "metadata": {
    "slideshow": {
     "slide_type": "slide"
    }
   },
   "source": [
    "# Lab Exercises\n",
    "\n",
    "Work on the first three questions of the lab.\n",
    "\n",
    "Snowball help:\n",
    "Once you get an answer look around and see if anybody is still trying to get there. Help them out!"
   ]
  },
  {
   "cell_type": "markdown",
   "metadata": {
    "slideshow": {
     "slide_type": "slide"
    }
   },
   "source": [
    "# Data Aggregation Pipeline\n",
    "\n",
    "*Aggregations* in MongoDB is a pipeline for combining data processing actions in MongoDB."
   ]
  },
  {
   "cell_type": "code",
   "execution_count": 98,
   "metadata": {},
   "outputs": [
    {
     "data": {
      "text/html": [
       "<iframe id=\"kaltura_player\" src=\"https://cdnapisec.kaltura.com/p/2357732/sp/235773200/embedIframeJs/uiconf_id/41433732/partner_id/2357732?iframeembed=true&playerId=kaltura_player&entry_id=0_tc6h037o&flashvars[streamerType]=auto&amp;flashvars[localizationCode]=en&amp;flashvars[leadWithHTML5]=true&amp;flashvars[sideBarContainer.plugin]=true&amp;flashvars[sideBarContainer.position]=left&amp;flashvars[sideBarContainer.clickToClose]=true&amp;flashvars[chapters.plugin]=true&amp;flashvars[chapters.layout]=vertical&amp;flashvars[chapters.thumbnailRotator]=false&amp;flashvars[streamSelector.plugin]=true&amp;flashvars[EmbedPlayer.SpinnerTarget]=videoHolder&amp;flashvars[dualScreen.plugin]=true&amp;flashvars[hotspots.plugin]=1&amp;flashvars[Kaltura.addCrossoriginToIframe]=true&amp;&wid=0_gxm0ypu7\" width=\"790\" height=\"474\" allowfullscreen webkitallowfullscreen mozAllowFullScreen allow=\"autoplay *; fullscreen *; encrypted-media *\" sandbox=\"allow-forms allow-same-origin allow-scripts allow-top-navigation allow-pointer-lock allow-popups allow-modals allow-orientation-lock allow-popups-to-escape-sandbox allow-presentation allow-top-navigation-by-user-activation\" frameborder=\"0\" title=\"Kaltura Player\"></iframe>"
      ],
      "text/plain": [
       "<IPython.core.display.HTML object>"
      ]
     },
     "execution_count": 98,
     "metadata": {},
     "output_type": "execute_result"
    }
   ],
   "source": [
    "from IPython.display import HTML\n",
    "HTML('<iframe id=\"kaltura_player\" src=\"https://cdnapisec.kaltura.com/p/2357732/sp/235773200/embedIframeJs/uiconf_id/41433732/partner_id/2357732?iframeembed=true&playerId=kaltura_player&entry_id=0_tc6h037o&flashvars[streamerType]=auto&amp;flashvars[localizationCode]=en&amp;flashvars[leadWithHTML5]=true&amp;flashvars[sideBarContainer.plugin]=true&amp;flashvars[sideBarContainer.position]=left&amp;flashvars[sideBarContainer.clickToClose]=true&amp;flashvars[chapters.plugin]=true&amp;flashvars[chapters.layout]=vertical&amp;flashvars[chapters.thumbnailRotator]=false&amp;flashvars[streamSelector.plugin]=true&amp;flashvars[EmbedPlayer.SpinnerTarget]=videoHolder&amp;flashvars[dualScreen.plugin]=true&amp;flashvars[hotspots.plugin]=1&amp;flashvars[Kaltura.addCrossoriginToIframe]=true&amp;&wid=0_gxm0ypu7\" width=\"790\" height=\"474\" allowfullscreen webkitallowfullscreen mozAllowFullScreen allow=\"autoplay *; fullscreen *; encrypted-media *\" sandbox=\"allow-forms allow-same-origin allow-scripts allow-top-navigation allow-pointer-lock allow-popups allow-modals allow-orientation-lock allow-popups-to-escape-sandbox allow-presentation allow-top-navigation-by-user-activation\" frameborder=\"0\" title=\"Kaltura Player\"></iframe>')"
   ]
  },
  {
   "cell_type": "markdown",
   "metadata": {
    "slideshow": {
     "slide_type": "subslide"
    }
   },
   "source": [
    "Things you may want to do:\n",
    "\n",
    "- **match**: Select a subset of data (as you can do with 'find')\n",
    "- **sort**: Order data by the values of a certain key\n",
    "- **group**: Group data based on a key - like 'groupby' in Pandas\n",
    "- **limit**: Trim the number of documents in the dataset\n",
    "- **unwind**: Deconstruct an array, so that there is a document for every value of the array\n",
    "- **project**: Select specific fields (like with the second argument to 'find')"
   ]
  },
  {
   "cell_type": "markdown",
   "metadata": {
    "slideshow": {
     "slide_type": "subslide"
    }
   },
   "source": [
    "These are in fact the names of *stages* of the pipeline:\n",
    "\n",
    "- **\\$match**: Select a subset of data (as you can do with 'find')\n",
    "- **\\$sort**: Order data by the values of a certain key\n",
    "- **\\$group**: Group data based on a key - like 'groupby' in Pandas\n",
    "- **\\$limit**: Trim the number of documents in the dataset\n",
    "- **\\$unwind**: Deconstruct an array, so that there is a document for every value of the array\n",
    "- **\\$project**: Select specific fields (like with the second argument to 'find')"
   ]
  },
  {
   "cell_type": "markdown",
   "metadata": {
    "slideshow": {
     "slide_type": "subslide"
    }
   },
   "source": [
    "Let's consider these in detail, in practice."
   ]
  },
  {
   "cell_type": "code",
   "execution_count": 6,
   "metadata": {
    "slideshow": {
     "slide_type": "-"
    }
   },
   "outputs": [
    {
     "data": {
      "text/plain": [
       "{'_id': ObjectId('5ec70b6b585a751f26094e32'),\n",
       " 'cuisine': 'greek',\n",
       " 'id': 10259,\n",
       " 'ingredients': ['romaine lettuce',\n",
       "  'black olives',\n",
       "  'grape tomatoes',\n",
       "  'garlic',\n",
       "  'pepper',\n",
       "  'purple onion',\n",
       "  'seasoning',\n",
       "  'garbanzo beans',\n",
       "  'feta cheese crumbles']}"
      ]
     },
     "execution_count": 6,
     "metadata": {},
     "output_type": "execute_result"
    }
   ],
   "source": [
    "db = client.week9\n",
    "db.cooking.find_one({})"
   ]
  },
  {
   "cell_type": "markdown",
   "metadata": {
    "slideshow": {
     "slide_type": "subslide"
    }
   },
   "source": [
    "Basics of the aggregations pipeline:\n",
    "\n",
    "`db.collectionName.aggregate(pipeline)`\n",
    "\n",
    "where\n",
    "\n",
    "```python\n",
    "pipeline = [\n",
    "    stage1,\n",
    "    stage2,\n",
    "    ...\n",
    "    and_so_on\n",
    "]\n",
    "```"
   ]
  },
  {
   "cell_type": "markdown",
   "metadata": {
    "slideshow": {
     "slide_type": "subslide"
    }
   },
   "source": [
    "# $match\n",
    "\n",
    "Same as `find`, but a good place to start"
   ]
  },
  {
   "cell_type": "code",
   "execution_count": 99,
   "metadata": {},
   "outputs": [
    {
     "data": {
      "text/html": [
       "<iframe id=\"kaltura_player\" src=\"https://cdnapisec.kaltura.com/p/2357732/sp/235773200/embedIframeJs/uiconf_id/41433732/partner_id/2357732?iframeembed=true&playerId=kaltura_player&entry_id=0_oxirky6a&flashvars[streamerType]=auto&amp;flashvars[localizationCode]=en&amp;flashvars[leadWithHTML5]=true&amp;flashvars[sideBarContainer.plugin]=true&amp;flashvars[sideBarContainer.position]=left&amp;flashvars[sideBarContainer.clickToClose]=true&amp;flashvars[chapters.plugin]=true&amp;flashvars[chapters.layout]=vertical&amp;flashvars[chapters.thumbnailRotator]=false&amp;flashvars[streamSelector.plugin]=true&amp;flashvars[EmbedPlayer.SpinnerTarget]=videoHolder&amp;flashvars[dualScreen.plugin]=true&amp;flashvars[hotspots.plugin]=1&amp;flashvars[Kaltura.addCrossoriginToIframe]=true&amp;&wid=0_1zl9hx01\" width=\"790\" height=\"474\" allowfullscreen webkitallowfullscreen mozAllowFullScreen allow=\"autoplay *; fullscreen *; encrypted-media *\" sandbox=\"allow-forms allow-same-origin allow-scripts allow-top-navigation allow-pointer-lock allow-popups allow-modals allow-orientation-lock allow-popups-to-escape-sandbox allow-presentation allow-top-navigation-by-user-activation\" frameborder=\"0\" title=\"Kaltura Player\"></iframe>"
      ],
      "text/plain": [
       "<IPython.core.display.HTML object>"
      ]
     },
     "execution_count": 99,
     "metadata": {},
     "output_type": "execute_result"
    }
   ],
   "source": [
    "HTML('<iframe id=\"kaltura_player\" src=\"https://cdnapisec.kaltura.com/p/2357732/sp/235773200/embedIframeJs/uiconf_id/41433732/partner_id/2357732?iframeembed=true&playerId=kaltura_player&entry_id=0_oxirky6a&flashvars[streamerType]=auto&amp;flashvars[localizationCode]=en&amp;flashvars[leadWithHTML5]=true&amp;flashvars[sideBarContainer.plugin]=true&amp;flashvars[sideBarContainer.position]=left&amp;flashvars[sideBarContainer.clickToClose]=true&amp;flashvars[chapters.plugin]=true&amp;flashvars[chapters.layout]=vertical&amp;flashvars[chapters.thumbnailRotator]=false&amp;flashvars[streamSelector.plugin]=true&amp;flashvars[EmbedPlayer.SpinnerTarget]=videoHolder&amp;flashvars[dualScreen.plugin]=true&amp;flashvars[hotspots.plugin]=1&amp;flashvars[Kaltura.addCrossoriginToIframe]=true&amp;&wid=0_1zl9hx01\" width=\"790\" height=\"474\" allowfullscreen webkitallowfullscreen mozAllowFullScreen allow=\"autoplay *; fullscreen *; encrypted-media *\" sandbox=\"allow-forms allow-same-origin allow-scripts allow-top-navigation allow-pointer-lock allow-popups allow-modals allow-orientation-lock allow-popups-to-escape-sandbox allow-presentation allow-top-navigation-by-user-activation\" frameborder=\"0\" title=\"Kaltura Player\"></iframe>')"
   ]
  },
  {
   "cell_type": "code",
   "execution_count": 10,
   "metadata": {},
   "outputs": [
    {
     "data": {
      "text/plain": [
       "[{'_id': ObjectId('5ec70b6b585a751f26094e32'),\n",
       "  'cuisine': 'greek',\n",
       "  'id': 10259,\n",
       "  'ingredients': ['romaine lettuce',\n",
       "   'black olives',\n",
       "   'grape tomatoes',\n",
       "   'garlic',\n",
       "   'pepper',\n",
       "   'purple onion',\n",
       "   'seasoning',\n",
       "   'garbanzo beans',\n",
       "   'feta cheese crumbles']},\n",
       " {'_id': ObjectId('5ec70b98585a751f26094e8f'),\n",
       "  'cuisine': 'greek',\n",
       "  'id': 34471,\n",
       "  'ingredients': ['ground pork',\n",
       "   'finely chopped fresh parsley',\n",
       "   'onions',\n",
       "   'salt',\n",
       "   'vinegar',\n",
       "   'caul fat']}]"
      ]
     },
     "execution_count": 10,
     "metadata": {},
     "output_type": "execute_result"
    }
   ],
   "source": [
    "pipeline = [\n",
    "    {\n",
    "        \"$match\": { \"cuisine\": \"greek\" }\n",
    "    }\n",
    "]\n",
    "\n",
    "results = db.cooking.aggregate(pipeline)\n",
    "list(results)[:2]"
   ]
  },
  {
   "cell_type": "markdown",
   "metadata": {
    "slideshow": {
     "slide_type": "subslide"
    }
   },
   "source": [
    "# $sort\n",
    "\n",
    "Provide an object where the field names to sort by are the keys, and '-1' or '1' specify to sort in ascending or descending order.\n",
    "\n",
    "Here, we sort by alphabetical order on 'cuisine' - we'll try something more useful shortly."
   ]
  },
  {
   "cell_type": "code",
   "execution_count": 12,
   "metadata": {},
   "outputs": [
    {
     "data": {
      "text/plain": [
       "[{'_id': ObjectId('5ec70b98585a751f26094e45'),\n",
       "  'cuisine': 'vietnamese',\n",
       "  'id': 8152,\n",
       "  'ingredients': ['soy sauce',\n",
       "   'vegetable oil',\n",
       "   'red bell pepper',\n",
       "   'chicken broth',\n",
       "   'yellow squash',\n",
       "   'garlic chili sauce',\n",
       "   'sliced green onions',\n",
       "   'broccolini',\n",
       "   'salt',\n",
       "   'fresh lime juice',\n",
       "   'cooked rice',\n",
       "   'chicken breasts',\n",
       "   'corn starch']}]"
      ]
     },
     "execution_count": 12,
     "metadata": {},
     "output_type": "execute_result"
    }
   ],
   "source": [
    "pipeline = [\n",
    "    {\n",
    "        \"$sort\": { \"cuisine\": -1 }\n",
    "    }\n",
    "]\n",
    "\n",
    "results = db.cooking.aggregate(pipeline)\n",
    "list(results)[:1]"
   ]
  },
  {
   "cell_type": "markdown",
   "metadata": {
    "slideshow": {
     "slide_type": "subslide"
    }
   },
   "source": [
    "# $project\n",
    "\n",
    "Select the columns that you want in the results, or exclude columns."
   ]
  },
  {
   "cell_type": "code",
   "execution_count": 44,
   "metadata": {},
   "outputs": [
    {
     "data": {
      "text/plain": [
       "[{'cuisine': 'greek', 'id': 10259}, {'cuisine': 'greek', 'id': 34471}]"
      ]
     },
     "execution_count": 44,
     "metadata": {},
     "output_type": "execute_result"
    }
   ],
   "source": [
    "pipeline = [\n",
    "    { \"$match\": { \"cuisine\": \"greek\" }  },\n",
    "    {\n",
    "        \"$project\": {\"_id\": 0, \"ingredients\": 0}\n",
    "    }\n",
    "]\n",
    "\n",
    "results = db.cooking.aggregate(pipeline)\n",
    "list(results)[:2]"
   ]
  },
  {
   "cell_type": "code",
   "execution_count": 21,
   "metadata": {},
   "outputs": [
    {
     "data": {
      "text/plain": [
       "[{'_id': ObjectId('5ec70b6b585a751f26094e32'), 'cuisine': 'greek'},\n",
       " {'_id': ObjectId('5ec70b98585a751f26094e8f'), 'cuisine': 'greek'}]"
      ]
     },
     "execution_count": 21,
     "metadata": {},
     "output_type": "execute_result"
    }
   ],
   "source": [
    "pipeline = [\n",
    "    { \"$match\": { \"cuisine\": \"greek\" } },\n",
    "    { \"$project\": {\"cuisine\": 1}  }\n",
    "]\n",
    "\n",
    "results = db.cooking.aggregate(pipeline)\n",
    "list(results)[:2]"
   ]
  },
  {
   "cell_type": "markdown",
   "metadata": {
    "slideshow": {
     "slide_type": "subslide"
    }
   },
   "source": [
    "`$project` is usually for your benefit (it's more readable!), but that's not bad! If you're only focused on one or two pieces of information, it's easier to see that information with `$project`"
   ]
  },
  {
   "cell_type": "markdown",
   "metadata": {
    "slideshow": {
     "slide_type": "subslide"
    }
   },
   "source": [
    "## Lab Excercise\n",
    "\n",
    "Work on the next question of the lab (writing an aggregation pipeline to answer the previous question)."
   ]
  },
  {
   "cell_type": "markdown",
   "metadata": {
    "slideshow": {
     "slide_type": "subslide"
    }
   },
   "source": [
    "# $limit\n",
    "\n",
    "Same as `limit(n)`."
   ]
  },
  {
   "cell_type": "code",
   "execution_count": 100,
   "metadata": {},
   "outputs": [
    {
     "data": {
      "text/html": [
       "<iframe id=\"kaltura_player\" src=\"https://cdnapisec.kaltura.com/p/2357732/sp/235773200/embedIframeJs/uiconf_id/41433732/partner_id/2357732?iframeembed=true&playerId=kaltura_player&entry_id=0_aukx8gcg&flashvars[streamerType]=auto&amp;flashvars[localizationCode]=en&amp;flashvars[leadWithHTML5]=true&amp;flashvars[sideBarContainer.plugin]=true&amp;flashvars[sideBarContainer.position]=left&amp;flashvars[sideBarContainer.clickToClose]=true&amp;flashvars[chapters.plugin]=true&amp;flashvars[chapters.layout]=vertical&amp;flashvars[chapters.thumbnailRotator]=false&amp;flashvars[streamSelector.plugin]=true&amp;flashvars[EmbedPlayer.SpinnerTarget]=videoHolder&amp;flashvars[dualScreen.plugin]=true&amp;flashvars[hotspots.plugin]=1&amp;flashvars[Kaltura.addCrossoriginToIframe]=true&amp;&wid=0_uh9di9z4\" width=\"640\" height=\"360\" allowfullscreen webkitallowfullscreen mozAllowFullScreen allow=\"autoplay *; fullscreen *; encrypted-media *\" sandbox=\"allow-forms allow-same-origin allow-scripts allow-top-navigation allow-pointer-lock allow-popups allow-modals allow-orientation-lock allow-popups-to-escape-sandbox allow-presentation allow-top-navigation-by-user-activation\" frameborder=\"0\" title=\"Kaltura Player\"></iframe>"
      ],
      "text/plain": [
       "<IPython.core.display.HTML object>"
      ]
     },
     "execution_count": 100,
     "metadata": {},
     "output_type": "execute_result"
    }
   ],
   "source": [
    "HTML('<iframe id=\"kaltura_player\" src=\"https://cdnapisec.kaltura.com/p/2357732/sp/235773200/embedIframeJs/uiconf_id/41433732/partner_id/2357732?iframeembed=true&playerId=kaltura_player&entry_id=0_aukx8gcg&flashvars[streamerType]=auto&amp;flashvars[localizationCode]=en&amp;flashvars[leadWithHTML5]=true&amp;flashvars[sideBarContainer.plugin]=true&amp;flashvars[sideBarContainer.position]=left&amp;flashvars[sideBarContainer.clickToClose]=true&amp;flashvars[chapters.plugin]=true&amp;flashvars[chapters.layout]=vertical&amp;flashvars[chapters.thumbnailRotator]=false&amp;flashvars[streamSelector.plugin]=true&amp;flashvars[EmbedPlayer.SpinnerTarget]=videoHolder&amp;flashvars[dualScreen.plugin]=true&amp;flashvars[hotspots.plugin]=1&amp;flashvars[Kaltura.addCrossoriginToIframe]=true&amp;&wid=0_uh9di9z4\" width=\"640\" height=\"360\" allowfullscreen webkitallowfullscreen mozAllowFullScreen allow=\"autoplay *; fullscreen *; encrypted-media *\" sandbox=\"allow-forms allow-same-origin allow-scripts allow-top-navigation allow-pointer-lock allow-popups allow-modals allow-orientation-lock allow-popups-to-escape-sandbox allow-presentation allow-top-navigation-by-user-activation\" frameborder=\"0\" title=\"Kaltura Player\"></iframe>')"
   ]
  },
  {
   "cell_type": "code",
   "execution_count": 42,
   "metadata": {
    "scrolled": true
   },
   "outputs": [
    {
     "data": {
      "text/plain": [
       "1"
      ]
     },
     "execution_count": 42,
     "metadata": {},
     "output_type": "execute_result"
    }
   ],
   "source": [
    "pipeline = [\n",
    "    {\n",
    "        \"$match\": { \"cuisine\": \"greek\" }\n",
    "    },\n",
    "    {\n",
    "        \"$limit\": 1\n",
    "    }\n",
    "]\n",
    "\n",
    "results = db.cooking.aggregate(pipeline)\n",
    "len(list(results))"
   ]
  },
  {
   "cell_type": "markdown",
   "metadata": {
    "slideshow": {
     "slide_type": "subslide"
    }
   },
   "source": [
    "# $unwind\n",
    "\n",
    "Expand each item in a list to it's own document."
   ]
  },
  {
   "cell_type": "markdown",
   "metadata": {},
   "source": [
    "Before:\n",
    "    \n",
    "```python\n",
    "[{\n",
    "  'cuisine': 'greek',\n",
    "  'ingredients': ['romaine lettuce',\n",
    "   'black olives',\n",
    "   'feta cheese crumbles']\n",
    "}]\n",
    "```\n",
    "\n",
    "After\n",
    "\n",
    "```python\n",
    "[\n",
    "    {'cuisine': 'greek', 'ingredients': 'romaine lettuce'},\n",
    "    {'cuisine': 'greek', 'ingredients': 'black olives'},\n",
    "    {'cuisine': 'greek', 'ingredients': 'feta cheese crumbles'}\n",
    "]\n",
    "```"
   ]
  },
  {
   "cell_type": "markdown",
   "metadata": {
    "slideshow": {
     "slide_type": "subslide"
    }
   },
   "source": [
    "Step by step: what do the results below represent?"
   ]
  },
  {
   "cell_type": "code",
   "execution_count": 52,
   "metadata": {
    "scrolled": true,
    "slideshow": {
     "slide_type": "-"
    }
   },
   "outputs": [
    {
     "data": {
      "text/plain": [
       "[{'_id': ObjectId('5ec70b6b585a751f26094e32'),\n",
       "  'cuisine': 'greek',\n",
       "  'id': 10259,\n",
       "  'ingredients': 'romaine lettuce'},\n",
       " {'_id': ObjectId('5ec70b6b585a751f26094e32'),\n",
       "  'cuisine': 'greek',\n",
       "  'id': 10259,\n",
       "  'ingredients': 'black olives'},\n",
       " {'_id': ObjectId('5ec70b6b585a751f26094e32'),\n",
       "  'cuisine': 'greek',\n",
       "  'id': 10259,\n",
       "  'ingredients': 'grape tomatoes'},\n",
       " {'_id': ObjectId('5ec70b6b585a751f26094e32'),\n",
       "  'cuisine': 'greek',\n",
       "  'id': 10259,\n",
       "  'ingredients': 'garlic'},\n",
       " {'_id': ObjectId('5ec70b6b585a751f26094e32'),\n",
       "  'cuisine': 'greek',\n",
       "  'id': 10259,\n",
       "  'ingredients': 'pepper'},\n",
       " {'_id': ObjectId('5ec70b6b585a751f26094e32'),\n",
       "  'cuisine': 'greek',\n",
       "  'id': 10259,\n",
       "  'ingredients': 'purple onion'},\n",
       " {'_id': ObjectId('5ec70b6b585a751f26094e32'),\n",
       "  'cuisine': 'greek',\n",
       "  'id': 10259,\n",
       "  'ingredients': 'seasoning'},\n",
       " {'_id': ObjectId('5ec70b6b585a751f26094e32'),\n",
       "  'cuisine': 'greek',\n",
       "  'id': 10259,\n",
       "  'ingredients': 'garbanzo beans'},\n",
       " {'_id': ObjectId('5ec70b6b585a751f26094e32'),\n",
       "  'cuisine': 'greek',\n",
       "  'id': 10259,\n",
       "  'ingredients': 'feta cheese crumbles'}]"
      ]
     },
     "execution_count": 52,
     "metadata": {},
     "output_type": "execute_result"
    }
   ],
   "source": [
    "pipeline = [\n",
    "    {\"$match\": {\"cuisine\": \"greek\" }},\n",
    "    { \"$limit\": 1 },\n",
    "    { \"$unwind\": '$ingredients' }\n",
    "]\n",
    " \n",
    "results = db.cooking.aggregate(pipeline)\n",
    "list(results)"
   ]
  },
  {
   "cell_type": "markdown",
   "metadata": {
    "slideshow": {
     "slide_type": "subslide"
    }
   },
   "source": [
    "**When you're referring to a field in a value (rather than a *key*), precede the name with '\\$'**\n",
    "\n",
    "'cuisine' is referred to in a key here:\n",
    "\n",
    "```\n",
    "{ \"$match\": { \"cuisine\": \"greek\" } }\n",
    "```\n",
    "\n",
    "'ingredients' is referred to in a value:\n",
    "\n",
    "```\n",
    "{ \"$unwind\": \"$ingredients\" }\n",
    "```"
   ]
  },
  {
   "cell_type": "markdown",
   "metadata": {
    "slideshow": {
     "slide_type": "subslide"
    }
   },
   "source": [
    "*How does this differ?*\n",
    "\n",
    "```\n",
    "pipeline = [\n",
    "    { \"$match\": { \"cuisine\": \"greek\" } },\n",
    "    { \"$limit\": 1 },\n",
    "    { \"$unwind\": '$ingredients' }\n",
    "]\n",
    "```\n",
    "vs."
   ]
  },
  {
   "cell_type": "code",
   "execution_count": 54,
   "metadata": {
    "slideshow": {
     "slide_type": "-"
    }
   },
   "outputs": [
    {
     "data": {
      "text/plain": [
       "[{'_id': ObjectId('5ec70b6b585a751f26094e32'),\n",
       "  'cuisine': 'greek',\n",
       "  'id': 10259,\n",
       "  'ingredients': 'romaine lettuce'}]"
      ]
     },
     "execution_count": 54,
     "metadata": {},
     "output_type": "execute_result"
    }
   ],
   "source": [
    "pipeline = [\n",
    "    { \"$match\": { \"cuisine\": \"greek\" } },\n",
    "    { \"$unwind\": '$ingredients' },\n",
    "    { \"$limit\": 1 }\n",
    "]\n",
    "\n",
    "results = db.cooking.aggregate(pipeline)\n",
    "list(results)"
   ]
  },
  {
   "cell_type": "markdown",
   "metadata": {
    "slideshow": {
     "slide_type": "subslide"
    }
   },
   "source": [
    "```python\n",
    "[\n",
    "    { \"$match\": { \"cuisine\": \"greek\" } },\n",
    "    { \"$unwind\": '$ingredients' },\n",
    "    { \"$limit\": 1 }\n",
    "]\n",
    "```\n",
    "\n",
    "This is quick, because MongoDB is smart - it sees that there's a `$limit` after the `$unwind`, so internally it optimizes the search and doesn't unwind all 40k results."
   ]
  },
  {
   "cell_type": "markdown",
   "metadata": {
    "slideshow": {
     "slide_type": "subslide"
    }
   },
   "source": [
    "### Exercises\n",
    "\n",
    "Do the next question in the lab. (How much do the following categories show up?)"
   ]
  },
  {
   "cell_type": "markdown",
   "metadata": {
    "slideshow": {
     "slide_type": "slide"
    }
   },
   "source": [
    "# $group\n",
    "\n",
    "It's our split-apply-combine pattern in MongoDB."
   ]
  },
  {
   "cell_type": "code",
   "execution_count": 101,
   "metadata": {},
   "outputs": [
    {
     "data": {
      "text/html": [
       "<iframe id=\"kaltura_player\" src=\"https://cdnapisec.kaltura.com/p/2357732/sp/235773200/embedIframeJs/uiconf_id/41433732/partner_id/2357732?iframeembed=true&playerId=kaltura_player&entry_id=0_dw7mhcxx&flashvars[streamerType]=auto&amp;flashvars[localizationCode]=en&amp;flashvars[leadWithHTML5]=true&amp;flashvars[sideBarContainer.plugin]=true&amp;flashvars[sideBarContainer.position]=left&amp;flashvars[sideBarContainer.clickToClose]=true&amp;flashvars[chapters.plugin]=true&amp;flashvars[chapters.layout]=vertical&amp;flashvars[chapters.thumbnailRotator]=false&amp;flashvars[streamSelector.plugin]=true&amp;flashvars[EmbedPlayer.SpinnerTarget]=videoHolder&amp;flashvars[dualScreen.plugin]=true&amp;flashvars[hotspots.plugin]=1&amp;flashvars[Kaltura.addCrossoriginToIframe]=true&amp;&wid=0_42xbiiba\" width=\"640\" height=\"360\" allowfullscreen webkitallowfullscreen mozAllowFullScreen allow=\"autoplay *; fullscreen *; encrypted-media *\" sandbox=\"allow-forms allow-same-origin allow-scripts allow-top-navigation allow-pointer-lock allow-popups allow-modals allow-orientation-lock allow-popups-to-escape-sandbox allow-presentation allow-top-navigation-by-user-activation\" frameborder=\"0\" title=\"Kaltura Player\"></iframe>"
      ],
      "text/plain": [
       "<IPython.core.display.HTML object>"
      ]
     },
     "execution_count": 101,
     "metadata": {},
     "output_type": "execute_result"
    }
   ],
   "source": [
    "HTML('<iframe id=\"kaltura_player\" src=\"https://cdnapisec.kaltura.com/p/2357732/sp/235773200/embedIframeJs/uiconf_id/41433732/partner_id/2357732?iframeembed=true&playerId=kaltura_player&entry_id=0_dw7mhcxx&flashvars[streamerType]=auto&amp;flashvars[localizationCode]=en&amp;flashvars[leadWithHTML5]=true&amp;flashvars[sideBarContainer.plugin]=true&amp;flashvars[sideBarContainer.position]=left&amp;flashvars[sideBarContainer.clickToClose]=true&amp;flashvars[chapters.plugin]=true&amp;flashvars[chapters.layout]=vertical&amp;flashvars[chapters.thumbnailRotator]=false&amp;flashvars[streamSelector.plugin]=true&amp;flashvars[EmbedPlayer.SpinnerTarget]=videoHolder&amp;flashvars[dualScreen.plugin]=true&amp;flashvars[hotspots.plugin]=1&amp;flashvars[Kaltura.addCrossoriginToIframe]=true&amp;&wid=0_42xbiiba\" width=\"640\" height=\"360\" allowfullscreen webkitallowfullscreen mozAllowFullScreen allow=\"autoplay *; fullscreen *; encrypted-media *\" sandbox=\"allow-forms allow-same-origin allow-scripts allow-top-navigation allow-pointer-lock allow-popups allow-modals allow-orientation-lock allow-popups-to-escape-sandbox allow-presentation allow-top-navigation-by-user-activation\" frameborder=\"0\" title=\"Kaltura Player\"></iframe>')"
   ]
  },
  {
   "cell_type": "code",
   "execution_count": 55,
   "metadata": {},
   "outputs": [
    {
     "data": {
      "text/plain": [
       "[{'_id': 'greek', 'num_matching': 1175},\n",
       " {'_id': 'british', 'num_matching': 804},\n",
       " {'_id': 'southern_us', 'num_matching': 4320},\n",
       " {'_id': 'cajun_creole', 'num_matching': 1546},\n",
       " {'_id': 'spanish', 'num_matching': 989},\n",
       " {'_id': 'mexican', 'num_matching': 6438},\n",
       " {'_id': 'italian', 'num_matching': 7838},\n",
       " {'_id': 'french', 'num_matching': 2646},\n",
       " {'_id': 'japanese', 'num_matching': 1423},\n",
       " {'_id': 'filipino', 'num_matching': 755},\n",
       " {'_id': 'irish', 'num_matching': 667},\n",
       " {'_id': 'moroccan', 'num_matching': 821},\n",
       " {'_id': 'thai', 'num_matching': 1539},\n",
       " {'_id': 'chinese', 'num_matching': 2673},\n",
       " {'_id': 'korean', 'num_matching': 830},\n",
       " {'_id': 'vietnamese', 'num_matching': 825},\n",
       " {'_id': 'russian', 'num_matching': 489},\n",
       " {'_id': 'jamaican', 'num_matching': 526},\n",
       " {'_id': 'brazilian', 'num_matching': 467},\n",
       " {'_id': 'indian', 'num_matching': 3003}]"
      ]
     },
     "execution_count": 55,
     "metadata": {},
     "output_type": "execute_result"
    }
   ],
   "source": [
    "pipeline = [\n",
    "    { \n",
    "        \"$group\": {\n",
    "            \"_id\": \"$cuisine\",\n",
    "            \"num_matching\": { \"$sum\": 1 }\n",
    "        }\n",
    "    }\n",
    "]\n",
    "\n",
    "results = db.cooking.aggregate(pipeline)\n",
    "list(results)"
   ]
  },
  {
   "cell_type": "markdown",
   "metadata": {
    "slideshow": {
     "slide_type": "subslide"
    }
   },
   "source": [
    "Sort and limit:"
   ]
  },
  {
   "cell_type": "code",
   "execution_count": 58,
   "metadata": {
    "slideshow": {
     "slide_type": "-"
    }
   },
   "outputs": [
    {
     "data": {
      "text/plain": [
       "[{'_id': 'italian', 'num_matching': 7838},\n",
       " {'_id': 'mexican', 'num_matching': 6438},\n",
       " {'_id': 'southern_us', 'num_matching': 4320}]"
      ]
     },
     "execution_count": 58,
     "metadata": {},
     "output_type": "execute_result"
    }
   ],
   "source": [
    "pipeline = [\n",
    "    { \n",
    "        \"$group\": {\n",
    "            \"_id\": \"$cuisine\",\n",
    "            \"num_matching\": { \"$sum\": 1 }\n",
    "        } \n",
    "    },\n",
    "    {\n",
    "        \"$sort\": {\"num_matching\": -1 }\n",
    "    },\n",
    "    {\n",
    "        \"$limit\": 3\n",
    "    }\n",
    "]\n",
    "\n",
    "results = db.cooking.aggregate(pipeline)\n",
    "list(results)"
   ]
  },
  {
   "cell_type": "code",
   "execution_count": 64,
   "metadata": {
    "slideshow": {
     "slide_type": "subslide"
    }
   },
   "outputs": [
    {
     "data": {
      "text/plain": [
       "[{'_id': 'salt', 'count': 18049},\n",
       " {'_id': 'onions', 'count': 7972},\n",
       " {'_id': 'olive oil', 'count': 7972},\n",
       " {'_id': 'water', 'count': 7457},\n",
       " {'_id': 'garlic', 'count': 7380},\n",
       " {'_id': 'sugar', 'count': 6434},\n",
       " {'_id': 'garlic cloves', 'count': 6237},\n",
       " {'_id': 'butter', 'count': 4848},\n",
       " {'_id': 'ground black pepper', 'count': 4785},\n",
       " {'_id': 'all-purpose flour', 'count': 4632}]"
      ]
     },
     "execution_count": 64,
     "metadata": {},
     "output_type": "execute_result"
    }
   ],
   "source": [
    "pipeline = [\n",
    "    { \"$unwind\": \"$ingredients\" },\n",
    "    { \n",
    "        \"$group\": {\n",
    "            \"_id\": \"$ingredients\",\n",
    "            \"count\": { \"$sum\": 1 }\n",
    "        }\n",
    "    },\n",
    "    { \"$sort\": {\"count\": -1 }  },\n",
    "    { \"$limit\": 10 }\n",
    "]\n",
    "\n",
    "results = db.cooking.aggregate(pipeline)\n",
    "list(results)"
   ]
  },
  {
   "cell_type": "markdown",
   "metadata": {
    "slideshow": {
     "slide_type": "subslide"
    }
   },
   "source": [
    "`$group` follows the following pattern:\n",
    "\n",
    "```python\n",
    "\"$group\": {\n",
    "            \"_id\": GROUPING_CONDITIONS,\n",
    "            FIELD: ACCUMULATOR\n",
    "        }\n",
    "```\n",
    "\n",
    "You always need an id. It can be a string (to group by a single column), an object where the keys are new names and the values are the fields that your grouping by, or `None`, which groups the entire dataset into a single point."
   ]
  },
  {
   "cell_type": "markdown",
   "metadata": {
    "slideshow": {
     "slide_type": "subslide"
    }
   },
   "source": [
    "The `_id` can be an object with multiple values."
   ]
  },
  {
   "cell_type": "code",
   "execution_count": 69,
   "metadata": {},
   "outputs": [
    {
     "data": {
      "text/plain": [
       "[{'_id': {'cuisine': 'italian', 'ingredients': 'salt'}, 'num_matching': 3454},\n",
       " {'_id': {'cuisine': 'italian', 'ingredients': 'olive oil'},\n",
       "  'num_matching': 3111},\n",
       " {'_id': {'cuisine': 'mexican', 'ingredients': 'salt'}, 'num_matching': 2720},\n",
       " {'_id': {'cuisine': 'southern_us', 'ingredients': 'salt'},\n",
       "  'num_matching': 2290}]"
      ]
     },
     "execution_count": 69,
     "metadata": {},
     "output_type": "execute_result"
    }
   ],
   "source": [
    "pipeline = [\n",
    "    { \"$unwind\": \"$ingredients\" },\n",
    "    { \n",
    "        \"$group\": {\n",
    "            \"_id\": {\"cuisine\": \"$cuisine\", \"ingredients\": \"$ingredients\"},\n",
    "            \"num_matching\": { \"$sum\": 1 }\n",
    "        }\n",
    "    },\n",
    "    { \"$sort\": {\"num_matching\": -1 }  },\n",
    "    { \"$limit\": 4 }\n",
    "]\n",
    "\n",
    "results = db.cooking.aggregate(pipeline)\n",
    "list(results)"
   ]
  },
  {
   "cell_type": "markdown",
   "metadata": {
    "slideshow": {
     "slide_type": "subslide"
    }
   },
   "source": [
    "here I named the id keys as the same thing as the incoming information:\n",
    "    \n",
    "```\n",
    "\"_id\": {\"cuisine\": \"$cuisine\", \"ingredients\": \"$ingredients\"}\n",
    "```\n",
    "\n",
    "But they can be named whatever you like. e.g.\n",
    "\n",
    "```\n",
    "\"_id\": {\"foo\": \"$cuisine\", \"bar\": \"$ingredients\"}\n",
    "```"
   ]
  },
  {
   "cell_type": "markdown",
   "metadata": {
    "slideshow": {
     "slide_type": "subslide"
    }
   },
   "source": [
    "Count total number of ingredients by grouping on `None`:"
   ]
  },
  {
   "cell_type": "code",
   "execution_count": 71,
   "metadata": {},
   "outputs": [
    {
     "data": {
      "text/plain": [
       "[{'_id': None, 'num_matching': 428275}]"
      ]
     },
     "execution_count": 71,
     "metadata": {},
     "output_type": "execute_result"
    }
   ],
   "source": [
    "pipeline = [\n",
    "    { \"$unwind\": \"$ingredients\" },\n",
    "    { \n",
    "        \"$group\": {\n",
    "            \"_id\": None,\n",
    "            \"num_matching\": { \"$sum\": 1 }\n",
    "        }\n",
    "    },\n",
    "    { \"$sort\": {\"num_matching\": -1 }  },\n",
    "    { \"$limit\": 3 }\n",
    "]\n",
    "\n",
    "results = db.cooking.aggregate(pipeline)\n",
    "list(results)"
   ]
  },
  {
   "cell_type": "markdown",
   "metadata": {
    "slideshow": {
     "slide_type": "subslide"
    }
   },
   "source": [
    "## Lab Exercise\n",
    "\n",
    "Next question - writing an aggregation pipeline that needs '$group' to count categories in the data."
   ]
  },
  {
   "cell_type": "code",
   "execution_count": 102,
   "metadata": {},
   "outputs": [
    {
     "data": {
      "text/html": [
       "<iframe id=\"kaltura_player\" src=\"https://cdnapisec.kaltura.com/p/2357732/sp/235773200/embedIframeJs/uiconf_id/41433732/partner_id/2357732?iframeembed=true&playerId=kaltura_player&entry_id=0_vayll4b0&flashvars[streamerType]=auto&amp;flashvars[localizationCode]=en&amp;flashvars[leadWithHTML5]=true&amp;flashvars[sideBarContainer.plugin]=true&amp;flashvars[sideBarContainer.position]=left&amp;flashvars[sideBarContainer.clickToClose]=true&amp;flashvars[chapters.plugin]=true&amp;flashvars[chapters.layout]=vertical&amp;flashvars[chapters.thumbnailRotator]=false&amp;flashvars[streamSelector.plugin]=true&amp;flashvars[EmbedPlayer.SpinnerTarget]=videoHolder&amp;flashvars[dualScreen.plugin]=true&amp;flashvars[hotspots.plugin]=1&amp;flashvars[Kaltura.addCrossoriginToIframe]=true&amp;&wid=0_arvdpbxu\" width=\"640\" height=\"360\" allowfullscreen webkitallowfullscreen mozAllowFullScreen allow=\"autoplay *; fullscreen *; encrypted-media *\" sandbox=\"allow-forms allow-same-origin allow-scripts allow-top-navigation allow-pointer-lock allow-popups allow-modals allow-orientation-lock allow-popups-to-escape-sandbox allow-presentation allow-top-navigation-by-user-activation\" frameborder=\"0\" title=\"Kaltura Player\"></iframe>"
      ],
      "text/plain": [
       "<IPython.core.display.HTML object>"
      ]
     },
     "execution_count": 102,
     "metadata": {},
     "output_type": "execute_result"
    }
   ],
   "source": [
    "HTML('<iframe id=\"kaltura_player\" src=\"https://cdnapisec.kaltura.com/p/2357732/sp/235773200/embedIframeJs/uiconf_id/41433732/partner_id/2357732?iframeembed=true&playerId=kaltura_player&entry_id=0_vayll4b0&flashvars[streamerType]=auto&amp;flashvars[localizationCode]=en&amp;flashvars[leadWithHTML5]=true&amp;flashvars[sideBarContainer.plugin]=true&amp;flashvars[sideBarContainer.position]=left&amp;flashvars[sideBarContainer.clickToClose]=true&amp;flashvars[chapters.plugin]=true&amp;flashvars[chapters.layout]=vertical&amp;flashvars[chapters.thumbnailRotator]=false&amp;flashvars[streamSelector.plugin]=true&amp;flashvars[EmbedPlayer.SpinnerTarget]=videoHolder&amp;flashvars[dualScreen.plugin]=true&amp;flashvars[hotspots.plugin]=1&amp;flashvars[Kaltura.addCrossoriginToIframe]=true&amp;&wid=0_arvdpbxu\" width=\"640\" height=\"360\" allowfullscreen webkitallowfullscreen mozAllowFullScreen allow=\"autoplay *; fullscreen *; encrypted-media *\" sandbox=\"allow-forms allow-same-origin allow-scripts allow-top-navigation allow-pointer-lock allow-popups allow-modals allow-orientation-lock allow-popups-to-escape-sandbox allow-presentation allow-top-navigation-by-user-activation\" frameborder=\"0\" title=\"Kaltura Player\"></iframe>')"
   ]
  },
  {
   "cell_type": "markdown",
   "metadata": {
    "slideshow": {
     "slide_type": "subslide"
    }
   },
   "source": [
    "## Groupby operators\n",
    "\n",
    "- `$sum`\n",
    "  - Using `{ \"$sum\": 1 }` returns a count, but you can also sum a numeric set of values with `{ \"$sum\": \"$keyName\" }`\n",
    "- `$avg`\n",
    "- `$first`\n",
    "- `$last`\n",
    "- `$min`\n",
    "- `$max`"
   ]
  },
  {
   "cell_type": "markdown",
   "metadata": {
    "slideshow": {
     "slide_type": "subslide"
    }
   },
   "source": [
    "How would you get the average number of ingredients per cuisine type?"
   ]
  },
  {
   "cell_type": "code",
   "execution_count": null,
   "metadata": {},
   "outputs": [],
   "source": []
  },
  {
   "cell_type": "markdown",
   "metadata": {
    "slideshow": {
     "slide_type": "fragment"
    }
   },
   "source": [
    "- First step: how do you get a count of ingredients per each individual recipe?"
   ]
  },
  {
   "cell_type": "code",
   "execution_count": 210,
   "metadata": {},
   "outputs": [
    {
     "name": "stdout",
     "output_type": "stream",
     "text": [
      "C:\\Users\\Peter.Organisciak\\Dropbox\\teaching\\lis4235-scripting\\slides\n"
     ]
    }
   ],
   "source": [
    "!cd"
   ]
  },
  {
   "cell_type": "code",
   "execution_count": 167,
   "metadata": {
    "slideshow": {
     "slide_type": "subslide"
    }
   },
   "outputs": [
    {
     "data": {
      "text/plain": [
       "[{'_id': {'cuisine': 'irish'}, 'average_ingredients': 9.299850074962519},\n",
       " {'_id': {'cuisine': 'brazilian'}, 'average_ingredients': 9.5203426124197},\n",
       " {'_id': {'cuisine': 'southern_us'}, 'average_ingredients': 9.634953703703705},\n",
       " {'_id': {'cuisine': 'british'}, 'average_ingredients': 9.708955223880597},\n",
       " {'_id': {'cuisine': 'japanese'}, 'average_ingredients': 9.735066760365426},\n",
       " {'_id': {'cuisine': 'french'}, 'average_ingredients': 9.817838246409675},\n",
       " {'_id': {'cuisine': 'italian'}, 'average_ingredients': 9.909032916560347},\n",
       " {'_id': {'cuisine': 'filipino'}, 'average_ingredients': 10.0},\n",
       " {'_id': {'cuisine': 'greek'}, 'average_ingredients': 10.182127659574467},\n",
       " {'_id': {'cuisine': 'russian'}, 'average_ingredients': 10.224948875255624},\n",
       " {'_id': {'cuisine': 'spanish'}, 'average_ingredients': 10.42366026289181},\n",
       " {'_id': {'cuisine': 'mexican'}, 'average_ingredients': 10.87744641192917},\n",
       " {'_id': {'cuisine': 'korean'}, 'average_ingredients': 11.28433734939759},\n",
       " {'_id': {'cuisine': 'chinese'}, 'average_ingredients': 11.98279087167976},\n",
       " {'_id': {'cuisine': 'jamaican'}, 'average_ingredients': 12.214828897338403},\n",
       " {'_id': {'cuisine': 'thai'}, 'average_ingredients': 12.545808966861598},\n",
       " {'_id': {'cuisine': 'cajun_creole'},\n",
       "  'average_ingredients': 12.617076326002588},\n",
       " {'_id': {'cuisine': 'vietnamese'}, 'average_ingredients': 12.675151515151516},\n",
       " {'_id': {'cuisine': 'indian'}, 'average_ingredients': 12.705960705960706},\n",
       " {'_id': {'cuisine': 'moroccan'}, 'average_ingredients': 12.909866017052375}]"
      ]
     },
     "execution_count": 167,
     "metadata": {},
     "output_type": "execute_result"
    }
   ],
   "source": [
    "pipeline = [\n",
    "    { \"$unwind\": \"$ingredients\" },\n",
    "    { \n",
    "        \"$group\": {\n",
    "            \"_id\": {'cuisine':'$cuisine', 'id': '$id'},\n",
    "            \"num_ingredients\": { \"$sum\": 1 }\n",
    "        }\n",
    "    },\n",
    "    { \n",
    "        \"$group\": {\n",
    "            \"_id\": {'cuisine':'$_id.cuisine'},\n",
    "            \"average_ingredients\": { \"$avg\": \"$num_ingredients\" }\n",
    "        }\n",
    "    },\n",
    "    {\n",
    "        \"$sort\": { \"average_ingredients\": 1}\n",
    "    }\n",
    "]\n",
    "\n",
    "results = db.cooking.aggregate(pipeline)\n",
    "list(results)"
   ]
  }
 ],
 "metadata": {
  "celltoolbar": "Slideshow",
  "kernelspec": {
   "display_name": "Python 3",
   "language": "python",
   "name": "python3"
  },
  "language_info": {
   "codemirror_mode": {
    "name": "ipython",
    "version": 3
   },
   "file_extension": ".py",
   "mimetype": "text/x-python",
   "name": "python",
   "nbconvert_exporter": "python",
   "pygments_lexer": "ipython3",
   "version": "3.6.8"
  }
 },
 "nbformat": 4,
 "nbformat_minor": 2
}
