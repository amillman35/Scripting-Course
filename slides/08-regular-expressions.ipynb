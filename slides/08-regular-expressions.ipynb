{
  "nbformat": 4,
  "nbformat_minor": 0,
  "metadata": {
    "celltoolbar": "Slideshow",
    "kernelspec": {
      "display_name": "Python 3",
      "language": "python",
      "name": "python3"
    },
    "language_info": {
      "codemirror_mode": {
        "name": "ipython",
        "version": 3
      },
      "file_extension": ".py",
      "mimetype": "text/x-python",
      "name": "python",
      "nbconvert_exporter": "python",
      "pygments_lexer": "ipython3",
      "version": "3.6.8"
    },
    "colab": {
      "name": "08-regular-expressions.ipynb",
      "provenance": []
    }
  },
  "cells": [
    {
      "cell_type": "markdown",
      "metadata": {
        "id": "FR9gvwtMagcV"
      },
      "source": [
        "# Regular Expressions"
      ]
    },
    {
      "cell_type": "markdown",
      "metadata": {
        "id": "T0GJ70ogagcV"
      },
      "source": [
        "## Announcements"
      ]
    },
    {
      "cell_type": "markdown",
      "metadata": {
        "id": "agK3VG4MagcW"
      },
      "source": [
        "## Final project discussion"
      ]
    },
    {
      "cell_type": "markdown",
      "metadata": {
        "id": "9-qfOPxjagcY"
      },
      "source": [
        "## Review"
      ]
    },
    {
      "cell_type": "markdown",
      "metadata": {
        "id": "V-c5N2_cagca"
      },
      "source": [
        "## Looking Back"
      ]
    },
    {
      "cell_type": "markdown",
      "metadata": {
        "id": "zF_7p_qzagca"
      },
      "source": [
        "- SQL, Relational Databases\n",
        "   - Selecting, sorting, limiting, joins\n",
        "   - Using SQLite in Colab with `%%sql`"
      ]
    },
    {
      "cell_type": "markdown",
      "metadata": {
        "id": "hjVDWu8Tagcb"
      },
      "source": [
        "- Data manipulation with Pandas\n",
        "   - DataFrames and Series's\n",
        "   - Import/Exporting to SQL\n",
        "   - Pulling tables from web\n",
        "   - Selection, sorting, counting"
      ]
    },
    {
      "cell_type": "markdown",
      "metadata": {
        "id": "OkkQ3G-yagcb"
      },
      "source": [
        "- Split-Apply-Combine\n",
        "   - Groupby in Pandas e.g. `.groupby('column').mean()`"
      ]
    },
    {
      "cell_type": "markdown",
      "metadata": {
        "id": "qytKEnLSagcc"
      },
      "source": [
        "- Visualization"
      ]
    },
    {
      "cell_type": "markdown",
      "metadata": {
        "id": "m3gvciZgagcc"
      },
      "source": [
        "- Semi-Structured data in MongoDB\n",
        "    - JSON\n",
        "    - selection, sorting\n",
        "    - Aggregations\n",
        "    - MapReduce concepts"
      ]
    },
    {
      "cell_type": "markdown",
      "metadata": {
        "id": "DdjxhLexagcc"
      },
      "source": [
        "- String pattern matching and extraction with regular expressions"
      ]
    },
    {
      "cell_type": "markdown",
      "metadata": {
        "id": "yxiv9_Abagcc"
      },
      "source": [
        "- Next week\n",
        "    - Advanced Pandas (rolling, dates)\n",
        "    - Web scraping"
      ]
    },
    {
      "cell_type": "markdown",
      "metadata": {
        "id": "shSoxL4_agcd"
      },
      "source": [
        "## Final Project Updates"
      ]
    },
    {
      "cell_type": "markdown",
      "metadata": {
        "id": "AsjQxYHgagcd"
      },
      "source": [
        "## <center>Regular Expressions</center>\n",
        "### <center>aka *regex*</center>"
      ]
    },
    {
      "cell_type": "markdown",
      "metadata": {
        "id": "m0KgRjScagcd"
      },
      "source": [
        "## *Recording - Intro to regular expressions*"
      ]
    },
    {
      "cell_type": "code",
      "metadata": {
        "id": "iyhxLNa8agcd",
        "outputId": "46fe9314-b2fb-4ceb-94f1-63d910a6096e"
      },
      "source": [
        "from IPython.display import HTML\n",
        "HTML('<iframe id=\"kaltura_player\" src=\"https://cdnapisec.kaltura.com/p/2357732/sp/235773200/embedIframeJs/uiconf_id/41433732/partner_id/2357732?iframeembed=true&playerId=kaltura_player&entry_id=0_f7fvihh9&flashvars[streamerType]=auto&amp;flashvars[localizationCode]=en&amp;flashvars[leadWithHTML5]=true&amp;flashvars[sideBarContainer.plugin]=true&amp;flashvars[sideBarContainer.position]=left&amp;flashvars[sideBarContainer.clickToClose]=true&amp;flashvars[chapters.plugin]=true&amp;flashvars[chapters.layout]=vertical&amp;flashvars[chapters.thumbnailRotator]=false&amp;flashvars[streamSelector.plugin]=true&amp;flashvars[EmbedPlayer.SpinnerTarget]=videoHolder&amp;flashvars[dualScreen.plugin]=true&amp;flashvars[hotspots.plugin]=1&amp;flashvars[Kaltura.addCrossoriginToIframe]=true&amp;&wid=0_b9qukktj\" width=\"790\" height=\"474\" allowfullscreen webkitallowfullscreen mozAllowFullScreen allow=\"autoplay *; fullscreen *; encrypted-media *\" sandbox=\"allow-forms allow-same-origin allow-scripts allow-top-navigation allow-pointer-lock allow-popups allow-modals allow-orientation-lock allow-popups-to-escape-sandbox allow-presentation allow-top-navigation-by-user-activation\" frameborder=\"0\" title=\"Kaltura Player\"></iframe>')"
      ],
      "execution_count": null,
      "outputs": [
        {
          "output_type": "execute_result",
          "data": {
            "text/html": [
              "<iframe id=\"kaltura_player\" src=\"https://cdnapisec.kaltura.com/p/2357732/sp/235773200/embedIframeJs/uiconf_id/41433732/partner_id/2357732?iframeembed=true&playerId=kaltura_player&entry_id=0_f7fvihh9&flashvars[streamerType]=auto&amp;flashvars[localizationCode]=en&amp;flashvars[leadWithHTML5]=true&amp;flashvars[sideBarContainer.plugin]=true&amp;flashvars[sideBarContainer.position]=left&amp;flashvars[sideBarContainer.clickToClose]=true&amp;flashvars[chapters.plugin]=true&amp;flashvars[chapters.layout]=vertical&amp;flashvars[chapters.thumbnailRotator]=false&amp;flashvars[streamSelector.plugin]=true&amp;flashvars[EmbedPlayer.SpinnerTarget]=videoHolder&amp;flashvars[dualScreen.plugin]=true&amp;flashvars[hotspots.plugin]=1&amp;flashvars[Kaltura.addCrossoriginToIframe]=true&amp;&wid=0_b9qukktj\" width=\"790\" height=\"474\" allowfullscreen webkitallowfullscreen mozAllowFullScreen allow=\"autoplay *; fullscreen *; encrypted-media *\" sandbox=\"allow-forms allow-same-origin allow-scripts allow-top-navigation allow-pointer-lock allow-popups allow-modals allow-orientation-lock allow-popups-to-escape-sandbox allow-presentation allow-top-navigation-by-user-activation\" frameborder=\"0\" title=\"Kaltura Player\"></iframe>"
            ],
            "text/plain": [
              "<IPython.core.display.HTML object>"
            ]
          },
          "metadata": {
            "tags": []
          },
          "execution_count": 1
        }
      ]
    },
    {
      "cell_type": "markdown",
      "metadata": {
        "id": "meCWe0PMagcf"
      },
      "source": [
        "*Video Notes: Link to Pandas string methods documentation: https://pandas.pydata.org/docs/user_guide/text.html#string-methods*"
      ]
    },
    {
      "cell_type": "markdown",
      "metadata": {
        "id": "R2FOtFdeagcf"
      },
      "source": [
        "### Overview\n",
        "\n",
        "Regular Expressions help you work with strings"
      ]
    },
    {
      "cell_type": "markdown",
      "metadata": {
        "id": "ZmhjxxX2agcg"
      },
      "source": [
        "*Pattern Matching*\n",
        "\n",
        "e.g. Find all phone numbers on a web page"
      ]
    },
    {
      "cell_type": "markdown",
      "metadata": {
        "id": "6V8ixU80agcg"
      },
      "source": [
        "*Manipulation*\n",
        "\n",
        "e.g. Match \"{Lastname}, {Firstname}\" in a set of records and rewrite it as \"{Firstname} {Lastname}\""
      ]
    },
    {
      "cell_type": "markdown",
      "metadata": {
        "id": "3YMejb9hagch"
      },
      "source": [
        "## Why?\n",
        "\n",
        "- Checking whether an input is valid (i.e. password, phone number, email, etc.)\n",
        "- Cleaning data\n",
        "- More complex data subsetting\n",
        "- Working with user inputs or other unstructured data"
      ]
    },
    {
      "cell_type": "markdown",
      "metadata": {
        "id": "8JdmjJ-pagch"
      },
      "source": [
        "### Q: Where can you use regular expressions?"
      ]
    },
    {
      "cell_type": "markdown",
      "metadata": {
        "id": "DAbmp-MVagch"
      },
      "source": [
        "### A: Many, many places!"
      ]
    },
    {
      "cell_type": "markdown",
      "metadata": {
        "id": "g4O1u-Iyagci"
      },
      "source": [
        "## In Python"
      ]
    },
    {
      "cell_type": "code",
      "metadata": {
        "id": "rCES8LHNagcj"
      },
      "source": [
        "import re\n",
        "comment = \"It was a dark and stormy night.\" "
      ],
      "execution_count": null,
      "outputs": []
    },
    {
      "cell_type": "markdown",
      "metadata": {
        "id": "jvpI-pVDagcm"
      },
      "source": [
        "Find a simple string:"
      ]
    },
    {
      "cell_type": "code",
      "metadata": {
        "id": "CXj_n31yagcn",
        "outputId": "2a67cadd-85c1-46b9-ea92-a219d712219a"
      },
      "source": [
        "re.findall('dark', comment)"
      ],
      "execution_count": null,
      "outputs": [
        {
          "output_type": "execute_result",
          "data": {
            "text/plain": [
              "['dark']"
            ]
          },
          "metadata": {
            "tags": []
          },
          "execution_count": 3
        }
      ]
    },
    {
      "cell_type": "markdown",
      "metadata": {
        "id": "18kk-i2lagco"
      },
      "source": [
        "Find all sequences of one or more word characters:"
      ]
    },
    {
      "cell_type": "code",
      "metadata": {
        "id": "PnFuxi2Tagcq",
        "outputId": "aaf815d8-a6f9-476a-c379-84e04a47cf2d"
      },
      "source": [
        "re.findall('\\w+', comment)"
      ],
      "execution_count": null,
      "outputs": [
        {
          "output_type": "execute_result",
          "data": {
            "text/plain": [
              "['It', 'was', 'a', 'dark', 'and', 'stormy', 'night']"
            ]
          },
          "metadata": {
            "tags": []
          },
          "execution_count": 17
        }
      ]
    },
    {
      "cell_type": "markdown",
      "metadata": {
        "id": "n0KpIzd1agcq"
      },
      "source": [
        "## In SQL\n",
        "\n",
        "SQLite doesn't support it, but..."
      ]
    },
    {
      "cell_type": "markdown",
      "metadata": {
        "id": "TkbFiJSdagcq"
      },
      "source": [
        "**MySQL**\n",
        "\n",
        "Select columns that match alphanumeric characters only:\n",
        "\n",
        "```\n",
        "SELECT * FROM table WHERE column REGEXP '^[A-Za-z0-9]+$';\n",
        "```\n",
        "\n",
        "**Postgresql**\n",
        "\n",
        "Match strings that include foo, bar, or baz:\n",
        "\n",
        "```\n",
        "SELECT * FROM table WHERE value ~ 'foo|bar|baz';\n",
        "```"
      ]
    },
    {
      "cell_type": "markdown",
      "metadata": {
        "id": "r44Rf7e6agcr"
      },
      "source": [
        "## In Pandas"
      ]
    },
    {
      "cell_type": "code",
      "metadata": {
        "id": "BT-IOllVagcr",
        "outputId": "ef594555-067f-46e6-e528-47f5706f1bfd"
      },
      "source": [
        "import pandas as pd\n",
        "movies = pd.read_csv('https://raw.githubusercontent.com/organisciak/Scripting-Course/master/data/movielens_small.csv')\n",
        "movies.sample()"
      ],
      "execution_count": null,
      "outputs": [
        {
          "output_type": "execute_result",
          "data": {
            "text/html": [
              "<div>\n",
              "<style scoped>\n",
              "    .dataframe tbody tr th:only-of-type {\n",
              "        vertical-align: middle;\n",
              "    }\n",
              "\n",
              "    .dataframe tbody tr th {\n",
              "        vertical-align: top;\n",
              "    }\n",
              "\n",
              "    .dataframe thead th {\n",
              "        text-align: right;\n",
              "    }\n",
              "</style>\n",
              "<table border=\"1\" class=\"dataframe\">\n",
              "  <thead>\n",
              "    <tr style=\"text-align: right;\">\n",
              "      <th></th>\n",
              "      <th>userId</th>\n",
              "      <th>rating</th>\n",
              "      <th>title</th>\n",
              "      <th>genres</th>\n",
              "      <th>timestamp</th>\n",
              "      <th>year</th>\n",
              "    </tr>\n",
              "  </thead>\n",
              "  <tbody>\n",
              "    <tr>\n",
              "      <th>35931</th>\n",
              "      <td>109</td>\n",
              "      <td>4.0</td>\n",
              "      <td>Lord of the Rings: The Fellowship of the Ring,...</td>\n",
              "      <td>Adventure</td>\n",
              "      <td>1153229733</td>\n",
              "      <td>2001</td>\n",
              "    </tr>\n",
              "  </tbody>\n",
              "</table>\n",
              "</div>"
            ],
            "text/plain": [
              "       userId  rating                                              title  \\\n",
              "35931     109     4.0  Lord of the Rings: The Fellowship of the Ring,...   \n",
              "\n",
              "          genres   timestamp  year  \n",
              "35931  Adventure  1153229733  2001  "
            ]
          },
          "metadata": {
            "tags": []
          },
          "execution_count": 6
        }
      ]
    },
    {
      "cell_type": "markdown",
      "metadata": {
        "id": "8dpDQ1SQagcr"
      },
      "source": [
        "Find movies where there is a digit (`\\d`) right before the end of the string (`$`):"
      ]
    },
    {
      "cell_type": "code",
      "metadata": {
        "id": "sZPww9Vgagcs",
        "outputId": "867a73a3-eddf-4322-a391-f51ed053aa40"
      },
      "source": [
        "matches = movies['title'].str.contains('\\d$')\n",
        "movies[matches].sample(10)"
      ],
      "execution_count": null,
      "outputs": [
        {
          "output_type": "execute_result",
          "data": {
            "text/html": [
              "<div>\n",
              "<style scoped>\n",
              "    .dataframe tbody tr th:only-of-type {\n",
              "        vertical-align: middle;\n",
              "    }\n",
              "\n",
              "    .dataframe tbody tr th {\n",
              "        vertical-align: top;\n",
              "    }\n",
              "\n",
              "    .dataframe thead th {\n",
              "        text-align: right;\n",
              "    }\n",
              "</style>\n",
              "<table border=\"1\" class=\"dataframe\">\n",
              "  <thead>\n",
              "    <tr style=\"text-align: right;\">\n",
              "      <th></th>\n",
              "      <th>userId</th>\n",
              "      <th>rating</th>\n",
              "      <th>title</th>\n",
              "      <th>genres</th>\n",
              "      <th>timestamp</th>\n",
              "      <th>year</th>\n",
              "    </tr>\n",
              "  </thead>\n",
              "  <tbody>\n",
              "    <tr>\n",
              "      <th>49307</th>\n",
              "      <td>29</td>\n",
              "      <td>3.0</td>\n",
              "      <td>Scream 2</td>\n",
              "      <td>Comedy</td>\n",
              "      <td>1313925074</td>\n",
              "      <td>1997</td>\n",
              "    </tr>\n",
              "    <tr>\n",
              "      <th>73691</th>\n",
              "      <td>574</td>\n",
              "      <td>3.5</td>\n",
              "      <td>Predator 2</td>\n",
              "      <td>Action</td>\n",
              "      <td>1232817836</td>\n",
              "      <td>1990</td>\n",
              "    </tr>\n",
              "    <tr>\n",
              "      <th>40428</th>\n",
              "      <td>153</td>\n",
              "      <td>1.0</td>\n",
              "      <td>Pokémon the Movie 2000</td>\n",
              "      <td>Animation</td>\n",
              "      <td>1046739925</td>\n",
              "      <td>2000</td>\n",
              "    </tr>\n",
              "    <tr>\n",
              "      <th>86675</th>\n",
              "      <td>475</td>\n",
              "      <td>1.5</td>\n",
              "      <td>Transporter 2</td>\n",
              "      <td>Action</td>\n",
              "      <td>1447327663</td>\n",
              "      <td>2005</td>\n",
              "    </tr>\n",
              "    <tr>\n",
              "      <th>65868</th>\n",
              "      <td>571</td>\n",
              "      <td>4.0</td>\n",
              "      <td>2012</td>\n",
              "      <td>Action</td>\n",
              "      <td>1334342752</td>\n",
              "      <td>2009</td>\n",
              "    </tr>\n",
              "    <tr>\n",
              "      <th>41287</th>\n",
              "      <td>48</td>\n",
              "      <td>4.0</td>\n",
              "      <td>Toy Story 3</td>\n",
              "      <td>Adventure</td>\n",
              "      <td>1318721995</td>\n",
              "      <td>2010</td>\n",
              "    </tr>\n",
              "    <tr>\n",
              "      <th>82142</th>\n",
              "      <td>564</td>\n",
              "      <td>3.0</td>\n",
              "      <td>Wayne's World 2</td>\n",
              "      <td>Comedy</td>\n",
              "      <td>974836927</td>\n",
              "      <td>1993</td>\n",
              "    </tr>\n",
              "    <tr>\n",
              "      <th>12610</th>\n",
              "      <td>243</td>\n",
              "      <td>4.0</td>\n",
              "      <td>Fahrenheit 9/11</td>\n",
              "      <td>Documentary</td>\n",
              "      <td>1094226630</td>\n",
              "      <td>2004</td>\n",
              "    </tr>\n",
              "    <tr>\n",
              "      <th>47833</th>\n",
              "      <td>247</td>\n",
              "      <td>4.0</td>\n",
              "      <td>Die Hard 2</td>\n",
              "      <td>Action</td>\n",
              "      <td>953102260</td>\n",
              "      <td>1990</td>\n",
              "    </tr>\n",
              "    <tr>\n",
              "      <th>92992</th>\n",
              "      <td>239</td>\n",
              "      <td>3.0</td>\n",
              "      <td>Love Potion #9</td>\n",
              "      <td>Comedy</td>\n",
              "      <td>991863254</td>\n",
              "      <td>1992</td>\n",
              "    </tr>\n",
              "  </tbody>\n",
              "</table>\n",
              "</div>"
            ],
            "text/plain": [
              "       userId  rating                   title       genres   timestamp  year\n",
              "49307      29     3.0                Scream 2       Comedy  1313925074  1997\n",
              "73691     574     3.5              Predator 2       Action  1232817836  1990\n",
              "40428     153     1.0  Pokémon the Movie 2000    Animation  1046739925  2000\n",
              "86675     475     1.5           Transporter 2       Action  1447327663  2005\n",
              "65868     571     4.0                    2012       Action  1334342752  2009\n",
              "41287      48     4.0             Toy Story 3    Adventure  1318721995  2010\n",
              "82142     564     3.0         Wayne's World 2       Comedy   974836927  1993\n",
              "12610     243     4.0         Fahrenheit 9/11  Documentary  1094226630  2004\n",
              "47833     247     4.0              Die Hard 2       Action   953102260  1990\n",
              "92992     239     3.0          Love Potion #9       Comedy   991863254  1992"
            ]
          },
          "metadata": {
            "tags": []
          },
          "execution_count": 8
        }
      ]
    },
    {
      "cell_type": "markdown",
      "metadata": {
        "id": "cWdcvG3uagcs"
      },
      "source": [
        "Find movies where the substring ' Part ' exists:"
      ]
    },
    {
      "cell_type": "code",
      "metadata": {
        "id": "eJkipeSsagcs",
        "outputId": "f10357d1-e304-47fa-fbd7-1cd47646a02b"
      },
      "source": [
        "matches = movies.title.str.contains(' Part ')\n",
        "movies[matches].sample(10)"
      ],
      "execution_count": null,
      "outputs": [
        {
          "output_type": "execute_result",
          "data": {
            "text/html": [
              "<div>\n",
              "<style scoped>\n",
              "    .dataframe tbody tr th:only-of-type {\n",
              "        vertical-align: middle;\n",
              "    }\n",
              "\n",
              "    .dataframe tbody tr th {\n",
              "        vertical-align: top;\n",
              "    }\n",
              "\n",
              "    .dataframe thead th {\n",
              "        text-align: right;\n",
              "    }\n",
              "</style>\n",
              "<table border=\"1\" class=\"dataframe\">\n",
              "  <thead>\n",
              "    <tr style=\"text-align: right;\">\n",
              "      <th></th>\n",
              "      <th>userId</th>\n",
              "      <th>rating</th>\n",
              "      <th>title</th>\n",
              "      <th>genres</th>\n",
              "      <th>timestamp</th>\n",
              "      <th>year</th>\n",
              "    </tr>\n",
              "  </thead>\n",
              "  <tbody>\n",
              "    <tr>\n",
              "      <th>50290</th>\n",
              "      <td>346</td>\n",
              "      <td>4.0</td>\n",
              "      <td>Back to the Future Part III</td>\n",
              "      <td>Adventure</td>\n",
              "      <td>1044651160</td>\n",
              "      <td>1990</td>\n",
              "    </tr>\n",
              "    <tr>\n",
              "      <th>50167</th>\n",
              "      <td>155</td>\n",
              "      <td>2.0</td>\n",
              "      <td>Back to the Future Part II</td>\n",
              "      <td>Adventure</td>\n",
              "      <td>943350250</td>\n",
              "      <td>1989</td>\n",
              "    </tr>\n",
              "    <tr>\n",
              "      <th>41358</th>\n",
              "      <td>620</td>\n",
              "      <td>4.0</td>\n",
              "      <td>Harry Potter and the Deathly Hallows: Part 1</td>\n",
              "      <td>Action</td>\n",
              "      <td>1455532293</td>\n",
              "      <td>2010</td>\n",
              "    </tr>\n",
              "    <tr>\n",
              "      <th>41392</th>\n",
              "      <td>620</td>\n",
              "      <td>4.0</td>\n",
              "      <td>Harry Potter and the Deathly Hallows: Part 2</td>\n",
              "      <td>Action</td>\n",
              "      <td>1455532588</td>\n",
              "      <td>2011</td>\n",
              "    </tr>\n",
              "    <tr>\n",
              "      <th>50232</th>\n",
              "      <td>612</td>\n",
              "      <td>2.0</td>\n",
              "      <td>Back to the Future Part II</td>\n",
              "      <td>Adventure</td>\n",
              "      <td>1455638646</td>\n",
              "      <td>1989</td>\n",
              "    </tr>\n",
              "    <tr>\n",
              "      <th>41390</th>\n",
              "      <td>553</td>\n",
              "      <td>4.0</td>\n",
              "      <td>Harry Potter and the Deathly Hallows: Part 2</td>\n",
              "      <td>Action</td>\n",
              "      <td>1423010553</td>\n",
              "      <td>2011</td>\n",
              "    </tr>\n",
              "    <tr>\n",
              "      <th>50312</th>\n",
              "      <td>486</td>\n",
              "      <td>3.5</td>\n",
              "      <td>Back to the Future Part III</td>\n",
              "      <td>Adventure</td>\n",
              "      <td>1464121628</td>\n",
              "      <td>1990</td>\n",
              "    </tr>\n",
              "    <tr>\n",
              "      <th>25138</th>\n",
              "      <td>309</td>\n",
              "      <td>5.0</td>\n",
              "      <td>Godfather: Part II, The</td>\n",
              "      <td>Crime</td>\n",
              "      <td>1114566751</td>\n",
              "      <td>1974</td>\n",
              "    </tr>\n",
              "    <tr>\n",
              "      <th>50216</th>\n",
              "      <td>518</td>\n",
              "      <td>3.0</td>\n",
              "      <td>Back to the Future Part II</td>\n",
              "      <td>Adventure</td>\n",
              "      <td>945364806</td>\n",
              "      <td>1989</td>\n",
              "    </tr>\n",
              "    <tr>\n",
              "      <th>25136</th>\n",
              "      <td>297</td>\n",
              "      <td>3.5</td>\n",
              "      <td>Godfather: Part II, The</td>\n",
              "      <td>Crime</td>\n",
              "      <td>1318703831</td>\n",
              "      <td>1974</td>\n",
              "    </tr>\n",
              "  </tbody>\n",
              "</table>\n",
              "</div>"
            ],
            "text/plain": [
              "       userId  rating                                         title  \\\n",
              "50290     346     4.0                   Back to the Future Part III   \n",
              "50167     155     2.0                    Back to the Future Part II   \n",
              "41358     620     4.0  Harry Potter and the Deathly Hallows: Part 1   \n",
              "41392     620     4.0  Harry Potter and the Deathly Hallows: Part 2   \n",
              "50232     612     2.0                    Back to the Future Part II   \n",
              "41390     553     4.0  Harry Potter and the Deathly Hallows: Part 2   \n",
              "50312     486     3.5                   Back to the Future Part III   \n",
              "25138     309     5.0                       Godfather: Part II, The   \n",
              "50216     518     3.0                    Back to the Future Part II   \n",
              "25136     297     3.5                       Godfather: Part II, The   \n",
              "\n",
              "          genres   timestamp  year  \n",
              "50290  Adventure  1044651160  1990  \n",
              "50167  Adventure   943350250  1989  \n",
              "41358     Action  1455532293  2010  \n",
              "41392     Action  1455532588  2011  \n",
              "50232  Adventure  1455638646  1989  \n",
              "41390     Action  1423010553  2011  \n",
              "50312  Adventure  1464121628  1990  \n",
              "25138      Crime  1114566751  1974  \n",
              "50216  Adventure   945364806  1989  \n",
              "25136      Crime  1318703831  1974  "
            ]
          },
          "metadata": {
            "tags": []
          },
          "execution_count": 20
        }
      ]
    },
    {
      "cell_type": "markdown",
      "metadata": {
        "id": "XBXlI3b8agct"
      },
      "source": [
        "Find movies that are named \"The ... of ...\""
      ]
    },
    {
      "cell_type": "code",
      "metadata": {
        "scrolled": true,
        "id": "NX7kSMJIagct",
        "outputId": "5198a4f8-c4d0-4f3e-a142-c67e64e2c1ea"
      },
      "source": [
        "matches = movies.title.str.contains('^The .+ of ')\n",
        "movies[matches].sample(10)"
      ],
      "execution_count": null,
      "outputs": [
        {
          "output_type": "execute_result",
          "data": {
            "text/html": [
              "<div>\n",
              "<style scoped>\n",
              "    .dataframe tbody tr th:only-of-type {\n",
              "        vertical-align: middle;\n",
              "    }\n",
              "\n",
              "    .dataframe tbody tr th {\n",
              "        vertical-align: top;\n",
              "    }\n",
              "\n",
              "    .dataframe thead th {\n",
              "        text-align: right;\n",
              "    }\n",
              "</style>\n",
              "<table border=\"1\" class=\"dataframe\">\n",
              "  <thead>\n",
              "    <tr style=\"text-align: right;\">\n",
              "      <th></th>\n",
              "      <th>userId</th>\n",
              "      <th>rating</th>\n",
              "      <th>title</th>\n",
              "      <th>genres</th>\n",
              "      <th>timestamp</th>\n",
              "      <th>year</th>\n",
              "    </tr>\n",
              "  </thead>\n",
              "  <tbody>\n",
              "    <tr>\n",
              "      <th>93217</th>\n",
              "      <td>294</td>\n",
              "      <td>4.0</td>\n",
              "      <td>The Diary of Anne Frank</td>\n",
              "      <td>Drama</td>\n",
              "      <td>1119922983</td>\n",
              "      <td>1959</td>\n",
              "    </tr>\n",
              "    <tr>\n",
              "      <th>94735</th>\n",
              "      <td>262</td>\n",
              "      <td>2.5</td>\n",
              "      <td>The Plague of the Zombies</td>\n",
              "      <td>Horror</td>\n",
              "      <td>1433901869</td>\n",
              "      <td>1966</td>\n",
              "    </tr>\n",
              "    <tr>\n",
              "      <th>68275</th>\n",
              "      <td>270</td>\n",
              "      <td>3.0</td>\n",
              "      <td>The Hobbit: The Battle of the Five Armies</td>\n",
              "      <td>Adventure</td>\n",
              "      <td>1469306927</td>\n",
              "      <td>2014</td>\n",
              "    </tr>\n",
              "    <tr>\n",
              "      <th>68277</th>\n",
              "      <td>347</td>\n",
              "      <td>3.0</td>\n",
              "      <td>The Hobbit: The Battle of the Five Armies</td>\n",
              "      <td>Adventure</td>\n",
              "      <td>1462999892</td>\n",
              "      <td>2014</td>\n",
              "    </tr>\n",
              "    <tr>\n",
              "      <th>68250</th>\n",
              "      <td>84</td>\n",
              "      <td>4.0</td>\n",
              "      <td>The Theory of Everything</td>\n",
              "      <td>Drama</td>\n",
              "      <td>1429911324</td>\n",
              "      <td>2014</td>\n",
              "    </tr>\n",
              "    <tr>\n",
              "      <th>92711</th>\n",
              "      <td>199</td>\n",
              "      <td>3.0</td>\n",
              "      <td>The Mating Habits of the Earthbound Human</td>\n",
              "      <td>Comedy</td>\n",
              "      <td>1214914182</td>\n",
              "      <td>1999</td>\n",
              "    </tr>\n",
              "    <tr>\n",
              "      <th>36099</th>\n",
              "      <td>212</td>\n",
              "      <td>4.0</td>\n",
              "      <td>The Count of Monte Cristo</td>\n",
              "      <td>Action</td>\n",
              "      <td>1228789284</td>\n",
              "      <td>2002</td>\n",
              "    </tr>\n",
              "    <tr>\n",
              "      <th>36097</th>\n",
              "      <td>73</td>\n",
              "      <td>4.0</td>\n",
              "      <td>The Count of Monte Cristo</td>\n",
              "      <td>Action</td>\n",
              "      <td>1264835164</td>\n",
              "      <td>2002</td>\n",
              "    </tr>\n",
              "    <tr>\n",
              "      <th>36102</th>\n",
              "      <td>294</td>\n",
              "      <td>4.0</td>\n",
              "      <td>The Count of Monte Cristo</td>\n",
              "      <td>Action</td>\n",
              "      <td>1112390008</td>\n",
              "      <td>2002</td>\n",
              "    </tr>\n",
              "    <tr>\n",
              "      <th>99139</th>\n",
              "      <td>547</td>\n",
              "      <td>4.0</td>\n",
              "      <td>The End of the Tour</td>\n",
              "      <td>Drama</td>\n",
              "      <td>1454253806</td>\n",
              "      <td>2015</td>\n",
              "    </tr>\n",
              "  </tbody>\n",
              "</table>\n",
              "</div>"
            ],
            "text/plain": [
              "       userId  rating                                      title     genres  \\\n",
              "93217     294     4.0                    The Diary of Anne Frank      Drama   \n",
              "94735     262     2.5                  The Plague of the Zombies     Horror   \n",
              "68275     270     3.0  The Hobbit: The Battle of the Five Armies  Adventure   \n",
              "68277     347     3.0  The Hobbit: The Battle of the Five Armies  Adventure   \n",
              "68250      84     4.0                   The Theory of Everything      Drama   \n",
              "92711     199     3.0  The Mating Habits of the Earthbound Human     Comedy   \n",
              "36099     212     4.0                  The Count of Monte Cristo     Action   \n",
              "36097      73     4.0                  The Count of Monte Cristo     Action   \n",
              "36102     294     4.0                  The Count of Monte Cristo     Action   \n",
              "99139     547     4.0                        The End of the Tour      Drama   \n",
              "\n",
              "        timestamp  year  \n",
              "93217  1119922983  1959  \n",
              "94735  1433901869  1966  \n",
              "68275  1469306927  2014  \n",
              "68277  1462999892  2014  \n",
              "68250  1429911324  2014  \n",
              "92711  1214914182  1999  \n",
              "36099  1228789284  2002  \n",
              "36097  1264835164  2002  \n",
              "36102  1112390008  2002  \n",
              "99139  1454253806  2015  "
            ]
          },
          "metadata": {
            "tags": []
          },
          "execution_count": 21
        }
      ]
    },
    {
      "cell_type": "markdown",
      "metadata": {
        "id": "x9sU8yhiagct"
      },
      "source": [
        "## In MongoDB"
      ]
    },
    {
      "cell_type": "code",
      "metadata": {
        "id": "tvpINSabagct"
      },
      "source": [
        "from pymongo import MongoClient\n",
        "client = MongoClient()\n",
        "db = client.week7\n",
        "collection = db.cooking"
      ],
      "execution_count": null,
      "outputs": []
    },
    {
      "cell_type": "markdown",
      "metadata": {
        "id": "rG-59fkIagcu"
      },
      "source": [
        "Find an recipe with an ingredient called \"yellow ...\""
      ]
    },
    {
      "cell_type": "code",
      "metadata": {
        "id": "V3qnzB6bagcu",
        "outputId": "4d1463e9-b42a-4e25-db3f-4ee1f6a4d74b"
      },
      "source": [
        "collection.find_one({\n",
        "    \"ingredients\": {\"$regex\": \"yellow .*\"}\n",
        "})"
      ],
      "execution_count": null,
      "outputs": [
        {
          "output_type": "execute_result",
          "data": {
            "text/plain": [
              "{'_id': ObjectId('5cedb796db075a25e4ac71b5'),\n",
              " 'cuisine': 'southern_us',\n",
              " 'id': 25693,\n",
              " 'ingredients': ['plain flour',\n",
              "  'ground pepper',\n",
              "  'salt',\n",
              "  'tomatoes',\n",
              "  'ground black pepper',\n",
              "  'thyme',\n",
              "  'eggs',\n",
              "  'green tomatoes',\n",
              "  'yellow corn meal',\n",
              "  'milk',\n",
              "  'vegetable oil']}"
            ]
          },
          "metadata": {
            "tags": []
          },
          "execution_count": 10
        }
      ]
    },
    {
      "cell_type": "markdown",
      "metadata": {
        "id": "k_oepl9magcu"
      },
      "source": [
        "After unwinding the recipes to one doc per ingredient, find ingredients with a qualified salt:"
      ]
    },
    {
      "cell_type": "code",
      "metadata": {
        "id": "oBu7Ux8jagcu",
        "outputId": "8fe6f525-c2e8-4c9e-9996-265374ff7ed9"
      },
      "source": [
        "pipeline = [\n",
        "    { \"$unwind\": \"$ingredients\" },\n",
        "    { \"$project\": {\"ingredients\": 1, \"_id\":0} },\n",
        "    { \"$match\":{\n",
        "        \"ingredients\": {\"$regex\": \"^.+ salt\" }\n",
        "        }\n",
        "    },\n",
        "    { \"$limit\": 5 }\n",
        "]\n",
        "results = collection.aggregate(pipeline)\n",
        "list(results)"
      ],
      "execution_count": null,
      "outputs": [
        {
          "output_type": "execute_result",
          "data": {
            "text/plain": [
              "[{'ingredients': 'sea salt'},\n",
              " {'ingredients': 'kosher salt'},\n",
              " {'ingredients': 'fine sea salt'},\n",
              " {'ingredients': 'kosher salt'},\n",
              " {'ingredients': 'kosher salt'}]"
            ]
          },
          "metadata": {
            "tags": []
          },
          "execution_count": 24
        }
      ]
    },
    {
      "cell_type": "markdown",
      "metadata": {
        "id": "gElXNTpuagcv"
      },
      "source": [
        "Count the qualified salt types:"
      ]
    },
    {
      "cell_type": "code",
      "metadata": {
        "id": "_lBlvJ_4agcw",
        "outputId": "255cb1e6-1a7d-4712-c93a-bc084f0369eb"
      },
      "source": [
        "pipeline = [\n",
        "    { \"$unwind\": \"$ingredients\" },\n",
        "    { \"$project\": {\"ingredients\": 1, \"_id\":0} },\n",
        "    { \"$match\":{ \"ingredients\": {\"$regex\": \"^.+ salt$\" } } },\n",
        "    { \"$group\":{\n",
        "        \"_id\": \"$ingredients\", \"count\": {\"$sum\": 1} } \n",
        "    },\n",
        "    { \"$sort\": { \"count\": -1} },\n",
        "    { \"$limit\": 20 }\n",
        "]\n",
        "results = collection.aggregate(pipeline)\n",
        "list(results)"
      ],
      "execution_count": null,
      "outputs": [
        {
          "output_type": "execute_result",
          "data": {
            "text/plain": [
              "[{'_id': 'kosher salt', 'count': 3113},\n",
              " {'_id': 'sea salt', 'count': 940},\n",
              " {'_id': 'coarse salt', 'count': 578},\n",
              " {'_id': 'fine sea salt', 'count': 285},\n",
              " {'_id': 'garlic salt', 'count': 240},\n",
              " {'_id': 'seasoning salt', 'count': 131},\n",
              " {'_id': 'table salt', 'count': 79},\n",
              " {'_id': 'coarse sea salt', 'count': 68},\n",
              " {'_id': 'coarse kosher salt', 'count': 64},\n",
              " {'_id': 'celery salt', 'count': 52},\n",
              " {'_id': 'fine salt', 'count': 24},\n",
              " {'_id': 'onion salt', 'count': 15},\n",
              " {'_id': 'rock salt', 'count': 14},\n",
              " {'_id': 'black salt', 'count': 12},\n",
              " {'_id': 'pickling salt', 'count': 12},\n",
              " {'_id': 'Himalayan salt', 'count': 11},\n",
              " {'_id': 'celtic salt', 'count': 9},\n",
              " {'_id': 'maldon sea salt', 'count': 8},\n",
              " {'_id': 'smoked sea salt', 'count': 6},\n",
              " {'_id': 'iodized salt', 'count': 4}]"
            ]
          },
          "metadata": {
            "tags": []
          },
          "execution_count": 25
        }
      ]
    },
    {
      "cell_type": "markdown",
      "metadata": {
        "id": "KCq4A8Ojagcx"
      },
      "source": [
        "### Note on variation\n",
        "\n",
        "- Regular Expressions are *close* to standard, but different implementations are slightly different."
      ]
    },
    {
      "cell_type": "markdown",
      "metadata": {
        "id": "pD99_6Epagc0"
      },
      "source": [
        "## Basics of Regular Expressions"
      ]
    },
    {
      "cell_type": "markdown",
      "metadata": {
        "id": "zcNeovWvagc0"
      },
      "source": [
        "In this class: we'll cover the basics, practiced in Python and Pandas."
      ]
    },
    {
      "cell_type": "markdown",
      "metadata": {
        "id": "tMs0T_Jaagc0"
      },
      "source": [
        "To follow along:"
      ]
    },
    {
      "cell_type": "code",
      "metadata": {
        "id": "DAEXMRKMagc1"
      },
      "source": [
        "import re"
      ],
      "execution_count": null,
      "outputs": []
    },
    {
      "cell_type": "code",
      "metadata": {
        "id": "rxLCKgCnagc1",
        "outputId": "8af4f529-92d1-492a-cbaa-069733e2666e"
      },
      "source": [
        "text = \"\"\n",
        "re.findall('', text)"
      ],
      "execution_count": null,
      "outputs": [
        {
          "output_type": "execute_result",
          "data": {
            "text/plain": [
              "['ell']"
            ]
          },
          "metadata": {
            "tags": []
          },
          "execution_count": 12
        }
      ]
    },
    {
      "cell_type": "markdown",
      "metadata": {
        "id": "QDq0sIVZagc1"
      },
      "source": [
        "## Wild Cards"
      ]
    },
    {
      "cell_type": "code",
      "metadata": {
        "id": "j0rYtaFhagc1",
        "outputId": "b4910a2c-55fb-4aec-b12f-ac6160cd22cf"
      },
      "source": [
        "HTML('<iframe id=\"kaltura_player\" src=\"https://cdnapisec.kaltura.com/p/2357732/sp/235773200/embedIframeJs/uiconf_id/41433732/partner_id/2357732?iframeembed=true&playerId=kaltura_player&entry_id=0_ezsa2pdh&flashvars[streamerType]=auto&amp;flashvars[localizationCode]=en&amp;flashvars[leadWithHTML5]=true&amp;flashvars[sideBarContainer.plugin]=true&amp;flashvars[sideBarContainer.position]=left&amp;flashvars[sideBarContainer.clickToClose]=true&amp;flashvars[chapters.plugin]=true&amp;flashvars[chapters.layout]=vertical&amp;flashvars[chapters.thumbnailRotator]=false&amp;flashvars[streamSelector.plugin]=true&amp;flashvars[EmbedPlayer.SpinnerTarget]=videoHolder&amp;flashvars[dualScreen.plugin]=true&amp;flashvars[hotspots.plugin]=1&amp;flashvars[Kaltura.addCrossoriginToIframe]=true&amp;&wid=0_gsd80sah\" width=\"790\" height=\"474\" allowfullscreen webkitallowfullscreen mozAllowFullScreen allow=\"autoplay *; fullscreen *; encrypted-media *\" sandbox=\"allow-forms allow-same-origin allow-scripts allow-top-navigation allow-pointer-lock allow-popups allow-modals allow-orientation-lock allow-popups-to-escape-sandbox allow-presentation allow-top-navigation-by-user-activation\" frameborder=\"0\" title=\"Kaltura Player\"></iframe>')"
      ],
      "execution_count": null,
      "outputs": [
        {
          "output_type": "execute_result",
          "data": {
            "text/html": [
              "<iframe id=\"kaltura_player\" src=\"https://cdnapisec.kaltura.com/p/2357732/sp/235773200/embedIframeJs/uiconf_id/41433732/partner_id/2357732?iframeembed=true&playerId=kaltura_player&entry_id=0_ezsa2pdh&flashvars[streamerType]=auto&amp;flashvars[localizationCode]=en&amp;flashvars[leadWithHTML5]=true&amp;flashvars[sideBarContainer.plugin]=true&amp;flashvars[sideBarContainer.position]=left&amp;flashvars[sideBarContainer.clickToClose]=true&amp;flashvars[chapters.plugin]=true&amp;flashvars[chapters.layout]=vertical&amp;flashvars[chapters.thumbnailRotator]=false&amp;flashvars[streamSelector.plugin]=true&amp;flashvars[EmbedPlayer.SpinnerTarget]=videoHolder&amp;flashvars[dualScreen.plugin]=true&amp;flashvars[hotspots.plugin]=1&amp;flashvars[Kaltura.addCrossoriginToIframe]=true&amp;&wid=0_gsd80sah\" width=\"790\" height=\"474\" allowfullscreen webkitallowfullscreen mozAllowFullScreen allow=\"autoplay *; fullscreen *; encrypted-media *\" sandbox=\"allow-forms allow-same-origin allow-scripts allow-top-navigation allow-pointer-lock allow-popups allow-modals allow-orientation-lock allow-popups-to-escape-sandbox allow-presentation allow-top-navigation-by-user-activation\" frameborder=\"0\" title=\"Kaltura Player\"></iframe>"
            ],
            "text/plain": [
              "<IPython.core.display.HTML object>"
            ]
          },
          "metadata": {
            "tags": []
          },
          "execution_count": 4
        }
      ]
    },
    {
      "cell_type": "markdown",
      "metadata": {
        "id": "8wZBPtvkagc2"
      },
      "source": [
        "`a` - Match the letter 'a'. Same for most other characters"
      ]
    },
    {
      "cell_type": "code",
      "metadata": {
        "id": "GfI5NEpPagc2",
        "outputId": "b8d94d19-56fb-4bcb-be97-4a6f3a6d7659"
      },
      "source": [
        "text = \"Colorado\"\n",
        "re.findall('o', text)"
      ],
      "execution_count": null,
      "outputs": [
        {
          "output_type": "execute_result",
          "data": {
            "text/plain": [
              "['o', 'o', 'o']"
            ]
          },
          "metadata": {
            "tags": []
          },
          "execution_count": 14
        }
      ]
    },
    {
      "cell_type": "code",
      "metadata": {
        "scrolled": false,
        "id": "rYqLrC8hagc2",
        "outputId": "6289f8c3-f977-4c35-e0fd-9a95b4f4c2f5"
      },
      "source": [
        "text = \"Buffalo buffalo Buffalo buffalo buffalo buffalo Buffalo buffalo\"\n",
        "re.findall('Buffalo buffalo', text)"
      ],
      "execution_count": null,
      "outputs": [
        {
          "output_type": "execute_result",
          "data": {
            "text/plain": [
              "['Buffalo buffalo', 'Buffalo buffalo', 'Buffalo buffalo']"
            ]
          },
          "metadata": {
            "tags": []
          },
          "execution_count": 15
        }
      ]
    },
    {
      "cell_type": "markdown",
      "metadata": {
        "id": "maiqawROagc3"
      },
      "source": [
        "`.` - Match any single character"
      ]
    },
    {
      "cell_type": "code",
      "metadata": {
        "id": "SBjwtgM8agc3",
        "outputId": "b21c7b5b-f212-486b-dc3b-1eb10112ee59"
      },
      "source": [
        "text = \"who, what, where, why, and how\"\n",
        "re.findall('wh.', text)"
      ],
      "execution_count": null,
      "outputs": [
        {
          "output_type": "execute_result",
          "data": {
            "text/plain": [
              "['who', 'wha', 'whe', 'why']"
            ]
          },
          "metadata": {
            "tags": []
          },
          "execution_count": 26
        }
      ]
    },
    {
      "cell_type": "code",
      "metadata": {
        "id": "3jeqgVQOagc3",
        "outputId": "08e2c7ff-c329-4827-8c9d-2a8acb0ab555"
      },
      "source": [
        "text = \"who, what, where, why, and how\"\n",
        "re.findall('wh.,', text)"
      ],
      "execution_count": null,
      "outputs": [
        {
          "output_type": "execute_result",
          "data": {
            "text/plain": [
              "['who,', 'why,']"
            ]
          },
          "metadata": {
            "tags": []
          },
          "execution_count": 27
        }
      ]
    },
    {
      "cell_type": "markdown",
      "metadata": {
        "id": "kNdD1uBnagc4"
      },
      "source": [
        "- `\\w` - Match any word character (letters, number... support for non-English characters varies)\n",
        "- `\\W` - Match any non-word characters"
      ]
    },
    {
      "cell_type": "code",
      "metadata": {
        "id": "moYm27qhagc4",
        "outputId": "40cb62e5-d085-41e9-c406-30fff4d626c5"
      },
      "source": [
        "text = \"Who, what, where, why, and how\"\n",
        "re.findall('\\w\\w\\w,', text)"
      ],
      "execution_count": null,
      "outputs": [
        {
          "output_type": "execute_result",
          "data": {
            "text/plain": [
              "['Who,', 'hat,', 'ere,', 'why,']"
            ]
          },
          "metadata": {
            "tags": []
          },
          "execution_count": 28
        }
      ]
    },
    {
      "cell_type": "code",
      "metadata": {
        "id": "ZJSW9FbYagc5",
        "outputId": "f4abdf4d-509f-4c35-e886-180726619002"
      },
      "source": [
        "text = \"Who, what, where, why, and how\"\n",
        "re.findall('\\w', text)"
      ],
      "execution_count": null,
      "outputs": [
        {
          "output_type": "execute_result",
          "data": {
            "text/plain": [
              "['W',\n",
              " 'h',\n",
              " 'o',\n",
              " 'w',\n",
              " 'h',\n",
              " 'a',\n",
              " 't',\n",
              " 'w',\n",
              " 'h',\n",
              " 'e',\n",
              " 'r',\n",
              " 'e',\n",
              " 'w',\n",
              " 'h',\n",
              " 'y',\n",
              " 'a',\n",
              " 'n',\n",
              " 'd',\n",
              " 'h',\n",
              " 'o',\n",
              " 'w']"
            ]
          },
          "metadata": {
            "tags": []
          },
          "execution_count": 16
        }
      ]
    },
    {
      "cell_type": "markdown",
      "metadata": {
        "id": "XFhR3jJJagc5"
      },
      "source": [
        "`\\d` - Match any digit"
      ]
    },
    {
      "cell_type": "code",
      "metadata": {
        "id": "flIv7VX4agc5",
        "outputId": "1b725ea1-cc6d-4e28-fdcd-35ad27bd6743"
      },
      "source": [
        "text = \"Party like it's 1999\"\n",
        "re.findall('\\d', text)"
      ],
      "execution_count": null,
      "outputs": [
        {
          "output_type": "execute_result",
          "data": {
            "text/plain": [
              "['1', '9', '9', '9']"
            ]
          },
          "metadata": {
            "tags": []
          },
          "execution_count": 30
        }
      ]
    },
    {
      "cell_type": "code",
      "metadata": {
        "scrolled": true,
        "id": "yyCG_hdgagc5",
        "outputId": "5af3bb2d-5334-42b0-e328-0883b95b64c3"
      },
      "source": [
        "text = \"Party like it's 1999\"\n",
        "re.findall('\\d\\d\\d\\d', text)"
      ],
      "execution_count": null,
      "outputs": [
        {
          "output_type": "execute_result",
          "data": {
            "text/plain": [
              "['1999']"
            ]
          },
          "metadata": {
            "tags": []
          },
          "execution_count": 17
        }
      ]
    },
    {
      "cell_type": "markdown",
      "metadata": {
        "id": "mg77z11Kagc6"
      },
      "source": [
        "### *What if I want to match an actual backslash or period?*"
      ]
    },
    {
      "cell_type": "markdown",
      "metadata": {
        "id": "tcYZU6N8agc6"
      },
      "source": [
        "This is a problem:"
      ]
    },
    {
      "cell_type": "code",
      "metadata": {
        "id": "A_uALk_Kagc6",
        "outputId": "ca29a7c7-8fb1-48b5-c54e-588701b40559"
      },
      "source": [
        "text = \"Dr. Jones Drinks Too Much\"\n",
        "re.findall('Dr.', text)"
      ],
      "execution_count": null,
      "outputs": [
        {
          "output_type": "execute_result",
          "data": {
            "text/plain": [
              "['Dr.', 'Dri']"
            ]
          },
          "metadata": {
            "tags": []
          },
          "execution_count": 18
        }
      ]
    },
    {
      "cell_type": "markdown",
      "metadata": {
        "id": "COtfI6f6agc6"
      },
      "source": [
        "Precede the character with a backslash\n",
        "\n",
        "E.g.\n",
        "\n",
        "- `.` - Matches *any* character\n",
        "- `\\.` - Matches a literal period"
      ]
    },
    {
      "cell_type": "code",
      "metadata": {
        "id": "yJR_dEJragc7",
        "outputId": "3fb2d4fc-d7ce-4aff-d6a4-1092519a7e64"
      },
      "source": [
        "re.findall('Dr\\.', text)"
      ],
      "execution_count": null,
      "outputs": [
        {
          "output_type": "execute_result",
          "data": {
            "text/plain": [
              "['Dr.']"
            ]
          },
          "metadata": {
            "tags": []
          },
          "execution_count": 19
        }
      ]
    },
    {
      "cell_type": "markdown",
      "metadata": {
        "id": "vets10Vqagc7"
      },
      "source": [
        "## Reference (so far)\n",
        "- `a` - Match the letter 'a'. Same for most other characters\n",
        "- `\\w` - Match any word character (letters, number... support for non-English characters varies)\n",
        "- `\\W` - Match any non-word characters\n",
        "- `\\d` - Match any digit\n",
        "- `.` - Matches *any* character\n",
        "- `\\.` - Matches a literal period\n",
        "\n",
        "Let's try the first few lab questions - 1.1. to 1.4."
      ]
    },
    {
      "cell_type": "code",
      "metadata": {
        "id": "hLpaFKojagc8",
        "outputId": "7f41fe97-5eca-4bd9-8fcb-271f19c2ed67"
      },
      "source": [
        "HTML('<iframe id=\"kaltura_player\" src=\"https://cdnapisec.kaltura.com/p/2357732/sp/235773200/embedIframeJs/uiconf_id/41433732/partner_id/2357732?iframeembed=true&playerId=kaltura_player&entry_id=0_6scfp6s9&flashvars[streamerType]=auto&amp;flashvars[localizationCode]=en&amp;flashvars[leadWithHTML5]=true&amp;flashvars[sideBarContainer.plugin]=true&amp;flashvars[sideBarContainer.position]=left&amp;flashvars[sideBarContainer.clickToClose]=true&amp;flashvars[chapters.plugin]=true&amp;flashvars[chapters.layout]=vertical&amp;flashvars[chapters.thumbnailRotator]=false&amp;flashvars[streamSelector.plugin]=true&amp;flashvars[EmbedPlayer.SpinnerTarget]=videoHolder&amp;flashvars[dualScreen.plugin]=true&amp;flashvars[hotspots.plugin]=1&amp;flashvars[Kaltura.addCrossoriginToIframe]=true&amp;&wid=0_fatbgvj9\" width=\"790\" height=\"474\" allowfullscreen webkitallowfullscreen mozAllowFullScreen allow=\"autoplay *; fullscreen *; encrypted-media *\" sandbox=\"allow-forms allow-same-origin allow-scripts allow-top-navigation allow-pointer-lock allow-popups allow-modals allow-orientation-lock allow-popups-to-escape-sandbox allow-presentation allow-top-navigation-by-user-activation\" frameborder=\"0\" title=\"Kaltura Player\"></iframe>')"
      ],
      "execution_count": null,
      "outputs": [
        {
          "output_type": "execute_result",
          "data": {
            "text/html": [
              "<iframe id=\"kaltura_player\" src=\"https://cdnapisec.kaltura.com/p/2357732/sp/235773200/embedIframeJs/uiconf_id/41433732/partner_id/2357732?iframeembed=true&playerId=kaltura_player&entry_id=0_6scfp6s9&flashvars[streamerType]=auto&amp;flashvars[localizationCode]=en&amp;flashvars[leadWithHTML5]=true&amp;flashvars[sideBarContainer.plugin]=true&amp;flashvars[sideBarContainer.position]=left&amp;flashvars[sideBarContainer.clickToClose]=true&amp;flashvars[chapters.plugin]=true&amp;flashvars[chapters.layout]=vertical&amp;flashvars[chapters.thumbnailRotator]=false&amp;flashvars[streamSelector.plugin]=true&amp;flashvars[EmbedPlayer.SpinnerTarget]=videoHolder&amp;flashvars[dualScreen.plugin]=true&amp;flashvars[hotspots.plugin]=1&amp;flashvars[Kaltura.addCrossoriginToIframe]=true&amp;&wid=0_fatbgvj9\" width=\"790\" height=\"474\" allowfullscreen webkitallowfullscreen mozAllowFullScreen allow=\"autoplay *; fullscreen *; encrypted-media *\" sandbox=\"allow-forms allow-same-origin allow-scripts allow-top-navigation allow-pointer-lock allow-popups allow-modals allow-orientation-lock allow-popups-to-escape-sandbox allow-presentation allow-top-navigation-by-user-activation\" frameborder=\"0\" title=\"Kaltura Player\"></iframe>"
            ],
            "text/plain": [
              "<IPython.core.display.HTML object>"
            ]
          },
          "metadata": {
            "tags": []
          },
          "execution_count": 3
        }
      ]
    },
    {
      "cell_type": "markdown",
      "metadata": {
        "id": "nkERWd9Uagc9"
      },
      "source": [
        "`\\s` - Match any whitespace character (space, tabs, line breaks sometimes)"
      ]
    },
    {
      "cell_type": "markdown",
      "metadata": {
        "id": "EM5V65zBagc9"
      },
      "source": [
        "*What will this return?*"
      ]
    },
    {
      "cell_type": "code",
      "metadata": {
        "id": "NdZD4uWMagc-",
        "outputId": "fe99e0dd-348d-4edd-8f24-105e19ff846e"
      },
      "source": [
        "text = \"The quick brown fox jumped over the lazy yellow dog\"\n",
        "re.findall('\\s....\\s', text)"
      ],
      "execution_count": null,
      "outputs": [
        {
          "output_type": "execute_result",
          "data": {
            "text/plain": [
              "[' over ', ' lazy ']"
            ]
          },
          "metadata": {
            "tags": []
          },
          "execution_count": 20
        }
      ]
    },
    {
      "cell_type": "markdown",
      "metadata": {
        "id": "arHtKpNzagc-"
      },
      "source": [
        "`[ab]` - Group of multiple possible characters - in this case 'a' or 'b'"
      ]
    },
    {
      "cell_type": "code",
      "metadata": {
        "id": "AcNX6Xe2agc-",
        "outputId": "55689e8b-16ce-466e-a933-8b22fb806ef6"
      },
      "source": [
        "text = \"The quick brown fox jumped over the lazy yellow dog\"\n",
        "re.findall('[Tt]he', text)"
      ],
      "execution_count": null,
      "outputs": [
        {
          "output_type": "execute_result",
          "data": {
            "text/plain": [
              "['The', 'the']"
            ]
          },
          "metadata": {
            "tags": []
          },
          "execution_count": 21
        }
      ]
    },
    {
      "cell_type": "markdown",
      "metadata": {
        "id": "hI9lM-H6agc_"
      },
      "source": [
        "- `[a-z]` matches any character from a to z\n",
        "- `[A-Z]` matches any character from A to Z"
      ]
    },
    {
      "cell_type": "code",
      "metadata": {
        "id": "Le_N3m1MagdC",
        "outputId": "33f06c81-1759-4849-b1d3-95db4c851cba"
      },
      "source": [
        "text = \"text 1-800-SPAM for more information\"\n",
        "re.findall('[A-Z][A-Z][A-Z][A-Z]', text)"
      ],
      "execution_count": null,
      "outputs": [
        {
          "output_type": "execute_result",
          "data": {
            "text/plain": [
              "['SPAM']"
            ]
          },
          "metadata": {
            "tags": []
          },
          "execution_count": 22
        }
      ]
    },
    {
      "cell_type": "markdown",
      "metadata": {
        "id": "tfddfhpyagdD"
      },
      "source": [
        "Those square brackets are same as before, so you can group A-Z with other matches.\n",
        "\n",
        "e.g. Match capital letters, digits, or hyphens:"
      ]
    },
    {
      "cell_type": "code",
      "metadata": {
        "id": "UhZhSw9kagdD",
        "outputId": "c4ef2012-7d44-422a-afaf-379e595ef162"
      },
      "source": [
        "text = \"text 1-800-SPAM for more information\"\n",
        "re.findall('[\\d\\-A-Z]+', text)"
      ],
      "execution_count": null,
      "outputs": [
        {
          "output_type": "execute_result",
          "data": {
            "text/plain": [
              "['1-800-SPAM']"
            ]
          },
          "metadata": {
            "tags": []
          },
          "execution_count": 23
        }
      ]
    },
    {
      "cell_type": "markdown",
      "metadata": {
        "id": "7KygAN_LagdD"
      },
      "source": [
        "*Note above that a hyphen is another special character, so matching for a literal `-` is done with `\\-`.*"
      ]
    },
    {
      "cell_type": "markdown",
      "metadata": {
        "id": "IoaPnYyfagdD"
      },
      "source": [
        "Returning to the earlier data."
      ]
    },
    {
      "cell_type": "code",
      "metadata": {
        "id": "xPdROHXOagdD"
      },
      "source": [
        "titles = movies.title.drop_duplicates()"
      ],
      "execution_count": null,
      "outputs": []
    },
    {
      "cell_type": "markdown",
      "metadata": {
        "id": "98g3-sQbagdE"
      },
      "source": [
        "\"The (single word) of ...\""
      ]
    },
    {
      "cell_type": "code",
      "metadata": {
        "id": "DKWSF30yagdE",
        "outputId": "52421428-9401-4ab5-fe47-35ab07ef3021"
      },
      "source": [
        "matches = titles.str.contains('^The \\w+ of ')\n",
        "titles[matches].sample(10)"
      ],
      "execution_count": null,
      "outputs": [
        {
          "output_type": "execute_result",
          "data": {
            "text/plain": [
              "96669    The Disappearance of Eleanor Rigby: Her\n",
              "88980               The Earrings of Madame de...\n",
              "99821                       The Face of an Angel\n",
              "97199                           The Book of Life\n",
              "68479                         The Age of Adaline\n",
              "95699                 The Lair of the White Worm\n",
              "93216                    The Diary of Anne Frank\n",
              "94869             The Possession of Michael King\n",
              "97198                             The Best of Me\n",
              "94735                  The Plague of the Zombies\n",
              "Name: title, dtype: object"
            ]
          },
          "metadata": {
            "tags": []
          },
          "execution_count": 41
        }
      ]
    },
    {
      "cell_type": "code",
      "metadata": {
        "id": "IMM94KZCagdE",
        "outputId": "7fc0cf61-3b3e-47cd-98a9-f025816e49e2"
      },
      "source": [
        "matches = titles.str.contains(':')\n",
        "titles[matches].sample(10)"
      ],
      "execution_count": null,
      "outputs": [
        {
          "output_type": "execute_result",
          "data": {
            "text/plain": [
              "67847                  Captain America: The Winter Soldier\n",
              "29299    Léon: The Professional (a.k.a. The Professiona...\n",
              "96755    Will Ferrell: You're Welcome America - A Final...\n",
              "88694         Nightmare on Elm Street 3: Dream Warriors, A\n",
              "82307                   Police Academy 6: City Under Siege\n",
              "92984                             Exorcist II: The Heretic\n",
              "75368                      Tabu: A Story of the South Seas\n",
              "94572                       Sherlock: The Abominable Bride\n",
              "93522       Librarian, The: The Curse of the Judas Chalice\n",
              "76784         City Slickers II: The Legend of Curly's Gold\n",
              "Name: title, dtype: object"
            ]
          },
          "metadata": {
            "tags": []
          },
          "execution_count": 16
        }
      ]
    },
    {
      "cell_type": "code",
      "metadata": {
        "id": "qtxWyn9IagdE",
        "outputId": "285c4b47-c36b-47b8-9b0d-09c75bfd61b8"
      },
      "source": [
        "matches = titles.str.contains(\"^\\w+\\-\\w+$\")\n",
        "titles[matches]"
      ],
      "execution_count": null,
      "outputs": [
        {
          "output_type": "execute_result",
          "data": {
            "text/plain": [
              "259                  Ben-Hur\n",
              "12000             Spider-Man\n",
              "40269                  X-Men\n",
              "55032                  U-571\n",
              "58796             Scooby-Doo\n",
              "61252              Fail-Safe\n",
              "65729                G-Force\n",
              "66092               Kick-Ass\n",
              "68396                Ant-Man\n",
              "69332            Re-Animator\n",
              "69765    Slaughterhouse-Five\n",
              "81831                  K-PAX\n",
              "83228                 BURN-E\n",
              "83394               Non-Stop\n",
              "83908               Bio-Dome\n",
              "89557            Topsy-Turvy\n",
              "93256               Cry-Baby\n",
              "94106              She-Devil\n",
              "95079               Kon-Tiki\n",
              "96155              De-Lovely\n",
              "96602               Catch-22\n",
              "96617                Ben-hur\n",
              "96717               Semi-Pro\n",
              "98638                  T-Men\n",
              "99056     Shakespeare-Wallah\n",
              "99971        Straight-Jacket\n",
              "Name: title, dtype: object"
            ]
          },
          "metadata": {
            "tags": []
          },
          "execution_count": 25
        }
      ]
    },
    {
      "cell_type": "markdown",
      "metadata": {
        "id": "9FXrYD75agdF"
      },
      "source": [
        "## Reference (so far)\n",
        "- `a` - Match the letter `a`. Same for most other characters\n",
        "- `.` - Match any single character\n",
        "- `\\w` - Match any word character (letters, number... support for non-English characters varies)\n",
        "- `\\W` - Match any non-word characters\n",
        "- `\\d` - Match any digit\n",
        "- `.` - Matches *any* character\n",
        "- `\\.` - Matches a literal period\n",
        "- `\\s` - Match any whitespace character (space, tabs, line breaks sometimes)\n",
        "- `[ab]` - Group of multiple possible characters - in this case `a` or `b`\n",
        "- `[a-z]` matches any character from a to z\n",
        "- `[A-Z]` matches any character from A to Z\n",
        "- `[A-Zab]` matches any character from A to Z (`A-Z`), *or* `a` *or* `b`"
      ]
    },
    {
      "cell_type": "markdown",
      "metadata": {
        "id": "LzI-TiNuagdF"
      },
      "source": [
        "## Repetition"
      ]
    },
    {
      "cell_type": "code",
      "metadata": {
        "id": "4tY9ewDAagdF",
        "outputId": "c45efe4a-9eea-483c-9142-88229ff7b9bc"
      },
      "source": [
        "HTML('<iframe id=\"kaltura_player\" src=\"https://cdnapisec.kaltura.com/p/2357732/sp/235773200/embedIframeJs/uiconf_id/41433732/partner_id/2357732?iframeembed=true&playerId=kaltura_player&entry_id=0_eawu2nno&flashvars[streamerType]=auto&amp;flashvars[localizationCode]=en&amp;flashvars[leadWithHTML5]=true&amp;flashvars[sideBarContainer.plugin]=true&amp;flashvars[sideBarContainer.position]=left&amp;flashvars[sideBarContainer.clickToClose]=true&amp;flashvars[chapters.plugin]=true&amp;flashvars[chapters.layout]=vertical&amp;flashvars[chapters.thumbnailRotator]=false&amp;flashvars[streamSelector.plugin]=true&amp;flashvars[EmbedPlayer.SpinnerTarget]=videoHolder&amp;flashvars[dualScreen.plugin]=true&amp;flashvars[hotspots.plugin]=1&amp;flashvars[Kaltura.addCrossoriginToIframe]=true&amp;&wid=0_mdxb0rv1\" width=\"790\" height=\"474\" allowfullscreen webkitallowfullscreen mozAllowFullScreen allow=\"autoplay *; fullscreen *; encrypted-media *\" sandbox=\"allow-forms allow-same-origin allow-scripts allow-top-navigation allow-pointer-lock allow-popups allow-modals allow-orientation-lock allow-popups-to-escape-sandbox allow-presentation allow-top-navigation-by-user-activation\" frameborder=\"0\" title=\"Kaltura Player\"></iframe>')"
      ],
      "execution_count": null,
      "outputs": [
        {
          "output_type": "execute_result",
          "data": {
            "text/html": [
              "<iframe id=\"kaltura_player\" src=\"https://cdnapisec.kaltura.com/p/2357732/sp/235773200/embedIframeJs/uiconf_id/41433732/partner_id/2357732?iframeembed=true&playerId=kaltura_player&entry_id=0_eawu2nno&flashvars[streamerType]=auto&amp;flashvars[localizationCode]=en&amp;flashvars[leadWithHTML5]=true&amp;flashvars[sideBarContainer.plugin]=true&amp;flashvars[sideBarContainer.position]=left&amp;flashvars[sideBarContainer.clickToClose]=true&amp;flashvars[chapters.plugin]=true&amp;flashvars[chapters.layout]=vertical&amp;flashvars[chapters.thumbnailRotator]=false&amp;flashvars[streamSelector.plugin]=true&amp;flashvars[EmbedPlayer.SpinnerTarget]=videoHolder&amp;flashvars[dualScreen.plugin]=true&amp;flashvars[hotspots.plugin]=1&amp;flashvars[Kaltura.addCrossoriginToIframe]=true&amp;&wid=0_mdxb0rv1\" width=\"790\" height=\"474\" allowfullscreen webkitallowfullscreen mozAllowFullScreen allow=\"autoplay *; fullscreen *; encrypted-media *\" sandbox=\"allow-forms allow-same-origin allow-scripts allow-top-navigation allow-pointer-lock allow-popups allow-modals allow-orientation-lock allow-popups-to-escape-sandbox allow-presentation allow-top-navigation-by-user-activation\" frameborder=\"0\" title=\"Kaltura Player\"></iframe>"
            ],
            "text/plain": [
              "<IPython.core.display.HTML object>"
            ]
          },
          "metadata": {
            "tags": []
          },
          "execution_count": 5
        }
      ]
    },
    {
      "cell_type": "markdown",
      "metadata": {
        "id": "9Nluj8igagdF"
      },
      "source": [
        "`?` - One or zero of the preceding match"
      ]
    },
    {
      "cell_type": "code",
      "metadata": {
        "id": "l3KCZgXuagdG",
        "outputId": "6f9119c8-4cd4-4414-98b6-bcff71c35b6a"
      },
      "source": [
        "text = \"color colour\"\n",
        "re.findall('colou?r', text)"
      ],
      "execution_count": null,
      "outputs": [
        {
          "output_type": "execute_result",
          "data": {
            "text/plain": [
              "['color', 'colour']"
            ]
          },
          "metadata": {
            "tags": []
          },
          "execution_count": 28
        }
      ]
    },
    {
      "cell_type": "markdown",
      "metadata": {
        "id": "GoPa9sk9agdH"
      },
      "source": [
        "- `+` - One or more of the preceding match\n",
        "- `*` - Zero or more of the preceding match"
      ]
    },
    {
      "cell_type": "code",
      "metadata": {
        "id": "mS6NYrP8agdH",
        "outputId": "8273b0a0-ea11-4ee4-a2ab-e1b588dd7b68"
      },
      "source": [
        "text = \"GOAL GOOOOOOOOOAAAAAAL\"\n",
        "re.findall('GO+A+L', text)"
      ],
      "execution_count": null,
      "outputs": [
        {
          "output_type": "execute_result",
          "data": {
            "text/plain": [
              "['GOAL', 'GOOOOOOOOOAAAAAAL']"
            ]
          },
          "metadata": {
            "tags": []
          },
          "execution_count": 29
        }
      ]
    },
    {
      "cell_type": "code",
      "metadata": {
        "id": "XIbKYx7qagdH",
        "outputId": "47ebe465-744b-42cc-e2f6-ed6857528422"
      },
      "source": [
        "text = \"GOAL\"\n",
        "re.findall('GO+A+L', text)"
      ],
      "execution_count": null,
      "outputs": [
        {
          "output_type": "execute_result",
          "data": {
            "text/plain": [
              "['GOAL']"
            ]
          },
          "metadata": {
            "tags": []
          },
          "execution_count": 34
        }
      ]
    },
    {
      "cell_type": "markdown",
      "metadata": {
        "id": "FRPZ0BR1agdI"
      },
      "source": [
        "`*` and `+` are *greedy* in Python. They will grab as much as possible. "
      ]
    },
    {
      "cell_type": "code",
      "metadata": {
        "id": "HsBoCoH7agdI",
        "outputId": "3502a233-9d92-4246-aca4-d59694acc430"
      },
      "source": [
        "text = \"<p>Something or other</p><p>Yet more junk.</p>\" \n",
        "re.findall('<p>.*</p>', text)"
      ],
      "execution_count": null,
      "outputs": [
        {
          "output_type": "execute_result",
          "data": {
            "text/plain": [
              "['<p>Something or other</p><p>Yet more junk.</p>']"
            ]
          },
          "metadata": {
            "tags": []
          },
          "execution_count": 37
        }
      ]
    },
    {
      "cell_type": "code",
      "metadata": {
        "id": "6HUJZoIVagdI",
        "outputId": "22e506ab-c890-45a9-c3d3-135c02143b29"
      },
      "source": [
        "text = \"foo1@gmail.com;b-a-r@gmail.com;baz@gmail.com\" \n",
        "re.findall('\\w.*@gmail.com', text)"
      ],
      "execution_count": null,
      "outputs": [
        {
          "output_type": "execute_result",
          "data": {
            "text/plain": [
              "['foo1@gmail.com;b-a-r@gmail.com;baz@gmail.com']"
            ]
          },
          "metadata": {
            "tags": []
          },
          "execution_count": 38
        }
      ]
    },
    {
      "cell_type": "markdown",
      "metadata": {
        "id": "6z_yL5jPagdI"
      },
      "source": [
        "`*?` is the *lazy* alternative, it will grab as little as possible."
      ]
    },
    {
      "cell_type": "code",
      "metadata": {
        "id": "gfWgBTwKagdJ",
        "outputId": "5065c64c-e685-4189-b29f-def696565ac1"
      },
      "source": [
        ""
      ],
      "execution_count": null,
      "outputs": [
        {
          "output_type": "execute_result",
          "data": {
            "text/plain": [
              "['foo1@gmail.com', 'b-a-r@gmail.com', 'baz@gmail.com']"
            ]
          },
          "metadata": {
            "tags": []
          },
          "execution_count": 91
        }
      ]
    },
    {
      "cell_type": "code",
      "metadata": {
        "id": "gUxrjHTjagdJ",
        "outputId": "9fbaefb2-6381-496c-84ed-e199e767b09a"
      },
      "source": [
        "re.findall('\\w.*?@gmail.com', text)"
      ],
      "execution_count": null,
      "outputs": [
        {
          "output_type": "execute_result",
          "data": {
            "text/plain": [
              "['foo1@gmail.com', 'b-a-r@gmail.com', 'baz@gmail.com']"
            ]
          },
          "metadata": {
            "tags": []
          },
          "execution_count": 123
        }
      ]
    },
    {
      "cell_type": "markdown",
      "metadata": {
        "id": "iVUDKPyjagdJ"
      },
      "source": [
        "## Reference (so far)\n",
        "\n",
        "**Matching characters**\n",
        "- `a` - Match the letter `a`. Same for most other characters\n",
        "- `.` - Match any single character\n",
        "- `\\w` - Match any word character (letters, number... support for non-English characters varies)\n",
        "- `\\W` - Match any non-word characters\n",
        "- `\\d` - Match any digit\n",
        "- `.` - Matches *any* character\n",
        "- `\\.` - Matches a literal period\n",
        "- `\\s` - Match any whitespace character (space, tabs, line breaks sometimes)\n",
        "\n",
        "**Multiple Matches**\n",
        "- `[ab]` - Group of multiple possible characters - in this case `a` or `b`\n",
        "- `[a-z]` matches any character from a to z\n",
        "- `[A-Z]` matches any character from A to Z\n",
        "- `[A-Zab]` matches any character from A to Z (`A-Z`), *or* `a` *or* `b`\n",
        "\n",
        "**Repeating**\n",
        "\n",
        "*'greedy' means that it captures as much as it can, 'lazy' means it captures as little as possible.*\n",
        "- `?` - One or zero of the preceding match\n",
        "- `+` - One or more of the preceding match (greedy)\n",
        "- `*` - Zero or more of the preceding match (greedy)\n",
        "- `*?`, `+?`  - Lazy versions of `*` and `+`"
      ]
    },
    {
      "cell_type": "markdown",
      "metadata": {
        "id": "GRjgDBmRagdJ"
      },
      "source": [
        "## Start and End of Line"
      ]
    },
    {
      "cell_type": "code",
      "metadata": {
        "id": "HYxyLlwAagdK",
        "outputId": "b02e6854-a397-4a60-db77-6ced6c3a8fd3"
      },
      "source": [
        "HTML('<iframe id=\"kaltura_player\" src=\"https://cdnapisec.kaltura.com/p/2357732/sp/235773200/embedIframeJs/uiconf_id/41433732/partner_id/2357732?iframeembed=true&playerId=kaltura_player&entry_id=0_h4jaxqcp&flashvars[streamerType]=auto&amp;flashvars[localizationCode]=en&amp;flashvars[leadWithHTML5]=true&amp;flashvars[sideBarContainer.plugin]=true&amp;flashvars[sideBarContainer.position]=left&amp;flashvars[sideBarContainer.clickToClose]=true&amp;flashvars[chapters.plugin]=true&amp;flashvars[chapters.layout]=vertical&amp;flashvars[chapters.thumbnailRotator]=false&amp;flashvars[streamSelector.plugin]=true&amp;flashvars[EmbedPlayer.SpinnerTarget]=videoHolder&amp;flashvars[dualScreen.plugin]=true&amp;flashvars[hotspots.plugin]=1&amp;flashvars[Kaltura.addCrossoriginToIframe]=true&amp;&wid=0_2jd77h7r\" width=\"790\" height=\"474\" allowfullscreen webkitallowfullscreen mozAllowFullScreen allow=\"autoplay *; fullscreen *; encrypted-media *\" sandbox=\"allow-forms allow-same-origin allow-scripts allow-top-navigation allow-pointer-lock allow-popups allow-modals allow-orientation-lock allow-popups-to-escape-sandbox allow-presentation allow-top-navigation-by-user-activation\" frameborder=\"0\" title=\"Kaltura Player\"></iframe>')"
      ],
      "execution_count": null,
      "outputs": [
        {
          "output_type": "execute_result",
          "data": {
            "text/html": [
              "<iframe id=\"kaltura_player\" src=\"https://cdnapisec.kaltura.com/p/2357732/sp/235773200/embedIframeJs/uiconf_id/41433732/partner_id/2357732?iframeembed=true&playerId=kaltura_player&entry_id=0_h4jaxqcp&flashvars[streamerType]=auto&amp;flashvars[localizationCode]=en&amp;flashvars[leadWithHTML5]=true&amp;flashvars[sideBarContainer.plugin]=true&amp;flashvars[sideBarContainer.position]=left&amp;flashvars[sideBarContainer.clickToClose]=true&amp;flashvars[chapters.plugin]=true&amp;flashvars[chapters.layout]=vertical&amp;flashvars[chapters.thumbnailRotator]=false&amp;flashvars[streamSelector.plugin]=true&amp;flashvars[EmbedPlayer.SpinnerTarget]=videoHolder&amp;flashvars[dualScreen.plugin]=true&amp;flashvars[hotspots.plugin]=1&amp;flashvars[Kaltura.addCrossoriginToIframe]=true&amp;&wid=0_2jd77h7r\" width=\"790\" height=\"474\" allowfullscreen webkitallowfullscreen mozAllowFullScreen allow=\"autoplay *; fullscreen *; encrypted-media *\" sandbox=\"allow-forms allow-same-origin allow-scripts allow-top-navigation allow-pointer-lock allow-popups allow-modals allow-orientation-lock allow-popups-to-escape-sandbox allow-presentation allow-top-navigation-by-user-activation\" frameborder=\"0\" title=\"Kaltura Player\"></iframe>"
            ],
            "text/plain": [
              "<IPython.core.display.HTML object>"
            ]
          },
          "metadata": {
            "tags": []
          },
          "execution_count": 6
        }
      ]
    },
    {
      "cell_type": "markdown",
      "metadata": {
        "id": "RdNKkzSxagdK"
      },
      "source": [
        "`^` - Start of line"
      ]
    },
    {
      "cell_type": "code",
      "metadata": {
        "id": "bObMS0TKagdK",
        "outputId": "d33581af-3e48-4dd5-f12e-7fd043781454"
      },
      "source": [
        "text = \"The quick brown fox jumped over the lazy yellow dog\"\n",
        "re.findall('^The', text)"
      ],
      "execution_count": null,
      "outputs": [
        {
          "output_type": "execute_result",
          "data": {
            "text/plain": [
              "['The']"
            ]
          },
          "metadata": {
            "tags": []
          },
          "execution_count": 43
        }
      ]
    },
    {
      "cell_type": "code",
      "metadata": {
        "id": "M2cgtR9lagdK",
        "outputId": "4c34c901-81c9-497f-da04-bafda4b733d3"
      },
      "source": [
        "re.findall('^The', text)"
      ],
      "execution_count": null,
      "outputs": [
        {
          "output_type": "execute_result",
          "data": {
            "text/plain": [
              "['The']"
            ]
          },
          "metadata": {
            "tags": []
          },
          "execution_count": 44
        }
      ]
    },
    {
      "cell_type": "code",
      "metadata": {
        "id": "PBubC5_yagdL",
        "outputId": "f30f9e89-1efa-46c3-bb2b-675124c26457"
      },
      "source": [
        "re.findall('^.*fox', text)"
      ],
      "execution_count": null,
      "outputs": [
        {
          "output_type": "execute_result",
          "data": {
            "text/plain": [
              "['The quick brown fox']"
            ]
          },
          "metadata": {
            "tags": []
          },
          "execution_count": 109
        }
      ]
    },
    {
      "cell_type": "markdown",
      "metadata": {
        "id": "6ZbSB4e1agdL"
      },
      "source": [
        "`$` - End of line"
      ]
    },
    {
      "cell_type": "code",
      "metadata": {
        "scrolled": true,
        "id": "Qxx1K-jVagdL",
        "outputId": "99367014-20c7-4d98-87a2-24628372416a"
      },
      "source": [
        "text = \"The quick brown fox jumped over the lazy yellow dog\"\n",
        "re.findall('.......$', text)"
      ],
      "execution_count": null,
      "outputs": [
        {
          "output_type": "execute_result",
          "data": {
            "text/plain": [
              "['low dog']"
            ]
          },
          "metadata": {
            "tags": []
          },
          "execution_count": 104
        }
      ]
    },
    {
      "cell_type": "code",
      "metadata": {
        "id": "hx56H9BbagdL",
        "outputId": "19d45610-c419-4046-cea5-c8987d1e2693"
      },
      "source": [
        "text = \"The quick brown fox jumped over the lazy yellow dog\"\n",
        "re.findall(\"^.*$\", text)"
      ],
      "execution_count": null,
      "outputs": [
        {
          "output_type": "execute_result",
          "data": {
            "text/plain": [
              "['The quick brown fox']"
            ]
          },
          "metadata": {
            "tags": []
          },
          "execution_count": 49
        }
      ]
    },
    {
      "cell_type": "markdown",
      "metadata": {
        "id": "sih-F2D7agdM"
      },
      "source": [
        "## Reference\n",
        "\n",
        "**Matching characters**\n",
        "- `a` - Match the letter `a`. Same for most other characters\n",
        "- `.` - Match any single character\n",
        "- `\\w` - Match any word character (letters, number... support for non-English characters varies)\n",
        "- `\\W` - Match any non-word characters\n",
        "- `\\d` - Match any digit\n",
        "- `.` - Matches *any* character\n",
        "- `\\.` - Matches a literal period\n",
        "- `\\s` - Match any whitespace character (space, tabs, line breaks sometimes)\n",
        "\n",
        "**Multiple Matches**\n",
        "- `[ab]` - Group of multiple possible characters - in this case `a` or `b`\n",
        "- `[a-z]` matches any character from a to z\n",
        "- `[A-Z]` matches any character from A to Z\n",
        "- `[A-Zab]` matches any character from A to Z (`A-Z`), *or* `a` *or* `b`\n",
        "\n",
        "**Repeating**\n",
        "\n",
        "*'greedy' means that it captures as much as it can, 'lazy' means it captures as little as possible.*\n",
        "- `?` - One or zero of the preceding match\n",
        "- `+` - One or more of the preceding match (greedy)\n",
        "- `*` - Zero or more of the preceding match (greedy)\n",
        "- `*?`, `+?`  - Lazy versions of `*` and `+`\n",
        "\n",
        "**Position**\n",
        "- `^` - Start of line\n",
        "- `$` - End of line"
      ]
    },
    {
      "cell_type": "markdown",
      "metadata": {
        "id": "gubK4pa_agdM"
      },
      "source": [
        "# Additional tips\n",
        "\n",
        "Choose a range for repetition with `{min,max}`. e.g."
      ]
    },
    {
      "cell_type": "code",
      "metadata": {
        "id": "NfgnH27hagdM",
        "outputId": "18995877-2616-465f-e60c-310f28e4e4d6"
      },
      "source": [
        "HTML('<iframe id=\"kaltura_player\" src=\"https://cdnapisec.kaltura.com/p/2357732/sp/235773200/embedIframeJs/uiconf_id/41433732/partner_id/2357732?iframeembed=true&playerId=kaltura_player&entry_id=0_yrvd1amw&flashvars[streamerType]=auto&amp;flashvars[localizationCode]=en&amp;flashvars[leadWithHTML5]=true&amp;flashvars[sideBarContainer.plugin]=true&amp;flashvars[sideBarContainer.position]=left&amp;flashvars[sideBarContainer.clickToClose]=true&amp;flashvars[chapters.plugin]=true&amp;flashvars[chapters.layout]=vertical&amp;flashvars[chapters.thumbnailRotator]=false&amp;flashvars[streamSelector.plugin]=true&amp;flashvars[EmbedPlayer.SpinnerTarget]=videoHolder&amp;flashvars[dualScreen.plugin]=true&amp;flashvars[hotspots.plugin]=1&amp;flashvars[Kaltura.addCrossoriginToIframe]=true&amp;&wid=0_j3srkwqh\" width=\"640\" height=\"360\" allowfullscreen webkitallowfullscreen mozAllowFullScreen allow=\"autoplay *; fullscreen *; encrypted-media *\" sandbox=\"allow-forms allow-same-origin allow-scripts allow-top-navigation allow-pointer-lock allow-popups allow-modals allow-orientation-lock allow-popups-to-escape-sandbox allow-presentation allow-top-navigation-by-user-activation\" frameborder=\"0\" title=\"Kaltura Player\"></iframe>')"
      ],
      "execution_count": null,
      "outputs": [
        {
          "output_type": "execute_result",
          "data": {
            "text/html": [
              "<iframe id=\"kaltura_player\" src=\"https://cdnapisec.kaltura.com/p/2357732/sp/235773200/embedIframeJs/uiconf_id/41433732/partner_id/2357732?iframeembed=true&playerId=kaltura_player&entry_id=0_yrvd1amw&flashvars[streamerType]=auto&amp;flashvars[localizationCode]=en&amp;flashvars[leadWithHTML5]=true&amp;flashvars[sideBarContainer.plugin]=true&amp;flashvars[sideBarContainer.position]=left&amp;flashvars[sideBarContainer.clickToClose]=true&amp;flashvars[chapters.plugin]=true&amp;flashvars[chapters.layout]=vertical&amp;flashvars[chapters.thumbnailRotator]=false&amp;flashvars[streamSelector.plugin]=true&amp;flashvars[EmbedPlayer.SpinnerTarget]=videoHolder&amp;flashvars[dualScreen.plugin]=true&amp;flashvars[hotspots.plugin]=1&amp;flashvars[Kaltura.addCrossoriginToIframe]=true&amp;&wid=0_j3srkwqh\" width=\"640\" height=\"360\" allowfullscreen webkitallowfullscreen mozAllowFullScreen allow=\"autoplay *; fullscreen *; encrypted-media *\" sandbox=\"allow-forms allow-same-origin allow-scripts allow-top-navigation allow-pointer-lock allow-popups allow-modals allow-orientation-lock allow-popups-to-escape-sandbox allow-presentation allow-top-navigation-by-user-activation\" frameborder=\"0\" title=\"Kaltura Player\"></iframe>"
            ],
            "text/plain": [
              "<IPython.core.display.HTML object>"
            ]
          },
          "metadata": {
            "tags": []
          },
          "execution_count": 7
        }
      ]
    },
    {
      "cell_type": "code",
      "metadata": {
        "id": "4hODYCVLagdM",
        "outputId": "d377dce2-7bf7-444f-e714-e8c240d6ba25"
      },
      "source": [
        "text = \"YOLO\"\n",
        "re.search('YOLO{1,3}$', text) "
      ],
      "execution_count": null,
      "outputs": [
        {
          "output_type": "execute_result",
          "data": {
            "text/plain": [
              "<_sre.SRE_Match object; span=(0, 4), match='YOLO'>"
            ]
          },
          "metadata": {
            "tags": []
          },
          "execution_count": 57
        }
      ]
    },
    {
      "cell_type": "code",
      "metadata": {
        "id": "P08kKbwzagdN",
        "outputId": "4d072ad6-a503-4469-d7df-f1528b5dcfc0"
      },
      "source": [
        "text = \"YOLOOO\"\n",
        "re.search('YOLO{1,3}$', text)"
      ],
      "execution_count": null,
      "outputs": [
        {
          "output_type": "execute_result",
          "data": {
            "text/plain": [
              "<_sre.SRE_Match object; span=(0, 6), match='YOLOOO'>"
            ]
          },
          "metadata": {
            "tags": []
          },
          "execution_count": 58
        }
      ]
    },
    {
      "cell_type": "code",
      "metadata": {
        "id": "-L8xs6ZgagdN",
        "outputId": "7bf2f615-fe10-47a3-961a-c1ecfe67473c"
      },
      "source": [
        "text = \"YOLOOOOOO\"\n",
        "re.search('YOLO{1,3}$', text)"
      ],
      "execution_count": null,
      "outputs": [
        {
          "output_type": "execute_result",
          "data": {
            "text/plain": [
              "<_sre.SRE_Match object; span=(0, 6), match='YOLOOO'>"
            ]
          },
          "metadata": {
            "tags": []
          },
          "execution_count": 61
        }
      ]
    },
    {
      "cell_type": "markdown",
      "metadata": {
        "id": "A0fekkIragdN"
      },
      "source": [
        "*Negation*\n",
        "    \n",
        "Use the caret in square brackets: `[^aeiou]` means *not* a, e, i, o, or u"
      ]
    },
    {
      "cell_type": "markdown",
      "metadata": {
        "id": "oPBPfPEsagdN"
      },
      "source": [
        "*Groups*\n",
        "    \n",
        "Treat multiple characters together, like if they were a single character.\n",
        "\n",
        "Use parentheses. e.g:"
      ]
    },
    {
      "cell_type": "code",
      "metadata": {
        "id": "yc0hMfj4agdO",
        "outputId": "3197e978-33ef-4e3f-c063-a92be13a9707"
      },
      "source": [
        "text = \"banana\"\n",
        "re.findall('^ba(na)+$', text)"
      ],
      "execution_count": null,
      "outputs": [
        {
          "output_type": "execute_result",
          "data": {
            "text/plain": [
              "['na']"
            ]
          },
          "metadata": {
            "tags": []
          },
          "execution_count": 53
        }
      ]
    },
    {
      "cell_type": "code",
      "metadata": {
        "id": "dCoz8EJAagdO",
        "outputId": "e0180303-86c5-451a-c63d-609dfb32a77a"
      },
      "source": [
        "text = \"lololololololololololol\"\n",
        "re.findall('^l(ol)+$', text)"
      ],
      "execution_count": null,
      "outputs": [
        {
          "output_type": "execute_result",
          "data": {
            "text/plain": [
              "['ololololololololololol']"
            ]
          },
          "metadata": {
            "tags": []
          },
          "execution_count": 66
        }
      ]
    },
    {
      "cell_type": "markdown",
      "metadata": {
        "id": "iBhDjltzagdO"
      },
      "source": [
        "Capturing groups:"
      ]
    },
    {
      "cell_type": "code",
      "metadata": {
        "id": "x0z-AnTXagdO",
        "outputId": "11589f0d-dd04-4702-e02a-8ca9b0e797bb"
      },
      "source": [
        "text = \"Ketchup Catsup\"\n",
        "re.findall('(Ketch|Cats)up', text)"
      ],
      "execution_count": null,
      "outputs": [
        {
          "output_type": "execute_result",
          "data": {
            "text/plain": [
              "['Ketch', 'Cats']"
            ]
          },
          "metadata": {
            "tags": []
          },
          "execution_count": 61
        }
      ]
    }
  ]
}