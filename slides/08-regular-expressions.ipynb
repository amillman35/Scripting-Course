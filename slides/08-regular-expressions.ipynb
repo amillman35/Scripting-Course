{
 "cells": [
  {
   "cell_type": "markdown",
   "metadata": {
    "slideshow": {
     "slide_type": "slide"
    }
   },
   "source": [
    "# Regular Expressions"
   ]
  },
  {
   "cell_type": "markdown",
   "metadata": {
    "slideshow": {
     "slide_type": "subslide"
    }
   },
   "source": [
    "## Announcements\n",
    "\n",
    "- [Library Data Services and Assessment Assistant](https://careers.pageuppeople.com/885/ci/en-us/job/494795/library-data-services-and-assessment-assistant)"
   ]
  },
  {
   "cell_type": "markdown",
   "metadata": {
    "slideshow": {
     "slide_type": "subslide"
    }
   },
   "source": [
    "## Final project discussion"
   ]
  },
  {
   "cell_type": "markdown",
   "metadata": {
    "slideshow": {
     "slide_type": "subslide"
    }
   },
   "source": [
    "## Review"
   ]
  },
  {
   "cell_type": "markdown",
   "metadata": {
    "slideshow": {
     "slide_type": "subslide"
    }
   },
   "source": [
    "## Looking Back"
   ]
  },
  {
   "cell_type": "markdown",
   "metadata": {
    "slideshow": {
     "slide_type": "fragment"
    }
   },
   "source": [
    "- SQL, Relational Databases\n",
    "   - Selecting, sorting, limiting, joins\n",
    "   - Using SQLite in Colab with `%%sql`"
   ]
  },
  {
   "cell_type": "markdown",
   "metadata": {
    "slideshow": {
     "slide_type": "subslide"
    }
   },
   "source": [
    "- Data manipulation with Pandas\n",
    "   - DataFrames and Series's\n",
    "   - Import/Exporting to SQL\n",
    "   - Pulling tables from web\n",
    "   - Selection, sorting, counting"
   ]
  },
  {
   "cell_type": "markdown",
   "metadata": {
    "slideshow": {
     "slide_type": "fragment"
    }
   },
   "source": [
    "- Split-Apply-Combine\n",
    "   - Groupby in Pandas e.g. `.groupby('column').mean()`"
   ]
  },
  {
   "cell_type": "markdown",
   "metadata": {
    "slideshow": {
     "slide_type": "subslide"
    }
   },
   "source": [
    "- Visualization"
   ]
  },
  {
   "cell_type": "markdown",
   "metadata": {
    "slideshow": {
     "slide_type": "fragment"
    }
   },
   "source": [
    "- Semi-Structured data in MongoDB\n",
    "    - JSON\n",
    "    - selection, sorting\n",
    "    - Aggregations\n",
    "    - MapReduce concepts"
   ]
  },
  {
   "cell_type": "markdown",
   "metadata": {
    "slideshow": {
     "slide_type": "fragment"
    }
   },
   "source": [
    "- String pattern matching and extraction with regular expressions"
   ]
  },
  {
   "cell_type": "markdown",
   "metadata": {
    "slideshow": {
     "slide_type": "subslide"
    }
   },
   "source": [
    "## Final Project Updates"
   ]
  },
  {
   "cell_type": "markdown",
   "metadata": {
    "slideshow": {
     "slide_type": "slide"
    }
   },
   "source": [
    "## <center>Regular Expressions</center>\n",
    "### <center>aka *regex*</center>"
   ]
  },
  {
   "cell_type": "markdown",
   "metadata": {
    "slideshow": {
     "slide_type": "subslide"
    }
   },
   "source": [
    "### Overview\n",
    "\n",
    "Regular Expressions help you work with strings"
   ]
  },
  {
   "cell_type": "markdown",
   "metadata": {
    "slideshow": {
     "slide_type": "fragment"
    }
   },
   "source": [
    "*Pattern Matching*\n",
    "\n",
    "e.g. Find all phone numbers on a web page"
   ]
  },
  {
   "cell_type": "markdown",
   "metadata": {
    "slideshow": {
     "slide_type": "fragment"
    }
   },
   "source": [
    "*Manipulation*\n",
    "\n",
    "e.g. Match \"{Lastname}, {Firstname}\" in a set of records and rewrite it as \"{Firstname} {Lastname}\""
   ]
  },
  {
   "cell_type": "markdown",
   "metadata": {
    "slideshow": {
     "slide_type": "subslide"
    }
   },
   "source": [
    "## Why?\n",
    "\n",
    "- Checking whether an input is valid (i.e. password, phone number, email, etc.)\n",
    "- Cleaning data\n",
    "- More complex data subsetting\n",
    "- Working with user inputs or other unstructured data"
   ]
  },
  {
   "cell_type": "markdown",
   "metadata": {
    "slideshow": {
     "slide_type": "subslide"
    }
   },
   "source": [
    "### Q: Where can you use regular expressions?"
   ]
  },
  {
   "cell_type": "markdown",
   "metadata": {
    "slideshow": {
     "slide_type": "fragment"
    }
   },
   "source": [
    "### A: Many, many places!"
   ]
  },
  {
   "cell_type": "markdown",
   "metadata": {
    "slideshow": {
     "slide_type": "subslide"
    }
   },
   "source": [
    "## In Python"
   ]
  },
  {
   "cell_type": "code",
   "execution_count": 2,
   "metadata": {},
   "outputs": [],
   "source": [
    "import re\n",
    "comment = \"It was a dark and stormy night.\" "
   ]
  },
  {
   "cell_type": "markdown",
   "metadata": {
    "slideshow": {
     "slide_type": "fragment"
    }
   },
   "source": [
    "Find a simple string:"
   ]
  },
  {
   "cell_type": "code",
   "execution_count": 3,
   "metadata": {},
   "outputs": [
    {
     "data": {
      "text/plain": [
       "['dark']"
      ]
     },
     "execution_count": 3,
     "metadata": {},
     "output_type": "execute_result"
    }
   ],
   "source": [
    "re.findall('dark', comment)"
   ]
  },
  {
   "cell_type": "markdown",
   "metadata": {
    "slideshow": {
     "slide_type": "fragment"
    }
   },
   "source": [
    "Find all sequences of one or more word characters:"
   ]
  },
  {
   "cell_type": "code",
   "execution_count": 3,
   "metadata": {},
   "outputs": [
    {
     "data": {
      "text/plain": [
       "['It', 'was', 'a', 'dark', 'and', 'stormy', 'night']"
      ]
     },
     "execution_count": 3,
     "metadata": {},
     "output_type": "execute_result"
    }
   ],
   "source": [
    "re.findall('\\w+', comment)"
   ]
  },
  {
   "cell_type": "markdown",
   "metadata": {
    "slideshow": {
     "slide_type": "subslide"
    }
   },
   "source": [
    "## In SQL\n",
    "\n",
    "SQLite doesn't support it, but..."
   ]
  },
  {
   "cell_type": "markdown",
   "metadata": {
    "slideshow": {
     "slide_type": "fragment"
    }
   },
   "source": [
    "**MySQL**\n",
    "\n",
    "Select columns that match alphanumeric characters only:\n",
    "\n",
    "```\n",
    "SELECT * FROM table WHERE column REGEXP '^[A-Za-z0-9]+$';\n",
    "```\n",
    "\n",
    "**Postgresql**\n",
    "\n",
    "Match strings that include foo, bar, or baz:\n",
    "\n",
    "```\n",
    "SELECT * FROM table WHERE value ~ 'foo|bar|baz';\n",
    "```"
   ]
  },
  {
   "cell_type": "markdown",
   "metadata": {
    "slideshow": {
     "slide_type": "subslide"
    }
   },
   "source": [
    "## In Pandas"
   ]
  },
  {
   "cell_type": "code",
   "execution_count": 4,
   "metadata": {},
   "outputs": [
    {
     "data": {
      "text/html": [
       "<div>\n",
       "<style scoped>\n",
       "    .dataframe tbody tr th:only-of-type {\n",
       "        vertical-align: middle;\n",
       "    }\n",
       "\n",
       "    .dataframe tbody tr th {\n",
       "        vertical-align: top;\n",
       "    }\n",
       "\n",
       "    .dataframe thead th {\n",
       "        text-align: right;\n",
       "    }\n",
       "</style>\n",
       "<table border=\"1\" class=\"dataframe\">\n",
       "  <thead>\n",
       "    <tr style=\"text-align: right;\">\n",
       "      <th></th>\n",
       "      <th>userId</th>\n",
       "      <th>rating</th>\n",
       "      <th>title</th>\n",
       "      <th>genres</th>\n",
       "      <th>timestamp</th>\n",
       "      <th>year</th>\n",
       "    </tr>\n",
       "  </thead>\n",
       "  <tbody>\n",
       "    <tr>\n",
       "      <th>78484</th>\n",
       "      <td>282</td>\n",
       "      <td>3.5</td>\n",
       "      <td>Dirty Dozen, The</td>\n",
       "      <td>Action</td>\n",
       "      <td>1111611630</td>\n",
       "      <td>1967</td>\n",
       "    </tr>\n",
       "  </tbody>\n",
       "</table>\n",
       "</div>"
      ],
      "text/plain": [
       "       userId  rating             title  genres   timestamp  year\n",
       "78484     282     3.5  Dirty Dozen, The  Action  1111611630  1967"
      ]
     },
     "execution_count": 4,
     "metadata": {},
     "output_type": "execute_result"
    }
   ],
   "source": [
    "import pandas as pd\n",
    "movies = pd.read_csv('https://raw.githubusercontent.com/organisciak/Scripting-Course/master/data/movielens_small.csv')\n",
    "movies.sample()"
   ]
  },
  {
   "cell_type": "markdown",
   "metadata": {
    "slideshow": {
     "slide_type": "subslide"
    }
   },
   "source": [
    "Find movies where there is a digit (`\\d`) right before the end of the string (`$`):"
   ]
  },
  {
   "cell_type": "code",
   "execution_count": 5,
   "metadata": {
    "slideshow": {
     "slide_type": "fragment"
    }
   },
   "outputs": [
    {
     "data": {
      "text/html": [
       "<div>\n",
       "<style scoped>\n",
       "    .dataframe tbody tr th:only-of-type {\n",
       "        vertical-align: middle;\n",
       "    }\n",
       "\n",
       "    .dataframe tbody tr th {\n",
       "        vertical-align: top;\n",
       "    }\n",
       "\n",
       "    .dataframe thead th {\n",
       "        text-align: right;\n",
       "    }\n",
       "</style>\n",
       "<table border=\"1\" class=\"dataframe\">\n",
       "  <thead>\n",
       "    <tr style=\"text-align: right;\">\n",
       "      <th></th>\n",
       "      <th>userId</th>\n",
       "      <th>rating</th>\n",
       "      <th>title</th>\n",
       "      <th>genres</th>\n",
       "      <th>timestamp</th>\n",
       "      <th>year</th>\n",
       "    </tr>\n",
       "  </thead>\n",
       "  <tbody>\n",
       "    <tr>\n",
       "      <th>36811</th>\n",
       "      <td>607</td>\n",
       "      <td>4.5</td>\n",
       "      <td>Kill Bill: Vol. 2</td>\n",
       "      <td>Action</td>\n",
       "      <td>1113406147</td>\n",
       "      <td>2004</td>\n",
       "    </tr>\n",
       "    <tr>\n",
       "      <th>2043</th>\n",
       "      <td>39</td>\n",
       "      <td>4.0</td>\n",
       "      <td>Apollo 13</td>\n",
       "      <td>Adventure</td>\n",
       "      <td>832523013</td>\n",
       "      <td>1995</td>\n",
       "    </tr>\n",
       "    <tr>\n",
       "      <th>2042</th>\n",
       "      <td>34</td>\n",
       "      <td>4.0</td>\n",
       "      <td>Apollo 13</td>\n",
       "      <td>Adventure</td>\n",
       "      <td>973746527</td>\n",
       "      <td>1995</td>\n",
       "    </tr>\n",
       "    <tr>\n",
       "      <th>65679</th>\n",
       "      <td>213</td>\n",
       "      <td>2.5</td>\n",
       "      <td>District 9</td>\n",
       "      <td>Mystery</td>\n",
       "      <td>1462634092</td>\n",
       "      <td>2009</td>\n",
       "    </tr>\n",
       "    <tr>\n",
       "      <th>82253</th>\n",
       "      <td>73</td>\n",
       "      <td>1.5</td>\n",
       "      <td>Home Alone 3</td>\n",
       "      <td>Children</td>\n",
       "      <td>1255845284</td>\n",
       "      <td>1997</td>\n",
       "    </tr>\n",
       "    <tr>\n",
       "      <th>65865</th>\n",
       "      <td>423</td>\n",
       "      <td>0.5</td>\n",
       "      <td>2012</td>\n",
       "      <td>Action</td>\n",
       "      <td>1353701305</td>\n",
       "      <td>2009</td>\n",
       "    </tr>\n",
       "    <tr>\n",
       "      <th>20203</th>\n",
       "      <td>527</td>\n",
       "      <td>1.0</td>\n",
       "      <td>Lethal Weapon 4</td>\n",
       "      <td>Action</td>\n",
       "      <td>1281232047</td>\n",
       "      <td>1998</td>\n",
       "    </tr>\n",
       "    <tr>\n",
       "      <th>12684</th>\n",
       "      <td>294</td>\n",
       "      <td>3.5</td>\n",
       "      <td>Spider-Man 2</td>\n",
       "      <td>Action</td>\n",
       "      <td>1119923345</td>\n",
       "      <td>2004</td>\n",
       "    </tr>\n",
       "    <tr>\n",
       "      <th>36819</th>\n",
       "      <td>655</td>\n",
       "      <td>2.5</td>\n",
       "      <td>Kill Bill: Vol. 2</td>\n",
       "      <td>Action</td>\n",
       "      <td>1470072662</td>\n",
       "      <td>2004</td>\n",
       "    </tr>\n",
       "    <tr>\n",
       "      <th>81724</th>\n",
       "      <td>306</td>\n",
       "      <td>3.0</td>\n",
       "      <td>Airport '77</td>\n",
       "      <td>Drama</td>\n",
       "      <td>939901272</td>\n",
       "      <td>1977</td>\n",
       "    </tr>\n",
       "  </tbody>\n",
       "</table>\n",
       "</div>"
      ],
      "text/plain": [
       "       userId  rating              title     genres   timestamp  year\n",
       "36811     607     4.5  Kill Bill: Vol. 2     Action  1113406147  2004\n",
       "2043       39     4.0          Apollo 13  Adventure   832523013  1995\n",
       "2042       34     4.0          Apollo 13  Adventure   973746527  1995\n",
       "65679     213     2.5         District 9    Mystery  1462634092  2009\n",
       "82253      73     1.5       Home Alone 3   Children  1255845284  1997\n",
       "65865     423     0.5               2012     Action  1353701305  2009\n",
       "20203     527     1.0    Lethal Weapon 4     Action  1281232047  1998\n",
       "12684     294     3.5       Spider-Man 2     Action  1119923345  2004\n",
       "36819     655     2.5  Kill Bill: Vol. 2     Action  1470072662  2004\n",
       "81724     306     3.0        Airport '77      Drama   939901272  1977"
      ]
     },
     "execution_count": 5,
     "metadata": {},
     "output_type": "execute_result"
    }
   ],
   "source": [
    "matches = movies['title'].str.contains('\\d$')\n",
    "movies[matches].sample(10)"
   ]
  },
  {
   "cell_type": "markdown",
   "metadata": {
    "slideshow": {
     "slide_type": "subslide"
    }
   },
   "source": [
    "Find movies where the substring ' Part ' exists:"
   ]
  },
  {
   "cell_type": "code",
   "execution_count": 6,
   "metadata": {
    "slideshow": {
     "slide_type": "fragment"
    }
   },
   "outputs": [
    {
     "data": {
      "text/html": [
       "<div>\n",
       "<style scoped>\n",
       "    .dataframe tbody tr th:only-of-type {\n",
       "        vertical-align: middle;\n",
       "    }\n",
       "\n",
       "    .dataframe tbody tr th {\n",
       "        vertical-align: top;\n",
       "    }\n",
       "\n",
       "    .dataframe thead th {\n",
       "        text-align: right;\n",
       "    }\n",
       "</style>\n",
       "<table border=\"1\" class=\"dataframe\">\n",
       "  <thead>\n",
       "    <tr style=\"text-align: right;\">\n",
       "      <th></th>\n",
       "      <th>userId</th>\n",
       "      <th>rating</th>\n",
       "      <th>title</th>\n",
       "      <th>genres</th>\n",
       "      <th>timestamp</th>\n",
       "      <th>year</th>\n",
       "    </tr>\n",
       "  </thead>\n",
       "  <tbody>\n",
       "    <tr>\n",
       "      <th>88805</th>\n",
       "      <td>95</td>\n",
       "      <td>4.0</td>\n",
       "      <td>Fright Night Part II</td>\n",
       "      <td>Horror</td>\n",
       "      <td>1019023671</td>\n",
       "      <td>1988</td>\n",
       "    </tr>\n",
       "    <tr>\n",
       "      <th>41343</th>\n",
       "      <td>316</td>\n",
       "      <td>4.0</td>\n",
       "      <td>Harry Potter and the Deathly Hallows: Part 1</td>\n",
       "      <td>Action</td>\n",
       "      <td>1460822796</td>\n",
       "      <td>2010</td>\n",
       "    </tr>\n",
       "    <tr>\n",
       "      <th>41327</th>\n",
       "      <td>13</td>\n",
       "      <td>4.5</td>\n",
       "      <td>Harry Potter and the Deathly Hallows: Part 1</td>\n",
       "      <td>Action</td>\n",
       "      <td>1331380387</td>\n",
       "      <td>2010</td>\n",
       "    </tr>\n",
       "    <tr>\n",
       "      <th>25114</th>\n",
       "      <td>163</td>\n",
       "      <td>5.0</td>\n",
       "      <td>Godfather: Part II, The</td>\n",
       "      <td>Crime</td>\n",
       "      <td>1294084374</td>\n",
       "      <td>1974</td>\n",
       "    </tr>\n",
       "    <tr>\n",
       "      <th>25108</th>\n",
       "      <td>118</td>\n",
       "      <td>5.0</td>\n",
       "      <td>Godfather: Part II, The</td>\n",
       "      <td>Crime</td>\n",
       "      <td>950153998</td>\n",
       "      <td>1974</td>\n",
       "    </tr>\n",
       "    <tr>\n",
       "      <th>73552</th>\n",
       "      <td>350</td>\n",
       "      <td>4.0</td>\n",
       "      <td>Rambo: First Blood Part II</td>\n",
       "      <td>Action</td>\n",
       "      <td>1026761580</td>\n",
       "      <td>1985</td>\n",
       "    </tr>\n",
       "    <tr>\n",
       "      <th>43898</th>\n",
       "      <td>518</td>\n",
       "      <td>1.0</td>\n",
       "      <td>Hot Shots! Part Deux</td>\n",
       "      <td>Action</td>\n",
       "      <td>945365087</td>\n",
       "      <td>1993</td>\n",
       "    </tr>\n",
       "    <tr>\n",
       "      <th>50254</th>\n",
       "      <td>119</td>\n",
       "      <td>2.0</td>\n",
       "      <td>Back to the Future Part III</td>\n",
       "      <td>Adventure</td>\n",
       "      <td>913050261</td>\n",
       "      <td>1990</td>\n",
       "    </tr>\n",
       "    <tr>\n",
       "      <th>25118</th>\n",
       "      <td>198</td>\n",
       "      <td>5.0</td>\n",
       "      <td>Godfather: Part II, The</td>\n",
       "      <td>Crime</td>\n",
       "      <td>1068822896</td>\n",
       "      <td>1974</td>\n",
       "    </tr>\n",
       "    <tr>\n",
       "      <th>50222</th>\n",
       "      <td>560</td>\n",
       "      <td>5.0</td>\n",
       "      <td>Back to the Future Part II</td>\n",
       "      <td>Adventure</td>\n",
       "      <td>1452849491</td>\n",
       "      <td>1989</td>\n",
       "    </tr>\n",
       "  </tbody>\n",
       "</table>\n",
       "</div>"
      ],
      "text/plain": [
       "       userId  rating                                         title  \\\n",
       "88805      95     4.0                          Fright Night Part II   \n",
       "41343     316     4.0  Harry Potter and the Deathly Hallows: Part 1   \n",
       "41327      13     4.5  Harry Potter and the Deathly Hallows: Part 1   \n",
       "25114     163     5.0                       Godfather: Part II, The   \n",
       "25108     118     5.0                       Godfather: Part II, The   \n",
       "73552     350     4.0                    Rambo: First Blood Part II   \n",
       "43898     518     1.0                          Hot Shots! Part Deux   \n",
       "50254     119     2.0                   Back to the Future Part III   \n",
       "25118     198     5.0                       Godfather: Part II, The   \n",
       "50222     560     5.0                    Back to the Future Part II   \n",
       "\n",
       "          genres   timestamp  year  \n",
       "88805     Horror  1019023671  1988  \n",
       "41343     Action  1460822796  2010  \n",
       "41327     Action  1331380387  2010  \n",
       "25114      Crime  1294084374  1974  \n",
       "25108      Crime   950153998  1974  \n",
       "73552     Action  1026761580  1985  \n",
       "43898     Action   945365087  1993  \n",
       "50254  Adventure   913050261  1990  \n",
       "25118      Crime  1068822896  1974  \n",
       "50222  Adventure  1452849491  1989  "
      ]
     },
     "execution_count": 6,
     "metadata": {},
     "output_type": "execute_result"
    }
   ],
   "source": [
    "matches = movies.title.str.contains(' Part ')\n",
    "movies[matches].sample(10)"
   ]
  },
  {
   "cell_type": "markdown",
   "metadata": {
    "slideshow": {
     "slide_type": "subslide"
    }
   },
   "source": [
    "Find movies that are named \"The ... of ...\""
   ]
  },
  {
   "cell_type": "code",
   "execution_count": 7,
   "metadata": {
    "scrolled": false,
    "slideshow": {
     "slide_type": "fragment"
    }
   },
   "outputs": [
    {
     "data": {
      "text/html": [
       "<div>\n",
       "<style scoped>\n",
       "    .dataframe tbody tr th:only-of-type {\n",
       "        vertical-align: middle;\n",
       "    }\n",
       "\n",
       "    .dataframe tbody tr th {\n",
       "        vertical-align: top;\n",
       "    }\n",
       "\n",
       "    .dataframe thead th {\n",
       "        text-align: right;\n",
       "    }\n",
       "</style>\n",
       "<table border=\"1\" class=\"dataframe\">\n",
       "  <thead>\n",
       "    <tr style=\"text-align: right;\">\n",
       "      <th></th>\n",
       "      <th>userId</th>\n",
       "      <th>rating</th>\n",
       "      <th>title</th>\n",
       "      <th>genres</th>\n",
       "      <th>timestamp</th>\n",
       "      <th>year</th>\n",
       "    </tr>\n",
       "  </thead>\n",
       "  <tbody>\n",
       "    <tr>\n",
       "      <th>36105</th>\n",
       "      <td>386</td>\n",
       "      <td>3.0</td>\n",
       "      <td>The Count of Monte Cristo</td>\n",
       "      <td>Action</td>\n",
       "      <td>1047028511</td>\n",
       "      <td>2002</td>\n",
       "    </tr>\n",
       "    <tr>\n",
       "      <th>92516</th>\n",
       "      <td>564</td>\n",
       "      <td>4.0</td>\n",
       "      <td>The Golden Voyage of Sinbad</td>\n",
       "      <td>Action</td>\n",
       "      <td>974713375</td>\n",
       "      <td>1973</td>\n",
       "    </tr>\n",
       "    <tr>\n",
       "      <th>36117</th>\n",
       "      <td>664</td>\n",
       "      <td>4.0</td>\n",
       "      <td>The Count of Monte Cristo</td>\n",
       "      <td>Action</td>\n",
       "      <td>1393891028</td>\n",
       "      <td>2002</td>\n",
       "    </tr>\n",
       "    <tr>\n",
       "      <th>68247</th>\n",
       "      <td>15</td>\n",
       "      <td>1.0</td>\n",
       "      <td>The Theory of Everything</td>\n",
       "      <td>Drama</td>\n",
       "      <td>1425875426</td>\n",
       "      <td>2014</td>\n",
       "    </tr>\n",
       "    <tr>\n",
       "      <th>68276</th>\n",
       "      <td>287</td>\n",
       "      <td>5.0</td>\n",
       "      <td>The Hobbit: The Battle of the Five Armies</td>\n",
       "      <td>Adventure</td>\n",
       "      <td>1469162192</td>\n",
       "      <td>2014</td>\n",
       "    </tr>\n",
       "    <tr>\n",
       "      <th>97198</th>\n",
       "      <td>402</td>\n",
       "      <td>4.0</td>\n",
       "      <td>The Best of Me</td>\n",
       "      <td>Drama</td>\n",
       "      <td>1462948242</td>\n",
       "      <td>2014</td>\n",
       "    </tr>\n",
       "    <tr>\n",
       "      <th>75357</th>\n",
       "      <td>23</td>\n",
       "      <td>3.0</td>\n",
       "      <td>The Importance of Being Earnest</td>\n",
       "      <td>Comedy</td>\n",
       "      <td>1148669643</td>\n",
       "      <td>1952</td>\n",
       "    </tr>\n",
       "    <tr>\n",
       "      <th>92202</th>\n",
       "      <td>176</td>\n",
       "      <td>1.0</td>\n",
       "      <td>The Scorpion King: Rise of a Warrior</td>\n",
       "      <td>Action</td>\n",
       "      <td>1340915855</td>\n",
       "      <td>2008</td>\n",
       "    </tr>\n",
       "    <tr>\n",
       "      <th>36102</th>\n",
       "      <td>294</td>\n",
       "      <td>4.0</td>\n",
       "      <td>The Count of Monte Cristo</td>\n",
       "      <td>Action</td>\n",
       "      <td>1112390008</td>\n",
       "      <td>2002</td>\n",
       "    </tr>\n",
       "    <tr>\n",
       "      <th>36108</th>\n",
       "      <td>468</td>\n",
       "      <td>2.5</td>\n",
       "      <td>The Count of Monte Cristo</td>\n",
       "      <td>Action</td>\n",
       "      <td>1296193249</td>\n",
       "      <td>2002</td>\n",
       "    </tr>\n",
       "  </tbody>\n",
       "</table>\n",
       "</div>"
      ],
      "text/plain": [
       "       userId  rating                                      title     genres  \\\n",
       "36105     386     3.0                  The Count of Monte Cristo     Action   \n",
       "92516     564     4.0                The Golden Voyage of Sinbad     Action   \n",
       "36117     664     4.0                  The Count of Monte Cristo     Action   \n",
       "68247      15     1.0                   The Theory of Everything      Drama   \n",
       "68276     287     5.0  The Hobbit: The Battle of the Five Armies  Adventure   \n",
       "97198     402     4.0                             The Best of Me      Drama   \n",
       "75357      23     3.0            The Importance of Being Earnest     Comedy   \n",
       "92202     176     1.0       The Scorpion King: Rise of a Warrior     Action   \n",
       "36102     294     4.0                  The Count of Monte Cristo     Action   \n",
       "36108     468     2.5                  The Count of Monte Cristo     Action   \n",
       "\n",
       "        timestamp  year  \n",
       "36105  1047028511  2002  \n",
       "92516   974713375  1973  \n",
       "36117  1393891028  2002  \n",
       "68247  1425875426  2014  \n",
       "68276  1469162192  2014  \n",
       "97198  1462948242  2014  \n",
       "75357  1148669643  1952  \n",
       "92202  1340915855  2008  \n",
       "36102  1112390008  2002  \n",
       "36108  1296193249  2002  "
      ]
     },
     "execution_count": 7,
     "metadata": {},
     "output_type": "execute_result"
    }
   ],
   "source": [
    "matches = movies.title.str.contains('^The .+ of ')\n",
    "movies[matches].sample(10)"
   ]
  },
  {
   "cell_type": "markdown",
   "metadata": {
    "slideshow": {
     "slide_type": "subslide"
    }
   },
   "source": [
    "## In MongoDB"
   ]
  },
  {
   "cell_type": "code",
   "execution_count": null,
   "metadata": {},
   "outputs": [],
   "source": [
    "from pymongo import MongoClient\n",
    "client = MongoClient()\n",
    "db = client.week7\n",
    "collection = db.cooking"
   ]
  },
  {
   "cell_type": "markdown",
   "metadata": {
    "slideshow": {
     "slide_type": "subslide"
    }
   },
   "source": [
    "Find an recipe with an ingredient called \"yellow ...\""
   ]
  },
  {
   "cell_type": "code",
   "execution_count": 10,
   "metadata": {
    "slideshow": {
     "slide_type": "fragment"
    }
   },
   "outputs": [
    {
     "data": {
      "text/plain": [
       "{'_id': ObjectId('5cedb796db075a25e4ac71b5'),\n",
       " 'cuisine': 'southern_us',\n",
       " 'id': 25693,\n",
       " 'ingredients': ['plain flour',\n",
       "  'ground pepper',\n",
       "  'salt',\n",
       "  'tomatoes',\n",
       "  'ground black pepper',\n",
       "  'thyme',\n",
       "  'eggs',\n",
       "  'green tomatoes',\n",
       "  'yellow corn meal',\n",
       "  'milk',\n",
       "  'vegetable oil']}"
      ]
     },
     "execution_count": 10,
     "metadata": {},
     "output_type": "execute_result"
    }
   ],
   "source": [
    "collection.find_one({\n",
    "    \"ingredients\": {\"$regex\": \"yellow .*\"}\n",
    "})"
   ]
  },
  {
   "cell_type": "markdown",
   "metadata": {
    "slideshow": {
     "slide_type": "subslide"
    }
   },
   "source": [
    "After unwinding the recipes to one doc per ingredient, find ingredients with a qualified salt:"
   ]
  },
  {
   "cell_type": "code",
   "execution_count": 24,
   "metadata": {
    "slideshow": {
     "slide_type": "fragment"
    }
   },
   "outputs": [
    {
     "data": {
      "text/plain": [
       "[{'ingredients': 'sea salt'},\n",
       " {'ingredients': 'kosher salt'},\n",
       " {'ingredients': 'fine sea salt'},\n",
       " {'ingredients': 'kosher salt'},\n",
       " {'ingredients': 'kosher salt'}]"
      ]
     },
     "execution_count": 24,
     "metadata": {},
     "output_type": "execute_result"
    }
   ],
   "source": [
    "pipeline = [\n",
    "    { \"$unwind\": \"$ingredients\" },\n",
    "    { \"$project\": {\"ingredients\": 1, \"_id\":0} },\n",
    "    { \"$match\":{\n",
    "        \"ingredients\": {\"$regex\": \"^.+ salt\" }\n",
    "        }\n",
    "    },\n",
    "    { \"$limit\": 5 }\n",
    "]\n",
    "results = collection.aggregate(pipeline)\n",
    "list(results)"
   ]
  },
  {
   "cell_type": "markdown",
   "metadata": {
    "slideshow": {
     "slide_type": "subslide"
    }
   },
   "source": [
    "Count the qualified salt types:"
   ]
  },
  {
   "cell_type": "code",
   "execution_count": 25,
   "metadata": {
    "slideshow": {
     "slide_type": "fragment"
    }
   },
   "outputs": [
    {
     "data": {
      "text/plain": [
       "[{'_id': 'kosher salt', 'count': 3113},\n",
       " {'_id': 'sea salt', 'count': 940},\n",
       " {'_id': 'coarse salt', 'count': 578},\n",
       " {'_id': 'fine sea salt', 'count': 285},\n",
       " {'_id': 'garlic salt', 'count': 240},\n",
       " {'_id': 'seasoning salt', 'count': 131},\n",
       " {'_id': 'table salt', 'count': 79},\n",
       " {'_id': 'coarse sea salt', 'count': 68},\n",
       " {'_id': 'coarse kosher salt', 'count': 64},\n",
       " {'_id': 'celery salt', 'count': 52},\n",
       " {'_id': 'fine salt', 'count': 24},\n",
       " {'_id': 'onion salt', 'count': 15},\n",
       " {'_id': 'rock salt', 'count': 14},\n",
       " {'_id': 'black salt', 'count': 12},\n",
       " {'_id': 'pickling salt', 'count': 12},\n",
       " {'_id': 'Himalayan salt', 'count': 11},\n",
       " {'_id': 'celtic salt', 'count': 9},\n",
       " {'_id': 'maldon sea salt', 'count': 8},\n",
       " {'_id': 'smoked sea salt', 'count': 6},\n",
       " {'_id': 'iodized salt', 'count': 4}]"
      ]
     },
     "execution_count": 25,
     "metadata": {},
     "output_type": "execute_result"
    }
   ],
   "source": [
    "pipeline = [\n",
    "    { \"$unwind\": \"$ingredients\" },\n",
    "    { \"$project\": {\"ingredients\": 1, \"_id\":0} },\n",
    "    { \"$match\":{ \"ingredients\": {\"$regex\": \"^.+ salt$\" } } },\n",
    "    { \"$group\":{\n",
    "        \"_id\": \"$ingredients\", \"count\": {\"$sum\": 1} } \n",
    "    },\n",
    "    { \"$sort\": { \"count\": -1} },\n",
    "    { \"$limit\": 20 }\n",
    "]\n",
    "results = collection.aggregate(pipeline)\n",
    "list(results)"
   ]
  },
  {
   "cell_type": "markdown",
   "metadata": {
    "slideshow": {
     "slide_type": "subslide"
    }
   },
   "source": [
    "### Note on variation\n",
    "\n",
    "- Regular Expressions are *close* to standard, but different implementations are slightly different."
   ]
  },
  {
   "cell_type": "markdown",
   "metadata": {
    "slideshow": {
     "slide_type": "subslide"
    }
   },
   "source": [
    "## Basics of Regular Expressions"
   ]
  },
  {
   "cell_type": "markdown",
   "metadata": {
    "slideshow": {
     "slide_type": "-"
    }
   },
   "source": [
    "In this class: we'll cover the basics, practiced in Python and Pandas."
   ]
  },
  {
   "cell_type": "markdown",
   "metadata": {
    "slideshow": {
     "slide_type": "fragment"
    }
   },
   "source": [
    "To follow along:"
   ]
  },
  {
   "cell_type": "code",
   "execution_count": 5,
   "metadata": {
    "slideshow": {
     "slide_type": "-"
    }
   },
   "outputs": [],
   "source": [
    "import re"
   ]
  },
  {
   "cell_type": "code",
   "execution_count": 8,
   "metadata": {},
   "outputs": [
    {
     "data": {
      "text/plain": [
       "['it', 'was', 'a', 'dark', 'and', 'stormy', 'night']"
      ]
     },
     "execution_count": 8,
     "metadata": {},
     "output_type": "execute_result"
    }
   ],
   "source": [
    "text = \"it was a dark and stormy night.\"\n",
    "re.findall('\\w+', text)"
   ]
  },
  {
   "cell_type": "markdown",
   "metadata": {
    "slideshow": {
     "slide_type": "subslide"
    }
   },
   "source": [
    "## Wild Cards"
   ]
  },
  {
   "cell_type": "markdown",
   "metadata": {
    "slideshow": {
     "slide_type": "subslide"
    }
   },
   "source": [
    "`a` - Match the letter 'a'. Same for most other characters"
   ]
  },
  {
   "cell_type": "code",
   "execution_count": 9,
   "metadata": {
    "slideshow": {
     "slide_type": "fragment"
    }
   },
   "outputs": [
    {
     "data": {
      "text/plain": [
       "['o', 'o', 'o']"
      ]
     },
     "execution_count": 9,
     "metadata": {},
     "output_type": "execute_result"
    }
   ],
   "source": [
    "text = \"Colorado\"\n",
    "re.findall('o', text)"
   ]
  },
  {
   "cell_type": "code",
   "execution_count": 10,
   "metadata": {
    "scrolled": false,
    "slideshow": {
     "slide_type": "fragment"
    }
   },
   "outputs": [
    {
     "data": {
      "text/plain": [
       "['Buffalo buffalo', 'Buffalo buffalo', 'Buffalo buffalo']"
      ]
     },
     "execution_count": 10,
     "metadata": {},
     "output_type": "execute_result"
    }
   ],
   "source": [
    "text = \"Buffalo buffalo Buffalo buffalo buffalo buffalo Buffalo buffalo\"\n",
    "re.findall('Buffalo buffalo', text)"
   ]
  },
  {
   "cell_type": "markdown",
   "metadata": {
    "slideshow": {
     "slide_type": "subslide"
    }
   },
   "source": [
    "`.` - Match any single character"
   ]
  },
  {
   "cell_type": "code",
   "execution_count": 13,
   "metadata": {
    "slideshow": {
     "slide_type": "fragment"
    }
   },
   "outputs": [
    {
     "data": {
      "text/plain": [
       "['who', 'wha', 'whe', 'why']"
      ]
     },
     "execution_count": 13,
     "metadata": {},
     "output_type": "execute_result"
    }
   ],
   "source": [
    "text = \"who, what, where, why, and how\"\n",
    "re.findall('wh.', text)"
   ]
  },
  {
   "cell_type": "code",
   "execution_count": 14,
   "metadata": {
    "slideshow": {
     "slide_type": "fragment"
    }
   },
   "outputs": [
    {
     "data": {
      "text/plain": [
       "['who,', 'why,']"
      ]
     },
     "execution_count": 14,
     "metadata": {},
     "output_type": "execute_result"
    }
   ],
   "source": [
    "text = \"who, what, where, why, and how\"\n",
    "re.findall('wh.,', text)"
   ]
  },
  {
   "cell_type": "markdown",
   "metadata": {
    "slideshow": {
     "slide_type": "subslide"
    }
   },
   "source": [
    "- `\\w` - Match any word character (letters, number... support for non-English characters varies)\n",
    "- `\\W` - Match any non-word characters"
   ]
  },
  {
   "cell_type": "code",
   "execution_count": 28,
   "metadata": {
    "slideshow": {
     "slide_type": "fragment"
    }
   },
   "outputs": [
    {
     "data": {
      "text/plain": [
       "['Who,', 'hat,', 'ere,', 'why,']"
      ]
     },
     "execution_count": 28,
     "metadata": {},
     "output_type": "execute_result"
    }
   ],
   "source": [
    "text = \"Who, what, where, why, and how\"\n",
    "re.findall('\\w\\w\\w,', text)"
   ]
  },
  {
   "cell_type": "code",
   "execution_count": 13,
   "metadata": {
    "slideshow": {
     "slide_type": "fragment"
    }
   },
   "outputs": [
    {
     "data": {
      "text/plain": [
       "['W',\n",
       " 'h',\n",
       " 'o',\n",
       " 'w',\n",
       " 'h',\n",
       " 'a',\n",
       " 't',\n",
       " 'w',\n",
       " 'h',\n",
       " 'e',\n",
       " 'r',\n",
       " 'e',\n",
       " 'w',\n",
       " 'h',\n",
       " 'y',\n",
       " 'a',\n",
       " 'n',\n",
       " 'd',\n",
       " 'h',\n",
       " 'o',\n",
       " 'w']"
      ]
     },
     "execution_count": 13,
     "metadata": {},
     "output_type": "execute_result"
    }
   ],
   "source": [
    "text = \"Who, what, where, why, and how\"\n",
    "re.findall('\\w', text)"
   ]
  },
  {
   "cell_type": "markdown",
   "metadata": {
    "slideshow": {
     "slide_type": "subslide"
    }
   },
   "source": [
    "`\\d` - Match any digit"
   ]
  },
  {
   "cell_type": "code",
   "execution_count": 14,
   "metadata": {
    "slideshow": {
     "slide_type": "fragment"
    }
   },
   "outputs": [
    {
     "data": {
      "text/plain": [
       "['1', '9', '9', '9']"
      ]
     },
     "execution_count": 14,
     "metadata": {},
     "output_type": "execute_result"
    }
   ],
   "source": [
    "text = \"Party like it's 1999\"\n",
    "re.findall('\\d', text)"
   ]
  },
  {
   "cell_type": "code",
   "execution_count": 17,
   "metadata": {
    "scrolled": true,
    "slideshow": {
     "slide_type": "fragment"
    }
   },
   "outputs": [
    {
     "data": {
      "text/plain": [
       "['1999']"
      ]
     },
     "execution_count": 17,
     "metadata": {},
     "output_type": "execute_result"
    }
   ],
   "source": [
    "text = \"Party like it's 1999\"\n",
    "re.findall('\\d\\d\\d\\d', text)"
   ]
  },
  {
   "cell_type": "markdown",
   "metadata": {
    "slideshow": {
     "slide_type": "subslide"
    }
   },
   "source": [
    "### *What if I want to match an actual backslash or period?*"
   ]
  },
  {
   "cell_type": "markdown",
   "metadata": {
    "slideshow": {
     "slide_type": "-"
    }
   },
   "source": [
    "This is a problem:"
   ]
  },
  {
   "cell_type": "code",
   "execution_count": 15,
   "metadata": {
    "slideshow": {
     "slide_type": "-"
    }
   },
   "outputs": [
    {
     "data": {
      "text/plain": [
       "['Dr.', 'Dri']"
      ]
     },
     "execution_count": 15,
     "metadata": {},
     "output_type": "execute_result"
    }
   ],
   "source": [
    "text = \"Dr. Jones Drinks Too Much\"\n",
    "re.findall('Dr.', text)"
   ]
  },
  {
   "cell_type": "markdown",
   "metadata": {
    "slideshow": {
     "slide_type": "fragment"
    }
   },
   "source": [
    "Precede the character with a backslash\n",
    "\n",
    "E.g.\n",
    "\n",
    "- `.` - Matches *any* character\n",
    "- `\\.` - Matches a literal period"
   ]
  },
  {
   "cell_type": "code",
   "execution_count": 19,
   "metadata": {
    "slideshow": {
     "slide_type": "-"
    }
   },
   "outputs": [
    {
     "data": {
      "text/plain": [
       "['Dr.']"
      ]
     },
     "execution_count": 19,
     "metadata": {},
     "output_type": "execute_result"
    }
   ],
   "source": [
    "re.findall('Dr\\.', text)"
   ]
  },
  {
   "cell_type": "markdown",
   "metadata": {
    "slideshow": {
     "slide_type": "subslide"
    }
   },
   "source": [
    "## Reference (so far)\n",
    "- `a` - Match the letter 'a'. Same for most other characters\n",
    "- `\\w` - Match any word character (letters, number... support for non-English characters varies)\n",
    "- `\\W` - Match any non-word characters\n",
    "- `\\d` - Match any digit\n",
    "- `.` - Matches *any* character\n",
    "- `\\.` - Matches a literal period\n",
    "\n",
    "Let's try the first few lab questions - 1.1. to 1.4."
   ]
  },
  {
   "cell_type": "markdown",
   "metadata": {
    "slideshow": {
     "slide_type": "subslide"
    }
   },
   "source": [
    "`\\s` - Match any whitespace character (space, tabs, line breaks sometimes)"
   ]
  },
  {
   "cell_type": "markdown",
   "metadata": {
    "slideshow": {
     "slide_type": "fragment"
    }
   },
   "source": [
    "*What will this return?*"
   ]
  },
  {
   "cell_type": "code",
   "execution_count": 20,
   "metadata": {
    "slideshow": {
     "slide_type": "fragment"
    }
   },
   "outputs": [
    {
     "data": {
      "text/plain": [
       "[' over ', ' lazy ']"
      ]
     },
     "execution_count": 20,
     "metadata": {},
     "output_type": "execute_result"
    }
   ],
   "source": [
    "text = \"The quick brown fox jumped over the lazy yellow dog\"\n",
    "re.findall('\\s....\\s', text)"
   ]
  },
  {
   "cell_type": "markdown",
   "metadata": {
    "slideshow": {
     "slide_type": "subslide"
    }
   },
   "source": [
    "`[ab]` - Group of multiple possible characters - in this case 'a' or 'b'"
   ]
  },
  {
   "cell_type": "code",
   "execution_count": 21,
   "metadata": {
    "slideshow": {
     "slide_type": "fragment"
    }
   },
   "outputs": [
    {
     "data": {
      "text/plain": [
       "['The', 'the']"
      ]
     },
     "execution_count": 21,
     "metadata": {},
     "output_type": "execute_result"
    }
   ],
   "source": [
    "text = \"The quick brown fox jumped over the lazy yellow dog\"\n",
    "re.findall('[Tt]he', text)"
   ]
  },
  {
   "cell_type": "markdown",
   "metadata": {
    "slideshow": {
     "slide_type": "subslide"
    }
   },
   "source": [
    "- `[a-z]` matches any character from a to z\n",
    "- `[A-Z]` matches any character from A to Z"
   ]
  },
  {
   "cell_type": "code",
   "execution_count": 16,
   "metadata": {
    "slideshow": {
     "slide_type": "fragment"
    }
   },
   "outputs": [
    {
     "data": {
      "text/plain": [
       "['SPAM']"
      ]
     },
     "execution_count": 16,
     "metadata": {},
     "output_type": "execute_result"
    }
   ],
   "source": [
    "text = \"text 1-800-SPAM for more information\"\n",
    "re.findall('[A-Z][A-Z][A-Z][A-Z]', text)"
   ]
  },
  {
   "cell_type": "markdown",
   "metadata": {
    "slideshow": {
     "slide_type": "fragment"
    }
   },
   "source": [
    "Those square brackets are same as before, so you can group A-Z with other matches.\n",
    "\n",
    "e.g. Match capital letters, digits, or hyphens:"
   ]
  },
  {
   "cell_type": "code",
   "execution_count": 23,
   "metadata": {},
   "outputs": [
    {
     "data": {
      "text/plain": [
       "['1-800-SPAM']"
      ]
     },
     "execution_count": 23,
     "metadata": {},
     "output_type": "execute_result"
    }
   ],
   "source": [
    "text = \"text 1-800-SPAM for more information\"\n",
    "re.findall('[\\d\\-A-Z]+', text)"
   ]
  },
  {
   "cell_type": "markdown",
   "metadata": {
    "slideshow": {
     "slide_type": "fragment"
    }
   },
   "source": [
    "*Note above that a hyphen is another special character, so matching for a literal `-` is done with `\\-`.*"
   ]
  },
  {
   "cell_type": "markdown",
   "metadata": {
    "slideshow": {
     "slide_type": "subslide"
    }
   },
   "source": [
    "Returning to the earlier data."
   ]
  },
  {
   "cell_type": "code",
   "execution_count": 17,
   "metadata": {},
   "outputs": [],
   "source": [
    "titles = movies.title.drop_duplicates()"
   ]
  },
  {
   "cell_type": "markdown",
   "metadata": {
    "slideshow": {
     "slide_type": "fragment"
    }
   },
   "source": [
    "\"The (single word) of ...\""
   ]
  },
  {
   "cell_type": "code",
   "execution_count": 18,
   "metadata": {
    "slideshow": {
     "slide_type": "-"
    }
   },
   "outputs": [
    {
     "data": {
      "text/plain": [
       "99821                       The Face of an Angel\n",
       "99139                        The End of the Tour\n",
       "75357            The Importance of Being Earnest\n",
       "68247                   The Theory of Everything\n",
       "94869             The Possession of Michael King\n",
       "93216                    The Diary of Anne Frank\n",
       "96669    The Disappearance of Eleanor Rigby: Her\n",
       "36095                  The Count of Monte Cristo\n",
       "94735                  The Plague of the Zombies\n",
       "97199                           The Book of Life\n",
       "Name: title, dtype: object"
      ]
     },
     "execution_count": 18,
     "metadata": {},
     "output_type": "execute_result"
    }
   ],
   "source": [
    "matches = titles.str.contains('^The \\w+ of ')\n",
    "titles[matches].sample(10)"
   ]
  },
  {
   "cell_type": "code",
   "execution_count": 19,
   "metadata": {
    "slideshow": {
     "slide_type": "subslide"
    }
   },
   "outputs": [
    {
     "data": {
      "text/plain": [
       "85974                          Carnosaur 3: Primal Species\n",
       "44442                        Kids in the Hall: Brain Candy\n",
       "97936                                 Imagine: John Lennon\n",
       "87777                                Underworld: Evolution\n",
       "48488                              Speed 2: Cruise Control\n",
       "94916                               Madonna: Truth or Dare\n",
       "85005               Children of the Corn IV: The Gathering\n",
       "88472                  The Butterfly Effect 3: Revelations\n",
       "85954    Teenage Mutant Ninja Turtles II: The Secret of...\n",
       "73527                         History of the World: Part I\n",
       "Name: title, dtype: object"
      ]
     },
     "execution_count": 19,
     "metadata": {},
     "output_type": "execute_result"
    }
   ],
   "source": [
    "matches = titles.str.contains(':')\n",
    "titles[matches].sample(10)"
   ]
  },
  {
   "cell_type": "code",
   "execution_count": 25,
   "metadata": {
    "slideshow": {
     "slide_type": "subslide"
    }
   },
   "outputs": [
    {
     "data": {
      "text/plain": [
       "259                  Ben-Hur\n",
       "12000             Spider-Man\n",
       "40269                  X-Men\n",
       "55032                  U-571\n",
       "58796             Scooby-Doo\n",
       "61252              Fail-Safe\n",
       "65729                G-Force\n",
       "66092               Kick-Ass\n",
       "68396                Ant-Man\n",
       "69332            Re-Animator\n",
       "69765    Slaughterhouse-Five\n",
       "81831                  K-PAX\n",
       "83228                 BURN-E\n",
       "83394               Non-Stop\n",
       "83908               Bio-Dome\n",
       "89557            Topsy-Turvy\n",
       "93256               Cry-Baby\n",
       "94106              She-Devil\n",
       "95079               Kon-Tiki\n",
       "96155              De-Lovely\n",
       "96602               Catch-22\n",
       "96617                Ben-hur\n",
       "96717               Semi-Pro\n",
       "98638                  T-Men\n",
       "99056     Shakespeare-Wallah\n",
       "99971        Straight-Jacket\n",
       "Name: title, dtype: object"
      ]
     },
     "execution_count": 25,
     "metadata": {},
     "output_type": "execute_result"
    }
   ],
   "source": [
    "matches = titles.str.contains(\"^\\w+\\-\\w+$\")\n",
    "titles[matches]"
   ]
  },
  {
   "cell_type": "markdown",
   "metadata": {
    "slideshow": {
     "slide_type": "subslide"
    }
   },
   "source": [
    "## Reference (so far)\n",
    "- `a` - Match the letter `a`. Same for most other characters\n",
    "- `.` - Match any single character\n",
    "- `\\w` - Match any word character (letters, number... support for non-English characters varies)\n",
    "- `\\W` - Match any non-word characters\n",
    "- `\\d` - Match any digit\n",
    "- `.` - Matches *any* character\n",
    "- `\\.` - Matches a literal period\n",
    "- `\\s` - Match any whitespace character (space, tabs, line breaks sometimes)\n",
    "- `[ab]` - Group of multiple possible characters - in this case `a` or `b`\n",
    "- `[a-z]` matches any character from a to z\n",
    "- `[A-Z]` matches any character from A to Z\n",
    "- `[A-Zab]` matches any character from A to Z (`A-Z`), *or* `a` *or* `b`"
   ]
  },
  {
   "cell_type": "markdown",
   "metadata": {
    "slideshow": {
     "slide_type": "slide"
    }
   },
   "source": [
    "## Repetition"
   ]
  },
  {
   "cell_type": "markdown",
   "metadata": {
    "slideshow": {
     "slide_type": "subslide"
    }
   },
   "source": [
    "`?` - One or zero of the preceding match"
   ]
  },
  {
   "cell_type": "code",
   "execution_count": 20,
   "metadata": {
    "slideshow": {
     "slide_type": "fragment"
    }
   },
   "outputs": [
    {
     "data": {
      "text/plain": [
       "['color', 'colour']"
      ]
     },
     "execution_count": 20,
     "metadata": {},
     "output_type": "execute_result"
    }
   ],
   "source": [
    "text = \"color colour\"\n",
    "re.findall('colou?r', text)"
   ]
  },
  {
   "cell_type": "markdown",
   "metadata": {
    "slideshow": {
     "slide_type": "subslide"
    }
   },
   "source": [
    "- `+` - One or more of the preceding match\n",
    "- `*` - Zero or more of the preceding match"
   ]
  },
  {
   "cell_type": "code",
   "execution_count": 22,
   "metadata": {},
   "outputs": [
    {
     "data": {
      "text/plain": [
       "['GOAL', 'GOOOOOOOOOAAAAAAL']"
      ]
     },
     "execution_count": 22,
     "metadata": {},
     "output_type": "execute_result"
    }
   ],
   "source": [
    "text = \"GOAL GOOOOOOOOOAAAAAAL GAL\"\n",
    "re.findall('GO+A+L', text)"
   ]
  },
  {
   "cell_type": "code",
   "execution_count": 34,
   "metadata": {},
   "outputs": [
    {
     "data": {
      "text/plain": [
       "['GOAL']"
      ]
     },
     "execution_count": 34,
     "metadata": {},
     "output_type": "execute_result"
    }
   ],
   "source": [
    "text = \"GOAL\"\n",
    "re.findall('GO+A+L', text)"
   ]
  },
  {
   "cell_type": "markdown",
   "metadata": {
    "slideshow": {
     "slide_type": "subslide"
    }
   },
   "source": [
    "`*` and `+` are *greedy* in Python. They will grab as much as possible. "
   ]
  },
  {
   "cell_type": "code",
   "execution_count": 23,
   "metadata": {},
   "outputs": [
    {
     "data": {
      "text/plain": [
       "['<p>Something or other</p><p>Yet more junk.</p>']"
      ]
     },
     "execution_count": 23,
     "metadata": {},
     "output_type": "execute_result"
    }
   ],
   "source": [
    "text = \"<p>Something or other</p><p>Yet more junk.</p>\" \n",
    "re.findall('<p>.*</p>', text)"
   ]
  },
  {
   "cell_type": "code",
   "execution_count": 26,
   "metadata": {
    "scrolled": true
   },
   "outputs": [
    {
     "data": {
      "text/plain": [
       "['foo1@gmail.com;b-a-r@gmail.com;baz@gmail.com']"
      ]
     },
     "execution_count": 26,
     "metadata": {},
     "output_type": "execute_result"
    }
   ],
   "source": [
    "text = \"foo1@gmail.com;b-a-r@gmail.com;baz@gmail.com\" \n",
    "re.findall('\\w.*@gmail.com', text)"
   ]
  },
  {
   "cell_type": "markdown",
   "metadata": {
    "slideshow": {
     "slide_type": "fragment"
    }
   },
   "source": [
    "`*?` is the *lazy* alternative, it will grab as little as possible."
   ]
  },
  {
   "cell_type": "code",
   "execution_count": 91,
   "metadata": {},
   "outputs": [
    {
     "data": {
      "text/plain": [
       "['foo1@gmail.com', 'b-a-r@gmail.com', 'baz@gmail.com']"
      ]
     },
     "execution_count": 91,
     "metadata": {},
     "output_type": "execute_result"
    }
   ],
   "source": []
  },
  {
   "cell_type": "code",
   "execution_count": 123,
   "metadata": {
    "slideshow": {
     "slide_type": "fragment"
    }
   },
   "outputs": [
    {
     "data": {
      "text/plain": [
       "['foo1@gmail.com', 'b-a-r@gmail.com', 'baz@gmail.com']"
      ]
     },
     "execution_count": 123,
     "metadata": {},
     "output_type": "execute_result"
    }
   ],
   "source": [
    "re.findall('\\w.*?@gmail.com', text)"
   ]
  },
  {
   "cell_type": "markdown",
   "metadata": {
    "slideshow": {
     "slide_type": "subslide"
    }
   },
   "source": [
    "## Reference (so far)\n",
    "\n",
    "**Matching characters**\n",
    "- `a` - Match the letter `a`. Same for most other characters\n",
    "- `.` - Match any single character\n",
    "- `\\w` - Match any word character (letters, number... support for non-English characters varies)\n",
    "- `\\W` - Match any non-word characters\n",
    "- `\\d` - Match any digit\n",
    "- `.` - Matches *any* character\n",
    "- `\\.` - Matches a literal period\n",
    "- `\\s` - Match any whitespace character (space, tabs, line breaks sometimes)\n",
    "\n",
    "**Multiple Matches**\n",
    "- `[ab]` - Group of multiple possible characters - in this case `a` or `b`\n",
    "- `[a-z]` matches any character from a to z\n",
    "- `[A-Z]` matches any character from A to Z\n",
    "- `[A-Zab]` matches any character from A to Z (`A-Z`), *or* `a` *or* `b`\n",
    "\n",
    "**Repeating**\n",
    "\n",
    "*'greedy' means that it captures as much as it can, 'lazy' means it captures as little as possible.*\n",
    "- `?` - One or zero of the preceding match\n",
    "- `+` - One or more of the preceding match (greedy)\n",
    "- `*` - Zero or more of the preceding match (greedy)\n",
    "- `*?`, `+?`  - Lazy versions of `*` and `+`"
   ]
  },
  {
   "cell_type": "markdown",
   "metadata": {
    "slideshow": {
     "slide_type": "slide"
    }
   },
   "source": [
    "## Start and End of Line"
   ]
  },
  {
   "cell_type": "markdown",
   "metadata": {
    "slideshow": {
     "slide_type": "subslide"
    }
   },
   "source": [
    "`^` - Start of line"
   ]
  },
  {
   "cell_type": "code",
   "execution_count": 27,
   "metadata": {
    "slideshow": {
     "slide_type": "fragment"
    }
   },
   "outputs": [
    {
     "data": {
      "text/plain": [
       "['The']"
      ]
     },
     "execution_count": 27,
     "metadata": {},
     "output_type": "execute_result"
    }
   ],
   "source": [
    "text = \"The quick brown fox jumped over the lazy yellow dog\"\n",
    "re.findall('^The', text)"
   ]
  },
  {
   "cell_type": "code",
   "execution_count": 44,
   "metadata": {
    "slideshow": {
     "slide_type": "fragment"
    }
   },
   "outputs": [
    {
     "data": {
      "text/plain": [
       "['The']"
      ]
     },
     "execution_count": 44,
     "metadata": {},
     "output_type": "execute_result"
    }
   ],
   "source": [
    "re.findall('^The', text)"
   ]
  },
  {
   "cell_type": "code",
   "execution_count": 109,
   "metadata": {
    "slideshow": {
     "slide_type": "fragment"
    }
   },
   "outputs": [
    {
     "data": {
      "text/plain": [
       "['The quick brown fox']"
      ]
     },
     "execution_count": 109,
     "metadata": {},
     "output_type": "execute_result"
    }
   ],
   "source": [
    "re.findall('^.*fox', text)"
   ]
  },
  {
   "cell_type": "markdown",
   "metadata": {
    "slideshow": {
     "slide_type": "subslide"
    }
   },
   "source": [
    "`$` - End of line"
   ]
  },
  {
   "cell_type": "code",
   "execution_count": 104,
   "metadata": {
    "scrolled": true,
    "slideshow": {
     "slide_type": "fragment"
    }
   },
   "outputs": [
    {
     "data": {
      "text/plain": [
       "['low dog']"
      ]
     },
     "execution_count": 104,
     "metadata": {},
     "output_type": "execute_result"
    }
   ],
   "source": [
    "text = \"The quick brown fox jumped over the lazy yellow dog\"\n",
    "re.findall('.......$', text)"
   ]
  },
  {
   "cell_type": "code",
   "execution_count": 28,
   "metadata": {
    "slideshow": {
     "slide_type": "subslide"
    }
   },
   "outputs": [
    {
     "data": {
      "text/plain": [
       "['The quick brown fox jumped over the lazy yellow dog']"
      ]
     },
     "execution_count": 28,
     "metadata": {},
     "output_type": "execute_result"
    }
   ],
   "source": [
    "text = \"The quick brown fox jumped over the lazy yellow dog\"\n",
    "re.findall(\"^.*$\", text)"
   ]
  },
  {
   "cell_type": "markdown",
   "metadata": {
    "slideshow": {
     "slide_type": "subslide"
    }
   },
   "source": [
    "## Reference\n",
    "\n",
    "**Matching characters**\n",
    "- `a` - Match the letter `a`. Same for most other characters\n",
    "- `.` - Match any single character\n",
    "- `\\w` - Match any word character (letters, number... support for non-English characters varies)\n",
    "- `\\W` - Match any non-word characters\n",
    "- `\\d` - Match any digit\n",
    "- `.` - Matches *any* character\n",
    "- `\\.` - Matches a literal period\n",
    "- `\\s` - Match any whitespace character (space, tabs, line breaks sometimes)\n",
    "\n",
    "**Multiple Matches**\n",
    "- `[ab]` - Group of multiple possible characters - in this case `a` or `b`\n",
    "- `[a-z]` matches any character from a to z\n",
    "- `[A-Z]` matches any character from A to Z\n",
    "- `[A-Zab]` matches any character from A to Z (`A-Z`), *or* `a` *or* `b`\n",
    "\n",
    "**Repeating**\n",
    "\n",
    "*'greedy' means that it captures as much as it can, 'lazy' means it captures as little as possible.*\n",
    "- `?` - One or zero of the preceding match\n",
    "- `+` - One or more of the preceding match (greedy)\n",
    "- `*` - Zero or more of the preceding match (greedy)\n",
    "- `*?`, `+?`  - Lazy versions of `*` and `+`\n",
    "\n",
    "**Position**\n",
    "- `^` - Start of line\n",
    "- `$` - End of line"
   ]
  },
  {
   "cell_type": "markdown",
   "metadata": {
    "slideshow": {
     "slide_type": "slide"
    }
   },
   "source": [
    "# Additional tips\n",
    "\n",
    "Choose a range for repetition with `{min,max}`. e.g."
   ]
  },
  {
   "cell_type": "code",
   "execution_count": 57,
   "metadata": {},
   "outputs": [
    {
     "data": {
      "text/plain": [
       "<_sre.SRE_Match object; span=(0, 4), match='YOLO'>"
      ]
     },
     "execution_count": 57,
     "metadata": {},
     "output_type": "execute_result"
    }
   ],
   "source": [
    "text = \"YOLO\"\n",
    "re.search('YOLO{1,3}$', text) "
   ]
  },
  {
   "cell_type": "code",
   "execution_count": 58,
   "metadata": {},
   "outputs": [
    {
     "data": {
      "text/plain": [
       "<_sre.SRE_Match object; span=(0, 6), match='YOLOOO'>"
      ]
     },
     "execution_count": 58,
     "metadata": {},
     "output_type": "execute_result"
    }
   ],
   "source": [
    "text = \"YOLOOO\"\n",
    "re.search('YOLO{1,3}$', text)"
   ]
  },
  {
   "cell_type": "code",
   "execution_count": 66,
   "metadata": {},
   "outputs": [],
   "source": [
    "text = \"YOLOOOOOO\"\n",
    "re.search('YOLO{1,3}$', text)"
   ]
  },
  {
   "cell_type": "markdown",
   "metadata": {
    "slideshow": {
     "slide_type": "subslide"
    }
   },
   "source": [
    "*Negation*\n",
    "    \n",
    "Use the caret in square brackets: `[^aeiou]` means *not* a, e, i, o, or u"
   ]
  },
  {
   "cell_type": "markdown",
   "metadata": {
    "slideshow": {
     "slide_type": "fragment"
    }
   },
   "source": [
    "*Groups*\n",
    "    \n",
    "Treat multiple characters together, like if they were a single character.\n",
    "\n",
    "Use parentheses. e.g:"
   ]
  },
  {
   "cell_type": "code",
   "execution_count": 53,
   "metadata": {},
   "outputs": [
    {
     "data": {
      "text/plain": [
       "['na']"
      ]
     },
     "execution_count": 53,
     "metadata": {},
     "output_type": "execute_result"
    }
   ],
   "source": [
    "text = \"banana\"\n",
    "re.findall('^ba(na)+$', text)"
   ]
  },
  {
   "cell_type": "code",
   "execution_count": 66,
   "metadata": {},
   "outputs": [
    {
     "data": {
      "text/plain": [
       "['ololololololololololol']"
      ]
     },
     "execution_count": 66,
     "metadata": {},
     "output_type": "execute_result"
    }
   ],
   "source": [
    "text = \"lololololololololololol\"\n",
    "re.findall('^l(ol)+$', text)"
   ]
  },
  {
   "cell_type": "markdown",
   "metadata": {
    "slideshow": {
     "slide_type": "subslide"
    }
   },
   "source": [
    "Capturing groups:"
   ]
  },
  {
   "cell_type": "code",
   "execution_count": 61,
   "metadata": {},
   "outputs": [
    {
     "data": {
      "text/plain": [
       "['Ketch', 'Cats']"
      ]
     },
     "execution_count": 61,
     "metadata": {},
     "output_type": "execute_result"
    }
   ],
   "source": [
    "text = \"Ketchup Catsup\"\n",
    "re.findall('(Ketch|Cats)up', text)"
   ]
  }
 ],
 "metadata": {
  "celltoolbar": "Slideshow",
  "kernelspec": {
   "display_name": "Python 3",
   "language": "python",
   "name": "python3"
  },
  "language_info": {
   "codemirror_mode": {
    "name": "ipython",
    "version": 3
   },
   "file_extension": ".py",
   "mimetype": "text/x-python",
   "name": "python",
   "nbconvert_exporter": "python",
   "pygments_lexer": "ipython3",
   "version": "3.8.10"
  }
 },
 "nbformat": 4,
 "nbformat_minor": 2
}
