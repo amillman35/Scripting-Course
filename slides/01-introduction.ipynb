{
 "cells": [
  {
   "cell_type": "markdown",
   "metadata": {
    "slideshow": {
     "slide_type": "slide"
    }
   },
   "source": [
    "# Week 1: Scripting for Large Databases"
   ]
  },
  {
   "cell_type": "markdown",
   "metadata": {
    "slideshow": {
     "slide_type": "slide"
    }
   },
   "source": [
    "## Today\n",
    "\n",
    "- Introductions\n",
    "- Course Overview\n",
    "- Introduction to relational Databases\n",
    "- Introduction to the Scipy Stack\n",
    "- Hello World"
   ]
  },
  {
   "cell_type": "markdown",
   "metadata": {
    "slideshow": {
     "slide_type": "slide"
    }
   },
   "source": [
    "## Who are you?\n",
    "\n",
    "- previous technical experience"
   ]
  },
  {
   "cell_type": "markdown",
   "metadata": {
    "slideshow": {
     "slide_type": "slide"
    }
   },
   "source": [
    "## Our tools\n",
    "\n",
    "- Intro to Canvas, Gitbook, and Slides"
   ]
  },
  {
   "cell_type": "markdown",
   "metadata": {
    "slideshow": {
     "slide_type": "slide"
    }
   },
   "source": [
    "## Course Overview"
   ]
  },
  {
   "cell_type": "markdown",
   "metadata": {
    "slideshow": {
     "slide_type": "slide"
    }
   },
   "source": [
    "## What is this course"
   ]
  },
  {
   "cell_type": "markdown",
   "metadata": {
    "slideshow": {
     "slide_type": "slide"
    }
   },
   "source": [
    "## What is this course *not*"
   ]
  },
  {
   "cell_type": "markdown",
   "metadata": {
    "slideshow": {
     "slide_type": "slide"
    }
   },
   "source": [
    "This is not a programming course - but we'll use some programming. Nothing that you'll be asked to do will be different from things that you'll see in class.\n",
    "\n",
    "This is a practical course. If you're in my Digital Humanities class this quarter, you may get whiplash between the two."
   ]
  },
  {
   "cell_type": "markdown",
   "metadata": {
    "slideshow": {
     "slide_type": "slide"
    }
   },
   "source": [
    "# \"Oh no, I'm not technical!\"\n",
    "\n",
    ">- Cornerstone is still inquiry, investigation, curiosity. When I've taught skills-based LIS courses in the past, the non-programmers did *slightly* better.  "
   ]
  },
  {
   "cell_type": "markdown",
   "metadata": {
    "slideshow": {
     "slide_type": "slide"
    }
   },
   "source": [
    "## Overview of Course"
   ]
  },
  {
   "cell_type": "markdown",
   "metadata": {
    "slideshow": {
     "slide_type": "slide"
    }
   },
   "source": [
    "## Topics\n",
    "\n",
    "- Relational Databases\n",
    "- SQL\n",
    "- NoSQL\n",
    "- MongoDB\n",
    "- JSON\n",
    "- Large data patterns - What types of questions might you ask?"
   ]
  },
  {
   "cell_type": "markdown",
   "metadata": {
    "slideshow": {
     "slide_type": "slide"
    }
   },
   "source": [
    "## Assignments"
   ]
  },
  {
   "cell_type": "markdown",
   "metadata": {
    "slideshow": {
     "slide_type": "slide"
    }
   },
   "source": [
    "## Types of Data Models\n",
    "\n",
    "Types of Relationships\n",
    "Many to Many Relationships\n",
    "One to Many Relationships\n",
    "One to One Relationships\n",
    "\n",
    "Database Management Systems\n",
    "\n",
    "Scripting, Compiling, Interactive\n",
    "\n",
    "\n",
    "Structured Data\n",
    "\n",
    "Example datasets - Use R?\n",
    "\n",
    "Basics of SQL\n",
    "\n",
    "CREATE\n",
    "INSERT\n",
    "DELETE\n",
    "\n",
    "Installing Anaconda\n",
    "\n",
    "Introduction to Jupyter\n",
    "\n",
    "Python Hello World\n",
    "\n",
    "Practical applications\n",
    "- real time demonstration of analysis\n",
    "\n",
    "SciPy Stack\n",
    "\n",
    "-----\n",
    "\n",
    "Exercises?\n",
    "- identify data types\n",
    "\n",
    "Note-taking sign-up\n",
    "\n",
    "A taxonomy of skills\n",
    "\n",
    "----\n",
    "\n",
    "Add wide versus long data to syllabus\n"
   ]
  },
  {
   "cell_type": "code",
   "execution_count": null,
   "metadata": {
    "collapsed": true
   },
   "outputs": [],
   "source": []
  }
 ],
 "metadata": {
  "celltoolbar": "Slideshow",
  "kernelspec": {
   "display_name": "Python 3",
   "language": "python",
   "name": "python3"
  },
  "language_info": {
   "codemirror_mode": {
    "name": "ipython",
    "version": 3
   },
   "file_extension": ".py",
   "mimetype": "text/x-python",
   "name": "python",
   "nbconvert_exporter": "python",
   "pygments_lexer": "ipython3",
   "version": "3.6.1"
  }
 },
 "nbformat": 4,
 "nbformat_minor": 2
}
