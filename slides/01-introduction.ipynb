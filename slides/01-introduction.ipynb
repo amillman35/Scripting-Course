{
 "cells": [
  {
   "cell_type": "markdown",
   "metadata": {
    "colab_type": "text",
    "id": "view-in-github",
    "slideshow": {
     "slide_type": "skip"
    }
   },
   "source": [
    "<a href=\"https://colab.research.google.com/github/organisciak/Scripting-Course/blob/master/slides/01-introduction.ipynb\" target=\"_parent\"><img src=\"https://colab.research.google.com/assets/colab-badge.svg\" alt=\"Open In Colab\"/></a>"
   ]
  },
  {
   "cell_type": "markdown",
   "metadata": {
    "colab_type": "text",
    "id": "LJtWBGLDWMXL",
    "slideshow": {
     "slide_type": "slide"
    }
   },
   "source": [
    "# Week 1: Scripting for Large Databases\n",
    "\n",
    "![](https://github.com/organisciak/Scripting-Course/blob/master/images/data.jpg?raw=1)"
   ]
  },
  {
   "cell_type": "markdown",
   "metadata": {
    "colab_type": "text",
    "id": "lYOUIJsXWMXW",
    "slideshow": {
     "slide_type": "slide"
    }
   },
   "source": [
    "## Today\n",
    "\n",
    "- Introductions\n",
    "- Course Overview\n",
    "- Introduction to Relational Databases\n",
    "- Introduction to the Scipy Stack\n",
    "- Hello World"
   ]
  },
  {
   "cell_type": "markdown",
   "metadata": {
    "colab_type": "text",
    "id": "RPMnF2MPWMXX",
    "slideshow": {
     "slide_type": "subslide"
    }
   },
   "source": [
    "## Announcements?"
   ]
  },
  {
   "cell_type": "markdown",
   "metadata": {
    "colab_type": "text",
    "id": "j-Yjb94gWMXY",
    "slideshow": {
     "slide_type": "subslide"
    }
   },
   "source": [
    "## Who are you?\n",
    "\n",
    "- What are you looking for from this course?\n",
    "- What past technical experience do you have?\n",
    "- Do you have any book/tv/game recommendations for home isolation? What are your *highly recommended* faves?"
   ]
  },
  {
   "cell_type": "markdown",
   "metadata": {
    "colab_type": "text",
    "id": "lj1StqOSWMXb",
    "slideshow": {
     "slide_type": "subslide"
    }
   },
   "source": [
    "## Our tools\n",
    "\n",
    "- [Canvas](https://canvas.du.edu/courses/78366), [Slides](http://www.porganized.com/Scripting-Course/slides/01-introduction.html#/), [Teams](https://teams.microsoft.com)"
   ]
  },
  {
   "cell_type": "markdown",
   "metadata": {
    "colab_type": "text",
    "id": "OiS2rHvIWMXc",
    "slideshow": {
     "slide_type": "slide"
    }
   },
   "source": [
    "## Course Overview"
   ]
  },
  {
   "cell_type": "markdown",
   "metadata": {
    "colab_type": "text",
    "id": "iMDtIRy_WMXd",
    "slideshow": {
     "slide_type": "subslide"
    }
   },
   "source": [
    "### What this course is *not*"
   ]
  },
  {
   "cell_type": "markdown",
   "metadata": {
    "colab_type": "text",
    "id": "mtOmjjsOWMXf",
    "slideshow": {
     "slide_type": "fragment"
    }
   },
   "source": [
    "**This is not a programming course - but we'll use programming.**"
   ]
  },
  {
   "cell_type": "markdown",
   "metadata": {
    "colab_type": "text",
    "id": "WJwgLwa4WMXg",
    "slideshow": {
     "slide_type": "fragment"
    }
   },
   "source": [
    "Essentially, we'll be covering a 'data science subset' of Python.\n",
    "\n",
    "You won't be a Python pro at the end, but you'll be comfortable with the basics, and knowledgeable in data science concepts.\n",
    "\n",
    "Nothing that you'll be asked to do will be different from things that you'll see in class."
   ]
  },
  {
   "cell_type": "markdown",
   "metadata": {
    "colab_type": "text",
    "id": "dMBOijO-WMXh",
    "slideshow": {
     "slide_type": "subslide"
    }
   },
   "source": [
    "**This is not a Databases courses - but we'll review the basics.**"
   ]
  },
  {
   "cell_type": "markdown",
   "metadata": {
    "colab_type": "text",
    "id": "cyp7pwOfWMXi",
    "slideshow": {
     "slide_type": "fragment"
    }
   },
   "source": [
    "There is already a Database course offered in LIS.\n",
    "\n",
    "We focus less on *design and setup*, and more on *use and analysis*."
   ]
  },
  {
   "cell_type": "markdown",
   "metadata": {
    "colab_type": "text",
    "id": "X-SX3QIvWMXk",
    "slideshow": {
     "slide_type": "subslide"
    }
   },
   "source": [
    "Some components of a Database class:\n",
    "\n",
    "- relational databases\n",
    "- data modeling and database design\n",
    "- data abstractions\n",
    "- inserting data, retrieving data\n",
    "- updates, deletions\n",
    "- ER Diagrams\n",
    "- First order logic\n",
    "- noSQL database design\n",
    "- noSQL database use\n",
    "- infrastructure, setup"
   ]
  },
  {
   "cell_type": "markdown",
   "metadata": {
    "colab_type": "text",
    "id": "AhDh7Q7eWMXl",
    "slideshow": {
     "slide_type": "subslide"
    }
   },
   "source": [
    "### What this course *is*"
   ]
  },
  {
   "cell_type": "markdown",
   "metadata": {
    "colab_type": "text",
    "id": "YK-CPshmWMXm",
    "slideshow": {
     "slide_type": "subslide"
    }
   },
   "source": [
    "**We'll focus on use and analysis of *structured and semi-structured data*.**"
   ]
  },
  {
   "cell_type": "markdown",
   "metadata": {
    "colab_type": "text",
    "id": "sCSYMzQGWMXn",
    "slideshow": {
     "slide_type": "fragment"
    }
   },
   "source": [
    "Making large amounts of data malleable.\n",
    "\n",
    "Going from data storage to data analysis."
   ]
  },
  {
   "cell_type": "markdown",
   "metadata": {
    "colab_type": "text",
    "id": "0JhtW-hYWMXo",
    "slideshow": {
     "slide_type": "fragment"
    }
   },
   "source": [
    "![](https://media.giphy.com/media/2rqEdFfkMzXmo/giphy.gif)"
   ]
  },
  {
   "cell_type": "markdown",
   "metadata": {
    "colab_type": "text",
    "id": "95litES4WMXp",
    "slideshow": {
     "slide_type": "subslide"
    }
   },
   "source": [
    "**This is a practical course.**"
   ]
  },
  {
   "cell_type": "markdown",
   "metadata": {
    "colab_type": "text",
    "id": "US2m-NdSWMXr",
    "slideshow": {
     "slide_type": "fragment"
    }
   },
   "source": [
    "- Lots of hands-on work.\n",
    "- Readings are grounded in use.\n",
    "- A big portion of the grade is labs."
   ]
  },
  {
   "cell_type": "markdown",
   "metadata": {
    "colab_type": "text",
    "id": "3BN4xxohWMXs",
    "slideshow": {
     "slide_type": "subslide"
    }
   },
   "source": [
    "## \"I'm not technical!\""
   ]
  },
  {
   "cell_type": "markdown",
   "metadata": {
    "colab_type": "text",
    "id": "NqYqLzAKWMXv",
    "slideshow": {
     "slide_type": "fragment"
    }
   },
   "source": [
    "Cornerstone of class is still inquiry, investigation, curiosity.\n",
    "\n",
    "When I've taught skills-based LIS courses in the past, the non-programmers did *slightly* better."
   ]
  },
  {
   "cell_type": "markdown",
   "metadata": {
    "colab_type": "text",
    "id": "3kBJSWS1WMXx",
    "slideshow": {
     "slide_type": "slide"
    }
   },
   "source": [
    "# Structured Data\n",
    "\n",
    "Relational databases are heavily structured:\n",
    "\n",
    "- Expectable data format\n",
    "- Enforcement of data types, schema\n",
    "- Relationships encoded\n",
    "\n",
    "Structured data gives computers a warm and fuzzy feeling."
   ]
  },
  {
   "cell_type": "markdown",
   "metadata": {
    "colab_type": "text",
    "id": "C6S--t0iWMXy",
    "slideshow": {
     "slide_type": "fragment"
    }
   },
   "source": [
    "- Think _measurements_, _tables_, _spreadsheets_"
   ]
  },
  {
   "cell_type": "markdown",
   "metadata": {
    "colab_type": "text",
    "id": "WEscvlehWMXz",
    "slideshow": {
     "slide_type": "fragment"
    }
   },
   "source": [
    "### Where do  we see structured data?\n",
    "\n",
    "![](https://github.com/organisciak/Scripting-Course/blob/master/images/excel.png?raw=1)"
   ]
  },
  {
   "cell_type": "markdown",
   "metadata": {
    "colab_type": "text",
    "id": "zhmM3Wj-WMX0",
    "slideshow": {
     "slide_type": "subslide"
    }
   },
   "source": [
    "## Unstructured Data\n",
    "\n",
    "- Data that is not organized into a pre-defined format.\n",
    "- Needs to be figured out.\n",
    "\n",
    "- Think _raw text_, _images_"
   ]
  },
  {
   "cell_type": "markdown",
   "metadata": {
    "colab_type": "text",
    "id": "U0TSh0UGWMX1",
    "slideshow": {
     "slide_type": "subslide"
    }
   },
   "source": [
    "#### Unstructured\n",
    "\n",
    "- \"Hello, my name is Inigo Montoya. You killed my father. Prepare to die.\"\n",
    "- \"My name is Maximus Decimus Meridius, Commander of the armies of the North, General of the Felix Legions. Loyal servant to the true emperor, Marcus Aurelius. Father to a murdered son, Husband to a murdered wife, and I will have my vengeance, in this life or the next.\"\n",
    "- \"My name is Shoshana Dreyfus, and this is the face...of Jewish vengeance!\"\n",
    "- \"I am Diana of Themyscira. Daughter of Hippolyta. In the name of all that is good, your wrath upon this world is over!\" \n"
   ]
  },
  {
   "cell_type": "markdown",
   "metadata": {
    "colab_type": "text",
    "id": "w_1X5T0iWMX2",
    "slideshow": {
     "slide_type": "fragment"
    }
   },
   "source": [
    "#### *vs.* Structured\n",
    "\n",
    "| Name | Motivation |\n",
    "|------|------------|\n",
    "|Inigo Montoya|Vengeance|\n",
    "|Maximus Decimus Meridius|Vengeance|\n",
    "|Shoshana Dreyfus|Vengeance|\n",
    "|Diana of Themyscira|Vengeance|"
   ]
  },
  {
   "cell_type": "markdown",
   "metadata": {
    "colab_type": "text",
    "id": "6g1IOqzdWMX3",
    "slideshow": {
     "slide_type": "-"
    }
   },
   "source": [
    "![](https://github.com/organisciak/Scripting-Course/blob/master/images/PBF149-Svens_Revenge.jpg?raw=1)"
   ]
  },
  {
   "cell_type": "markdown",
   "metadata": {
    "colab_type": "text",
    "id": "GniUwJycWMX5",
    "slideshow": {
     "slide_type": "subslide"
    }
   },
   "source": [
    "## Semi-Structured Data"
   ]
  },
  {
   "cell_type": "markdown",
   "metadata": {
    "colab_type": "text",
    "id": "brIkH7lUWMX6",
    "slideshow": {
     "slide_type": "fragment"
    }
   },
   "source": [
    "- self-describing: data is internally labeled, but the structure needs to be learned\n",
    "- more complex structure: you can't just look at the heading to figure it out\n",
    "    - no \"one size fits all\" organization\n",
    "    \n",
    "- Think hierarchical data, graph data, folksonomies (tags), etc."
   ]
  },
  {
   "cell_type": "markdown",
   "metadata": {
    "colab_type": "text",
    "id": "imui5VQxWMX7",
    "slideshow": {
     "slide_type": "subslide"
    }
   },
   "source": [
    ">    Traditional database systems rely on an old model: the relational data model.\n",
    "    When it was proposed in the early 1970’s by Codd, a logician, the relational\n",
    "    model generated a true revolution in data management. ...\n",
    ">\n",
    ">    The age of the Internet brought new data management applications and challenges.\n",
    "    Data is now accessed over the Web, and is available in\n",
    "    a variety of formats, including HTML, XML, as well as several application specific data formats.\n",
    "    Often data is mixed with free text, and the boundary between data and text is sometimes blurred.\n",
    "    The way the data can be retrieved also varies considerably: some instances can be downloaded entirely,\n",
    "    others can only be accessed through limited capabilities.\n",
    "    \n",
    "From the [_Foundations of Semistructured Data_](https://www.dagstuhl.de/Reports/01/01361.pdf), a reading list by Mendelzon, Schwentick, Suciu."
   ]
  },
  {
   "cell_type": "markdown",
   "metadata": {
    "colab_type": "text",
    "id": "ZY4FW5yNWMX8",
    "slideshow": {
     "slide_type": "subslide"
    }
   },
   "source": [
    "**Where do you see semi-structured data?**"
   ]
  },
  {
   "cell_type": "markdown",
   "metadata": {
    "colab_type": "text",
    "id": "EcAS33D0WMX9",
    "slideshow": {
     "slide_type": "fragment"
    }
   },
   "source": [
    "![](https://github.com/organisciak/Scripting-Course/blob/master/images/lcc.png?raw=1)"
   ]
  },
  {
   "cell_type": "markdown",
   "metadata": {
    "colab_type": "text",
    "id": "TQJJJqisWMYB",
    "slideshow": {
     "slide_type": "subslide"
    }
   },
   "source": [
    "![](https://github.com/organisciak/Scripting-Course/blob/master/images/filesystem.png?raw=1)"
   ]
  },
  {
   "cell_type": "markdown",
   "metadata": {
    "colab_type": "text",
    "id": "ShqNN3tuWMYC",
    "slideshow": {
     "slide_type": "fragment"
    }
   },
   "source": [
    "Can you say that a third level of nesting is different than a fourth?"
   ]
  },
  {
   "cell_type": "markdown",
   "metadata": {
    "colab_type": "text",
    "id": "t7VDJXSgWMYD",
    "slideshow": {
     "slide_type": "subslide"
    }
   },
   "source": [
    "## Topics\n",
    "\n",
    "- Relational Databases, Structured Data, SQL\n",
    "- Unstructured Data, NoSQL, JSON, MongoDB\n",
    "- Large data patterns - What types of questions might you ask?"
   ]
  },
  {
   "cell_type": "markdown",
   "metadata": {
    "colab_type": "text",
    "id": "sj-ajV17WMYE",
    "slideshow": {
     "slide_type": "slide"
    }
   },
   "source": [
    "_back to course overview_"
   ]
  },
  {
   "cell_type": "markdown",
   "metadata": {
    "colab_type": "text",
    "id": "LcpBpQ5yWMYF",
    "slideshow": {
     "slide_type": "subslide"
    }
   },
   "source": [
    "## Learning Outcomes\n",
    "\n",
    "Upon satisfactory completion of the course, students will be able to:\n",
    "\n",
    "1.  Demonstrate knowledge of relational database fundamentals.\n",
    "\n",
    "2.  Use SQL and Pandas for structured data querying and analysis.\n",
    "\n",
    "3.  Understand the contexts of use for NoSQL, and apply them\n",
    "    with MongoDB.\n",
    "\n",
    "4.  Apply fundamental data mining concepts in information\n",
    "    science contexts.\n",
    "\n",
    "5.  Collect and organize data from the web.\n",
    "\n",
    "6.  Understand aggregations and transformations for structured and\n",
    "    semi-structured data.\n",
    "\n",
    "7.  Understand and apply large data patterns, such as Map-Reduce\n",
    "    and Split-Apply-Combine."
   ]
  },
  {
   "cell_type": "markdown",
   "metadata": {
    "colab_type": "text",
    "id": "ODh_DPjdWMYG",
    "slideshow": {
     "slide_type": "subslide"
    }
   },
   "source": [
    "## Assignments\n",
    "\n",
    "### Labs – 625 pts\n",
    "- 7 weekly labs – 4x100pts, 3x75pts\n",
    "\n",
    "The labs are small exercises of specific skills and knowledge.\n",
    "\n",
    "### Analysis Project – 260 pts\n",
    "\n",
    "Perform a data analysis on a dataset of interest. This assignment has\n",
    "three parts: a problem statement (week 5, 30pts) and a data collection\n",
    "progress report (week 8, 30pts), both shared on Canvas with colleagues\n",
    "for comment, and a final report (week 10, 200pts). In another college,\n",
    "there'd be an exam for this course. However, in our LIS context, it’s\n",
    "important to apply your skills with an engaging, creative problem.\n",
    "\n",
    "### Participation - 115pts\n",
    "\n",
    "Your participation grade is based on engagement (online and in class), as well as attendance. Remember that poor attendance may indirectly\n",
    "affect your grade on the assignment and labs: missing class will make\n",
    "this course very difficult.\n",
    "\n",
    "*Total: 1000 pts*"
   ]
  },
  {
   "cell_type": "markdown",
   "metadata": {
    "colab_type": "text",
    "id": "EGgM5TLOWMYH",
    "slideshow": {
     "slide_type": "subslide"
    }
   },
   "source": [
    "### Late Policy\n",
    "\n",
    "-   Assignments are due 2 hours before the lecture starts.\n",
    "-   Late assignments will lose 10% day, up to 50%. Late is better\n",
    "    than never.\n",
    "-   1 lab can be late without penalty, because sometimes life gets in\n",
    "    the way.\n",
    "-   Last day for late assignments: June 8th."
   ]
  },
  {
   "cell_type": "markdown",
   "metadata": {
    "colab_type": "text",
    "id": "oBmy64l5WMYI",
    "slideshow": {
     "slide_type": "subslide"
    }
   },
   "source": [
    "** For reference **\n",
    "\n",
    "## Schedule Overview\n",
    "\n",
    "- Week 1    Relational Databases, Data types, Introduction to the SciPy Stack\n",
    "- Week 2    Relational Databases continued, Data collection, Colab and Python\n",
    "- Week 3    SQLite, Basic Querying, Introduction to Pandas\n",
    "- Week 4    Split-Apply-Combine, Deletions and Updates, Indexing\n",
    "- Week 5    Summation, aggregation, and transformation\n",
    "- Week 6    Visualization\n",
    "- Week 7    MongoDB - Ingesting Data, document aggregations\n",
    "- Week 8    Document aggregations continued; Map-Reduce\n",
    "- Week 9    Regular Expressions\n",
    "- Week 10   Advanced techniques, review"
   ]
  },
  {
   "cell_type": "markdown",
   "metadata": {
    "colab_type": "text",
    "id": "1EqNXIflWMYJ",
    "slideshow": {
     "slide_type": "subslide"
    }
   },
   "source": [
    "## Golden Rule\n",
    "\n",
    "- Work together to figure things out. 'A's are not a limited resource."
   ]
  },
  {
   "cell_type": "markdown",
   "metadata": {
    "colab_type": "text",
    "id": "x7-3GonbWMYK",
    "slideshow": {
     "slide_type": "subslide"
    }
   },
   "source": [
    "# Syllabus\n",
    "\n",
    "https://canvas.du.edu/courses/96535/assignments/syllabus"
   ]
  },
  {
   "cell_type": "markdown",
   "metadata": {
    "slideshow": {
     "slide_type": "subslide"
    }
   },
   "source": [
    "## Class in the time of crisis\n",
    "\n",
    "- My goal is to run a full-featured class, where you learn and exercise as much as you would if we had not gone online.This may mean some tinkering with our structure as we go along - if something isn't working, I may try to change it.\n",
    "\n",
    "### Class Structure\n",
    "- We meet online on Tuesday, 3:30\\-6:50 every week. The link is on Canvas.\n",
    "- Class is lecture first, then lab work time. At the start of every class I answer questions from last week.\n",
    "- Try to keep your camera on during class. I understand the extraordinary circumstances - we didn't have much time to prepare for online classes, we may not have great cameras, sometimes we may feel self-conscious if we're sick, etc - and will try to be acommodating. However, it truly makes a *big* difference for staying engaged (and in turn, learning better) and I very strongly request that you use it when you can."
   ]
  },
  {
   "cell_type": "markdown",
   "metadata": {
    "slideshow": {
     "slide_type": "subslide"
    }
   },
   "source": [
    "### Lab Time\n",
    "\n",
    "- During the lab time, I'll put you into breakout rooms, so if you run into challenges with your lab, you can consult with a few others. I encourage the use of screensharing when you're debugging together- get comfortable turning on and off your screensharing. You can also use Teams to ask the fully class. The breakout rooms will be randomly assigned each class.\n",
    "- Keep [*Teams*](https://teams.microsoft.com/l/team/19%3a925a34bf494446898974cfa08264cd31%40thread.tacv2/conversations?groupId=99657e14-bb24-471d-8ac9-c923677f70c5&tenantId=6f3c7037-85c2-40e6-9dec-18b02d289288) open during class. Because of the lab portion of class, it is *extremely* important that we stay connected, and Zoom chat isn't sufficient for working together.\n",
    "- You're not expected to stay the full lab time, though it will benefit you to do so. This class is much easier if you do the labs during class time!\n",
    "- The lab time is work time, so you don't always need to chat in your breakout rooms. Keep them open and hop on the mic when you need it.\n",
    "- I'll go around answering questions, and will sometimes call people back to the main room to discuss a concept or problem.\n",
    "\n",
    "*Please, please* let me know if you think something isn't working. If you find your attention wandering, let me know and we'll try something else.\n",
    "\n",
    "During the pandemic, it's easy to feel isolated, stressed, anxious. Contact me if you need accomodations or just to talk."
   ]
  },
  {
   "cell_type": "markdown",
   "metadata": {
    "colab_type": "text",
    "id": "LwTu-UQlWMYL",
    "slideshow": {
     "slide_type": "slide"
    }
   },
   "source": [
    "# Relational Databases"
   ]
  },
  {
   "cell_type": "markdown",
   "metadata": {
    "colab_type": "text",
    "id": "1fN5SHD-WMYM",
    "slideshow": {
     "slide_type": "subslide"
    }
   },
   "source": [
    "Relational databases were proposed in 1970 by E.F. Codd.\n",
    "\n",
    "- Expressed as tables\n",
    "- Rows are unique, expressed with a key\n",
    "- Relationships are expressed between tables by using keys\n",
    "- Agnostic of storage procedures\n",
    "    - A user doesn't need to worry about physical storage or distribution across multiple systems \n",
    "- Data-integrity is built into the database, not into the application"
   ]
  },
  {
   "cell_type": "markdown",
   "metadata": {
    "colab_type": "text",
    "id": "sEPT9rMHWMYN",
    "slideshow": {
     "slide_type": "subslide"
    }
   },
   "source": [
    "## Codd's 12 Rules*\n",
    "\n",
    "**Rule 0: The foundation rule**: For any system that is advertised as, or claimed to be, a relational data base management system, that system must be able to manage data bases entirely through its relational capabilities.\n",
    "\n",
    "**Rule 1: The information rule**: All information in a relational data base is represented explicitly at the logical level and in exactly one way – by values in tables.\n",
    "\n",
    "**Rule 2: The guaranteed access rule**: Each and every datum (atomic value) in a relational data base is guaranteed to be logically accessible by resorting to a combination of table name, primary key value and column name.\n",
    "\n",
    "*Zero index!*"
   ]
  },
  {
   "cell_type": "markdown",
   "metadata": {
    "colab_type": "text",
    "id": "Qi8-wrf5WMYR",
    "slideshow": {
     "slide_type": "subslide"
    }
   },
   "source": [
    "**Rule 3: Systematic treatment of null values**: Null values (distinct from the empty character string or a string of blank characters and distinct from zero or any other number) are supported in fully relational DBMS for representing missing information and inapplicable information in a systematic way, independent of data type.\n",
    "\n",
    "**Rule 4: Dynamic online catalog based on the relational model**: The data base description is represented at the logical level in the same way as ordinary data, so that authorized users can apply the same relational language to its interrogation as they apply to the regular data.\n",
    "\n",
    "**Rule 5: The comprehensive data sublanguage rule**: A relational system may support several languages and various modes of terminal use (for example, the fill-in-the-blanks mode). However, there must be at least one language whose statements are expressible, per some well-defined syntax, as character strings and that is comprehensive in supporting all of the following items: Data definition; View definition; Data manipulation (interactive and by program); Integrity constraints; Authorization; Transaction boundaries."
   ]
  },
  {
   "cell_type": "markdown",
   "metadata": {
    "colab_type": "text",
    "id": "I59xoKHVWMYU",
    "slideshow": {
     "slide_type": "subslide"
    }
   },
   "source": [
    "**Rule 6: The view updating rule**: All views that are theoretically updatable are also updatable by the system.\n",
    "\n",
    "**Rule 7: High-level insert, update, and delete**: The capability of handling a base relation or a derived relation as a single operand applies not only to the retrieval of data but also to the insertion, update and deletion of data.\n",
    "\n",
    "**Rule 8: Physical data independence**: Application programs and terminal activities remain logically unimpaired whenever any changes are made in either storage representations or access methods."
   ]
  },
  {
   "cell_type": "markdown",
   "metadata": {
    "colab_type": "text",
    "id": "2g-6pH40WMYV",
    "slideshow": {
     "slide_type": "subslide"
    }
   },
   "source": [
    "**Rule 9: Logical data independence**:  Application programs and terminal activities remain logically unimpaired when information-preserving changes of any kind that theoretically permit unimpairment are made to the base tables.\n",
    "\n",
    "**Rule 10: Integrity independence**: Integrity constraints specific to a particular relational data base must be definable in the relational data sublanguage and storable in the catalog, not in the application programs.\n",
    "\n",
    "**Rule 11: Distribution independence**: The end-user must not be able to see that the data is distributed over various locations. Users should always get the impression that the data is located at one site only.\n",
    "\n",
    "**Rule 12: The nonsubversion rule**: If a relational system has a low-level (single-record-at-a-time) language, that low level cannot be used to subvert or bypass the integrity rules and constraints expressed in the higher level relational language (multiple-records-at-a-time). "
   ]
  },
  {
   "cell_type": "markdown",
   "metadata": {
    "colab_type": "text",
    "id": "frWdpjLBWMYZ",
    "slideshow": {
     "slide_type": "subslide"
    }
   },
   "source": [
    "## SQL - Structured Query Language\n",
    "\n",
    "- A language formalizing access to relational databases\n",
    "\n",
    " > _Rule 5: The comprehensive data sublanguage rule: A relational system may support several languages and various modes of terminal use (for example, the fill-in-the-blanks mode). However, there must be at least one language whose statements are expressible, per some well-defined syntax, as character strings and that is comprehensive in supporting all of the following items: Data definition; View definition; Data manipulation (interactive and by program); Integrity constraints; Authorization; Transaction boundaries._"
   ]
  },
  {
   "cell_type": "markdown",
   "metadata": {
    "colab_type": "text",
    "id": "KivgD3FiWMYa",
    "slideshow": {
     "slide_type": "subslide"
    }
   },
   "source": [
    "Not everybody adheres to it exactly, but most relational databases use a close variant of SQL.\n",
    "\n",
    "If you learn MySQL, you can pick up PostgresSQL, and Microsoft's SQLServer, and SQLite, etc."
   ]
  },
  {
   "cell_type": "markdown",
   "metadata": {
    "colab_type": "text",
    "id": "yiKS-2ugWMYb",
    "slideshow": {
     "slide_type": "subslide"
    }
   },
   "source": [
    "## So what's NoSQL?\n",
    "\n",
    "NoSQL isn't really refering to the access language; more fundamentally, it refers to databases that at _not relational_.\n",
    "\n",
    "These systems come in various forms, often with their own access logic. There is no real 'NoSQL' syntax."
   ]
  },
  {
   "cell_type": "markdown",
   "metadata": {
    "colab_type": "text",
    "id": "bff3rJSIWMYb",
    "slideshow": {
     "slide_type": "subslide"
    }
   },
   "source": [
    "## Relationships between tables"
   ]
  },
  {
   "cell_type": "markdown",
   "metadata": {
    "colab_type": "text",
    "id": "ICTlP4M_WMYc",
    "slideshow": {
     "slide_type": "fragment"
    }
   },
   "source": [
    "Left Join\n",
    "\n",
    "![](https://github.com/organisciak/Scripting-Course/blob/master/images/merging_join_multikeys.png?raw=1)\n",
    "\n",
    "_[Via](https://pandas.pydata.org/pandas-docs/stable/merging.html)_"
   ]
  },
  {
   "cell_type": "markdown",
   "metadata": {
    "colab_type": "text",
    "id": "tY4wL_TKWMYd",
    "slideshow": {
     "slide_type": "fragment"
    }
   },
   "source": [
    "Left Inner Join\n",
    "\n",
    "![](https://github.com/organisciak/Scripting-Course/blob/master/images/merging_join_multikeys_inner.png?raw=1)"
   ]
  },
  {
   "cell_type": "markdown",
   "metadata": {
    "colab_type": "text",
    "id": "WfljXpkVWMYe",
    "slideshow": {
     "slide_type": "subslide"
    }
   },
   "source": [
    "![](https://github.com/organisciak/Scripting-Course/blob/master/images/SQL_Joins.png?raw=1)"
   ]
  },
  {
   "cell_type": "markdown",
   "metadata": {
    "colab_type": "text",
    "id": "lz1mbvG-WMYh",
    "slideshow": {
     "slide_type": "subslide"
    }
   },
   "source": [
    "## Types of Relationships"
   ]
  },
  {
   "cell_type": "markdown",
   "metadata": {
    "colab_type": "text",
    "id": "TG3aljkDWMYm",
    "slideshow": {
     "slide_type": "fragment"
    }
   },
   "source": [
    "- One to One Relationships\n",
    "\n",
    "![](https://github.com/organisciak/Scripting-Course/blob/master/images/CPT-Databases-OnetoOne.png?raw=1)"
   ]
  },
  {
   "cell_type": "markdown",
   "metadata": {
    "colab_type": "text",
    "id": "R9iolnsRWMYn",
    "slideshow": {
     "slide_type": "fragment"
    }
   },
   "source": [
    "- One to Many Relationships\n",
    "\n",
    "![](https://github.com/organisciak/Scripting-Course/blob/master/images/CPT-Databases-OnetoMany.png?raw=1)"
   ]
  },
  {
   "cell_type": "markdown",
   "metadata": {
    "colab_type": "text",
    "id": "apU3i9xXWMYo",
    "slideshow": {
     "slide_type": "fragment"
    }
   },
   "source": [
    "- Many to Many Relationships\n",
    "\n",
    "![](https://github.com/organisciak/Scripting-Course/blob/master/images/460px-CPT-Databases-ManytoMany.png?raw=1)"
   ]
  },
  {
   "cell_type": "markdown",
   "metadata": {
    "colab_type": "text",
    "id": "PIWOTWVWWMYr",
    "slideshow": {
     "slide_type": "slide"
    }
   },
   "source": [
    "# The SciPy Stack\n",
    "\n",
    "This is our _toolbelt_. It's a collection of data science tools for Python."
   ]
  },
  {
   "cell_type": "markdown",
   "metadata": {
    "colab_type": "text",
    "id": "1FYk1GOWWMYs",
    "slideshow": {
     "slide_type": "fragment"
    }
   },
   "source": [
    "- NumPy   /  SciPy library /  pandas  /  Matplotlib  /   IPython\n",
    "\n",
    "Plus\n",
    "- Jupyter (we use a version of Jupyter called *Colab*) / Sci-kit Learn / Seaborn\n",
    "\n",
    "![](https://github.com/organisciak/Scripting-Course/blob/master/images/axe-meme.jpg?raw=1)"
   ]
  },
  {
   "cell_type": "markdown",
   "metadata": {
    "colab_type": "text",
    "id": "K1CAKFVmWMYv",
    "slideshow": {
     "slide_type": "slide"
    }
   },
   "source": [
    "# Example Demonstration"
   ]
  },
  {
   "cell_type": "code",
   "execution_count": 0,
   "metadata": {
    "colab": {},
    "colab_type": "code",
    "id": "N0f2LrPjWMYv",
    "slideshow": {
     "slide_type": "subslide"
    }
   },
   "outputs": [],
   "source": [
    "%matplotlib inline\n",
    "import pandas as pd\n",
    "import seaborn as sns\n",
    "sns.set(style=\"ticks\")"
   ]
  },
  {
   "cell_type": "markdown",
   "metadata": {
    "colab_type": "text",
    "id": "jQMt4RozWMYz",
    "slideshow": {
     "slide_type": "fragment"
    }
   },
   "source": [
    "Load the Iris dataset, a famous sample datasets introduced by Fisher in:\n",
    "\n",
    "    Fisher,R.A. \"The use of multiple measurements in taxonomic problems\". Annual Eugenics, 7, Part II, 179-188 (1936).\n",
    "\n"
   ]
  },
  {
   "cell_type": "code",
   "execution_count": 2,
   "metadata": {
    "colab": {
     "base_uri": "https://localhost:8080/",
     "height": 359
    },
    "colab_type": "code",
    "id": "dpSxxwANWMY0",
    "outputId": "2b729f64-b565-4dd7-ed37-79a51c0cb2d9",
    "slideshow": {
     "slide_type": "fragment"
    }
   },
   "outputs": [
    {
     "data": {
      "text/html": [
       "<div>\n",
       "<style scoped>\n",
       "    .dataframe tbody tr th:only-of-type {\n",
       "        vertical-align: middle;\n",
       "    }\n",
       "\n",
       "    .dataframe tbody tr th {\n",
       "        vertical-align: top;\n",
       "    }\n",
       "\n",
       "    .dataframe thead th {\n",
       "        text-align: right;\n",
       "    }\n",
       "</style>\n",
       "<table border=\"1\" class=\"dataframe\">\n",
       "  <thead>\n",
       "    <tr style=\"text-align: right;\">\n",
       "      <th></th>\n",
       "      <th>sepal_length</th>\n",
       "      <th>sepal_width</th>\n",
       "      <th>petal_length</th>\n",
       "      <th>petal_width</th>\n",
       "      <th>species</th>\n",
       "    </tr>\n",
       "  </thead>\n",
       "  <tbody>\n",
       "    <tr>\n",
       "      <th>87</th>\n",
       "      <td>6.3</td>\n",
       "      <td>2.3</td>\n",
       "      <td>4.4</td>\n",
       "      <td>1.3</td>\n",
       "      <td>versicolor</td>\n",
       "    </tr>\n",
       "    <tr>\n",
       "      <th>48</th>\n",
       "      <td>5.3</td>\n",
       "      <td>3.7</td>\n",
       "      <td>1.5</td>\n",
       "      <td>0.2</td>\n",
       "      <td>setosa</td>\n",
       "    </tr>\n",
       "    <tr>\n",
       "      <th>8</th>\n",
       "      <td>4.4</td>\n",
       "      <td>2.9</td>\n",
       "      <td>1.4</td>\n",
       "      <td>0.2</td>\n",
       "      <td>setosa</td>\n",
       "    </tr>\n",
       "    <tr>\n",
       "      <th>79</th>\n",
       "      <td>5.7</td>\n",
       "      <td>2.6</td>\n",
       "      <td>3.5</td>\n",
       "      <td>1.0</td>\n",
       "      <td>versicolor</td>\n",
       "    </tr>\n",
       "    <tr>\n",
       "      <th>12</th>\n",
       "      <td>4.8</td>\n",
       "      <td>3.0</td>\n",
       "      <td>1.4</td>\n",
       "      <td>0.1</td>\n",
       "      <td>setosa</td>\n",
       "    </tr>\n",
       "    <tr>\n",
       "      <th>83</th>\n",
       "      <td>6.0</td>\n",
       "      <td>2.7</td>\n",
       "      <td>5.1</td>\n",
       "      <td>1.6</td>\n",
       "      <td>versicolor</td>\n",
       "    </tr>\n",
       "    <tr>\n",
       "      <th>52</th>\n",
       "      <td>6.9</td>\n",
       "      <td>3.1</td>\n",
       "      <td>4.9</td>\n",
       "      <td>1.5</td>\n",
       "      <td>versicolor</td>\n",
       "    </tr>\n",
       "    <tr>\n",
       "      <th>114</th>\n",
       "      <td>5.8</td>\n",
       "      <td>2.8</td>\n",
       "      <td>5.1</td>\n",
       "      <td>2.4</td>\n",
       "      <td>virginica</td>\n",
       "    </tr>\n",
       "    <tr>\n",
       "      <th>1</th>\n",
       "      <td>4.9</td>\n",
       "      <td>3.0</td>\n",
       "      <td>1.4</td>\n",
       "      <td>0.2</td>\n",
       "      <td>setosa</td>\n",
       "    </tr>\n",
       "    <tr>\n",
       "      <th>115</th>\n",
       "      <td>6.4</td>\n",
       "      <td>3.2</td>\n",
       "      <td>5.3</td>\n",
       "      <td>2.3</td>\n",
       "      <td>virginica</td>\n",
       "    </tr>\n",
       "  </tbody>\n",
       "</table>\n",
       "</div>"
      ],
      "text/plain": [
       "     sepal_length  sepal_width  petal_length  petal_width     species\n",
       "87            6.3          2.3           4.4          1.3  versicolor\n",
       "48            5.3          3.7           1.5          0.2      setosa\n",
       "8             4.4          2.9           1.4          0.2      setosa\n",
       "79            5.7          2.6           3.5          1.0  versicolor\n",
       "12            4.8          3.0           1.4          0.1      setosa\n",
       "83            6.0          2.7           5.1          1.6  versicolor\n",
       "52            6.9          3.1           4.9          1.5  versicolor\n",
       "114           5.8          2.8           5.1          2.4   virginica\n",
       "1             4.9          3.0           1.4          0.2      setosa\n",
       "115           6.4          3.2           5.3          2.3   virginica"
      ]
     },
     "execution_count": 2,
     "metadata": {
      "tags": []
     },
     "output_type": "execute_result"
    }
   ],
   "source": [
    "iris = sns.load_dataset(\"iris\")\n",
    "iris.sample(10)"
   ]
  },
  {
   "cell_type": "code",
   "execution_count": 3,
   "metadata": {
    "colab": {
     "base_uri": "https://localhost:8080/",
     "height": 173
    },
    "colab_type": "code",
    "id": "ESwRNV3SWMY3",
    "outputId": "e57dc594-d698-49c8-d429-320c192de954",
    "slideshow": {
     "slide_type": "subslide"
    }
   },
   "outputs": [
    {
     "data": {
      "text/html": [
       "<div>\n",
       "<style scoped>\n",
       "    .dataframe tbody tr th:only-of-type {\n",
       "        vertical-align: middle;\n",
       "    }\n",
       "\n",
       "    .dataframe tbody tr th {\n",
       "        vertical-align: top;\n",
       "    }\n",
       "\n",
       "    .dataframe thead th {\n",
       "        text-align: right;\n",
       "    }\n",
       "</style>\n",
       "<table border=\"1\" class=\"dataframe\">\n",
       "  <thead>\n",
       "    <tr style=\"text-align: right;\">\n",
       "      <th></th>\n",
       "      <th>sepal_length</th>\n",
       "      <th>sepal_width</th>\n",
       "      <th>petal_length</th>\n",
       "      <th>petal_width</th>\n",
       "    </tr>\n",
       "    <tr>\n",
       "      <th>species</th>\n",
       "      <th></th>\n",
       "      <th></th>\n",
       "      <th></th>\n",
       "      <th></th>\n",
       "    </tr>\n",
       "  </thead>\n",
       "  <tbody>\n",
       "    <tr>\n",
       "      <th>setosa</th>\n",
       "      <td>5.006</td>\n",
       "      <td>3.428</td>\n",
       "      <td>1.462</td>\n",
       "      <td>0.246</td>\n",
       "    </tr>\n",
       "    <tr>\n",
       "      <th>versicolor</th>\n",
       "      <td>5.936</td>\n",
       "      <td>2.770</td>\n",
       "      <td>4.260</td>\n",
       "      <td>1.326</td>\n",
       "    </tr>\n",
       "    <tr>\n",
       "      <th>virginica</th>\n",
       "      <td>6.588</td>\n",
       "      <td>2.974</td>\n",
       "      <td>5.552</td>\n",
       "      <td>2.026</td>\n",
       "    </tr>\n",
       "  </tbody>\n",
       "</table>\n",
       "</div>"
      ],
      "text/plain": [
       "            sepal_length  sepal_width  petal_length  petal_width\n",
       "species                                                         \n",
       "setosa             5.006        3.428         1.462        0.246\n",
       "versicolor         5.936        2.770         4.260        1.326\n",
       "virginica          6.588        2.974         5.552        2.026"
      ]
     },
     "execution_count": 3,
     "metadata": {
      "tags": []
     },
     "output_type": "execute_result"
    }
   ],
   "source": [
    "iris.groupby(['species']).mean()"
   ]
  },
  {
   "cell_type": "code",
   "execution_count": 4,
   "metadata": {
    "colab": {
     "base_uri": "https://localhost:8080/",
     "height": 204
    },
    "colab_type": "code",
    "id": "HdLYJ0-iWMY7",
    "outputId": "2225188f-ac6d-474e-8d30-1c8b423e7c8f",
    "slideshow": {
     "slide_type": "subslide"
    }
   },
   "outputs": [
    {
     "data": {
      "text/html": [
       "<div>\n",
       "<style scoped>\n",
       "    .dataframe tbody tr th:only-of-type {\n",
       "        vertical-align: middle;\n",
       "    }\n",
       "\n",
       "    .dataframe tbody tr th {\n",
       "        vertical-align: top;\n",
       "    }\n",
       "\n",
       "    .dataframe thead tr th {\n",
       "        text-align: left;\n",
       "    }\n",
       "\n",
       "    .dataframe thead tr:last-of-type th {\n",
       "        text-align: right;\n",
       "    }\n",
       "</style>\n",
       "<table border=\"1\" class=\"dataframe\">\n",
       "  <thead>\n",
       "    <tr>\n",
       "      <th></th>\n",
       "      <th colspan=\"3\" halign=\"left\">sepal_length</th>\n",
       "      <th colspan=\"3\" halign=\"left\">sepal_width</th>\n",
       "      <th colspan=\"3\" halign=\"left\">petal_length</th>\n",
       "      <th colspan=\"3\" halign=\"left\">petal_width</th>\n",
       "    </tr>\n",
       "    <tr>\n",
       "      <th></th>\n",
       "      <th>mean</th>\n",
       "      <th>std</th>\n",
       "      <th>sem</th>\n",
       "      <th>mean</th>\n",
       "      <th>std</th>\n",
       "      <th>sem</th>\n",
       "      <th>mean</th>\n",
       "      <th>std</th>\n",
       "      <th>sem</th>\n",
       "      <th>mean</th>\n",
       "      <th>std</th>\n",
       "      <th>sem</th>\n",
       "    </tr>\n",
       "    <tr>\n",
       "      <th>species</th>\n",
       "      <th></th>\n",
       "      <th></th>\n",
       "      <th></th>\n",
       "      <th></th>\n",
       "      <th></th>\n",
       "      <th></th>\n",
       "      <th></th>\n",
       "      <th></th>\n",
       "      <th></th>\n",
       "      <th></th>\n",
       "      <th></th>\n",
       "      <th></th>\n",
       "    </tr>\n",
       "  </thead>\n",
       "  <tbody>\n",
       "    <tr>\n",
       "      <th>setosa</th>\n",
       "      <td>5.006</td>\n",
       "      <td>0.352490</td>\n",
       "      <td>0.049850</td>\n",
       "      <td>3.428</td>\n",
       "      <td>0.379064</td>\n",
       "      <td>0.053608</td>\n",
       "      <td>1.462</td>\n",
       "      <td>0.173664</td>\n",
       "      <td>0.024560</td>\n",
       "      <td>0.246</td>\n",
       "      <td>0.105386</td>\n",
       "      <td>0.014904</td>\n",
       "    </tr>\n",
       "    <tr>\n",
       "      <th>versicolor</th>\n",
       "      <td>5.936</td>\n",
       "      <td>0.516171</td>\n",
       "      <td>0.072998</td>\n",
       "      <td>2.770</td>\n",
       "      <td>0.313798</td>\n",
       "      <td>0.044378</td>\n",
       "      <td>4.260</td>\n",
       "      <td>0.469911</td>\n",
       "      <td>0.066455</td>\n",
       "      <td>1.326</td>\n",
       "      <td>0.197753</td>\n",
       "      <td>0.027966</td>\n",
       "    </tr>\n",
       "    <tr>\n",
       "      <th>virginica</th>\n",
       "      <td>6.588</td>\n",
       "      <td>0.635880</td>\n",
       "      <td>0.089927</td>\n",
       "      <td>2.974</td>\n",
       "      <td>0.322497</td>\n",
       "      <td>0.045608</td>\n",
       "      <td>5.552</td>\n",
       "      <td>0.551895</td>\n",
       "      <td>0.078050</td>\n",
       "      <td>2.026</td>\n",
       "      <td>0.274650</td>\n",
       "      <td>0.038841</td>\n",
       "    </tr>\n",
       "  </tbody>\n",
       "</table>\n",
       "</div>"
      ],
      "text/plain": [
       "           sepal_length                      ... petal_width                    \n",
       "                   mean       std       sem  ...        mean       std       sem\n",
       "species                                      ...                                \n",
       "setosa            5.006  0.352490  0.049850  ...       0.246  0.105386  0.014904\n",
       "versicolor        5.936  0.516171  0.072998  ...       1.326  0.197753  0.027966\n",
       "virginica         6.588  0.635880  0.089927  ...       2.026  0.274650  0.038841\n",
       "\n",
       "[3 rows x 12 columns]"
      ]
     },
     "execution_count": 4,
     "metadata": {
      "tags": []
     },
     "output_type": "execute_result"
    }
   ],
   "source": [
    "iris.groupby(['species']).aggregate(['mean', 'std', 'sem'])"
   ]
  },
  {
   "cell_type": "code",
   "execution_count": 5,
   "metadata": {
    "colab": {
     "base_uri": "https://localhost:8080/",
     "height": 339
    },
    "colab_type": "code",
    "id": "eFPDOMAvWMY-",
    "outputId": "48418775-c4dd-4646-8581-10f3936bedb2",
    "scrolled": true,
    "slideshow": {
     "slide_type": "subslide"
    }
   },
   "outputs": [
    {
     "name": "stderr",
     "output_type": "stream",
     "text": [
      "'c' argument looks like a single numeric RGB or RGBA sequence, which should be avoided as value-mapping will have precedence in case its length matches with 'x' & 'y'.  Please use a 2-D array with a single row if you really want to specify the same RGB or RGBA value for all points.\n"
     ]
    },
    {
     "data": {
      "text/plain": [
       "<matplotlib.axes._subplots.AxesSubplot at 0x7fc584dfcb70>"
      ]
     },
     "execution_count": 5,
     "metadata": {
      "tags": []
     },
     "output_type": "execute_result"
    },
    {
     "data": {
      "image/png": "[encoded data removed]",
      "text/plain": [
       "<Figure size 432x288 with 1 Axes>"
      ]
     },
     "metadata": {
      "tags": []
     },
     "output_type": "display_data"
    }
   ],
   "source": [
    "iris.plot(kind='scatter', x='petal_length', y='petal_width')"
   ]
  },
  {
   "cell_type": "code",
   "execution_count": 6,
   "metadata": {
    "colab": {
     "base_uri": "https://localhost:8080/",
     "height": 382
    },
    "colab_type": "code",
    "id": "FbIdG_eOWMZB",
    "outputId": "9e0dae6f-e577-4979-8074-2be011d210c5",
    "slideshow": {
     "slide_type": "subslide"
    }
   },
   "outputs": [
    {
     "data": {
      "text/plain": [
       "<seaborn.axisgrid.FacetGrid at 0x7fc583b38320>"
      ]
     },
     "execution_count": 6,
     "metadata": {
      "tags": []
     },
     "output_type": "execute_result"
    },
    {
     "data": {
      "image/png": "[encoded data removed]",
      "text/plain": [
       "<Figure size 453.85x360 with 1 Axes>"
      ]
     },
     "metadata": {
      "tags": []
     },
     "output_type": "display_data"
    }
   ],
   "source": [
    "sns.lmplot(data=iris,\n",
    "           x='petal_length',\n",
    "           y='petal_width',\n",
    "           hue='species',\n",
    "           fit_reg=False)"
   ]
  },
  {
   "cell_type": "code",
   "execution_count": 7,
   "metadata": {
    "colab": {
     "base_uri": "https://localhost:8080/",
     "height": 765
    },
    "colab_type": "code",
    "id": "j_zSu-HoWMZE",
    "outputId": "715d8c0d-fa18-4ec9-ac22-3602b0a3f51e",
    "slideshow": {
     "slide_type": "subslide"
    }
   },
   "outputs": [
    {
     "data": {
      "text/plain": [
       "<seaborn.axisgrid.PairGrid at 0x7fc58ffc66d8>"
      ]
     },
     "execution_count": 7,
     "metadata": {
      "tags": []
     },
     "output_type": "execute_result"
    },
    {
     "data": {
      "image/png": "[encoded data removed]",
      "text/plain": [
       "<Figure size 813.85x720 with 20 Axes>"
      ]
     },
     "metadata": {
      "tags": []
     },
     "output_type": "display_data"
    }
   ],
   "source": [
    "sns.pairplot(iris, hue='species')"
   ]
  },
  {
   "cell_type": "markdown",
   "metadata": {
    "colab_type": "text",
    "id": "Xkw0bSfXWMZI",
    "slideshow": {
     "slide_type": "slide"
    }
   },
   "source": [
    "# Adding data to a relational database"
   ]
  },
  {
   "cell_type": "markdown",
   "metadata": {
    "colab_type": "text",
    "id": "YrMjqjRnWMZN",
    "slideshow": {
     "slide_type": "subslide"
    }
   },
   "source": [
    "Create a connection to an SQLite database.\n",
    "\n",
    "SQLite is a very lightweight (i.e. easy to set up) relational database - SQL skills used with it will largely transfer to Postgres, SQLServer, MySQL, etc."
   ]
  },
  {
   "cell_type": "code",
   "execution_count": 1,
   "metadata": {
    "colab": {
     "base_uri": "https://localhost:8080/",
     "height": 34
    },
    "colab_type": "code",
    "id": "ruP39wOSWMZO",
    "outputId": "37d7a6e9-e7bd-4f3a-b1db-6e571d6c3fb0",
    "slideshow": {
     "slide_type": "-"
    }
   },
   "outputs": [
    {
     "data": {
      "text/plain": [
       "<sqlite3.Connection at 0x25d3e03eab0>"
      ]
     },
     "execution_count": 1,
     "metadata": {},
     "output_type": "execute_result"
    }
   ],
   "source": [
    "import sqlite3\n",
    "conn = sqlite3.connect('week1-example.db') \n",
    "conn"
   ]
  },
  {
   "cell_type": "markdown",
   "metadata": {
    "colab_type": "text",
    "id": "WAtab_kvWMZR",
    "slideshow": {
     "slide_type": "-"
    }
   },
   "source": [
    "Tada!"
   ]
  },
  {
   "cell_type": "markdown",
   "metadata": {
    "colab_type": "text",
    "id": "id52L6XYWMZS",
    "slideshow": {
     "slide_type": "subslide"
    }
   },
   "source": [
    "### Create a table and insert data\n",
    "\n",
    "_This example is from the [Python documentation](https://docs.python.org/2/library/sqlite3.html)._\n",
    "\n",
    "Use the `CREATE TABLE` syntax to create a table, then `INSERT` to add some data."
   ]
  },
  {
   "cell_type": "code",
   "execution_count": 2,
   "metadata": {
    "colab": {
     "base_uri": "https://localhost:8080/",
     "height": 34
    },
    "colab_type": "code",
    "id": "cWlVC8GiWMZV",
    "outputId": "a6348fe2-9119-4712-d65f-1d0d7f054244"
   },
   "outputs": [
    {
     "data": {
      "text/plain": [
       "<sqlite3.Cursor at 0x25d3e0bb420>"
      ]
     },
     "execution_count": 2,
     "metadata": {},
     "output_type": "execute_result"
    }
   ],
   "source": [
    "c = conn.cursor()\n",
    "c.execute('''CREATE TABLE stocks\n",
    "            (date text, trans text, symbol text, qty real, price real)''')"
   ]
  },
  {
   "cell_type": "markdown",
   "metadata": {
    "colab_type": "text",
    "id": "24IKGVuBWMZb",
    "slideshow": {
     "slide_type": "subslide"
    }
   },
   "source": [
    "A *cursor* is a temporary workspace, before you save or fetch data."
   ]
  },
  {
   "cell_type": "code",
   "execution_count": 3,
   "metadata": {
    "colab": {
     "base_uri": "https://localhost:8080/",
     "height": 34
    },
    "colab_type": "code",
    "id": "Nn83h68ZWMZc",
    "outputId": "a9f5841a-f5bc-4d7c-8423-01a0449426cd"
   },
   "outputs": [
    {
     "data": {
      "text/plain": [
       "<sqlite3.Cursor at 0x25d3e0bb420>"
      ]
     },
     "execution_count": 3,
     "metadata": {},
     "output_type": "execute_result"
    }
   ],
   "source": [
    "c.execute(\"INSERT INTO stocks VALUES ('2006-01-05','BUY','RHAT',100,35.14)\")"
   ]
  },
  {
   "cell_type": "code",
   "execution_count": 4,
   "metadata": {
    "colab": {},
    "colab_type": "code",
    "id": "ni8vRpdxWMZk"
   },
   "outputs": [],
   "source": [
    "# Save it!\n",
    "conn.commit()"
   ]
  },
  {
   "cell_type": "markdown",
   "metadata": {
    "colab_type": "text",
    "id": "sKgVr1XZWMZq",
    "slideshow": {
     "slide_type": "subslide"
    }
   },
   "source": [
    "Get the Data back out with a `SELECT` statement."
   ]
  },
  {
   "cell_type": "code",
   "execution_count": 5,
   "metadata": {
    "colab": {
     "base_uri": "https://localhost:8080/",
     "height": 34
    },
    "colab_type": "code",
    "id": "96rZvqDwWMZr",
    "outputId": "1f59c4f8-7f0c-4cbd-f7d3-63151b015c4b"
   },
   "outputs": [
    {
     "data": {
      "text/plain": [
       "[('2006-01-05', 'BUY', 'RHAT', 100.0, 35.14)]"
      ]
     },
     "execution_count": 5,
     "metadata": {},
     "output_type": "execute_result"
    }
   ],
   "source": [
    "c.execute(\"SELECT * FROM stocks\")\n",
    "c.fetchall()"
   ]
  },
  {
   "cell_type": "markdown",
   "metadata": {
    "colab_type": "text",
    "id": "JkRnqshoWMZz",
    "slideshow": {
     "slide_type": "subslide"
    }
   },
   "source": [
    "## Scaffolding to SQLite with Pandas.\n",
    "\n",
    "Now lets try the `CREATE TABLE` and `INSERT` with Pandas.\n",
    "\n",
    "I've downloaded and prepared a dataset of GoodReads book ratings ([Source](https://www.kaggle.com/gnanesh/goodreads-book-reviews/downloads/goodreads-book-reviews.zip/2)), let's open it on the computer:"
   ]
  },
  {
   "cell_type": "code",
   "execution_count": 6,
   "metadata": {
    "colab": {
     "base_uri": "https://localhost:8080/",
     "height": 204
    },
    "colab_type": "code",
    "id": "_Y8Yu8PEWMZ0",
    "outputId": "c42ae865-f0a0-4d26-c7ad-0089cff0ff56",
    "scrolled": true
   },
   "outputs": [
    {
     "data": {
      "text/html": [
       "<div>\n",
       "<style scoped>\n",
       "    .dataframe tbody tr th:only-of-type {\n",
       "        vertical-align: middle;\n",
       "    }\n",
       "\n",
       "    .dataframe tbody tr th {\n",
       "        vertical-align: top;\n",
       "    }\n",
       "\n",
       "    .dataframe thead th {\n",
       "        text-align: right;\n",
       "    }\n",
       "</style>\n",
       "<table border=\"1\" class=\"dataframe\">\n",
       "  <thead>\n",
       "    <tr style=\"text-align: right;\">\n",
       "      <th></th>\n",
       "      <th>bookID</th>\n",
       "      <th>title</th>\n",
       "      <th>author</th>\n",
       "      <th>rating</th>\n",
       "      <th>ratingsCount</th>\n",
       "      <th>reviewsCount</th>\n",
       "      <th>reviewerName</th>\n",
       "      <th>reviewerRatings</th>\n",
       "    </tr>\n",
       "  </thead>\n",
       "  <tbody>\n",
       "    <tr>\n",
       "      <th>0</th>\n",
       "      <td>9</td>\n",
       "      <td>Unauthorized Harry Potter Book Seven News: \"Ha...</td>\n",
       "      <td>W. Frederick Zimmerman</td>\n",
       "      <td>3.73</td>\n",
       "      <td>22</td>\n",
       "      <td>1</td>\n",
       "      <td>Charles G</td>\n",
       "      <td>3.0</td>\n",
       "    </tr>\n",
       "    <tr>\n",
       "      <th>1</th>\n",
       "      <td>8</td>\n",
       "      <td>Harry Potter Boxed Set, Books 1-5 (Harry Potte...</td>\n",
       "      <td>J.K. Rowling</td>\n",
       "      <td>4.77</td>\n",
       "      <td>34107</td>\n",
       "      <td>156</td>\n",
       "      <td>✿Katherine Elizabeth✿</td>\n",
       "      <td>5.0</td>\n",
       "    </tr>\n",
       "    <tr>\n",
       "      <th>2</th>\n",
       "      <td>3</td>\n",
       "      <td>Harry Potter and the Sorcerer's Stone</td>\n",
       "      <td>J.K. Rowling</td>\n",
       "      <td>4.44</td>\n",
       "      <td>4911929</td>\n",
       "      <td>77741</td>\n",
       "      <td>Lora</td>\n",
       "      <td>5.0</td>\n",
       "    </tr>\n",
       "    <tr>\n",
       "      <th>3</th>\n",
       "      <td>1</td>\n",
       "      <td>Harry Potter and the Half-Blood Prince (Harry ...</td>\n",
       "      <td>J.K. Rowling</td>\n",
       "      <td>4.54</td>\n",
       "      <td>1810404</td>\n",
       "      <td>28053</td>\n",
       "      <td>Cait (Paper Fury)</td>\n",
       "      <td>5.0</td>\n",
       "    </tr>\n",
       "    <tr>\n",
       "      <th>4</th>\n",
       "      <td>2</td>\n",
       "      <td>Harry Potter and the Order of the Phoenix (Har...</td>\n",
       "      <td>J.K. Rowling</td>\n",
       "      <td>4.47</td>\n",
       "      <td>1862749</td>\n",
       "      <td>29308</td>\n",
       "      <td>Diane ϟ [ Lestrange ]</td>\n",
       "      <td>5.0</td>\n",
       "    </tr>\n",
       "  </tbody>\n",
       "</table>\n",
       "</div>"
      ],
      "text/plain": [
       "   bookID                                              title  \\\n",
       "0       9  Unauthorized Harry Potter Book Seven News: \"Ha...   \n",
       "1       8  Harry Potter Boxed Set, Books 1-5 (Harry Potte...   \n",
       "2       3              Harry Potter and the Sorcerer's Stone   \n",
       "3       1  Harry Potter and the Half-Blood Prince (Harry ...   \n",
       "4       2  Harry Potter and the Order of the Phoenix (Har...   \n",
       "\n",
       "                   author  rating  ratingsCount  reviewsCount  \\\n",
       "0  W. Frederick Zimmerman    3.73            22             1   \n",
       "1            J.K. Rowling    4.77         34107           156   \n",
       "2            J.K. Rowling    4.44       4911929         77741   \n",
       "3            J.K. Rowling    4.54       1810404         28053   \n",
       "4            J.K. Rowling    4.47       1862749         29308   \n",
       "\n",
       "            reviewerName  reviewerRatings  \n",
       "0              Charles G              3.0  \n",
       "1  ✿Katherine Elizabeth✿              5.0  \n",
       "2                   Lora              5.0  \n",
       "3      Cait (Paper Fury)              5.0  \n",
       "4  Diane ϟ [ Lestrange ]              5.0  "
      ]
     },
     "execution_count": 6,
     "metadata": {},
     "output_type": "execute_result"
    }
   ],
   "source": [
    "import pandas as pd\n",
    "# Data downloaded from Kaggle: \n",
    "data = pd.read_csv(\"https://github.com/organisciak/Scripting-Course/blob/master/data/br-trimmed.csv.bz2?raw=true\", compression='bz2')\n",
    "data.head()"
   ]
  },
  {
   "cell_type": "markdown",
   "metadata": {
    "colab_type": "text",
    "id": "FNYBw9miWMZ3"
   },
   "source": [
    "The dataset is a bit messy - 300k reviews - ultimately not too big - without much documentation."
   ]
  },
  {
   "cell_type": "markdown",
   "metadata": {
    "colab_type": "text",
    "id": "lEnJJ0ZJWMZ4",
    "slideshow": {
     "slide_type": "subslide"
    }
   },
   "source": [
    "This data is *structured* - perfect for a database.\n",
    "\n",
    "We already have a connection open to SQLite - lets drop the data there."
   ]
  },
  {
   "cell_type": "code",
   "execution_count": 7,
   "metadata": {
    "colab": {},
    "colab_type": "code",
    "id": "w2pUrmM7WMZ5",
    "scrolled": true,
    "slideshow": {
     "slide_type": "fragment"
    }
   },
   "outputs": [],
   "source": [
    "data.to_sql(name='goodreads', con=conn)"
   ]
  },
  {
   "cell_type": "markdown",
   "metadata": {
    "colab_type": "text",
    "id": "lug-2bxjWMaB",
    "slideshow": {
     "slide_type": "fragment"
    }
   },
   "source": [
    "That's it - all $312074$ rows are in!\n",
    "\n",
    "Let's try selecting in the tradition, SQL-based way."
   ]
  },
  {
   "cell_type": "code",
   "execution_count": 8,
   "metadata": {
    "colab": {
     "base_uri": "https://localhost:8080/",
     "height": 170
    },
    "colab_type": "code",
    "id": "lY79t6zTWMaC",
    "outputId": "1893214a-728c-47d1-bcca-044d6af73851",
    "slideshow": {
     "slide_type": "subslide"
    }
   },
   "outputs": [
    {
     "data": {
      "text/plain": [
       "(0,\n",
       " 9,\n",
       " 'Unauthorized Harry Potter Book Seven News: \"Half-Blood Prince\" Analysis and Speculation',\n",
       " 'W. Frederick Zimmerman',\n",
       " 3.73,\n",
       " 22,\n",
       " 1,\n",
       " 'Charles G',\n",
       " 3.0)"
      ]
     },
     "execution_count": 8,
     "metadata": {},
     "output_type": "execute_result"
    }
   ],
   "source": [
    "c.execute(\"SELECT * FROM goodreads\")\n",
    "c.fetchone()"
   ]
  },
  {
   "cell_type": "code",
   "execution_count": 9,
   "metadata": {
    "colab": {
     "base_uri": "https://localhost:8080/",
     "height": 34
    },
    "colab_type": "code",
    "id": "ExCCrpMIWMaG",
    "outputId": "9da88d6e-fc37-4bec-a2fc-d1cd60b3af5d",
    "slideshow": {
     "slide_type": "subslide"
    }
   },
   "outputs": [
    {
     "data": {
      "text/plain": [
       "(312074,)"
      ]
     },
     "execution_count": 9,
     "metadata": {},
     "output_type": "execute_result"
    }
   ],
   "source": [
    "c.execute(\"SELECT count(*) FROM goodreads\")\n",
    "c.fetchone()"
   ]
  },
  {
   "cell_type": "markdown",
   "metadata": {
    "colab_type": "text",
    "id": "XZZnG8EvWMaK",
    "slideshow": {
     "slide_type": "subslide"
    }
   },
   "source": [
    "### `SELECT`ing data with Pandas"
   ]
  },
  {
   "cell_type": "code",
   "execution_count": 10,
   "metadata": {
    "colab": {
     "base_uri": "https://localhost:8080/",
     "height": 204
    },
    "colab_type": "code",
    "id": "Vi8f3KDbWMaL",
    "outputId": "59f39b81-f5df-49af-9b48-1f5fbd036172",
    "slideshow": {
     "slide_type": "-"
    }
   },
   "outputs": [
    {
     "data": {
      "text/html": [
       "<div>\n",
       "<style scoped>\n",
       "    .dataframe tbody tr th:only-of-type {\n",
       "        vertical-align: middle;\n",
       "    }\n",
       "\n",
       "    .dataframe tbody tr th {\n",
       "        vertical-align: top;\n",
       "    }\n",
       "\n",
       "    .dataframe thead th {\n",
       "        text-align: right;\n",
       "    }\n",
       "</style>\n",
       "<table border=\"1\" class=\"dataframe\">\n",
       "  <thead>\n",
       "    <tr style=\"text-align: right;\">\n",
       "      <th></th>\n",
       "      <th>index</th>\n",
       "      <th>bookID</th>\n",
       "      <th>title</th>\n",
       "      <th>author</th>\n",
       "      <th>rating</th>\n",
       "      <th>ratingsCount</th>\n",
       "      <th>reviewsCount</th>\n",
       "      <th>reviewerName</th>\n",
       "      <th>reviewerRatings</th>\n",
       "    </tr>\n",
       "  </thead>\n",
       "  <tbody>\n",
       "    <tr>\n",
       "      <th>0</th>\n",
       "      <td>0</td>\n",
       "      <td>9</td>\n",
       "      <td>Unauthorized Harry Potter Book Seven News: \"Ha...</td>\n",
       "      <td>W. Frederick Zimmerman</td>\n",
       "      <td>3.73</td>\n",
       "      <td>22</td>\n",
       "      <td>1</td>\n",
       "      <td>Charles G</td>\n",
       "      <td>3.0</td>\n",
       "    </tr>\n",
       "    <tr>\n",
       "      <th>1</th>\n",
       "      <td>1</td>\n",
       "      <td>8</td>\n",
       "      <td>Harry Potter Boxed Set, Books 1-5 (Harry Potte...</td>\n",
       "      <td>J.K. Rowling</td>\n",
       "      <td>4.77</td>\n",
       "      <td>34107</td>\n",
       "      <td>156</td>\n",
       "      <td>✿Katherine Elizabeth✿</td>\n",
       "      <td>5.0</td>\n",
       "    </tr>\n",
       "    <tr>\n",
       "      <th>2</th>\n",
       "      <td>2</td>\n",
       "      <td>3</td>\n",
       "      <td>Harry Potter and the Sorcerer's Stone</td>\n",
       "      <td>J.K. Rowling</td>\n",
       "      <td>4.44</td>\n",
       "      <td>4911929</td>\n",
       "      <td>77741</td>\n",
       "      <td>Lora</td>\n",
       "      <td>5.0</td>\n",
       "    </tr>\n",
       "    <tr>\n",
       "      <th>3</th>\n",
       "      <td>3</td>\n",
       "      <td>1</td>\n",
       "      <td>Harry Potter and the Half-Blood Prince (Harry ...</td>\n",
       "      <td>J.K. Rowling</td>\n",
       "      <td>4.54</td>\n",
       "      <td>1810404</td>\n",
       "      <td>28053</td>\n",
       "      <td>Cait (Paper Fury)</td>\n",
       "      <td>5.0</td>\n",
       "    </tr>\n",
       "    <tr>\n",
       "      <th>4</th>\n",
       "      <td>4</td>\n",
       "      <td>2</td>\n",
       "      <td>Harry Potter and the Order of the Phoenix (Har...</td>\n",
       "      <td>J.K. Rowling</td>\n",
       "      <td>4.47</td>\n",
       "      <td>1862749</td>\n",
       "      <td>29308</td>\n",
       "      <td>Diane ϟ [ Lestrange ]</td>\n",
       "      <td>5.0</td>\n",
       "    </tr>\n",
       "  </tbody>\n",
       "</table>\n",
       "</div>"
      ],
      "text/plain": [
       "   index  bookID                                              title  \\\n",
       "0      0       9  Unauthorized Harry Potter Book Seven News: \"Ha...   \n",
       "1      1       8  Harry Potter Boxed Set, Books 1-5 (Harry Potte...   \n",
       "2      2       3              Harry Potter and the Sorcerer's Stone   \n",
       "3      3       1  Harry Potter and the Half-Blood Prince (Harry ...   \n",
       "4      4       2  Harry Potter and the Order of the Phoenix (Har...   \n",
       "\n",
       "                   author  rating  ratingsCount  reviewsCount  \\\n",
       "0  W. Frederick Zimmerman    3.73            22             1   \n",
       "1            J.K. Rowling    4.77         34107           156   \n",
       "2            J.K. Rowling    4.44       4911929         77741   \n",
       "3            J.K. Rowling    4.54       1810404         28053   \n",
       "4            J.K. Rowling    4.47       1862749         29308   \n",
       "\n",
       "            reviewerName  reviewerRatings  \n",
       "0              Charles G              3.0  \n",
       "1  ✿Katherine Elizabeth✿              5.0  \n",
       "2                   Lora              5.0  \n",
       "3      Cait (Paper Fury)              5.0  \n",
       "4  Diane ϟ [ Lestrange ]              5.0  "
      ]
     },
     "execution_count": 10,
     "metadata": {},
     "output_type": "execute_result"
    }
   ],
   "source": [
    "data = pd.read_sql(\"SELECT * FROM goodreads\", conn)\n",
    "data.head()"
   ]
  },
  {
   "cell_type": "markdown",
   "metadata": {
    "colab_type": "text",
    "id": "efUpd_3tWMaQ",
    "slideshow": {
     "slide_type": "subslide"
    }
   },
   "source": [
    "### Analysis with Pandas\n",
    "\n",
    "**Q**: Which authors have the most reviews?\n",
    "\n",
    "_(any guesses?)_"
   ]
  },
  {
   "cell_type": "code",
   "execution_count": 11,
   "metadata": {
    "colab": {
     "base_uri": "https://localhost:8080/",
     "height": 204
    },
    "colab_type": "code",
    "id": "B0m-iRioWMaR",
    "outputId": "6d5616a0-8534-44d6-fa68-b2f0ecd010a7",
    "slideshow": {
     "slide_type": "fragment"
    }
   },
   "outputs": [
    {
     "data": {
      "text/plain": [
       "William Shakespeare    851\n",
       "Anonymous              740\n",
       "Stephen King           522\n",
       "R.L. Stine             416\n",
       "C.S. Lewis             335\n",
       "J.R.R. Tolkien         334\n",
       "Fyodor Dostoyevsky     325\n",
       "Harold Bloom           319\n",
       "Agatha Christie        318\n",
       "Roald Dahl             296\n",
       "Name: author, dtype: int64"
      ]
     },
     "execution_count": 11,
     "metadata": {},
     "output_type": "execute_result"
    }
   ],
   "source": [
    "data.author.value_counts().head(10)"
   ]
  },
  {
   "cell_type": "markdown",
   "metadata": {
    "colab_type": "text",
    "id": "kUyVZ25FWMac",
    "slideshow": {
     "slide_type": "subslide"
    }
   },
   "source": [
    "**Q**: Which popular authors have the best average rating?"
   ]
  },
  {
   "cell_type": "markdown",
   "metadata": {
    "colab_type": "text",
    "id": "tAco4YqnWMad",
    "slideshow": {
     "slide_type": "fragment"
    }
   },
   "source": [
    "Get the count of reviews and mean rating for authors."
   ]
  },
  {
   "cell_type": "code",
   "execution_count": 12,
   "metadata": {
    "colab": {
     "base_uri": "https://localhost:8080/",
     "height": 173
    },
    "colab_type": "code",
    "id": "dIevKD_mWMai",
    "outputId": "301a8610-2f14-448b-9166-a62548e41f36",
    "slideshow": {
     "slide_type": "fragment"
    }
   },
   "outputs": [
    {
     "data": {
      "text/html": [
       "<div>\n",
       "<style scoped>\n",
       "    .dataframe tbody tr th:only-of-type {\n",
       "        vertical-align: middle;\n",
       "    }\n",
       "\n",
       "    .dataframe tbody tr th {\n",
       "        vertical-align: top;\n",
       "    }\n",
       "\n",
       "    .dataframe thead th {\n",
       "        text-align: right;\n",
       "    }\n",
       "</style>\n",
       "<table border=\"1\" class=\"dataframe\">\n",
       "  <thead>\n",
       "    <tr style=\"text-align: right;\">\n",
       "      <th></th>\n",
       "      <th>count</th>\n",
       "      <th>mean</th>\n",
       "      <th>var</th>\n",
       "    </tr>\n",
       "    <tr>\n",
       "      <th>author</th>\n",
       "      <th></th>\n",
       "      <th></th>\n",
       "      <th></th>\n",
       "    </tr>\n",
       "  </thead>\n",
       "  <tbody>\n",
       "    <tr>\n",
       "      <th>&amp;#x2BB;Abd Alla&amp;#x304;h Shahba&amp;#x304;zi&amp;#x304;</th>\n",
       "      <td>1</td>\n",
       "      <td>0.00</td>\n",
       "      <td>NaN</td>\n",
       "    </tr>\n",
       "    <tr>\n",
       "      <th>&amp;. Jayne Ernest</th>\n",
       "      <td>1</td>\n",
       "      <td>4.08</td>\n",
       "      <td>NaN</td>\n",
       "    </tr>\n",
       "    <tr>\n",
       "      <th>'N Sync</th>\n",
       "      <td>5</td>\n",
       "      <td>3.31</td>\n",
       "      <td>3.9482</td>\n",
       "    </tr>\n",
       "  </tbody>\n",
       "</table>\n",
       "</div>"
      ],
      "text/plain": [
       "                                                count  mean     var\n",
       "author                                                             \n",
       "&#x2BB;Abd Alla&#x304;h Shahba&#x304;zi&#x304;      1  0.00     NaN\n",
       "&. Jayne Ernest                                     1  4.08     NaN\n",
       "'N Sync                                             5  3.31  3.9482"
      ]
     },
     "execution_count": 12,
     "metadata": {},
     "output_type": "execute_result"
    }
   ],
   "source": [
    "authors = data.groupby('author').rating.aggregate(['count', 'mean', 'var'])\n",
    "authors.head(3)"
   ]
  },
  {
   "cell_type": "markdown",
   "metadata": {
    "colab_type": "text",
    "id": "72woAai7WMas",
    "slideshow": {
     "slide_type": "subslide"
    }
   },
   "source": [
    "Select popular authors."
   ]
  },
  {
   "cell_type": "code",
   "execution_count": 13,
   "metadata": {
    "colab": {
     "base_uri": "https://localhost:8080/",
     "height": 34
    },
    "colab_type": "code",
    "id": "UWmirkPuWMat",
    "outputId": "578d7fca-4da0-40ce-cce2-da4d01634da4",
    "slideshow": {
     "slide_type": "-"
    }
   },
   "outputs": [
    {
     "name": "stdout",
     "output_type": "stream",
     "text": [
      "We now have 136 authors\n"
     ]
    }
   ],
   "source": [
    "popular = authors.query('count > 100')\n",
    "print(\"We now have\", len(popular), \"authors\")"
   ]
  },
  {
   "cell_type": "markdown",
   "metadata": {
    "colab_type": "text",
    "id": "evmPMQHsWMax",
    "slideshow": {
     "slide_type": "fragment"
    }
   },
   "source": [
    "Sort."
   ]
  },
  {
   "cell_type": "code",
   "execution_count": 14,
   "metadata": {
    "colab": {
     "base_uri": "https://localhost:8080/",
     "height": 235
    },
    "colab_type": "code",
    "id": "5tJ-785gWMay",
    "outputId": "ab9df365-c4ca-4dd5-e1a2-e69eb3ce291b"
   },
   "outputs": [
    {
     "data": {
      "text/html": [
       "<div>\n",
       "<style scoped>\n",
       "    .dataframe tbody tr th:only-of-type {\n",
       "        vertical-align: middle;\n",
       "    }\n",
       "\n",
       "    .dataframe tbody tr th {\n",
       "        vertical-align: top;\n",
       "    }\n",
       "\n",
       "    .dataframe thead th {\n",
       "        text-align: right;\n",
       "    }\n",
       "</style>\n",
       "<table border=\"1\" class=\"dataframe\">\n",
       "  <thead>\n",
       "    <tr style=\"text-align: right;\">\n",
       "      <th></th>\n",
       "      <th>count</th>\n",
       "      <th>mean</th>\n",
       "      <th>var</th>\n",
       "    </tr>\n",
       "    <tr>\n",
       "      <th>author</th>\n",
       "      <th></th>\n",
       "      <th></th>\n",
       "      <th></th>\n",
       "    </tr>\n",
       "  </thead>\n",
       "  <tbody>\n",
       "    <tr>\n",
       "      <th>J.K. Rowling</th>\n",
       "      <td>220</td>\n",
       "      <td>4.490409</td>\n",
       "      <td>0.007114</td>\n",
       "    </tr>\n",
       "    <tr>\n",
       "      <th>Jorge Luis Borges</th>\n",
       "      <td>103</td>\n",
       "      <td>4.266505</td>\n",
       "      <td>0.101380</td>\n",
       "    </tr>\n",
       "    <tr>\n",
       "      <th>Hal Leonard Publishing Company</th>\n",
       "      <td>110</td>\n",
       "      <td>4.262727</td>\n",
       "      <td>0.366813</td>\n",
       "    </tr>\n",
       "    <tr>\n",
       "      <th>Patrick O'Brian</th>\n",
       "      <td>103</td>\n",
       "      <td>4.259612</td>\n",
       "      <td>0.049629</td>\n",
       "    </tr>\n",
       "    <tr>\n",
       "      <th>Max Lucado</th>\n",
       "      <td>123</td>\n",
       "      <td>4.259593</td>\n",
       "      <td>0.198932</td>\n",
       "    </tr>\n",
       "  </tbody>\n",
       "</table>\n",
       "</div>"
      ],
      "text/plain": [
       "                                count      mean       var\n",
       "author                                                   \n",
       "J.K. Rowling                      220  4.490409  0.007114\n",
       "Jorge Luis Borges                 103  4.266505  0.101380\n",
       "Hal Leonard Publishing Company    110  4.262727  0.366813\n",
       "Patrick O'Brian                   103  4.259612  0.049629\n",
       "Max Lucado                        123  4.259593  0.198932"
      ]
     },
     "execution_count": 14,
     "metadata": {},
     "output_type": "execute_result"
    }
   ],
   "source": [
    "popular.sort_values('mean', ascending=False).head()"
   ]
  },
  {
   "cell_type": "markdown",
   "metadata": {
    "colab_type": "text",
    "id": "xh4qPKmzWMa3",
    "slideshow": {
     "slide_type": "subslide"
    }
   },
   "source": [
    "**Q**: Which popular authors have the worst average rating?"
   ]
  },
  {
   "cell_type": "code",
   "execution_count": 15,
   "metadata": {
    "colab": {
     "base_uri": "https://localhost:8080/",
     "height": 235
    },
    "colab_type": "code",
    "id": "dz2Gak3ZWMa3",
    "outputId": "d2a4a3cb-99d3-41d7-f1a9-05f6c2ef670a",
    "slideshow": {
     "slide_type": "fragment"
    }
   },
   "outputs": [
    {
     "data": {
      "text/html": [
       "<div>\n",
       "<style scoped>\n",
       "    .dataframe tbody tr th:only-of-type {\n",
       "        vertical-align: middle;\n",
       "    }\n",
       "\n",
       "    .dataframe tbody tr th {\n",
       "        vertical-align: top;\n",
       "    }\n",
       "\n",
       "    .dataframe thead th {\n",
       "        text-align: right;\n",
       "    }\n",
       "</style>\n",
       "<table border=\"1\" class=\"dataframe\">\n",
       "  <thead>\n",
       "    <tr style=\"text-align: right;\">\n",
       "      <th></th>\n",
       "      <th>count</th>\n",
       "      <th>mean</th>\n",
       "      <th>var</th>\n",
       "    </tr>\n",
       "    <tr>\n",
       "      <th>author</th>\n",
       "      <th></th>\n",
       "      <th></th>\n",
       "      <th></th>\n",
       "    </tr>\n",
       "  </thead>\n",
       "  <tbody>\n",
       "    <tr>\n",
       "      <th>Various</th>\n",
       "      <td>145</td>\n",
       "      <td>2.614138</td>\n",
       "      <td>3.557917</td>\n",
       "    </tr>\n",
       "    <tr>\n",
       "      <th>SparkNotes</th>\n",
       "      <td>131</td>\n",
       "      <td>3.343206</td>\n",
       "      <td>1.535616</td>\n",
       "    </tr>\n",
       "    <tr>\n",
       "      <th>NOT A BOOK</th>\n",
       "      <td>101</td>\n",
       "      <td>3.394554</td>\n",
       "      <td>2.809939</td>\n",
       "    </tr>\n",
       "    <tr>\n",
       "      <th>Wolfgang Hohlbein</th>\n",
       "      <td>139</td>\n",
       "      <td>3.437266</td>\n",
       "      <td>0.311810</td>\n",
       "    </tr>\n",
       "    <tr>\n",
       "      <th>Herman Melville</th>\n",
       "      <td>118</td>\n",
       "      <td>3.515932</td>\n",
       "      <td>0.117853</td>\n",
       "    </tr>\n",
       "  </tbody>\n",
       "</table>\n",
       "</div>"
      ],
      "text/plain": [
       "                   count      mean       var\n",
       "author                                      \n",
       "Various              145  2.614138  3.557917\n",
       "SparkNotes           131  3.343206  1.535616\n",
       "NOT A BOOK           101  3.394554  2.809939\n",
       "Wolfgang Hohlbein    139  3.437266  0.311810\n",
       "Herman Melville      118  3.515932  0.117853"
      ]
     },
     "execution_count": 15,
     "metadata": {},
     "output_type": "execute_result"
    }
   ],
   "source": [
    "popular.sort_values('mean').head()"
   ]
  },
  {
   "cell_type": "markdown",
   "metadata": {
    "colab_type": "text",
    "id": "P16GecPtWMa8",
    "slideshow": {
     "slide_type": "subslide"
    }
   },
   "source": [
    "**Q**: Which popular authors are most divisive?"
   ]
  },
  {
   "cell_type": "code",
   "execution_count": 16,
   "metadata": {
    "colab": {
     "base_uri": "https://localhost:8080/",
     "height": 545
    },
    "colab_type": "code",
    "id": "jamiglwNWMa8",
    "outputId": "61ed74dc-2990-4443-f275-a500b168b843",
    "slideshow": {
     "slide_type": "-"
    }
   },
   "outputs": [
    {
     "data": {
      "text/html": [
       "<div>\n",
       "<style scoped>\n",
       "    .dataframe tbody tr th:only-of-type {\n",
       "        vertical-align: middle;\n",
       "    }\n",
       "\n",
       "    .dataframe tbody tr th {\n",
       "        vertical-align: top;\n",
       "    }\n",
       "\n",
       "    .dataframe thead th {\n",
       "        text-align: right;\n",
       "    }\n",
       "</style>\n",
       "<table border=\"1\" class=\"dataframe\">\n",
       "  <thead>\n",
       "    <tr style=\"text-align: right;\">\n",
       "      <th></th>\n",
       "      <th>count</th>\n",
       "      <th>mean</th>\n",
       "      <th>var</th>\n",
       "    </tr>\n",
       "    <tr>\n",
       "      <th>author</th>\n",
       "      <th></th>\n",
       "      <th></th>\n",
       "      <th></th>\n",
       "    </tr>\n",
       "  </thead>\n",
       "  <tbody>\n",
       "    <tr>\n",
       "      <th>Various</th>\n",
       "      <td>145</td>\n",
       "      <td>2.614138</td>\n",
       "      <td>3.557917</td>\n",
       "    </tr>\n",
       "    <tr>\n",
       "      <th>NOT A BOOK</th>\n",
       "      <td>101</td>\n",
       "      <td>3.394554</td>\n",
       "      <td>2.809939</td>\n",
       "    </tr>\n",
       "    <tr>\n",
       "      <th>SparkNotes</th>\n",
       "      <td>131</td>\n",
       "      <td>3.343206</td>\n",
       "      <td>1.535616</td>\n",
       "    </tr>\n",
       "    <tr>\n",
       "      <th>Anonymous</th>\n",
       "      <td>740</td>\n",
       "      <td>3.945270</td>\n",
       "      <td>1.422790</td>\n",
       "    </tr>\n",
       "    <tr>\n",
       "      <th>Terry Deary</th>\n",
       "      <td>164</td>\n",
       "      <td>3.663598</td>\n",
       "      <td>1.067339</td>\n",
       "    </tr>\n",
       "    <tr>\n",
       "      <th>Harold Bloom</th>\n",
       "      <td>319</td>\n",
       "      <td>3.621505</td>\n",
       "      <td>0.944466</td>\n",
       "    </tr>\n",
       "    <tr>\n",
       "      <th>Mort Walker</th>\n",
       "      <td>112</td>\n",
       "      <td>3.794821</td>\n",
       "      <td>0.915950</td>\n",
       "    </tr>\n",
       "    <tr>\n",
       "      <th>Jalaluddin Rumi</th>\n",
       "      <td>131</td>\n",
       "      <td>4.145496</td>\n",
       "      <td>0.791400</td>\n",
       "    </tr>\n",
       "    <tr>\n",
       "      <th>Zane Grey</th>\n",
       "      <td>182</td>\n",
       "      <td>3.561044</td>\n",
       "      <td>0.662960</td>\n",
       "    </tr>\n",
       "    <tr>\n",
       "      <th>René Goscinny</th>\n",
       "      <td>105</td>\n",
       "      <td>3.970000</td>\n",
       "      <td>0.656037</td>\n",
       "    </tr>\n",
       "    <tr>\n",
       "      <th>James Joyce</th>\n",
       "      <td>107</td>\n",
       "      <td>3.697290</td>\n",
       "      <td>0.618982</td>\n",
       "    </tr>\n",
       "    <tr>\n",
       "      <th>Anton Chekhov</th>\n",
       "      <td>195</td>\n",
       "      <td>3.896359</td>\n",
       "      <td>0.553781</td>\n",
       "    </tr>\n",
       "    <tr>\n",
       "      <th>Unknown</th>\n",
       "      <td>110</td>\n",
       "      <td>3.604000</td>\n",
       "      <td>0.542138</td>\n",
       "    </tr>\n",
       "    <tr>\n",
       "      <th>Thomas Hardy</th>\n",
       "      <td>112</td>\n",
       "      <td>3.743839</td>\n",
       "      <td>0.421692</td>\n",
       "    </tr>\n",
       "    <tr>\n",
       "      <th>Honoré de Balzac</th>\n",
       "      <td>125</td>\n",
       "      <td>3.662880</td>\n",
       "      <td>0.416908</td>\n",
       "    </tr>\n",
       "  </tbody>\n",
       "</table>\n",
       "</div>"
      ],
      "text/plain": [
       "                  count      mean       var\n",
       "author                                     \n",
       "Various             145  2.614138  3.557917\n",
       "NOT A BOOK          101  3.394554  2.809939\n",
       "SparkNotes          131  3.343206  1.535616\n",
       "Anonymous           740  3.945270  1.422790\n",
       "Terry Deary         164  3.663598  1.067339\n",
       "Harold Bloom        319  3.621505  0.944466\n",
       "Mort Walker         112  3.794821  0.915950\n",
       "Jalaluddin Rumi     131  4.145496  0.791400\n",
       "Zane Grey           182  3.561044  0.662960\n",
       "René Goscinny       105  3.970000  0.656037\n",
       "James Joyce         107  3.697290  0.618982\n",
       "Anton Chekhov       195  3.896359  0.553781\n",
       "Unknown             110  3.604000  0.542138\n",
       "Thomas Hardy        112  3.743839  0.421692\n",
       "Honoré de Balzac    125  3.662880  0.416908"
      ]
     },
     "execution_count": 16,
     "metadata": {},
     "output_type": "execute_result"
    }
   ],
   "source": [
    "popular.sort_values('var', ascending=False).head(15)"
   ]
  },
  {
   "cell_type": "code",
   "execution_count": 17,
   "metadata": {
    "colab": {
     "base_uri": "https://localhost:8080/",
     "height": 235
    },
    "colab_type": "code",
    "id": "1fB8cezOWMbB",
    "outputId": "31546048-a4ca-46ad-a441-c35e41b51687",
    "slideshow": {
     "slide_type": "subslide"
    }
   },
   "outputs": [
    {
     "data": {
      "text/html": [
       "<div>\n",
       "<style scoped>\n",
       "    .dataframe tbody tr th:only-of-type {\n",
       "        vertical-align: middle;\n",
       "    }\n",
       "\n",
       "    .dataframe tbody tr th {\n",
       "        vertical-align: top;\n",
       "    }\n",
       "\n",
       "    .dataframe thead th {\n",
       "        text-align: right;\n",
       "    }\n",
       "</style>\n",
       "<table border=\"1\" class=\"dataframe\">\n",
       "  <thead>\n",
       "    <tr style=\"text-align: right;\">\n",
       "      <th></th>\n",
       "      <th>count</th>\n",
       "      <th>mean</th>\n",
       "      <th>var</th>\n",
       "    </tr>\n",
       "    <tr>\n",
       "      <th>author</th>\n",
       "      <th></th>\n",
       "      <th></th>\n",
       "      <th></th>\n",
       "    </tr>\n",
       "  </thead>\n",
       "  <tbody>\n",
       "    <tr>\n",
       "      <th>J.K. Rowling</th>\n",
       "      <td>220</td>\n",
       "      <td>4.490409</td>\n",
       "      <td>0.007114</td>\n",
       "    </tr>\n",
       "    <tr>\n",
       "      <th>Dante Alighieri</th>\n",
       "      <td>115</td>\n",
       "      <td>4.000609</td>\n",
       "      <td>0.007922</td>\n",
       "    </tr>\n",
       "    <tr>\n",
       "      <th>Lemony Snicket</th>\n",
       "      <td>113</td>\n",
       "      <td>3.954956</td>\n",
       "      <td>0.011188</td>\n",
       "    </tr>\n",
       "    <tr>\n",
       "      <th>Robert B. Parker</th>\n",
       "      <td>112</td>\n",
       "      <td>3.907589</td>\n",
       "      <td>0.013280</td>\n",
       "    </tr>\n",
       "    <tr>\n",
       "      <th>Edgar Rice Burroughs</th>\n",
       "      <td>124</td>\n",
       "      <td>3.815081</td>\n",
       "      <td>0.015248</td>\n",
       "    </tr>\n",
       "  </tbody>\n",
       "</table>\n",
       "</div>"
      ],
      "text/plain": [
       "                      count      mean       var\n",
       "author                                         \n",
       "J.K. Rowling            220  4.490409  0.007114\n",
       "Dante Alighieri         115  4.000609  0.007922\n",
       "Lemony Snicket          113  3.954956  0.011188\n",
       "Robert B. Parker        112  3.907589  0.013280\n",
       "Edgar Rice Burroughs    124  3.815081  0.015248"
      ]
     },
     "execution_count": 17,
     "metadata": {},
     "output_type": "execute_result"
    }
   ],
   "source": [
    "popular.sort_values('var').head()"
   ]
  },
  {
   "cell_type": "markdown",
   "metadata": {
    "colab_type": "text",
    "id": "anoMG9l9WMbH",
    "slideshow": {
     "slide_type": "subslide"
    }
   },
   "source": [
    "## Example with unstructured data, using *MongoDB*\n",
    "\n",
    "Here's a [recipe dataset](https://www.kaggle.com/c/whats-cooking) from _Yummly_."
   ]
  },
  {
   "cell_type": "code",
   "execution_count": 22,
   "metadata": {
    "colab": {
     "base_uri": "https://localhost:8080/",
     "height": 221
    },
    "colab_type": "code",
    "id": "14tMQkrFWMbN",
    "outputId": "433db542-4717-43a0-a7e0-f2df11321d64",
    "slideshow": {
     "slide_type": "subslide"
    }
   },
   "outputs": [
    {
     "name": "stdout",
     "output_type": "stream",
     "text": [
      "There are  39774 items that look like this:\n"
     ]
    },
    {
     "data": {
      "text/plain": [
       "[{'cuisine': 'greek',\n",
       "  'id': 10259,\n",
       "  'ingredients': ['romaine lettuce',\n",
       "   'black olives',\n",
       "   'grape tomatoes',\n",
       "   'garlic',\n",
       "   'pepper',\n",
       "   'purple onion',\n",
       "   'seasoning',\n",
       "   'garbanzo beans',\n",
       "   'feta cheese crumbles']}]"
      ]
     },
     "execution_count": 22,
     "metadata": {},
     "output_type": "execute_result"
    }
   ],
   "source": [
    "import json\n",
    "from smart_open import open\n",
    "with open('https://raw.githubusercontent.com/organisciak/Scripting-Course/master/data/cooking.json') as f:\n",
    "    data = json.load(f)\n",
    "\n",
    "print(\"There are \", len(data), \"items that look like this:\")\n",
    "data[:1]"
   ]
  },
  {
   "cell_type": "code",
   "execution_count": 23,
   "metadata": {
    "cellView": "form",
    "colab": {
     "base_uri": "https://localhost:8080/",
     "height": 68
    },
    "colab_type": "code",
    "id": "lTGXCANfjiyd",
    "outputId": "00d4e7fc-0d65-4713-bfda-d37e6ecbfe61",
    "slideshow": {
     "slide_type": "subslide"
    }
   },
   "outputs": [
    {
     "name": "stdout",
     "output_type": "stream",
     "text": [
      "Collecting dnspython\n",
      "  Downloading https://files.pythonhosted.org/packages/ec/d3/3aa0e7213ef72b8585747aa0e271a9523e713813b9a20177ebe1e939deb0/dnspython-1.16.0-py2.py3-none-any.whl (188kB)\n",
      "Installing collected packages: dnspython\n",
      "Successfully installed dnspython-1.16.0\n",
      "Enter your MongoDB password for \"dbUser\":\n",
      "········\n"
     ]
    }
   ],
   "source": [
    "#@title Connect to a MongoDB database\n",
    "#@markdown This cell connects to a remote MongoDB instance.\n",
    "#@markdown We'll create our own databases later in the quarter,\n",
    "#@markdown for now the code won't run for you.\n",
    "\n",
    "!pip install dnspython\n",
    "from urllib.parse import quote_plus\n",
    "from pymongo import MongoClient\n",
    "from getpass import getpass\n",
    "user = \"dbUser\" #@param {type:\"string\"}\n",
    "cluster_url = \"scripting-class-ct2on.gcp.mongodb.net\" #@param {type:\"string\"}\n",
    "mongopw = getpass('Enter your MongoDB password for \"{}\":\\n'.format(user))\n",
    "\n",
    "client = MongoClient(\"mongodb+srv://{}:{}@{}/test?retryWrites=true&w=majority\".format(quote_plus(user), quote_plus(mongopw), cluster_url))\n",
    "\n",
    "db = client.week1\n",
    "# This deletes the collection if it already exists - i.e., if Dr. O\n",
    "# already ran the below code, this lets us pretend we have a blank slate again!\n",
    "out = db.drop_collection('cooking')"
   ]
  },
  {
   "cell_type": "code",
   "execution_count": 24,
   "metadata": {
    "colab": {},
    "colab_type": "code",
    "id": "YGLZy9wzWMbW",
    "slideshow": {
     "slide_type": "-"
    }
   },
   "outputs": [],
   "source": [
    "# 'collection' in MongoDB is like a 'table' in SQL\n",
    "collection = db.cooking\n",
    "result = collection.insert_many(data)"
   ]
  },
  {
   "cell_type": "markdown",
   "metadata": {
    "colab_type": "text",
    "id": "YQ_1JeazWMbY",
    "slideshow": {
     "slide_type": "subslide"
    }
   },
   "source": [
    "How many records are there in the collection 'cooking' of the database 'week1'?"
   ]
  },
  {
   "cell_type": "code",
   "execution_count": 25,
   "metadata": {
    "colab": {
     "base_uri": "https://localhost:8080/",
     "height": 34
    },
    "colab_type": "code",
    "id": "mzoc7l0eWMbb",
    "outputId": "119e8c30-f923-42d0-e0d7-4ee06870d5f6",
    "slideshow": {
     "slide_type": "-"
    }
   },
   "outputs": [
    {
     "data": {
      "text/plain": [
       "39774"
      ]
     },
     "execution_count": 25,
     "metadata": {},
     "output_type": "execute_result"
    }
   ],
   "source": [
    "collection.count_documents({})"
   ]
  },
  {
   "cell_type": "markdown",
   "metadata": {
    "colab_type": "text",
    "id": "SGyB8MHvWMbk",
    "slideshow": {
     "slide_type": "subslide"
    }
   },
   "source": [
    "With the data in MongoDB, we can query the semi-structured data with similar flexibility to structured data.\n",
    "\n",
    "For example, we can unfold the ingredients, so that there's a record for every ingredient of even data point."
   ]
  },
  {
   "cell_type": "code",
   "execution_count": 27,
   "metadata": {
    "colab": {
     "base_uri": "https://localhost:8080/",
     "height": 204
    },
    "colab_type": "code",
    "id": "TyDkd1k5WMbl",
    "outputId": "28e81a72-188f-40eb-88a6-ff403de88dea",
    "slideshow": {
     "slide_type": "-"
    }
   },
   "outputs": [
    {
     "data": {
      "text/html": [
       "<div>\n",
       "<style scoped>\n",
       "    .dataframe tbody tr th:only-of-type {\n",
       "        vertical-align: middle;\n",
       "    }\n",
       "\n",
       "    .dataframe tbody tr th {\n",
       "        vertical-align: top;\n",
       "    }\n",
       "\n",
       "    .dataframe thead th {\n",
       "        text-align: right;\n",
       "    }\n",
       "</style>\n",
       "<table border=\"1\" class=\"dataframe\">\n",
       "  <thead>\n",
       "    <tr style=\"text-align: right;\">\n",
       "      <th></th>\n",
       "      <th>_id</th>\n",
       "      <th>cuisine</th>\n",
       "      <th>id</th>\n",
       "      <th>ingredients</th>\n",
       "    </tr>\n",
       "  </thead>\n",
       "  <tbody>\n",
       "    <tr>\n",
       "      <th>0</th>\n",
       "      <td>5e7beef5db075a3760fb2c66</td>\n",
       "      <td>greek</td>\n",
       "      <td>10259</td>\n",
       "      <td>romaine lettuce</td>\n",
       "    </tr>\n",
       "    <tr>\n",
       "      <th>1</th>\n",
       "      <td>5e7beef5db075a3760fb2c66</td>\n",
       "      <td>greek</td>\n",
       "      <td>10259</td>\n",
       "      <td>black olives</td>\n",
       "    </tr>\n",
       "    <tr>\n",
       "      <th>2</th>\n",
       "      <td>5e7beef5db075a3760fb2c66</td>\n",
       "      <td>greek</td>\n",
       "      <td>10259</td>\n",
       "      <td>grape tomatoes</td>\n",
       "    </tr>\n",
       "    <tr>\n",
       "      <th>3</th>\n",
       "      <td>5e7beef5db075a3760fb2c66</td>\n",
       "      <td>greek</td>\n",
       "      <td>10259</td>\n",
       "      <td>garlic</td>\n",
       "    </tr>\n",
       "    <tr>\n",
       "      <th>4</th>\n",
       "      <td>5e7beef5db075a3760fb2c66</td>\n",
       "      <td>greek</td>\n",
       "      <td>10259</td>\n",
       "      <td>pepper</td>\n",
       "    </tr>\n",
       "  </tbody>\n",
       "</table>\n",
       "</div>"
      ],
      "text/plain": [
       "                        _id cuisine     id      ingredients\n",
       "0  5e7beef5db075a3760fb2c66   greek  10259  romaine lettuce\n",
       "1  5e7beef5db075a3760fb2c66   greek  10259     black olives\n",
       "2  5e7beef5db075a3760fb2c66   greek  10259   grape tomatoes\n",
       "3  5e7beef5db075a3760fb2c66   greek  10259           garlic\n",
       "4  5e7beef5db075a3760fb2c66   greek  10259           pepper"
      ]
     },
     "execution_count": 27,
     "metadata": {},
     "output_type": "execute_result"
    }
   ],
   "source": [
    "pipeline = [\n",
    "     {\"$unwind\": \"$ingredients\"},\n",
    "     {\"$limit\": 5}\n",
    "]\n",
    "agg = collection.aggregate(pipeline)\n",
    "\n",
    "# Print first five results\n",
    "pd.DataFrame(agg)"
   ]
  },
  {
   "cell_type": "markdown",
   "metadata": {
    "colab_type": "text",
    "id": "NrWIE26lWMbp",
    "slideshow": {
     "slide_type": "subslide"
    }
   },
   "source": [
    "Why unwind? Now it's easier to group the data, to count which ingredients are most common."
   ]
  },
  {
   "cell_type": "code",
   "execution_count": 28,
   "metadata": {
    "colab": {
     "base_uri": "https://localhost:8080/",
     "height": 204
    },
    "colab_type": "code",
    "id": "VcbPkAX6WMbp",
    "outputId": "17ef6fbf-5040-4a20-bc47-ef3dc4fc3d2a"
   },
   "outputs": [
    {
     "data": {
      "text/html": [
       "<div>\n",
       "<style scoped>\n",
       "    .dataframe tbody tr th:only-of-type {\n",
       "        vertical-align: middle;\n",
       "    }\n",
       "\n",
       "    .dataframe tbody tr th {\n",
       "        vertical-align: top;\n",
       "    }\n",
       "\n",
       "    .dataframe thead th {\n",
       "        text-align: right;\n",
       "    }\n",
       "</style>\n",
       "<table border=\"1\" class=\"dataframe\">\n",
       "  <thead>\n",
       "    <tr style=\"text-align: right;\">\n",
       "      <th></th>\n",
       "      <th>_id</th>\n",
       "      <th>count</th>\n",
       "    </tr>\n",
       "  </thead>\n",
       "  <tbody>\n",
       "    <tr>\n",
       "      <th>0</th>\n",
       "      <td>chicken strips</td>\n",
       "      <td>3</td>\n",
       "    </tr>\n",
       "    <tr>\n",
       "      <th>1</th>\n",
       "      <td>pomegranate juice</td>\n",
       "      <td>15</td>\n",
       "    </tr>\n",
       "    <tr>\n",
       "      <th>2</th>\n",
       "      <td>pickles</td>\n",
       "      <td>36</td>\n",
       "    </tr>\n",
       "    <tr>\n",
       "      <th>3</th>\n",
       "      <td>tap water</td>\n",
       "      <td>3</td>\n",
       "    </tr>\n",
       "    <tr>\n",
       "      <th>4</th>\n",
       "      <td>milk &amp; cream</td>\n",
       "      <td>2</td>\n",
       "    </tr>\n",
       "  </tbody>\n",
       "</table>\n",
       "</div>"
      ],
      "text/plain": [
       "                 _id  count\n",
       "0     chicken strips      3\n",
       "1  pomegranate juice     15\n",
       "2            pickles     36\n",
       "3          tap water      3\n",
       "4       milk & cream      2"
      ]
     },
     "execution_count": 28,
     "metadata": {},
     "output_type": "execute_result"
    }
   ],
   "source": [
    "pipeline = [\n",
    "     {\"$unwind\": \"$ingredients\"},\n",
    "     {\"$group\": {\"_id\": \"$ingredients\", \"count\": {\"$sum\": 1}}},\n",
    "     {\"$limit\": 5}\n",
    "]\n",
    "agg = collection.aggregate(pipeline)\n",
    "pd.DataFrame(agg)"
   ]
  },
  {
   "cell_type": "markdown",
   "metadata": {
    "colab_type": "text",
    "id": "iIdeYTZdWMbv",
    "slideshow": {
     "slide_type": "subslide"
    }
   },
   "source": [
    "Unwind > Group > Sort"
   ]
  },
  {
   "cell_type": "code",
   "execution_count": 29,
   "metadata": {
    "colab": {
     "base_uri": "https://localhost:8080/",
     "height": 204
    },
    "colab_type": "code",
    "id": "jWjgybOdWMbv",
    "outputId": "b0a195ce-1a21-42b8-e4a2-1195cf0ef6cb",
    "slideshow": {
     "slide_type": "-"
    }
   },
   "outputs": [
    {
     "data": {
      "text/html": [
       "<div>\n",
       "<style scoped>\n",
       "    .dataframe tbody tr th:only-of-type {\n",
       "        vertical-align: middle;\n",
       "    }\n",
       "\n",
       "    .dataframe tbody tr th {\n",
       "        vertical-align: top;\n",
       "    }\n",
       "\n",
       "    .dataframe thead th {\n",
       "        text-align: right;\n",
       "    }\n",
       "</style>\n",
       "<table border=\"1\" class=\"dataframe\">\n",
       "  <thead>\n",
       "    <tr style=\"text-align: right;\">\n",
       "      <th></th>\n",
       "      <th>_id</th>\n",
       "      <th>count</th>\n",
       "    </tr>\n",
       "  </thead>\n",
       "  <tbody>\n",
       "    <tr>\n",
       "      <th>0</th>\n",
       "      <td>salt</td>\n",
       "      <td>18049</td>\n",
       "    </tr>\n",
       "    <tr>\n",
       "      <th>1</th>\n",
       "      <td>olive oil</td>\n",
       "      <td>7972</td>\n",
       "    </tr>\n",
       "    <tr>\n",
       "      <th>2</th>\n",
       "      <td>onions</td>\n",
       "      <td>7972</td>\n",
       "    </tr>\n",
       "    <tr>\n",
       "      <th>3</th>\n",
       "      <td>water</td>\n",
       "      <td>7457</td>\n",
       "    </tr>\n",
       "    <tr>\n",
       "      <th>4</th>\n",
       "      <td>garlic</td>\n",
       "      <td>7380</td>\n",
       "    </tr>\n",
       "  </tbody>\n",
       "</table>\n",
       "</div>"
      ],
      "text/plain": [
       "         _id  count\n",
       "0       salt  18049\n",
       "1  olive oil   7972\n",
       "2     onions   7972\n",
       "3      water   7457\n",
       "4     garlic   7380"
      ]
     },
     "execution_count": 29,
     "metadata": {},
     "output_type": "execute_result"
    }
   ],
   "source": [
    "pipeline = [\n",
    "     {\"$unwind\": \"$ingredients\"},\n",
    "     {\"$group\": {\"_id\": \"$ingredients\", \"count\": {\"$sum\": 1}}},\n",
    "     {\"$sort\": {\"count\": -1}},\n",
    "     {\"$limit\": 5}\n",
    "]\n",
    "agg = collection.aggregate(pipeline)\n",
    "pd.DataFrame(agg)"
   ]
  },
  {
   "cell_type": "markdown",
   "metadata": {
    "colab_type": "text",
    "id": "JLorR3rxWMbz",
    "slideshow": {
     "slide_type": "subslide"
    }
   },
   "source": [
    "Which cuisine+ingredient are most common in this dataset?"
   ]
  },
  {
   "cell_type": "code",
   "execution_count": 30,
   "metadata": {
    "colab": {
     "base_uri": "https://localhost:8080/",
     "height": 204
    },
    "colab_type": "code",
    "id": "A2Q70s0oWMb6",
    "outputId": "de495de4-1552-4590-f2fd-7954d75c2e24",
    "slideshow": {
     "slide_type": "-"
    }
   },
   "outputs": [
    {
     "data": {
      "text/html": [
       "<div>\n",
       "<style scoped>\n",
       "    .dataframe tbody tr th:only-of-type {\n",
       "        vertical-align: middle;\n",
       "    }\n",
       "\n",
       "    .dataframe tbody tr th {\n",
       "        vertical-align: top;\n",
       "    }\n",
       "\n",
       "    .dataframe thead th {\n",
       "        text-align: right;\n",
       "    }\n",
       "</style>\n",
       "<table border=\"1\" class=\"dataframe\">\n",
       "  <thead>\n",
       "    <tr style=\"text-align: right;\">\n",
       "      <th></th>\n",
       "      <th>_id</th>\n",
       "      <th>count</th>\n",
       "    </tr>\n",
       "  </thead>\n",
       "  <tbody>\n",
       "    <tr>\n",
       "      <th>0</th>\n",
       "      <td>{'ingredients': 'salt', 'cuisine': 'italian'}</td>\n",
       "      <td>3454</td>\n",
       "    </tr>\n",
       "    <tr>\n",
       "      <th>1</th>\n",
       "      <td>{'ingredients': 'olive oil', 'cuisine': 'itali...</td>\n",
       "      <td>3111</td>\n",
       "    </tr>\n",
       "    <tr>\n",
       "      <th>2</th>\n",
       "      <td>{'ingredients': 'salt', 'cuisine': 'mexican'}</td>\n",
       "      <td>2720</td>\n",
       "    </tr>\n",
       "    <tr>\n",
       "      <th>3</th>\n",
       "      <td>{'ingredients': 'salt', 'cuisine': 'southern_us'}</td>\n",
       "      <td>2290</td>\n",
       "    </tr>\n",
       "    <tr>\n",
       "      <th>4</th>\n",
       "      <td>{'ingredients': 'salt', 'cuisine': 'indian'}</td>\n",
       "      <td>1934</td>\n",
       "    </tr>\n",
       "  </tbody>\n",
       "</table>\n",
       "</div>"
      ],
      "text/plain": [
       "                                                 _id  count\n",
       "0      {'ingredients': 'salt', 'cuisine': 'italian'}   3454\n",
       "1  {'ingredients': 'olive oil', 'cuisine': 'itali...   3111\n",
       "2      {'ingredients': 'salt', 'cuisine': 'mexican'}   2720\n",
       "3  {'ingredients': 'salt', 'cuisine': 'southern_us'}   2290\n",
       "4       {'ingredients': 'salt', 'cuisine': 'indian'}   1934"
      ]
     },
     "execution_count": 30,
     "metadata": {},
     "output_type": "execute_result"
    }
   ],
   "source": [
    "pipeline = [\n",
    "     {\"$unwind\": \"$ingredients\"},\n",
    "     {\"$group\": {\"_id\": {\n",
    "         \"ingredients\": \"$ingredients\", \"cuisine\": \"$cuisine\"\n",
    "     }, \"count\": {\"$sum\": 1}}},\n",
    "     {\"$sort\": {\"count\": -1}},\n",
    "     {\"$limit\": 5}\n",
    "]\n",
    "agg = collection.aggregate(pipeline)\n",
    "pd.DataFrame(agg)[:5]"
   ]
  },
  {
   "cell_type": "markdown",
   "metadata": {
    "colab_type": "text",
    "id": "SahUS8woWMb8",
    "slideshow": {
     "slide_type": "subslide"
    }
   },
   "source": [
    "# LAB\n",
    "\n",
    "Today's lab is ungraded. It is intended to get you comfortable with the tools that we'll be using over the next 9 weeks.\n",
    "\n",
    "It is at https://github.com/organisciak/Scripting-Course/blob/master/labs/01%20-%20Getting%20Started.ipynb."
   ]
  }
 ],
 "metadata": {
  "celltoolbar": "Slideshow",
  "colab": {
   "include_colab_link": true,
   "name": "01-introduction.ipynb",
   "provenance": []
  },
  "kernelspec": {
   "display_name": "Python 3",
   "language": "python",
   "name": "python3"
  },
  "language_info": {
   "codemirror_mode": {
    "name": "ipython",
    "version": 3
   },
   "file_extension": ".py",
   "mimetype": "text/x-python",
   "name": "python",
   "nbconvert_exporter": "python",
   "pygments_lexer": "ipython3",
   "version": "3.6.7"
  }
 },
 "nbformat": 4,
 "nbformat_minor": 1
}
