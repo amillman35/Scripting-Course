{
 "cells": [
  {
   "cell_type": "markdown",
   "id": "de8acb69",
   "metadata": {
    "colab_type": "text",
    "id": "anoMG9l9WMbH",
    "slideshow": {
     "slide_type": "skip"
    }
   },
   "source": [
    "## Example with unstructured data, using *MongoDB*\n",
    "\n",
    "This was removed from Week 1 to make concepts less overwhelming.\n",
    "\n",
    "[Dataset](https://www.kaggle.com/c/whats-cooking) from _Yummly_."
   ]
  },
  {
   "cell_type": "code",
   "execution_count": 1,
   "id": "60fcd0d0",
   "metadata": {
    "colab": {
     "base_uri": "https://localhost:8080/",
     "height": 221
    },
    "colab_type": "code",
    "id": "14tMQkrFWMbN",
    "outputId": "433db542-4717-43a0-a7e0-f2df11321d64",
    "slideshow": {
     "slide_type": "skip"
    }
   },
   "outputs": [
    {
     "name": "stdout",
     "output_type": "stream",
     "text": [
      "There are  39774 items that look like this:\n"
     ]
    },
    {
     "data": {
      "text/plain": [
       "[{'id': 10259,\n",
       "  'cuisine': 'greek',\n",
       "  'ingredients': ['romaine lettuce',\n",
       "   'black olives',\n",
       "   'grape tomatoes',\n",
       "   'garlic',\n",
       "   'pepper',\n",
       "   'purple onion',\n",
       "   'seasoning',\n",
       "   'garbanzo beans',\n",
       "   'feta cheese crumbles']}]"
      ]
     },
     "execution_count": 1,
     "metadata": {},
     "output_type": "execute_result"
    }
   ],
   "source": [
    "import json\n",
    "import pandas as pd\n",
    "from smart_open import open\n",
    "with open('https://raw.githubusercontent.com/organisciak/Scripting-Course/master/data/cooking.json') as f:\n",
    "    data = json.load(f)\n",
    "\n",
    "print(\"There are \", len(data), \"items that look like this:\")\n",
    "data[:1]"
   ]
  },
  {
   "cell_type": "code",
   "execution_count": 6,
   "id": "730010bd",
   "metadata": {
    "cellView": "form",
    "colab": {
     "base_uri": "https://localhost:8080/",
     "height": 68
    },
    "colab_type": "code",
    "id": "lTGXCANfjiyd",
    "outputId": "00d4e7fc-0d65-4713-bfda-d37e6ecbfe61",
    "scrolled": true,
    "slideshow": {
     "slide_type": "skip"
    }
   },
   "outputs": [
    {
     "name": "stdout",
     "output_type": "stream",
     "text": [
      "Requirement already satisfied: dnspython in /Users/organisciak/anaconda3/lib/python3.8/site-packages (2.1.0)\n",
      "Requirement already satisfied: pymongo in /Users/organisciak/anaconda3/lib/python3.8/site-packages (4.0.1)\n",
      "Enter your MongoDB password for \"dbUser\":\n",
      "········\n"
     ]
    }
   ],
   "source": [
    "#@title Connect to a MongoDB database\n",
    "#@markdown This cell connects to a remote MongoDB instance.\n",
    "#@markdown We'll create our own databases later in the quarter,\n",
    "#@markdown for now the code won't run for you.\n",
    "\n",
    "!pip install dnspython pymongo\n",
    "from urllib.parse import quote_plus\n",
    "from pymongo import MongoClient\n",
    "from getpass import getpass\n",
    "user = \"dbUser\" #@param {type:\"string\"}\n",
    "cluster_url = \"cluster0.ga5s0.mongodb.net\" #@param {type:\"string\"}\n",
    "mongopw = getpass('Enter your MongoDB password for \"{}\":\\n'.format(user))\n",
    "\n",
    "client = MongoClient(\"mongodb+srv://{}:{}@{}/test?retryWrites=true&w=majority\".format(quote_plus(user), quote_plus(mongopw), cluster_url))\n",
    "\n",
    "db = client.week1\n",
    "# This deletes the collection if it already exists - i.e., if Dr. O\n",
    "# already ran the below code, this lets us pretend we have a blank slate again!\n",
    "out = db.drop_collection('cooking')"
   ]
  },
  {
   "cell_type": "code",
   "execution_count": 7,
   "id": "c6cef162",
   "metadata": {
    "colab": {},
    "colab_type": "code",
    "id": "YGLZy9wzWMbW",
    "slideshow": {
     "slide_type": "skip"
    }
   },
   "outputs": [],
   "source": [
    "# 'collection' in MongoDB is like a 'table' in SQL\n",
    "collection = db.cooking\n",
    "result = collection.insert_many(data)"
   ]
  },
  {
   "cell_type": "markdown",
   "id": "da0dad09",
   "metadata": {
    "colab_type": "text",
    "id": "YQ_1JeazWMbY",
    "slideshow": {
     "slide_type": "skip"
    }
   },
   "source": [
    "How many records are there in the collection 'cooking' of the database 'week1'?"
   ]
  },
  {
   "cell_type": "code",
   "execution_count": 8,
   "id": "edf8673e",
   "metadata": {
    "colab": {
     "base_uri": "https://localhost:8080/",
     "height": 34
    },
    "colab_type": "code",
    "id": "mzoc7l0eWMbb",
    "outputId": "119e8c30-f923-42d0-e0d7-4ee06870d5f6",
    "slideshow": {
     "slide_type": "skip"
    }
   },
   "outputs": [
    {
     "data": {
      "text/plain": [
       "39774"
      ]
     },
     "execution_count": 8,
     "metadata": {},
     "output_type": "execute_result"
    }
   ],
   "source": [
    "collection.count_documents({})"
   ]
  },
  {
   "cell_type": "markdown",
   "id": "a3a69887",
   "metadata": {
    "colab_type": "text",
    "id": "SGyB8MHvWMbk",
    "slideshow": {
     "slide_type": "skip"
    }
   },
   "source": [
    "With the data in MongoDB, we can query the semi-structured data with similar flexibility to structured data.\n",
    "\n",
    "For example, we can unfold the ingredients, so that there's a record for every ingredient of even data point."
   ]
  },
  {
   "cell_type": "code",
   "execution_count": 11,
   "id": "aee08326",
   "metadata": {
    "colab": {
     "base_uri": "https://localhost:8080/",
     "height": 204
    },
    "colab_type": "code",
    "id": "TyDkd1k5WMbl",
    "outputId": "28e81a72-188f-40eb-88a6-ff403de88dea",
    "slideshow": {
     "slide_type": "skip"
    }
   },
   "outputs": [
    {
     "data": {
      "text/html": [
       "<div>\n",
       "<style scoped>\n",
       "    .dataframe tbody tr th:only-of-type {\n",
       "        vertical-align: middle;\n",
       "    }\n",
       "\n",
       "    .dataframe tbody tr th {\n",
       "        vertical-align: top;\n",
       "    }\n",
       "\n",
       "    .dataframe thead th {\n",
       "        text-align: right;\n",
       "    }\n",
       "</style>\n",
       "<table border=\"1\" class=\"dataframe\">\n",
       "  <thead>\n",
       "    <tr style=\"text-align: right;\">\n",
       "      <th></th>\n",
       "      <th>_id</th>\n",
       "      <th>id</th>\n",
       "      <th>cuisine</th>\n",
       "      <th>ingredients</th>\n",
       "    </tr>\n",
       "  </thead>\n",
       "  <tbody>\n",
       "    <tr>\n",
       "      <th>0</th>\n",
       "      <td>61d49a3726a96584b3b4c42f</td>\n",
       "      <td>10259</td>\n",
       "      <td>greek</td>\n",
       "      <td>romaine lettuce</td>\n",
       "    </tr>\n",
       "    <tr>\n",
       "      <th>1</th>\n",
       "      <td>61d49a3726a96584b3b4c42f</td>\n",
       "      <td>10259</td>\n",
       "      <td>greek</td>\n",
       "      <td>black olives</td>\n",
       "    </tr>\n",
       "    <tr>\n",
       "      <th>2</th>\n",
       "      <td>61d49a3726a96584b3b4c42f</td>\n",
       "      <td>10259</td>\n",
       "      <td>greek</td>\n",
       "      <td>grape tomatoes</td>\n",
       "    </tr>\n",
       "    <tr>\n",
       "      <th>3</th>\n",
       "      <td>61d49a3726a96584b3b4c42f</td>\n",
       "      <td>10259</td>\n",
       "      <td>greek</td>\n",
       "      <td>garlic</td>\n",
       "    </tr>\n",
       "    <tr>\n",
       "      <th>4</th>\n",
       "      <td>61d49a3726a96584b3b4c42f</td>\n",
       "      <td>10259</td>\n",
       "      <td>greek</td>\n",
       "      <td>pepper</td>\n",
       "    </tr>\n",
       "  </tbody>\n",
       "</table>\n",
       "</div>"
      ],
      "text/plain": [
       "                        _id     id cuisine      ingredients\n",
       "0  61d49a3726a96584b3b4c42f  10259   greek  romaine lettuce\n",
       "1  61d49a3726a96584b3b4c42f  10259   greek     black olives\n",
       "2  61d49a3726a96584b3b4c42f  10259   greek   grape tomatoes\n",
       "3  61d49a3726a96584b3b4c42f  10259   greek           garlic\n",
       "4  61d49a3726a96584b3b4c42f  10259   greek           pepper"
      ]
     },
     "execution_count": 11,
     "metadata": {},
     "output_type": "execute_result"
    }
   ],
   "source": [
    "pipeline = [\n",
    "     {\"$unwind\": \"$ingredients\"},\n",
    "     {\"$limit\": 5}\n",
    "]\n",
    "agg = collection.aggregate(pipeline)\n",
    "\n",
    "# Print first five results\n",
    "pd.DataFrame(agg)"
   ]
  },
  {
   "cell_type": "markdown",
   "id": "24484505",
   "metadata": {
    "colab_type": "text",
    "id": "NrWIE26lWMbp",
    "slideshow": {
     "slide_type": "skip"
    }
   },
   "source": [
    "Why unwind? Now it's easier to group the data, to count which ingredients are most common."
   ]
  },
  {
   "cell_type": "code",
   "execution_count": 12,
   "id": "f4f9d1a5",
   "metadata": {
    "colab": {
     "base_uri": "https://localhost:8080/",
     "height": 204
    },
    "colab_type": "code",
    "id": "VcbPkAX6WMbp",
    "outputId": "17ef6fbf-5040-4a20-bc47-ef3dc4fc3d2a",
    "slideshow": {
     "slide_type": "skip"
    }
   },
   "outputs": [
    {
     "data": {
      "text/html": [
       "<div>\n",
       "<style scoped>\n",
       "    .dataframe tbody tr th:only-of-type {\n",
       "        vertical-align: middle;\n",
       "    }\n",
       "\n",
       "    .dataframe tbody tr th {\n",
       "        vertical-align: top;\n",
       "    }\n",
       "\n",
       "    .dataframe thead th {\n",
       "        text-align: right;\n",
       "    }\n",
       "</style>\n",
       "<table border=\"1\" class=\"dataframe\">\n",
       "  <thead>\n",
       "    <tr style=\"text-align: right;\">\n",
       "      <th></th>\n",
       "      <th>_id</th>\n",
       "      <th>count</th>\n",
       "    </tr>\n",
       "  </thead>\n",
       "  <tbody>\n",
       "    <tr>\n",
       "      <th>0</th>\n",
       "      <td>dr. pepper</td>\n",
       "      <td>2</td>\n",
       "    </tr>\n",
       "    <tr>\n",
       "      <th>1</th>\n",
       "      <td>dried Thai chili</td>\n",
       "      <td>5</td>\n",
       "    </tr>\n",
       "    <tr>\n",
       "      <th>2</th>\n",
       "      <td>peach sorbet</td>\n",
       "      <td>1</td>\n",
       "    </tr>\n",
       "    <tr>\n",
       "      <th>3</th>\n",
       "      <td>bread dough</td>\n",
       "      <td>26</td>\n",
       "    </tr>\n",
       "    <tr>\n",
       "      <th>4</th>\n",
       "      <td>roasted white sesame seeds</td>\n",
       "      <td>6</td>\n",
       "    </tr>\n",
       "  </tbody>\n",
       "</table>\n",
       "</div>"
      ],
      "text/plain": [
       "                          _id  count\n",
       "0                  dr. pepper      2\n",
       "1            dried Thai chili      5\n",
       "2                peach sorbet      1\n",
       "3                 bread dough     26\n",
       "4  roasted white sesame seeds      6"
      ]
     },
     "execution_count": 12,
     "metadata": {},
     "output_type": "execute_result"
    }
   ],
   "source": [
    "pipeline = [\n",
    "     {\"$unwind\": \"$ingredients\"},\n",
    "     {\"$group\": {\"_id\": \"$ingredients\", \"count\": {\"$sum\": 1}}},\n",
    "     {\"$limit\": 5}\n",
    "]\n",
    "agg = collection.aggregate(pipeline)\n",
    "pd.DataFrame(agg)"
   ]
  },
  {
   "cell_type": "markdown",
   "id": "7517f864",
   "metadata": {
    "colab_type": "text",
    "id": "iIdeYTZdWMbv",
    "slideshow": {
     "slide_type": "skip"
    }
   },
   "source": [
    "Unwind > Group > Sort"
   ]
  },
  {
   "cell_type": "code",
   "execution_count": 13,
   "id": "ee9b103f",
   "metadata": {
    "colab": {
     "base_uri": "https://localhost:8080/",
     "height": 204
    },
    "colab_type": "code",
    "id": "jWjgybOdWMbv",
    "outputId": "b0a195ce-1a21-42b8-e4a2-1195cf0ef6cb",
    "slideshow": {
     "slide_type": "skip"
    }
   },
   "outputs": [
    {
     "data": {
      "text/html": [
       "<div>\n",
       "<style scoped>\n",
       "    .dataframe tbody tr th:only-of-type {\n",
       "        vertical-align: middle;\n",
       "    }\n",
       "\n",
       "    .dataframe tbody tr th {\n",
       "        vertical-align: top;\n",
       "    }\n",
       "\n",
       "    .dataframe thead th {\n",
       "        text-align: right;\n",
       "    }\n",
       "</style>\n",
       "<table border=\"1\" class=\"dataframe\">\n",
       "  <thead>\n",
       "    <tr style=\"text-align: right;\">\n",
       "      <th></th>\n",
       "      <th>_id</th>\n",
       "      <th>count</th>\n",
       "    </tr>\n",
       "  </thead>\n",
       "  <tbody>\n",
       "    <tr>\n",
       "      <th>0</th>\n",
       "      <td>salt</td>\n",
       "      <td>18049</td>\n",
       "    </tr>\n",
       "    <tr>\n",
       "      <th>1</th>\n",
       "      <td>onions</td>\n",
       "      <td>7972</td>\n",
       "    </tr>\n",
       "    <tr>\n",
       "      <th>2</th>\n",
       "      <td>olive oil</td>\n",
       "      <td>7972</td>\n",
       "    </tr>\n",
       "    <tr>\n",
       "      <th>3</th>\n",
       "      <td>water</td>\n",
       "      <td>7457</td>\n",
       "    </tr>\n",
       "    <tr>\n",
       "      <th>4</th>\n",
       "      <td>garlic</td>\n",
       "      <td>7380</td>\n",
       "    </tr>\n",
       "  </tbody>\n",
       "</table>\n",
       "</div>"
      ],
      "text/plain": [
       "         _id  count\n",
       "0       salt  18049\n",
       "1     onions   7972\n",
       "2  olive oil   7972\n",
       "3      water   7457\n",
       "4     garlic   7380"
      ]
     },
     "execution_count": 13,
     "metadata": {},
     "output_type": "execute_result"
    }
   ],
   "source": [
    "pipeline = [\n",
    "     {\"$unwind\": \"$ingredients\"},\n",
    "     {\"$group\": {\"_id\": \"$ingredients\", \"count\": {\"$sum\": 1}}},\n",
    "     {\"$sort\": {\"count\": -1}},\n",
    "     {\"$limit\": 5}\n",
    "]\n",
    "agg = collection.aggregate(pipeline)\n",
    "pd.DataFrame(agg)"
   ]
  },
  {
   "cell_type": "markdown",
   "id": "ae374510",
   "metadata": {
    "colab_type": "text",
    "id": "JLorR3rxWMbz",
    "slideshow": {
     "slide_type": "skip"
    }
   },
   "source": [
    "Which cuisine+ingredient are most common in this dataset?"
   ]
  },
  {
   "cell_type": "code",
   "execution_count": 14,
   "id": "13e92edf",
   "metadata": {
    "colab": {
     "base_uri": "https://localhost:8080/",
     "height": 204
    },
    "colab_type": "code",
    "id": "A2Q70s0oWMb6",
    "outputId": "de495de4-1552-4590-f2fd-7954d75c2e24",
    "scrolled": true,
    "slideshow": {
     "slide_type": "skip"
    }
   },
   "outputs": [
    {
     "data": {
      "text/html": [
       "<div>\n",
       "<style scoped>\n",
       "    .dataframe tbody tr th:only-of-type {\n",
       "        vertical-align: middle;\n",
       "    }\n",
       "\n",
       "    .dataframe tbody tr th {\n",
       "        vertical-align: top;\n",
       "    }\n",
       "\n",
       "    .dataframe thead th {\n",
       "        text-align: right;\n",
       "    }\n",
       "</style>\n",
       "<table border=\"1\" class=\"dataframe\">\n",
       "  <thead>\n",
       "    <tr style=\"text-align: right;\">\n",
       "      <th></th>\n",
       "      <th>_id</th>\n",
       "      <th>count</th>\n",
       "    </tr>\n",
       "  </thead>\n",
       "  <tbody>\n",
       "    <tr>\n",
       "      <th>0</th>\n",
       "      <td>{'ingredients': 'salt', 'cuisine': 'italian'}</td>\n",
       "      <td>3454</td>\n",
       "    </tr>\n",
       "    <tr>\n",
       "      <th>1</th>\n",
       "      <td>{'ingredients': 'olive oil', 'cuisine': 'itali...</td>\n",
       "      <td>3111</td>\n",
       "    </tr>\n",
       "    <tr>\n",
       "      <th>2</th>\n",
       "      <td>{'ingredients': 'salt', 'cuisine': 'mexican'}</td>\n",
       "      <td>2720</td>\n",
       "    </tr>\n",
       "    <tr>\n",
       "      <th>3</th>\n",
       "      <td>{'ingredients': 'salt', 'cuisine': 'southern_us'}</td>\n",
       "      <td>2290</td>\n",
       "    </tr>\n",
       "    <tr>\n",
       "      <th>4</th>\n",
       "      <td>{'ingredients': 'salt', 'cuisine': 'indian'}</td>\n",
       "      <td>1934</td>\n",
       "    </tr>\n",
       "  </tbody>\n",
       "</table>\n",
       "</div>"
      ],
      "text/plain": [
       "                                                 _id  count\n",
       "0      {'ingredients': 'salt', 'cuisine': 'italian'}   3454\n",
       "1  {'ingredients': 'olive oil', 'cuisine': 'itali...   3111\n",
       "2      {'ingredients': 'salt', 'cuisine': 'mexican'}   2720\n",
       "3  {'ingredients': 'salt', 'cuisine': 'southern_us'}   2290\n",
       "4       {'ingredients': 'salt', 'cuisine': 'indian'}   1934"
      ]
     },
     "execution_count": 14,
     "metadata": {},
     "output_type": "execute_result"
    }
   ],
   "source": [
    "pipeline = [\n",
    "     {\"$unwind\": \"$ingredients\"},\n",
    "     {\"$group\": {\"_id\": {\n",
    "         \"ingredients\": \"$ingredients\", \"cuisine\": \"$cuisine\"\n",
    "     }, \"count\": {\"$sum\": 1}}},\n",
    "     {\"$sort\": {\"count\": -1}},\n",
    "     {\"$limit\": 5}\n",
    "]\n",
    "agg = collection.aggregate(pipeline)\n",
    "pd.DataFrame(agg)[:5]"
   ]
  }
 ],
 "metadata": {
  "kernelspec": {
   "display_name": "Python 3 (ipykernel)",
   "language": "python",
   "name": "python3"
  },
  "language_info": {
   "codemirror_mode": {
    "name": "ipython",
    "version": 3
   },
   "file_extension": ".py",
   "mimetype": "text/x-python",
   "name": "python",
   "nbconvert_exporter": "python",
   "pygments_lexer": "ipython3",
   "version": "3.8.8"
  }
 },
 "nbformat": 4,
 "nbformat_minor": 5
}
