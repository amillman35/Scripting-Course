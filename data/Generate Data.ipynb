{
 "cells": [
  {
   "cell_type": "code",
   "execution_count": 31,
   "metadata": {},
   "outputs": [],
   "source": [
    "%matplotlib inline\n",
    "%load_ext sql\n",
    "import numpy as np\n",
    "import pandas as pd\n",
    "from pydbgen import pydbgen\n",
    "from faker import Faker\n",
    "from pandas.tseries.offsets import *\n",
    "from sqlalchemy import create_engine\n",
    "\n",
    "fake = Faker()\n",
    "myDB=pydbgen.pydb()"
   ]
  },
  {
   "cell_type": "markdown",
   "metadata": {},
   "source": [
    "# Circulation Dataset"
   ]
  },
  {
   "cell_type": "code",
   "execution_count": 6,
   "metadata": {},
   "outputs": [],
   "source": [
    "engine = create_engine('sqlite:///../data/circulation.sqlite')"
   ]
  },
  {
   "cell_type": "markdown",
   "metadata": {},
   "source": [
    "## Generate Patron data"
   ]
  },
  {
   "cell_type": "code",
   "execution_count": 4,
   "metadata": {},
   "outputs": [
    {
     "data": {
      "text/html": [
       "<div>\n",
       "<style scoped>\n",
       "    .dataframe tbody tr th:only-of-type {\n",
       "        vertical-align: middle;\n",
       "    }\n",
       "\n",
       "    .dataframe tbody tr th {\n",
       "        vertical-align: top;\n",
       "    }\n",
       "\n",
       "    .dataframe thead th {\n",
       "        text-align: right;\n",
       "    }\n",
       "</style>\n",
       "<table border=\"1\" class=\"dataframe\">\n",
       "  <thead>\n",
       "    <tr style=\"text-align: right;\">\n",
       "      <th></th>\n",
       "      <th>id</th>\n",
       "      <th>name</th>\n",
       "      <th>age</th>\n",
       "      <th>email</th>\n",
       "      <th>zipcode</th>\n",
       "      <th>city</th>\n",
       "      <th>activity</th>\n",
       "    </tr>\n",
       "  </thead>\n",
       "  <tbody>\n",
       "    <tr>\n",
       "      <th>0</th>\n",
       "      <td>1</td>\n",
       "      <td>Jeremy Mata</td>\n",
       "      <td>30</td>\n",
       "      <td>timothymoore@gmail.com</td>\n",
       "      <td>52022</td>\n",
       "      <td>Thomasmouth</td>\n",
       "      <td>9</td>\n",
       "    </tr>\n",
       "    <tr>\n",
       "      <th>1</th>\n",
       "      <td>2</td>\n",
       "      <td>Daniel Garcia</td>\n",
       "      <td>55</td>\n",
       "      <td>mcdanielwilliam@sanchez-herrera.biz</td>\n",
       "      <td>09529</td>\n",
       "      <td>Deborahbury</td>\n",
       "      <td>3</td>\n",
       "    </tr>\n",
       "  </tbody>\n",
       "</table>\n",
       "</div>"
      ],
      "text/plain": [
       "   id           name  age                                email zipcode  \\\n",
       "0   1    Jeremy Mata   30               timothymoore@gmail.com   52022   \n",
       "1   2  Daniel Garcia   55  mcdanielwilliam@sanchez-herrera.biz   09529   \n",
       "\n",
       "          city  activity  \n",
       "0  Thomasmouth         9  \n",
       "1  Deborahbury         3  "
      ]
     },
     "execution_count": 4,
     "metadata": {},
     "output_type": "execute_result"
    }
   ],
   "source": [
    "nrows = 1000\n",
    "patrons = myDB.gen_dataframe(num=nrows,\n",
    "                             fields=['id', 'name', 'age', 'email', 'zipcode'],\n",
    "                             real_email=False, seed=123876)\n",
    "patrons['id'] = range(1, nrows+1)\n",
    "# Generate age from a normal distribution, mean 35\n",
    "patrons['age'] = (np.random.randn(nrows) * 15 + 35).astype(np.int)\n",
    "patrons.loc[patrons['age'] < 0, 'age'] = 0\n",
    "# Generate cities, random but from a normal dist\n",
    "city_names = myDB.gen_data_series(num=100, data_type='city')\n",
    "patrons['city'] = city_names[(np.random.randn(nrows) * 8 + 50).astype(int)].values\n",
    "# For generating circulation info, give each patron a fake rating for how active they are\n",
    "patrons['activity'] = np.random.randint(10, size=nrows)\n",
    "patrons.head(2)"
   ]
  },
  {
   "cell_type": "code",
   "execution_count": 7,
   "metadata": {},
   "outputs": [],
   "source": [
    "patrons.to_sql('patrons', engine, index=False)"
   ]
  },
  {
   "cell_type": "markdown",
   "metadata": {},
   "source": [
    "## Generate Books"
   ]
  },
  {
   "cell_type": "code",
   "execution_count": 5,
   "metadata": {},
   "outputs": [
    {
     "data": {
      "text/html": [
       "<div>\n",
       "<style scoped>\n",
       "    .dataframe tbody tr th:only-of-type {\n",
       "        vertical-align: middle;\n",
       "    }\n",
       "\n",
       "    .dataframe tbody tr th {\n",
       "        vertical-align: top;\n",
       "    }\n",
       "\n",
       "    .dataframe thead th {\n",
       "        text-align: right;\n",
       "    }\n",
       "</style>\n",
       "<table border=\"1\" class=\"dataframe\">\n",
       "  <thead>\n",
       "    <tr style=\"text-align: right;\">\n",
       "      <th></th>\n",
       "      <th>title</th>\n",
       "      <th>author</th>\n",
       "      <th>ratingsCount</th>\n",
       "      <th>isbn</th>\n",
       "      <th>id</th>\n",
       "    </tr>\n",
       "  </thead>\n",
       "  <tbody>\n",
       "    <tr>\n",
       "      <th>122005</th>\n",
       "      <td>La Metamorfosis/ The Metamorphosis</td>\n",
       "      <td>Franz Kafka</td>\n",
       "      <td>423657</td>\n",
       "      <td>1-05-232002-3</td>\n",
       "      <td>1574</td>\n",
       "    </tr>\n",
       "    <tr>\n",
       "      <th>95205</th>\n",
       "      <td>Harry Potter and the Philosopher's Stone (Harr...</td>\n",
       "      <td>J.K. Rowling</td>\n",
       "      <td>4920627</td>\n",
       "      <td>1-203-98661-0</td>\n",
       "      <td>1089</td>\n",
       "    </tr>\n",
       "  </tbody>\n",
       "</table>\n",
       "</div>"
      ],
      "text/plain": [
       "                                                    title        author  \\\n",
       "122005                 La Metamorfosis/ The Metamorphosis   Franz Kafka   \n",
       "95205   Harry Potter and the Philosopher's Stone (Harr...  J.K. Rowling   \n",
       "\n",
       "        ratingsCount           isbn    id  \n",
       "122005        423657  1-05-232002-3  1574  \n",
       "95205        4920627  1-203-98661-0  1089  "
      ]
     },
     "execution_count": 5,
     "metadata": {},
     "output_type": "execute_result"
    }
   ],
   "source": [
    "# Data downloaded from Kaggle: \n",
    "data = pd.read_csv(\"../data/br-trimmed.csv.bz2\", compression='bz2')\n",
    "# remove review data, keeping only one instance of each book, with ratingsCount to use as sampling weight\n",
    "data = data.groupby(['title', 'author'], as_index=False)[['ratingsCount']].max()\n",
    "\n",
    "nbooks = 2000\n",
    "books = data.sample(n=nbooks, weights=data.ratingsCount)\n",
    "books['isbn'] = [fake.isbn10(separator=\"-\") for i in range(nbooks)]\n",
    "books['id'] = range(1, nbooks+1)\n",
    "books.sample(2)"
   ]
  },
  {
   "cell_type": "code",
   "execution_count": 8,
   "metadata": {},
   "outputs": [],
   "source": [
    "books[['id', 'title', 'author', 'isbn']].to_sql('books', engine, index=False)"
   ]
  },
  {
   "cell_type": "markdown",
   "metadata": {},
   "source": [
    "## Generate Fake Circulation Data"
   ]
  },
  {
   "cell_type": "code",
   "execution_count": 28,
   "metadata": {},
   "outputs": [
    {
     "name": "stderr",
     "output_type": "stream",
     "text": [
      "C:\\Users\\Peter.Organisciak\\AppData\\Local\\Continuum\\Anaconda3\\lib\\site-packages\\pandas\\core\\ops.py:556: PerformanceWarning: Adding/subtracting array of DateOffsets to Series not vectorized\n",
      "  \"Series not vectorized\", PerformanceWarning)\n"
     ]
    },
    {
     "data": {
      "text/html": [
       "<div>\n",
       "<style scoped>\n",
       "    .dataframe tbody tr th:only-of-type {\n",
       "        vertical-align: middle;\n",
       "    }\n",
       "\n",
       "    .dataframe tbody tr th {\n",
       "        vertical-align: top;\n",
       "    }\n",
       "\n",
       "    .dataframe thead th {\n",
       "        text-align: right;\n",
       "    }\n",
       "</style>\n",
       "<table border=\"1\" class=\"dataframe\">\n",
       "  <thead>\n",
       "    <tr style=\"text-align: right;\">\n",
       "      <th></th>\n",
       "      <th>book_id</th>\n",
       "      <th>patron_id</th>\n",
       "      <th>checkout_time</th>\n",
       "      <th>return_time</th>\n",
       "    </tr>\n",
       "  </thead>\n",
       "  <tbody>\n",
       "    <tr>\n",
       "      <th>0</th>\n",
       "      <td>1898</td>\n",
       "      <td>862</td>\n",
       "      <td>2017-05-11 16:53:33</td>\n",
       "      <td>2017-06-09 16:40:11.804214</td>\n",
       "    </tr>\n",
       "    <tr>\n",
       "      <th>1</th>\n",
       "      <td>450</td>\n",
       "      <td>215</td>\n",
       "      <td>2018-01-05 13:07:20</td>\n",
       "      <td>2018-01-23 10:00:01.071255</td>\n",
       "    </tr>\n",
       "  </tbody>\n",
       "</table>\n",
       "</div>"
      ],
      "text/plain": [
       "   book_id  patron_id       checkout_time                return_time\n",
       "0     1898        862 2017-05-11 16:53:33 2017-06-09 16:40:11.804214\n",
       "1      450        215 2018-01-05 13:07:20 2018-01-23 10:00:01.071255"
      ]
     },
     "execution_count": 28,
     "metadata": {},
     "output_type": "execute_result"
    }
   ],
   "source": [
    "ncheckouts = 5000\n",
    "\n",
    "book_sampling = np.random.choice(books.index, size=ncheckouts, p=books.ratingsCount/books.ratingsCount.sum())\n",
    "book_ids = books.loc[book_sampling]['id'].values\n",
    "\n",
    "patron_sampling = np.random.choice(patrons.index, size=ncheckouts, p=patrons.activity/patrons.activity.sum())\n",
    "patron_ids = patrons.loc[patron_sampling]['id'].values\n",
    "\n",
    "circ = pd.DataFrame([book_ids, patron_ids]).T.rename(columns={0:'book_id', 1:'patron_id'})\n",
    "\n",
    "# Generate dates from past year\n",
    "dates = pd.Series([fake.date_time_between(start_date=\"-1y\", end_date=\"now\", tzinfo=None) for i in range(ncheckouts)])\n",
    "circ['checkout_time'] = pd.to_datetime(dates)\n",
    "\n",
    "# Mark recent checkouts (from past four weeks) as not returned\n",
    "circ['return_time'] = circ.checkout_time + pd.Series(np.random.randn(ncheckouts) + 3.5).apply(Week)\n",
    "circ.loc[circ.checkout_time > (circ.checkout_time.max() - DateOffset(weeks=4)), 'return_time'] = np.nan\n",
    "\n",
    "circ.head(2)"
   ]
  },
  {
   "cell_type": "code",
   "execution_count": 29,
   "metadata": {},
   "outputs": [],
   "source": [
    "circ.to_sql('circulation', engine, index=False)"
   ]
  },
  {
   "cell_type": "markdown",
   "metadata": {},
   "source": [
    "# Testing"
   ]
  },
  {
   "cell_type": "code",
   "execution_count": 32,
   "metadata": {},
   "outputs": [
    {
     "data": {
      "text/plain": [
       "'Connected: None@../data/circulation.sqlite'"
      ]
     },
     "execution_count": 32,
     "metadata": {},
     "output_type": "execute_result"
    }
   ],
   "source": [
    "%sql sqlite:///../data/circulation.sqlite"
   ]
  },
  {
   "cell_type": "code",
   "execution_count": 33,
   "metadata": {},
   "outputs": [
    {
     "name": "stdout",
     "output_type": "stream",
     "text": [
      "Done.\n"
     ]
    },
    {
     "data": {
      "text/html": [
       "<table>\n",
       "    <tr>\n",
       "        <th>book_id</th>\n",
       "        <th>patron_id</th>\n",
       "        <th>checkout_time</th>\n",
       "        <th>return_time</th>\n",
       "    </tr>\n",
       "    <tr>\n",
       "        <td>1898</td>\n",
       "        <td>862</td>\n",
       "        <td>2017-05-11 16:53:33.000000</td>\n",
       "        <td>2017-06-09 16:40:11.804214</td>\n",
       "    </tr>\n",
       "    <tr>\n",
       "        <td>450</td>\n",
       "        <td>215</td>\n",
       "        <td>2018-01-05 13:07:20.000000</td>\n",
       "        <td>2018-01-23 10:00:01.071255</td>\n",
       "    </tr>\n",
       "    <tr>\n",
       "        <td>1840</td>\n",
       "        <td>148</td>\n",
       "        <td>2018-01-29 22:25:54.000000</td>\n",
       "        <td>2018-03-03 05:15:48.780117</td>\n",
       "    </tr>\n",
       "    <tr>\n",
       "        <td>235</td>\n",
       "        <td>58</td>\n",
       "        <td>2017-06-21 07:27:02.000000</td>\n",
       "        <td>2017-07-15 04:34:52.054251</td>\n",
       "    </tr>\n",
       "    <tr>\n",
       "        <td>522</td>\n",
       "        <td>801</td>\n",
       "        <td>2017-08-29 16:19:26.000000</td>\n",
       "        <td>2017-09-29 18:25:42.337822</td>\n",
       "    </tr>\n",
       "    <tr>\n",
       "        <td>213</td>\n",
       "        <td>411</td>\n",
       "        <td>2017-08-13 15:10:10.000000</td>\n",
       "        <td>2017-09-08 13:37:02.209165</td>\n",
       "    </tr>\n",
       "    <tr>\n",
       "        <td>893</td>\n",
       "        <td>816</td>\n",
       "        <td>2017-09-26 11:38:24.000000</td>\n",
       "        <td>2017-10-22 06:42:34.169105</td>\n",
       "    </tr>\n",
       "    <tr>\n",
       "        <td>441</td>\n",
       "        <td>380</td>\n",
       "        <td>2017-09-09 16:34:28.000000</td>\n",
       "        <td>2017-09-27 00:27:15.345828</td>\n",
       "    </tr>\n",
       "    <tr>\n",
       "        <td>979</td>\n",
       "        <td>724</td>\n",
       "        <td>2017-10-16 18:47:49.000000</td>\n",
       "        <td>2017-11-14 03:43:09.035133</td>\n",
       "    </tr>\n",
       "    <tr>\n",
       "        <td>229</td>\n",
       "        <td>241</td>\n",
       "        <td>2017-08-18 18:56:03.000000</td>\n",
       "        <td>2017-09-08 13:02:49.875579</td>\n",
       "    </tr>\n",
       "</table>"
      ],
      "text/plain": [
       "[(1898, 862, '2017-05-11 16:53:33.000000', '2017-06-09 16:40:11.804214'),\n",
       " (450, 215, '2018-01-05 13:07:20.000000', '2018-01-23 10:00:01.071255'),\n",
       " (1840, 148, '2018-01-29 22:25:54.000000', '2018-03-03 05:15:48.780117'),\n",
       " (235, 58, '2017-06-21 07:27:02.000000', '2017-07-15 04:34:52.054251'),\n",
       " (522, 801, '2017-08-29 16:19:26.000000', '2017-09-29 18:25:42.337822'),\n",
       " (213, 411, '2017-08-13 15:10:10.000000', '2017-09-08 13:37:02.209165'),\n",
       " (893, 816, '2017-09-26 11:38:24.000000', '2017-10-22 06:42:34.169105'),\n",
       " (441, 380, '2017-09-09 16:34:28.000000', '2017-09-27 00:27:15.345828'),\n",
       " (979, 724, '2017-10-16 18:47:49.000000', '2017-11-14 03:43:09.035133'),\n",
       " (229, 241, '2017-08-18 18:56:03.000000', '2017-09-08 13:02:49.875579')]"
      ]
     },
     "execution_count": 33,
     "metadata": {},
     "output_type": "execute_result"
    }
   ],
   "source": [
    "%%sql\n",
    "SELECT * FROM circulation LIMIT 10;"
   ]
  }
 ],
 "metadata": {
  "kernelspec": {
   "display_name": "Python 3",
   "language": "python",
   "name": "python3"
  },
  "language_info": {
   "codemirror_mode": {
    "name": "ipython",
    "version": 3
   },
   "file_extension": ".py",
   "mimetype": "text/x-python",
   "name": "python",
   "nbconvert_exporter": "python",
   "pygments_lexer": "ipython3",
   "version": "3.6.4"
  }
 },
 "nbformat": 4,
 "nbformat_minor": 2
}
