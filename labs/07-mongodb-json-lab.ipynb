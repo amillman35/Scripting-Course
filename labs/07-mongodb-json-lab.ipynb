{
 "cells": [
  {
   "cell_type": "markdown",
   "metadata": {},
   "source": [
    "Today's lab is a half-lab, combined with last week's short (but tricky!) lab."
   ]
  },
  {
   "cell_type": "markdown",
   "metadata": {},
   "source": [
    "## DataFrame Selection\n",
    "\n",
    "This is here just for reference. Don't forget it!\n",
    "\n",
    "**Selecting rows by numeric index**\n",
    "\n",
    "Provide `x:y` notation in : `df[10:14]`\n",
    "\n",
    "**Selecting rows by index name**\n",
    "\n",
    "Provide the name to `.loc[]`: `df.loc['Sherlock Holmes']`\n",
    "\n",
    "**Selecting rows by inclusion criteria**\n",
    "\n",
    "Provide any collection (e.g. a list or Series) of True/False values:\n",
    "\n",
    "```\n",
    "df[[True, False, False, True, True]]\n",
    "```\n",
    "\n",
    "```\n",
    "df[df.year > 1996]\n",
    "```\n",
    "    \n",
    "**Selecting multiple columns**\n",
    "\n",
    "Provide a collection of strings, referencing the column names:\n",
    "\n",
    "```\n",
    "df[['genres', 'year']]\n",
    "```\n",
    "    \n",
    "**Selecting single column (as Series)**\n",
    "\n",
    "```\n",
    "df['year']\n",
    "```\n",
    "\n",
    "Or:\n",
    "\n",
    "```\n",
    "df.year\n",
    "```\n",
    "\n",
    "Consider the latter as the shortcut, not the main way.\n",
    "\n",
    "The output is a Series. To select a single column as a DataFrame, use list with only one value."
   ]
  },
  {
   "cell_type": "markdown",
   "metadata": {},
   "source": [
    "## Opening JSON\n",
    "\n",
    "Download [this file of recipe ingredients, from *Yummly*](https://raw.githubusercontent.com/organisciak/Scripting-Course/master/data/cooking.json) and save it to the save folder. \n",
    "\n",
    "Try opening the file in a text editor. What does it look like?"
   ]
  },
  {
   "cell_type": "code",
   "execution_count": 2,
   "metadata": {},
   "outputs": [],
   "source": [
    "import json\n",
    "with open('cooking.json') as f:\n",
    "    data = json.load(f)"
   ]
  },
  {
   "cell_type": "markdown",
   "metadata": {},
   "source": [
    "What's done here? `with open(...) as f` syntax opens a file, setting it to a variable named `f`. That can read the raw text from the file, but the `json.load` function parses the text (one big string!) to a Python object.\n",
    "\n",
    "This particular data is a big list of foods: try printing the first few items:"
   ]
  },
  {
   "cell_type": "code",
   "execution_count": 3,
   "metadata": {},
   "outputs": [
    {
     "data": {
      "text/plain": [
       "[{'id': 10259,\n",
       "  'cuisine': 'greek',\n",
       "  'ingredients': ['romaine lettuce',\n",
       "   'black olives',\n",
       "   'grape tomatoes',\n",
       "   'garlic',\n",
       "   'pepper',\n",
       "   'purple onion',\n",
       "   'seasoning',\n",
       "   'garbanzo beans',\n",
       "   'feta cheese crumbles']},\n",
       " {'id': 25693,\n",
       "  'cuisine': 'southern_us',\n",
       "  'ingredients': ['plain flour',\n",
       "   'ground pepper',\n",
       "   'salt',\n",
       "   'tomatoes',\n",
       "   'ground black pepper',\n",
       "   'thyme',\n",
       "   'eggs',\n",
       "   'green tomatoes',\n",
       "   'yellow corn meal',\n",
       "   'milk',\n",
       "   'vegetable oil']},\n",
       " {'id': 20130,\n",
       "  'cuisine': 'filipino',\n",
       "  'ingredients': ['eggs',\n",
       "   'pepper',\n",
       "   'salt',\n",
       "   'mayonaise',\n",
       "   'cooking oil',\n",
       "   'green chilies',\n",
       "   'grilled chicken breasts',\n",
       "   'garlic powder',\n",
       "   'yellow onion',\n",
       "   'soy sauce',\n",
       "   'butter',\n",
       "   'chicken livers']}]"
      ]
     },
     "execution_count": 3,
     "metadata": {},
     "output_type": "execute_result"
    }
   ],
   "source": [
    "data[:3]"
   ]
  },
  {
   "cell_type": "markdown",
   "metadata": {},
   "source": [
    "### Questions\n",
    "\n",
    "- What type of cuisine is the 300th item (index=299) in the dataset?\n",
    "- What food is the tenth ingredient of the 200th item in the data? Tip: you can count by hand for the answer, but see if you can grab it with code.\n",
    "- If you had run `data2 = f.read()` instead of `data = json.load(f)`, what would the `data2` variable look like?\n",
    "- What's the difference between running `print(data2[300:500])`, and having the notebook auto-print by running a cell with `data2[300:500]` on the last line?"
   ]
  },
  {
   "cell_type": "markdown",
   "metadata": {},
   "source": [
    "## Installing MongoDB\n",
    "\n",
    "MongoDB wasn't included when you installed Anaconda, so you'll have to run the command to install it.\n",
    "\n",
    "**Open a command line interface to Anaconda**\n",
    "\n",
    "- Windows: Open 'Command Prompt' from the Start Menu and type: `activate`.\n",
    "- Mac OS/Linux: Open 'Terminal' from Applications and type `source activate`.\n",
    "\n",
    "**Install Mongo Database and Python Library**\n",
    "\n",
    "- Type the following command and press Enter/Return: `conda install -y mongodb pymongo`\n",
    "\n",
    "**Start the Database**\n",
    "\n",
    "MongoDB needs a running database to connect to. What this means is that the database runs as a separate program, and your 'client' application talks to it. This is like most Database Management Systems; the very lightweight SQLite is an exception.\n",
    "\n",
    "- Start the database on the same command line by running the following code: `mongod`\n",
    "- Keep this window open in the background for as long as you need access to the database. To close the program, press 'Ctrl+C' (use Ctrl even in Mac OS)"
   ]
  },
  {
   "cell_type": "markdown",
   "metadata": {},
   "source": [
    "## Using MongoDB\n",
    "\n",
    "In Python, you need to connect to the MongoDB server. Since you're running it on your own computer, the location is localhost and the port is 27017, as you can see referenced in the window where you started it:\n",
    "\n",
    "![Mongo Port]('../images/mongod-port.png')\n",
    "\n",
    "To connect, use the following code, where `week7` can be replaced with whatever database name you'd like:"
   ]
  },
  {
   "cell_type": "code",
   "execution_count": 5,
   "metadata": {},
   "outputs": [
    {
     "data": {
      "text/plain": [
       "Database(MongoClient(host=['localhost:27017'], document_class=dict, tz_aware=False, connect=True), 'week7')"
      ]
     },
     "execution_count": 5,
     "metadata": {},
     "output_type": "execute_result"
    }
   ],
   "source": [
    "from pymongo import MongoClient\n",
    "client = MongoClient('localhost', 27017)\n",
    "db = client.week7\n",
    "db"
   ]
  },
  {
   "cell_type": "markdown",
   "metadata": {},
   "source": [
    "### Connecting to a Collection\n",
    "\n",
    "Here, I connect to the 'cooking' collection of `db`. If it doesn't exist, it will be created:"
   ]
  },
  {
   "cell_type": "code",
   "execution_count": 6,
   "metadata": {},
   "outputs": [],
   "source": [
    "collection = db.cooking"
   ]
  },
  {
   "cell_type": "markdown",
   "metadata": {},
   "source": [
    "### Inserting Data\n",
    "\n",
    "Lets insert our `data` from before. It's a list - data[0] is one 'document', data[1] is another one, and so on - so we can use `insert_many`:"
   ]
  },
  {
   "cell_type": "code",
   "execution_count": 20,
   "metadata": {},
   "outputs": [
    {
     "data": {
      "text/plain": [
       "<pymongo.results.InsertManyResult at 0x7db0ab715808>"
      ]
     },
     "execution_count": 20,
     "metadata": {},
     "output_type": "execute_result"
    }
   ],
   "source": [
    "collection.insert_many(data)"
   ]
  },
  {
   "cell_type": "code",
   "execution_count": 22,
   "metadata": {},
   "outputs": [
    {
     "data": {
      "text/plain": [
       "39774"
      ]
     },
     "execution_count": 22,
     "metadata": {},
     "output_type": "execute_result"
    }
   ],
   "source": [
    "collection.estimated_document_count()"
   ]
  },
  {
   "cell_type": "markdown",
   "metadata": {},
   "source": [
    "It's also possible to use `insert_one` for a single record:\n",
    "\n",
    "```collection.insert_one(your_record)```"
   ]
  },
  {
   "cell_type": "markdown",
   "metadata": {},
   "source": [
    "# Questions"
   ]
  },
  {
   "cell_type": "markdown",
   "metadata": {},
   "source": [
    "- How many documents are in the cooking collection?\n",
    "   - 7954\n",
    "   - 39774\n",
    "   - 79548\n",
    "- Match the cuisine to the number of documents that are that type of cuisine. Tip: You can run `count()` on the result of `find()`.\n",
    "   - Cuisines: 'japanese', 'mexican', 'italian'\n",
    "   - Counts: 6438, 7838, 1423\n",
    "- How many results have liver as an ingredient? Tip: If you want to inspect the results to doublecheck but worry about printing a BFD (a 'big dataset'), you can add `limit(number_of_results)` to the result of `find()` before printing it. Just remember to remove it when you're counting, else you'll ony count the number that you selected!\n",
    "\n",
    "`$in` and `$all` questions:\n",
    "\n",
    "- How many results have both 'duck' and 'chinese five-spice powder'?\n",
    "- How many results have either 'duck' or 'chinese five-spice powder'?"
   ]
  }
 ],
 "metadata": {
  "kernelspec": {
   "display_name": "Python 3",
   "language": "python",
   "name": "python3"
  },
  "language_info": {
   "codemirror_mode": {
    "name": "ipython",
    "version": 3
   },
   "file_extension": ".py",
   "mimetype": "text/x-python",
   "name": "python",
   "nbconvert_exporter": "python",
   "pygments_lexer": "ipython3",
   "version": "3.6.7"
  }
 },
 "nbformat": 4,
 "nbformat_minor": 2
}
