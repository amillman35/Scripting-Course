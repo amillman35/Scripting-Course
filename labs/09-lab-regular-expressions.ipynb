{
 "cells": [
  {
   "cell_type": "markdown",
   "metadata": {},
   "source": [
    "# Lab 9: Regular Expressions"
   ]
  },
  {
   "cell_type": "code",
   "execution_count": 1,
   "metadata": {},
   "outputs": [],
   "source": [
    "import re\n",
    "import pandas as pd"
   ]
  },
  {
   "cell_type": "markdown",
   "metadata": {},
   "source": [
    "Here is a synopsis of the best film of our time, *Paddington*:"
   ]
  },
  {
   "cell_type": "code",
   "execution_count": 3,
   "metadata": {},
   "outputs": [
    {
     "name": "stdout",
     "output_type": "stream",
     "text": [
      "After a deadly earthquake destroys his home in Peruvian rainforest, a young bear (Ben Whishaw) makes his way to England in search of a new home. The bear, dubbed \"Paddington\" for the london train station, finds shelter with the family of Henry (Hugh Bonneville) and Mary Brown (Sally Hawkins). Although Paddington's amazement at urban living soon endears him to the Browns, someone else has her eye on him: Taxidermist Millicent Clyde (Nicole Kidman) has designs on the rare bear and his hide.\n"
     ]
    }
   ],
   "source": [
    "synopsis = '''After a deadly earthquake destroys his home in Peruvian rainforest, a young bear (Ben Whishaw) makes his way to England in search of a new home. The bear, dubbed \"Paddington\" for the london train station, finds shelter with the family of Henry (Hugh Bonneville) and Mary Brown (Sally Hawkins). Although Paddington's amazement at urban living soon endears him to the Browns, someone else has her eye on him: Taxidermist Millicent Clyde (Nicole Kidman) has designs on the rare bear and his hide.'''\n",
    "print(synopsis)"
   ]
  },
  {
   "cell_type": "markdown",
   "metadata": {},
   "source": [
    "For these questions, use `re.findall(pattern, text)`, like so:"
   ]
  },
  {
   "cell_type": "code",
   "execution_count": 4,
   "metadata": {},
   "outputs": [
    {
     "data": {
      "text/plain": [
       "['After ', 'Henry ', 'Brown ', 'Sally ', 'Clyde ']"
      ]
     },
     "execution_count": 4,
     "metadata": {},
     "output_type": "execute_result"
    }
   ],
   "source": [
    "re.findall('[A-Z]....\\s', synopsis)"
   ]
  },
  {
   "cell_type": "markdown",
   "metadata": {},
   "source": [
    "## *About this week's lab*\n",
    "\n",
    "The quiz-style lab submission is an ill-fit for evaluating these skills. For this lab, upload your notebooks, and I'll run them!\n",
    "\n",
    "- complete the questions in a copy of this notebook\n",
    "- assign your answer to the variable in the cell that has `# Answer` written. Feel free to create new cells to work, but keep keep the answer cells.\n",
    "- Before submitting, doublecheck that everything runs! Go to `Kernel > Restart and Run All` to confirm.\n",
    "- submit the `ipynb` file in Canvas."
   ]
  },
  {
   "cell_type": "markdown",
   "metadata": {},
   "source": [
    "### Example Question\n",
    "\n",
    "- Q0.0: Write the regular expression to find all three or four-letter words:"
   ]
  },
  {
   "cell_type": "code",
   "execution_count": 5,
   "metadata": {},
   "outputs": [
    {
     "data": {
      "text/plain": [
       "[' his ',\n",
       " ' bear ',\n",
       " ' his ',\n",
       " ' new ',\n",
       " ' The ',\n",
       " ' for ',\n",
       " ' with ',\n",
       " ' and ',\n",
       " ' soon ',\n",
       " ' him ',\n",
       " ' the ',\n",
       " ' else ',\n",
       " ' her ',\n",
       " ' has ',\n",
       " ' the ',\n",
       " ' bear ',\n",
       " ' his ']"
      ]
     },
     "execution_count": 5,
     "metadata": {},
     "output_type": "execute_result"
    }
   ],
   "source": [
    "# My personal workspace\n",
    "re.findall('\\s\\w\\w\\w\\w?\\s', synopsis)"
   ]
  },
  {
   "cell_type": "code",
   "execution_count": 6,
   "metadata": {},
   "outputs": [],
   "source": [
    "# Answer\n",
    "answer00_pattern = '\\s\\w\\w\\w\\w?\\s'"
   ]
  },
  {
   "cell_type": "markdown",
   "metadata": {},
   "source": [
    "## Questions #1: Matching Characters (20 pts)\n",
    "\n",
    "- Q1.1: Write a regular expression to match all three-character words surrounded by spaces. (5pts)"
   ]
  },
  {
   "cell_type": "code",
   "execution_count": null,
   "metadata": {},
   "outputs": [],
   "source": [
    "answer00_pattern = '\\s\\w\\w\\w\\w?\\s'\n"
   ]
  },
  {
   "cell_type": "code",
   "execution_count": null,
   "metadata": {
    "scrolled": true
   },
   "outputs": [],
   "source": [
    "# Answer\n",
    "answer11_pattern = "
   ]
  },
  {
   "cell_type": "markdown",
   "metadata": {},
   "source": [
    "- Q1.2: Write a regular expression to match all three-character words, allowing for instances like `(Ben` and `him:`.  (5pts)"
   ]
  },
  {
   "cell_type": "code",
   "execution_count": null,
   "metadata": {},
   "outputs": [],
   "source": [
    "# Answer\n",
    "answer12_pattern = "
   ]
  },
  {
   "cell_type": "markdown",
   "metadata": {},
   "source": [
    "- Q1.3: How many times does the word `the` or `The` show up?  (5pts)"
   ]
  },
  {
   "cell_type": "code",
   "execution_count": null,
   "metadata": {},
   "outputs": [],
   "source": [
    "# Answer\n",
    "answer13_number = "
   ]
  },
  {
   "cell_type": "markdown",
   "metadata": {},
   "source": [
    "- Q1.4: Write a regular expression to find the context at the end of a sentence: the five characters leading up to the period. Results should be `[' home.', 'kins).', ' hide.']`  (5pts)"
   ]
  },
  {
   "cell_type": "code",
   "execution_count": null,
   "metadata": {},
   "outputs": [],
   "source": [
    "# Answer\n",
    "answer14_pattern = "
   ]
  },
  {
   "cell_type": "markdown",
   "metadata": {},
   "source": [
    "## Questions #2: Repeating Patterns (36 pts)\n",
    "\n",
    "*Full Reference*\n",
    "\n",
    "**Matching characters**\n",
    "- `a` - Match the letter `a`. Same for most other characters\n",
    "- `.` - Match any single character\n",
    "- `\\w` - Match any word character (letters, number... support for non-English characters varies)\n",
    "- `\\W` - Match any non-word characters\n",
    "- `\\d` - Match any digit\n",
    "- `.` - Matches *any* character\n",
    "- `\\.` - Matches a literal period (or `\\\\` matches literal backslash, `\\(` matches literal parenthesis, etc)\n",
    "- `\\s` - Match any whitespace character (space, tabs, line breaks sometimes)\n",
    "\n",
    "**Multiple Matches**\n",
    "- `[ab]` - Group of multiple possible characters - in this case `a` or `b`\n",
    "- `[a-z]` matches any character from a to z\n",
    "- `[A-Z]` matches any character from A to Z\n",
    "- `[A-Zab]` matches any character from A to Z (`A-Z`), *or* `a` *or* `b`\n",
    "\n",
    "**Repeating**\n",
    "\n",
    "*'greedy' means that it captures as much as it can, 'lazy' means it captures as little as possible.*\n",
    "`?` - One or zero of the preceding match\n",
    "- `+` - One or more of the preceding match (greedy)\n",
    "- `*` - Zero or more of the preceding match (greedy)\n",
    "- `*?`, `+?`  - Lazy versions of `*` and `+`\n",
    "\n",
    "**Position**\n",
    "- `^` - Start of line\n",
    "- `$` - End of line\n",
    "\n",
    "*Questions*\n",
    "\n",
    "- Q2.1: Write the expression that creates the following matches: `['. The', '. Although']` (6 pts)"
   ]
  },
  {
   "cell_type": "code",
   "execution_count": null,
   "metadata": {},
   "outputs": [],
   "source": [
    "# Answer\n",
    "answer21_pattern = "
   ]
  },
  {
   "cell_type": "markdown",
   "metadata": {},
   "source": [
    "- Q2.2: Write the expression to match the two words following the word `a`. The results should be `['a deadly earthquake', 'a young bear', 'a new home']` (6 pts)"
   ]
  },
  {
   "cell_type": "code",
   "execution_count": null,
   "metadata": {},
   "outputs": [],
   "source": [
    "# Answer\n",
    "answer22_pattern = "
   ]
  },
  {
   "cell_type": "markdown",
   "metadata": {},
   "source": [
    "- Q2.3: Write the expression to match all words with an `'s`. In this case, `Paddington's` is the only match.  (6 pts)"
   ]
  },
  {
   "cell_type": "code",
   "execution_count": null,
   "metadata": {},
   "outputs": [],
   "source": [
    "# Answer\n",
    "answer23_pattern = "
   ]
  },
  {
   "cell_type": "markdown",
   "metadata": {},
   "source": [
    "- Q2.4: Write the expression to match all values in parentheses. The results should be `['(Ben Whishaw)', '(Hugh Bonneville)', '(Sally Hawkins)', '(Nicole Kidman)]'` (6 pts)"
   ]
  },
  {
   "cell_type": "code",
   "execution_count": null,
   "metadata": {},
   "outputs": [],
   "source": [
    "# Answer\n",
    "answer24_pattern = "
   ]
  },
  {
   "cell_type": "markdown",
   "metadata": {},
   "source": [
    "- Q2.5: Write the expression to match all capitalized words, including `Paddington's`. (6 pts)"
   ]
  },
  {
   "cell_type": "code",
   "execution_count": null,
   "metadata": {},
   "outputs": [],
   "source": [
    "# Answer\n",
    "answer25_pattern = "
   ]
  },
  {
   "cell_type": "markdown",
   "metadata": {},
   "source": [
    "- Q2.6: Write the expression to match all pairings of capitalized words, like `Mary Brown` and `Although Paddington`. (6 pts)"
   ]
  },
  {
   "cell_type": "code",
   "execution_count": null,
   "metadata": {},
   "outputs": [],
   "source": [
    "# Answer\n",
    "answer26_pattern = "
   ]
  },
  {
   "cell_type": "markdown",
   "metadata": {},
   "source": [
    "## Other Python Regular Expression Functions\n",
    "\n",
    "**Replace a pattern**:\n",
    "    \n",
    "```\n",
    "re.sub(pattern, repl, string)\n",
    "```\n",
    "\n",
    "This replaces the pattern matches with whatever string you provide to `repl`.\n",
    "\n",
    "**Check a match**:\n",
    "    \n",
    "```\n",
    "regex.search(string)\n",
    "```\n",
    "\n",
    "This doesn't return anything if there are no matches, so it's useful for asking, \"is there a match or not?\""
   ]
  },
  {
   "cell_type": "markdown",
   "metadata": {},
   "source": [
    "## Pandas\n",
    "\n",
    "Load the following data into a DataFrame, containing the tweets of Lord_Voldemort7:"
   ]
  },
  {
   "cell_type": "code",
   "execution_count": 8,
   "metadata": {},
   "outputs": [
    {
     "data": {
      "text/html": [
       "<div>\n",
       "<style scoped>\n",
       "    .dataframe tbody tr th:only-of-type {\n",
       "        vertical-align: middle;\n",
       "    }\n",
       "\n",
       "    .dataframe tbody tr th {\n",
       "        vertical-align: top;\n",
       "    }\n",
       "\n",
       "    .dataframe thead th {\n",
       "        text-align: right;\n",
       "    }\n",
       "</style>\n",
       "<table border=\"1\" class=\"dataframe\">\n",
       "  <thead>\n",
       "    <tr style=\"text-align: right;\">\n",
       "      <th></th>\n",
       "      <th>id</th>\n",
       "      <th>favourites</th>\n",
       "      <th>retweets</th>\n",
       "      <th>created_at</th>\n",
       "      <th>text</th>\n",
       "      <th>is_quoted</th>\n",
       "    </tr>\n",
       "  </thead>\n",
       "  <tbody>\n",
       "    <tr>\n",
       "      <th>0</th>\n",
       "      <td>903664289411686400</td>\n",
       "      <td>1921</td>\n",
       "      <td>556</td>\n",
       "      <td>2017-09-01 17:02:10</td>\n",
       "      <td>#19YearsLater #BackToHogwarts</td>\n",
       "      <td>False</td>\n",
       "    </tr>\n",
       "    <tr>\n",
       "      <th>1</th>\n",
       "      <td>901217559860703234</td>\n",
       "      <td>2556</td>\n",
       "      <td>934</td>\n",
       "      <td>2017-08-25 22:59:44</td>\n",
       "      <td>\"I rose up from the dead, I do it all the time...</td>\n",
       "      <td>False</td>\n",
       "    </tr>\n",
       "    <tr>\n",
       "      <th>2</th>\n",
       "      <td>879505014422740994</td>\n",
       "      <td>3879</td>\n",
       "      <td>1578</td>\n",
       "      <td>2017-06-27 01:01:50</td>\n",
       "      <td>#HarryPotter20 There will always be magic.</td>\n",
       "      <td>False</td>\n",
       "    </tr>\n",
       "    <tr>\n",
       "      <th>3</th>\n",
       "      <td>818293342622650368</td>\n",
       "      <td>737</td>\n",
       "      <td>169</td>\n",
       "      <td>2017-01-09 03:08:30</td>\n",
       "      <td>Hermione tries to play Quidditch but hits her ...</td>\n",
       "      <td>False</td>\n",
       "    </tr>\n",
       "    <tr>\n",
       "      <th>4</th>\n",
       "      <td>815434344357625856</td>\n",
       "      <td>2719</td>\n",
       "      <td>1012</td>\n",
       "      <td>2017-01-01 05:47:52</td>\n",
       "      <td>2016 was channeling The Little Mermaid and end...</td>\n",
       "      <td>False</td>\n",
       "    </tr>\n",
       "  </tbody>\n",
       "</table>\n",
       "</div>"
      ],
      "text/plain": [
       "                   id  favourites  retweets           created_at  \\\n",
       "0  903664289411686400        1921       556  2017-09-01 17:02:10   \n",
       "1  901217559860703234        2556       934  2017-08-25 22:59:44   \n",
       "2  879505014422740994        3879      1578  2017-06-27 01:01:50   \n",
       "3  818293342622650368         737       169  2017-01-09 03:08:30   \n",
       "4  815434344357625856        2719      1012  2017-01-01 05:47:52   \n",
       "\n",
       "                                                text  is_quoted  \n",
       "0                      #19YearsLater #BackToHogwarts      False  \n",
       "1  \"I rose up from the dead, I do it all the time...      False  \n",
       "2         #HarryPotter20 There will always be magic.      False  \n",
       "3  Hermione tries to play Quidditch but hits her ...      False  \n",
       "4  2016 was channeling The Little Mermaid and end...      False  "
      ]
     },
     "execution_count": 8,
     "metadata": {},
     "output_type": "execute_result"
    }
   ],
   "source": [
    "tweets = pd.read_csv('https://raw.githubusercontent.com/organisciak/Scripting-Course/master/data/voldemort_tweets.csv')\n",
    "tweets.head()"
   ]
  },
  {
   "cell_type": "markdown",
   "metadata": {},
   "source": [
    "String actions on a DataFrame column (that is, a Series) are accessed with:\n",
    "\n",
    "```\n",
    "df['columnName'].str\n",
    "```\n",
    "\n",
    "For matching on regular expressions, you can use `.str.contains()`. For examples:"
   ]
  },
  {
   "cell_type": "code",
   "execution_count": 9,
   "metadata": {
    "scrolled": true
   },
   "outputs": [
    {
     "data": {
      "text/html": [
       "<div>\n",
       "<style scoped>\n",
       "    .dataframe tbody tr th:only-of-type {\n",
       "        vertical-align: middle;\n",
       "    }\n",
       "\n",
       "    .dataframe tbody tr th {\n",
       "        vertical-align: top;\n",
       "    }\n",
       "\n",
       "    .dataframe thead th {\n",
       "        text-align: right;\n",
       "    }\n",
       "</style>\n",
       "<table border=\"1\" class=\"dataframe\">\n",
       "  <thead>\n",
       "    <tr style=\"text-align: right;\">\n",
       "      <th></th>\n",
       "      <th>id</th>\n",
       "      <th>favourites</th>\n",
       "      <th>retweets</th>\n",
       "      <th>created_at</th>\n",
       "      <th>text</th>\n",
       "      <th>is_quoted</th>\n",
       "    </tr>\n",
       "  </thead>\n",
       "  <tbody>\n",
       "    <tr>\n",
       "      <th>1</th>\n",
       "      <td>901217559860703234</td>\n",
       "      <td>2556</td>\n",
       "      <td>934</td>\n",
       "      <td>2017-08-25 22:59:44</td>\n",
       "      <td>\"I rose up from the dead, I do it all the time...</td>\n",
       "      <td>False</td>\n",
       "    </tr>\n",
       "    <tr>\n",
       "      <th>158</th>\n",
       "      <td>485447695797342208</td>\n",
       "      <td>2452</td>\n",
       "      <td>1860</td>\n",
       "      <td>2014-07-05 15:38:44</td>\n",
       "      <td>You thought they were fireworks, America, but ...</td>\n",
       "      <td>False</td>\n",
       "    </tr>\n",
       "    <tr>\n",
       "      <th>476</th>\n",
       "      <td>356617010102276096</td>\n",
       "      <td>949</td>\n",
       "      <td>1221</td>\n",
       "      <td>2013-07-15 03:31:35</td>\n",
       "      <td>'Harry Potter' is the #1 Worldwide Trending To...</td>\n",
       "      <td>False</td>\n",
       "    </tr>\n",
       "    <tr>\n",
       "      <th>549</th>\n",
       "      <td>331832894916026369</td>\n",
       "      <td>440</td>\n",
       "      <td>802</td>\n",
       "      <td>2013-05-07 18:08:21</td>\n",
       "      <td>If looks could kill then my body would be a de...</td>\n",
       "      <td>False</td>\n",
       "    </tr>\n",
       "    <tr>\n",
       "      <th>576</th>\n",
       "      <td>325320048459784192</td>\n",
       "      <td>280</td>\n",
       "      <td>506</td>\n",
       "      <td>2013-04-19 18:48:38</td>\n",
       "      <td>Perhaps news outlets/reporters/blogs should st...</td>\n",
       "      <td>False</td>\n",
       "    </tr>\n",
       "    <tr>\n",
       "      <th>630</th>\n",
       "      <td>318112066038812672</td>\n",
       "      <td>2675</td>\n",
       "      <td>5703</td>\n",
       "      <td>2013-03-30 21:26:41</td>\n",
       "      <td>'Happy Easter' is a TT. So when I rise from th...</td>\n",
       "      <td>False</td>\n",
       "    </tr>\n",
       "    <tr>\n",
       "      <th>706</th>\n",
       "      <td>303184749021757440</td>\n",
       "      <td>1577</td>\n",
       "      <td>3621</td>\n",
       "      <td>2013-02-17 16:50:51</td>\n",
       "      <td>Yo mum is so ugly that when a basilisk looked ...</td>\n",
       "      <td>False</td>\n",
       "    </tr>\n",
       "    <tr>\n",
       "      <th>721</th>\n",
       "      <td>300324033327661056</td>\n",
       "      <td>1592</td>\n",
       "      <td>3431</td>\n",
       "      <td>2013-02-09 19:23:23</td>\n",
       "      <td>#ThingsYouShouldntDo: Tell Harry Potter that y...</td>\n",
       "      <td>False</td>\n",
       "    </tr>\n",
       "    <tr>\n",
       "      <th>762</th>\n",
       "      <td>290634984979574784</td>\n",
       "      <td>2880</td>\n",
       "      <td>6569</td>\n",
       "      <td>2013-01-14 01:42:34</td>\n",
       "      <td>When you wish upon a star you are actually a f...</td>\n",
       "      <td>False</td>\n",
       "    </tr>\n",
       "    <tr>\n",
       "      <th>997</th>\n",
       "      <td>254647981960212481</td>\n",
       "      <td>1326</td>\n",
       "      <td>4293</td>\n",
       "      <td>2012-10-06 18:23:04</td>\n",
       "      <td>#HarryPotterPickupLines Did you survive the Av...</td>\n",
       "      <td>False</td>\n",
       "    </tr>\n",
       "    <tr>\n",
       "      <th>1473</th>\n",
       "      <td>201347612161482752</td>\n",
       "      <td>529</td>\n",
       "      <td>1179</td>\n",
       "      <td>2012-05-12 16:26:26</td>\n",
       "      <td>\"Happy Mother's Day\" is trending. My mother is...</td>\n",
       "      <td>False</td>\n",
       "    </tr>\n",
       "    <tr>\n",
       "      <th>1633</th>\n",
       "      <td>188777643741679616</td>\n",
       "      <td>1817</td>\n",
       "      <td>8036</td>\n",
       "      <td>2012-04-07 23:57:52</td>\n",
       "      <td>Happy Easter is trending. So when I rise from ...</td>\n",
       "      <td>False</td>\n",
       "    </tr>\n",
       "    <tr>\n",
       "      <th>1713</th>\n",
       "      <td>182230301756489728</td>\n",
       "      <td>1516</td>\n",
       "      <td>7857</td>\n",
       "      <td>2012-03-20 22:21:04</td>\n",
       "      <td>#ReplacePotterQuoteWithBacon: \"Do not pity the...</td>\n",
       "      <td>False</td>\n",
       "    </tr>\n",
       "    <tr>\n",
       "      <th>1752</th>\n",
       "      <td>173926527266861056</td>\n",
       "      <td>134</td>\n",
       "      <td>546</td>\n",
       "      <td>2012-02-27 00:24:50</td>\n",
       "      <td>I am disappointed there is a \"dead body\" on th...</td>\n",
       "      <td>False</td>\n",
       "    </tr>\n",
       "    <tr>\n",
       "      <th>1846</th>\n",
       "      <td>160917485812584448</td>\n",
       "      <td>289</td>\n",
       "      <td>1693</td>\n",
       "      <td>2012-01-22 02:51:32</td>\n",
       "      <td>First sources said Joe Paterno was dead. Now t...</td>\n",
       "      <td>False</td>\n",
       "    </tr>\n",
       "    <tr>\n",
       "      <th>1851</th>\n",
       "      <td>160441582955405312</td>\n",
       "      <td>323</td>\n",
       "      <td>2357</td>\n",
       "      <td>2012-01-20 19:20:28</td>\n",
       "      <td>SOPA is dead. Technology rising above to beat ...</td>\n",
       "      <td>False</td>\n",
       "    </tr>\n",
       "    <tr>\n",
       "      <th>2063</th>\n",
       "      <td>142430282883145728</td>\n",
       "      <td>531</td>\n",
       "      <td>2588</td>\n",
       "      <td>2011-12-02 02:30:00</td>\n",
       "      <td>#Confusingthingsthatgirlsdo: vampires. Um, the...</td>\n",
       "      <td>False</td>\n",
       "    </tr>\n",
       "    <tr>\n",
       "      <th>2107</th>\n",
       "      <td>139497416234778624</td>\n",
       "      <td>312</td>\n",
       "      <td>2002</td>\n",
       "      <td>2011-11-24 00:15:50</td>\n",
       "      <td>Happy Thanksgiving is trending. When celebrati...</td>\n",
       "      <td>False</td>\n",
       "    </tr>\n",
       "    <tr>\n",
       "      <th>2172</th>\n",
       "      <td>133699908418019328</td>\n",
       "      <td>322</td>\n",
       "      <td>884</td>\n",
       "      <td>2011-11-08 00:18:36</td>\n",
       "      <td>\"Over my dead body\" is trending... http://t.co...</td>\n",
       "      <td>False</td>\n",
       "    </tr>\n",
       "    <tr>\n",
       "      <th>2280</th>\n",
       "      <td>126995230770728960</td>\n",
       "      <td>423</td>\n",
       "      <td>3760</td>\n",
       "      <td>2011-10-20 12:16:37</td>\n",
       "      <td>#Gadhafi might be dead according to the US. He...</td>\n",
       "      <td>False</td>\n",
       "    </tr>\n",
       "    <tr>\n",
       "      <th>2342</th>\n",
       "      <td>123182153663123456</td>\n",
       "      <td>193</td>\n",
       "      <td>1311</td>\n",
       "      <td>2011-10-09 23:44:48</td>\n",
       "      <td>That moment when Helena Bonham Carter is trend...</td>\n",
       "      <td>False</td>\n",
       "    </tr>\n",
       "    <tr>\n",
       "      <th>2485</th>\n",
       "      <td>114302574429077504</td>\n",
       "      <td>668</td>\n",
       "      <td>4207</td>\n",
       "      <td>2011-09-15 11:40:32</td>\n",
       "      <td>Vampires VS Zombies? I pick neither.What is th...</td>\n",
       "      <td>False</td>\n",
       "    </tr>\n",
       "    <tr>\n",
       "      <th>2520</th>\n",
       "      <td>111932844573593600</td>\n",
       "      <td>558</td>\n",
       "      <td>2557</td>\n",
       "      <td>2011-09-08 22:44:04</td>\n",
       "      <td>#TheLastTimeIChecked having sex with a vampire...</td>\n",
       "      <td>False</td>\n",
       "    </tr>\n",
       "    <tr>\n",
       "      <th>2731</th>\n",
       "      <td>97853846096838656</td>\n",
       "      <td>1512</td>\n",
       "      <td>6110</td>\n",
       "      <td>2011-08-01 02:19:09</td>\n",
       "      <td>I do not fear death. I fear coming back from t...</td>\n",
       "      <td>False</td>\n",
       "    </tr>\n",
       "    <tr>\n",
       "      <th>2802</th>\n",
       "      <td>92391844780060672</td>\n",
       "      <td>557</td>\n",
       "      <td>3272</td>\n",
       "      <td>2011-07-17 00:35:07</td>\n",
       "      <td>#youwereonmygoodside because if you were on my...</td>\n",
       "      <td>False</td>\n",
       "    </tr>\n",
       "    <tr>\n",
       "      <th>2950</th>\n",
       "      <td>81047386037825536</td>\n",
       "      <td>695</td>\n",
       "      <td>4297</td>\n",
       "      <td>2011-06-15 17:16:17</td>\n",
       "      <td>#funeralhomeslogans \"We're dead serious about ...</td>\n",
       "      <td>False</td>\n",
       "    </tr>\n",
       "    <tr>\n",
       "      <th>3000</th>\n",
       "      <td>77486937857994752</td>\n",
       "      <td>703</td>\n",
       "      <td>4562</td>\n",
       "      <td>2011-06-05 21:28:20</td>\n",
       "      <td>#thingsthatmakenosense The Breaking Dawn Trail...</td>\n",
       "      <td>False</td>\n",
       "    </tr>\n",
       "  </tbody>\n",
       "</table>\n",
       "</div>"
      ],
      "text/plain": [
       "                      id  favourites  retweets           created_at  \\\n",
       "1     901217559860703234        2556       934  2017-08-25 22:59:44   \n",
       "158   485447695797342208        2452      1860  2014-07-05 15:38:44   \n",
       "476   356617010102276096         949      1221  2013-07-15 03:31:35   \n",
       "549   331832894916026369         440       802  2013-05-07 18:08:21   \n",
       "576   325320048459784192         280       506  2013-04-19 18:48:38   \n",
       "630   318112066038812672        2675      5703  2013-03-30 21:26:41   \n",
       "706   303184749021757440        1577      3621  2013-02-17 16:50:51   \n",
       "721   300324033327661056        1592      3431  2013-02-09 19:23:23   \n",
       "762   290634984979574784        2880      6569  2013-01-14 01:42:34   \n",
       "997   254647981960212481        1326      4293  2012-10-06 18:23:04   \n",
       "1473  201347612161482752         529      1179  2012-05-12 16:26:26   \n",
       "1633  188777643741679616        1817      8036  2012-04-07 23:57:52   \n",
       "1713  182230301756489728        1516      7857  2012-03-20 22:21:04   \n",
       "1752  173926527266861056         134       546  2012-02-27 00:24:50   \n",
       "1846  160917485812584448         289      1693  2012-01-22 02:51:32   \n",
       "1851  160441582955405312         323      2357  2012-01-20 19:20:28   \n",
       "2063  142430282883145728         531      2588  2011-12-02 02:30:00   \n",
       "2107  139497416234778624         312      2002  2011-11-24 00:15:50   \n",
       "2172  133699908418019328         322       884  2011-11-08 00:18:36   \n",
       "2280  126995230770728960         423      3760  2011-10-20 12:16:37   \n",
       "2342  123182153663123456         193      1311  2011-10-09 23:44:48   \n",
       "2485  114302574429077504         668      4207  2011-09-15 11:40:32   \n",
       "2520  111932844573593600         558      2557  2011-09-08 22:44:04   \n",
       "2731   97853846096838656        1512      6110  2011-08-01 02:19:09   \n",
       "2802   92391844780060672         557      3272  2011-07-17 00:35:07   \n",
       "2950   81047386037825536         695      4297  2011-06-15 17:16:17   \n",
       "3000   77486937857994752         703      4562  2011-06-05 21:28:20   \n",
       "\n",
       "                                                   text  is_quoted  \n",
       "1     \"I rose up from the dead, I do it all the time...      False  \n",
       "158   You thought they were fireworks, America, but ...      False  \n",
       "476   'Harry Potter' is the #1 Worldwide Trending To...      False  \n",
       "549   If looks could kill then my body would be a de...      False  \n",
       "576   Perhaps news outlets/reporters/blogs should st...      False  \n",
       "630   'Happy Easter' is a TT. So when I rise from th...      False  \n",
       "706   Yo mum is so ugly that when a basilisk looked ...      False  \n",
       "721   #ThingsYouShouldntDo: Tell Harry Potter that y...      False  \n",
       "762   When you wish upon a star you are actually a f...      False  \n",
       "997   #HarryPotterPickupLines Did you survive the Av...      False  \n",
       "1473  \"Happy Mother's Day\" is trending. My mother is...      False  \n",
       "1633  Happy Easter is trending. So when I rise from ...      False  \n",
       "1713  #ReplacePotterQuoteWithBacon: \"Do not pity the...      False  \n",
       "1752  I am disappointed there is a \"dead body\" on th...      False  \n",
       "1846  First sources said Joe Paterno was dead. Now t...      False  \n",
       "1851  SOPA is dead. Technology rising above to beat ...      False  \n",
       "2063  #Confusingthingsthatgirlsdo: vampires. Um, the...      False  \n",
       "2107  Happy Thanksgiving is trending. When celebrati...      False  \n",
       "2172  \"Over my dead body\" is trending... http://t.co...      False  \n",
       "2280  #Gadhafi might be dead according to the US. He...      False  \n",
       "2342  That moment when Helena Bonham Carter is trend...      False  \n",
       "2485  Vampires VS Zombies? I pick neither.What is th...      False  \n",
       "2520  #TheLastTimeIChecked having sex with a vampire...      False  \n",
       "2731  I do not fear death. I fear coming back from t...      False  \n",
       "2802  #youwereonmygoodside because if you were on my...      False  \n",
       "2950  #funeralhomeslogans \"We're dead serious about ...      False  \n",
       "3000  #thingsthatmakenosense The Breaking Dawn Trail...      False  "
      ]
     },
     "execution_count": 9,
     "metadata": {},
     "output_type": "execute_result"
    }
   ],
   "source": [
    "matches = tweets.text.str.contains('dead')\n",
    "tweets[matches]"
   ]
  },
  {
   "cell_type": "markdown",
   "metadata": {},
   "source": [
    "*Tip*: The tweet text will be cutoff by default when print. You can change the width of columns to show the entire tweet with the following code:"
   ]
  },
  {
   "cell_type": "code",
   "execution_count": 10,
   "metadata": {},
   "outputs": [],
   "source": [
    "pd.set_option(\"display.max_colwidth\", 160)"
   ]
  },
  {
   "cell_type": "markdown",
   "metadata": {},
   "source": [
    "## Questions 3 (24pts)\n",
    "\n",
    "*Unless otherwise specified, return all columns when asked to return tweets; e.g. don't remove the id or retweets columns.*"
   ]
  },
  {
   "cell_type": "markdown",
   "metadata": {},
   "source": [
    "- Q3.1 How many tweets mention \"Harry Potter\"? You can get the number of rows by putting your resulting dataframe inside `len(df)`. (4 pts)"
   ]
  },
  {
   "cell_type": "code",
   "execution_count": null,
   "metadata": {},
   "outputs": [],
   "source": [
    "# Answer\n",
    "answer31_number = "
   ]
  },
  {
   "cell_type": "markdown",
   "metadata": {},
   "source": [
    "- Q3.2 Return the tweets that have a hashtag (assuming only word characters in hashtags). There should be 1432 rows. (6 pts)"
   ]
  },
  {
   "cell_type": "code",
   "execution_count": null,
   "metadata": {},
   "outputs": [],
   "source": [
    "# Answer\n",
    "answer32_df = "
   ]
  },
  {
   "cell_type": "markdown",
   "metadata": {},
   "source": [
    "- Q3.3 Return the tweets that have at least *two* hashtags (assuming only word characters in hashtags). There should be 190 rows. (8 pts)"
   ]
  },
  {
   "cell_type": "code",
   "execution_count": null,
   "metadata": {},
   "outputs": [],
   "source": [
    "# Answer\n",
    "answer33_df = "
   ]
  },
  {
   "cell_type": "markdown",
   "metadata": {},
   "source": [
    "- Q3.4 Return the tweets that mention a year in the current millenium (or something that looks like one). (6 pts)"
   ]
  },
  {
   "cell_type": "code",
   "execution_count": 107,
   "metadata": {},
   "outputs": [
    {
     "data": {
      "text/plain": [
       "(190, 6)"
      ]
     },
     "execution_count": 107,
     "metadata": {},
     "output_type": "execute_result"
    }
   ],
   "source": [
    "# Answer\n",
    "answer34_df = "
   ]
  },
  {
   "cell_type": "markdown",
   "metadata": {},
   "source": [
    "## Some more Pandas string methods\n",
    "\n",
    "Counting matches in a column:\n",
    "\n",
    "```\n",
    "df['columnName'].str.count(pat)\n",
    "```\n",
    "\n",
    "Replacing a pattern with a string:\n",
    "\n",
    "```\n",
    "df['columnName'].str.replace(pat, repl)\n",
    "```"
   ]
  },
  {
   "cell_type": "markdown",
   "metadata": {},
   "source": [
    "## Questions 4: Other string methods and non-regex Pandas practice (20 pts)"
   ]
  },
  {
   "cell_type": "markdown",
   "metadata": {},
   "source": [
    "- Q4.1 Return the 20 tweets with the most favourites. (5 pts)"
   ]
  },
  {
   "cell_type": "code",
   "execution_count": null,
   "metadata": {
    "scrolled": true
   },
   "outputs": [],
   "source": [
    "# Answer\n",
    "answer41_df = "
   ]
  },
  {
   "cell_type": "markdown",
   "metadata": {},
   "source": [
    "- Q4.2 How many total favourites do this account's first 100 tweets ever have? (5 pts)"
   ]
  },
  {
   "cell_type": "code",
   "execution_count": null,
   "metadata": {},
   "outputs": [],
   "source": [
    "# Answer\n",
    "answer42_number = "
   ]
  },
  {
   "cell_type": "markdown",
   "metadata": {},
   "source": [
    "- Q4.3 What is the id of the tweet matching the following criteria: has the lowest retweet-to-favourites ratio, among tweets *without hashtags* and *with more than 1000 favourites*. (10pts)"
   ]
  },
  {
   "cell_type": "code",
   "execution_count": null,
   "metadata": {},
   "outputs": [],
   "source": [
    "# Answer\n",
    "answer43_id = "
   ]
  }
 ],
 "metadata": {
  "kernelspec": {
   "display_name": "Python 3",
   "language": "python",
   "name": "python3"
  },
  "language_info": {
   "codemirror_mode": {
    "name": "ipython",
    "version": 3
   },
   "file_extension": ".py",
   "mimetype": "text/x-python",
   "name": "python",
   "nbconvert_exporter": "python",
   "pygments_lexer": "ipython3",
   "version": "3.6.7"
  }
 },
 "nbformat": 4,
 "nbformat_minor": 2
}
