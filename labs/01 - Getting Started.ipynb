{
  "nbformat": 4,
  "nbformat_minor": 0,
  "metadata": {
    "celltoolbar": "Slideshow",
    "kernelspec": {
      "display_name": "Python 3",
      "language": "python",
      "name": "python3"
    },
    "language_info": {
      "codemirror_mode": {
        "name": "ipython",
        "version": 3
      },
      "file_extension": ".py",
      "mimetype": "text/x-python",
      "name": "python",
      "nbconvert_exporter": "python",
      "pygments_lexer": "ipython3",
      "version": "3.6.8"
    },
    "colab": {
      "name": "01 - Getting Started.ipynb",
      "provenance": [],
      "include_colab_link": true
    }
  },
  "cells": [
    {
      "cell_type": "markdown",
      "metadata": {
        "id": "view-in-github",
        "colab_type": "text"
      },
      "source": [
        "<a href=\"https://colab.research.google.com/github/organisciak/Scripting-Course/blob/master/labs/01%20-%20Getting%20Started.ipynb\" target=\"_parent\"><img src=\"https://colab.research.google.com/assets/colab-badge.svg\" alt=\"Open In Colab\"/></a>"
      ]
    },
    {
      "cell_type": "markdown",
      "metadata": {
        "id": "Ls3oBoSylKJG",
        "colab_type": "text"
      },
      "source": [
        "# Week 1 Lab Task\n",
        "*This lab is ungraded and has no submission*\n",
        "\n",
        "This week is about getting started with powerful tools that will underlie many of the skills you learn in the course. \n",
        "\n",
        "Much of the effort today is in setting up your tools.\n",
        "\n",
        "In this course we'll be using the Python programming language, using a style of interaction called a *notebook*. That's what you're looking at now: a notebook hosted on a service called *Colaboratory*. This will be your window to most of our work in databases.\n",
        "\n",
        "Your _environment_ is similar to your local workspace. Look at your desk: how do you organize your pens, paper, mouse, monitor? Or maybe you have a barebones workspace, working at a coffee shop or kitchen table with only a cup of coffee. In the same way, you can have many different environments for how you work with Python: working on a command line, or running scripts. Colaboratory is an environment that gives you an interactive, browser-based version of Python. It allows you to play with code in a way that gives you immediate feedback, and allows you to break, tinker, and retry. \n",
        "\n",
        "Colaboratory, or 'Colab' for short, is Google's spinoff of a notebook tool called Jupyter. The main difference is that Jupyter is usually installed on your own computer, but Google has installed Colab on their servers and made it accessible to anybody with a Google account. Past versions of this class used Jupyter - so you may still references to it - and it is *very* common in all manner of information science, data science, and machine learning industries. Just know that Colab is a spin-off of that.\n",
        "\n",
        "When programming, you're usually not writing everything from scratch. Some code is needed by many other people, so most languages have a concept of a _library_: code written and distributed by other people that you can easily use in your own work.\n",
        "\n",
        "In this class, we work with a specific set of libraries for Python that people have created for working with data and dataset. In code, when you see `import X`, that is you loading a library - somebody elses code that make your life easier.\n",
        "\n",
        "So, let's take stock:\n",
        "\n",
        "- *Python* is a programming language, which can take code and run it.\n",
        "- *Colaboratory* or *Colab* is a tool (a cousin of *Jupyter*) for interacting with Python in the browser.\n",
        "- A *library* is somebody else's Python code that you can use. For example, we'll be using libraries for working with data and visualizing it."
      ]
    },
    {
      "cell_type": "markdown",
      "metadata": {
        "id": "sYLIPPT_lKJM",
        "colab_type": "text"
      },
      "source": [
        "### Today's Goals\n",
        "\n",
        "- Sign into Colaboratory (*In past years, you had to install Python on your computer - this is much easier!*)\n",
        "- Become familiar with notebooks.\n",
        "- Try some basic Python.\n",
        "- Practice tinkering!"
      ]
    },
    {
      "cell_type": "markdown",
      "metadata": {
        "id": "gx_BM85mlKJP",
        "colab_type": "text"
      },
      "source": [
        "### Keywords\n",
        "\n",
        "- Python\n",
        "- Colaboratory\n",
        "- Jupyter\n",
        "- data types\n",
        "  - string\n",
        "  - number\n",
        "  - list"
      ]
    },
    {
      "cell_type": "markdown",
      "metadata": {
        "id": "L6ctJ6LJlKJR",
        "colab_type": "text"
      },
      "source": [
        "## 1. Installing Jupyter Notebooks through Anaconda\n",
        "\n",
        "Install Jupyter Notebooks following the instructions in the *Art of Literary Text Analysis* by Stéfan Sinclair & Geoffrey Rockwell, following the [Getting Setup](https://github.com/sgsinclair/alta/blob/master/ipynb/GettingSetup.ipynb) and [Getting Started](https://github.com/sgsinclair/alta/blob/master/ipynb/GettingStarted.ipynb) (you can stop before the Printing Dynamic Content section).\n",
        "\n",
        "After you're done installation, start a new notebook and follow along with the tour at Help > User Interface Tour.\n",
        "\n",
        "_Questions_\n",
        "\n",
        "- 1) What are the two modes of a notebook?\n",
        "- 2) What do you press to leave edit mode while in a cell?\n",
        "- 3) What are the Keyboard Shortcuts for:\n",
        " - a) insert cell below\n",
        " - b) insert cell above\n",
        " - c) run selected cells"
      ]
    },
    {
      "cell_type": "markdown",
      "metadata": {
        "id": "Qly_zscIlKJS",
        "colab_type": "text"
      },
      "source": [
        "## 2. A Little bit of code\n",
        "\n",
        "Create a new cell in your notebook with the '+' button in the toolbar (or one of the keyboard shortcuts from the previous question). We're going to try two simple Python commands: setting a variable, and splitting it by whitespace. In the process, we'll encounter two types of data that Python can hold: a string, and a list.\n",
        "\n",
        "Add the following code to the cell and 'run' it. If it runs properly, it should look like below, with the 'In' and 'Out' information."
      ]
    },
    {
      "cell_type": "code",
      "metadata": {
        "id": "Idf13t0clKJV",
        "colab_type": "code",
        "colab": {},
        "outputId": "bba42797-2c6e-4d94-a4bd-b5fb5b818f2c"
      },
      "source": [
        "sentence = \"Hello world.\"\n",
        "sentence"
      ],
      "execution_count": 0,
      "outputs": [
        {
          "output_type": "execute_result",
          "data": {
            "text/plain": [
              "'Hello world.'"
            ]
          },
          "metadata": {
            "tags": []
          },
          "execution_count": 9
        }
      ]
    },
    {
      "cell_type": "markdown",
      "metadata": {
        "id": "EqkvHexGlKJc",
        "colab_type": "text"
      },
      "source": [
        "Here, we set a string to a variable, then we called that variable.\n",
        "\n",
        "_Questions_\n",
        "- 4) What output is there if you run the cell without the second line (which simply says `sentence`)?"
      ]
    },
    {
      "cell_type": "markdown",
      "metadata": {
        "id": "ySj9kT3ZlKJd",
        "colab_type": "text"
      },
      "source": [
        "A string is a type of data in Python. By setting it to the variable `sentence`, everywhere you use `sentence` is the exact same as simply writing `\"Hello world.\"` Consider the following examples, or even try them out, which show that the way of joining two strings works the same with a variable or directly with a string:"
      ]
    },
    {
      "cell_type": "code",
      "metadata": {
        "id": "3RKyaDXjlKJf",
        "colab_type": "code",
        "colab": {},
        "outputId": "ce5ff926-cd5d-4768-9838-4a1e655b2bdb"
      },
      "source": [
        "\"Hello world.\" + \" Hello moon.\""
      ],
      "execution_count": 0,
      "outputs": [
        {
          "output_type": "execute_result",
          "data": {
            "text/plain": [
              "'Hello world. Hello moon.'"
            ]
          },
          "metadata": {
            "tags": []
          },
          "execution_count": 12
        }
      ]
    },
    {
      "cell_type": "code",
      "metadata": {
        "id": "-jJeMO5WlKJm",
        "colab_type": "code",
        "colab": {},
        "outputId": "d4f8e0f6-a9bb-4e36-f945-7ed1c968decd"
      },
      "source": [
        "sentence + \" Hello moon.\""
      ],
      "execution_count": 0,
      "outputs": [
        {
          "output_type": "execute_result",
          "data": {
            "text/plain": [
              "'Hello world. Hello moon.'"
            ]
          },
          "metadata": {
            "tags": []
          },
          "execution_count": 14
        }
      ]
    },
    {
      "cell_type": "code",
      "metadata": {
        "id": "lFlSGodSlKJr",
        "colab_type": "code",
        "colab": {},
        "outputId": "ee9ab5ad-fcf0-4471-82eb-88e182633782"
      },
      "source": [
        "sentence + sentence"
      ],
      "execution_count": 0,
      "outputs": [
        {
          "output_type": "execute_result",
          "data": {
            "text/plain": [
              "'Hello world.Hello world.'"
            ]
          },
          "metadata": {
            "tags": []
          },
          "execution_count": 15
        }
      ]
    },
    {
      "cell_type": "markdown",
      "metadata": {
        "id": "DORQL0WblKJ0",
        "colab_type": "text"
      },
      "source": [
        "We can even see the datatype of a variable with `type()`:"
      ]
    },
    {
      "cell_type": "code",
      "metadata": {
        "scrolled": true,
        "id": "H9kOkrvnlKJ1",
        "colab_type": "code",
        "colab": {},
        "outputId": "9c81b9d5-3692-4f42-879d-f7d26e748de8"
      },
      "source": [
        "type(sentence)"
      ],
      "execution_count": 0,
      "outputs": [
        {
          "output_type": "execute_result",
          "data": {
            "text/plain": [
              "str"
            ]
          },
          "metadata": {
            "tags": []
          },
          "execution_count": 80
        }
      ]
    },
    {
      "cell_type": "markdown",
      "metadata": {
        "id": "0iHCGxxSlKJ5",
        "colab_type": "text"
      },
      "source": [
        "If you have a really long string that needs to go across lines, you can use `\\` before the line break to tell Python that _this line of code is not done yet_. Set this famously long sentence from _Paul Clifton_ to the variable `paragraph` in your notebook:"
      ]
    },
    {
      "cell_type": "code",
      "metadata": {
        "id": "hjkrJiaKlKJ6",
        "colab_type": "code",
        "colab": {},
        "outputId": "538ce0c3-1351-4b04-9399-b06c7a6173d6"
      },
      "source": [
        "paragraph = \"It was a dark and stormy night; the rain fell in torrents — except at occasional intervals, when it was \" + \\\n",
        "    \"checked by a violent gust of wind which swept up the streets (for it is in London that our scene lies), rattling \" + \\\n",
        "    \"along the housetops, and fiercely agitating the scanty flame of the lamps that struggled against the darkness.\"\n",
        "paragraph"
      ],
      "execution_count": 0,
      "outputs": [
        {
          "output_type": "execute_result",
          "data": {
            "text/plain": [
              "'It was a dark and stormy night; the rain fell in torrents — except at occasional intervals, when it was checked by a violent gust of wind which swept up the streets (for it is in London that our scene lies), rattling along the housetops, and fiercely agitating the scanty flame of the lamps that struggled against the darkness.'"
            ]
          },
          "metadata": {
            "tags": []
          },
          "execution_count": 30
        }
      ]
    },
    {
      "cell_type": "markdown",
      "metadata": {
        "id": "MKb9-8bulKJ-",
        "colab_type": "text"
      },
      "source": [
        "_Questions_ \n",
        "- 5) For the code block above, \n",
        "  - a) Are the indents necessary for the code to run?\n",
        "  - b) Are the pluses (+) necessary for the code to run?\n",
        "  - c) Are the backslashes (\\\\) necessary for the code to run?\n",
        "  \n",
        "_tinker with the code and re-run as necessary_"
      ]
    },
    {
      "cell_type": "markdown",
      "metadata": {
        "id": "WV1NLNFZlKJ_",
        "colab_type": "text"
      },
      "source": [
        "Another important datatype in Python is the `list`. This is a way to hold multiple things together: strings, numbers, etc. For example:"
      ]
    },
    {
      "cell_type": "code",
      "metadata": {
        "id": "ihXECERClKKB",
        "colab_type": "code",
        "colab": {},
        "outputId": "8f3aa030-7130-4ce8-f74f-3051ddbcacad"
      },
      "source": [
        "list_of_strings = [\"Never\", \"gonna\", \"give\", \"you\", \"up\"]\n",
        "list_of_strings"
      ],
      "execution_count": 0,
      "outputs": [
        {
          "output_type": "execute_result",
          "data": {
            "text/plain": [
              "['Never', 'gonna', 'give', 'you', 'up']"
            ]
          },
          "metadata": {
            "tags": []
          },
          "execution_count": 2
        }
      ]
    },
    {
      "cell_type": "code",
      "metadata": {
        "scrolled": true,
        "id": "vHwFupwXlKKI",
        "colab_type": "code",
        "colab": {},
        "outputId": "d6c8cb62-903a-4ba8-b836-29c066759d6a"
      },
      "source": [
        "list_of_numbers = [ 4, 8, 15, 16, 23, 42]\n",
        "list_of_numbers"
      ],
      "execution_count": 0,
      "outputs": [
        {
          "output_type": "execute_result",
          "data": {
            "text/plain": [
              "[4, 8, 15, 16, 23, 42]"
            ]
          },
          "metadata": {
            "tags": []
          },
          "execution_count": 31
        }
      ]
    },
    {
      "cell_type": "markdown",
      "metadata": {
        "id": "fLyDipwSlKKN",
        "colab_type": "text"
      },
      "source": [
        "Individual objects from a list can be retrieved using a square bracket referencing the place in the list (starting with 0):"
      ]
    },
    {
      "cell_type": "code",
      "metadata": {
        "id": "Xk6UQ5EXlKKO",
        "colab_type": "code",
        "colab": {},
        "outputId": "83706f6a-ddfc-4ac9-959f-2f17df99fce1"
      },
      "source": [
        "list_of_strings[0]"
      ],
      "execution_count": 0,
      "outputs": [
        {
          "output_type": "execute_result",
          "data": {
            "text/plain": [
              "'Hello'"
            ]
          },
          "metadata": {
            "tags": []
          },
          "execution_count": 36
        }
      ]
    },
    {
      "cell_type": "code",
      "metadata": {
        "id": "GreKwRCKlKKS",
        "colab_type": "code",
        "colab": {},
        "outputId": "507af9c6-624d-465f-8f6c-6369adc048c4"
      },
      "source": [
        "list_of_numbers[1]"
      ],
      "execution_count": 0,
      "outputs": [
        {
          "output_type": "execute_result",
          "data": {
            "text/plain": [
              "8"
            ]
          },
          "metadata": {
            "tags": []
          },
          "execution_count": 40
        }
      ]
    },
    {
      "cell_type": "markdown",
      "metadata": {
        "id": "rsZBZNgclKKa",
        "colab_type": "text"
      },
      "source": [
        "You can select a list range by specify two numbers in the square brackets with a colon in-between:"
      ]
    },
    {
      "cell_type": "code",
      "metadata": {
        "id": "qzR9yO23lKKb",
        "colab_type": "code",
        "colab": {},
        "outputId": "339db157-65d9-433b-cc4f-3f3e37e39432"
      },
      "source": [
        "list_of_strings[1:4]"
      ],
      "execution_count": 0,
      "outputs": [
        {
          "output_type": "execute_result",
          "data": {
            "text/plain": [
              "['gonna', 'give', 'you']"
            ]
          },
          "metadata": {
            "tags": []
          },
          "execution_count": 63
        }
      ]
    },
    {
      "cell_type": "markdown",
      "metadata": {
        "id": "GnxoggSvlKKh",
        "colab_type": "text"
      },
      "source": [
        "Using the colon without a number means _from the very start_ or _until the very end_:"
      ]
    },
    {
      "cell_type": "code",
      "metadata": {
        "id": "FfFoGBqclKKq",
        "colab_type": "code",
        "colab": {},
        "outputId": "6bfe801b-96bc-49be-87a7-06d1f3576f9b"
      },
      "source": [
        "list_of_strings[:4]"
      ],
      "execution_count": 0,
      "outputs": [
        {
          "output_type": "execute_result",
          "data": {
            "text/plain": [
              "['Never', 'gonna', 'give', 'you']"
            ]
          },
          "metadata": {
            "tags": []
          },
          "execution_count": 64
        }
      ]
    },
    {
      "cell_type": "code",
      "metadata": {
        "id": "dGpp5mqHlKKt",
        "colab_type": "code",
        "colab": {},
        "outputId": "03e12410-8ec2-4105-fd3e-3e6c836d1f37"
      },
      "source": [
        "list_of_strings[1:]"
      ],
      "execution_count": 0,
      "outputs": [
        {
          "output_type": "execute_result",
          "data": {
            "text/plain": [
              "['gonna', 'give', 'you', 'up']"
            ]
          },
          "metadata": {
            "tags": []
          },
          "execution_count": 65
        }
      ]
    },
    {
      "cell_type": "markdown",
      "metadata": {
        "id": "4rAVnNWRlKKw",
        "colab_type": "text"
      },
      "source": [
        "You can add to a list with `list.append()`:"
      ]
    },
    {
      "cell_type": "code",
      "metadata": {
        "id": "tGg0GUg9lKKx",
        "colab_type": "code",
        "colab": {},
        "outputId": "654805b1-2796-4f51-ad63-d261a655ace3"
      },
      "source": [
        "list_of_strings.append(\"Word\")\n",
        "list_of_strings"
      ],
      "execution_count": 0,
      "outputs": [
        {
          "output_type": "execute_result",
          "data": {
            "text/plain": [
              "['Hello', 'world', 'Word', 'Word']"
            ]
          },
          "metadata": {
            "tags": []
          },
          "execution_count": 42
        }
      ]
    },
    {
      "cell_type": "markdown",
      "metadata": {
        "id": "MXImtzV1lKK1",
        "colab_type": "text"
      },
      "source": [
        "_Questions_\n",
        "\n",
        "- 6) Can a list have a mix of numbers and strings?\n",
        "- 7) We joined strings with '+'. What happens if you try to use '+' on two lists?"
      ]
    }
  ]
}