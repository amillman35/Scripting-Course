{
 "cells": [
  {
   "cell_type": "markdown",
   "metadata": {
    "slideshow": {
     "slide_type": "slide"
    }
   },
   "source": [
    "# Week 1 Lab Task\n",
    "*This lab is ungraded and has no submission*\n",
    "\n",
    "This week is about getting started with powerful tools that will underlie many of the skills you learn in the course. \n",
    "\n",
    "Much of the effort today is in setting up your computer.\n",
    "\n",
    "In this course we'll be using the Python programming language, using an innovative environment called Jupyter Notebooks. This will be your window to most of our work in databases.\n",
    "\n",
    "Your _environment_ is similar to your local workspace. Look at your desk: how do you organize your pens, paper, mouse, monitor? Or maybe you have a barebones workspace, working at a coffee shop or kitchen table with only a cup of coffee. In the same way, you can have many different environments for how you work with Python: working on a command line, or running scripts. Jupyter Notebooks is an environment that gives you an interactive, browser based version of Python. It allows you to play with code in a way that gives you immediate feedback, and allows you to break, tinker, and retry.\n",
    "\n",
    "Jupyter Notebooks will be installed through Anaconda.\n",
    "\n",
    "When programming, you're usually not writing everything from scratch. Some code is needed by many other people, so most languages have a concept of a _library_: code written and distributed by other people that you can easily use in your own work. \n",
    "\n",
    "Anaconda is a scientific distribution of Python, which installs Python on your system alongside a great deal of libraries that scientists use.\n",
    "\n",
    "To be clear: it is possible to install Python in other ways and individually install the libraries, but Anaconda puts it all into a tidy package. Since information scientists want complicated mathematical algorithms, installing some scientific libraries can be very difficult: Anaconda makes it easy!"
   ]
  },
  {
   "cell_type": "markdown",
   "metadata": {
    "slideshow": {
     "slide_type": "subslide"
    }
   },
   "source": [
    "### Today's Goals\n",
    "\n",
    "- Install Python, using Anaconda\n",
    "   - debug?\n",
    "- Become familiar with Jupyter\n",
    "- Practice tinkering!"
   ]
  },
  {
   "cell_type": "markdown",
   "metadata": {
    "slideshow": {
     "slide_type": "fragment"
    }
   },
   "source": [
    "### Keywords\n",
    "\n",
    "- Anaconda\n",
    "- Python\n",
    "- Jupyter\n",
    "- data types\n",
    "  - string\n",
    "  - number\n",
    "  - list"
   ]
  },
  {
   "cell_type": "markdown",
   "metadata": {
    "slideshow": {
     "slide_type": "slide"
    }
   },
   "source": [
    "## 1. Installing Jupyter Notebooks through Anaconda\n",
    "\n",
    "Install Jupyter Notebooks following the instructions in the *Art of Literary Text Analysis* by Stéfan Sinclair & Geoffrey Rockwell, following the [Getting Setup](https://github.com/sgsinclair/alta/blob/master/ipynb/GettingSetup.ipynb) and [Getting Started](https://github.com/sgsinclair/alta/blob/master/ipynb/GettingStarted.ipynb) (you can stop before the Printing Dynamic Content section).\n",
    "\n",
    "After you're done installation, start a new notebook and follow along with the tour at Help > User Interface Tour.\n",
    "\n",
    "_Questions_\n",
    "\n",
    "- 1) What are the two modes of a notebook?\n",
    "- 2) What do you press to leave edit mode while in a cell?\n",
    "- 3) What are the Keyboard Shortcuts for:\n",
    " - a) insert cell below\n",
    " - b) insert cell above\n",
    " - c) run selected cells"
   ]
  },
  {
   "cell_type": "markdown",
   "metadata": {},
   "source": [
    "## 2. A Little bit of code\n",
    "\n",
    "Create a new cell in your notebook with the '+' button in the toolbar (or one of the keyboard shortcuts from the previous question). We're going to try two simple Python commands: setting a variable, and splitting it by whitespace. In the process, we'll encounter two types of data that Python can hold: a string, and a list.\n",
    "\n",
    "Add the following code to the cell and 'run' it. If it runs properly, it should look like below, with the 'In' and 'Out' information."
   ]
  },
  {
   "cell_type": "code",
   "execution_count": null,
   "metadata": {},
   "outputs": [
    {
     "data": {
      "text/plain": [
       "'Hello world.'"
      ]
     },
     "execution_count": 9,
     "metadata": {},
     "output_type": "execute_result"
    }
   ],
   "source": [
    "sentence = \"Hello world.\"\n",
    "sentence"
   ]
  },
  {
   "cell_type": "markdown",
   "metadata": {},
   "source": [
    "Here, we set a string to a variable, then we called that variable.\n",
    "\n",
    "_Questions_\n",
    "- 4) What output is there if you run the cell without the second line (which simply says `sentence`)?"
   ]
  },
  {
   "cell_type": "markdown",
   "metadata": {},
   "source": [
    "A string is a type of data in Python. By setting it to the variable `sentence`, everywhere you use `sentence` is the exact same as simply writing `\"Hello world.\"` Consider the following examples, or even try them out, which show that the way of joining two strings works the same with a variable or directly with a string:"
   ]
  },
  {
   "cell_type": "code",
   "execution_count": null,
   "metadata": {},
   "outputs": [
    {
     "data": {
      "text/plain": [
       "'Hello world. Hello moon.'"
      ]
     },
     "execution_count": 12,
     "metadata": {},
     "output_type": "execute_result"
    }
   ],
   "source": [
    "\"Hello world.\" + \" Hello moon.\""
   ]
  },
  {
   "cell_type": "code",
   "execution_count": null,
   "metadata": {},
   "outputs": [
    {
     "data": {
      "text/plain": [
       "'Hello world. Hello moon.'"
      ]
     },
     "execution_count": 14,
     "metadata": {},
     "output_type": "execute_result"
    }
   ],
   "source": [
    "sentence + \" Hello moon.\""
   ]
  },
  {
   "cell_type": "code",
   "execution_count": null,
   "metadata": {},
   "outputs": [
    {
     "data": {
      "text/plain": [
       "'Hello world.Hello world.'"
      ]
     },
     "execution_count": 15,
     "metadata": {},
     "output_type": "execute_result"
    }
   ],
   "source": [
    "sentence + sentence"
   ]
  },
  {
   "cell_type": "markdown",
   "metadata": {},
   "source": [
    "We can even see the datatype of a variable with `type()`:"
   ]
  },
  {
   "cell_type": "code",
   "execution_count": null,
   "metadata": {
    "scrolled": true
   },
   "outputs": [
    {
     "data": {
      "text/plain": [
       "str"
      ]
     },
     "execution_count": 80,
     "metadata": {},
     "output_type": "execute_result"
    }
   ],
   "source": [
    "type(sentence)"
   ]
  },
  {
   "cell_type": "markdown",
   "metadata": {},
   "source": [
    "If you have a really long string that needs to go across lines, you can use `\\` before the line break to tell Python that _this line of code is not done yet_. Set this famously long sentence from _Paul Clifton_ to the variable `paragraph` in your notebook:"
   ]
  },
  {
   "cell_type": "code",
   "execution_count": null,
   "metadata": {},
   "outputs": [
    {
     "data": {
      "text/plain": [
       "'It was a dark and stormy night; the rain fell in torrents — except at occasional intervals, when it was checked by a violent gust of wind which swept up the streets (for it is in London that our scene lies), rattling along the housetops, and fiercely agitating the scanty flame of the lamps that struggled against the darkness.'"
      ]
     },
     "execution_count": 30,
     "metadata": {},
     "output_type": "execute_result"
    }
   ],
   "source": [
    "paragraph = \"It was a dark and stormy night; the rain fell in torrents — except at occasional intervals, when it was \" + \\\n",
    "    \"checked by a violent gust of wind which swept up the streets (for it is in London that our scene lies), rattling \" + \\\n",
    "    \"along the housetops, and fiercely agitating the scanty flame of the lamps that struggled against the darkness.\"\n",
    "paragraph"
   ]
  },
  {
   "cell_type": "markdown",
   "metadata": {},
   "source": [
    "_Questions_ \n",
    "- 5) For the code block above, \n",
    "  - a) Are the indents necessary for the code to run?\n",
    "  - b) Are the pluses (+) necessary for the code to run?\n",
    "  - c) Are the backslashes (\\\\) necessary for the code to run?\n",
    "  \n",
    "_tinker with the code and re-run as necessary_"
   ]
  },
  {
   "cell_type": "markdown",
   "metadata": {},
   "source": [
    "Another important datatype in Python is the `list`. This is a way to hold multiple things together: strings, numbers, etc. For example:"
   ]
  },
  {
   "cell_type": "code",
   "execution_count": null,
   "metadata": {},
   "outputs": [
    {
     "data": {
      "text/plain": [
       "['Never', 'gonna', 'give', 'you', 'up']"
      ]
     },
     "execution_count": 57,
     "metadata": {},
     "output_type": "execute_result"
    }
   ],
   "source": [
    "list_of_strings = [\"Never\", \"gonna\", \"give\", \"you\", \"up\"]\n",
    "list_of_strings"
   ]
  },
  {
   "cell_type": "code",
   "execution_count": null,
   "metadata": {},
   "outputs": [
    {
     "data": {
      "text/plain": [
       "[4, 8, 15, 16, 23, 42]"
      ]
     },
     "execution_count": 38,
     "metadata": {},
     "output_type": "execute_result"
    }
   ],
   "source": [
    "list_of_numbers = [ 4, 8, 15, 16, 23, 42]\n",
    "list_of_numbers"
   ]
  },
  {
   "cell_type": "markdown",
   "metadata": {},
   "source": [
    "Individual objects from a list can be retrieved using a square bracket referencing the place in the list (starting with 0):"
   ]
  },
  {
   "cell_type": "code",
   "execution_count": null,
   "metadata": {},
   "outputs": [
    {
     "data": {
      "text/plain": [
       "'Hello'"
      ]
     },
     "execution_count": 36,
     "metadata": {},
     "output_type": "execute_result"
    }
   ],
   "source": [
    "list_of_strings[0]"
   ]
  },
  {
   "cell_type": "code",
   "execution_count": null,
   "metadata": {},
   "outputs": [
    {
     "data": {
      "text/plain": [
       "8"
      ]
     },
     "execution_count": 40,
     "metadata": {},
     "output_type": "execute_result"
    }
   ],
   "source": [
    "list_of_numbers[1]"
   ]
  },
  {
   "cell_type": "markdown",
   "metadata": {},
   "source": [
    "You can select a list range by specify two numbers in the square brackets with a colon in-between:"
   ]
  },
  {
   "cell_type": "code",
   "execution_count": null,
   "metadata": {},
   "outputs": [
    {
     "data": {
      "text/plain": [
       "['gonna', 'give', 'you']"
      ]
     },
     "execution_count": 63,
     "metadata": {},
     "output_type": "execute_result"
    }
   ],
   "source": [
    "list_of_strings[1:4]"
   ]
  },
  {
   "cell_type": "markdown",
   "metadata": {},
   "source": [
    "Using the colon without a number means _from the very start_ or _until the very end_:"
   ]
  },
  {
   "cell_type": "code",
   "execution_count": null,
   "metadata": {},
   "outputs": [
    {
     "data": {
      "text/plain": [
       "['Never', 'gonna', 'give', 'you']"
      ]
     },
     "execution_count": 64,
     "metadata": {},
     "output_type": "execute_result"
    }
   ],
   "source": [
    "list_of_strings[:4]"
   ]
  },
  {
   "cell_type": "code",
   "execution_count": null,
   "metadata": {},
   "outputs": [
    {
     "data": {
      "text/plain": [
       "['gonna', 'give', 'you', 'up']"
      ]
     },
     "execution_count": 65,
     "metadata": {},
     "output_type": "execute_result"
    }
   ],
   "source": [
    "list_of_strings[1:]"
   ]
  },
  {
   "cell_type": "markdown",
   "metadata": {},
   "source": [
    "You can add to a list with `list.append()`:"
   ]
  },
  {
   "cell_type": "code",
   "execution_count": null,
   "metadata": {},
   "outputs": [
    {
     "data": {
      "text/plain": [
       "['Hello', 'world', 'Word', 'Word']"
      ]
     },
     "execution_count": 42,
     "metadata": {},
     "output_type": "execute_result"
    }
   ],
   "source": [
    "list_of_strings.append(\"Word\")\n",
    "list_of_strings"
   ]
  },
  {
   "cell_type": "markdown",
   "metadata": {},
   "source": [
    "_Questions_\n",
    "\n",
    "- 6) Can a list have a mix of numbers and strings?\n",
    "- 7) We joined strings with '+'. What happens if you try to use '+' on two lists?"
   ]
  }
 ],
 "metadata": {
  "celltoolbar": "Slideshow",
  "kernelspec": {
   "display_name": "Python 3",
   "language": "python",
   "name": "python3"
  },
  "language_info": {
   "codemirror_mode": {
    "name": "ipython",
    "version": 3
   },
   "file_extension": ".py",
   "mimetype": "text/x-python",
   "name": "python",
   "nbconvert_exporter": "python",
   "pygments_lexer": "ipython3",
   "version": "3.6.1"
  }
 },
 "nbformat": 4,
 "nbformat_minor": 1
}
