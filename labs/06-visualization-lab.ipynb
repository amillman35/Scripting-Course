{
  "nbformat": 4,
  "nbformat_minor": 0,
  "metadata": {
    "kernelspec": {
      "display_name": "Python 3",
      "language": "python",
      "name": "python3"
    },
    "language_info": {
      "codemirror_mode": {
        "name": "ipython",
        "version": 3
      },
      "file_extension": ".py",
      "mimetype": "text/x-python",
      "name": "python",
      "nbconvert_exporter": "python",
      "pygments_lexer": "ipython3",
      "version": "3.6.8"
    },
    "colab": {
      "name": "06-visualization-lab.ipynb",
      "provenance": [],
      "collapsed_sections": [],
      "include_colab_link": true
    }
  },
  "cells": [
    {
      "cell_type": "markdown",
      "metadata": {
        "id": "view-in-github",
        "colab_type": "text"
      },
      "source": [
        "<a href=\"https://colab.research.google.com/github/organisciak/Scripting-Course/blob/master/labs/06-visualization-lab.ipynb\" target=\"_parent\"><img src=\"https://colab.research.google.com/assets/colab-badge.svg\" alt=\"Open In Colab\"/></a>"
      ]
    },
    {
      "cell_type": "markdown",
      "metadata": {
        "id": "Kbe6XUYbJjhi",
        "colab_type": "text"
      },
      "source": [
        "# Lab 6 - Part 1\n",
        "\n",
        "~This week's lab will be submitted in two weeks, combined with next week's lab.~ *(Part 2 will be ungraded in 2020, though you still have two weeks to submit Part 1)*\n",
        "\n",
        "*Reminder - save your work. Go to File > Save a Copy in Drive to ensure that you have your work saved.*\n",
        "\n",
        "As we move toward your final projects, we're also practicing our 'figure out new stuff' skills. Remember the high level tips: look at documentation in Colab, try auto-fill to see what methods exist, search Google, search Stack Overflow, and read the documentation for the library (i.e. at http://pandas.pydata.org/)."
      ]
    },
    {
      "cell_type": "code",
      "metadata": {
        "id": "THufcje9Jjhk",
        "colab_type": "code",
        "colab": {}
      },
      "source": [
        "import pandas as pd"
      ],
      "execution_count": 0,
      "outputs": []
    },
    {
      "cell_type": "markdown",
      "metadata": {
        "id": "YqjBKeuEJjho",
        "colab_type": "text"
      },
      "source": [
        "## Dataset: Life Expectancy By Year, Race, Gender\n",
        "\n",
        "Load this CDC dataset, _Death rates and life expectancy at birth_. Details about the dataset are at [Data.gov](https://catalog.data.gov/dataset/age-adjusted-death-rates-and-life-expectancy-at-birth-all-races-both-sexes-united-sta-1900)."
      ]
    },
    {
      "cell_type": "code",
      "metadata": {
        "scrolled": true,
        "id": "0-SuV88DJjho",
        "colab_type": "code",
        "outputId": "b56bd566-1e09-446d-b791-738eaf93c38e",
        "colab": {
          "base_uri": "https://localhost:8080/",
          "height": 354
        }
      },
      "source": [
        "data = pd.read_csv('https://data.cdc.gov/api/views/w9j2-ggv5/rows.csv?accessType=DOWNLOAD')\n",
        "# Rename columns\n",
        "data = data.rename(columns={\"Average Life Expectancy (Years)\": \"LifeExp\", \"Age-adjusted Death Rate\": \"DeathRate\"})\n",
        "# Select up to 2017\n",
        "data = data[data.Year <= 2017]\n",
        "data.sample(10)"
      ],
      "execution_count": 27,
      "outputs": [
        {
          "output_type": "execute_result",
          "data": {
            "text/html": [
              "<div>\n",
              "<style scoped>\n",
              "    .dataframe tbody tr th:only-of-type {\n",
              "        vertical-align: middle;\n",
              "    }\n",
              "\n",
              "    .dataframe tbody tr th {\n",
              "        vertical-align: top;\n",
              "    }\n",
              "\n",
              "    .dataframe thead th {\n",
              "        text-align: right;\n",
              "    }\n",
              "</style>\n",
              "<table border=\"1\" class=\"dataframe\">\n",
              "  <thead>\n",
              "    <tr style=\"text-align: right;\">\n",
              "      <th></th>\n",
              "      <th>Year</th>\n",
              "      <th>Race</th>\n",
              "      <th>Sex</th>\n",
              "      <th>LifeExp</th>\n",
              "      <th>DeathRate</th>\n",
              "    </tr>\n",
              "  </thead>\n",
              "  <tbody>\n",
              "    <tr>\n",
              "      <th>739</th>\n",
              "      <td>1931</td>\n",
              "      <td>White</td>\n",
              "      <td>Both Sexes</td>\n",
              "      <td>62.6</td>\n",
              "      <td>1832.5</td>\n",
              "    </tr>\n",
              "    <tr>\n",
              "      <th>143</th>\n",
              "      <td>1925</td>\n",
              "      <td>All Races</td>\n",
              "      <td>Female</td>\n",
              "      <td>60.6</td>\n",
              "      <td>1957.1</td>\n",
              "    </tr>\n",
              "    <tr>\n",
              "      <th>674</th>\n",
              "      <td>1984</td>\n",
              "      <td>Black</td>\n",
              "      <td>Male</td>\n",
              "      <td>65.3</td>\n",
              "      <td>1597.1</td>\n",
              "    </tr>\n",
              "    <tr>\n",
              "      <th>923</th>\n",
              "      <td>1997</td>\n",
              "      <td>White</td>\n",
              "      <td>Female</td>\n",
              "      <td>79.9</td>\n",
              "      <td>707.5</td>\n",
              "    </tr>\n",
              "    <tr>\n",
              "      <th>518</th>\n",
              "      <td>1946</td>\n",
              "      <td>Black</td>\n",
              "      <td>Female</td>\n",
              "      <td>61.0</td>\n",
              "      <td>1556.8</td>\n",
              "    </tr>\n",
              "    <tr>\n",
              "      <th>961</th>\n",
              "      <td>1917</td>\n",
              "      <td>White</td>\n",
              "      <td>Male</td>\n",
              "      <td>49.3</td>\n",
              "      <td>2375.9</td>\n",
              "    </tr>\n",
              "    <tr>\n",
              "      <th>333</th>\n",
              "      <td>1997</td>\n",
              "      <td>All Races</td>\n",
              "      <td>Male</td>\n",
              "      <td>73.6</td>\n",
              "      <td>1087.7</td>\n",
              "    </tr>\n",
              "    <tr>\n",
              "      <th>346</th>\n",
              "      <td>2010</td>\n",
              "      <td>All Races</td>\n",
              "      <td>Male</td>\n",
              "      <td>76.2</td>\n",
              "      <td>887.1</td>\n",
              "    </tr>\n",
              "    <tr>\n",
              "      <th>184</th>\n",
              "      <td>1966</td>\n",
              "      <td>All Races</td>\n",
              "      <td>Female</td>\n",
              "      <td>73.9</td>\n",
              "      <td>1055.3</td>\n",
              "    </tr>\n",
              "    <tr>\n",
              "      <th>16</th>\n",
              "      <td>1916</td>\n",
              "      <td>All Races</td>\n",
              "      <td>Both Sexes</td>\n",
              "      <td>51.7</td>\n",
              "      <td>2266.6</td>\n",
              "    </tr>\n",
              "  </tbody>\n",
              "</table>\n",
              "</div>"
            ],
            "text/plain": [
              "     Year       Race         Sex  LifeExp  DeathRate\n",
              "739  1931      White  Both Sexes     62.6     1832.5\n",
              "143  1925  All Races      Female     60.6     1957.1\n",
              "674  1984      Black        Male     65.3     1597.1\n",
              "923  1997      White      Female     79.9      707.5\n",
              "518  1946      Black      Female     61.0     1556.8\n",
              "961  1917      White        Male     49.3     2375.9\n",
              "333  1997  All Races        Male     73.6     1087.7\n",
              "346  2010  All Races        Male     76.2      887.1\n",
              "184  1966  All Races      Female     73.9     1055.3\n",
              "16   1916  All Races  Both Sexes     51.7     2266.6"
            ]
          },
          "metadata": {
            "tags": []
          },
          "execution_count": 27
        }
      ]
    },
    {
      "cell_type": "markdown",
      "metadata": {
        "id": "SmwRh6ciKhsp",
        "colab_type": "text"
      },
      "source": [
        "**Questions**\n",
        "\n",
        "![Life Expectancy](https://github.com/organisciak/Scripting-Course/blob/master/images/lifeexpectancy.png?raw=1)\n",
        "\n",
        "Q1) Which Race+Gender is represented in the above plot (*3pts*):\n",
        "  - Black / Male\n",
        "  - White / Both Sexes\n",
        "  - White / Female\n",
        "  - Black / Both Sexes\n",
        "\n",
        "(Clarification: There are two charts that look very similar, but only one of them is an answer option!)"
      ]
    },
    {
      "cell_type": "code",
      "metadata": {
        "id": "unCOCHwvQCdy",
        "colab_type": "code",
        "cellView": "form",
        "colab": {}
      },
      "source": [
        "q1_answer = \"\" #@param [\"\", \"a) Black/Male\", \"b) White/Both Sexes\", \"c) White/Female\", \"d) Black/Both Sexes\"]"
      ],
      "execution_count": 0,
      "outputs": []
    },
    {
      "cell_type": "markdown",
      "metadata": {
        "id": "m1LcIAMkL1GL",
        "colab_type": "text"
      },
      "source": [
        "Q2) Write code to recreate the above plot, but giving the plot a sensible title, like below. This will require a skill not mentioned in class.  (*5pts*)"
      ]
    },
    {
      "cell_type": "code",
      "metadata": {
        "colab_type": "code",
        "id": "BOa7SLx3eJWe",
        "colab": {}
      },
      "source": [
        "# Answer-Q2\n"
      ],
      "execution_count": 0,
      "outputs": []
    },
    {
      "cell_type": "markdown",
      "metadata": {
        "id": "z8_HrqGQMJkL",
        "colab_type": "text"
      },
      "source": [
        "\n",
        "\n",
        "![](https://github.com/organisciak/Scripting-Course/blob/master/images/lifeexp2.png?raw=1)\n",
        "\n",
        "Q3) Modify the above code to add a y-axis label, *Life Expectancy (Years)*. You can't change the axis labels within `plot()`. However, you can set the output of a `plot()` method to a variable, and that variable will have a method to *set* the *y-axis*.  (*6pts*)\n"
      ]
    },
    {
      "cell_type": "code",
      "metadata": {
        "colab_type": "code",
        "id": "n7wSz8ajNTMt",
        "colab": {}
      },
      "source": [
        "# Answer-Q3\n"
      ],
      "execution_count": 0,
      "outputs": []
    },
    {
      "cell_type": "markdown",
      "metadata": {
        "id": "xUJK9-YaMflc",
        "colab_type": "text"
      },
      "source": [
        "Q4) Write the code to plot a histogram of the life expectancy values across all conditions and years. (*4pts*)\n"
      ]
    },
    {
      "cell_type": "code",
      "metadata": {
        "colab_type": "code",
        "id": "pLsAGHuhNUtr",
        "colab": {}
      },
      "source": [
        "# Answer-Q4\n"
      ],
      "execution_count": 0,
      "outputs": []
    },
    {
      "cell_type": "markdown",
      "metadata": {
        "id": "Rb2AUKdbMj_y",
        "colab_type": "text"
      },
      "source": [
        "\n",
        "Q5) Which Race+Sex group had the lowest life expectancy, and in what year?  (*4pts*)\n",
        "  - Black Male in 1907\n",
        "  - Black Female in 1918\n",
        "  - Black Male in 1904"
      ]
    },
    {
      "cell_type": "code",
      "metadata": {
        "colab_type": "code",
        "cellView": "form",
        "id": "1kOrmfDMNZWC",
        "colab": {}
      },
      "source": [
        "q5_answer = \"\" #@param [\"\", \"a) Black Male in 1907\", \"b) Black Male in 1918\", \"c) Black Male in 1904\"]"
      ],
      "execution_count": 0,
      "outputs": []
    },
    {
      "cell_type": "code",
      "metadata": {
        "id": "2V5g21_2jaiA",
        "colab_type": "code",
        "colab": {
          "base_uri": "https://localhost:8080/",
          "height": 213
        },
        "outputId": "74ac5d62-2bcf-4dc9-d89c-c9612eea4336"
      },
      "source": [
        "data.groupby(['Race', 'Sex'])['LifeExp'].mean().round(1)"
      ],
      "execution_count": 22,
      "outputs": [
        {
          "output_type": "execute_result",
          "data": {
            "text/plain": [
              "Race       Sex       \n",
              "All Races  Both Sexes    66.9\n",
              "           Female        69.5\n",
              "           Male          64.3\n",
              "Black      Both Sexes    58.8\n",
              "           Female        61.4\n",
              "           Male          56.2\n",
              "White      Both Sexes    67.6\n",
              "           Female        70.3\n",
              "           Male          65.1\n",
              "Name: LifeExp, dtype: float64"
            ]
          },
          "metadata": {
            "tags": []
          },
          "execution_count": 22
        }
      ]
    },
    {
      "cell_type": "markdown",
      "metadata": {
        "id": "OAYIRWXVM8NC",
        "colab_type": "text"
      },
      "source": [
        "\n",
        "\n",
        "Q6) To one precision point (e.g. XX.X), fill in the blanks for mean life expectancy throughout the entire span of time:  (*6pts*)\n",
        "\n",
        "<table border=\"1\" class=\"dataframe\">\n",
        "  <thead>\n",
        "    <tr style=\"text-align: right;\">\n",
        "      <th></th>\n",
        "      <th></th>\n",
        "      <th>LifeExp</th>\n",
        "    </tr>\n",
        "    <tr>\n",
        "      <th>Race</th>\n",
        "      <th>Sex</th>\n",
        "      <th></th>\n",
        "    </tr>\n",
        "  </thead>\n",
        "  <tbody>\n",
        "    <tr>\n",
        "      <th rowspan=\"3\" valign=\"top\">All Races</th>\n",
        "      <th>Both Sexes</th>\n",
        "        <td><bold>BLANK_A</bold></td>\n",
        "    </tr>\n",
        "    <tr>\n",
        "      <th>Female</th>\n",
        "      <td>69.5</td>\n",
        "    </tr>\n",
        "    <tr>\n",
        "      <th>Male</th>\n",
        "      <td>64.3</td>\n",
        "    </tr>\n",
        "    <tr>\n",
        "      <th rowspan=\"3\" valign=\"top\">Black</th>\n",
        "      <th>Both Sexes</th>\n",
        "      <td>58.8</td>\n",
        "    </tr>\n",
        "    <tr>\n",
        "      <th>Female</th>\n",
        "      <td>61.4</td>\n",
        "    </tr>\n",
        "    <tr>\n",
        "      <th>Male</th>\n",
        "      <td><bold>BLANK_B</bold></td>\n",
        "    </tr>\n",
        "    <tr>\n",
        "      <th rowspan=\"3\" valign=\"top\">White</th>\n",
        "      <th>Both Sexes</th>\n",
        "      <td>65.1</td>\n",
        "    </tr>\n",
        "    <tr>\n",
        "      <th>Female</th>\n",
        "      <td><bold>BLANK_C</bold></td>\n",
        "    </tr>\n",
        "    <tr>\n",
        "      <th>Male</th>\n",
        "      <td>64.8</td>\n",
        "    </tr>\n",
        "  </tbody>\n",
        "</table>"
      ]
    },
    {
      "cell_type": "code",
      "metadata": {
        "id": "i_fNQnaKbgdR",
        "colab_type": "code",
        "colab": {},
        "cellView": "form"
      },
      "source": [
        "q6a_answer = 0 #@param {type:\"number\"} \n",
        "q6b_answer = 0 #@param {type:\"number\"} \n",
        "q6c_answer = 0 #@param {type:\"number\"} "
      ],
      "execution_count": 0,
      "outputs": []
    },
    {
      "cell_type": "markdown",
      "metadata": {
        "id": "_VPrlXkoNCoy",
        "colab_type": "text"
      },
      "source": [
        "Q7) In point-form steps, how might you get average life expectancy by decade for All Races / Both Sexes? I'm interested in how you think through the solution - code is optional.  (*7pts*)"
      ]
    },
    {
      "cell_type": "code",
      "metadata": {
        "colab_type": "code",
        "id": "bE_S6vQRORl5",
        "colab": {}
      },
      "source": [
        "q7_answer = '''\n",
        "\n",
        "Type your answer here (the triple quotes tell Python that this is a \n",
        "multi-line string, by the way, so keep those at the start and end)\n",
        "\n",
        "\n",
        "'''"
      ],
      "execution_count": 0,
      "outputs": []
    },
    {
      "cell_type": "markdown",
      "metadata": {
        "id": "qZI0eMIhJjht",
        "colab_type": "text"
      },
      "source": [
        "\n",
        "\n",
        "Q8) Read the Seaborn documentation for FacetGrid (docs at https://seaborn.pydata.org/), and write the code to mimic the following chart. (Note, the lines will look different: I modified the data here so that it doesn't give away an earlier answer).  (*10pts*)\n",
        "![](https://github.com/organisciak/Scripting-Course/blob/master/images/facetgrid-lineplot.png?raw=1)"
      ]
    },
    {
      "cell_type": "code",
      "metadata": {
        "colab_type": "code",
        "id": "HKCgEvYfOZEo",
        "colab": {}
      },
      "source": [
        "# Answer-Q8\n"
      ],
      "execution_count": 0,
      "outputs": []
    },
    {
      "cell_type": "markdown",
      "metadata": {
        "id": "DMeFdL1XVl4y",
        "colab_type": "text"
      },
      "source": [
        "# Submission Instructions"
      ]
    },
    {
      "cell_type": "code",
      "metadata": {
        "id": "4QvQhFVlTyWy",
        "colab_type": "code",
        "cellView": "form",
        "colab": {}
      },
      "source": [
        "#@markdown ### First, Enter your name for grading\n",
        "my_name = \"\" #@param { type:'string' }\n",
        "\n",
        "#@markdown _Have you saved your work for yourself? Don't forget to Save a Copy in Drive so that you have your progress._"
      ],
      "execution_count": 0,
      "outputs": []
    },
    {
      "cell_type": "code",
      "metadata": {
        "id": "Q6ku7nibRp4O",
        "colab_type": "code",
        "cellView": "form",
        "colab": {}
      },
      "source": [
        "#@markdown ### Second, check your work:\n",
        "\n",
        "#@markdown - have you answered all the questions?\n",
        "#@markdown - Does this notebook run from top to bottom?\n",
        "#@markdown     - Go to \"Runtime > Restart and run all...\" to check. Do all the cells run, to the very bottom, or is there a cell in the middle with an error?\n",
        "#@markdown - Have you completed all the answers where you entered code, keeping the `# Answer-Qx` line at the start of those cells?\n",
        "\n",
        "#@markdown *A lab that the professor has to fix manually will lose 10pts - run the checks!*\n",
        "\n",
        "#@markdown ### Finally, submit it\n",
        "\n",
        "#@markdown - Download the file with \"File > Download .ipynb\" and submit it to the Canvas assignment page."
      ],
      "execution_count": 0,
      "outputs": []
    }
  ]
}