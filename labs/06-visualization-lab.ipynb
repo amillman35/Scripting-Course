{
  "nbformat": 4,
  "nbformat_minor": 0,
  "metadata": {
    "kernelspec": {
      "display_name": "Python 3",
      "language": "python",
      "name": "python3"
    },
    "language_info": {
      "codemirror_mode": {
        "name": "ipython",
        "version": 3
      },
      "file_extension": ".py",
      "mimetype": "text/x-python",
      "name": "python",
      "nbconvert_exporter": "python",
      "pygments_lexer": "ipython3",
      "version": "3.6.8"
    },
    "colab": {
      "name": "06-visualization-lab.ipynb",
      "provenance": [],
      "collapsed_sections": []
    }
  },
  "cells": [
    {
      "cell_type": "markdown",
      "metadata": {
        "id": "Kbe6XUYbJjhi"
      },
      "source": [
        "# Lab 6\n",
        "\n",
        "*Reminder - save your work. Go to File > Save a Copy in Drive to ensure that you have your work saved.*\n",
        "\n",
        "As we move toward your final projects, we're also practicing our 'figure out new stuff' skills. Remember the high level tips: look at documentation in Colab, try auto-fill to see what methods exist, search Google, search Stack Overflow, and read the documentation for the library (i.e. at http://pandas.pydata.org/)."
      ]
    },
    {
      "cell_type": "code",
      "metadata": {
        "id": "THufcje9Jjhk"
      },
      "source": [
        "import pandas as pd"
      ],
      "execution_count": 3,
      "outputs": []
    },
    {
      "cell_type": "markdown",
      "metadata": {
        "id": "YqjBKeuEJjho"
      },
      "source": [
        "## Dataset: Life Expectancy By Year, Race, Gender\n",
        "\n",
        "Load this CDC dataset, _Death rates and life expectancy at birth_. Details about the dataset are at [Data.gov](https://catalog.data.gov/dataset/age-adjusted-death-rates-and-life-expectancy-at-birth-all-races-both-sexes-united-sta-1900)."
      ]
    },
    {
      "cell_type": "code",
      "metadata": {
        "scrolled": true,
        "id": "0-SuV88DJjho",
        "colab": {
          "base_uri": "https://localhost:8080/",
          "height": 343
        },
        "outputId": "c658e59b-5d82-4abb-be1b-b690172c63f7"
      },
      "source": [
        "data = pd.read_csv('https://data.cdc.gov/api/views/w9j2-ggv5/rows.csv?accessType=DOWNLOAD')\n",
        "# Rename columns\n",
        "data = data.rename(columns={\"Average Life Expectancy (Years)\": \"LifeExp\", \"Age-adjusted Death Rate\": \"DeathRate\"})\n",
        "# Select up to 2017\n",
        "data = data[data.Year <= 2017]\n",
        "data.sample(10)"
      ],
      "execution_count": 4,
      "outputs": [
        {
          "output_type": "execute_result",
          "data": {
            "text/html": [
              "<div>\n",
              "<style scoped>\n",
              "    .dataframe tbody tr th:only-of-type {\n",
              "        vertical-align: middle;\n",
              "    }\n",
              "\n",
              "    .dataframe tbody tr th {\n",
              "        vertical-align: top;\n",
              "    }\n",
              "\n",
              "    .dataframe thead th {\n",
              "        text-align: right;\n",
              "    }\n",
              "</style>\n",
              "<table border=\"1\" class=\"dataframe\">\n",
              "  <thead>\n",
              "    <tr style=\"text-align: right;\">\n",
              "      <th></th>\n",
              "      <th>Year</th>\n",
              "      <th>Race</th>\n",
              "      <th>Sex</th>\n",
              "      <th>LifeExp</th>\n",
              "      <th>DeathRate</th>\n",
              "    </tr>\n",
              "  </thead>\n",
              "  <tbody>\n",
              "    <tr>\n",
              "      <th>90</th>\n",
              "      <td>1990</td>\n",
              "      <td>All Races</td>\n",
              "      <td>Both Sexes</td>\n",
              "      <td>75.4</td>\n",
              "      <td>938.0</td>\n",
              "    </tr>\n",
              "    <tr>\n",
              "      <th>868</th>\n",
              "      <td>1935</td>\n",
              "      <td>White</td>\n",
              "      <td>Female</td>\n",
              "      <td>65.0</td>\n",
              "      <td>1642.0</td>\n",
              "    </tr>\n",
              "    <tr>\n",
              "      <th>558</th>\n",
              "      <td>1982</td>\n",
              "      <td>Black</td>\n",
              "      <td>Female</td>\n",
              "      <td>73.6</td>\n",
              "      <td>958.8</td>\n",
              "    </tr>\n",
              "    <tr>\n",
              "      <th>60</th>\n",
              "      <td>1960</td>\n",
              "      <td>All Races</td>\n",
              "      <td>Both Sexes</td>\n",
              "      <td>69.7</td>\n",
              "      <td>1339.2</td>\n",
              "    </tr>\n",
              "    <tr>\n",
              "      <th>993</th>\n",
              "      <td>1941</td>\n",
              "      <td>White</td>\n",
              "      <td>Male</td>\n",
              "      <td>64.4</td>\n",
              "      <td>1844.1</td>\n",
              "    </tr>\n",
              "    <tr>\n",
              "      <th>396</th>\n",
              "      <td>1939</td>\n",
              "      <td>Black</td>\n",
              "      <td>Both Sexes</td>\n",
              "      <td>54.5</td>\n",
              "      <td>2157.0</td>\n",
              "    </tr>\n",
              "    <tr>\n",
              "      <th>375</th>\n",
              "      <td>1918</td>\n",
              "      <td>Black</td>\n",
              "      <td>Both Sexes</td>\n",
              "      <td>31.1</td>\n",
              "      <td>3411.9</td>\n",
              "    </tr>\n",
              "    <tr>\n",
              "      <th>601</th>\n",
              "      <td>1906</td>\n",
              "      <td>Black</td>\n",
              "      <td>Male</td>\n",
              "      <td>31.8</td>\n",
              "      <td>3341.0</td>\n",
              "    </tr>\n",
              "    <tr>\n",
              "      <th>551</th>\n",
              "      <td>1975</td>\n",
              "      <td>Black</td>\n",
              "      <td>Female</td>\n",
              "      <td>71.3</td>\n",
              "      <td>1042.4</td>\n",
              "    </tr>\n",
              "    <tr>\n",
              "      <th>999</th>\n",
              "      <td>1947</td>\n",
              "      <td>White</td>\n",
              "      <td>Male</td>\n",
              "      <td>65.2</td>\n",
              "      <td>1718.6</td>\n",
              "    </tr>\n",
              "  </tbody>\n",
              "</table>\n",
              "</div>"
            ],
            "text/plain": [
              "     Year       Race         Sex  LifeExp  DeathRate\n",
              "90   1990  All Races  Both Sexes     75.4      938.0\n",
              "868  1935      White      Female     65.0     1642.0\n",
              "558  1982      Black      Female     73.6      958.8\n",
              "60   1960  All Races  Both Sexes     69.7     1339.2\n",
              "993  1941      White        Male     64.4     1844.1\n",
              "396  1939      Black  Both Sexes     54.5     2157.0\n",
              "375  1918      Black  Both Sexes     31.1     3411.9\n",
              "601  1906      Black        Male     31.8     3341.0\n",
              "551  1975      Black      Female     71.3     1042.4\n",
              "999  1947      White        Male     65.2     1718.6"
            ]
          },
          "metadata": {
            "tags": []
          },
          "execution_count": 4
        }
      ]
    },
    {
      "cell_type": "markdown",
      "metadata": {
        "id": "SmwRh6ciKhsp"
      },
      "source": [
        "**Questions**\n",
        "\n",
        "![Life Expectancy](https://github.com/organisciak/Scripting-Course/blob/master/images/lifeexpectancy.png?raw=1)\n",
        "\n",
        "Q1) Which Race+Gender is represented in the above plot (*4pts*):\n",
        "  - Black / Male\n",
        "  - White / Both Sexes\n",
        "  - White / Female\n",
        "  - Black / Both Sexes\n",
        "\n",
        "(Clarification: There are two charts that look very similar, but only one of them is an answer option!)"
      ]
    },
    {
      "cell_type": "code",
      "metadata": {
        "id": "unCOCHwvQCdy",
        "cellView": "form"
      },
      "source": [
        "q1_answer = \"\" #@param [\"\", \"a) Black/Male\", \"b) White/Both Sexes\", \"c) White/Female\", \"d) Black/Both Sexes\"]"
      ],
      "execution_count": null,
      "outputs": []
    },
    {
      "cell_type": "markdown",
      "metadata": {
        "id": "m1LcIAMkL1GL"
      },
      "source": [
        "Q2) Write code to recreate the above plot, but giving the plot a sensible title, like below. This will require a skill not mentioned in class.  (*6pts*)"
      ]
    },
    {
      "cell_type": "code",
      "metadata": {
        "id": "BOa7SLx3eJWe"
      },
      "source": [
        "# Answer-Q2\n"
      ],
      "execution_count": null,
      "outputs": []
    },
    {
      "cell_type": "markdown",
      "metadata": {
        "id": "z8_HrqGQMJkL"
      },
      "source": [
        "\n",
        "\n",
        "![](https://github.com/organisciak/Scripting-Course/blob/master/images/lifeexp2.png?raw=1)\n",
        "\n",
        "Q3) Modify the above code to add a y-axis label, *Life Expectancy (Years)*. You can't change the axis labels within `plot()`. However, you can set the output of a `plot()` method to a variable, and that variable will have a method to *set* the *y-axis*.  (*7pts*)\n"
      ]
    },
    {
      "cell_type": "code",
      "metadata": {
        "id": "n7wSz8ajNTMt"
      },
      "source": [
        "# Answer-Q3\n"
      ],
      "execution_count": null,
      "outputs": []
    },
    {
      "cell_type": "markdown",
      "metadata": {
        "id": "xUJK9-YaMflc"
      },
      "source": [
        "Q4) Write the code to plot a histogram of the life expectancy values across all conditions and years. (*5pts*)\n"
      ]
    },
    {
      "cell_type": "code",
      "metadata": {
        "id": "pLsAGHuhNUtr"
      },
      "source": [
        "# Answer-Q4\n"
      ],
      "execution_count": null,
      "outputs": []
    },
    {
      "cell_type": "markdown",
      "metadata": {
        "id": "Rb2AUKdbMj_y"
      },
      "source": [
        "\n",
        "Q5) Which Race+Sex group had the lowest life expectancy, and in what year?  (*5pts*)\n",
        "  - Black Male in 1907\n",
        "  - Black Female in 1918\n",
        "  - Black Male in 1904"
      ]
    },
    {
      "cell_type": "code",
      "metadata": {
        "cellView": "form",
        "id": "1kOrmfDMNZWC"
      },
      "source": [
        "q5_answer = \"\" #@param [\"\", \"a) Black Male in 1907\", \"b) Black Female in 1918\", \"c) Black Male in 1904\"]"
      ],
      "execution_count": null,
      "outputs": []
    },
    {
      "cell_type": "markdown",
      "metadata": {
        "id": "OAYIRWXVM8NC"
      },
      "source": [
        "\n",
        "\n",
        "Q6) To one precision point (e.g. XX.X), fill in the blanks for mean life expectancy throughout the entire span of time:  (*6pts*)\n",
        "\n",
        "<table border=\"1\" class=\"dataframe\">\n",
        "  <thead>\n",
        "    <tr style=\"text-align: right;\">\n",
        "      <th></th>\n",
        "      <th></th>\n",
        "      <th>LifeExp</th>\n",
        "    </tr>\n",
        "    <tr>\n",
        "      <th>Race</th>\n",
        "      <th>Sex</th>\n",
        "      <th></th>\n",
        "    </tr>\n",
        "  </thead>\n",
        "  <tbody>\n",
        "    <tr>\n",
        "      <th rowspan=\"3\" valign=\"top\">All Races</th>\n",
        "      <th>Both Sexes</th>\n",
        "        <td><bold>BLANK_A</bold></td>\n",
        "    </tr>\n",
        "    <tr>\n",
        "      <th>Female</th>\n",
        "      <td>69.5</td>\n",
        "    </tr>\n",
        "    <tr>\n",
        "      <th>Male</th>\n",
        "      <td>64.3</td>\n",
        "    </tr>\n",
        "    <tr>\n",
        "      <th rowspan=\"3\" valign=\"top\">Black</th>\n",
        "      <th>Both Sexes</th>\n",
        "      <td>58.8</td>\n",
        "    </tr>\n",
        "    <tr>\n",
        "      <th>Female</th>\n",
        "      <td>61.4</td>\n",
        "    </tr>\n",
        "    <tr>\n",
        "      <th>Male</th>\n",
        "      <td><bold>BLANK_B</bold></td>\n",
        "    </tr>\n",
        "    <tr>\n",
        "      <th rowspan=\"3\" valign=\"top\">White</th>\n",
        "      <th>Both Sexes</th>\n",
        "      <td>65.1</td>\n",
        "    </tr>\n",
        "    <tr>\n",
        "      <th>Female</th>\n",
        "      <td><bold>BLANK_C</bold></td>\n",
        "    </tr>\n",
        "    <tr>\n",
        "      <th>Male</th>\n",
        "      <td>64.8</td>\n",
        "    </tr>\n",
        "  </tbody>\n",
        "</table>"
      ]
    },
    {
      "cell_type": "code",
      "metadata": {
        "id": "i_fNQnaKbgdR",
        "cellView": "form"
      },
      "source": [
        "q6a_answer = 0 #@param {type:\"number\"} \n",
        "q6b_answer = 0 #@param {type:\"number\"} \n",
        "q6c_answer = 0 #@param {type:\"number\"} "
      ],
      "execution_count": null,
      "outputs": []
    },
    {
      "cell_type": "markdown",
      "metadata": {
        "id": "_VPrlXkoNCoy"
      },
      "source": [
        "Q7) In point-form steps, how might you get average life expectancy by decade for All Races / Both Sexes? I'm interested in how you think through the solution - code is optional.  (*7pts*)"
      ]
    },
    {
      "cell_type": "code",
      "metadata": {
        "id": "bE_S6vQRORl5"
      },
      "source": [
        "q7_answer = '''\n",
        "\n",
        "Type your answer here (the triple quotes tell Python that this is a \n",
        "multi-line string, by the way, so keep those at the start and end)\n",
        "\n",
        "\n",
        "'''"
      ],
      "execution_count": null,
      "outputs": []
    },
    {
      "cell_type": "markdown",
      "metadata": {
        "id": "qZI0eMIhJjht"
      },
      "source": [
        "\n",
        "\n",
        "Q8) Read the Seaborn documentation for FacetGrid (docs at https://seaborn.pydata.org/), and write the code to mimic the following chart. (Note, the lines will look different: I modified the data here so that it doesn't give away an earlier answer).  (*10pts*)\n",
        "![](https://github.com/organisciak/Scripting-Course/blob/master/images/facetgrid-lineplot.png?raw=1)"
      ]
    },
    {
      "cell_type": "code",
      "metadata": {
        "id": "HKCgEvYfOZEo"
      },
      "source": [
        "# Answer-Q8\n"
      ],
      "execution_count": null,
      "outputs": []
    },
    {
      "cell_type": "markdown",
      "metadata": {
        "id": "DMeFdL1XVl4y"
      },
      "source": [
        "# Submission Instructions"
      ]
    },
    {
      "cell_type": "code",
      "metadata": {
        "id": "4QvQhFVlTyWy",
        "cellView": "form"
      },
      "source": [
        "#@markdown ### First, Enter your name for grading\n",
        "my_name = \"\" #@param { type:'string' }\n",
        "\n",
        "#@markdown _Have you saved your work for yourself? Don't forget to Save a Copy in Drive so that you have your progress._"
      ],
      "execution_count": null,
      "outputs": []
    },
    {
      "cell_type": "code",
      "metadata": {
        "id": "Q6ku7nibRp4O",
        "cellView": "form"
      },
      "source": [
        "#@markdown ### Second, check your work:\n",
        "\n",
        "#@markdown - have you answered all the questions?\n",
        "#@markdown - Does this notebook run from top to bottom?\n",
        "#@markdown     - Go to \"Runtime > Restart and run all...\" to check. Do all the cells run, to the very bottom, or is there a cell in the middle with an error?\n",
        "#@markdown - Have you completed all the answers where you entered code, keeping the `# Answer-Qx` line at the start of those cells?\n",
        "\n",
        "#@markdown *A lab that the professor has to fix manually will lose 10pts - run the checks!*\n",
        "\n",
        "#@markdown ### Finally, submit it\n",
        "\n",
        "#@markdown - Download the file with \"File > Download .ipynb\" and submit it to the Canvas assignment page."
      ],
      "execution_count": null,
      "outputs": []
    }
  ]
}