{
  "nbformat": 4,
  "nbformat_minor": 0,
  "metadata": {
    "kernelspec": {
      "display_name": "Python 3",
      "language": "python",
      "name": "python3"
    },
    "language_info": {
      "codemirror_mode": {
        "name": "ipython",
        "version": 3
      },
      "file_extension": ".py",
      "mimetype": "text/x-python",
      "name": "python",
      "nbconvert_exporter": "python",
      "pygments_lexer": "ipython3",
      "version": "3.6.7"
    },
    "colab": {
      "name": "09-mongodb-json-lab.ipynb",
      "provenance": [],
      "collapsed_sections": [],
      "include_colab_link": true
    }
  },
  "cells": [
    {
      "cell_type": "markdown",
      "metadata": {
        "id": "view-in-github",
        "colab_type": "text"
      },
      "source": [
        "<a href=\"https://colab.research.google.com/github/organisciak/Scripting-Course/blob/master/labs/09-mongodb-json-lab.ipynb\" target=\"_parent\"><img src=\"https://colab.research.google.com/assets/colab-badge.svg\" alt=\"Open In Colab\"/></a>"
      ]
    },
    {
      "cell_type": "markdown",
      "metadata": {
        "id": "rOvVo2HYWPoX"
      },
      "source": [
        "## Lab: MongoDB Introduction\n",
        "\n",
        "This week's lab is a mini-lab.\n",
        "\n",
        "Reminder - save your work. Go to File > Save a Copy in Drive to ensure that you have your work saved."
      ]
    },
    {
      "cell_type": "markdown",
      "metadata": {
        "id": "I85_khX8WPoZ"
      },
      "source": [
        "## DataFrame Selection\n",
        "\n",
        "This is here just for reference. Don't forget it!\n",
        "\n",
        "**Selecting rows by numeric index**\n",
        "\n",
        "Provide `x:y` notation in : `df[10:14]`\n",
        "\n",
        "**Selecting rows by index name**\n",
        "\n",
        "Provide the name to `.loc[]`: `df.loc['Sherlock Holmes']`\n",
        "\n",
        "**Selecting rows by inclusion criteria**\n",
        "\n",
        "Provide any collection (e.g. a list or Series) of True/False values:\n",
        "\n",
        "```\n",
        "df[[True, False, False, True, True]]\n",
        "```\n",
        "\n",
        "```\n",
        "df[df.year > 1996]\n",
        "```\n",
        "    \n",
        "**Selecting multiple columns**\n",
        "\n",
        "Provide a collection of strings, referencing the column names:\n",
        "\n",
        "```\n",
        "df[['genres', 'year']]\n",
        "```\n",
        "    \n",
        "**Selecting single column (as Series)**\n",
        "\n",
        "```\n",
        "df['year']\n",
        "```\n",
        "\n",
        "Or:\n",
        "\n",
        "```\n",
        "df.year\n",
        "```\n",
        "\n",
        "Consider the latter as the shortcut, not the main way.\n",
        "\n",
        "The output is a Series. To select a single column as a DataFrame, use list with only one value."
      ]
    },
    {
      "cell_type": "markdown",
      "metadata": {
        "id": "kgS4xHrWWPob"
      },
      "source": [
        "## Opening JSON\n",
        "\n",
        "This code shows how you load JSON into Python. If you're not reading data from the internet, you don't need the `from smart_open` line."
      ]
    },
    {
      "cell_type": "code",
      "metadata": {
        "id": "-RdtjNj5WPoc",
        "cellView": "both",
        "colab": {
          "base_uri": "https://localhost:8080/",
          "height": 35
        },
        "outputId": "678abef9-f4ba-49f7-f4f8-5bedcad448c0"
      },
      "source": [
        "import json\n",
        "from smart_open import open\n",
        "with open('https://raw.githubusercontent.com/organisciak/Scripting-Course/master/data/cooking.json') as f:\n",
        "    data = json.load(f)\n",
        "\n",
        "print(\"There are \", len(data), \"items.\")"
      ],
      "execution_count": null,
      "outputs": [
        {
          "output_type": "stream",
          "text": [
            "There are  39774 items.\n"
          ],
          "name": "stdout"
        }
      ]
    },
    {
      "cell_type": "markdown",
      "metadata": {
        "id": "aagwHx7xWPoh"
      },
      "source": [
        "What's done here? \n",
        "\n",
        "You load a text file, and 'parse' it for Python to understand that it is formatted as JSON.\n",
        "\n",
        "`with open(...) as f` syntax opens a file, setting it to a variable named `f`. That can read the raw text from the file, but the `json.load` function parses the text (one big string!) to a Python object.\n",
        "\n",
        "This particular data is a big list of foods: try printing the first few items:"
      ]
    },
    {
      "cell_type": "code",
      "metadata": {
        "id": "3u-J46OAWPoh",
        "colab": {
          "base_uri": "https://localhost:8080/",
          "height": 449
        },
        "outputId": "0288db51-8a68-48e1-bc96-b008a17c84d0"
      },
      "source": [
        "data[:2]"
      ],
      "execution_count": null,
      "outputs": [
        {
          "output_type": "execute_result",
          "data": {
            "text/plain": [
              "[{'cuisine': 'greek',\n",
              "  'id': 10259,\n",
              "  'ingredients': ['romaine lettuce',\n",
              "   'black olives',\n",
              "   'grape tomatoes',\n",
              "   'garlic',\n",
              "   'pepper',\n",
              "   'purple onion',\n",
              "   'seasoning',\n",
              "   'garbanzo beans',\n",
              "   'feta cheese crumbles']},\n",
              " {'cuisine': 'southern_us',\n",
              "  'id': 25693,\n",
              "  'ingredients': ['plain flour',\n",
              "   'ground pepper',\n",
              "   'salt',\n",
              "   'tomatoes',\n",
              "   'ground black pepper',\n",
              "   'thyme',\n",
              "   'eggs',\n",
              "   'green tomatoes',\n",
              "   'yellow corn meal',\n",
              "   'milk',\n",
              "   'vegetable oil']}]"
            ]
          },
          "metadata": {
            "tags": []
          },
          "execution_count": 4
        }
      ]
    },
    {
      "cell_type": "markdown",
      "metadata": {
        "id": "_354L_4hWttH"
      },
      "source": [
        "### Questions\n",
        "\n",
        "Q1) What type of cuisine is the 300th item (index=299) in the dataset? (*3pts*)"
      ]
    },
    {
      "cell_type": "code",
      "metadata": {
        "cellView": "form",
        "id": "p_DAeg5GarnH"
      },
      "source": [
        "q1_answer = \"\" #@param {type:\"string\"}"
      ],
      "execution_count": null,
      "outputs": []
    },
    {
      "cell_type": "markdown",
      "metadata": {
        "id": "yx2_TW8hYBuF"
      },
      "source": [
        "Q2) What food is the tenth ingredient of the 200th item in the data? Tip: you can count by hand for the answer, but see if you can grab it with code. (*3pts*)"
      ]
    },
    {
      "cell_type": "code",
      "metadata": {
        "cellView": "form",
        "id": "iMiaDTWWapIo"
      },
      "source": [
        "q2_answer = \"\" #@param {type:\"string\"}"
      ],
      "execution_count": null,
      "outputs": []
    },
    {
      "cell_type": "markdown",
      "metadata": {
        "id": "zaw6NS2lYP2N"
      },
      "source": [
        "Q3) If you had run `data2 = f.read()` instead of `data = json.load(f)`, what type of information would the `data2` variable hold? How or why is it different? (Tip: try running your code from Q1 on data2 to see what it looks like, or use the `type()` function to figure our the type of variable that `data2` is compared to `data`.) (*3pts*)"
      ]
    },
    {
      "cell_type": "code",
      "metadata": {
        "cellView": "form",
        "id": "vsd4tim6aflx"
      },
      "source": [
        "q3_answer = \"\" #@param {type:\"string\"}"
      ],
      "execution_count": null,
      "outputs": []
    },
    {
      "cell_type": "markdown",
      "metadata": {
        "id": "xamvL-fwWPom"
      },
      "source": [
        "\n",
        "Q4) What's the difference between running `print(data2[300:500])`, and having the notebook auto-print by running a cell with `data2[300:500]` on the last line? (*3pts*)"
      ]
    },
    {
      "cell_type": "code",
      "metadata": {
        "cellView": "form",
        "id": "CerWHVveauOm"
      },
      "source": [
        "q4_answer = \"\" #@param {type:\"string\"}"
      ],
      "execution_count": null,
      "outputs": []
    },
    {
      "cell_type": "markdown",
      "metadata": {
        "id": "TbKuGds2WPom"
      },
      "source": [
        "## Setting up MongoDB\n",
        "\n",
        "MongoDB is a separate database. If you work with Jupyter on your own computer, you have to install it. For this class, since we're using Colab online, we'll also use an online service that already has MongoDB installed.\n",
        "\n",
        "For this class, *Dr. Organisciak has created a read-only database that you can work with*, so you don't have to create your own database.\n",
        "\n",
        "*If* you would like to create your own online-hosted database *anyway*, you can do so with the following steps:\n",
        "- 1. Create an account with [MongoDB Atlas](https://www.mongodb.com/cloud/atlas), by clicking the Try Free button.\n",
        "- 2. Create a shared cluster in a free tier.\n",
        "- 3. Click 'Connect', then create a user, a password, and add `0.0.0.0` to the whitelist. (This whitelist setting means people can connect from anywhere if they have your username and password, so it's okay for a learning environment but less secure for critical applications).\n",
        "- 4. For 'Choose a Connection Method', select 'connect your application', then 'Python', then copy the connection string. This is the location to your server."
      ]
    },
    {
      "cell_type": "code",
      "metadata": {
        "id": "AONvjIskZzz5",
        "colab": {
          "base_uri": "https://localhost:8080/"
        },
        "cellView": "form",
        "outputId": "de10e25f-c383-47e3-9839-a54df96b712c"
      },
      "source": [
        "#@title Connect to a MongoDB database\n",
        "#@markdown This cell connects to a remote MongoDB instance.\n",
        "#@markdown When it asks your password, paste in the password posted to Canvas.\n",
        "!pip install dnspython\n",
        "from urllib.parse import quote_plus\n",
        "from pymongo import MongoClient\n",
        "import os\n",
        "from getpass import getpass\n",
        "\n",
        "if os.path.exists('credentials.txt'):\n",
        "    # Allow loading credentials for user, pw, url, one per line\n",
        "    with open('credentials.txt', mode='r') as f:\n",
        "        user, mongopw, cluster_url = [l.strip() for l in f.readlines()]\n",
        "else:\n",
        "    user = \"scriptingStudent\" #@param {type:\"string\"}\n",
        "    cluster_url = \"cluster0-ga5s0.mongodb.net\" #@param {type:\"string\"}\n",
        "    mongopw = getpass('Enter your MongoDB password for \"{}\":\\n'.format(user))\n",
        "    with open('credentials.txt', mode='w') as f:\n",
        "        f.write(\"{}\\n{}\\n{}\".format(user, mongopw, cluster_url))\n",
        "\n",
        "client = MongoClient(\"mongodb+srv://{}:{}@{}/test?retryWrites=true&w=majority\".format(quote_plus(user), quote_plus(mongopw), cluster_url))\n",
        "db = client.week9"
      ],
      "execution_count": null,
      "outputs": [
        {
          "output_type": "stream",
          "text": [
            "Collecting dnspython\n",
            "\u001b[?25l  Downloading https://files.pythonhosted.org/packages/f5/2d/ae9e172b4e5e72fa4b3cfc2517f38b602cc9ba31355f9669c502b4e9c458/dnspython-2.1.0-py3-none-any.whl (241kB)\n",
            "\r\u001b[K     |█▍                              | 10kB 14.1MB/s eta 0:00:01\r\u001b[K     |██▊                             | 20kB 17.0MB/s eta 0:00:01\r\u001b[K     |████                            | 30kB 11.0MB/s eta 0:00:01\r\u001b[K     |█████▍                          | 40kB 9.1MB/s eta 0:00:01\r\u001b[K     |██████▊                         | 51kB 5.2MB/s eta 0:00:01\r\u001b[K     |████████▏                       | 61kB 5.8MB/s eta 0:00:01\r\u001b[K     |█████████▌                      | 71kB 6.0MB/s eta 0:00:01\r\u001b[K     |██████████▉                     | 81kB 6.5MB/s eta 0:00:01\r\u001b[K     |████████████▏                   | 92kB 6.3MB/s eta 0:00:01\r\u001b[K     |█████████████▌                  | 102kB 5.1MB/s eta 0:00:01\r\u001b[K     |███████████████                 | 112kB 5.1MB/s eta 0:00:01\r\u001b[K     |████████████████▎               | 122kB 5.1MB/s eta 0:00:01\r\u001b[K     |█████████████████▋              | 133kB 5.1MB/s eta 0:00:01\r\u001b[K     |███████████████████             | 143kB 5.1MB/s eta 0:00:01\r\u001b[K     |████████████████████▎           | 153kB 5.1MB/s eta 0:00:01\r\u001b[K     |█████████████████████▋          | 163kB 5.1MB/s eta 0:00:01\r\u001b[K     |███████████████████████         | 174kB 5.1MB/s eta 0:00:01\r\u001b[K     |████████████████████████▍       | 184kB 5.1MB/s eta 0:00:01\r\u001b[K     |█████████████████████████▊      | 194kB 5.1MB/s eta 0:00:01\r\u001b[K     |███████████████████████████     | 204kB 5.1MB/s eta 0:00:01\r\u001b[K     |████████████████████████████▍   | 215kB 5.1MB/s eta 0:00:01\r\u001b[K     |█████████████████████████████▉  | 225kB 5.1MB/s eta 0:00:01\r\u001b[K     |███████████████████████████████▏| 235kB 5.1MB/s eta 0:00:01\r\u001b[K     |████████████████████████████████| 245kB 5.1MB/s \n",
            "\u001b[?25hInstalling collected packages: dnspython\n",
            "Successfully installed dnspython-2.1.0\n",
            "Enter your MongoDB password for \"scriptingStudent\":\n",
            "··········\n"
          ],
          "name": "stdout"
        }
      ]
    },
    {
      "cell_type": "markdown",
      "metadata": {
        "id": "yM2dGo4zcbkU"
      },
      "source": [
        "The database that we're using is called 'week9', and has been set to a variable called `db`:"
      ]
    },
    {
      "cell_type": "code",
      "metadata": {
        "id": "bJdn7nUqWPon",
        "colab": {
          "base_uri": "https://localhost:8080/"
        },
        "outputId": "25ab4777-b944-4c82-b905-8ebc835da91f"
      },
      "source": [
        "db"
      ],
      "execution_count": null,
      "outputs": [
        {
          "output_type": "execute_result",
          "data": {
            "text/plain": [
              "Database(MongoClient(host=['cluster0-shard-00-00-ga5s0.mongodb.net:27017', 'cluster0-shard-00-02-ga5s0.mongodb.net:27017', 'cluster0-shard-00-01-ga5s0.mongodb.net:27017'], document_class=dict, tz_aware=False, connect=True, retrywrites=True, w='majority', authsource='admin', replicaset='Cluster0-shard-0', ssl=True), 'week9')"
            ]
          },
          "metadata": {
            "tags": []
          },
          "execution_count": 2
        }
      ]
    },
    {
      "cell_type": "markdown",
      "metadata": {
        "id": "ZeqWX71RWPoq"
      },
      "source": [
        "### Connecting to a Collection\n",
        "\n",
        "Here, I connect to the 'cooking' collection of `db`. If it doesn't exist, it will be created. (The account you're connecting is read-only, though, so you won't be able to create new collections in Dr. O's database!)"
      ]
    },
    {
      "cell_type": "code",
      "metadata": {
        "id": "gmGAHGP6WPor"
      },
      "source": [
        "collection = db.cooking"
      ],
      "execution_count": null,
      "outputs": []
    },
    {
      "cell_type": "markdown",
      "metadata": {
        "id": "3TEn9o0sWPot"
      },
      "source": [
        "### Inserting Data\n",
        "\n",
        "Here's how you insert the `data` from before. It's a list - data[0] is one 'document', data[1] is another one, and so on - so we can use `insert_many`:\n",
        "\n",
        "```\n",
        "collection.insert_many(data)\n",
        "```\n",
        "\n",
        "**The data is already on our class database**, so you don't have to insert it.\n",
        "\n",
        "To see a count of how many records we have, run:"
      ]
    },
    {
      "cell_type": "code",
      "metadata": {
        "id": "ZzzVPZ7LWPox"
      },
      "source": [
        "collection.estimated_document_count()"
      ],
      "execution_count": null,
      "outputs": []
    },
    {
      "cell_type": "markdown",
      "metadata": {
        "id": "Buuh0XYmWPo1"
      },
      "source": [
        "It's also possible to use `insert_one` for a single record:\n",
        "\n",
        "```collection.insert_one(your_record)```\n",
        "\n",
        "(Again, we're connected to our class database read-only, so you can't insert here unless you create your own DB)."
      ]
    },
    {
      "cell_type": "markdown",
      "metadata": {
        "id": "j5m1TWTHWPo1"
      },
      "source": [
        "# Questions"
      ]
    },
    {
      "cell_type": "markdown",
      "metadata": {
        "id": "oCBynbGuYlxH"
      },
      "source": [
        "Q5) How many documents are in the cooking collection? (*3pts*)\n",
        "   - 7954\n",
        "   - 39774\n",
        "   - 79548"
      ]
    },
    {
      "cell_type": "code",
      "metadata": {
        "id": "0EVP4tfjhjRt"
      },
      "source": [
        ""
      ],
      "execution_count": null,
      "outputs": []
    },
    {
      "cell_type": "code",
      "metadata": {
        "cellView": "form",
        "id": "n5eabNi3aGzP"
      },
      "source": [
        "q5_answer = \"\" #@param [\"\", \"7954\", \"39774\", \"79548\"]"
      ],
      "execution_count": null,
      "outputs": []
    },
    {
      "cell_type": "markdown",
      "metadata": {
        "id": "74LIMB9IYtp1"
      },
      "source": [
        "Q6) Match the cuisine to the number of documents that are that type of cuisine. Tip: You can run `count()` on the result of `find()` (*5pts*).\n",
        "   - Cuisines: a) 'japanese', b) 'mexican', c) 'italian'\n",
        "   - Counts: 6438, 7838, 1423"
      ]
    },
    {
      "cell_type": "code",
      "metadata": {
        "cellView": "form",
        "id": "gk4bEy3_ZlLW"
      },
      "source": [
        "q6a_answer = \"\" #@param [\"\", \"6438\", \"7838\", \"1423\"]"
      ],
      "execution_count": null,
      "outputs": []
    },
    {
      "cell_type": "code",
      "metadata": {
        "cellView": "form",
        "id": "CCjYEOBkZlTM"
      },
      "source": [
        "q6b_answer = \"\" #@param [\"\", \"6438\", \"7838\", \"1423\"]"
      ],
      "execution_count": null,
      "outputs": []
    },
    {
      "cell_type": "code",
      "metadata": {
        "cellView": "form",
        "id": "rPU9zPz8ZlbE"
      },
      "source": [
        "q6c_answer = \"\" #@param [\"\", \"6438\", \"7838\", \"1423\"]"
      ],
      "execution_count": null,
      "outputs": []
    },
    {
      "cell_type": "markdown",
      "metadata": {
        "id": "s3oJ3XDqY3ql"
      },
      "source": [
        "Q7) How many results have liver as an ingredient? Tip: If you want to inspect the results to doublecheck but worry about printing a BFD (a 'big dataset'), you can try `find_one` instead of `find`. Remember that for the answer itself, you want `find` and `count` though! (*4pts*)"
      ]
    },
    {
      "cell_type": "code",
      "metadata": {
        "cellView": "form",
        "id": "DZy9nn_QZh_F"
      },
      "source": [
        "q7_answer = \"\" #@param {type:\"string\"}"
      ],
      "execution_count": null,
      "outputs": []
    },
    {
      "cell_type": "markdown",
      "metadata": {
        "id": "zA6J0mZ3Y9vF"
      },
      "source": [
        "`$in` and `$all` questions:\n",
        "\n",
        "Q8) How many results have both 'duck' and 'chinese five-spice powder'? (*3pts*)"
      ]
    },
    {
      "cell_type": "code",
      "metadata": {
        "id": "vfpIuJGxZfi1"
      },
      "source": [
        ""
      ],
      "execution_count": null,
      "outputs": []
    },
    {
      "cell_type": "code",
      "metadata": {
        "cellView": "form",
        "id": "tqSzlrsMZbJw"
      },
      "source": [
        "q8_answer = \"\" #@param {type:\"string\"}"
      ],
      "execution_count": null,
      "outputs": []
    },
    {
      "cell_type": "markdown",
      "metadata": {
        "id": "5UW2qdMqWPo2"
      },
      "source": [
        "\n",
        "Q9) How many results have either 'duck' or 'chinese five-spice powder'? (*3pts*)"
      ]
    },
    {
      "cell_type": "code",
      "metadata": {
        "id": "2LnTqo-6Ze92"
      },
      "source": [
        ""
      ],
      "execution_count": null,
      "outputs": []
    },
    {
      "cell_type": "code",
      "metadata": {
        "id": "tVlRwEtkV2Jh",
        "cellView": "form"
      },
      "source": [
        "q9_answer = \"\" #@param {type:\"string\"}"
      ],
      "execution_count": null,
      "outputs": []
    },
    {
      "cell_type": "markdown",
      "metadata": {
        "id": "DMeFdL1XVl4y"
      },
      "source": [
        "# Submission Instructions"
      ]
    },
    {
      "cell_type": "code",
      "metadata": {
        "id": "4QvQhFVlTyWy",
        "cellView": "form"
      },
      "source": [
        "#@markdown ### First, Enter your name for grading\n",
        "my_name = \"\" #@param { type:'string' }\n",
        "\n",
        "#@markdown _Have you saved your work for yourself? Don't forget to Save a Copy in Drive so that you have your progress._"
      ],
      "execution_count": null,
      "outputs": []
    },
    {
      "cell_type": "code",
      "metadata": {
        "id": "Q6ku7nibRp4O",
        "cellView": "form"
      },
      "source": [
        "#@markdown ### Second, check your work:\n",
        "\n",
        "#@markdown - have you answered all the questions?\n",
        "#@markdown     - Some answers can be checked automatically - just run this cell.\n",
        "#@markdown - Does this notebook run from top to bottom?\n",
        "#@markdown     - Go to \"Runtime > Restart and run all...\" to check. Do all the cells run, to the very bottom, or is there a cell in the middle with an error?\n",
        "#@markdown - Have you completed all the answers where you entered code, keeping the `# Answer-Qx` line at the start of those cells?\n",
        "\n",
        "#@markdown *A lab that the professor has to fix manually will lose 10pts - run the checks!*\n",
        "\n",
        "lab1 = dict(\n",
        "    q1 = dict(entrytype='cell', pts=5),\n",
        "    q2 = dict(entrytype='var', pts=5),\n",
        "    q3 = dict(entrytype='cell', pts=5),\n",
        "    q4a = dict(entrytype='var', pts=5),\n",
        "    q4b = dict(entrytype='var', pts=5),\n",
        "    q4c = dict(entrytype='var', pts=10),\n",
        "    q5 = dict(entrytype='var', pts=5),\n",
        "    q6 = dict(entrytype='cell', pts=5),\n",
        "    q7 = dict(entrytype='cell', pts=5),\n",
        "    q8a = dict(entrytype='var', pts=4),\n",
        "    q8b = dict(entrytype='var', pts=4),\n",
        "    q8c = dict(entrytype='var', pts=4),\n",
        "    q9a = dict(entrytype='var', pts=4),\n",
        "    q9b = dict(entrytype='var', pts=4),\n",
        "    q10 = dict(entrytype='var', pts=8),\n",
        "    q11 = dict(entrytype='var', pts=7),\n",
        "    q12 = dict(entrytype='var', pts=5),\n",
        "    q13 = dict(entrytype='cell', pts=10),\n",
        ")\n",
        "var_qs = [k for k,v in lab1.items() if v['entrytype'] == 'var']\n",
        "for q in var_qs:\n",
        "  qvar = '{}_answer'.format(q) \n",
        "assert(qvar) in globals(), \"I don't see '{}' - did you run the cell where you ran it?\".format(qvar)\n",
        "answer = globals()[qvar]\n",
        "assert answer != \"\", \"{} is blank - did you mean to do that?\".format(qvar)\n",
        "print(\"Good work. The ones that I can pre-check look correct.\")\n",
        "\n",
        "#@markdown ### Finally, submit it\n",
        "\n",
        "#@markdown - Download the file with \"File > Download .ipynb\" and submit it to the Canvas assignment page."
      ],
      "execution_count": null,
      "outputs": []
    }
  ]
}