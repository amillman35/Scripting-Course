{
  "nbformat": 4,
  "nbformat_minor": 0,
  "metadata": {
    "kernelspec": {
      "display_name": "Python 3",
      "language": "python",
      "name": "python3"
    },
    "language_info": {
      "codemirror_mode": {
        "name": "ipython",
        "version": 3
      },
      "file_extension": ".py",
      "mimetype": "text/x-python",
      "name": "python",
      "nbconvert_exporter": "python",
      "pygments_lexer": "ipython3",
      "version": "3.6.8"
    },
    "colab": {
      "name": "05-split-apply-combine-lab.ipynb",
      "provenance": [],
      "collapsed_sections": [],
      "include_colab_link": true
    }
  },
  "cells": [
    {
      "cell_type": "markdown",
      "metadata": {
        "id": "view-in-github",
        "colab_type": "text"
      },
      "source": [
        "<a href=\"https://colab.research.google.com/github/organisciak/Scripting-Course/blob/master/labs/05-split-apply-combine-lab.ipynb\" target=\"_parent\"><img src=\"https://colab.research.google.com/assets/colab-badge.svg\" alt=\"Open In Colab\"/></a>"
      ]
    },
    {
      "cell_type": "markdown",
      "metadata": {
        "id": "GXA28AcEEtq-",
        "colab_type": "text"
      },
      "source": [
        "## Lab 5: Split Apply Combine\n",
        "Reminder - save your work. Go to File > Save a Copy in Drive to ensure that you have your work saved.\n",
        "\n"
      ]
    },
    {
      "cell_type": "code",
      "metadata": {
        "id": "FqVctg0SEtq_",
        "colab_type": "code",
        "colab": {}
      },
      "source": [
        "import pandas as pd"
      ],
      "execution_count": 0,
      "outputs": []
    },
    {
      "cell_type": "markdown",
      "metadata": {
        "id": "VPRaS210EtrD",
        "colab_type": "text"
      },
      "source": [
        "### Movie Dataset Questions"
      ]
    },
    {
      "cell_type": "code",
      "metadata": {
        "id": "T1ekcpI6EtrD",
        "colab_type": "code",
        "outputId": "58d6f0b5-11e9-41ee-c0da-cfded0697f2f",
        "colab": {
          "base_uri": "https://localhost:8080/",
          "height": 359
        }
      },
      "source": [
        "ratings = pd.read_csv('https://raw.githubusercontent.com/organisciak/Scripting-Course/master/data/movielens_small.csv')\n",
        "ratings.sample(10)"
      ],
      "execution_count": 0,
      "outputs": [
        {
          "output_type": "execute_result",
          "data": {
            "text/html": [
              "<div>\n",
              "<style scoped>\n",
              "    .dataframe tbody tr th:only-of-type {\n",
              "        vertical-align: middle;\n",
              "    }\n",
              "\n",
              "    .dataframe tbody tr th {\n",
              "        vertical-align: top;\n",
              "    }\n",
              "\n",
              "    .dataframe thead th {\n",
              "        text-align: right;\n",
              "    }\n",
              "</style>\n",
              "<table border=\"1\" class=\"dataframe\">\n",
              "  <thead>\n",
              "    <tr style=\"text-align: right;\">\n",
              "      <th></th>\n",
              "      <th>userId</th>\n",
              "      <th>rating</th>\n",
              "      <th>title</th>\n",
              "      <th>genres</th>\n",
              "      <th>timestamp</th>\n",
              "      <th>year</th>\n",
              "    </tr>\n",
              "  </thead>\n",
              "  <tbody>\n",
              "    <tr>\n",
              "      <th>10926</th>\n",
              "      <td>394</td>\n",
              "      <td>1.0</td>\n",
              "      <td>Saving Private Ryan</td>\n",
              "      <td>Action</td>\n",
              "      <td>1298378829</td>\n",
              "      <td>1998</td>\n",
              "    </tr>\n",
              "    <tr>\n",
              "      <th>98453</th>\n",
              "      <td>514</td>\n",
              "      <td>1.0</td>\n",
              "      <td>It Takes Two</td>\n",
              "      <td>Children</td>\n",
              "      <td>853896032</td>\n",
              "      <td>1995</td>\n",
              "    </tr>\n",
              "    <tr>\n",
              "      <th>29544</th>\n",
              "      <td>614</td>\n",
              "      <td>5.0</td>\n",
              "      <td>Bridge on the River Kwai, The</td>\n",
              "      <td>Adventure</td>\n",
              "      <td>1003253982</td>\n",
              "      <td>1957</td>\n",
              "    </tr>\n",
              "    <tr>\n",
              "      <th>67487</th>\n",
              "      <td>475</td>\n",
              "      <td>1.0</td>\n",
              "      <td>After Earth</td>\n",
              "      <td>Action</td>\n",
              "      <td>1447256010</td>\n",
              "      <td>2013</td>\n",
              "    </tr>\n",
              "    <tr>\n",
              "      <th>7828</th>\n",
              "      <td>354</td>\n",
              "      <td>2.0</td>\n",
              "      <td>Aladdin</td>\n",
              "      <td>Adventure</td>\n",
              "      <td>846062277</td>\n",
              "      <td>1992</td>\n",
              "    </tr>\n",
              "    <tr>\n",
              "      <th>3310</th>\n",
              "      <td>243</td>\n",
              "      <td>4.0</td>\n",
              "      <td>Little Women</td>\n",
              "      <td>Drama</td>\n",
              "      <td>1094224616</td>\n",
              "      <td>1994</td>\n",
              "    </tr>\n",
              "    <tr>\n",
              "      <th>24303</th>\n",
              "      <td>89</td>\n",
              "      <td>5.0</td>\n",
              "      <td>Dumb &amp; Dumber (Dumb and Dumber)</td>\n",
              "      <td>Adventure</td>\n",
              "      <td>1257620511</td>\n",
              "      <td>1994</td>\n",
              "    </tr>\n",
              "    <tr>\n",
              "      <th>40978</th>\n",
              "      <td>353</td>\n",
              "      <td>1.5</td>\n",
              "      <td>Pearl Harbor</td>\n",
              "      <td>Action</td>\n",
              "      <td>1112270009</td>\n",
              "      <td>2001</td>\n",
              "    </tr>\n",
              "    <tr>\n",
              "      <th>37545</th>\n",
              "      <td>252</td>\n",
              "      <td>5.0</td>\n",
              "      <td>Rock, The</td>\n",
              "      <td>Action</td>\n",
              "      <td>869101354</td>\n",
              "      <td>1996</td>\n",
              "    </tr>\n",
              "    <tr>\n",
              "      <th>64414</th>\n",
              "      <td>73</td>\n",
              "      <td>3.5</td>\n",
              "      <td>Juno</td>\n",
              "      <td>Comedy</td>\n",
              "      <td>1255502960</td>\n",
              "      <td>2007</td>\n",
              "    </tr>\n",
              "  </tbody>\n",
              "</table>\n",
              "</div>"
            ],
            "text/plain": [
              "       userId  rating  ...   timestamp  year\n",
              "10926     394     1.0  ...  1298378829  1998\n",
              "98453     514     1.0  ...   853896032  1995\n",
              "29544     614     5.0  ...  1003253982  1957\n",
              "67487     475     1.0  ...  1447256010  2013\n",
              "7828      354     2.0  ...   846062277  1992\n",
              "3310      243     4.0  ...  1094224616  1994\n",
              "24303      89     5.0  ...  1257620511  1994\n",
              "40978     353     1.5  ...  1112270009  2001\n",
              "37545     252     5.0  ...   869101354  1996\n",
              "64414      73     3.5  ...  1255502960  2007\n",
              "\n",
              "[10 rows x 6 columns]"
            ]
          },
          "metadata": {
            "tags": []
          },
          "execution_count": 2
        }
      ]
    },
    {
      "cell_type": "markdown",
      "metadata": {
        "id": "niP4SNReJmCL",
        "colab_type": "text"
      },
      "source": [
        "**Questions**\n",
        "\n",
        "**Q1)** Write the code to determine the median rating by each user. *(3 points)*"
      ]
    },
    {
      "cell_type": "code",
      "metadata": {
        "colab_type": "code",
        "id": "yvhxxnlheHkI",
        "colab": {}
      },
      "source": [
        "# Answer-Q1\n"
      ],
      "execution_count": 0,
      "outputs": []
    },
    {
      "cell_type": "markdown",
      "metadata": {
        "id": "9dW32Jeocbjs",
        "colab_type": "text"
      },
      "source": [
        "**Q2)** Using groupby, write the code to count how many ratings there are in each genre. *(3 points)*"
      ]
    },
    {
      "cell_type": "code",
      "metadata": {
        "colab_type": "code",
        "id": "BOa7SLx3eJWe",
        "colab": {}
      },
      "source": [
        "# Answer-Q2\n"
      ],
      "execution_count": 0,
      "outputs": []
    },
    {
      "cell_type": "markdown",
      "metadata": {
        "id": "sgzftqKrKVbV",
        "colab_type": "text"
      },
      "source": [
        "**Q3)** The previous question can be answered without groupby. How? *(3 points)*\n",
        "\n",
        "  *   a) ratings.genres.unique()\n",
        "  *   b) ratings['genres'].value_counts()\n",
        "  *   c) ratings[['genres']].value_counts()\n",
        "  *   d) ratings[['genres']].unique()\n",
        "\n",
        "\n",
        "\n",
        "\n",
        "\n",
        "\n"
      ]
    },
    {
      "cell_type": "code",
      "metadata": {
        "id": "unCOCHwvQCdy",
        "colab_type": "code",
        "cellView": "form",
        "colab": {}
      },
      "source": [
        "q3_answer = \"\" #@param [\"\", \"a) ratings.genres.unique()\", \"b) ratings['genres'].value_counts()\", \"c) ratings[['genres']].value_counts()\", \"d) ratings[['genres']].unique()\"]"
      ],
      "execution_count": 0,
      "outputs": []
    },
    {
      "cell_type": "markdown",
      "metadata": {
        "colab_type": "text",
        "id": "EiubCWBRU8Lh"
      },
      "source": [
        "**Q4)** Which genre has the worst average ratings? *(3 points)*\n",
        "  *   a) Horror\n",
        "  *   b) Film-Noir\n",
        "  *   c) Mystery\n",
        "  *   d) Sci-Fi\n",
        "\n",
        "\n",
        "\n",
        "\n",
        "\n",
        "\n",
        "\n"
      ]
    },
    {
      "cell_type": "code",
      "metadata": {
        "colab_type": "code",
        "cellView": "form",
        "id": "JXw5DiT_WzfZ",
        "colab": {}
      },
      "source": [
        "q4_answer = \"\" #@param [\"\", \"a) Horror\", \"b) Film-Noir\", \"c) Mystery\", \"d) Sci-Fi\"]"
      ],
      "execution_count": 0,
      "outputs": []
    },
    {
      "cell_type": "markdown",
      "metadata": {
        "id": "w_S6_sXOLS1k",
        "colab_type": "text"
      },
      "source": [
        "**Q5)** Select the three most out-of-vogue film genres, by median release year: *(4 points)*\n",
        "  *   Crime\n",
        "  *   Documentary\n",
        "  *   Film-Noir\n",
        "  *   Musical\n",
        "  *   Children\n",
        "  *   Adventure\n",
        "  *   War\n",
        "\n"
      ]
    },
    {
      "cell_type": "code",
      "metadata": {
        "colab_type": "code",
        "cellView": "form",
        "id": "lDR5mdvRXdf4",
        "colab": {}
      },
      "source": [
        "q5_first = \"\" #@param [\"\", 'Crime', 'Documentary', 'Film-Noir', 'Musical', 'Children', 'Adventure', 'War']\n",
        "q5_second = \"\" #@param [\"\", 'Crime', 'Documentary', 'Film-Noir', 'Musical', 'Children', 'Adventure', 'War']\n",
        "q5_third = \"\" #@param [\"\", 'Crime', 'Documentary', 'Film-Noir', 'Musical', 'Children', 'Adventure', 'War']\n",
        "q5_answer = sorted([q5_first, q5_second, q5_third])"
      ],
      "execution_count": 0,
      "outputs": []
    },
    {
      "cell_type": "markdown",
      "metadata": {
        "id": "1MawERHXLS8s",
        "colab_type": "text"
      },
      "source": [
        "**Q6)** Which post-2011 film has the most deviation among ratings? *(3 points)*\n",
        "    \n",
        "*   The Heat\n",
        "*   Twilight Saga: Breaking Dawn\n",
        "*   The Secret Life of Pets\n",
        "*  Drinking Buddies"
      ]
    },
    {
      "cell_type": "code",
      "metadata": {
        "colab_type": "code",
        "cellView": "form",
        "id": "xWrvJFF6YBWT",
        "colab": {}
      },
      "source": [
        "q6_answer = \"\" #@param [\"\", \"a) The Heat\", \"b) Twilight Saga: Breaking Dawn\", \"c) The Secret Life of Pets\", \"d) Driniking Buddies\"]"
      ],
      "execution_count": 0,
      "outputs": []
    },
    {
      "cell_type": "markdown",
      "metadata": {
        "id": "2mzwYb_gLTwL",
        "colab_type": "text"
      },
      "source": [
        "**Q7)** Get all the unique combinations of title+year. Submit the code. *(4 points)*"
      ]
    },
    {
      "cell_type": "code",
      "metadata": {
        "colab_type": "code",
        "id": "ffCzC7ebbQnH",
        "colab": {}
      },
      "source": [
        "# Answer-Q7\n"
      ],
      "execution_count": 0,
      "outputs": []
    },
    {
      "cell_type": "markdown",
      "metadata": {
        "id": "P-unC6B1LT6E",
        "colab_type": "text"
      },
      "source": [
        "**Q8)** Run `ratings['movie']`. What does the error mean? *(3 points)*"
      ]
    },
    {
      "cell_type": "code",
      "metadata": {
        "colab_type": "code",
        "cellView": "form",
        "id": "HC_9NNIvX96b",
        "colab": {}
      },
      "source": [
        "q8_answer = \"\" #@param {type:\"string\"}"
      ],
      "execution_count": 0,
      "outputs": []
    },
    {
      "cell_type": "markdown",
      "metadata": {
        "id": "b2nZcJJRLUF7",
        "colab_type": "text"
      },
      "source": [
        "**Q9)** What does the error message mean for the following code: `ratings['new_column'] = ratings[ratings.genres == 'Drama'] ?` *(4 points)*"
      ]
    },
    {
      "cell_type": "code",
      "metadata": {
        "colab_type": "code",
        "cellView": "form",
        "id": "cV3DR9TlX-Xj",
        "colab": {}
      },
      "source": [
        "q9_answer = \"\" #@param {type:\"string\"}"
      ],
      "execution_count": 0,
      "outputs": []
    },
    {
      "cell_type": "markdown",
      "metadata": {
        "id": "V6oVG9RPLUQE",
        "colab_type": "text"
      },
      "source": [
        "**Q10)** Find all titles that refer to multiple movies released in different years. (Rephrased: find all the movies that have the same title, ignoring the possible edge case of same-named movies released in the same year and returning by title). Share your code. *(8 points)*\n",
        "\n",
        "(Hint - there should be 207 movie titles that you return)."
      ]
    },
    {
      "cell_type": "code",
      "metadata": {
        "colab_type": "code",
        "id": "_-D88P4IbM1V",
        "colab": {}
      },
      "source": [
        "# Answer-Q10\n"
      ],
      "execution_count": 0,
      "outputs": []
    },
    {
      "cell_type": "markdown",
      "metadata": {
        "id": "SZcrfZv6EtrK",
        "colab_type": "text"
      },
      "source": [
        "## Input / Output\n",
        "\n",
        "**Q11)** For the movie data: write the code to save a CSV of year/title/mean_rating. Save it in the default folder and call it `mean_ratings.csv`. *(4 points)*"
      ]
    },
    {
      "cell_type": "code",
      "metadata": {
        "id": "9psGwyHMernQ",
        "colab_type": "code",
        "colab": {}
      },
      "source": [
        "# Answer-Q11\n"
      ],
      "execution_count": 0,
      "outputs": []
    },
    {
      "cell_type": "code",
      "metadata": {
        "id": "zsavBA1Ack8Y",
        "colab_type": "code",
        "cellView": "form",
        "colab": {}
      },
      "source": [
        "#@markdown **Q12)** Write the code to open our book circulation database from two weeks ago, and retrieve information on patrons that are at least 18 years old as a DataFrame. *(6 points)*\n",
        "\n",
        "#@markdown *Run this cell to download our circulation data sqlite database again*\n",
        "!wget -nv https://github.com/organisciak/Scripting-Course/blob/master/data/circulation.sqlite?raw=true -O circulation.sqlite\n",
        "\n",
        "#@markdown Tip - your database connection string will be `'sqlite:///circulation.sqlite'`"
      ],
      "execution_count": 0,
      "outputs": []
    },
    {
      "cell_type": "code",
      "metadata": {
        "id": "6LZpVihyexFw",
        "colab_type": "code",
        "colab": {}
      },
      "source": [
        "# Answer-Q12\n"
      ],
      "execution_count": 0,
      "outputs": []
    },
    {
      "cell_type": "markdown",
      "metadata": {
        "id": "B0FyBIVaex5P",
        "colab_type": "text"
      },
      "source": [
        "**Q13)** For patrons over 18 years old, what is the most common home city? *(3 points)*\n",
        "\n",
        "*   Thomasmouth\n",
        "*   New Hannah\n",
        "*   Michelefurt\n",
        "\n",
        "*Hint - the second most common city in your results should be a 3-way tie, between 'East Brookefort' and two other cities.*\n",
        "\n"
      ]
    },
    {
      "cell_type": "code",
      "metadata": {
        "colab_type": "code",
        "cellView": "form",
        "id": "sgHEw6X0gOAt",
        "colab": {}
      },
      "source": [
        "q13_answer = \"\" #@param [\"\", \"a) Thomasmouth\", \"b) New Hannah\", \"c) Michelefurt\"]"
      ],
      "execution_count": 0,
      "outputs": []
    },
    {
      "cell_type": "markdown",
      "metadata": {
        "id": "0XSzpS3VfI3_",
        "colab_type": "text"
      },
      "source": [
        "**Q14)** Write the code to determine the author with the most books checked out. Tip: remember joins! You can write a query for Pandas to retrive a single, already joined table (you know how to do this). If you're adventurous and want to try an alternative that we didn't learn, it is also possible to do the join in Pandas. *(8 points)*\n",
        "\n",
        "*Hint*: The answer is J.K. Rowling with 63 books."
      ]
    },
    {
      "cell_type": "code",
      "metadata": {
        "id": "ASiCidJSfKeX",
        "colab_type": "code",
        "colab": {}
      },
      "source": [
        "# Answer-Q14\n"
      ],
      "execution_count": 0,
      "outputs": []
    },
    {
      "cell_type": "markdown",
      "metadata": {
        "id": "rRTXgyq1e6xv",
        "colab_type": "text"
      },
      "source": [
        "**Q15)** Write the code to retrieve the list of songs recorded by the Beatles from Wikipedia. *(6 points)*\n",
        "\n",
        "*Hint*: The answer should have 213 rows."
      ]
    },
    {
      "cell_type": "code",
      "metadata": {
        "id": "XvezMC2-fLBu",
        "colab_type": "code",
        "colab": {}
      },
      "source": [
        "# Answer-Q15\n"
      ],
      "execution_count": 0,
      "outputs": []
    },
    {
      "cell_type": "markdown",
      "metadata": {
        "id": "oKJdOUuMEtrL",
        "colab_type": "text"
      },
      "source": [
        "## Is In"
      ]
    },
    {
      "cell_type": "markdown",
      "metadata": {
        "id": "PeM1mquaEtrM",
        "colab_type": "text"
      },
      "source": [
        "Not all selection is done with logical operators. One useful method for a `Series` is `isin()`.\n",
        "\n",
        "`isin()` takes a list or collection of values, and returns True/False for whether each item in the Series is in that set of values. Remember that DataFrame columns are Series'.\n",
        "\n",
        "Example: Find movies where the genre is one of the following: Drama, Action, Sci-Fi."
      ]
    },
    {
      "cell_type": "code",
      "metadata": {
        "id": "rSZ2-L5aEtrN",
        "colab_type": "code",
        "outputId": "4701b1c1-49a2-4658-f1c0-362f3fb1f5d6",
        "colab": {
          "base_uri": "https://localhost:8080/",
          "height": 359
        }
      },
      "source": [
        "sample = ratings.sample(10)\n",
        "sample"
      ],
      "execution_count": 0,
      "outputs": [
        {
          "output_type": "execute_result",
          "data": {
            "text/html": [
              "<div>\n",
              "<style scoped>\n",
              "    .dataframe tbody tr th:only-of-type {\n",
              "        vertical-align: middle;\n",
              "    }\n",
              "\n",
              "    .dataframe tbody tr th {\n",
              "        vertical-align: top;\n",
              "    }\n",
              "\n",
              "    .dataframe thead th {\n",
              "        text-align: right;\n",
              "    }\n",
              "</style>\n",
              "<table border=\"1\" class=\"dataframe\">\n",
              "  <thead>\n",
              "    <tr style=\"text-align: right;\">\n",
              "      <th></th>\n",
              "      <th>userId</th>\n",
              "      <th>rating</th>\n",
              "      <th>title</th>\n",
              "      <th>genres</th>\n",
              "      <th>timestamp</th>\n",
              "      <th>year</th>\n",
              "    </tr>\n",
              "  </thead>\n",
              "  <tbody>\n",
              "    <tr>\n",
              "      <th>21514</th>\n",
              "      <td>509</td>\n",
              "      <td>3.0</td>\n",
              "      <td>Jerk, The</td>\n",
              "      <td>Comedy</td>\n",
              "      <td>940642681</td>\n",
              "      <td>1979</td>\n",
              "    </tr>\n",
              "    <tr>\n",
              "      <th>90017</th>\n",
              "      <td>529</td>\n",
              "      <td>1.0</td>\n",
              "      <td>Affair to Remember, An</td>\n",
              "      <td>Drama</td>\n",
              "      <td>959975472</td>\n",
              "      <td>1957</td>\n",
              "    </tr>\n",
              "    <tr>\n",
              "      <th>85306</th>\n",
              "      <td>192</td>\n",
              "      <td>2.0</td>\n",
              "      <td>Richie Rich</td>\n",
              "      <td>Children</td>\n",
              "      <td>843634385</td>\n",
              "      <td>1994</td>\n",
              "    </tr>\n",
              "    <tr>\n",
              "      <th>55865</th>\n",
              "      <td>311</td>\n",
              "      <td>4.0</td>\n",
              "      <td>Contender, The</td>\n",
              "      <td>Drama</td>\n",
              "      <td>1094585477</td>\n",
              "      <td>2000</td>\n",
              "    </tr>\n",
              "    <tr>\n",
              "      <th>9171</th>\n",
              "      <td>150</td>\n",
              "      <td>5.0</td>\n",
              "      <td>Shawshank Redemption, The</td>\n",
              "      <td>Crime</td>\n",
              "      <td>1113907633</td>\n",
              "      <td>1994</td>\n",
              "    </tr>\n",
              "    <tr>\n",
              "      <th>8755</th>\n",
              "      <td>435</td>\n",
              "      <td>4.0</td>\n",
              "      <td>Silence of the Lambs, The</td>\n",
              "      <td>Crime</td>\n",
              "      <td>891508567</td>\n",
              "      <td>1991</td>\n",
              "    </tr>\n",
              "    <tr>\n",
              "      <th>92537</th>\n",
              "      <td>190</td>\n",
              "      <td>3.0</td>\n",
              "      <td>Love Letter, The</td>\n",
              "      <td>Comedy</td>\n",
              "      <td>975694648</td>\n",
              "      <td>1999</td>\n",
              "    </tr>\n",
              "    <tr>\n",
              "      <th>26541</th>\n",
              "      <td>541</td>\n",
              "      <td>4.0</td>\n",
              "      <td>Being John Malkovich</td>\n",
              "      <td>Comedy</td>\n",
              "      <td>976829924</td>\n",
              "      <td>1999</td>\n",
              "    </tr>\n",
              "    <tr>\n",
              "      <th>86358</th>\n",
              "      <td>187</td>\n",
              "      <td>3.0</td>\n",
              "      <td>Tremors</td>\n",
              "      <td>Comedy</td>\n",
              "      <td>1241388708</td>\n",
              "      <td>1990</td>\n",
              "    </tr>\n",
              "    <tr>\n",
              "      <th>91129</th>\n",
              "      <td>132</td>\n",
              "      <td>2.5</td>\n",
              "      <td>Wind Will Carry Us, The (Bad ma ra khahad bord)</td>\n",
              "      <td>Drama</td>\n",
              "      <td>1283580984</td>\n",
              "      <td>1999</td>\n",
              "    </tr>\n",
              "  </tbody>\n",
              "</table>\n",
              "</div>"
            ],
            "text/plain": [
              "       userId  rating  ...   timestamp  year\n",
              "21514     509     3.0  ...   940642681  1979\n",
              "90017     529     1.0  ...   959975472  1957\n",
              "85306     192     2.0  ...   843634385  1994\n",
              "55865     311     4.0  ...  1094585477  2000\n",
              "9171      150     5.0  ...  1113907633  1994\n",
              "8755      435     4.0  ...   891508567  1991\n",
              "92537     190     3.0  ...   975694648  1999\n",
              "26541     541     4.0  ...   976829924  1999\n",
              "86358     187     3.0  ...  1241388708  1990\n",
              "91129     132     2.5  ...  1283580984  1999\n",
              "\n",
              "[10 rows x 6 columns]"
            ]
          },
          "metadata": {
            "tags": []
          },
          "execution_count": 6
        }
      ]
    },
    {
      "cell_type": "code",
      "metadata": {
        "scrolled": true,
        "id": "fOEzptHxEtrQ",
        "colab_type": "code",
        "outputId": "7b42f0d1-6030-4a47-cb01-064f8265ee5e",
        "colab": {
          "base_uri": "https://localhost:8080/",
          "height": 215
        }
      },
      "source": [
        "sample.genres.isin(['Action', 'Drama', 'Sci-Fi'])"
      ],
      "execution_count": 0,
      "outputs": [
        {
          "output_type": "execute_result",
          "data": {
            "text/plain": [
              "21514    False\n",
              "90017     True\n",
              "85306    False\n",
              "55865     True\n",
              "9171     False\n",
              "8755     False\n",
              "92537    False\n",
              "26541    False\n",
              "86358    False\n",
              "91129     True\n",
              "Name: genres, dtype: bool"
            ]
          },
          "metadata": {
            "tags": []
          },
          "execution_count": 7
        }
      ]
    },
    {
      "cell_type": "code",
      "metadata": {
        "id": "7FLG4bvSEtrT",
        "colab_type": "code",
        "outputId": "ed174d2b-242e-4939-def7-48984c3f6d00",
        "colab": {
          "base_uri": "https://localhost:8080/",
          "height": 142
        }
      },
      "source": [
        "sample[sample.genres.isin(['Action', 'Drama', 'Sci-Fi'])]"
      ],
      "execution_count": 0,
      "outputs": [
        {
          "output_type": "execute_result",
          "data": {
            "text/html": [
              "<div>\n",
              "<style scoped>\n",
              "    .dataframe tbody tr th:only-of-type {\n",
              "        vertical-align: middle;\n",
              "    }\n",
              "\n",
              "    .dataframe tbody tr th {\n",
              "        vertical-align: top;\n",
              "    }\n",
              "\n",
              "    .dataframe thead th {\n",
              "        text-align: right;\n",
              "    }\n",
              "</style>\n",
              "<table border=\"1\" class=\"dataframe\">\n",
              "  <thead>\n",
              "    <tr style=\"text-align: right;\">\n",
              "      <th></th>\n",
              "      <th>userId</th>\n",
              "      <th>rating</th>\n",
              "      <th>title</th>\n",
              "      <th>genres</th>\n",
              "      <th>timestamp</th>\n",
              "      <th>year</th>\n",
              "    </tr>\n",
              "  </thead>\n",
              "  <tbody>\n",
              "    <tr>\n",
              "      <th>90017</th>\n",
              "      <td>529</td>\n",
              "      <td>1.0</td>\n",
              "      <td>Affair to Remember, An</td>\n",
              "      <td>Drama</td>\n",
              "      <td>959975472</td>\n",
              "      <td>1957</td>\n",
              "    </tr>\n",
              "    <tr>\n",
              "      <th>55865</th>\n",
              "      <td>311</td>\n",
              "      <td>4.0</td>\n",
              "      <td>Contender, The</td>\n",
              "      <td>Drama</td>\n",
              "      <td>1094585477</td>\n",
              "      <td>2000</td>\n",
              "    </tr>\n",
              "    <tr>\n",
              "      <th>91129</th>\n",
              "      <td>132</td>\n",
              "      <td>2.5</td>\n",
              "      <td>Wind Will Carry Us, The (Bad ma ra khahad bord)</td>\n",
              "      <td>Drama</td>\n",
              "      <td>1283580984</td>\n",
              "      <td>1999</td>\n",
              "    </tr>\n",
              "  </tbody>\n",
              "</table>\n",
              "</div>"
            ],
            "text/plain": [
              "       userId  rating  ...   timestamp  year\n",
              "90017     529     1.0  ...   959975472  1957\n",
              "55865     311     4.0  ...  1094585477  2000\n",
              "91129     132     2.5  ...  1283580984  1999\n",
              "\n",
              "[3 rows x 6 columns]"
            ]
          },
          "metadata": {
            "tags": []
          },
          "execution_count": 8
        }
      ]
    },
    {
      "cell_type": "markdown",
      "metadata": {
        "id": "troNEmkTEtrV",
        "colab_type": "text"
      },
      "source": [
        "***Q16)***\n",
        "\n",
        "Practice using `isin()` yourself, then try the following bigger question:\n",
        "    \n",
        "- Write the code to select all ratings by the 10 most prolific users. It's fine if you manually write the list of prolific users' ids - but even so, you'll need to figure out how to get them!"
      ]
    },
    {
      "cell_type": "code",
      "metadata": {
        "id": "9oazuMVqQ7LA",
        "colab_type": "code",
        "colab": {}
      },
      "source": [
        "# Answer-Q16\n"
      ],
      "execution_count": 0,
      "outputs": []
    },
    {
      "cell_type": "markdown",
      "metadata": {
        "id": "DMeFdL1XVl4y",
        "colab_type": "text"
      },
      "source": [
        "# Submission Instructions"
      ]
    },
    {
      "cell_type": "code",
      "metadata": {
        "id": "4QvQhFVlTyWy",
        "colab_type": "code",
        "cellView": "form",
        "colab": {}
      },
      "source": [
        "#@markdown ### First, Enter your name for grading\n",
        "my_name = \"\" #@param { type:'string' }\n",
        "\n",
        "#@markdown _Have you saved your work for yourself? Don't forget to Save a Copy in Drive so that you have your progress._"
      ],
      "execution_count": 0,
      "outputs": []
    },
    {
      "cell_type": "code",
      "metadata": {
        "id": "Q6ku7nibRp4O",
        "colab_type": "code",
        "cellView": "form",
        "colab": {}
      },
      "source": [
        "#@markdown ### Second, check your work:\n",
        "\n",
        "#@markdown - have you answered all the questions?\n",
        "#@markdown - Does this notebook run from top to bottom?\n",
        "#@markdown     - Go to \"Runtime > Restart and run all...\" to check. Do all the cells run, to the very bottom, or is there a cell in the middle with an error?\n",
        "#@markdown - Have you completed all the answers where you entered code, keeping the `# Answer-Qx` line at the start of those cells?\n",
        "\n",
        "#@markdown *A lab that the professor has to fix manually will lose 10pts - run the checks!*\n",
        "\n",
        "#@markdown ### Finally, submit it\n",
        "\n",
        "#@markdown - Download the file with \"File > Download .ipynb\" and submit it to the Canvas assignment page."
      ],
      "execution_count": 0,
      "outputs": []
    }
  ]
}