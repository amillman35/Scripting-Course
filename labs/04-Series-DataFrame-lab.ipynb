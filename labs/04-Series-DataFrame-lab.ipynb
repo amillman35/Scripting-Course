{
 "cells": [
  {
   "cell_type": "markdown",
   "metadata": {},
   "source": [
    "## Lab 4: Series and DataFrame"
   ]
  },
  {
   "cell_type": "code",
   "execution_count": 10,
   "metadata": {},
   "outputs": [],
   "source": [
    "import pandas as pd"
   ]
  },
  {
   "cell_type": "markdown",
   "metadata": {},
   "source": [
    "Create a Series with the following code:"
   ]
  },
  {
   "cell_type": "code",
   "execution_count": 11,
   "metadata": {},
   "outputs": [],
   "source": [
    "titles = ['Dumb and Dumber To', 'Alien 3', 'Moonraker', 'Shall We Dance', 'Top Gun', 'Quantum of Solace', 'Wild Hogs', 'Apollo 13', 'Cloudy with a Chance of Meatballs 2', 'Hook', \"Bridget Jones's Diary\", 'Sense and Sensibility', 'Save the Last Dance', 'Finding Neverland', 'Life Is Beautiful', 'Les Miserables (2012)', 'Memoirs of a Geisha', 'Raiders of the Lost Ark (IMAX)', \"A Knight's Tale\", 'Where the Wild Things Are', 'Donnie Brasco', 'Star Trek', 'Dances with Wolves', 'Total Recall (2012)', 'Alexander', 'Sister Act', 'X-Men:First Class', 'My Big Fat Greek Wedding', 'Red', 'Shark Tale']\n",
    "boxoffice = [169837010, 159814498, 210308099, 170128460, 356830601, 586090727, 253625427, 355237933, 274325949, 300854823, 281929795, 134582776, 131706809, 116766556, 229163264, 441809770, 162242962, 248159971, 117487473, 100086793, 124909762, 385680446, 424208848, 198467168, 167298192, 231605150, 353624124, 368744044, 199006387, 367275019]\n",
    "bodf = pd.Series(boxoffice, index=titles)"
   ]
  },
  {
   "cell_type": "markdown",
   "metadata": {},
   "source": [
    "`bodf` is a Series with 30 box office takes, with the movie names as the index."
   ]
  },
  {
   "cell_type": "code",
   "execution_count": 12,
   "metadata": {},
   "outputs": [
    {
     "data": {
      "text/plain": [
       "Dumb and Dumber To                     169837010\n",
       "Alien 3                                159814498\n",
       "Moonraker                              210308099\n",
       "Shall We Dance                         170128460\n",
       "Top Gun                                356830601\n",
       "Quantum of Solace                      586090727\n",
       "Wild Hogs                              253625427\n",
       "Apollo 13                              355237933\n",
       "Cloudy with a Chance of Meatballs 2    274325949\n",
       "Hook                                   300854823\n",
       "Bridget Jones's Diary                  281929795\n",
       "Sense and Sensibility                  134582776\n",
       "Save the Last Dance                    131706809\n",
       "Finding Neverland                      116766556\n",
       "Life Is Beautiful                      229163264\n",
       "Les Miserables (2012)                  441809770\n",
       "Memoirs of a Geisha                    162242962\n",
       "Raiders of the Lost Ark (IMAX)         248159971\n",
       "A Knight's Tale                        117487473\n",
       "Where the Wild Things Are              100086793\n",
       "Donnie Brasco                          124909762\n",
       "Star Trek                              385680446\n",
       "Dances with Wolves                     424208848\n",
       "Total Recall (2012)                    198467168\n",
       "Alexander                              167298192\n",
       "Sister Act                             231605150\n",
       "X-Men:First Class                      353624124\n",
       "My Big Fat Greek Wedding               368744044\n",
       "Red                                    199006387\n",
       "Shark Tale                             367275019\n",
       "dtype: int64"
      ]
     },
     "execution_count": 12,
     "metadata": {},
     "output_type": "execute_result"
    }
   ],
   "source": [
    "bodf"
   ]
  },
  {
   "cell_type": "markdown",
   "metadata": {},
   "source": [
    "**Questions**\n",
    "\n",
    "- Write the code to return the first 7 rows of `bodf`.\n",
    "- What is the average box office take in this sample of films, to the nearest dollar?\n",
    "    - `254060295`\n",
    "    - `230384207`\n",
    "    - `248159971`\n",
    "- Write the code to return just the movies that have made more than $250m.\n",
    "- What does `bodf.cumsum()` do?\n",
    "- How would you return the Box Office take for *Dances with Wolves*?\n",
    "- What SQL clause is comparable to `bodf.sort_values()`?\n",
    "- How would you sort `bodf` in descending order?"
   ]
  },
  {
   "cell_type": "markdown",
   "metadata": {},
   "source": [
    "## DataFrame"
   ]
  },
  {
   "cell_type": "markdown",
   "metadata": {},
   "source": [
    "Use the following code to read a CSV of fuel economies to a Dataframe."
   ]
  },
  {
   "cell_type": "code",
   "execution_count": 13,
   "metadata": {},
   "outputs": [],
   "source": [
    "mpg = pd.read_csv('http://vincentarelbundock.github.io/Rdatasets/csv/ggplot2/mpg.csv', index_col=0)"
   ]
  },
  {
   "cell_type": "markdown",
   "metadata": {},
   "source": [
    "Here's what the data looks like:"
   ]
  },
  {
   "cell_type": "code",
   "execution_count": 14,
   "metadata": {},
   "outputs": [
    {
     "data": {
      "text/html": [
       "<div>\n",
       "<style scoped>\n",
       "    .dataframe tbody tr th:only-of-type {\n",
       "        vertical-align: middle;\n",
       "    }\n",
       "\n",
       "    .dataframe tbody tr th {\n",
       "        vertical-align: top;\n",
       "    }\n",
       "\n",
       "    .dataframe thead th {\n",
       "        text-align: right;\n",
       "    }\n",
       "</style>\n",
       "<table border=\"1\" class=\"dataframe\">\n",
       "  <thead>\n",
       "    <tr style=\"text-align: right;\">\n",
       "      <th></th>\n",
       "      <th>manufacturer</th>\n",
       "      <th>model</th>\n",
       "      <th>displ</th>\n",
       "      <th>year</th>\n",
       "      <th>cyl</th>\n",
       "      <th>trans</th>\n",
       "      <th>drv</th>\n",
       "      <th>cty</th>\n",
       "      <th>hwy</th>\n",
       "      <th>fl</th>\n",
       "      <th>class</th>\n",
       "    </tr>\n",
       "  </thead>\n",
       "  <tbody>\n",
       "    <tr>\n",
       "      <th>1</th>\n",
       "      <td>audi</td>\n",
       "      <td>a4</td>\n",
       "      <td>1.8</td>\n",
       "      <td>1999</td>\n",
       "      <td>4</td>\n",
       "      <td>auto(l5)</td>\n",
       "      <td>f</td>\n",
       "      <td>18</td>\n",
       "      <td>29</td>\n",
       "      <td>p</td>\n",
       "      <td>compact</td>\n",
       "    </tr>\n",
       "    <tr>\n",
       "      <th>2</th>\n",
       "      <td>audi</td>\n",
       "      <td>a4</td>\n",
       "      <td>1.8</td>\n",
       "      <td>1999</td>\n",
       "      <td>4</td>\n",
       "      <td>manual(m5)</td>\n",
       "      <td>f</td>\n",
       "      <td>21</td>\n",
       "      <td>29</td>\n",
       "      <td>p</td>\n",
       "      <td>compact</td>\n",
       "    </tr>\n",
       "    <tr>\n",
       "      <th>3</th>\n",
       "      <td>audi</td>\n",
       "      <td>a4</td>\n",
       "      <td>2.0</td>\n",
       "      <td>2008</td>\n",
       "      <td>4</td>\n",
       "      <td>manual(m6)</td>\n",
       "      <td>f</td>\n",
       "      <td>20</td>\n",
       "      <td>31</td>\n",
       "      <td>p</td>\n",
       "      <td>compact</td>\n",
       "    </tr>\n",
       "    <tr>\n",
       "      <th>4</th>\n",
       "      <td>audi</td>\n",
       "      <td>a4</td>\n",
       "      <td>2.0</td>\n",
       "      <td>2008</td>\n",
       "      <td>4</td>\n",
       "      <td>auto(av)</td>\n",
       "      <td>f</td>\n",
       "      <td>21</td>\n",
       "      <td>30</td>\n",
       "      <td>p</td>\n",
       "      <td>compact</td>\n",
       "    </tr>\n",
       "    <tr>\n",
       "      <th>5</th>\n",
       "      <td>audi</td>\n",
       "      <td>a4</td>\n",
       "      <td>2.8</td>\n",
       "      <td>1999</td>\n",
       "      <td>6</td>\n",
       "      <td>auto(l5)</td>\n",
       "      <td>f</td>\n",
       "      <td>16</td>\n",
       "      <td>26</td>\n",
       "      <td>p</td>\n",
       "      <td>compact</td>\n",
       "    </tr>\n",
       "  </tbody>\n",
       "</table>\n",
       "</div>"
      ],
      "text/plain": [
       "  manufacturer model  displ  year  cyl       trans drv  cty  hwy fl    class\n",
       "1         audi    a4    1.8  1999    4    auto(l5)   f   18   29  p  compact\n",
       "2         audi    a4    1.8  1999    4  manual(m5)   f   21   29  p  compact\n",
       "3         audi    a4    2.0  2008    4  manual(m6)   f   20   31  p  compact\n",
       "4         audi    a4    2.0  2008    4    auto(av)   f   21   30  p  compact\n",
       "5         audi    a4    2.8  1999    6    auto(l5)   f   16   26  p  compact"
      ]
     },
     "execution_count": 14,
     "metadata": {},
     "output_type": "execute_result"
    }
   ],
   "source": [
    "mpg.head(5)"
   ]
  },
  {
   "cell_type": "markdown",
   "metadata": {},
   "source": [
    "**Questions**:\n",
    "\n",
    "- What is the code to select rows 5 to 10 of `mpg`?\n",
    "- How would you select all rows with a class of 'midsize'?\n",
    "- How would you select all rows with a class of 'midsize' and `hwy` economy of 24 miles per gallon?\n",
    "    - Tips: You can split the answer into multiple steps - first select a smaller DataFrame based on one comparison, then select a smaller version of *that* DataFrame. Another way is to combine the criteria with `&` - but use brackets so that the computer knows the order of operations. i.e. mpg[(comparison1) & (comparison2)]\n",
    "- What is the average city fuel economy for compact cars?\n",
    "   - 16.9\n",
    "   - 28.3\n",
    "   - 23.4\n",
    "   - 20.1\n",
    "- Convert this SQL to the equivalent in Pandas:\n",
    "\n",
    "```sql\n",
    "SELECT model, manufacturer FROM mpg\n",
    "WHERE year > 2005\n",
    "ORDER BY hwy DESC\n",
    "```\n",
    "\n",
    "- Which car had the best city fuel economy in 1999?\n",
    "    - Toyota Corolla\n",
    "    - Nissan Altima\n",
    "    - Volkswagen New Beetle\n",
    "    - Toyota Camry Solara\n",
    "\n",
    "- How many cars have a highway economy that's more than 10 MPG better on highways than in cities?"
   ]
  },
  {
   "cell_type": "markdown",
   "metadata": {},
   "source": [
    "## Split Apply Combine - Initial Questions\n",
    "\n",
    "**Questions**\n",
    "\n",
    "- In plain English, what would I *split* on, and what type of code would I *apply* for the following questions:\n",
    "    - Get the number of cars from each manufacturer.\n",
    "    - Figure out how cylinders affect fuel economy."
   ]
  }
 ],
 "metadata": {
  "kernelspec": {
   "display_name": "Python 3",
   "language": "python",
   "name": "python3"
  },
  "language_info": {
   "codemirror_mode": {
    "name": "ipython",
    "version": 3
   },
   "file_extension": ".py",
   "mimetype": "text/x-python",
   "name": "python",
   "nbconvert_exporter": "python",
   "pygments_lexer": "ipython3",
   "version": "3.6.8"
  }
 },
 "nbformat": 4,
 "nbformat_minor": 2
}
