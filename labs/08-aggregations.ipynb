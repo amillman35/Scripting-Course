{
 "cells": [
  {
   "cell_type": "markdown",
   "metadata": {},
   "source": [
    "# Week 8 Lab: Aggregations\n",
    "\n",
    "This week's questions are focused on aggregations in MongoDB. No other review: but keep practicing your SQL or Pandas in the context of your projects!\n",
    "\n",
    "For references, here are the most notable *stages* of the pipeline:\n",
    "\n",
    "- **\\$match**: Select a subset of data (as you can do with 'find')\n",
    "- **\\$sort**: Order data by the values of a certain key\n",
    "- **\\$group**: Group data based on a key - like 'groupby' in Pandas\n",
    "- **\\$limit**: Trim the number of documents in the dataset\n",
    "- **\\$unwind**: Deconstruct an array, so that there is a document for every value of the array\n",
    "\n",
    "## Dataset 1: Foursquare venues\n",
    "\n",
    "Download [close_venues.json](https://raw.githubusercontent.com/organisciak/Scripting-Course/master/data/close_venues.json). This is a dataset of 50 venues near the University of Denver.\n",
    "\n",
    "### Questions\n",
    "\n",
    "- Create a database named `week8` and a collection named `foursquare`, then load `close_venues.json` into the collection. Share the code. There should be fifty documents."
   ]
  },
  {
   "cell_type": "code",
   "execution_count": 29,
   "metadata": {},
   "outputs": [
    {
     "data": {
      "text/plain": [
       "50"
      ]
     },
     "execution_count": 29,
     "metadata": {},
     "output_type": "execute_result"
    }
   ],
   "source": [
    "collection.count()"
   ]
  },
  {
   "cell_type": "markdown",
   "metadata": {},
   "source": [
    "- What's the venue with a cross-street of 'E Iliff Ave'? Paste the exact name string for auto-grading (e.g. if it says 'name': 'XYZ', enter *XYZ* as the answer)\n",
    "- Which of these results has recieved the most 'tips'?\n",
    "    - 'Daniels College of Business'\n",
    "    - 'Nelson Hall Dining'\n",
    "    - 'Anderson Academic Commons'\n",
    "- Write an aggregation pipeline to answer the above question.\n",
    "- How much do the following categories show up?\n",
    "    - 'College Academic Building'\n",
    "    - 'Bookstore'\n",
    "    - 'College Library'\n",
    "- Write an aggregation pipeline to answer the above question.\n",
    "- What's the average distance for each of these categories, rounding down to the nearest whole number:\n",
    "  - Bagel Shop\n",
    "  - College Administrative Building\n",
    "  - College Academic Building"
   ]
  },
  {
   "cell_type": "markdown",
   "metadata": {},
   "source": [
    "## Dataset 2: Recommended Food in Denver\n",
    "\n",
    "Load [popular_venues.json](Download [close_venues.json](https://raw.githubusercontent.com/organisciak/Scripting-Course/master/data/popular_venues.json). into a new collection. This is a dataset of 50 recommended food venues in Denver."
   ]
  },
  {
   "cell_type": "code",
   "execution_count": 117,
   "metadata": {},
   "outputs": [
    {
     "data": {
      "text/plain": [
       "50"
      ]
     },
     "execution_count": 117,
     "metadata": {},
     "output_type": "execute_result"
    }
   ],
   "source": [
    "collection.count()"
   ]
  },
  {
   "cell_type": "markdown",
   "metadata": {},
   "source": [
    "- In this dataset of popular food places, which of the following categories is best represented?\n",
    "    - 'Breakfast Spot'\n",
    "    - 'Sushi Restaurant'\n",
    "    - 'Burger Joint'\n",
    "- Which restaurant has the highest rating? Paste the exact 'name' string.\n",
    "- Which restaurant has the most categories? Paste the name string.\n",
    "  - Write the aggregation pipeline to get the above answer.\n",
    "- Which restaurant has the most tips in this dataset? (Folding tipCounts from restaurants with multiple locations).\n",
    "- Which 'tip' has the most likes?\n",
    "    - \"Get the Cricket Burger...\"\n",
    "    - \"Voted Best Overall Wine List...\"\n",
    "    - \"The Cinco Burger combines the best of...\"\n",
    "- What's the Male/Female gender split among users providing tips?\n",
    "    - 50/50\n",
    "    - 33/66\n",
    "    - 66/33\n",
    "- Write the code to determine which category of restaurant has the fewest average checkins, focusing only on categories with 3 or more restaurants in this dataset. Tip: the answer to the question is 'Café', with an average of 1258.7 checkins, followed by 'Pizza Place'."
   ]
  }
 ],
 "metadata": {
  "kernelspec": {
   "display_name": "Python 3",
   "language": "python",
   "name": "python3"
  },
  "language_info": {
   "codemirror_mode": {
    "name": "ipython",
    "version": 3
   },
   "file_extension": ".py",
   "mimetype": "text/x-python",
   "name": "python",
   "nbconvert_exporter": "python",
   "pygments_lexer": "ipython3",
   "version": "3.6.4"
  }
 },
 "nbformat": 4,
 "nbformat_minor": 2
}
