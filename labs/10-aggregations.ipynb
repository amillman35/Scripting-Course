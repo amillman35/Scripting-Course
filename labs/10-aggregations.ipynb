{
  "nbformat": 4,
  "nbformat_minor": 0,
  "metadata": {
    "kernelspec": {
      "display_name": "Python 3",
      "language": "python",
      "name": "python3"
    },
    "language_info": {
      "codemirror_mode": {
        "name": "ipython",
        "version": 3
      },
      "file_extension": ".py",
      "mimetype": "text/x-python",
      "name": "python",
      "nbconvert_exporter": "python",
      "pygments_lexer": "ipython3",
      "version": "3.6.7"
    },
    "colab": {
      "name": "10-aggregations.ipynb",
      "provenance": [],
      "collapsed_sections": [],
      "include_colab_link": true
    }
  },
  "cells": [
    {
      "cell_type": "markdown",
      "metadata": {
        "id": "view-in-github",
        "colab_type": "text"
      },
      "source": [
        "<a href=\"https://colab.research.google.com/github/organisciak/Scripting-Course/blob/master/labs/10-aggregations.ipynb\" target=\"_parent\"><img src=\"https://colab.research.google.com/assets/colab-badge.svg\" alt=\"Open In Colab\"/></a>"
      ]
    },
    {
      "cell_type": "markdown",
      "metadata": {
        "id": "xpmr2HdHZdUv",
        "colab_type": "text"
      },
      "source": [
        "# Week 10 Lab: Aggregations\n",
        "\n",
        "*Reminder - save your work. Go to* File > Save a Copy in Drive *to ensure that you have your work saved.*\n",
        "\n",
        "This week's questions are focused on aggregations in MongoDB. No other review: but keep practicing your SQL or Pandas in the context of your projects!\n",
        "\n",
        "For references, here are the most notable *stages* of the pipeline:\n",
        "\n",
        "- **\\$match**: Select a subset of data (as you can do with 'find')\n",
        "- **\\$sort**: Order data by the values of a certain key\n",
        "- **\\$group**: Group data based on a key - like 'groupby' in Pandas\n",
        "- **\\$limit**: Trim the number of documents in the dataset\n",
        "- **\\$unwind**: Deconstruct an array, so that there is a document for every value of the array\n",
        "\n",
        "## Dataset 1: Foursquare venues\n",
        "\n",
        "We'll be working with a dataset of 50 venues near the University of Denver. The file is [close_venues.json](https://raw.githubusercontent.com/organisciak/Scripting-Course/master/data/close_venues.json). Dr. O has already put it into MongoDB in a database called `week10` and a collection named `foursquare`."
      ]
    },
    {
      "cell_type": "code",
      "metadata": {
        "id": "12q149SBgmih",
        "colab_type": "code",
        "colab": {
          "base_uri": "https://localhost:8080/",
          "height": 56
        },
        "cellView": "form",
        "outputId": "21c526b3-f34c-4b85-83ae-b4402c9e10b7"
      },
      "source": [
        "#@title Connect to a MongoDB database\n",
        "#@markdown This cell connects to a remote MongoDB instance.\n",
        "#@markdown The database is set to a variable `db` - write the\n",
        "#@markdown code to set a `collection` variable that points to the \n",
        "#@markdown collection named \"week10\"\n",
        "!pip install dnspython\n",
        "from urllib.parse import quote_plus\n",
        "from pymongo import MongoClient\n",
        "import os\n",
        "from getpass import getpass\n",
        "\n",
        "if os.path.exists('credentials.txt'):\n",
        "    # Allow loading credentials for user, pw, url, one per line\n",
        "    with open('credentials.txt', mode='r') as f:\n",
        "        user, mongopw, cluster_url = [l.strip() for l in f.readlines()]\n",
        "else:\n",
        "    user = \"scriptingStudent\" #@param {type:\"string\"}\n",
        "    cluster_url = \"cluster0-ga5s0.mongodb.net\" #@param {type:\"string\"}\n",
        "    mongopw = getpass('Enter your MongoDB password for \"{}\":\\n'.format(user))\n",
        "    with open('credentials.txt', mode='w') as f:\n",
        "        f.write(\"{}\\n{}\\n{}\".format(user, mongopw, cluster_url))\n",
        "\n",
        "client = MongoClient(\"mongodb+srv://{}:{}@{}/test?retryWrites=true&w=majority\".format(quote_plus(user), quote_plus(mongopw), cluster_url))\n",
        "db = client.week10"
      ],
      "execution_count": 4,
      "outputs": [
        {
          "output_type": "stream",
          "text": [
            "Requirement already satisfied: dnspython in /usr/local/lib/python3.6/dist-packages (1.16.0)\n"
          ],
          "name": "stdout"
        }
      ]
    },
    {
      "cell_type": "code",
      "metadata": {
        "id": "fdIgBKVXo-Cv",
        "colab_type": "code",
        "colab": {}
      },
      "source": [
        ""
      ],
      "execution_count": 0,
      "outputs": []
    },
    {
      "cell_type": "code",
      "metadata": {
        "id": "4c9fc_oTZdUw",
        "colab_type": "code",
        "outputId": "fec7cc3c-6edf-4be4-f5a0-8578c579ba1d",
        "colab": {
          "base_uri": "https://localhost:8080/",
          "height": 93
        }
      },
      "source": [
        "collection.count()"
      ],
      "execution_count": 10,
      "outputs": [
        {
          "output_type": "stream",
          "text": [
            "/usr/local/lib/python3.6/dist-packages/ipykernel_launcher.py:1: DeprecationWarning: count is deprecated. Use estimated_document_count or count_documents instead. Please note that $where must be replaced by $expr, $near must be replaced by $geoWithin with $center, and $nearSphere must be replaced by $geoWithin with $centerSphere\n",
            "  \"\"\"Entry point for launching an IPython kernel.\n"
          ],
          "name": "stderr"
        },
        {
          "output_type": "execute_result",
          "data": {
            "text/plain": [
              "50"
            ]
          },
          "metadata": {
            "tags": []
          },
          "execution_count": 10
        }
      ]
    },
    {
      "cell_type": "markdown",
      "metadata": {
        "id": "uAyMMtflZdU1",
        "colab_type": "text"
      },
      "source": [
        "**Q1)** What's the venue with a cross-street of 'E Iliff Ave'? Remember that nested object keys can be referred to using `.`, like `key.subkey`. Paste the exact name string for auto-grading (e.g. if it says 'name': 'XYZ', enter *XYZ* as the answer)  (*6pts*)"
      ]
    },
    {
      "cell_type": "code",
      "metadata": {
        "id": "ahmmP0BMqq2W",
        "colab_type": "code",
        "colab": {}
      },
      "source": [
        ""
      ],
      "execution_count": 0,
      "outputs": []
    },
    {
      "cell_type": "code",
      "metadata": {
        "id": "Cl1z1DqzYbQl",
        "colab_type": "code",
        "colab": {},
        "cellView": "form"
      },
      "source": [
        "q1_answer = \"\" #@param {type:'string'}"
      ],
      "execution_count": 0,
      "outputs": []
    },
    {
      "cell_type": "markdown",
      "metadata": {
        "id": "uQa-fyBOane2",
        "colab_type": "text"
      },
      "source": [
        "**Q2)** Which of these results has recieved the most 'tips'?  (*5pts*)\n",
        "\n",
        "*   A) 'Daniels College of Business'\n",
        "*   B) 'Nelson Hall Dining'\n",
        "*   C) 'Anderson Academic Commons'\n",
        "\n"
      ]
    },
    {
      "cell_type": "code",
      "metadata": {
        "colab_type": "code",
        "cellView": "form",
        "id": "Wdu6-EPkdg16",
        "colab": {}
      },
      "source": [
        "q2_answer = \"A) 'Daniels College of Business'\" #@param [\"A) 'Daniels College of Business'\", \"B) 'Nelson Hall Dining'\", \"C) 'Anderson Academic Commons'\"]\n",
        "variable_name = \"A) 'Daniels College of Business'\""
      ],
      "execution_count": 0,
      "outputs": []
    },
    {
      "cell_type": "markdown",
      "metadata": {
        "id": "WNHAv9yXatmu",
        "colab_type": "text"
      },
      "source": [
        "**Q3)** Write an aggregation pipeline to answer the above question. (*8pts*)"
      ]
    },
    {
      "cell_type": "code",
      "metadata": {
        "colab_type": "code",
        "id": "6QL2s_PCdVwQ",
        "colab": {}
      },
      "source": [
        "# Answer-Q3 (Write your answer here)\n"
      ],
      "execution_count": 0,
      "outputs": []
    },
    {
      "cell_type": "markdown",
      "metadata": {
        "id": "dPV79sbvbVex",
        "colab_type": "text"
      },
      "source": [
        "**Q4)** How much do the following categories show up?  (*5pts*)\n",
        "\n",
        "*   'College Academic Building'\n",
        "*   'Bookstore'\n",
        "*   'College Library'\n",
        "\n"
      ]
    },
    {
      "cell_type": "code",
      "metadata": {
        "id": "tVlRwEtkV2Jh",
        "colab_type": "code",
        "cellView": "form",
        "colab": {}
      },
      "source": [
        "College Academic Building = \"\" #@param {type:\"string\"}"
      ],
      "execution_count": 0,
      "outputs": []
    },
    {
      "cell_type": "code",
      "metadata": {
        "colab_type": "code",
        "cellView": "form",
        "id": "D28LZWodcolc",
        "colab": {}
      },
      "source": [
        "Bookstore = \"\" #@param {type:\"string\"}"
      ],
      "execution_count": 0,
      "outputs": []
    },
    {
      "cell_type": "code",
      "metadata": {
        "colab_type": "code",
        "cellView": "form",
        "id": "hGA4-kxVcoo3",
        "colab": {}
      },
      "source": [
        "College Library = \"\" #@param {type:\"string\"}"
      ],
      "execution_count": 0,
      "outputs": []
    },
    {
      "cell_type": "markdown",
      "metadata": {
        "id": "46K-ijoibWOX",
        "colab_type": "text"
      },
      "source": [
        "**Q5)** Write an aggregation pipeline to answer the above question.  (*8pts*)"
      ]
    },
    {
      "cell_type": "code",
      "metadata": {
        "colab_type": "code",
        "id": "Qv_Et4Z6eIXw",
        "colab": {}
      },
      "source": [
        "# Answer-Q5 (Write your answer here)\n"
      ],
      "execution_count": 0,
      "outputs": []
    },
    {
      "cell_type": "markdown",
      "metadata": {
        "id": "oI8h2vbMbWZ-",
        "colab_type": "text"
      },
      "source": [
        "**Q6)** What's the average distance for each of these categories, rounding down to the nearest whole number:  (*8pts*)\n",
        "  - Bagel Shop\n",
        "  - College Administrative Building\n",
        "  - College Academic Building"
      ]
    },
    {
      "cell_type": "code",
      "metadata": {
        "colab_type": "code",
        "cellView": "form",
        "id": "azI0zj9jeOHO",
        "colab": {}
      },
      "source": [
        "Bagel Shop = \"\" #@param {type:\"string\"}"
      ],
      "execution_count": 0,
      "outputs": []
    },
    {
      "cell_type": "code",
      "metadata": {
        "colab_type": "code",
        "cellView": "form",
        "id": "lRo2dISWeOJ7",
        "colab": {}
      },
      "source": [
        "College Administration Building = \"\" #@param {type:\"string\"}"
      ],
      "execution_count": 0,
      "outputs": []
    },
    {
      "cell_type": "code",
      "metadata": {
        "colab_type": "code",
        "cellView": "form",
        "id": "835YpB8teOL7",
        "colab": {}
      },
      "source": [
        "College Academic Building = \"\" #@param {type:\"string\"}"
      ],
      "execution_count": 0,
      "outputs": []
    },
    {
      "cell_type": "markdown",
      "metadata": {
        "id": "z_8az2_ZZdU3",
        "colab_type": "text"
      },
      "source": [
        "## Dataset 2: Recommended Food in Denver\n",
        "\n",
        "Our second dataset has 50 recommended food venues and is in a collection called `popular`. The original data is [popular_venues.json](https://raw.githubusercontent.com/organisciak/Scripting-Course/master/data/popular_venues.json)."
      ]
    },
    {
      "cell_type": "code",
      "metadata": {
        "id": "Ok6CyLiHrPXV",
        "colab_type": "code",
        "colab": {}
      },
      "source": [
        "with open('popular_venues.json') as f:\n",
        "    data2 = json.load(f)"
      ],
      "execution_count": 0,
      "outputs": []
    },
    {
      "cell_type": "code",
      "metadata": {
        "id": "wKgVEFo0ZdU4",
        "colab_type": "code",
        "outputId": "e5d115d8-b4fe-4660-bfa7-8457e6e9709a",
        "colab": {}
      },
      "source": [
        "collection.count()"
      ],
      "execution_count": 0,
      "outputs": [
        {
          "output_type": "execute_result",
          "data": {
            "text/plain": [
              "50"
            ]
          },
          "metadata": {
            "tags": []
          },
          "execution_count": 117
        }
      ]
    },
    {
      "cell_type": "markdown",
      "metadata": {
        "id": "aj7OskEJZdU7",
        "colab_type": "text"
      },
      "source": [
        "**Q7)** In this dataset of popular food places, which of the following categories is best represented?  (*7pts*)\n",
        "\n",
        "*   A) 'Breakfast Spot'\n",
        "*   B) 'Sushi Restaurant'\n",
        "*   C) Burger Joint'"
      ]
    },
    {
      "cell_type": "code",
      "metadata": {
        "colab_type": "code",
        "cellView": "form",
        "id": "CxVIIBu_hFxQ",
        "colab": {}
      },
      "source": [
        "q7_answer = \"A) 'Breakfast Spot'\" #@param [\"A) 'Breakfast Spot'\", \"B) 'Sushi Restaurant'\", \"C) 'Burger Joint'\"]\n",
        "variable_name = \"A) 'Daniels College of Business'\""
      ],
      "execution_count": 0,
      "outputs": []
    },
    {
      "cell_type": "markdown",
      "metadata": {
        "id": "oleT9oFEgfY1",
        "colab_type": "text"
      },
      "source": [
        "**Q8** Which restaurant has the highest rating? Paste the exact 'name' string.  (*5pts*)"
      ]
    },
    {
      "cell_type": "code",
      "metadata": {
        "colab_type": "code",
        "cellView": "form",
        "id": "GRHIi6FlhipF",
        "colab": {}
      },
      "source": [
        "q8_answer = \"\" #@param {type:\"string\"}"
      ],
      "execution_count": 0,
      "outputs": []
    },
    {
      "cell_type": "markdown",
      "metadata": {
        "id": "HwKvQ1SfgaQv",
        "colab_type": "text"
      },
      "source": [
        "**Q9)** Which restaurant has the most categories? Paste the name string.  (*5pts*)"
      ]
    },
    {
      "cell_type": "code",
      "metadata": {
        "colab_type": "code",
        "cellView": "form",
        "id": "Bg5Yy47MhtpA",
        "colab": {}
      },
      "source": [
        "q9_answer = \"\" #@param {type:\"string\"}"
      ],
      "execution_count": 0,
      "outputs": []
    },
    {
      "cell_type": "markdown",
      "metadata": {
        "id": "cPZE8UNMgVWU",
        "colab_type": "text"
      },
      "source": [
        "**Q10)** Write the aggregation pipeline to get the above answer.  (*8pts*)"
      ]
    },
    {
      "cell_type": "code",
      "metadata": {
        "colab_type": "code",
        "id": "hV8VxaaEhxvR",
        "colab": {}
      },
      "source": [
        "# Answer-Q10 (Write your answer here)\n"
      ],
      "execution_count": 0,
      "outputs": []
    },
    {
      "cell_type": "markdown",
      "metadata": {
        "id": "NTSbg9uNgOvG",
        "colab_type": "text"
      },
      "source": [
        "**Q11)** Which restaurant has the most tips in this dataset? (Folding tipCounts from restaurants with multiple locations).  (*7pts*)"
      ]
    },
    {
      "cell_type": "code",
      "metadata": {
        "colab_type": "code",
        "cellView": "form",
        "id": "7lUKrm6lh0ib",
        "colab": {}
      },
      "source": [
        "q11_answer = \"\" #@param {type:\"string\"}"
      ],
      "execution_count": 0,
      "outputs": []
    },
    {
      "cell_type": "markdown",
      "metadata": {
        "id": "8tRynxE_gMXt",
        "colab_type": "text"
      },
      "source": [
        "**Q12)** Which 'tip' has the most likes?  (*7pts*)\n",
        "\n",
        "*   A) \"Get the Cricket Burger...\"\n",
        "*   B) \"Voted Best Overall Wine List...\"\n",
        "*   C) \"The Cinco Burger combines the best of...\""
      ]
    },
    {
      "cell_type": "code",
      "metadata": {
        "colab_type": "code",
        "cellView": "form",
        "id": "Ps5AdD98gxWN",
        "colab": {}
      },
      "source": [
        "q12_answer = \"A) \\\"Get the Cricket Burger...\\\"\" #@param [\"A) \\\"Get the Cricket Burger...\\\"\", \"B)Voted Best Overall Wine List\\\"\", \"C) \\\"The Cinco Burger combines the best of...\\\"\"]\n",
        "variable_name = \"A) 'Daniels College of Business'\""
      ],
      "execution_count": 0,
      "outputs": []
    },
    {
      "cell_type": "markdown",
      "metadata": {
        "id": "YZlq5qjJgCaX",
        "colab_type": "text"
      },
      "source": [
        "**Q13)** What's the Male/Female gender split among users providing tips?  (*6pts*)\n",
        "\n",
        "*  A) 50/50\n",
        "*  B) 33/66\n",
        "*  C) 66/33"
      ]
    },
    {
      "cell_type": "code",
      "metadata": {
        "colab_type": "code",
        "cellView": "form",
        "id": "bsoL60ePgjzT",
        "colab": {}
      },
      "source": [
        "q13_answer = \"A) 50/50\" #@param [\"A) 50/50\", \"B) 33/66\", \"C) 66/33\"]\n",
        "variable_name = \"A) 'Daniels College of Business'\""
      ],
      "execution_count": 0,
      "outputs": []
    },
    {
      "cell_type": "markdown",
      "metadata": {
        "id": "IGcnatFzf9Iq",
        "colab_type": "text"
      },
      "source": [
        "**Q14)** Write the code to determine which category of restaurant has the fewest average checkins, focusing only on categories with 3 or more restaurants in this dataset. Tip: the answer to the question is 'Café', with an average of 1258.7 checkins, followed by 'Pizza Place'. (*15pts*)"
      ]
    },
    {
      "cell_type": "code",
      "metadata": {
        "colab_type": "code",
        "id": "hdGnUfMqh5Ka",
        "colab": {}
      },
      "source": [
        "# Answer-Q14 (Write your answer here)\n"
      ],
      "execution_count": 0,
      "outputs": []
    },
    {
      "cell_type": "markdown",
      "metadata": {
        "id": "DMeFdL1XVl4y",
        "colab_type": "text"
      },
      "source": [
        "# Submission Instructions"
      ]
    },
    {
      "cell_type": "code",
      "metadata": {
        "id": "4QvQhFVlTyWy",
        "colab_type": "code",
        "cellView": "form",
        "colab": {}
      },
      "source": [
        "#@markdown ### First, Enter your name for grading\n",
        "my_name = \"\" #@param { type:'string' }\n",
        "\n",
        "#@markdown _Have you saved your work for yourself? Don't forget to Save a Copy in Drive so that you have your progress._"
      ],
      "execution_count": 0,
      "outputs": []
    },
    {
      "cell_type": "code",
      "metadata": {
        "id": "Q6ku7nibRp4O",
        "colab_type": "code",
        "cellView": "form",
        "colab": {}
      },
      "source": [
        "#@markdown ### Second, check your work:\n",
        "\n",
        "#@markdown - have you answered all the questions?\n",
        "#@markdown     - Some answers can be checked automatically - just run this cell.\n",
        "#@markdown - Does this notebook run from top to bottom?\n",
        "#@markdown     - Go to \"Runtime > Restart and run all...\" to check. Do all the cells run, to the very bottom, or is there a cell in the middle with an error?\n",
        "#@markdown - Have you completed all the answers where you entered code, keeping the `# Answer-Qx` line at the start of those cells?\n",
        "\n",
        "#@markdown *A lab that the professor has to fix manually will lose 10pts - run the checks!*\n",
        "\n",
        "lab1 = dict(\n",
        "    q1 = dict(entrytype='cell', pts=5),\n",
        "    q2 = dict(entrytype='var', pts=5),\n",
        "    q3 = dict(entrytype='cell', pts=5),\n",
        "    q4a = dict(entrytype='var', pts=5),\n",
        "    q4b = dict(entrytype='var', pts=5),\n",
        "    q4c = dict(entrytype='var', pts=10),\n",
        "    q5 = dict(entrytype='var', pts=5),\n",
        "    q6 = dict(entrytype='cell', pts=5),\n",
        "    q7 = dict(entrytype='cell', pts=5),\n",
        "    q8a = dict(entrytype='var', pts=4),\n",
        "    q8b = dict(entrytype='var', pts=4),\n",
        "    q8c = dict(entrytype='var', pts=4),\n",
        "    q9a = dict(entrytype='var', pts=4),\n",
        "    q9b = dict(entrytype='var', pts=4),\n",
        "    q10 = dict(entrytype='var', pts=8),\n",
        "    q11 = dict(entrytype='var', pts=7),\n",
        "    q12 = dict(entrytype='var', pts=5),\n",
        "    q13 = dict(entrytype='cell', pts=10),\n",
        ")\n",
        "var_qs = [k for k,v in lab1.items() if v['entrytype'] == 'var']\n",
        "for q in var_qs:\n",
        "  qvar = '{}_answer'.format(q) \n",
        "assert(qvar) in globals(), \"I don't see '{}' - did you run the cell where you ran it?\".format(qvar)\n",
        "answer = globals()[qvar]\n",
        "assert answer != \"\", \"{} is blank - did you mean to do that?\".format(qvar)\n",
        "print(\"Good work. The ones that I can pre-check look correct.\")\n",
        "\n",
        "#@markdown ### Finally, submit it\n",
        "\n",
        "#@markdown - Download the file with \"File > Download .ipynb\" and submit it to the Canvas assignment page."
      ],
      "execution_count": 0,
      "outputs": []
    }
  ]
}