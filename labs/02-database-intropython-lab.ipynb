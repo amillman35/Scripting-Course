{
 "cells": [
  {
   "cell_type": "markdown",
   "metadata": {},
   "source": [
    "# Lab Part 1: SQLite\n",
    "\n",
    "For this portion of the lab, we won't use Python. Instead, we'll work directly with SQLite.\n",
    "\n",
    "There are two ways to work with SQLite. You can either\n",
    "\n",
    "**Option 1: In a Jupyter Notebook**\n",
    "\n",
    "1. In a code cell of a notebook, run the following code:"
   ]
  },
  {
   "cell_type": "code",
   "execution_count": null,
   "metadata": {},
   "outputs": [],
   "source": [
    "!pip install ipython-sql\n",
    "%load_ext sql\n",
    "%sql sqlite://"
   ]
  },
  {
   "cell_type": "markdown",
   "metadata": {},
   "source": [
    "That installs a special command to connect to SQLite, loads it, and connects to a temporary database.\n",
    "\n",
    "Now, if you have `%%sql` at the start of a code cell, it will run SQL in your connected database.\n",
    "\n",
    "_Now that it's installed, you won't have to run the first line (install) again, just load and connect._\n",
    "\n",
    "*Tip*: If you don't want your DB to be temporary, you can give it a name when you connect, like this: `%sql sqlite:///name.db`."
   ]
  },
  {
   "cell_type": "markdown",
   "metadata": {},
   "source": [
    "**Option 2: Command Line**\n",
    "\n",
    "1. Open a command line.\n",
    "    - *Windows*: Open ‘Command Prompt’ from the Start Menu and type: `activate`.\n",
    "    - *Mac OS/Linux*: Open ‘Terminal’ from Applications and type `source activate`.\n",
    "2. Type `sqlite3` and press enter.\n",
    "\n",
    "![](../images/sqlite-start.png)"
   ]
  },
  {
   "cell_type": "markdown",
   "metadata": {},
   "source": [
    "## Create a Table, Insert Data, and Select in SQLite"
   ]
  },
  {
   "cell_type": "markdown",
   "metadata": {},
   "source": [
    "Here is a small dataset of British cotton workers in 1886, and their average wage:\n",
    "\n",
    "| worker | num_workers |\twage |\n",
    "|------------------------------|\n",
    "|Big piecer|\t5902|\t233.59|\n",
    "|Engineman|\t909|\t388.47|\n",
    "|Foreman\t|2883|\t466.54|\n",
    "|Grinders|\t1983|\t399.9|\n",
    "|Labourer|\t208|\t269.73|\n",
    "|Mechanic|\t669|\t440.82|\n",
    "|Others\t|2966|\t311.64|\n",
    "|Sizer\t|597|\t469.62|\n",
    "|Spinner\t|6951|\t408.97|\n",
    "|Twister|\t865|\t357.2|\n",
    "\n",
    "Let's consider how to put this into a database. First, you need to CREATE TABLE, then INSERT records."
   ]
  },
  {
   "cell_type": "code",
   "execution_count": 2,
   "metadata": {},
   "outputs": [
    {
     "name": "stdout",
     "output_type": "stream",
     "text": [
      "Done.\n"
     ]
    },
    {
     "data": {
      "text/plain": [
       "[]"
      ]
     },
     "execution_count": 2,
     "metadata": {},
     "output_type": "execute_result"
    }
   ],
   "source": [
    "%%sql\n",
    "CREATE TABLE worker_wages (role, num_workers, wage);"
   ]
  },
  {
   "cell_type": "markdown",
   "metadata": {},
   "source": [
    "If running on the command line, don't include the `%%sql` part.\n",
    "\n",
    "Now, insert the data:"
   ]
  },
  {
   "cell_type": "code",
   "execution_count": 3,
   "metadata": {},
   "outputs": [
    {
     "name": "stdout",
     "output_type": "stream",
     "text": [
      "10 rows affected.\n"
     ]
    },
    {
     "data": {
      "text/plain": [
       "[]"
      ]
     },
     "execution_count": 3,
     "metadata": {},
     "output_type": "execute_result"
    }
   ],
   "source": [
    "%%sql\n",
    "INSERT INTO worker_wages VALUES\n",
    "    ('Big piecer', 5902, 233.59),\n",
    "    ('Engineman', 909, 388.47),\n",
    "    ('Foreman', 2883, 466.54),\n",
    "    ('Grinders', 1983, 399.9),\n",
    "    ('Labourer', 208, 269.73),\n",
    "    ('Mechanic', 669, 440.82),\n",
    "    ('Others', 2966, 311.64),\n",
    "    ('Sizer', 597, 469.62),\n",
    "    ('Spinner', 6951, 408.97),\n",
    "    ('Twister', 865, 357.2);"
   ]
  },
  {
   "cell_type": "markdown",
   "metadata": {},
   "source": [
    "Hopefully it's in: let's check:"
   ]
  },
  {
   "cell_type": "code",
   "execution_count": 4,
   "metadata": {
    "scrolled": true
   },
   "outputs": [
    {
     "name": "stdout",
     "output_type": "stream",
     "text": [
      "Done.\n"
     ]
    },
    {
     "data": {
      "text/html": [
       "<table>\n",
       "    <tr>\n",
       "        <th>role</th>\n",
       "        <th>num_workers</th>\n",
       "        <th>wage</th>\n",
       "    </tr>\n",
       "    <tr>\n",
       "        <td>Big piecer</td>\n",
       "        <td>5902</td>\n",
       "        <td>233.59</td>\n",
       "    </tr>\n",
       "    <tr>\n",
       "        <td>Engineman</td>\n",
       "        <td>909</td>\n",
       "        <td>388.47</td>\n",
       "    </tr>\n",
       "    <tr>\n",
       "        <td>Foreman</td>\n",
       "        <td>2883</td>\n",
       "        <td>466.54</td>\n",
       "    </tr>\n",
       "    <tr>\n",
       "        <td>Grinders</td>\n",
       "        <td>1983</td>\n",
       "        <td>399.9</td>\n",
       "    </tr>\n",
       "    <tr>\n",
       "        <td>Labourer</td>\n",
       "        <td>208</td>\n",
       "        <td>269.73</td>\n",
       "    </tr>\n",
       "    <tr>\n",
       "        <td>Mechanic</td>\n",
       "        <td>669</td>\n",
       "        <td>440.82</td>\n",
       "    </tr>\n",
       "    <tr>\n",
       "        <td>Others</td>\n",
       "        <td>2966</td>\n",
       "        <td>311.64</td>\n",
       "    </tr>\n",
       "    <tr>\n",
       "        <td>Sizer</td>\n",
       "        <td>597</td>\n",
       "        <td>469.62</td>\n",
       "    </tr>\n",
       "    <tr>\n",
       "        <td>Spinner</td>\n",
       "        <td>6951</td>\n",
       "        <td>408.97</td>\n",
       "    </tr>\n",
       "    <tr>\n",
       "        <td>Twister</td>\n",
       "        <td>865</td>\n",
       "        <td>357.2</td>\n",
       "    </tr>\n",
       "</table>"
      ],
      "text/plain": [
       "[('Big piecer', 5902, 233.59),\n",
       " ('Engineman', 909, 388.47),\n",
       " ('Foreman', 2883, 466.54),\n",
       " ('Grinders', 1983, 399.9),\n",
       " ('Labourer', 208, 269.73),\n",
       " ('Mechanic', 669, 440.82),\n",
       " ('Others', 2966, 311.64),\n",
       " ('Sizer', 597, 469.62),\n",
       " ('Spinner', 6951, 408.97),\n",
       " ('Twister', 865, 357.2)]"
      ]
     },
     "execution_count": 4,
     "metadata": {},
     "output_type": "execute_result"
    }
   ],
   "source": [
    "%%sql\n",
    "SELECT * FROM worker_wages;"
   ]
  },
  {
   "cell_type": "markdown",
   "metadata": {},
   "source": [
    "It's in! Let's look for wages under 350:"
   ]
  },
  {
   "cell_type": "code",
   "execution_count": 5,
   "metadata": {},
   "outputs": [
    {
     "name": "stdout",
     "output_type": "stream",
     "text": [
      "Done.\n"
     ]
    },
    {
     "data": {
      "text/html": [
       "<table>\n",
       "    <tr>\n",
       "        <th>role</th>\n",
       "        <th>num_workers</th>\n",
       "        <th>wage</th>\n",
       "    </tr>\n",
       "    <tr>\n",
       "        <td>Big piecer</td>\n",
       "        <td>5902</td>\n",
       "        <td>233.59</td>\n",
       "    </tr>\n",
       "    <tr>\n",
       "        <td>Labourer</td>\n",
       "        <td>208</td>\n",
       "        <td>269.73</td>\n",
       "    </tr>\n",
       "    <tr>\n",
       "        <td>Others</td>\n",
       "        <td>2966</td>\n",
       "        <td>311.64</td>\n",
       "    </tr>\n",
       "</table>"
      ],
      "text/plain": [
       "[('Big piecer', 5902, 233.59),\n",
       " ('Labourer', 208, 269.73),\n",
       " ('Others', 2966, 311.64)]"
      ]
     },
     "execution_count": 5,
     "metadata": {},
     "output_type": "execute_result"
    }
   ],
   "source": [
    "%%sql\n",
    "SELECT * FROM worker_wages WHERE wage < 350;"
   ]
  },
  {
   "cell_type": "markdown",
   "metadata": {},
   "source": [
    "You can use `AND` to combine `WHERE` clauses. E.g. Workers that number over 1000, which make over 300£. "
   ]
  },
  {
   "cell_type": "code",
   "execution_count": 6,
   "metadata": {},
   "outputs": [
    {
     "name": "stdout",
     "output_type": "stream",
     "text": [
      "Done.\n"
     ]
    },
    {
     "data": {
      "text/html": [
       "<table>\n",
       "    <tr>\n",
       "        <th>role</th>\n",
       "        <th>num_workers</th>\n",
       "        <th>wage</th>\n",
       "    </tr>\n",
       "    <tr>\n",
       "        <td>Foreman</td>\n",
       "        <td>2883</td>\n",
       "        <td>466.54</td>\n",
       "    </tr>\n",
       "    <tr>\n",
       "        <td>Grinders</td>\n",
       "        <td>1983</td>\n",
       "        <td>399.9</td>\n",
       "    </tr>\n",
       "    <tr>\n",
       "        <td>Others</td>\n",
       "        <td>2966</td>\n",
       "        <td>311.64</td>\n",
       "    </tr>\n",
       "    <tr>\n",
       "        <td>Spinner</td>\n",
       "        <td>6951</td>\n",
       "        <td>408.97</td>\n",
       "    </tr>\n",
       "</table>"
      ],
      "text/plain": [
       "[('Foreman', 2883, 466.54),\n",
       " ('Grinders', 1983, 399.9),\n",
       " ('Others', 2966, 311.64),\n",
       " ('Spinner', 6951, 408.97)]"
      ]
     },
     "execution_count": 6,
     "metadata": {},
     "output_type": "execute_result"
    }
   ],
   "source": [
    "%%sql\n",
    "SELECT * FROM worker_wages WHERE wage > 300 AND num_workers > 1000;"
   ]
  },
  {
   "cell_type": "markdown",
   "metadata": {},
   "source": [
    "One final clause: `DROP TABLE`. If you mess something up, you can always drop the table and start again. Be careful doing this in a real, important database, there is no _UNDO_!"
   ]
  },
  {
   "cell_type": "code",
   "execution_count": 7,
   "metadata": {},
   "outputs": [
    {
     "name": "stdout",
     "output_type": "stream",
     "text": [
      "Done.\n"
     ]
    },
    {
     "data": {
      "text/plain": [
       "[]"
      ]
     },
     "execution_count": 7,
     "metadata": {},
     "output_type": "execute_result"
    }
   ],
   "source": [
    "%%sql\n",
    "DROP TABLE worker_wages;"
   ]
  },
  {
   "cell_type": "markdown",
   "metadata": {},
   "source": [
    "## Exercises\n",
    "\n",
    "**Q**: Write the SQL to add these two rows to the `worker_wages` table:\n",
    "        \n",
    "| worker | num_workers |\twage |\n",
    "|------------------------------|\n",
    "|Drawer |\t375|\t328.98|\n",
    "|Warehouseman|\t1586|\t308.73|"
   ]
  },
  {
   "cell_type": "markdown",
   "metadata": {},
   "source": [
    "**Q**: What's wrong with this SQL?\n",
    "```sql\n",
    "    INSERT INTO worker_wages VALUES (Weaver, 8577, 273.97);\n",
    "```"
   ]
  },
  {
   "cell_type": "markdown",
   "metadata": {},
   "source": [
    "**Q**: Consider the following dataset, of people's heights and weights, as well as their reported heights and weights:\n",
    "\n",
    "![](../images/week2-heights.png)"
   ]
  },
  {
   "cell_type": "markdown",
   "metadata": {},
   "source": [
    "- What's the SQL to create the table for this dataset? Include appropriate data types for the columns.\n",
    "- How would you select:\n",
    "    - The men that say they're taller than 100cm?\n",
    "    - The people that say they're taller than they are?\n",
    "    - The women that overestimate their weight and underestimate their height?\n",
    "    \n",
    "Tips:\n",
    " - Think about what is being compared in the where clause. How many comparisons are needed, connected by an 'AND'? What operators are needed to make those comparisons? What value or variable goes on each side of the operator.\n",
    " - If you want to test it, you add a few dummy rows to test, or import the full dataset. Here's some code to copy and paste - _don't worry about understanding it now_:\n",
    " \n",
    "In a notebook:\n",
    " ```\n",
    " from sqlalchemy import create_engine\n",
    "import pandas as pd\n",
    "data = pd.read_csv('https://vincentarelbundock.github.io/Rdatasets/csv/car/Davis.csv')\n",
    "engine = create_engine('sqlite:///week2.db')\n",
    "data.to_sql('heights', engine, index=False)\n",
    "%sql sqlite:///week2.db\n",
    "```\n",
    "\n",
    "Command line:\n",
    "First, download the [dataset](https://vincentarelbundock.github.io/Rdatasets/csv/car/Davis.csv) to the same folder that your connection is in, then try:\n",
    "\n",
    "```\n",
    ".mode csv\n",
    ".import davis.csv heights\n",
    ".mode list\n",
    "```"
   ]
  },
  {
   "cell_type": "code",
   "execution_count": 110,
   "metadata": {},
   "outputs": [
    {
     "name": "stdout",
     "output_type": "stream",
     "text": [
      "Done.\n"
     ]
    },
    {
     "data": {
      "text/html": [
       "<table>\n",
       "    <tr>\n",
       "        <th>index</th>\n",
       "        <th>Unnamed: 0</th>\n",
       "        <th>sex</th>\n",
       "        <th>weight</th>\n",
       "        <th>height</th>\n",
       "        <th>repwt</th>\n",
       "        <th>repht</th>\n",
       "    </tr>\n",
       "    <tr>\n",
       "        <td>11</td>\n",
       "        <td>12</td>\n",
       "        <td>F</td>\n",
       "        <td>166</td>\n",
       "        <td>57</td>\n",
       "        <td>56.0</td>\n",
       "        <td>163.0</td>\n",
       "    </tr>\n",
       "    <tr>\n",
       "        <td>34</td>\n",
       "        <td>35</td>\n",
       "        <td>F</td>\n",
       "        <td>68</td>\n",
       "        <td>169</td>\n",
       "        <td>63.0</td>\n",
       "        <td>170.0</td>\n",
       "    </tr>\n",
       "    <tr>\n",
       "        <td>82</td>\n",
       "        <td>83</td>\n",
       "        <td>F</td>\n",
       "        <td>53</td>\n",
       "        <td>169</td>\n",
       "        <td>52.0</td>\n",
       "        <td>175.0</td>\n",
       "    </tr>\n",
       "    <tr>\n",
       "        <td>147</td>\n",
       "        <td>148</td>\n",
       "        <td>F</td>\n",
       "        <td>59</td>\n",
       "        <td>157</td>\n",
       "        <td>55.0</td>\n",
       "        <td>158.0</td>\n",
       "    </tr>\n",
       "    <tr>\n",
       "        <td>152</td>\n",
       "        <td>153</td>\n",
       "        <td>F</td>\n",
       "        <td>47</td>\n",
       "        <td>150</td>\n",
       "        <td>45.0</td>\n",
       "        <td>152.0</td>\n",
       "    </tr>\n",
       "</table>"
      ],
      "text/plain": [
       "[(11, 12, 'F', 166, 57, 56.0, 163.0),\n",
       " (34, 35, 'F', 68, 169, 63.0, 170.0),\n",
       " (82, 83, 'F', 53, 169, 52.0, 175.0),\n",
       " (147, 148, 'F', 59, 157, 55.0, 158.0),\n",
       " (152, 153, 'F', 47, 150, 45.0, 152.0)]"
      ]
     },
     "execution_count": 110,
     "metadata": {},
     "output_type": "execute_result"
    }
   ],
   "source": [
    "%%sql\n",
    "SELECT * FROM heights\n",
    "WHERE sex == 'F' \n",
    "    AND weight > repwt\n",
    "    AND height < repht"
   ]
  },
  {
   "cell_type": "markdown",
   "metadata": {},
   "source": [
    "*Q*: Convert the following SQL to plain text:\n",
    "\n",
    "```sql\n",
    "SELECT author,book FROM books\n",
    "    WHERE release_year > 2000\n",
    "        AND sales > 100000\n",
    "        AND author != 'J.K. Rowling'\n",
    "```"
   ]
  },
  {
   "cell_type": "markdown",
   "metadata": {},
   "source": [
    "# Part 2: More Python\n",
    "\n",
    "Today, we're working on more Python basics, as we build toward more our SciPy stack of data science tools."
   ]
  },
  {
   "cell_type": "markdown",
   "metadata": {},
   "source": [
    "## Loops\n",
    "\n",
    "Recall the `list` type, created like this:"
   ]
  },
  {
   "cell_type": "code",
   "execution_count": 48,
   "metadata": {},
   "outputs": [],
   "source": [
    "fruits = ['apple', 'banana', 'strawberry', 'mango']"
   ]
  },
  {
   "cell_type": "markdown",
   "metadata": {},
   "source": [
    "If we wanted to run through each value of the list, we can use a `for` loop.\n",
    "\n",
    "```python\n",
    "for value in last:\n",
    "    do_something\n",
    "```\n",
    "\n",
    "For example:"
   ]
  },
  {
   "cell_type": "code",
   "execution_count": 49,
   "metadata": {},
   "outputs": [
    {
     "name": "stdout",
     "output_type": "stream",
     "text": [
      "apple\n",
      "banana\n",
      "strawberry\n",
      "mango\n"
     ]
    }
   ],
   "source": [
    "for fruit in fruits:\n",
    "    print(fruit)"
   ]
  },
  {
   "cell_type": "markdown",
   "metadata": {},
   "source": [
    "A number of things happened here. Note:\n",
    "\n",
    "- The `for` loop runs four times: once for each value of the list.\n",
    "- At the start of each time the loop is run, a new value of `fruits` is assigned to the temporary variable `fruit`. Essentially, the code above is running the following commands:\n",
    "\n",
    "```python\n",
    "fruit = 'apple'\n",
    "print(fruit)\n",
    "fruit = 'banana'\n",
    "print(fruit)\n",
    "fruit = 'strawberry'\n",
    "print(fruit)\n",
    "fruit = 'mango'\n",
    "print(fruit)\n",
    "```\n",
    "\n",
    "- `print(...)` will print any variable to the screen. The curly braces are necessary.\n",
    "- We use indentation to show that `print(fruit)` is part of the `for` loop. Python will run through all the indented code before moving on. See:"
   ]
  },
  {
   "cell_type": "code",
   "execution_count": 67,
   "metadata": {},
   "outputs": [
    {
     "name": "stdout",
     "output_type": "stream",
     "text": [
      "apple\n",
      "banana\n",
      "strawberry\n",
      "mango\n",
      "this prints after the loop\n"
     ]
    }
   ],
   "source": [
    "for fruit in fruits:\n",
    "    print(fruit)\n",
    "print('this prints after the loop')"
   ]
  },
  {
   "cell_type": "markdown",
   "metadata": {},
   "source": [
    "- There can be multiple lines inside the loop:"
   ]
  },
  {
   "cell_type": "code",
   "execution_count": 74,
   "metadata": {},
   "outputs": [
    {
     "name": "stdout",
     "output_type": "stream",
     "text": [
      "Hello\n",
      "World\n"
     ]
    }
   ],
   "source": [
    "for word in ['hello', 'world']:\n",
    "    x = word.capitalize()\n",
    "    print(x)"
   ]
  },
  {
   "cell_type": "markdown",
   "metadata": {},
   "source": [
    "## New Data Type: boolean\n",
    "\n",
    "The boolean type is simply a `True` or `False` value. Like integers and floating point numbers, you don't need to put quotation marks around `True` or `False`."
   ]
  },
  {
   "cell_type": "code",
   "execution_count": 52,
   "metadata": {},
   "outputs": [
    {
     "data": {
      "text/plain": [
       "True"
      ]
     },
     "execution_count": 52,
     "metadata": {},
     "output_type": "execute_result"
    }
   ],
   "source": [
    "newtype = True\n",
    "newtype"
   ]
  },
  {
   "cell_type": "code",
   "execution_count": 53,
   "metadata": {},
   "outputs": [
    {
     "data": {
      "text/plain": [
       "False"
      ]
     },
     "execution_count": 53,
     "metadata": {},
     "output_type": "execute_result"
    }
   ],
   "source": [
    "newtype = False\n",
    "newtype"
   ]
  },
  {
   "cell_type": "markdown",
   "metadata": {},
   "source": [
    "## Comparisons\n",
    "\n",
    "There are a set of symbols that are used to compare two values. Usually, these return a boolean value: if the comparison statement is `True` or `False`. These are _logical operators_.\n",
    "\n",
    "The most basic operator is for equality, the `==` sign. For example:"
   ]
  },
  {
   "cell_type": "code",
   "execution_count": 54,
   "metadata": {},
   "outputs": [
    {
     "data": {
      "text/plain": [
       "True"
      ]
     },
     "execution_count": 54,
     "metadata": {},
     "output_type": "execute_result"
    }
   ],
   "source": [
    "1 == 1"
   ]
  },
  {
   "cell_type": "code",
   "execution_count": 56,
   "metadata": {},
   "outputs": [
    {
     "data": {
      "text/plain": [
       "True"
      ]
     },
     "execution_count": 56,
     "metadata": {},
     "output_type": "execute_result"
    }
   ],
   "source": [
    "'hello' == 'hello'"
   ]
  },
  {
   "cell_type": "code",
   "execution_count": 57,
   "metadata": {},
   "outputs": [
    {
     "data": {
      "text/plain": [
       "False"
      ]
     },
     "execution_count": 57,
     "metadata": {},
     "output_type": "execute_result"
    }
   ],
   "source": [
    "'hello' == 'world'"
   ]
  },
  {
   "cell_type": "code",
   "execution_count": 58,
   "metadata": {},
   "outputs": [
    {
     "data": {
      "text/plain": [
       "True"
      ]
     },
     "execution_count": 58,
     "metadata": {},
     "output_type": "execute_result"
    }
   ],
   "source": [
    "[1, 2, 3] == [1, 2, 3]"
   ]
  },
  {
   "cell_type": "markdown",
   "metadata": {},
   "source": [
    "Other logical operators include:\n",
    "\n",
    "- `!=` - Not equal\n",
    "- `<` - Less than\n",
    "- `>` - Greater than\n",
    "- `<=` - Less than or equal to\n",
    "- `>-` - Greater than or qual to\n",
    "\n",
    "Each of these is used the same as the equality operator. "
   ]
  },
  {
   "cell_type": "markdown",
   "metadata": {},
   "source": [
    "*Q*: Write a loop that prints the numbers from 1 to 5.\n",
    "\n",
    "*Q*: Set a variable `x` to 0, then write a loop to add the following numbers to it: 1,1,2,3,5,8,13,21.\n",
    "\n",
    "*Q*: True or False:\n",
    "\n",
    "- \"hello\"+\"world\" == \"hello world\"\n",
    "- 2 != 3\n",
    "- 'a' < 'b'\n",
    "\n",
    "*Q*: In Python, are `1` (an integer) and `'1'` (a string) equivalent?\n",
    " - *Q*: What about `1` and `1.0`?\n",
    " \n",
    "*Q*: Functionally, what is the difference between the following two code blocks?\n",
    "\n",
    "_Code A_\n",
    "```\n",
    "s = 'hello world'\n",
    "s == 'hello moon'\n",
    "```\n",
    "\n",
    "_Code B_\n",
    "```\n",
    "s = 'hello world'\n",
    "s = 'hello moon'\n",
    "```\n",
    "\n",
    "*Q*: True or False: A list cannot have another list inside it."
   ]
  },
  {
   "cell_type": "markdown",
   "metadata": {},
   "source": [
    "## Jupyter\n",
    "\n",
    "Hopefully by this week, you are growing more comfortable with starting Jupyter Notebooks and adding/editing cells. Remember that the keyboard shortcuts are invaluable: running a cell with `Ctrl+Enter`, or adding a new cell below with `B` (in command mode).\n",
    "\n",
    "Two tricks to try this week: autocompletion and retrieving documentation.\n",
    "\n",
    "**Autocomplete**\n",
    "\n",
    "If you start typing a known object or function into Jupyter, you can press `TAB` to finish it. This is especially useful for seeing what functions are available."
   ]
  },
  {
   "cell_type": "code",
   "execution_count": 75,
   "metadata": {},
   "outputs": [],
   "source": [
    "test = \"this is a string\""
   ]
  },
  {
   "cell_type": "markdown",
   "metadata": {},
   "source": [
    "Above, I've set a string to `test`. If I type `te` then press tab, it will complete the word. This is especially useful for long variable names that you don't want to keep typing. Note that it only completed because there no other options: in that case, there's a scrollable list of candidates for what you might be looking for.\n",
    "\n",
    "The `test` variable is a string. To see what options there are for acting upon a string, try typing `test.` then press TAB. Magic!\n",
    "\n",
    "![Auto-fill](../images/autofill.png)\n",
    "\n",
    "** Documentation reference **\n",
    "\n",
    "If you want to look up information about a function, you can precede the code running that function with a `?`. For example, if I want to learn how I would use `split()` on `test`, I can type:"
   ]
  },
  {
   "cell_type": "code",
   "execution_count": 77,
   "metadata": {},
   "outputs": [],
   "source": [
    "?test.split()"
   ]
  },
  {
   "cell_type": "markdown",
   "metadata": {},
   "source": [
    "This will open a panel that looks like this in Jupyter:\n",
    "\n",
    "![Info](../images/info.png)\n",
    "\n",
    "The documentation is only as good as what the library is documented, so some libraries might be more or less detailed in this feature.\n",
    "\n",
    "- *Q*: What does `test.isalpha()` do? Paste the documentation string.\n",
    "- *Q*: Strings have access to a function (whose name starts with a `ce`) that will let you change \"HEADING\" to \"====HEADING====\" (that is, padding with `=` to make the string 15 characters wide). What's the code to do that? (tip: this is an auto-fill question!)"
   ]
  },
  {
   "cell_type": "markdown",
   "metadata": {},
   "source": [
    "## Summary\n",
    "\n",
    "- SQLite\n",
    "    - Connecting to a simple database, via notebook (without Python) or command line\n",
    "- SQL\n",
    "    - `CREATE TABLE`\n",
    "    - `DROP TABLE`\n",
    "    - `SELECT`\n",
    "    - `INSERT`\n",
    "    - `WHERE` clause\n",
    "- Python\n",
    "    - Logical Operators\n",
    "        - `==`, `!=`, `<`, `<=`, `>`, `>=`\n",
    "    - `for` loops on arrays\n",
    "    - `print()`\n",
    "    - Tab indentation\n",
    "    - boolean datatype: `True`, `False`\n",
    "- Jupyter\n",
    "    - Auto-complete\n",
    "    - Documentation lookup"
   ]
  }
 ],
 "metadata": {
  "kernelspec": {
   "display_name": "Python 3",
   "language": "python",
   "name": "python3"
  },
  "language_info": {
   "codemirror_mode": {
    "name": "ipython",
    "version": 3
   },
   "file_extension": ".py",
   "mimetype": "text/x-python",
   "name": "python",
   "nbconvert_exporter": "python",
   "pygments_lexer": "ipython3",
   "version": "3.6.4"
  }
 },
 "nbformat": 4,
 "nbformat_minor": 2
}
