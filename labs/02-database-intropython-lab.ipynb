{
  "nbformat": 4,
  "nbformat_minor": 0,
  "metadata": {
    "kernelspec": {
      "display_name": "Python 3",
      "language": "python",
      "name": "python3"
    },
    "language_info": {
      "codemirror_mode": {
        "name": "ipython",
        "version": 3
      },
      "file_extension": ".py",
      "mimetype": "text/x-python",
      "name": "python",
      "nbconvert_exporter": "python",
      "pygments_lexer": "ipython3",
      "version": "3.6.8"
    },
    "colab": {
      "name": "02-database-intropython-lab.ipynb",
      "provenance": [],
      "toc_visible": true
    }
  },
  "cells": [
    {
      "cell_type": "markdown",
      "metadata": {
        "id": "6yVnQAvlTK3y",
        "colab_type": "text"
      },
      "source": [
        "# Lab Part 1: SQLite\n",
        "\n",
        "*Reminder - save your work. Go to* File > Save a Copy in Drive *to ensure that you have your work saved.*\n",
        "\n",
        "For this portion of the lab, we won't use Python. Instead, we'll work directly with SQLite. Luckily, there's a way that we could still use *Colab*.\n",
        "\n",
        "1. To tell a *Colab* notebook that you'd like to talk to SQLite without using Python, run the following code:"
      ]
    },
    {
      "cell_type": "code",
      "metadata": {
        "id": "WDnj_v2fT1YJ",
        "colab_type": "code",
        "outputId": "67229c58-03eb-499a-80c7-4d818f60c8ed",
        "colab": {
          "base_uri": "https://localhost:8080/",
          "height": 35
        }
      },
      "source": [
        "%load_ext sql\n",
        "%sql sqlite://"
      ],
      "execution_count": 2,
      "outputs": [
        {
          "output_type": "execute_result",
          "data": {
            "text/plain": [
              "'Connected: @None'"
            ]
          },
          "metadata": {
            "tags": []
          },
          "execution_count": 2
        }
      ]
    },
    {
      "cell_type": "markdown",
      "metadata": {
        "id": "UD-YEQOaUAPp",
        "colab_type": "text"
      },
      "source": [
        "That activates a special command to connect to SQLite from *Colab*, loads it, and connects to a temporary database.\n",
        "\n",
        "Now, if you have `%%sql` at the start of a code cell, it will run SQL in your connected database.\n",
        "\n",
        "*Tip*: If you don't want your DB to be save in a file, you can give it a name when you connect, like this: `%sql sqlite:///name.db`."
      ]
    },
    {
      "cell_type": "markdown",
      "metadata": {
        "id": "V50MQKmETK38",
        "colab_type": "text"
      },
      "source": [
        "## Create a Table, Insert Data, and Select in SQLite"
      ]
    },
    {
      "cell_type": "markdown",
      "metadata": {
        "id": "oK_59Q2bTK39",
        "colab_type": "text"
      },
      "source": [
        "Here is a small dataset of British cotton workers in 1886, and their average wage:\n",
        "\n",
        "worker | num_workers |\twage\n",
        "-------|---- --------|--------\n",
        "Big piecer |\t5902 |\t233.59\n",
        "Engineman|\t909|\t388.47\n",
        "Foreman\t|2883|\t466.54\n",
        "Grinders|\t1983|\t399.9\n",
        "Labourer|\t208|\t269.73\n",
        "Mechanic|\t669|\t440.82\n",
        "Others\t|2966|\t311.64\n",
        "Sizer\t|597|\t469.62\n",
        "Spinner\t|6951|\t408.97\n",
        "Twister|\t865|\t357.2\n",
        "\n",
        "Let's consider how to put this into a database. First, you need to CREATE TABLE, then INSERT records."
      ]
    },
    {
      "cell_type": "code",
      "metadata": {
        "id": "8FQmKo-wTK3-",
        "colab_type": "code",
        "outputId": "f28f23d1-1f69-4809-b297-0f39bbaa44a1",
        "colab": {
          "base_uri": "https://localhost:8080/",
          "height": 71
        }
      },
      "source": [
        "%%sql\n",
        "CREATE TABLE worker_wages (role, num_workers, wage);"
      ],
      "execution_count": 2,
      "outputs": [
        {
          "output_type": "stream",
          "text": [
            " * sqlite://\n",
            "Done.\n"
          ],
          "name": "stdout"
        },
        {
          "output_type": "execute_result",
          "data": {
            "text/plain": [
              "[]"
            ]
          },
          "metadata": {
            "tags": []
          },
          "execution_count": 2
        }
      ]
    },
    {
      "cell_type": "markdown",
      "metadata": {
        "id": "BHnN76RtTK4L",
        "colab_type": "text"
      },
      "source": [
        "If running on the command line, don't include the `%%sql` part.\n",
        "\n",
        "Now, insert the data:"
      ]
    },
    {
      "cell_type": "code",
      "metadata": {
        "id": "p6rLdwbuTK4M",
        "colab_type": "code",
        "outputId": "b5cda161-0203-4eff-adea-69a5aad77a92",
        "colab": {
          "base_uri": "https://localhost:8080/",
          "height": 71
        }
      },
      "source": [
        "%%sql\n",
        "INSERT INTO worker_wages VALUES\n",
        "    ('Big piecer', 5902, 233.59),\n",
        "    ('Engineman', 909, 388.47),\n",
        "    ('Foreman', 2883, 466.54),\n",
        "    ('Grinders', 1983, 399.9),\n",
        "    ('Labourer', 208, 269.73),\n",
        "    ('Mechanic', 669, 440.82),\n",
        "    ('Others', 2966, 311.64),\n",
        "    ('Sizer', 597, 469.62),\n",
        "    ('Spinner', 6951, 408.97),\n",
        "    ('Twister', 865, 357.2);"
      ],
      "execution_count": 3,
      "outputs": [
        {
          "output_type": "stream",
          "text": [
            " * sqlite://\n",
            "10 rows affected.\n"
          ],
          "name": "stdout"
        },
        {
          "output_type": "execute_result",
          "data": {
            "text/plain": [
              "[]"
            ]
          },
          "metadata": {
            "tags": []
          },
          "execution_count": 3
        }
      ]
    },
    {
      "cell_type": "markdown",
      "metadata": {
        "id": "7DhoFOlFTK4U",
        "colab_type": "text"
      },
      "source": [
        "Hopefully it's in: let's check:"
      ]
    },
    {
      "cell_type": "code",
      "metadata": {
        "scrolled": true,
        "id": "2HjZlqIaTK4W",
        "colab_type": "code",
        "outputId": "2b0b6041-37a3-4d10-b69a-cd8d8b44693f",
        "colab": {
          "base_uri": "https://localhost:8080/",
          "height": 284
        }
      },
      "source": [
        "%%sql\n",
        "SELECT * FROM worker_wages;"
      ],
      "execution_count": 4,
      "outputs": [
        {
          "output_type": "stream",
          "text": [
            " * sqlite://\n",
            "Done.\n"
          ],
          "name": "stdout"
        },
        {
          "output_type": "execute_result",
          "data": {
            "text/html": [
              "<table>\n",
              "    <tr>\n",
              "        <th>role</th>\n",
              "        <th>num_workers</th>\n",
              "        <th>wage</th>\n",
              "    </tr>\n",
              "    <tr>\n",
              "        <td>Big piecer</td>\n",
              "        <td>5902</td>\n",
              "        <td>233.59</td>\n",
              "    </tr>\n",
              "    <tr>\n",
              "        <td>Engineman</td>\n",
              "        <td>909</td>\n",
              "        <td>388.47</td>\n",
              "    </tr>\n",
              "    <tr>\n",
              "        <td>Foreman</td>\n",
              "        <td>2883</td>\n",
              "        <td>466.54</td>\n",
              "    </tr>\n",
              "    <tr>\n",
              "        <td>Grinders</td>\n",
              "        <td>1983</td>\n",
              "        <td>399.9</td>\n",
              "    </tr>\n",
              "    <tr>\n",
              "        <td>Labourer</td>\n",
              "        <td>208</td>\n",
              "        <td>269.73</td>\n",
              "    </tr>\n",
              "    <tr>\n",
              "        <td>Mechanic</td>\n",
              "        <td>669</td>\n",
              "        <td>440.82</td>\n",
              "    </tr>\n",
              "    <tr>\n",
              "        <td>Others</td>\n",
              "        <td>2966</td>\n",
              "        <td>311.64</td>\n",
              "    </tr>\n",
              "    <tr>\n",
              "        <td>Sizer</td>\n",
              "        <td>597</td>\n",
              "        <td>469.62</td>\n",
              "    </tr>\n",
              "    <tr>\n",
              "        <td>Spinner</td>\n",
              "        <td>6951</td>\n",
              "        <td>408.97</td>\n",
              "    </tr>\n",
              "    <tr>\n",
              "        <td>Twister</td>\n",
              "        <td>865</td>\n",
              "        <td>357.2</td>\n",
              "    </tr>\n",
              "</table>"
            ],
            "text/plain": [
              "[('Big piecer', 5902, 233.59),\n",
              " ('Engineman', 909, 388.47),\n",
              " ('Foreman', 2883, 466.54),\n",
              " ('Grinders', 1983, 399.9),\n",
              " ('Labourer', 208, 269.73),\n",
              " ('Mechanic', 669, 440.82),\n",
              " ('Others', 2966, 311.64),\n",
              " ('Sizer', 597, 469.62),\n",
              " ('Spinner', 6951, 408.97),\n",
              " ('Twister', 865, 357.2)]"
            ]
          },
          "metadata": {
            "tags": []
          },
          "execution_count": 4
        }
      ]
    },
    {
      "cell_type": "markdown",
      "metadata": {
        "id": "92_64v8zTK4d",
        "colab_type": "text"
      },
      "source": [
        "It's in! Let's look for wages under 350:"
      ]
    },
    {
      "cell_type": "code",
      "metadata": {
        "id": "5AdK6ckTTK4e",
        "colab_type": "code",
        "outputId": "94151ad1-8239-4695-edc2-07d9afd249ac",
        "colab": {
          "base_uri": "https://localhost:8080/",
          "height": 137
        }
      },
      "source": [
        "%%sql\n",
        "SELECT * FROM worker_wages WHERE wage < 350;"
      ],
      "execution_count": 5,
      "outputs": [
        {
          "output_type": "stream",
          "text": [
            " * sqlite://\n",
            "Done.\n"
          ],
          "name": "stdout"
        },
        {
          "output_type": "execute_result",
          "data": {
            "text/html": [
              "<table>\n",
              "    <tr>\n",
              "        <th>role</th>\n",
              "        <th>num_workers</th>\n",
              "        <th>wage</th>\n",
              "    </tr>\n",
              "    <tr>\n",
              "        <td>Big piecer</td>\n",
              "        <td>5902</td>\n",
              "        <td>233.59</td>\n",
              "    </tr>\n",
              "    <tr>\n",
              "        <td>Labourer</td>\n",
              "        <td>208</td>\n",
              "        <td>269.73</td>\n",
              "    </tr>\n",
              "    <tr>\n",
              "        <td>Others</td>\n",
              "        <td>2966</td>\n",
              "        <td>311.64</td>\n",
              "    </tr>\n",
              "</table>"
            ],
            "text/plain": [
              "[('Big piecer', 5902, 233.59),\n",
              " ('Labourer', 208, 269.73),\n",
              " ('Others', 2966, 311.64)]"
            ]
          },
          "metadata": {
            "tags": []
          },
          "execution_count": 5
        }
      ]
    },
    {
      "cell_type": "markdown",
      "metadata": {
        "id": "wQSE8cQATK4n",
        "colab_type": "text"
      },
      "source": [
        "You can use `AND` to combine `WHERE` clauses. E.g. Workers that number over 1000, which make over 300£. "
      ]
    },
    {
      "cell_type": "code",
      "metadata": {
        "id": "MBYuW-WATK4n",
        "colab_type": "code",
        "outputId": "a9ad3d32-89fa-4959-aff3-889ab1cfddbe",
        "colab": {
          "base_uri": "https://localhost:8080/",
          "height": 160
        }
      },
      "source": [
        "%%sql\n",
        "SELECT * FROM worker_wages WHERE wage > 300 AND num_workers > 1000;"
      ],
      "execution_count": 0,
      "outputs": [
        {
          "output_type": "stream",
          "text": [
            " * sqlite://\n",
            "Done.\n"
          ],
          "name": "stdout"
        },
        {
          "output_type": "execute_result",
          "data": {
            "text/html": [
              "<table>\n",
              "    <tr>\n",
              "        <th>role</th>\n",
              "        <th>num_workers</th>\n",
              "        <th>wage</th>\n",
              "    </tr>\n",
              "    <tr>\n",
              "        <td>Foreman</td>\n",
              "        <td>2883</td>\n",
              "        <td>466.54</td>\n",
              "    </tr>\n",
              "    <tr>\n",
              "        <td>Grinders</td>\n",
              "        <td>1983</td>\n",
              "        <td>399.9</td>\n",
              "    </tr>\n",
              "    <tr>\n",
              "        <td>Others</td>\n",
              "        <td>2966</td>\n",
              "        <td>311.64</td>\n",
              "    </tr>\n",
              "    <tr>\n",
              "        <td>Spinner</td>\n",
              "        <td>6951</td>\n",
              "        <td>408.97</td>\n",
              "    </tr>\n",
              "</table>"
            ],
            "text/plain": [
              "[('Foreman', 2883, 466.54),\n",
              " ('Grinders', 1983, 399.9),\n",
              " ('Others', 2966, 311.64),\n",
              " ('Spinner', 6951, 408.97)]"
            ]
          },
          "metadata": {
            "tags": []
          },
          "execution_count": 9
        }
      ]
    },
    {
      "cell_type": "markdown",
      "metadata": {
        "id": "-SPCaXEyTK4s",
        "colab_type": "text"
      },
      "source": [
        "One final clause: `DROP TABLE`. If you mess something up, you can always drop the table and start again. Be careful doing this in a real, important database, there is no _UNDO_!\n",
        "\n",
        "Here's how you would run `DROP TABLE`:\n",
        "\n",
        "```sql\n",
        "%%sql\n",
        "DROP TABLE worker_wages;\n",
        "```\n",
        "\n",
        "No need to drop it now, since the next exercise question uses the `worker_wages` question."
      ]
    },
    {
      "cell_type": "markdown",
      "metadata": {
        "id": "09AhTGsvTK4z",
        "colab_type": "text"
      },
      "source": [
        "## Exercises\n",
        "\n",
        "**Q1**: *(5pts)* Write the SQL to add these two rows to the `worker_wages` table:\n",
        "        \n",
        "| worker | num_workers |\twage |\n",
        "|--------|-------------|-------|\n",
        "|Drawer |\t375|\t328.98|\n",
        "|Warehouseman|\t1586|\t308.73|"
      ]
    },
    {
      "cell_type": "code",
      "metadata": {
        "id": "l7_D5mhjVeJV",
        "colab_type": "code",
        "colab": {}
      },
      "source": [
        "# Scratchpad / Workspace"
      ],
      "execution_count": 0,
      "outputs": []
    },
    {
      "cell_type": "code",
      "metadata": {
        "id": "e3RlujiIVWxt",
        "colab_type": "code",
        "colab": {}
      },
      "source": [
        "# Answer-Q1 (Write your answer here, but keep this line at the top)"
      ],
      "execution_count": 0,
      "outputs": []
    },
    {
      "cell_type": "code",
      "metadata": {
        "id": "vAr4Ii31ZXO-",
        "colab_type": "code",
        "cellView": "form",
        "colab": {}
      },
      "source": [
        "# Grade check\n",
        "#@markdown *Check your answer*: Run this cell to check if you did Q1 properly\n",
        "sqlresults = %sql SELECT * FROM worker_wages\n",
        "df = sqlresults.DataFrame();\n",
        "for role, num_workers, wage in [('Drawer',  375, 328.98), ('Warehouseman', 1586, 308.73)]:\n",
        "  subset = df[df.role == role]\n",
        "  assert subset.shape[0] > 0, \"I don't see '{}' in the data.\".format(role)\n",
        "  assert subset.shape[0] == 1, ('''I see '{}' more than once. Did you add the\n",
        "  data more than once? (This doesn't affect this question - you probably did\n",
        "   it right, but ran it twice, which is something to look out for. Try\n",
        "   dropping the table and creating it anew).'''.format(role))\n",
        "  assert subset.iloc[-1].num_workers == num_workers, \"Num workers doesn't seem right for {}\".format(role)\n",
        "  assert subset.iloc[-1].wage == wage, \"Num workers doesn't seem right for {}\".format(role)\n",
        "print(\"It works. Good work!\".upper())\n"
      ],
      "execution_count": 0,
      "outputs": []
    },
    {
      "cell_type": "markdown",
      "metadata": {
        "id": "d_SKVZVOTK4z",
        "colab_type": "text"
      },
      "source": [
        "**Q2** *(5pts)*: What's wrong with this SQL?\n",
        "```sql\n",
        "    INSERT INTO worker_wages VALUES (Weaver, 8577, 273.97);\n",
        "```"
      ]
    },
    {
      "cell_type": "code",
      "metadata": {
        "id": "tVlRwEtkV2Jh",
        "colab_type": "code",
        "cellView": "form",
        "colab": {}
      },
      "source": [
        "q2_answer = \"\" #@param {type:\"string\"}"
      ],
      "execution_count": 0,
      "outputs": []
    },
    {
      "cell_type": "markdown",
      "metadata": {
        "id": "Gvcko-4RTK40",
        "colab_type": "text"
      },
      "source": [
        "Consider the following dataset, of people's heights and weights, as well as their reported heights and weights:\n",
        "\n",
        "![](https://github.com/organisciak/Scripting-Course/blob/master/images/week2-heights.png?raw=1)"
      ]
    },
    {
      "cell_type": "markdown",
      "metadata": {
        "id": "4GS6qQ-aTK41",
        "colab_type": "text"
      },
      "source": [
        "- __Q3__ *(5pts)*: What's the SQL to create the table for this dataset? Include appropriate data types for the columns and call it 'heights'."
      ]
    },
    {
      "cell_type": "code",
      "metadata": {
        "id": "Cl1z1DqzYbQl",
        "colab_type": "code",
        "colab": {}
      },
      "source": [
        "# Answer-Q3 (Write your answer here)\n"
      ],
      "execution_count": 0,
      "outputs": []
    },
    {
      "cell_type": "markdown",
      "metadata": {
        "id": "Q5tdJhAaYOCN",
        "colab_type": "text"
      },
      "source": [
        "- **Q4**: To answer each of the following questions, fill in the blanks:\n",
        "\n",
        "```sql\n",
        "    SELECT * FROM heights\n",
        "    WHERE {{ blank }}\n",
        "```\n",
        "\n",
        "How would you select:"
      ]
    },
    {
      "cell_type": "code",
      "metadata": {
        "id": "eC_e4raDVatS",
        "colab_type": "code",
        "cellView": "form",
        "colab": {}
      },
      "source": [
        "#@markdown - **Q4a**: *(5pts)* The men that say they're taller than 100cm?\n",
        "q4a_answer = \"\" #@param {type:'string'}\n",
        "#@markdown - **Q4b**: *(5pts)* The people that say they're taller than they are?\n",
        "q4b_answer = \"\" #@param {type:'string'}\n",
        "#@markdown - **Q4c**: *(10pts)* The women that overestimate their weight and underestimate their height?\n",
        "q4c_answer = \"\" #@param {type:'string'}"
      ],
      "execution_count": 0,
      "outputs": []
    },
    {
      "cell_type": "code",
      "metadata": {
        "id": "Cv0dlyZbUUyg",
        "colab_type": "code",
        "cellView": "both",
        "outputId": "7cbb6ce4-2db2-4ec2-d5f2-fdaea9c157b5",
        "colab": {
          "base_uri": "https://localhost:8080/",
          "height": 34
        }
      },
      "source": [
        "#@markdown Tips:\n",
        "#@markdown - Think about what is being compared in the where clause. How many comparisons are needed, connected by an 'AND'? What operators are needed to make those comparisons? What value or variable goes on each side of the operator.\n",
        "#@markdown - If you want to test it, you can add a few dummy rows, or run this \n",
        "#@markdown cell, which will download and create a `week.db` database.\n",
        "from sqlalchemy import create_engine\n",
        "import pandas as pd\n",
        "data = pd.read_csv('https://vincentarelbundock.github.io/Rdatasets/csv/car/Davis.csv')\n",
        "engine = create_engine('sqlite://')\n",
        "data.to_sql('heights', engine, index=False)\n",
        "%sql sqlite://"
      ],
      "execution_count": 17,
      "outputs": [
        {
          "output_type": "execute_result",
          "data": {
            "text/plain": [
              "'Connected: @None'"
            ]
          },
          "metadata": {
            "tags": []
          },
          "execution_count": 17
        }
      ]
    },
    {
      "cell_type": "code",
      "metadata": {
        "id": "WuztCKTnRVGa",
        "colab_type": "code",
        "colab": {
          "base_uri": "https://localhost:8080/",
          "height": 34
        },
        "outputId": "65d0465e-2a15-41df-8b66-ba54e26ceaba"
      },
      "source": [
        "%%sql\n",
        "SELECT * FROM heights"
      ],
      "execution_count": 1,
      "outputs": [
        {
          "output_type": "stream",
          "text": [
            "UsageError: Cell magic `%%sql` not found.\n"
          ],
          "name": "stderr"
        }
      ]
    },
    {
      "cell_type": "markdown",
      "metadata": {
        "id": "fnOyfKadRU1Y",
        "colab_type": "text"
      },
      "source": [
        ""
      ]
    },
    {
      "cell_type": "markdown",
      "metadata": {
        "id": "Kr-X38rXTK4-",
        "colab_type": "text"
      },
      "source": [
        "**Q5** *(5pts)*: Describe in regular English what the following query does:\n",
        "\n",
        "```sql\n",
        "SELECT author,book FROM books\n",
        "    WHERE release_year > 2000\n",
        "        AND sales > 100000\n",
        "        AND author != 'J.K. Rowling'\n",
        "```"
      ]
    },
    {
      "cell_type": "code",
      "metadata": {
        "id": "QHikTN1anR-7",
        "colab_type": "code",
        "cellView": "form",
        "colab": {}
      },
      "source": [
        "q5_answer = \"\" #@param {type:\"string\"}"
      ],
      "execution_count": 0,
      "outputs": []
    },
    {
      "cell_type": "markdown",
      "metadata": {
        "id": "5NQZFDPOTK5B",
        "colab_type": "text"
      },
      "source": [
        "# Part 2: More Python\n",
        "\n",
        "Today, we're working on more Python basics, as we build toward more our SciPy stack of data science tools."
      ]
    },
    {
      "cell_type": "markdown",
      "metadata": {
        "id": "IZveWYtsTK5H",
        "colab_type": "text"
      },
      "source": [
        "## Loops\n",
        "\n",
        "Recall the `list` type, created like this:"
      ]
    },
    {
      "cell_type": "code",
      "metadata": {
        "id": "uOPmIJewTK5I",
        "colab_type": "code",
        "colab": {}
      },
      "source": [
        "fruits = ['apple', 'banana', 'strawberry', 'mango']"
      ],
      "execution_count": 0,
      "outputs": []
    },
    {
      "cell_type": "markdown",
      "metadata": {
        "id": "0hEOBvjFTK5M",
        "colab_type": "text"
      },
      "source": [
        "If we wanted to run through each value of the list, we can use a `for` loop.\n",
        "\n",
        "```python\n",
        "for value in last:\n",
        "    do_something\n",
        "```\n",
        "\n",
        "For example:"
      ]
    },
    {
      "cell_type": "code",
      "metadata": {
        "id": "V4cip1tFTK5N",
        "colab_type": "code",
        "outputId": "54172e93-975c-4543-8c22-e732ab013453",
        "colab": {
          "base_uri": "https://localhost:8080/",
          "height": 89
        }
      },
      "source": [
        "for fruit in fruits:\n",
        "    print(fruit)"
      ],
      "execution_count": 0,
      "outputs": [
        {
          "output_type": "stream",
          "text": [
            "apple\n",
            "banana\n",
            "strawberry\n",
            "mango\n"
          ],
          "name": "stdout"
        }
      ]
    },
    {
      "cell_type": "markdown",
      "metadata": {
        "id": "aiUIrTziTK5Q",
        "colab_type": "text"
      },
      "source": [
        "A number of things happened here. Note:\n",
        "\n",
        "- The `for` loop runs four times: once for each value of the list.\n",
        "- At the start of each time the loop is run, a new value of `fruits` is assigned to the temporary variable `fruit`. Essentially, the code above is running the following commands:\n",
        "\n",
        "```python\n",
        "fruit = 'apple'\n",
        "print(fruit)\n",
        "fruit = 'banana'\n",
        "print(fruit)\n",
        "fruit = 'strawberry'\n",
        "print(fruit)\n",
        "fruit = 'mango'\n",
        "print(fruit)\n",
        "```\n",
        "\n",
        "- `print(...)` will print any variable to the screen. The curly braces are necessary.\n",
        "- We use indentation to show that `print(fruit)` is part of the `for` loop. Python will run through all the indented code before moving on. See:"
      ]
    },
    {
      "cell_type": "code",
      "metadata": {
        "id": "LJk2LmIzTK5R",
        "colab_type": "code",
        "outputId": "539bf5fa-224b-44c5-f577-0d5615e491d5",
        "colab": {
          "base_uri": "https://localhost:8080/",
          "height": 107
        }
      },
      "source": [
        "for fruit in fruits:\n",
        "    print(fruit)\n",
        "\n",
        "print('this prints after the loop')"
      ],
      "execution_count": 0,
      "outputs": [
        {
          "output_type": "stream",
          "text": [
            "apple\n",
            "banana\n",
            "strawberry\n",
            "mango\n",
            "this prints after the loop\n"
          ],
          "name": "stdout"
        }
      ]
    },
    {
      "cell_type": "markdown",
      "metadata": {
        "id": "xr6amo_1TK5V",
        "colab_type": "text"
      },
      "source": [
        "- There can be multiple lines inside the loop:"
      ]
    },
    {
      "cell_type": "code",
      "metadata": {
        "id": "aG0T0P7nTK5W",
        "colab_type": "code",
        "outputId": "64f0e8fc-a118-4020-b00d-b3253a67e87f",
        "colab": {
          "base_uri": "https://localhost:8080/",
          "height": 53
        }
      },
      "source": [
        "for word in ['hello', 'world']:\n",
        "    x = word.capitalize()\n",
        "    print(x)"
      ],
      "execution_count": 0,
      "outputs": [
        {
          "output_type": "stream",
          "text": [
            "Hello\n",
            "World\n"
          ],
          "name": "stdout"
        }
      ]
    },
    {
      "cell_type": "markdown",
      "metadata": {
        "id": "aq9rE0TBTK5i",
        "colab_type": "text"
      },
      "source": [
        "## New Data Type: boolean\n",
        "\n",
        "The boolean type is simply a `True` or `False` value. Like integers and floating point numbers, you don't need to put quotation marks around `True` or `False`."
      ]
    },
    {
      "cell_type": "code",
      "metadata": {
        "id": "mi0d8FqsTK5j",
        "colab_type": "code",
        "outputId": "e1e777f8-6642-4f1d-cef5-26d5e64d9130",
        "colab": {
          "base_uri": "https://localhost:8080/",
          "height": 35
        }
      },
      "source": [
        "newtype = True\n",
        "newtype"
      ],
      "execution_count": 0,
      "outputs": [
        {
          "output_type": "execute_result",
          "data": {
            "text/plain": [
              "True"
            ]
          },
          "metadata": {
            "tags": []
          },
          "execution_count": 84
        }
      ]
    },
    {
      "cell_type": "code",
      "metadata": {
        "id": "u4M1_V3xTK5q",
        "colab_type": "code",
        "outputId": "4a38c482-4d4a-4b9d-ea26-a564edd73699",
        "colab": {
          "base_uri": "https://localhost:8080/",
          "height": 35
        }
      },
      "source": [
        "newtype = False\n",
        "newtype"
      ],
      "execution_count": 0,
      "outputs": [
        {
          "output_type": "execute_result",
          "data": {
            "text/plain": [
              "False"
            ]
          },
          "metadata": {
            "tags": []
          },
          "execution_count": 85
        }
      ]
    },
    {
      "cell_type": "markdown",
      "metadata": {
        "id": "hCA6aEbVTK5y",
        "colab_type": "text"
      },
      "source": [
        "## Comparisons\n",
        "\n",
        "There are a set of symbols that are used to compare two values. Usually, these return a boolean value: if the comparison statement is `True` or `False`. These are _logical operators_.\n",
        "\n",
        "The most basic operator is for equality, the `==` sign. For example:"
      ]
    },
    {
      "cell_type": "code",
      "metadata": {
        "id": "NlcyWXSQTK5z",
        "colab_type": "code",
        "outputId": "db217499-ef2d-41c5-c300-222491725885",
        "colab": {
          "base_uri": "https://localhost:8080/",
          "height": 35
        }
      },
      "source": [
        "1 == 1"
      ],
      "execution_count": 0,
      "outputs": [
        {
          "output_type": "execute_result",
          "data": {
            "text/plain": [
              "True"
            ]
          },
          "metadata": {
            "tags": []
          },
          "execution_count": 86
        }
      ]
    },
    {
      "cell_type": "code",
      "metadata": {
        "id": "-ipbTwCZTK56",
        "colab_type": "code",
        "outputId": "90259075-450b-4805-b4d4-faf2811f6d8e",
        "colab": {
          "base_uri": "https://localhost:8080/",
          "height": 35
        }
      },
      "source": [
        "'hello' == 'hello'"
      ],
      "execution_count": 0,
      "outputs": [
        {
          "output_type": "execute_result",
          "data": {
            "text/plain": [
              "True"
            ]
          },
          "metadata": {
            "tags": []
          },
          "execution_count": 87
        }
      ]
    },
    {
      "cell_type": "code",
      "metadata": {
        "id": "k-EitVNGTK6Q",
        "colab_type": "code",
        "outputId": "70c5e49f-2d9d-4d2f-a0f7-ad0130000474",
        "colab": {
          "base_uri": "https://localhost:8080/",
          "height": 35
        }
      },
      "source": [
        "'hello' == 'world'"
      ],
      "execution_count": 0,
      "outputs": [
        {
          "output_type": "execute_result",
          "data": {
            "text/plain": [
              "False"
            ]
          },
          "metadata": {
            "tags": []
          },
          "execution_count": 88
        }
      ]
    },
    {
      "cell_type": "code",
      "metadata": {
        "id": "JPvP3TKMTK6T",
        "colab_type": "code",
        "outputId": "8d2aa257-110d-41cc-b8d5-e62ad6488bae",
        "colab": {
          "base_uri": "https://localhost:8080/",
          "height": 35
        }
      },
      "source": [
        "[1, 2, 3] == [1, 2, 3]"
      ],
      "execution_count": 0,
      "outputs": [
        {
          "output_type": "execute_result",
          "data": {
            "text/plain": [
              "True"
            ]
          },
          "metadata": {
            "tags": []
          },
          "execution_count": 89
        }
      ]
    },
    {
      "cell_type": "markdown",
      "metadata": {
        "id": "2ywAY8yPTK6a",
        "colab_type": "text"
      },
      "source": [
        "Other logical operators include:\n",
        "\n",
        "- `!=` - Not equal\n",
        "- `<` - Less than\n",
        "- `>` - Greater than\n",
        "- `<=` - Less than or equal to\n",
        "- `>-` - Greater than or qual to\n",
        "\n",
        "Each of these is used the same as the equality operator. "
      ]
    },
    {
      "cell_type": "markdown",
      "metadata": {
        "id": "FyR4-H9MTK6a",
        "colab_type": "text"
      },
      "source": [
        "__Q6__: *(5pts)* Write a loop that prints the numbers from 1 to 5."
      ]
    },
    {
      "cell_type": "code",
      "metadata": {
        "id": "kNzDqKT88G2H",
        "colab_type": "code",
        "colab": {}
      },
      "source": [
        "# Answer-Q6 (write your answer here)\n"
      ],
      "execution_count": 0,
      "outputs": []
    },
    {
      "cell_type": "markdown",
      "metadata": {
        "id": "8VEuXFQ97_wc",
        "colab_type": "text"
      },
      "source": [
        "**Q7**: *(5pts)* Set a variable `x` to 0, then write a loop to add the following numbers to it: 1,1,2,3,5,8,13,21."
      ]
    },
    {
      "cell_type": "code",
      "metadata": {
        "id": "LZrndKhx8RPI",
        "colab_type": "code",
        "colab": {}
      },
      "source": [
        "# Answer-Q7 (write your answer here)"
      ],
      "execution_count": 0,
      "outputs": []
    },
    {
      "cell_type": "code",
      "metadata": {
        "id": "C7kpXAVA8bX-",
        "colab_type": "code",
        "cellView": "form",
        "outputId": "e4261eed-2be2-4474-b7ed-cfb8f77a25c9",
        "colab": {
          "base_uri": "https://localhost:8080/",
          "height": 35
        }
      },
      "source": [
        "#@markdown *Run this to check your **Q7** work*\n",
        "assert (x != 0), \"The final value of x is 0. You didn't add anything to it!\"\n",
        "assert (x != 21), \"The final value of x is 21 (the last number) - that means you're not adding to x each loop.\"\n",
        "assert type(x) is int, \"x should be a number, but your response is type: {}\".format(type(x))\n",
        "assert (x == 54), \"x should be 54, you have {}\".format(x)\n",
        "print(\"It works, Good work!\".upper())"
      ],
      "execution_count": 0,
      "outputs": [
        {
          "output_type": "stream",
          "text": [
            "IT WORKS, GOOD WORK!\n"
          ],
          "name": "stdout"
        }
      ]
    },
    {
      "cell_type": "code",
      "metadata": {
        "id": "GPIfEIJq-NV2",
        "colab_type": "code",
        "cellView": "form",
        "colab": {}
      },
      "source": [
        "#@markdown __Q8__: True or False\n",
        "#@markdown - __a__: *(4pts)* \"hello\"+\"world\" == \"hello world\"\n",
        "#@markdown - __b__: *(4pts)* 2 != 3\n",
        "#@markdown - __c__: *(4pts)* 'a' < 'b'\n",
        "\n",
        "q8a_answer = \"\" #@param [\"\", \"True\", \"False\"]\n",
        "q8b_answer = \"\" #@param [\"\", \"True\", \"False\"]\n",
        "q8c_answer = \"\" #@param [\"\", \"True\", \"False\"]\n",
        "for answer in [q8a_answer, q8b_answer, q8c_answer]:\n",
        "  assert (answer != \"\"), \"You have blank answers\""
      ],
      "execution_count": 0,
      "outputs": []
    },
    {
      "cell_type": "code",
      "metadata": {
        "id": "opPCMfq4_jKm",
        "colab_type": "code",
        "cellView": "form",
        "colab": {}
      },
      "source": [
        "#@markdown __Q9a__: *(4pts)* In Python, are `1` (an integer) and `'1'` (a string) equivalent?\n",
        "#@markdown  - __b__: *(4pts)* What about `1` and `1.0`?\n",
        "q9a_answer = \"\" #@param [\"\", \"Yes\", \"No\"]\n",
        "q9b_answer = \"\" #@param [\"\", \"Yes\", \"No\"]\n",
        "for answer in [q9a_answer, q9b_answer]:\n",
        "  assert (answer != \"\"), \"You have blank answers\""
      ],
      "execution_count": 0,
      "outputs": []
    },
    {
      "cell_type": "markdown",
      "metadata": {
        "id": "CVuIXi8kTK6c",
        "colab_type": "text"
      },
      "source": [
        "\n",
        " \n",
        "__Q10__: *(8pts)* Functionally, what is the difference between the following two code blocks?\n",
        "\n",
        "_Code A_\n",
        "```\n",
        "s = 'hello world'\n",
        "s == 'hello moon'\n",
        "```\n",
        "\n",
        "_Code B_\n",
        "```\n",
        "s = 'hello world'\n",
        "s = 'hello moon'\n",
        "```"
      ]
    },
    {
      "cell_type": "code",
      "metadata": {
        "id": "o9yxix4sAqOt",
        "colab_type": "code",
        "cellView": "form",
        "colab": {}
      },
      "source": [
        "q10_answer = \"\" #@param {type:\"string\"}\n",
        "assert q10_answer != \"\", \"Your answer is blank\""
      ],
      "execution_count": 0,
      "outputs": []
    },
    {
      "cell_type": "code",
      "metadata": {
        "id": "TFyPcGWNAu9z",
        "colab_type": "code",
        "cellView": "form",
        "colab": {}
      },
      "source": [
        "#@markdown __Q11__: *(7pts)* True or False: A list cannot have another list inside it.\n",
        "q11_answer = \"\" #@param [\"\", \"True\", \"False\"]\n",
        "assert q11_answer != \"\", \"Your answer is blank\""
      ],
      "execution_count": 0,
      "outputs": []
    },
    {
      "cell_type": "markdown",
      "metadata": {
        "id": "zrFuwqSxTK6j",
        "colab_type": "text"
      },
      "source": [
        "## Colab\n",
        "\n",
        "Hopefully by this week, you are growing more comfortable with starting Notebooks and adding/editing cells. Remember that the keyboard shortcuts are invaluable: running a cell with `Ctrl+Enter`, or adding a new cell below with `Ctrl+M B` (in command mode).\n",
        "\n",
        "Two tricks to try this week: autocompletion and retrieving documentation.\n",
        "\n",
        "**Autocomplete**\n",
        "\n",
        "If you start typing a known object or function into Colab, you can pause for a moment and it will show all the options - then you can press `TAB` or `ENTER` to finish it. This is especially useful for seeing what functions are available."
      ]
    },
    {
      "cell_type": "code",
      "metadata": {
        "id": "aLJ4cJ9kTK6k",
        "colab_type": "code",
        "colab": {}
      },
      "source": [
        "test = \"this is a string\""
      ],
      "execution_count": 0,
      "outputs": []
    },
    {
      "cell_type": "markdown",
      "metadata": {
        "id": "6WBoeQjpTK6r",
        "colab_type": "text"
      },
      "source": [
        "Above, I've set a string to `test`. If I type `te`, pause very briefly, then press tab, it will complete the word. This is especially useful for long variable names that you don't want to keep typing. If there are multiple candidates for auto-completion, it will show a scrollable list of options.\n",
        "\n",
        "The `test` variable is a string. To see what options there are for acting upon a string, try typing `test.` then pausing for autocomplete. Magic!\n",
        "\n",
        "![Auto-fill](https://github.com/organisciak/Scripting-Course/blob/master/images/autofill.png?raw=1)\n",
        "\n",
        "**Documentation reference**\n",
        "\n",
        "If you want to look up information about a function, you can precede the code running that function with a `?`. For example, if I want to learn how I would use `split()` on `test`, I can type:"
      ]
    },
    {
      "cell_type": "code",
      "metadata": {
        "id": "dslJnA4yTK6r",
        "colab_type": "code",
        "colab": {}
      },
      "source": [
        "?test.split()"
      ],
      "execution_count": 0,
      "outputs": []
    },
    {
      "cell_type": "markdown",
      "metadata": {
        "id": "RugXWchETK6v",
        "colab_type": "text"
      },
      "source": [
        "This will open a panel that looks like this in Colab:\n",
        "\n",
        "![Info](https://github.com/organisciak/Scripting-Course/blob/master/images/info.png?raw=1)\n",
        "\n",
        "The documentation is only as good as what the library is documented, so some libraries might be more or less detailed in this feature."
      ]
    },
    {
      "cell_type": "code",
      "metadata": {
        "id": "unCOCHwvQCdy",
        "colab_type": "code",
        "cellView": "form",
        "colab": {}
      },
      "source": [
        "#@markdown - **Q12**: *(5pts)* What does `test.isalpha()` do? Fill in the blank: \"Return True if {{   }}, False otherwise.\"\n",
        "\n",
        "q12_answer = \"\" #@param {type: 'string'}"
      ],
      "execution_count": 0,
      "outputs": []
    },
    {
      "cell_type": "markdown",
      "metadata": {
        "id": "WYTqoGFhPslN",
        "colab_type": "text"
      },
      "source": [
        "- **Q13**: *(10pts)* Strings have access to a function (whose name starts with a `ce`) that will let you change \"HEADING\" to \"====HEADING====\" (that is, padding with `=` to make the string 15 characters wide). What's the code to do that? (tip: this is an auto-fill question!)"
      ]
    },
    {
      "cell_type": "code",
      "metadata": {
        "id": "9oazuMVqQ7LA",
        "colab_type": "code",
        "colab": {}
      },
      "source": [
        "# Answer-Q13\n"
      ],
      "execution_count": 0,
      "outputs": []
    },
    {
      "cell_type": "markdown",
      "metadata": {
        "id": "idY7GWtITK6w",
        "colab_type": "text"
      },
      "source": [
        "## Summary\n",
        "\n",
        "- SQLite\n",
        "    - Connecting to a simple database, via notebook (without Python) or command line\n",
        "- SQL\n",
        "    - `CREATE TABLE`\n",
        "    - `DROP TABLE`\n",
        "    - `SELECT`\n",
        "    - `INSERT`\n",
        "    - `WHERE` clause\n",
        "- Python\n",
        "    - Logical Operators\n",
        "        - `==`, `!=`, `<`, `<=`, `>`, `>=`\n",
        "    - `for` loops on arrays\n",
        "    - `print()`\n",
        "    - Tab indentation\n",
        "    - boolean datatype: `True`, `False`\n",
        "- Jupyter\n",
        "    - Auto-complete\n",
        "    - Documentation lookup"
      ]
    },
    {
      "cell_type": "markdown",
      "metadata": {
        "id": "DMeFdL1XVl4y",
        "colab_type": "text"
      },
      "source": [
        "# Submission Instructions"
      ]
    },
    {
      "cell_type": "code",
      "metadata": {
        "id": "4QvQhFVlTyWy",
        "colab_type": "code",
        "colab": {},
        "cellView": "form"
      },
      "source": [
        "#@markdown ### First, Enter your name for grading\n",
        "my_name = \"\" #@param { type:'string' }\n",
        "\n",
        "#@markdown _Have you saved your work for yourself? Don't forget to Save a Copy in Drive so that you have your progress._"
      ],
      "execution_count": 0,
      "outputs": []
    },
    {
      "cell_type": "code",
      "metadata": {
        "id": "Q6ku7nibRp4O",
        "colab_type": "code",
        "cellView": "form",
        "colab": {}
      },
      "source": [
        "#@markdown ### Second, check your work:\n",
        "\n",
        "#@markdown - have you answered all the questions?\n",
        "#@markdown     - Some answers can be checked automatically - just run this cell.\n",
        "#@markdown - Does this notebook run from top to bottom?\n",
        "#@markdown     - Go to \"Runtime > Restart and run all...\" to check. Do all the cells run, to the very bottom, or is there a cell in the middle with an error?\n",
        "#@markdown - Have you completed all the answers where you entered code, keeping the `# Answer-Qx` line at the start of those cells?\n",
        "\n",
        "#@markdown *A lab that the professor has to fix manually will lose 10pts - run the checks!*\n",
        "\n",
        "lab1 = dict(\n",
        "    q1 = dict(entrytype='cell', pts=5),\n",
        "    q2 = dict(entrytype='var', pts=5),\n",
        "    q3 = dict(entrytype='cell', pts=5),\n",
        "    q4a = dict(entrytype='var', pts=5),\n",
        "    q4b = dict(entrytype='var', pts=5),\n",
        "    q4c = dict(entrytype='var', pts=10),\n",
        "    q5 = dict(entrytype='var', pts=5),\n",
        "    q6 = dict(entrytype='cell', pts=5),\n",
        "    q7 = dict(entrytype='cell', pts=5),\n",
        "    q8a = dict(entrytype='var', pts=4),\n",
        "    q8b = dict(entrytype='var', pts=4),\n",
        "    q8c = dict(entrytype='var', pts=4),\n",
        "    q9a = dict(entrytype='var', pts=4),\n",
        "    q9b = dict(entrytype='var', pts=4),\n",
        "    q10 = dict(entrytype='var', pts=8),\n",
        "    q11 = dict(entrytype='var', pts=7),\n",
        "    q12 = dict(entrytype='var', pts=5),\n",
        "    q13 = dict(entrytype='cell', pts=10),\n",
        ")\n",
        "var_qs = [k for k,v in lab1.items() if v['entrytype'] == 'var']\n",
        "for q in var_qs:\n",
        "  qvar = '{}_answer'.format(q) \n",
        "assert(qvar) in globals(), \"I don't see '{}' - did you run the cell where you ran it?\".format(qvar)\n",
        "answer = globals()[qvar]\n",
        "assert answer != \"\", \"{} is blank - did you mean to do that?\".format(qvar)\n",
        "print(\"Good work. The ones that I can pre-check look correct.\")\n",
        "\n",
        "#@markdown ### Finally, submit it\n",
        "\n",
        "#@markdown - Download the file with \"File > Download .ipynb\" and submit it to the Canvas assignment page."
      ],
      "execution_count": 0,
      "outputs": []
    }
  ]
}