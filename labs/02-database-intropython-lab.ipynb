{
  "nbformat": 4,
  "nbformat_minor": 0,
  "metadata": {
    "kernelspec": {
      "display_name": "Python 3",
      "language": "python",
      "name": "python3"
    },
    "language_info": {
      "codemirror_mode": {
        "name": "ipython",
        "version": 3
      },
      "file_extension": ".py",
      "mimetype": "text/x-python",
      "name": "python",
      "nbconvert_exporter": "python",
      "pygments_lexer": "ipython3",
      "version": "3.6.8"
    },
    "colab": {
      "name": "02-database-intropython-lab.ipynb",
      "provenance": []
    }
  },
  "cells": [
    {
      "cell_type": "markdown",
      "metadata": {
        "id": "6yVnQAvlTK3y",
        "colab_type": "text"
      },
      "source": [
        "# Lab Part 1: SQLite\n",
        "\n",
        "For this portion of the lab, we won't use Python. Instead, we'll work directly with SQLite. Luckily, there's a way that we could still use *Colab*.\n",
        "\n",
        "**Option 1: In a Jupyter Notebook**\n",
        "\n",
        "1. In a code cell of a notebook, run the following code:"
      ]
    },
    {
      "cell_type": "code",
      "metadata": {
        "id": "WDnj_v2fT1YJ",
        "colab_type": "code",
        "colab": {
          "base_uri": "https://localhost:8080/",
          "height": 71
        },
        "outputId": "7f997646-0c3d-47c7-8071-acbecbe80b3e"
      },
      "source": [
        "%load_ext sql\n",
        "%sql sqlite://"
      ],
      "execution_count": 4,
      "outputs": [
        {
          "output_type": "stream",
          "text": [
            "The sql extension is already loaded. To reload it, use:\n",
            "  %reload_ext sql\n"
          ],
          "name": "stdout"
        },
        {
          "output_type": "execute_result",
          "data": {
            "text/plain": [
              "'Connected: @None'"
            ]
          },
          "metadata": {
            "tags": []
          },
          "execution_count": 4
        }
      ]
    },
    {
      "cell_type": "markdown",
      "metadata": {
        "id": "UD-YEQOaUAPp",
        "colab_type": "text"
      },
      "source": [
        "That activates a special command to connect to SQLite from *Colab*, loads it, and connects to a temporary database.\n",
        "\n",
        "Now, if you have `%%sql` at the start of a code cell, it will run SQL in your connected database.\n",
        "\n",
        "*Tip*: If you don't want your DB to be save in a file, you can give it a name when you connect, like this: `%sql sqlite:///name.db`."
      ]
    },
    {
      "cell_type": "markdown",
      "metadata": {
        "id": "V50MQKmETK38",
        "colab_type": "text"
      },
      "source": [
        "## Create a Table, Insert Data, and Select in SQLite"
      ]
    },
    {
      "cell_type": "markdown",
      "metadata": {
        "id": "oK_59Q2bTK39",
        "colab_type": "text"
      },
      "source": [
        "Here is a small dataset of British cotton workers in 1886, and their average wage:\n",
        "\n",
        "worker | num_workers |\twage\n",
        "-------|---- --------|--------\n",
        "Big piecer |\t5902 |\t233.59\n",
        "Engineman|\t909|\t388.47\n",
        "Foreman\t|2883|\t466.54\n",
        "Grinders|\t1983|\t399.9\n",
        "Labourer|\t208|\t269.73\n",
        "Mechanic|\t669|\t440.82\n",
        "Others\t|2966|\t311.64\n",
        "Sizer\t|597|\t469.62\n",
        "Spinner\t|6951|\t408.97\n",
        "Twister|\t865|\t357.2\n",
        "\n",
        "Let's consider how to put this into a database. First, you need to CREATE TABLE, then INSERT records."
      ]
    },
    {
      "cell_type": "code",
      "metadata": {
        "id": "8FQmKo-wTK3-",
        "colab_type": "code",
        "colab": {
          "base_uri": "https://localhost:8080/",
          "height": 71
        },
        "outputId": "1434133e-cd60-4b4d-af14-1a0bafe39d83"
      },
      "source": [
        "%%sql\n",
        "CREATE TABLE worker_wages (role, num_workers, wage);"
      ],
      "execution_count": 16,
      "outputs": [
        {
          "output_type": "stream",
          "text": [
            " * sqlite://\n",
            "Done.\n"
          ],
          "name": "stdout"
        },
        {
          "output_type": "execute_result",
          "data": {
            "text/plain": [
              "[]"
            ]
          },
          "metadata": {
            "tags": []
          },
          "execution_count": 16
        }
      ]
    },
    {
      "cell_type": "markdown",
      "metadata": {
        "id": "BHnN76RtTK4L",
        "colab_type": "text"
      },
      "source": [
        "If running on the command line, don't include the `%%sql` part.\n",
        "\n",
        "Now, insert the data:"
      ]
    },
    {
      "cell_type": "code",
      "metadata": {
        "id": "p6rLdwbuTK4M",
        "colab_type": "code",
        "colab": {
          "base_uri": "https://localhost:8080/",
          "height": 71
        },
        "outputId": "2d685694-8185-4e8d-d41a-868d6d909777"
      },
      "source": [
        "%%sql\n",
        "INSERT INTO worker_wages VALUES\n",
        "    ('Big piecer', 5902, 233.59),\n",
        "    ('Engineman', 909, 388.47),\n",
        "    ('Foreman', 2883, 466.54),\n",
        "    ('Grinders', 1983, 399.9),\n",
        "    ('Labourer', 208, 269.73),\n",
        "    ('Mechanic', 669, 440.82),\n",
        "    ('Others', 2966, 311.64),\n",
        "    ('Sizer', 597, 469.62),\n",
        "    ('Spinner', 6951, 408.97),\n",
        "    ('Twister', 865, 357.2);"
      ],
      "execution_count": 17,
      "outputs": [
        {
          "output_type": "stream",
          "text": [
            " * sqlite://\n",
            "10 rows affected.\n"
          ],
          "name": "stdout"
        },
        {
          "output_type": "execute_result",
          "data": {
            "text/plain": [
              "[]"
            ]
          },
          "metadata": {
            "tags": []
          },
          "execution_count": 17
        }
      ]
    },
    {
      "cell_type": "markdown",
      "metadata": {
        "id": "7DhoFOlFTK4U",
        "colab_type": "text"
      },
      "source": [
        "Hopefully it's in: let's check:"
      ]
    },
    {
      "cell_type": "code",
      "metadata": {
        "scrolled": true,
        "id": "2HjZlqIaTK4W",
        "colab_type": "code",
        "colab": {
          "base_uri": "https://localhost:8080/",
          "height": 286
        },
        "outputId": "ea53f274-cbe7-4cdb-fd03-f70b78b64de5"
      },
      "source": [
        "%%sql\n",
        "SELECT * FROM worker_wages;"
      ],
      "execution_count": 7,
      "outputs": [
        {
          "output_type": "stream",
          "text": [
            " * sqlite://\n",
            "Done.\n"
          ],
          "name": "stdout"
        },
        {
          "output_type": "execute_result",
          "data": {
            "text/html": [
              "<table>\n",
              "    <tr>\n",
              "        <th>role</th>\n",
              "        <th>num_workers</th>\n",
              "        <th>wage</th>\n",
              "    </tr>\n",
              "    <tr>\n",
              "        <td>Big piecer</td>\n",
              "        <td>5902</td>\n",
              "        <td>233.59</td>\n",
              "    </tr>\n",
              "    <tr>\n",
              "        <td>Engineman</td>\n",
              "        <td>909</td>\n",
              "        <td>388.47</td>\n",
              "    </tr>\n",
              "    <tr>\n",
              "        <td>Foreman</td>\n",
              "        <td>2883</td>\n",
              "        <td>466.54</td>\n",
              "    </tr>\n",
              "    <tr>\n",
              "        <td>Grinders</td>\n",
              "        <td>1983</td>\n",
              "        <td>399.9</td>\n",
              "    </tr>\n",
              "    <tr>\n",
              "        <td>Labourer</td>\n",
              "        <td>208</td>\n",
              "        <td>269.73</td>\n",
              "    </tr>\n",
              "    <tr>\n",
              "        <td>Mechanic</td>\n",
              "        <td>669</td>\n",
              "        <td>440.82</td>\n",
              "    </tr>\n",
              "    <tr>\n",
              "        <td>Others</td>\n",
              "        <td>2966</td>\n",
              "        <td>311.64</td>\n",
              "    </tr>\n",
              "    <tr>\n",
              "        <td>Sizer</td>\n",
              "        <td>597</td>\n",
              "        <td>469.62</td>\n",
              "    </tr>\n",
              "    <tr>\n",
              "        <td>Spinner</td>\n",
              "        <td>6951</td>\n",
              "        <td>408.97</td>\n",
              "    </tr>\n",
              "    <tr>\n",
              "        <td>Twister</td>\n",
              "        <td>865</td>\n",
              "        <td>357.2</td>\n",
              "    </tr>\n",
              "</table>"
            ],
            "text/plain": [
              "[('Big piecer', 5902, 233.59),\n",
              " ('Engineman', 909, 388.47),\n",
              " ('Foreman', 2883, 466.54),\n",
              " ('Grinders', 1983, 399.9),\n",
              " ('Labourer', 208, 269.73),\n",
              " ('Mechanic', 669, 440.82),\n",
              " ('Others', 2966, 311.64),\n",
              " ('Sizer', 597, 469.62),\n",
              " ('Spinner', 6951, 408.97),\n",
              " ('Twister', 865, 357.2)]"
            ]
          },
          "metadata": {
            "tags": []
          },
          "execution_count": 7
        }
      ]
    },
    {
      "cell_type": "markdown",
      "metadata": {
        "id": "92_64v8zTK4d",
        "colab_type": "text"
      },
      "source": [
        "It's in! Let's look for wages under 350:"
      ]
    },
    {
      "cell_type": "code",
      "metadata": {
        "id": "5AdK6ckTTK4e",
        "colab_type": "code",
        "colab": {
          "base_uri": "https://localhost:8080/",
          "height": 139
        },
        "outputId": "c639718c-ac2b-4283-c6b4-7eb08fc975d9"
      },
      "source": [
        "%%sql\n",
        "SELECT * FROM worker_wages WHERE wage < 350;"
      ],
      "execution_count": 8,
      "outputs": [
        {
          "output_type": "stream",
          "text": [
            " * sqlite://\n",
            "Done.\n"
          ],
          "name": "stdout"
        },
        {
          "output_type": "execute_result",
          "data": {
            "text/html": [
              "<table>\n",
              "    <tr>\n",
              "        <th>role</th>\n",
              "        <th>num_workers</th>\n",
              "        <th>wage</th>\n",
              "    </tr>\n",
              "    <tr>\n",
              "        <td>Big piecer</td>\n",
              "        <td>5902</td>\n",
              "        <td>233.59</td>\n",
              "    </tr>\n",
              "    <tr>\n",
              "        <td>Labourer</td>\n",
              "        <td>208</td>\n",
              "        <td>269.73</td>\n",
              "    </tr>\n",
              "    <tr>\n",
              "        <td>Others</td>\n",
              "        <td>2966</td>\n",
              "        <td>311.64</td>\n",
              "    </tr>\n",
              "</table>"
            ],
            "text/plain": [
              "[('Big piecer', 5902, 233.59),\n",
              " ('Labourer', 208, 269.73),\n",
              " ('Others', 2966, 311.64)]"
            ]
          },
          "metadata": {
            "tags": []
          },
          "execution_count": 8
        }
      ]
    },
    {
      "cell_type": "markdown",
      "metadata": {
        "id": "wQSE8cQATK4n",
        "colab_type": "text"
      },
      "source": [
        "You can use `AND` to combine `WHERE` clauses. E.g. Workers that number over 1000, which make over 300£. "
      ]
    },
    {
      "cell_type": "code",
      "metadata": {
        "id": "MBYuW-WATK4n",
        "colab_type": "code",
        "colab": {
          "base_uri": "https://localhost:8080/",
          "height": 160
        },
        "outputId": "a9ad3d32-89fa-4959-aff3-889ab1cfddbe"
      },
      "source": [
        "%%sql\n",
        "SELECT * FROM worker_wages WHERE wage > 300 AND num_workers > 1000;"
      ],
      "execution_count": 9,
      "outputs": [
        {
          "output_type": "stream",
          "text": [
            " * sqlite://\n",
            "Done.\n"
          ],
          "name": "stdout"
        },
        {
          "output_type": "execute_result",
          "data": {
            "text/html": [
              "<table>\n",
              "    <tr>\n",
              "        <th>role</th>\n",
              "        <th>num_workers</th>\n",
              "        <th>wage</th>\n",
              "    </tr>\n",
              "    <tr>\n",
              "        <td>Foreman</td>\n",
              "        <td>2883</td>\n",
              "        <td>466.54</td>\n",
              "    </tr>\n",
              "    <tr>\n",
              "        <td>Grinders</td>\n",
              "        <td>1983</td>\n",
              "        <td>399.9</td>\n",
              "    </tr>\n",
              "    <tr>\n",
              "        <td>Others</td>\n",
              "        <td>2966</td>\n",
              "        <td>311.64</td>\n",
              "    </tr>\n",
              "    <tr>\n",
              "        <td>Spinner</td>\n",
              "        <td>6951</td>\n",
              "        <td>408.97</td>\n",
              "    </tr>\n",
              "</table>"
            ],
            "text/plain": [
              "[('Foreman', 2883, 466.54),\n",
              " ('Grinders', 1983, 399.9),\n",
              " ('Others', 2966, 311.64),\n",
              " ('Spinner', 6951, 408.97)]"
            ]
          },
          "metadata": {
            "tags": []
          },
          "execution_count": 9
        }
      ]
    },
    {
      "cell_type": "markdown",
      "metadata": {
        "id": "-SPCaXEyTK4s",
        "colab_type": "text"
      },
      "source": [
        "One final clause: `DROP TABLE`. If you mess something up, you can always drop the table and start again. Be careful doing this in a real, important database, there is no _UNDO_!"
      ]
    },
    {
      "cell_type": "code",
      "metadata": {
        "id": "95Nef_ANTK4t",
        "colab_type": "code",
        "colab": {
          "base_uri": "https://localhost:8080/",
          "height": 71
        },
        "outputId": "884ae2b0-ec5a-4991-fec3-0f5a110f7eb8"
      },
      "source": [
        "%%sql\n",
        "DROP TABLE worker_wages;"
      ],
      "execution_count": 10,
      "outputs": [
        {
          "output_type": "stream",
          "text": [
            " * sqlite://\n",
            "Done.\n"
          ],
          "name": "stdout"
        },
        {
          "output_type": "execute_result",
          "data": {
            "text/plain": [
              "[]"
            ]
          },
          "metadata": {
            "tags": []
          },
          "execution_count": 10
        }
      ]
    },
    {
      "cell_type": "markdown",
      "metadata": {
        "id": "09AhTGsvTK4z",
        "colab_type": "text"
      },
      "source": [
        "## Exercises\n",
        "\n",
        "**Q1**: Write the SQL to add these two rows to the `worker_wages` table:\n",
        "        \n",
        "| worker | num_workers |\twage |\n",
        "|--------|-------------|-------|\n",
        "|Drawer |\t375|\t328.98|\n",
        "|Warehouseman|\t1586|\t308.73|"
      ]
    },
    {
      "cell_type": "code",
      "metadata": {
        "id": "l7_D5mhjVeJV",
        "colab_type": "code",
        "colab": {}
      },
      "source": [
        "# Scratchpad / Workspace"
      ],
      "execution_count": 0,
      "outputs": []
    },
    {
      "cell_type": "code",
      "metadata": {
        "id": "e3RlujiIVWxt",
        "colab_type": "code",
        "colab": {
          "base_uri": "https://localhost:8080/",
          "height": 71
        },
        "outputId": "a52c5b64-6603-4113-8a31-739f980c24b2"
      },
      "source": [
        "# Answer-Q1 (Write your answer here)\n"
      ],
      "execution_count": 75,
      "outputs": [
        {
          "output_type": "stream",
          "text": [
            " * sqlite://\n",
            "2 rows affected.\n"
          ],
          "name": "stdout"
        },
        {
          "output_type": "execute_result",
          "data": {
            "text/plain": [
              "[]"
            ]
          },
          "metadata": {
            "tags": []
          },
          "execution_count": 75
        }
      ]
    },
    {
      "cell_type": "code",
      "metadata": {
        "id": "vAr4Ii31ZXO-",
        "colab_type": "code",
        "colab": {
          "base_uri": "https://localhost:8080/",
          "height": 71
        },
        "cellView": "form",
        "outputId": "de1e3fa4-740a-4822-aa76-0ff6d56e7c0b"
      },
      "source": [
        "#@markdown *Check your answer*: Run this cell to check if you did Q1 properly\n",
        "sqlresults = %sql SELECT * FROM worker_wages\n",
        "df = sqlresults.DataFrame();\n",
        "for role, num_workers, wage in [('Drawer',  375, 328.98), ('Warehouseman', 1586, 308.73)]:\n",
        "  subset = df[df.role == role]\n",
        "  assert subset.shape[0] > 0, \"I don't see '{}' in the data.\".format(role)\n",
        "  assert subset.shape[0] == 1, ('''I see '{}' more than once. Did you add the\n",
        "  data more than once? (This doesn't affect this question - you probably did\n",
        "   it right, but ran it twice, which is something to look out for. Try\n",
        "   dropping the table and creating it anew).'''.format(role))\n",
        "  assert subset.iloc[-1].num_workers == num_workers, \"Num workers doesn't seem right for {}\".format(role)\n",
        "  assert subset.iloc[-1].wage == wage, \"Num workers doesn't seem right for {}\".format(role)\n",
        "print(\"It works. Good work!\".upper())\n"
      ],
      "execution_count": 74,
      "outputs": [
        {
          "output_type": "stream",
          "text": [
            " * sqlite://\n",
            "Done.\n",
            "IT WORKS. GOOD WORK!\n"
          ],
          "name": "stdout"
        }
      ]
    },
    {
      "cell_type": "markdown",
      "metadata": {
        "id": "d_SKVZVOTK4z",
        "colab_type": "text"
      },
      "source": [
        "**Q2**: What's wrong with this SQL?\n",
        "```sql\n",
        "    INSERT INTO worker_wages VALUES (Weaver, 8577, 273.97);\n",
        "```"
      ]
    },
    {
      "cell_type": "code",
      "metadata": {
        "id": "tVlRwEtkV2Jh",
        "colab_type": "code",
        "colab": {},
        "cellView": "form"
      },
      "source": [
        "answer_q2 = \"\" #@param {type:\"string\"}"
      ],
      "execution_count": 0,
      "outputs": []
    },
    {
      "cell_type": "markdown",
      "metadata": {
        "id": "Gvcko-4RTK40",
        "colab_type": "text"
      },
      "source": [
        "Consider the following dataset, of people's heights and weights, as well as their reported heights and weights:\n",
        "\n",
        "![](https://github.com/organisciak/Scripting-Course/blob/master/images/week2-heights.png?raw=1)"
      ]
    },
    {
      "cell_type": "markdown",
      "metadata": {
        "id": "4GS6qQ-aTK41",
        "colab_type": "text"
      },
      "source": [
        "- __Q3__: What's the SQL to create the table for this dataset? Include appropriate data types for the columns."
      ]
    },
    {
      "cell_type": "code",
      "metadata": {
        "id": "Cl1z1DqzYbQl",
        "colab_type": "code",
        "colab": {}
      },
      "source": [
        "# Answer-Q3 (Write your answer here)\n"
      ],
      "execution_count": 0,
      "outputs": []
    },
    {
      "cell_type": "markdown",
      "metadata": {
        "id": "Q5tdJhAaYOCN",
        "colab_type": "text"
      },
      "source": [
        "- **Q4**: How would you select:\n",
        "    - **Q4a**: The men that say they're taller than 100cm?\n",
        "    - **Q4b**: The people that say they're taller than they are?\n",
        "    - **Q4c**: The women that overestimate their weight and underestimate their height?\n",
        "    \n",
        "Tips:\n",
        " - Think about what is being compared in the where clause. How many comparisons are needed, connected by an 'AND'? What operators are needed to make those comparisons? What value or variable goes on each side of the operator.\n",
        " - If you want to test it, you add a few dummy rows to test, or import the full dataset. Here's some code to copy and paste - _don't worry about understanding it now_:\n",
        " \n",
        "    In a notebook:\n",
        "\n",
        "    ```python\n",
        "    from sqlalchemy import create_engine\n",
        "    import pandas as pd\n",
        "    data = pd.read_csv('https://vincentarelbundock.github.io/Rdatasets/csv/car/Davis.csv')\n",
        "    engine = create_engine('sqlite:///week2.db')\n",
        "    data.to_sql('heights', engine, index=False)\n",
        "    %sql sqlite:///week2.db\n",
        "    ```\n",
        "\n",
        "    Command line:\n",
        "    First, download the [dataset](https://vincentarelbundock.github.io/Rdatasets/csv/car/Davis.csv) to the same folder that your connection is in, then try:\n",
        "\n",
        "    ```\n",
        "    .mode csv\n",
        "    .import davis.csv heights\n",
        "    .mode list\n",
        "    ```"
      ]
    },
    {
      "cell_type": "code",
      "metadata": {
        "id": "MtmUXT_3TK42",
        "colab_type": "code",
        "colab": {},
        "outputId": "74e36f22-43f4-4b19-ae79-20bfa238ba90"
      },
      "source": [
        "%%sql\n",
        "SELECT * FROM heights\n",
        "WHERE sex == 'F' \n",
        "    AND weight > repwt\n",
        "    AND height < repht"
      ],
      "execution_count": 0,
      "outputs": [
        {
          "output_type": "stream",
          "text": [
            "   sqlite://\n",
            " * sqlite:///week2.db\n",
            "Done.\n"
          ],
          "name": "stdout"
        },
        {
          "output_type": "execute_result",
          "data": {
            "text/html": [
              "<table>\n",
              "    <tr>\n",
              "        <th>Unnamed: 0</th>\n",
              "        <th>sex</th>\n",
              "        <th>weight</th>\n",
              "        <th>height</th>\n",
              "        <th>repwt</th>\n",
              "        <th>repht</th>\n",
              "    </tr>\n",
              "    <tr>\n",
              "        <td>12</td>\n",
              "        <td>F</td>\n",
              "        <td>166</td>\n",
              "        <td>57</td>\n",
              "        <td>56.0</td>\n",
              "        <td>163.0</td>\n",
              "    </tr>\n",
              "    <tr>\n",
              "        <td>35</td>\n",
              "        <td>F</td>\n",
              "        <td>68</td>\n",
              "        <td>169</td>\n",
              "        <td>63.0</td>\n",
              "        <td>170.0</td>\n",
              "    </tr>\n",
              "    <tr>\n",
              "        <td>83</td>\n",
              "        <td>F</td>\n",
              "        <td>53</td>\n",
              "        <td>169</td>\n",
              "        <td>52.0</td>\n",
              "        <td>175.0</td>\n",
              "    </tr>\n",
              "    <tr>\n",
              "        <td>148</td>\n",
              "        <td>F</td>\n",
              "        <td>59</td>\n",
              "        <td>157</td>\n",
              "        <td>55.0</td>\n",
              "        <td>158.0</td>\n",
              "    </tr>\n",
              "    <tr>\n",
              "        <td>153</td>\n",
              "        <td>F</td>\n",
              "        <td>47</td>\n",
              "        <td>150</td>\n",
              "        <td>45.0</td>\n",
              "        <td>152.0</td>\n",
              "    </tr>\n",
              "</table>"
            ],
            "text/plain": [
              "[(12, 'F', 166, 57, 56.0, 163.0),\n",
              " (35, 'F', 68, 169, 63.0, 170.0),\n",
              " (83, 'F', 53, 169, 52.0, 175.0),\n",
              " (148, 'F', 59, 157, 55.0, 158.0),\n",
              " (153, 'F', 47, 150, 45.0, 152.0)]"
            ]
          },
          "metadata": {
            "tags": []
          },
          "execution_count": 12
        }
      ]
    },
    {
      "cell_type": "markdown",
      "metadata": {
        "id": "Kr-X38rXTK4-",
        "colab_type": "text"
      },
      "source": [
        "*Q*: Describe in regular English what the following query does:\n",
        "\n",
        "```sql\n",
        "SELECT author,book FROM books\n",
        "    WHERE release_year > 2000\n",
        "        AND sales > 100000\n",
        "        AND author != 'J.K. Rowling'\n",
        "```"
      ]
    },
    {
      "cell_type": "markdown",
      "metadata": {
        "id": "5NQZFDPOTK5B",
        "colab_type": "text"
      },
      "source": [
        "# Part 2: More Python\n",
        "\n",
        "Today, we're working on more Python basics, as we build toward more our SciPy stack of data science tools."
      ]
    },
    {
      "cell_type": "markdown",
      "metadata": {
        "id": "IZveWYtsTK5H",
        "colab_type": "text"
      },
      "source": [
        "## Loops\n",
        "\n",
        "Recall the `list` type, created like this:"
      ]
    },
    {
      "cell_type": "code",
      "metadata": {
        "id": "uOPmIJewTK5I",
        "colab_type": "code",
        "colab": {}
      },
      "source": [
        "fruits = ['apple', 'banana', 'strawberry', 'mango']"
      ],
      "execution_count": 0,
      "outputs": []
    },
    {
      "cell_type": "markdown",
      "metadata": {
        "id": "0hEOBvjFTK5M",
        "colab_type": "text"
      },
      "source": [
        "If we wanted to run through each value of the list, we can use a `for` loop.\n",
        "\n",
        "```python\n",
        "for value in last:\n",
        "    do_something\n",
        "```\n",
        "\n",
        "For example:"
      ]
    },
    {
      "cell_type": "code",
      "metadata": {
        "id": "V4cip1tFTK5N",
        "colab_type": "code",
        "colab": {},
        "outputId": "72c248a6-8961-4de2-86d5-1fd0706d9617"
      },
      "source": [
        "for fruit in fruits:\n",
        "    print(fruit)"
      ],
      "execution_count": 0,
      "outputs": [
        {
          "output_type": "stream",
          "text": [
            "apple\n",
            "banana\n",
            "strawberry\n",
            "mango\n"
          ],
          "name": "stdout"
        }
      ]
    },
    {
      "cell_type": "markdown",
      "metadata": {
        "id": "aiUIrTziTK5Q",
        "colab_type": "text"
      },
      "source": [
        "A number of things happened here. Note:\n",
        "\n",
        "- The `for` loop runs four times: once for each value of the list.\n",
        "- At the start of each time the loop is run, a new value of `fruits` is assigned to the temporary variable `fruit`. Essentially, the code above is running the following commands:\n",
        "\n",
        "```python\n",
        "fruit = 'apple'\n",
        "print(fruit)\n",
        "fruit = 'banana'\n",
        "print(fruit)\n",
        "fruit = 'strawberry'\n",
        "print(fruit)\n",
        "fruit = 'mango'\n",
        "print(fruit)\n",
        "```\n",
        "\n",
        "- `print(...)` will print any variable to the screen. The curly braces are necessary.\n",
        "- We use indentation to show that `print(fruit)` is part of the `for` loop. Python will run through all the indented code before moving on. See:"
      ]
    },
    {
      "cell_type": "code",
      "metadata": {
        "id": "LJk2LmIzTK5R",
        "colab_type": "code",
        "colab": {},
        "outputId": "eea5f93c-b59d-46df-87a4-2d2f141a45f5"
      },
      "source": [
        "for fruit in fruits:\n",
        "    print(fruit)\n",
        "print('this prints after the loop')"
      ],
      "execution_count": 0,
      "outputs": [
        {
          "output_type": "stream",
          "text": [
            "apple\n",
            "banana\n",
            "strawberry\n",
            "mango\n",
            "this prints after the loop\n"
          ],
          "name": "stdout"
        }
      ]
    },
    {
      "cell_type": "markdown",
      "metadata": {
        "id": "xr6amo_1TK5V",
        "colab_type": "text"
      },
      "source": [
        "- There can be multiple lines inside the loop:"
      ]
    },
    {
      "cell_type": "code",
      "metadata": {
        "id": "aG0T0P7nTK5W",
        "colab_type": "code",
        "colab": {},
        "outputId": "b169fddd-1041-4dd6-fd06-2ff9adba75dc"
      },
      "source": [
        "for word in ['hello', 'world']:\n",
        "    x = word.capitalize()\n",
        "    print(x)"
      ],
      "execution_count": 0,
      "outputs": [
        {
          "output_type": "stream",
          "text": [
            "Hello\n",
            "World\n"
          ],
          "name": "stdout"
        }
      ]
    },
    {
      "cell_type": "markdown",
      "metadata": {
        "id": "aq9rE0TBTK5i",
        "colab_type": "text"
      },
      "source": [
        "## New Data Type: boolean\n",
        "\n",
        "The boolean type is simply a `True` or `False` value. Like integers and floating point numbers, you don't need to put quotation marks around `True` or `False`."
      ]
    },
    {
      "cell_type": "code",
      "metadata": {
        "id": "mi0d8FqsTK5j",
        "colab_type": "code",
        "colab": {},
        "outputId": "af368ffc-5e48-4b8a-f8a3-05ceae432dfd"
      },
      "source": [
        "newtype = True\n",
        "newtype"
      ],
      "execution_count": 0,
      "outputs": [
        {
          "output_type": "execute_result",
          "data": {
            "text/plain": [
              "True"
            ]
          },
          "metadata": {
            "tags": []
          },
          "execution_count": 17
        }
      ]
    },
    {
      "cell_type": "code",
      "metadata": {
        "id": "u4M1_V3xTK5q",
        "colab_type": "code",
        "colab": {},
        "outputId": "4de1f92d-eb10-4308-a6c2-dbb321348374"
      },
      "source": [
        "newtype = False\n",
        "newtype"
      ],
      "execution_count": 0,
      "outputs": [
        {
          "output_type": "execute_result",
          "data": {
            "text/plain": [
              "False"
            ]
          },
          "metadata": {
            "tags": []
          },
          "execution_count": 18
        }
      ]
    },
    {
      "cell_type": "markdown",
      "metadata": {
        "id": "hCA6aEbVTK5y",
        "colab_type": "text"
      },
      "source": [
        "## Comparisons\n",
        "\n",
        "There are a set of symbols that are used to compare two values. Usually, these return a boolean value: if the comparison statement is `True` or `False`. These are _logical operators_.\n",
        "\n",
        "The most basic operator is for equality, the `==` sign. For example:"
      ]
    },
    {
      "cell_type": "code",
      "metadata": {
        "id": "NlcyWXSQTK5z",
        "colab_type": "code",
        "colab": {},
        "outputId": "08940d0f-3913-4dbe-e7f9-e6de1dd2348c"
      },
      "source": [
        "1 == 1"
      ],
      "execution_count": 0,
      "outputs": [
        {
          "output_type": "execute_result",
          "data": {
            "text/plain": [
              "True"
            ]
          },
          "metadata": {
            "tags": []
          },
          "execution_count": 19
        }
      ]
    },
    {
      "cell_type": "code",
      "metadata": {
        "id": "-ipbTwCZTK56",
        "colab_type": "code",
        "colab": {},
        "outputId": "a5b200ca-682e-4faf-ae4a-1f1e5b170d3b"
      },
      "source": [
        "'hello' == 'hello'"
      ],
      "execution_count": 0,
      "outputs": [
        {
          "output_type": "execute_result",
          "data": {
            "text/plain": [
              "True"
            ]
          },
          "metadata": {
            "tags": []
          },
          "execution_count": 20
        }
      ]
    },
    {
      "cell_type": "code",
      "metadata": {
        "id": "k-EitVNGTK6Q",
        "colab_type": "code",
        "colab": {},
        "outputId": "d881bdb7-8d9a-4ecb-d588-d6ddccb06d69"
      },
      "source": [
        "'hello' == 'world'"
      ],
      "execution_count": 0,
      "outputs": [
        {
          "output_type": "execute_result",
          "data": {
            "text/plain": [
              "False"
            ]
          },
          "metadata": {
            "tags": []
          },
          "execution_count": 21
        }
      ]
    },
    {
      "cell_type": "code",
      "metadata": {
        "id": "JPvP3TKMTK6T",
        "colab_type": "code",
        "colab": {},
        "outputId": "24c8682c-34b3-4450-a513-26161eb1275b"
      },
      "source": [
        "[1, 2, 3] == [1, 2, 3]"
      ],
      "execution_count": 0,
      "outputs": [
        {
          "output_type": "execute_result",
          "data": {
            "text/plain": [
              "True"
            ]
          },
          "metadata": {
            "tags": []
          },
          "execution_count": 22
        }
      ]
    },
    {
      "cell_type": "markdown",
      "metadata": {
        "id": "2ywAY8yPTK6a",
        "colab_type": "text"
      },
      "source": [
        "Other logical operators include:\n",
        "\n",
        "- `!=` - Not equal\n",
        "- `<` - Less than\n",
        "- `>` - Greater than\n",
        "- `<=` - Less than or equal to\n",
        "- `>-` - Greater than or qual to\n",
        "\n",
        "Each of these is used the same as the equality operator. "
      ]
    },
    {
      "cell_type": "markdown",
      "metadata": {
        "id": "FyR4-H9MTK6a",
        "colab_type": "text"
      },
      "source": [
        "*Q*: Write a loop that prints the numbers from 1 to 5.\n",
        "\n",
        "*Q*: Set a variable `x` to 0, then write a loop to add the following numbers to it: 1,1,2,3,5,8,13,21."
      ]
    },
    {
      "cell_type": "markdown",
      "metadata": {
        "id": "CVuIXi8kTK6c",
        "colab_type": "text"
      },
      "source": [
        "*Q*: True or False:\n",
        "\n",
        "- \"hello\"+\"world\" == \"hello world\"\n",
        "- 2 != 3\n",
        "- 'a' < 'b'\n",
        "\n",
        "*Q*: In Python, are `1` (an integer) and `'1'` (a string) equivalent?\n",
        " - *Q*: What about `1` and `1.0`?\n",
        " \n",
        "*Q*: Functionally, what is the difference between the following two code blocks?\n",
        "\n",
        "_Code A_\n",
        "```\n",
        "s = 'hello world'\n",
        "s == 'hello moon'\n",
        "```\n",
        "\n",
        "_Code B_\n",
        "```\n",
        "s = 'hello world'\n",
        "s = 'hello moon'\n",
        "```\n",
        "\n",
        "*Q*: True or False: A list cannot have another list inside it."
      ]
    },
    {
      "cell_type": "code",
      "metadata": {
        "id": "v6ftVnHVTK6c",
        "colab_type": "code",
        "colab": {},
        "outputId": "df9097dd-1b8e-4cfa-e7f3-98cbaa2bbbaf"
      },
      "source": [
        "x = 0\n",
        "numbers = [1,10,20]\n",
        "\n",
        "for number in numbers:\n",
        "    x = x + number"
      ],
      "execution_count": 0,
      "outputs": [
        {
          "output_type": "stream",
          "text": [
            "The value of x is: 1\n",
            "The value of number is: 1\n",
            "\n",
            "The value of x is: 11\n",
            "The value of number is: 10\n",
            "\n",
            "The value of x is: 31\n",
            "The value of number is: 20\n",
            "\n"
          ],
          "name": "stdout"
        }
      ]
    },
    {
      "cell_type": "markdown",
      "metadata": {
        "id": "zrFuwqSxTK6j",
        "colab_type": "text"
      },
      "source": [
        "## Jupyter\n",
        "\n",
        "Hopefully by this week, you are growing more comfortable with starting Jupyter Notebooks and adding/editing cells. Remember that the keyboard shortcuts are invaluable: running a cell with `Ctrl+Enter`, or adding a new cell below with `B` (in command mode).\n",
        "\n",
        "Two tricks to try this week: autocompletion and retrieving documentation.\n",
        "\n",
        "**Autocomplete**\n",
        "\n",
        "If you start typing a known object or function into Jupyter, you can press `TAB` to finish it. This is especially useful for seeing what functions are available."
      ]
    },
    {
      "cell_type": "code",
      "metadata": {
        "id": "aLJ4cJ9kTK6k",
        "colab_type": "code",
        "colab": {}
      },
      "source": [
        "test = \"this is a string\""
      ],
      "execution_count": 0,
      "outputs": []
    },
    {
      "cell_type": "markdown",
      "metadata": {
        "id": "6WBoeQjpTK6r",
        "colab_type": "text"
      },
      "source": [
        "Above, I've set a string to `test`. If I type `te` then press tab, it will complete the word. This is especially useful for long variable names that you don't want to keep typing. Note that it only completed because there no other options: in that case, there's a scrollable list of candidates for what you might be looking for.\n",
        "\n",
        "The `test` variable is a string. To see what options there are for acting upon a string, try typing `test.` then press TAB. Magic!\n",
        "\n",
        "![Auto-fill](https://github.com/organisciak/Scripting-Course/blob/master/images/autofill.png?raw=1)\n",
        "\n",
        "** Documentation reference **\n",
        "\n",
        "If you want to look up information about a function, you can precede the code running that function with a `?`. For example, if I want to learn how I would use `split()` on `test`, I can type:"
      ]
    },
    {
      "cell_type": "code",
      "metadata": {
        "id": "dslJnA4yTK6r",
        "colab_type": "code",
        "colab": {}
      },
      "source": [
        "?test.split()"
      ],
      "execution_count": 0,
      "outputs": []
    },
    {
      "cell_type": "markdown",
      "metadata": {
        "id": "RugXWchETK6v",
        "colab_type": "text"
      },
      "source": [
        "This will open a panel that looks like this in Jupyter:\n",
        "\n",
        "![Info](https://github.com/organisciak/Scripting-Course/blob/master/images/info.png?raw=1)\n",
        "\n",
        "The documentation is only as good as what the library is documented, so some libraries might be more or less detailed in this feature.\n",
        "\n",
        "- *Q*: What does `test.isalpha()` do? Paste the documentation string.\n",
        "- *Q*: Strings have access to a function (whose name starts with a `ce`) that will let you change \"HEADING\" to \"====HEADING====\" (that is, padding with `=` to make the string 15 characters wide). What's the code to do that? (tip: this is an auto-fill question!)"
      ]
    },
    {
      "cell_type": "markdown",
      "metadata": {
        "id": "idY7GWtITK6w",
        "colab_type": "text"
      },
      "source": [
        "## Summary\n",
        "\n",
        "- SQLite\n",
        "    - Connecting to a simple database, via notebook (without Python) or command line\n",
        "- SQL\n",
        "    - `CREATE TABLE`\n",
        "    - `DROP TABLE`\n",
        "    - `SELECT`\n",
        "    - `INSERT`\n",
        "    - `WHERE` clause\n",
        "- Python\n",
        "    - Logical Operators\n",
        "        - `==`, `!=`, `<`, `<=`, `>`, `>=`\n",
        "    - `for` loops on arrays\n",
        "    - `print()`\n",
        "    - Tab indentation\n",
        "    - boolean datatype: `True`, `False`\n",
        "- Jupyter\n",
        "    - Auto-complete\n",
        "    - Documentation lookup"
      ]
    }
  ]
}